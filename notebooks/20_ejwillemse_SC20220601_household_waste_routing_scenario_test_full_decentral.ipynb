{
 "cells": [
  {
   "cell_type": "markdown",
   "metadata": {},
   "source": [
    "# Resource planning --- full"
   ]
  },
  {
   "cell_type": "code",
   "execution_count": 1,
   "metadata": {},
   "outputs": [
    {
     "data": {
      "text/html": [
       "<style>\n",
       "table {float:left}\n",
       "</style>\n"
      ],
      "text/plain": [
       "<IPython.core.display.HTML object>"
      ]
     },
     "metadata": {},
     "output_type": "display_data"
    }
   ],
   "source": [
    "%%html\n",
    "<style>\n",
    "table {float:left}\n",
    "</style>"
   ]
  },
  {
   "cell_type": "markdown",
   "metadata": {},
   "source": [
    "| Document info | |\n",
    "| --- | --- | \n",
    "| Area of interest: | Cape Town |\n",
    "| Planning type: | All REL type producers |\n",
    "| Prepared by: | Waste Labs (wastelabs.co) |\n",
    "| Prepared for: | Johan W. Joubert |\n",
    "| Contact: | elias@wastelabs.co |"
   ]
  },
  {
   "cell_type": "code",
   "execution_count": 2,
   "metadata": {},
   "outputs": [
    {
     "data": {
      "text/html": [
       "        <script type=\"text/javascript\">\n",
       "        window.PlotlyConfig = {MathJaxConfig: 'local'};\n",
       "        if (window.MathJax) {MathJax.Hub.Config({SVG: {font: \"STIX-Web\"}});}\n",
       "        if (typeof require !== 'undefined') {\n",
       "        require.undef(\"plotly\");\n",
       "        requirejs.config({\n",
       "            paths: {\n",
       "                'plotly': ['https://cdn.plot.ly/plotly-2.11.1.min']\n",
       "            }\n",
       "        });\n",
       "        require(['plotly'], function(Plotly) {\n",
       "            window._Plotly = Plotly;\n",
       "        });\n",
       "        }\n",
       "        </script>\n",
       "        "
      ]
     },
     "metadata": {},
     "output_type": "display_data"
    },
    {
     "data": {
      "text/html": [
       "        <script type=\"text/javascript\">\n",
       "        window.PlotlyConfig = {MathJaxConfig: 'local'};\n",
       "        if (window.MathJax) {MathJax.Hub.Config({SVG: {font: \"STIX-Web\"}});}\n",
       "        if (typeof require !== 'undefined') {\n",
       "        require.undef(\"plotly\");\n",
       "        requirejs.config({\n",
       "            paths: {\n",
       "                'plotly': ['https://cdn.plot.ly/plotly-2.11.1.min']\n",
       "            }\n",
       "        });\n",
       "        require(['plotly'], function(Plotly) {\n",
       "            window._Plotly = Plotly;\n",
       "        });\n",
       "        }\n",
       "        </script>\n",
       "        "
      ]
     },
     "metadata": {},
     "output_type": "display_data"
    },
    {
     "name": "stderr",
     "output_type": "stream",
     "text": [
      "/Users/ejwillemse/opt/anaconda3/envs/python_RD/lib/python3.8/site-packages/tables/__init__.py:99: DeprecationWarning:\n",
      "\n",
      "`np.typeDict` is a deprecated alias for `np.sctypeDict`.\n",
      "\n"
     ]
    },
    {
     "data": {
      "text/html": [
       "        <script type=\"text/javascript\">\n",
       "        window.PlotlyConfig = {MathJaxConfig: 'local'};\n",
       "        if (window.MathJax) {MathJax.Hub.Config({SVG: {font: \"STIX-Web\"}});}\n",
       "        if (typeof require !== 'undefined') {\n",
       "        require.undef(\"plotly\");\n",
       "        requirejs.config({\n",
       "            paths: {\n",
       "                'plotly': ['https://cdn.plot.ly/plotly-2.11.1.min']\n",
       "            }\n",
       "        });\n",
       "        require(['plotly'], function(Plotly) {\n",
       "            window._Plotly = Plotly;\n",
       "        });\n",
       "        }\n",
       "        </script>\n",
       "        "
      ]
     },
     "metadata": {},
     "output_type": "display_data"
    }
   ],
   "source": [
    "%load_ext autoreload\n",
    "%autoreload 2\n",
    "%config Completer.use_jedi = False\n",
    "\n",
    "# Show all code cells outputs\n",
    "from IPython.core.interactiveshell import InteractiveShell\n",
    "\n",
    "InteractiveShell.ast_node_interactivity = \"all\"\n",
    "\n",
    "import logging\n",
    "\n",
    "logging.basicConfig(level=logging.INFO)\n",
    "\n",
    "import pickle\n",
    "\n",
    "import chart_studio.plotly as py\n",
    "import plotly.express as px\n",
    "import plotly.graph_objs as go\n",
    "from plotly.offline import init_notebook_mode, iplot\n",
    "\n",
    "init_notebook_mode(connected=True)\n",
    "\n",
    "import cufflinks as cf\n",
    "\n",
    "cf.go_offline(connected=True)\n",
    "cf.set_config_file(colorscale=\"plotly\", world_readable=True)\n",
    "\n",
    "import os\n",
    "import sys\n",
    "\n",
    "import geopandas as gpd\n",
    "import ipywidgets as widgets\n",
    "import numpy as np\n",
    "import pandas as pd\n",
    "import plotly.graph_objects as go\n",
    "from GPSOdyssey import Kepler\n",
    "from IPython.display import clear_output\n",
    "from ipywidgets import fixed, interact, interact_manual, interactive\n",
    "from keplergl import KeplerGl\n",
    "from shapely import wkt\n",
    "\n",
    "# sys.path.insert(0, '../../../mcarptif/')\n",
    "# sys.path.insert(0, os.path.abspath('../../collection_diagnostics/'))\n",
    "# sys.path.insert(0, os.path.abspath('../../OSM_processing/'))\n",
    "import utils.process_gdf as process_gdf\n",
    "\n",
    "# Extra options\n",
    "pd.options.display.max_rows = 1000\n",
    "pd.options.display.max_columns = 1000\n",
    "\n",
    "from mcarptif.osmnx_network_extract.extract_grptif import NetworkExtract\n",
    "from mcarptif.osmnx_network_extract.network_code import create_gdf, required_arc_plot\n",
    "from mcarptif.solver.solve import solve_store_instance\n",
    "from mcarptif.visualise.route_tables import RouteSummary\n",
    "from utils.gdf_helpers import create_gdf\n",
    "\n",
    "\n",
    "def df_style(df):\n",
    "    if df[0] == \"Total\":\n",
    "        return [\"font-weight: bold\"] * len(df)\n",
    "    else:\n",
    "        return [\"\"] * len(df)"
   ]
  },
  {
   "cell_type": "markdown",
   "metadata": {},
   "source": [
    "## Load network data"
   ]
  },
  {
   "cell_type": "code",
   "execution_count": 3,
   "metadata": {},
   "outputs": [
    {
     "name": "stdout",
     "output_type": "stream",
     "text": [
      "2022-06-03 00:18:35,583 - kedro.io.data_catalog - INFO - Loading data from `road_network_simplified_24645_edges` (GeoJSONDataSet)...\n",
      "2022-06-03 00:18:37,245 - kedro.io.data_catalog - INFO - Loading data from `road_network_simplified_24645_edges_directed` (GeoJSONDataSet)...\n",
      "2022-06-03 00:18:38,377 - kedro.io.data_catalog - INFO - Loading data from `road_network_simplified_24645_nodes` (GeoJSONDataSet)...\n"
     ]
    }
   ],
   "source": [
    "networkh5_file = \"../data/05_model_input/sp_files/road_network_simplified_24645.h\"\n",
    "test_network = catalog.load(\"road_network_simplified_24645_edges\")\n",
    "test_network = test_network.drop(columns=[\"Unnamed: 0\"], errors=\"ignore\")\n",
    "test_network_directed = catalog.load(\"road_network_simplified_24645_edges_directed\")\n",
    "nodes = catalog.load(\"road_network_simplified_24645_nodes\")"
   ]
  },
  {
   "cell_type": "code",
   "execution_count": 4,
   "metadata": {},
   "outputs": [
    {
     "data": {
      "text/plain": [
       "(22189, 19)"
      ]
     },
     "execution_count": 4,
     "metadata": {},
     "output_type": "execute_result"
    }
   ],
   "source": [
    "test_network.shape"
   ]
  },
  {
   "cell_type": "code",
   "execution_count": 5,
   "metadata": {},
   "outputs": [
    {
     "name": "stdout",
     "output_type": "stream",
     "text": [
      "CPU times: user 814 ms, sys: 23.9 ms, total: 838 ms\n",
      "Wall time: 863 ms\n"
     ]
    },
    {
     "name": "stderr",
     "output_type": "stream",
     "text": [
      "/Users/ejwillemse/opt/anaconda3/envs/python_RD/lib/python3.8/site-packages/geopandas/geodataframe.py:199: UserWarning:\n",
      "\n",
      "Pandas doesn't allow columns to be created via a new attribute name - see https://pandas.pydata.org/pandas-docs/stable/indexing.html#attribute-access\n",
      "\n"
     ]
    }
   ],
   "source": [
    "%%time\n",
    "test_network = process_gdf.process_edges(test_network)\n",
    "test_network.drop_duplicates([\"geom_id\"], inplace=True)\n",
    "nodes.sp_index = nodes.index\n",
    "test_network[\"arc_index\"] = test_network.index\n",
    "nodes[\"sp_index\"] = nodes.index"
   ]
  },
  {
   "cell_type": "markdown",
   "metadata": {
    "tags": []
   },
   "source": [
    "## Run scenarios"
   ]
  },
  {
   "cell_type": "code",
   "execution_count": 9,
   "metadata": {
    "tags": []
   },
   "outputs": [
    {
     "name": "stdout",
     "output_type": "stream",
     "text": [
      "2022-06-03 00:18:47,258 - kedro.io.data_catalog - INFO - Loading data from `lat_lon_key_network_match_20220601` (CSVDataSet)...\n",
      "2022-06-03 00:18:47,431 - kedro.io.data_catalog - INFO - Loading data from `syn_pop_scenarios_local_20220601` (PartitionedDataSet)...\n",
      "2022-06-03 00:18:47,439 - kedro.io.data_catalog - INFO - Loading data from `infrastructure_sample_network_match` (CSVDataSet)...\n",
      "CPU times: user 159 ms, sys: 26.4 ms, total: 185 ms\n",
      "Wall time: 187 ms\n"
     ]
    }
   ],
   "source": [
    "%%time\n",
    "df_lat_lon_match = catalog.load(\"lat_lon_key_network_match_20220601\")\n",
    "df_producer_geo_all = catalog.load(\"syn_pop_scenarios_local_20220601\")\n",
    "infrastructure = catalog.load(\"infrastructure_sample_network_match\")\n",
    "#solved = list(catalog.load(\"resource_summary_table_20220601_decentral\"))"
   ]
  },
  {
   "cell_type": "code",
   "execution_count": 10,
   "metadata": {
    "tags": []
   },
   "outputs": [
    {
     "name": "stdout",
     "output_type": "stream",
     "text": [
      "\n",
      "\n",
      " RUNNING SCENARIO households_001\n",
      "2022-06-03 00:18:51,238 - kedro.io.data_catalog - INFO - Loading data from `waste_gen_scenarios_local_20220601` (PartitionedDataSet)...\n",
      "2022-06-03 00:18:51,263 - kedro.io.data_catalog - INFO - Loading data from `routing_parameters` (ExcelDataSet)...\n",
      "2022-06-03 00:18:51,705 - root - INFO - Preparing road network.......\n",
      "\n",
      "2022-06-03 00:18:51,781 - root - INFO - Load required arcs\n",
      "2022-06-03 00:18:51,783 - root - INFO - Merging with the network\n",
      "2022-06-03 00:18:51,816 - root - INFO - Set depot\n",
      "2022-06-03 00:18:51,821 - root - INFO - Set offload facilities\n",
      "2022-06-03 00:18:51,834 - root - INFO - Extend required arcs with inverse edge arcs\n"
     ]
    },
    {
     "name": "stderr",
     "output_type": "stream",
     "text": [
      "/Users/ejwillemse/opt/anaconda3/envs/python_RD/lib/python3.8/site-packages/tables/array.py:241: DeprecationWarning:\n",
      "\n",
      "`np.object` is a deprecated alias for the builtin `object`. To silence this warning, use `object` by itself. Doing this will not modify any behavior and is safe. \n",
      "Deprecated in NumPy 1.20; for more details and guidance: https://numpy.org/devdocs/release/1.20.0-notes.html#deprecations\n",
      "\n"
     ]
    },
    {
     "name": "stdout",
     "output_type": "stream",
     "text": [
      "2022-06-03 00:18:51,945 - root - INFO - Checking master list\n",
      "2022-06-03 00:18:51,951 - root - INFO - Load distance matrix: 8112 x 8112\n"
     ]
    },
    {
     "name": "stderr",
     "output_type": "stream",
     "text": [
      "/Users/ejwillemse/opt/anaconda3/envs/python_RD/lib/python3.8/site-packages/tables/array.py:241: DeprecationWarning:\n",
      "\n",
      "`np.object` is a deprecated alias for the builtin `object`. To silence this warning, use `object` by itself. Doing this will not modify any behavior and is safe. \n",
      "Deprecated in NumPy 1.20; for more details and guidance: https://numpy.org/devdocs/release/1.20.0-notes.html#deprecations\n",
      "\n",
      "/Users/ejwillemse/opt/anaconda3/envs/python_RD/lib/python3.8/site-packages/tables/leaf.py:544: VisibleDeprecationWarning:\n",
      "\n",
      "Creating an ndarray from ragged nested sequences (which is a list-or-tuple of lists-or-tuples-or ndarrays with different lengths or shapes) is deprecated. If you meant to do this, you must specify 'dtype=object' when creating the ndarray.\n",
      "\n"
     ]
    },
    {
     "name": "stdout",
     "output_type": "stream",
     "text": [
      "2022-06-03 00:18:59,370 - root - INFO - Creating nearest neighbour lists\n",
      "2022-06-03 00:19:03,298 - root - INFO - Calculate offloads: 8112 x 8112 x 2\n",
      "2022-06-03 00:19:13,027 - root - INFO - Done!\n",
      "2022-06-03 00:19:13,070 - root - INFO - Uploading scenario inputs...\n",
      "2022-06-03 00:19:13,104 - root - INFO - Setting service cost for network\n",
      "2022-06-03 00:19:13,116 - root - INFO - Setting demand for network\n",
      "2022-06-03 00:19:13,126 - root - INFO - Update travel durations.\n",
      "2022-06-03 00:19:13,418 - root - INFO - Update offload durations.\n",
      "2022-06-03 00:19:13,839 - root - INFO - Done\n",
      "2022-06-03 00:19:13,840 - root - INFO - Problem info supplied. Directly proceeding to solve problem.\n",
      "2022-06-03 00:19:49,579 - root - INFO - Done generating routes\n",
      "Number of routes: 18\n",
      "2022-06-03 00:19:49,580 - root - INFO - Preparing scenario outputs...\n"
     ]
    },
    {
     "name": "stderr",
     "output_type": "stream",
     "text": [
      "/Users/ejwillemse/opt/anaconda3/envs/python_RD/lib/python3.8/site-packages/tables/array.py:241: DeprecationWarning:\n",
      "\n",
      "`np.object` is a deprecated alias for the builtin `object`. To silence this warning, use `object` by itself. Doing this will not modify any behavior and is safe. \n",
      "Deprecated in NumPy 1.20; for more details and guidance: https://numpy.org/devdocs/release/1.20.0-notes.html#deprecations\n",
      "\n"
     ]
    },
    {
     "name": "stdout",
     "output_type": "stream",
     "text": [
      "2022-06-03 00:19:58,668 - root - INFO - Done preparing output\n",
      "2022-06-03 00:19:58,670 - kedro.io.data_catalog - INFO - Saving data to `resource_summary_table_20220601_decentral` (PartitionedDataSet)...\n"
     ]
    },
    {
     "name": "stderr",
     "output_type": "stream",
     "text": [
      "/Users/ejwillemse/dev/waste_labs_dev/project_rdi_cpt/src/mcarptif/visualise/route_tables.py:146: FutureWarning:\n",
      "\n",
      "The frame.append method is deprecated and will be removed from pandas in a future version. Use pandas.concat instead.\n",
      "\n"
     ]
    },
    {
     "name": "stdout",
     "output_type": "stream",
     "text": [
      "\n",
      "\n",
      " RUNNING SCENARIO households_002\n",
      "2022-06-03 00:19:59,169 - kedro.io.data_catalog - INFO - Loading data from `waste_gen_scenarios_local_20220601` (PartitionedDataSet)...\n",
      "2022-06-03 00:19:59,189 - kedro.io.data_catalog - INFO - Loading data from `routing_parameters` (ExcelDataSet)...\n",
      "2022-06-03 00:19:59,374 - root - INFO - Preparing road network.......\n",
      "\n",
      "2022-06-03 00:19:59,436 - root - INFO - Load required arcs\n",
      "2022-06-03 00:19:59,438 - root - INFO - Merging with the network\n",
      "2022-06-03 00:19:59,464 - root - INFO - Set depot\n",
      "2022-06-03 00:19:59,468 - root - INFO - Set offload facilities\n",
      "2022-06-03 00:19:59,478 - root - INFO - Extend required arcs with inverse edge arcs\n",
      "2022-06-03 00:19:59,571 - root - INFO - Checking master list\n",
      "2022-06-03 00:19:59,577 - root - INFO - Load distance matrix: 8115 x 8115\n"
     ]
    },
    {
     "name": "stderr",
     "output_type": "stream",
     "text": [
      "/Users/ejwillemse/opt/anaconda3/envs/python_RD/lib/python3.8/site-packages/tables/array.py:241: DeprecationWarning:\n",
      "\n",
      "`np.object` is a deprecated alias for the builtin `object`. To silence this warning, use `object` by itself. Doing this will not modify any behavior and is safe. \n",
      "Deprecated in NumPy 1.20; for more details and guidance: https://numpy.org/devdocs/release/1.20.0-notes.html#deprecations\n",
      "\n",
      "/Users/ejwillemse/opt/anaconda3/envs/python_RD/lib/python3.8/site-packages/tables/array.py:241: DeprecationWarning:\n",
      "\n",
      "`np.object` is a deprecated alias for the builtin `object`. To silence this warning, use `object` by itself. Doing this will not modify any behavior and is safe. \n",
      "Deprecated in NumPy 1.20; for more details and guidance: https://numpy.org/devdocs/release/1.20.0-notes.html#deprecations\n",
      "\n",
      "/Users/ejwillemse/opt/anaconda3/envs/python_RD/lib/python3.8/site-packages/tables/leaf.py:544: VisibleDeprecationWarning:\n",
      "\n",
      "Creating an ndarray from ragged nested sequences (which is a list-or-tuple of lists-or-tuples-or ndarrays with different lengths or shapes) is deprecated. If you meant to do this, you must specify 'dtype=object' when creating the ndarray.\n",
      "\n"
     ]
    },
    {
     "name": "stdout",
     "output_type": "stream",
     "text": [
      "2022-06-03 00:20:07,084 - root - INFO - Creating nearest neighbour lists\n",
      "2022-06-03 00:20:11,026 - root - INFO - Calculate offloads: 8115 x 8115 x 2\n",
      "2022-06-03 00:20:21,474 - root - INFO - Done!\n",
      "2022-06-03 00:20:21,537 - root - INFO - Uploading scenario inputs...\n",
      "2022-06-03 00:20:21,563 - root - INFO - Setting service cost for network\n",
      "2022-06-03 00:20:21,575 - root - INFO - Setting demand for network\n",
      "2022-06-03 00:20:21,586 - root - INFO - Update travel durations.\n",
      "2022-06-03 00:20:21,874 - root - INFO - Update offload durations.\n",
      "2022-06-03 00:20:22,290 - root - INFO - Done\n",
      "2022-06-03 00:20:22,291 - root - INFO - Problem info supplied. Directly proceeding to solve problem.\n",
      "2022-06-03 00:20:58,852 - root - INFO - Done generating routes\n",
      "Number of routes: 18\n",
      "2022-06-03 00:20:58,853 - root - INFO - Preparing scenario outputs...\n"
     ]
    },
    {
     "name": "stderr",
     "output_type": "stream",
     "text": [
      "/Users/ejwillemse/opt/anaconda3/envs/python_RD/lib/python3.8/site-packages/tables/array.py:241: DeprecationWarning:\n",
      "\n",
      "`np.object` is a deprecated alias for the builtin `object`. To silence this warning, use `object` by itself. Doing this will not modify any behavior and is safe. \n",
      "Deprecated in NumPy 1.20; for more details and guidance: https://numpy.org/devdocs/release/1.20.0-notes.html#deprecations\n",
      "\n"
     ]
    },
    {
     "name": "stdout",
     "output_type": "stream",
     "text": [
      "2022-06-03 00:21:09,670 - root - INFO - Done preparing output\n",
      "2022-06-03 00:21:09,672 - kedro.io.data_catalog - INFO - Saving data to `resource_summary_table_20220601_decentral` (PartitionedDataSet)...\n"
     ]
    },
    {
     "name": "stderr",
     "output_type": "stream",
     "text": [
      "/Users/ejwillemse/dev/waste_labs_dev/project_rdi_cpt/src/mcarptif/visualise/route_tables.py:146: FutureWarning:\n",
      "\n",
      "The frame.append method is deprecated and will be removed from pandas in a future version. Use pandas.concat instead.\n",
      "\n"
     ]
    },
    {
     "name": "stdout",
     "output_type": "stream",
     "text": [
      "\n",
      "\n",
      " RUNNING SCENARIO households_003\n",
      "2022-06-03 00:21:10,167 - kedro.io.data_catalog - INFO - Loading data from `waste_gen_scenarios_local_20220601` (PartitionedDataSet)...\n",
      "2022-06-03 00:21:10,193 - kedro.io.data_catalog - INFO - Loading data from `routing_parameters` (ExcelDataSet)...\n",
      "2022-06-03 00:21:10,382 - root - INFO - Preparing road network.......\n",
      "\n",
      "2022-06-03 00:21:10,460 - root - INFO - Load required arcs\n",
      "2022-06-03 00:21:10,461 - root - INFO - Merging with the network\n",
      "2022-06-03 00:21:10,486 - root - INFO - Set depot\n",
      "2022-06-03 00:21:10,490 - root - INFO - Set offload facilities\n",
      "2022-06-03 00:21:10,502 - root - INFO - Extend required arcs with inverse edge arcs\n",
      "2022-06-03 00:21:10,594 - root - INFO - Checking master list\n"
     ]
    },
    {
     "name": "stderr",
     "output_type": "stream",
     "text": [
      "/Users/ejwillemse/opt/anaconda3/envs/python_RD/lib/python3.8/site-packages/tables/array.py:241: DeprecationWarning:\n",
      "\n",
      "`np.object` is a deprecated alias for the builtin `object`. To silence this warning, use `object` by itself. Doing this will not modify any behavior and is safe. \n",
      "Deprecated in NumPy 1.20; for more details and guidance: https://numpy.org/devdocs/release/1.20.0-notes.html#deprecations\n",
      "\n"
     ]
    },
    {
     "name": "stdout",
     "output_type": "stream",
     "text": [
      "2022-06-03 00:21:10,601 - root - INFO - Load distance matrix: 8122 x 8122\n"
     ]
    },
    {
     "name": "stderr",
     "output_type": "stream",
     "text": [
      "/Users/ejwillemse/opt/anaconda3/envs/python_RD/lib/python3.8/site-packages/tables/array.py:241: DeprecationWarning:\n",
      "\n",
      "`np.object` is a deprecated alias for the builtin `object`. To silence this warning, use `object` by itself. Doing this will not modify any behavior and is safe. \n",
      "Deprecated in NumPy 1.20; for more details and guidance: https://numpy.org/devdocs/release/1.20.0-notes.html#deprecations\n",
      "\n",
      "/Users/ejwillemse/opt/anaconda3/envs/python_RD/lib/python3.8/site-packages/tables/leaf.py:544: VisibleDeprecationWarning:\n",
      "\n",
      "Creating an ndarray from ragged nested sequences (which is a list-or-tuple of lists-or-tuples-or ndarrays with different lengths or shapes) is deprecated. If you meant to do this, you must specify 'dtype=object' when creating the ndarray.\n",
      "\n"
     ]
    },
    {
     "name": "stdout",
     "output_type": "stream",
     "text": [
      "2022-06-03 00:21:18,192 - root - INFO - Creating nearest neighbour lists\n",
      "2022-06-03 00:21:21,938 - root - INFO - Calculate offloads: 8122 x 8122 x 2\n",
      "2022-06-03 00:21:33,100 - root - INFO - Done!\n",
      "2022-06-03 00:21:33,734 - root - INFO - Uploading scenario inputs...\n",
      "2022-06-03 00:21:33,772 - root - INFO - Setting service cost for network\n",
      "2022-06-03 00:21:33,785 - root - INFO - Setting demand for network\n",
      "2022-06-03 00:21:33,797 - root - INFO - Update travel durations.\n",
      "2022-06-03 00:21:34,212 - root - INFO - Update offload durations.\n",
      "2022-06-03 00:21:34,620 - root - INFO - Done\n",
      "2022-06-03 00:21:34,621 - root - INFO - Problem info supplied. Directly proceeding to solve problem.\n",
      "2022-06-03 00:22:09,790 - root - INFO - Done generating routes\n",
      "Number of routes: 18\n",
      "2022-06-03 00:22:09,791 - root - INFO - Preparing scenario outputs...\n"
     ]
    },
    {
     "name": "stderr",
     "output_type": "stream",
     "text": [
      "/Users/ejwillemse/opt/anaconda3/envs/python_RD/lib/python3.8/site-packages/tables/array.py:241: DeprecationWarning:\n",
      "\n",
      "`np.object` is a deprecated alias for the builtin `object`. To silence this warning, use `object` by itself. Doing this will not modify any behavior and is safe. \n",
      "Deprecated in NumPy 1.20; for more details and guidance: https://numpy.org/devdocs/release/1.20.0-notes.html#deprecations\n",
      "\n"
     ]
    },
    {
     "name": "stdout",
     "output_type": "stream",
     "text": [
      "2022-06-03 00:22:20,223 - root - INFO - Done preparing output\n",
      "2022-06-03 00:22:20,224 - kedro.io.data_catalog - INFO - Saving data to `resource_summary_table_20220601_decentral` (PartitionedDataSet)...\n"
     ]
    },
    {
     "name": "stderr",
     "output_type": "stream",
     "text": [
      "/Users/ejwillemse/dev/waste_labs_dev/project_rdi_cpt/src/mcarptif/visualise/route_tables.py:146: FutureWarning:\n",
      "\n",
      "The frame.append method is deprecated and will be removed from pandas in a future version. Use pandas.concat instead.\n",
      "\n"
     ]
    },
    {
     "name": "stdout",
     "output_type": "stream",
     "text": [
      "\n",
      "\n",
      " RUNNING SCENARIO households_004\n",
      "2022-06-03 00:22:20,718 - kedro.io.data_catalog - INFO - Loading data from `waste_gen_scenarios_local_20220601` (PartitionedDataSet)...\n",
      "2022-06-03 00:22:20,736 - kedro.io.data_catalog - INFO - Loading data from `routing_parameters` (ExcelDataSet)...\n",
      "2022-06-03 00:22:20,903 - root - INFO - Preparing road network.......\n",
      "\n",
      "2022-06-03 00:22:20,965 - root - INFO - Load required arcs\n",
      "2022-06-03 00:22:20,967 - root - INFO - Merging with the network\n",
      "2022-06-03 00:22:20,991 - root - INFO - Set depot\n",
      "2022-06-03 00:22:20,994 - root - INFO - Set offload facilities\n",
      "2022-06-03 00:22:21,005 - root - INFO - Extend required arcs with inverse edge arcs\n"
     ]
    },
    {
     "name": "stderr",
     "output_type": "stream",
     "text": [
      "/Users/ejwillemse/opt/anaconda3/envs/python_RD/lib/python3.8/site-packages/tables/array.py:241: DeprecationWarning:\n",
      "\n",
      "`np.object` is a deprecated alias for the builtin `object`. To silence this warning, use `object` by itself. Doing this will not modify any behavior and is safe. \n",
      "Deprecated in NumPy 1.20; for more details and guidance: https://numpy.org/devdocs/release/1.20.0-notes.html#deprecations\n",
      "\n"
     ]
    },
    {
     "name": "stdout",
     "output_type": "stream",
     "text": [
      "2022-06-03 00:22:21,139 - root - INFO - Checking master list\n",
      "2022-06-03 00:22:21,145 - root - INFO - Load distance matrix: 8147 x 8147\n"
     ]
    },
    {
     "name": "stderr",
     "output_type": "stream",
     "text": [
      "/Users/ejwillemse/opt/anaconda3/envs/python_RD/lib/python3.8/site-packages/tables/array.py:241: DeprecationWarning:\n",
      "\n",
      "`np.object` is a deprecated alias for the builtin `object`. To silence this warning, use `object` by itself. Doing this will not modify any behavior and is safe. \n",
      "Deprecated in NumPy 1.20; for more details and guidance: https://numpy.org/devdocs/release/1.20.0-notes.html#deprecations\n",
      "\n",
      "/Users/ejwillemse/opt/anaconda3/envs/python_RD/lib/python3.8/site-packages/tables/leaf.py:544: VisibleDeprecationWarning:\n",
      "\n",
      "Creating an ndarray from ragged nested sequences (which is a list-or-tuple of lists-or-tuples-or ndarrays with different lengths or shapes) is deprecated. If you meant to do this, you must specify 'dtype=object' when creating the ndarray.\n",
      "\n"
     ]
    },
    {
     "name": "stdout",
     "output_type": "stream",
     "text": [
      "2022-06-03 00:22:28,788 - root - INFO - Creating nearest neighbour lists\n",
      "2022-06-03 00:22:32,701 - root - INFO - Calculate offloads: 8147 x 8147 x 2\n",
      "2022-06-03 00:22:43,312 - root - INFO - Done!\n",
      "2022-06-03 00:22:43,393 - root - INFO - Uploading scenario inputs...\n",
      "2022-06-03 00:22:43,425 - root - INFO - Setting service cost for network\n",
      "2022-06-03 00:22:43,437 - root - INFO - Setting demand for network\n",
      "2022-06-03 00:22:43,446 - root - INFO - Update travel durations.\n",
      "2022-06-03 00:22:43,727 - root - INFO - Update offload durations.\n",
      "2022-06-03 00:22:44,120 - root - INFO - Done\n",
      "2022-06-03 00:22:44,121 - root - INFO - Problem info supplied. Directly proceeding to solve problem.\n",
      "2022-06-03 00:23:21,076 - root - INFO - Done generating routes\n",
      "Number of routes: 18\n",
      "2022-06-03 00:23:21,078 - root - INFO - Preparing scenario outputs...\n"
     ]
    },
    {
     "name": "stderr",
     "output_type": "stream",
     "text": [
      "/Users/ejwillemse/opt/anaconda3/envs/python_RD/lib/python3.8/site-packages/tables/array.py:241: DeprecationWarning:\n",
      "\n",
      "`np.object` is a deprecated alias for the builtin `object`. To silence this warning, use `object` by itself. Doing this will not modify any behavior and is safe. \n",
      "Deprecated in NumPy 1.20; for more details and guidance: https://numpy.org/devdocs/release/1.20.0-notes.html#deprecations\n",
      "\n"
     ]
    },
    {
     "name": "stdout",
     "output_type": "stream",
     "text": [
      "2022-06-03 00:23:30,977 - root - INFO - Done preparing output\n",
      "2022-06-03 00:23:30,996 - kedro.io.data_catalog - INFO - Saving data to `resource_summary_table_20220601_decentral` (PartitionedDataSet)...\n"
     ]
    },
    {
     "name": "stderr",
     "output_type": "stream",
     "text": [
      "/Users/ejwillemse/dev/waste_labs_dev/project_rdi_cpt/src/mcarptif/visualise/route_tables.py:146: FutureWarning:\n",
      "\n",
      "The frame.append method is deprecated and will be removed from pandas in a future version. Use pandas.concat instead.\n",
      "\n"
     ]
    },
    {
     "name": "stdout",
     "output_type": "stream",
     "text": [
      "\n",
      "\n",
      " RUNNING SCENARIO households_005\n",
      "2022-06-03 00:23:31,480 - kedro.io.data_catalog - INFO - Loading data from `waste_gen_scenarios_local_20220601` (PartitionedDataSet)...\n",
      "2022-06-03 00:23:31,498 - kedro.io.data_catalog - INFO - Loading data from `routing_parameters` (ExcelDataSet)...\n",
      "2022-06-03 00:23:31,684 - root - INFO - Preparing road network.......\n",
      "\n",
      "2022-06-03 00:23:31,756 - root - INFO - Load required arcs\n",
      "2022-06-03 00:23:31,758 - root - INFO - Merging with the network\n",
      "2022-06-03 00:23:31,790 - root - INFO - Set depot\n",
      "2022-06-03 00:23:31,796 - root - INFO - Set offload facilities\n",
      "2022-06-03 00:23:31,810 - root - INFO - Extend required arcs with inverse edge arcs\n"
     ]
    },
    {
     "name": "stderr",
     "output_type": "stream",
     "text": [
      "/Users/ejwillemse/opt/anaconda3/envs/python_RD/lib/python3.8/site-packages/tables/array.py:241: DeprecationWarning:\n",
      "\n",
      "`np.object` is a deprecated alias for the builtin `object`. To silence this warning, use `object` by itself. Doing this will not modify any behavior and is safe. \n",
      "Deprecated in NumPy 1.20; for more details and guidance: https://numpy.org/devdocs/release/1.20.0-notes.html#deprecations\n",
      "\n"
     ]
    },
    {
     "name": "stdout",
     "output_type": "stream",
     "text": [
      "2022-06-03 00:23:31,912 - root - INFO - Checking master list\n",
      "2022-06-03 00:23:31,919 - root - INFO - Load distance matrix: 8135 x 8135\n"
     ]
    },
    {
     "name": "stderr",
     "output_type": "stream",
     "text": [
      "/Users/ejwillemse/opt/anaconda3/envs/python_RD/lib/python3.8/site-packages/tables/array.py:241: DeprecationWarning:\n",
      "\n",
      "`np.object` is a deprecated alias for the builtin `object`. To silence this warning, use `object` by itself. Doing this will not modify any behavior and is safe. \n",
      "Deprecated in NumPy 1.20; for more details and guidance: https://numpy.org/devdocs/release/1.20.0-notes.html#deprecations\n",
      "\n",
      "/Users/ejwillemse/opt/anaconda3/envs/python_RD/lib/python3.8/site-packages/tables/leaf.py:544: VisibleDeprecationWarning:\n",
      "\n",
      "Creating an ndarray from ragged nested sequences (which is a list-or-tuple of lists-or-tuples-or ndarrays with different lengths or shapes) is deprecated. If you meant to do this, you must specify 'dtype=object' when creating the ndarray.\n",
      "\n"
     ]
    },
    {
     "name": "stdout",
     "output_type": "stream",
     "text": [
      "2022-06-03 00:23:40,025 - root - INFO - Creating nearest neighbour lists\n",
      "2022-06-03 00:23:43,542 - root - INFO - Calculate offloads: 8135 x 8135 x 2\n",
      "2022-06-03 00:23:54,271 - root - INFO - Done!\n",
      "2022-06-03 00:23:54,345 - root - INFO - Uploading scenario inputs...\n",
      "2022-06-03 00:23:54,380 - root - INFO - Setting service cost for network\n",
      "2022-06-03 00:23:54,391 - root - INFO - Setting demand for network\n",
      "2022-06-03 00:23:54,403 - root - INFO - Update travel durations.\n",
      "2022-06-03 00:23:54,687 - root - INFO - Update offload durations.\n",
      "2022-06-03 00:23:55,123 - root - INFO - Done\n",
      "2022-06-03 00:23:55,125 - root - INFO - Problem info supplied. Directly proceeding to solve problem.\n",
      "2022-06-03 00:24:29,667 - root - INFO - Done generating routes\n",
      "Number of routes: 18\n",
      "2022-06-03 00:24:29,668 - root - INFO - Preparing scenario outputs...\n"
     ]
    },
    {
     "name": "stderr",
     "output_type": "stream",
     "text": [
      "/Users/ejwillemse/opt/anaconda3/envs/python_RD/lib/python3.8/site-packages/tables/array.py:241: DeprecationWarning:\n",
      "\n",
      "`np.object` is a deprecated alias for the builtin `object`. To silence this warning, use `object` by itself. Doing this will not modify any behavior and is safe. \n",
      "Deprecated in NumPy 1.20; for more details and guidance: https://numpy.org/devdocs/release/1.20.0-notes.html#deprecations\n",
      "\n"
     ]
    },
    {
     "name": "stdout",
     "output_type": "stream",
     "text": [
      "2022-06-03 00:24:37,957 - root - INFO - Done preparing output\n",
      "2022-06-03 00:24:37,958 - kedro.io.data_catalog - INFO - Saving data to `resource_summary_table_20220601_decentral` (PartitionedDataSet)...\n"
     ]
    },
    {
     "name": "stderr",
     "output_type": "stream",
     "text": [
      "/Users/ejwillemse/dev/waste_labs_dev/project_rdi_cpt/src/mcarptif/visualise/route_tables.py:146: FutureWarning:\n",
      "\n",
      "The frame.append method is deprecated and will be removed from pandas in a future version. Use pandas.concat instead.\n",
      "\n"
     ]
    },
    {
     "name": "stdout",
     "output_type": "stream",
     "text": [
      "\n",
      "\n",
      " RUNNING SCENARIO households_006\n",
      "2022-06-03 00:24:38,405 - kedro.io.data_catalog - INFO - Loading data from `waste_gen_scenarios_local_20220601` (PartitionedDataSet)...\n",
      "2022-06-03 00:24:38,424 - kedro.io.data_catalog - INFO - Loading data from `routing_parameters` (ExcelDataSet)...\n",
      "2022-06-03 00:24:38,595 - root - INFO - Preparing road network.......\n",
      "\n",
      "2022-06-03 00:24:38,649 - root - INFO - Load required arcs\n",
      "2022-06-03 00:24:38,650 - root - INFO - Merging with the network\n",
      "2022-06-03 00:24:38,674 - root - INFO - Set depot\n",
      "2022-06-03 00:24:38,678 - root - INFO - Set offload facilities\n",
      "2022-06-03 00:24:38,687 - root - INFO - Extend required arcs with inverse edge arcs\n",
      "2022-06-03 00:24:38,766 - root - INFO - Checking master list\n",
      "2022-06-03 00:24:38,771 - root - INFO - Load distance matrix: 8131 x 8131\n"
     ]
    },
    {
     "name": "stderr",
     "output_type": "stream",
     "text": [
      "/Users/ejwillemse/opt/anaconda3/envs/python_RD/lib/python3.8/site-packages/tables/array.py:241: DeprecationWarning:\n",
      "\n",
      "`np.object` is a deprecated alias for the builtin `object`. To silence this warning, use `object` by itself. Doing this will not modify any behavior and is safe. \n",
      "Deprecated in NumPy 1.20; for more details and guidance: https://numpy.org/devdocs/release/1.20.0-notes.html#deprecations\n",
      "\n",
      "/Users/ejwillemse/opt/anaconda3/envs/python_RD/lib/python3.8/site-packages/tables/array.py:241: DeprecationWarning:\n",
      "\n",
      "`np.object` is a deprecated alias for the builtin `object`. To silence this warning, use `object` by itself. Doing this will not modify any behavior and is safe. \n",
      "Deprecated in NumPy 1.20; for more details and guidance: https://numpy.org/devdocs/release/1.20.0-notes.html#deprecations\n",
      "\n",
      "/Users/ejwillemse/opt/anaconda3/envs/python_RD/lib/python3.8/site-packages/tables/leaf.py:544: VisibleDeprecationWarning:\n",
      "\n",
      "Creating an ndarray from ragged nested sequences (which is a list-or-tuple of lists-or-tuples-or ndarrays with different lengths or shapes) is deprecated. If you meant to do this, you must specify 'dtype=object' when creating the ndarray.\n",
      "\n"
     ]
    },
    {
     "name": "stdout",
     "output_type": "stream",
     "text": [
      "2022-06-03 00:24:46,173 - root - INFO - Creating nearest neighbour lists\n",
      "2022-06-03 00:24:49,737 - root - INFO - Calculate offloads: 8131 x 8131 x 2\n",
      "2022-06-03 00:24:58,451 - root - INFO - Done!\n",
      "2022-06-03 00:24:58,521 - root - INFO - Uploading scenario inputs...\n",
      "2022-06-03 00:24:58,546 - root - INFO - Setting service cost for network\n",
      "2022-06-03 00:24:58,556 - root - INFO - Setting demand for network\n",
      "2022-06-03 00:24:58,567 - root - INFO - Update travel durations.\n",
      "2022-06-03 00:24:58,816 - root - INFO - Update offload durations.\n",
      "2022-06-03 00:24:59,187 - root - INFO - Done\n",
      "2022-06-03 00:24:59,188 - root - INFO - Problem info supplied. Directly proceeding to solve problem.\n",
      "2022-06-03 00:25:31,848 - root - INFO - Done generating routes\n",
      "Number of routes: 18\n",
      "2022-06-03 00:25:31,849 - root - INFO - Preparing scenario outputs...\n"
     ]
    },
    {
     "name": "stderr",
     "output_type": "stream",
     "text": [
      "/Users/ejwillemse/opt/anaconda3/envs/python_RD/lib/python3.8/site-packages/tables/array.py:241: DeprecationWarning:\n",
      "\n",
      "`np.object` is a deprecated alias for the builtin `object`. To silence this warning, use `object` by itself. Doing this will not modify any behavior and is safe. \n",
      "Deprecated in NumPy 1.20; for more details and guidance: https://numpy.org/devdocs/release/1.20.0-notes.html#deprecations\n",
      "\n"
     ]
    },
    {
     "name": "stdout",
     "output_type": "stream",
     "text": [
      "2022-06-03 00:25:40,196 - root - INFO - Done preparing output\n",
      "2022-06-03 00:25:40,198 - kedro.io.data_catalog - INFO - Saving data to `resource_summary_table_20220601_decentral` (PartitionedDataSet)...\n"
     ]
    },
    {
     "name": "stderr",
     "output_type": "stream",
     "text": [
      "/Users/ejwillemse/dev/waste_labs_dev/project_rdi_cpt/src/mcarptif/visualise/route_tables.py:146: FutureWarning:\n",
      "\n",
      "The frame.append method is deprecated and will be removed from pandas in a future version. Use pandas.concat instead.\n",
      "\n"
     ]
    },
    {
     "name": "stdout",
     "output_type": "stream",
     "text": [
      "\n",
      "\n",
      " RUNNING SCENARIO households_007\n",
      "2022-06-03 00:25:40,654 - kedro.io.data_catalog - INFO - Loading data from `waste_gen_scenarios_local_20220601` (PartitionedDataSet)...\n",
      "2022-06-03 00:25:40,674 - kedro.io.data_catalog - INFO - Loading data from `routing_parameters` (ExcelDataSet)...\n",
      "2022-06-03 00:25:40,835 - root - INFO - Preparing road network.......\n",
      "\n",
      "2022-06-03 00:25:40,892 - root - INFO - Load required arcs\n",
      "2022-06-03 00:25:40,893 - root - INFO - Merging with the network\n",
      "2022-06-03 00:25:40,916 - root - INFO - Set depot\n",
      "2022-06-03 00:25:40,920 - root - INFO - Set offload facilities\n",
      "2022-06-03 00:25:40,930 - root - INFO - Extend required arcs with inverse edge arcs\n",
      "2022-06-03 00:25:41,010 - root - INFO - Checking master list\n",
      "2022-06-03 00:25:41,015 - root - INFO - Load distance matrix: 8129 x 8129\n"
     ]
    },
    {
     "name": "stderr",
     "output_type": "stream",
     "text": [
      "/Users/ejwillemse/opt/anaconda3/envs/python_RD/lib/python3.8/site-packages/tables/array.py:241: DeprecationWarning:\n",
      "\n",
      "`np.object` is a deprecated alias for the builtin `object`. To silence this warning, use `object` by itself. Doing this will not modify any behavior and is safe. \n",
      "Deprecated in NumPy 1.20; for more details and guidance: https://numpy.org/devdocs/release/1.20.0-notes.html#deprecations\n",
      "\n",
      "/Users/ejwillemse/opt/anaconda3/envs/python_RD/lib/python3.8/site-packages/tables/array.py:241: DeprecationWarning:\n",
      "\n",
      "`np.object` is a deprecated alias for the builtin `object`. To silence this warning, use `object` by itself. Doing this will not modify any behavior and is safe. \n",
      "Deprecated in NumPy 1.20; for more details and guidance: https://numpy.org/devdocs/release/1.20.0-notes.html#deprecations\n",
      "\n",
      "/Users/ejwillemse/opt/anaconda3/envs/python_RD/lib/python3.8/site-packages/tables/leaf.py:544: VisibleDeprecationWarning:\n",
      "\n",
      "Creating an ndarray from ragged nested sequences (which is a list-or-tuple of lists-or-tuples-or ndarrays with different lengths or shapes) is deprecated. If you meant to do this, you must specify 'dtype=object' when creating the ndarray.\n",
      "\n"
     ]
    },
    {
     "name": "stdout",
     "output_type": "stream",
     "text": [
      "2022-06-03 00:25:48,319 - root - INFO - Creating nearest neighbour lists\n",
      "2022-06-03 00:25:51,789 - root - INFO - Calculate offloads: 8129 x 8129 x 2\n",
      "2022-06-03 00:25:59,842 - root - INFO - Done!\n",
      "2022-06-03 00:25:59,879 - root - INFO - Uploading scenario inputs...\n",
      "2022-06-03 00:25:59,911 - root - INFO - Setting service cost for network\n",
      "2022-06-03 00:25:59,920 - root - INFO - Setting demand for network\n",
      "2022-06-03 00:25:59,930 - root - INFO - Update travel durations.\n",
      "2022-06-03 00:26:00,195 - root - INFO - Update offload durations.\n",
      "2022-06-03 00:26:00,565 - root - INFO - Done\n",
      "2022-06-03 00:26:00,566 - root - INFO - Problem info supplied. Directly proceeding to solve problem.\n",
      "2022-06-03 00:26:33,627 - root - INFO - Done generating routes\n",
      "Number of routes: 18\n",
      "2022-06-03 00:26:33,628 - root - INFO - Preparing scenario outputs...\n"
     ]
    },
    {
     "name": "stderr",
     "output_type": "stream",
     "text": [
      "/Users/ejwillemse/opt/anaconda3/envs/python_RD/lib/python3.8/site-packages/tables/array.py:241: DeprecationWarning:\n",
      "\n",
      "`np.object` is a deprecated alias for the builtin `object`. To silence this warning, use `object` by itself. Doing this will not modify any behavior and is safe. \n",
      "Deprecated in NumPy 1.20; for more details and guidance: https://numpy.org/devdocs/release/1.20.0-notes.html#deprecations\n",
      "\n"
     ]
    },
    {
     "name": "stdout",
     "output_type": "stream",
     "text": [
      "2022-06-03 00:26:41,769 - root - INFO - Done preparing output\n",
      "2022-06-03 00:26:41,770 - kedro.io.data_catalog - INFO - Saving data to `resource_summary_table_20220601_decentral` (PartitionedDataSet)...\n"
     ]
    },
    {
     "name": "stderr",
     "output_type": "stream",
     "text": [
      "/Users/ejwillemse/dev/waste_labs_dev/project_rdi_cpt/src/mcarptif/visualise/route_tables.py:146: FutureWarning:\n",
      "\n",
      "The frame.append method is deprecated and will be removed from pandas in a future version. Use pandas.concat instead.\n",
      "\n"
     ]
    },
    {
     "name": "stdout",
     "output_type": "stream",
     "text": [
      "\n",
      "\n",
      " RUNNING SCENARIO households_008\n",
      "2022-06-03 00:26:42,214 - kedro.io.data_catalog - INFO - Loading data from `waste_gen_scenarios_local_20220601` (PartitionedDataSet)...\n",
      "2022-06-03 00:26:42,233 - kedro.io.data_catalog - INFO - Loading data from `routing_parameters` (ExcelDataSet)...\n",
      "2022-06-03 00:26:42,378 - root - INFO - Preparing road network.......\n",
      "\n",
      "2022-06-03 00:26:42,433 - root - INFO - Load required arcs\n",
      "2022-06-03 00:26:42,434 - root - INFO - Merging with the network\n",
      "2022-06-03 00:26:42,457 - root - INFO - Set depot\n",
      "2022-06-03 00:26:42,461 - root - INFO - Set offload facilities\n",
      "2022-06-03 00:26:42,472 - root - INFO - Extend required arcs with inverse edge arcs\n",
      "2022-06-03 00:26:42,549 - root - INFO - Checking master list\n",
      "2022-06-03 00:26:42,556 - root - INFO - Load distance matrix: 8123 x 8123\n"
     ]
    },
    {
     "name": "stderr",
     "output_type": "stream",
     "text": [
      "/Users/ejwillemse/opt/anaconda3/envs/python_RD/lib/python3.8/site-packages/tables/array.py:241: DeprecationWarning:\n",
      "\n",
      "`np.object` is a deprecated alias for the builtin `object`. To silence this warning, use `object` by itself. Doing this will not modify any behavior and is safe. \n",
      "Deprecated in NumPy 1.20; for more details and guidance: https://numpy.org/devdocs/release/1.20.0-notes.html#deprecations\n",
      "\n",
      "/Users/ejwillemse/opt/anaconda3/envs/python_RD/lib/python3.8/site-packages/tables/array.py:241: DeprecationWarning:\n",
      "\n",
      "`np.object` is a deprecated alias for the builtin `object`. To silence this warning, use `object` by itself. Doing this will not modify any behavior and is safe. \n",
      "Deprecated in NumPy 1.20; for more details and guidance: https://numpy.org/devdocs/release/1.20.0-notes.html#deprecations\n",
      "\n",
      "/Users/ejwillemse/opt/anaconda3/envs/python_RD/lib/python3.8/site-packages/tables/leaf.py:544: VisibleDeprecationWarning:\n",
      "\n",
      "Creating an ndarray from ragged nested sequences (which is a list-or-tuple of lists-or-tuples-or ndarrays with different lengths or shapes) is deprecated. If you meant to do this, you must specify 'dtype=object' when creating the ndarray.\n",
      "\n"
     ]
    },
    {
     "name": "stdout",
     "output_type": "stream",
     "text": [
      "2022-06-03 00:26:49,091 - root - INFO - Creating nearest neighbour lists\n",
      "2022-06-03 00:26:52,418 - root - INFO - Calculate offloads: 8123 x 8123 x 2\n",
      "2022-06-03 00:27:00,027 - root - INFO - Done!\n",
      "2022-06-03 00:27:00,101 - root - INFO - Uploading scenario inputs...\n",
      "2022-06-03 00:27:00,127 - root - INFO - Setting service cost for network\n",
      "2022-06-03 00:27:00,138 - root - INFO - Setting demand for network\n",
      "2022-06-03 00:27:00,148 - root - INFO - Update travel durations.\n",
      "2022-06-03 00:27:00,408 - root - INFO - Update offload durations.\n",
      "2022-06-03 00:27:00,767 - root - INFO - Done\n",
      "2022-06-03 00:27:00,768 - root - INFO - Problem info supplied. Directly proceeding to solve problem.\n",
      "2022-06-03 00:27:33,158 - root - INFO - Done generating routes\n",
      "Number of routes: 18\n",
      "2022-06-03 00:27:33,159 - root - INFO - Preparing scenario outputs...\n"
     ]
    },
    {
     "name": "stderr",
     "output_type": "stream",
     "text": [
      "/Users/ejwillemse/opt/anaconda3/envs/python_RD/lib/python3.8/site-packages/tables/array.py:241: DeprecationWarning:\n",
      "\n",
      "`np.object` is a deprecated alias for the builtin `object`. To silence this warning, use `object` by itself. Doing this will not modify any behavior and is safe. \n",
      "Deprecated in NumPy 1.20; for more details and guidance: https://numpy.org/devdocs/release/1.20.0-notes.html#deprecations\n",
      "\n"
     ]
    },
    {
     "name": "stdout",
     "output_type": "stream",
     "text": [
      "2022-06-03 00:27:40,960 - root - INFO - Done preparing output\n",
      "2022-06-03 00:27:40,962 - kedro.io.data_catalog - INFO - Saving data to `resource_summary_table_20220601_decentral` (PartitionedDataSet)...\n"
     ]
    },
    {
     "name": "stderr",
     "output_type": "stream",
     "text": [
      "/Users/ejwillemse/dev/waste_labs_dev/project_rdi_cpt/src/mcarptif/visualise/route_tables.py:146: FutureWarning:\n",
      "\n",
      "The frame.append method is deprecated and will be removed from pandas in a future version. Use pandas.concat instead.\n",
      "\n"
     ]
    },
    {
     "name": "stdout",
     "output_type": "stream",
     "text": [
      "\n",
      "\n",
      " RUNNING SCENARIO households_009\n",
      "2022-06-03 00:27:41,423 - kedro.io.data_catalog - INFO - Loading data from `waste_gen_scenarios_local_20220601` (PartitionedDataSet)...\n",
      "2022-06-03 00:27:41,440 - kedro.io.data_catalog - INFO - Loading data from `routing_parameters` (ExcelDataSet)...\n",
      "2022-06-03 00:27:41,592 - root - INFO - Preparing road network.......\n",
      "\n",
      "2022-06-03 00:27:41,646 - root - INFO - Load required arcs\n",
      "2022-06-03 00:27:41,647 - root - INFO - Merging with the network\n",
      "2022-06-03 00:27:41,671 - root - INFO - Set depot\n",
      "2022-06-03 00:27:41,674 - root - INFO - Set offload facilities\n",
      "2022-06-03 00:27:41,684 - root - INFO - Extend required arcs with inverse edge arcs\n",
      "2022-06-03 00:27:41,760 - root - INFO - Checking master list\n",
      "2022-06-03 00:27:41,766 - root - INFO - Load distance matrix: 8128 x 8128\n"
     ]
    },
    {
     "name": "stderr",
     "output_type": "stream",
     "text": [
      "/Users/ejwillemse/opt/anaconda3/envs/python_RD/lib/python3.8/site-packages/tables/array.py:241: DeprecationWarning:\n",
      "\n",
      "`np.object` is a deprecated alias for the builtin `object`. To silence this warning, use `object` by itself. Doing this will not modify any behavior and is safe. \n",
      "Deprecated in NumPy 1.20; for more details and guidance: https://numpy.org/devdocs/release/1.20.0-notes.html#deprecations\n",
      "\n",
      "/Users/ejwillemse/opt/anaconda3/envs/python_RD/lib/python3.8/site-packages/tables/array.py:241: DeprecationWarning:\n",
      "\n",
      "`np.object` is a deprecated alias for the builtin `object`. To silence this warning, use `object` by itself. Doing this will not modify any behavior and is safe. \n",
      "Deprecated in NumPy 1.20; for more details and guidance: https://numpy.org/devdocs/release/1.20.0-notes.html#deprecations\n",
      "\n",
      "/Users/ejwillemse/opt/anaconda3/envs/python_RD/lib/python3.8/site-packages/tables/leaf.py:544: VisibleDeprecationWarning:\n",
      "\n",
      "Creating an ndarray from ragged nested sequences (which is a list-or-tuple of lists-or-tuples-or ndarrays with different lengths or shapes) is deprecated. If you meant to do this, you must specify 'dtype=object' when creating the ndarray.\n",
      "\n"
     ]
    },
    {
     "name": "stdout",
     "output_type": "stream",
     "text": [
      "2022-06-03 00:27:48,325 - root - INFO - Creating nearest neighbour lists\n",
      "2022-06-03 00:27:51,649 - root - INFO - Calculate offloads: 8128 x 8128 x 2\n",
      "2022-06-03 00:27:59,737 - root - INFO - Done!\n",
      "2022-06-03 00:27:59,775 - root - INFO - Uploading scenario inputs...\n",
      "2022-06-03 00:27:59,805 - root - INFO - Setting service cost for network\n",
      "2022-06-03 00:27:59,815 - root - INFO - Setting demand for network\n",
      "2022-06-03 00:27:59,825 - root - INFO - Update travel durations.\n",
      "2022-06-03 00:28:00,090 - root - INFO - Update offload durations.\n",
      "2022-06-03 00:28:00,446 - root - INFO - Done\n",
      "2022-06-03 00:28:00,447 - root - INFO - Problem info supplied. Directly proceeding to solve problem.\n",
      "2022-06-03 00:28:32,886 - root - INFO - Done generating routes\n",
      "Number of routes: 18\n",
      "2022-06-03 00:28:32,887 - root - INFO - Preparing scenario outputs...\n"
     ]
    },
    {
     "name": "stderr",
     "output_type": "stream",
     "text": [
      "/Users/ejwillemse/opt/anaconda3/envs/python_RD/lib/python3.8/site-packages/tables/array.py:241: DeprecationWarning:\n",
      "\n",
      "`np.object` is a deprecated alias for the builtin `object`. To silence this warning, use `object` by itself. Doing this will not modify any behavior and is safe. \n",
      "Deprecated in NumPy 1.20; for more details and guidance: https://numpy.org/devdocs/release/1.20.0-notes.html#deprecations\n",
      "\n"
     ]
    },
    {
     "name": "stdout",
     "output_type": "stream",
     "text": [
      "2022-06-03 00:28:41,119 - root - INFO - Done preparing output\n",
      "2022-06-03 00:28:41,121 - kedro.io.data_catalog - INFO - Saving data to `resource_summary_table_20220601_decentral` (PartitionedDataSet)...\n"
     ]
    },
    {
     "name": "stderr",
     "output_type": "stream",
     "text": [
      "/Users/ejwillemse/dev/waste_labs_dev/project_rdi_cpt/src/mcarptif/visualise/route_tables.py:146: FutureWarning:\n",
      "\n",
      "The frame.append method is deprecated and will be removed from pandas in a future version. Use pandas.concat instead.\n",
      "\n"
     ]
    },
    {
     "name": "stdout",
     "output_type": "stream",
     "text": [
      "\n",
      "\n",
      " RUNNING SCENARIO households_010\n",
      "2022-06-03 00:28:41,565 - kedro.io.data_catalog - INFO - Loading data from `waste_gen_scenarios_local_20220601` (PartitionedDataSet)...\n",
      "2022-06-03 00:28:41,582 - kedro.io.data_catalog - INFO - Loading data from `routing_parameters` (ExcelDataSet)...\n",
      "2022-06-03 00:28:41,750 - root - INFO - Preparing road network.......\n",
      "\n",
      "2022-06-03 00:28:41,803 - root - INFO - Load required arcs\n",
      "2022-06-03 00:28:41,804 - root - INFO - Merging with the network\n",
      "2022-06-03 00:28:41,827 - root - INFO - Set depot\n",
      "2022-06-03 00:28:41,831 - root - INFO - Set offload facilities\n",
      "2022-06-03 00:28:41,841 - root - INFO - Extend required arcs with inverse edge arcs\n",
      "2022-06-03 00:28:41,918 - root - INFO - Checking master list\n",
      "2022-06-03 00:28:41,924 - root - INFO - Load distance matrix: 8125 x 8125\n"
     ]
    },
    {
     "name": "stderr",
     "output_type": "stream",
     "text": [
      "/Users/ejwillemse/opt/anaconda3/envs/python_RD/lib/python3.8/site-packages/tables/array.py:241: DeprecationWarning:\n",
      "\n",
      "`np.object` is a deprecated alias for the builtin `object`. To silence this warning, use `object` by itself. Doing this will not modify any behavior and is safe. \n",
      "Deprecated in NumPy 1.20; for more details and guidance: https://numpy.org/devdocs/release/1.20.0-notes.html#deprecations\n",
      "\n",
      "/Users/ejwillemse/opt/anaconda3/envs/python_RD/lib/python3.8/site-packages/tables/array.py:241: DeprecationWarning:\n",
      "\n",
      "`np.object` is a deprecated alias for the builtin `object`. To silence this warning, use `object` by itself. Doing this will not modify any behavior and is safe. \n",
      "Deprecated in NumPy 1.20; for more details and guidance: https://numpy.org/devdocs/release/1.20.0-notes.html#deprecations\n",
      "\n",
      "/Users/ejwillemse/opt/anaconda3/envs/python_RD/lib/python3.8/site-packages/tables/leaf.py:544: VisibleDeprecationWarning:\n",
      "\n",
      "Creating an ndarray from ragged nested sequences (which is a list-or-tuple of lists-or-tuples-or ndarrays with different lengths or shapes) is deprecated. If you meant to do this, you must specify 'dtype=object' when creating the ndarray.\n",
      "\n"
     ]
    },
    {
     "name": "stdout",
     "output_type": "stream",
     "text": [
      "2022-06-03 00:28:48,140 - root - INFO - Creating nearest neighbour lists\n",
      "2022-06-03 00:28:51,468 - root - INFO - Calculate offloads: 8125 x 8125 x 2\n",
      "2022-06-03 00:28:58,847 - root - INFO - Done!\n",
      "2022-06-03 00:28:58,887 - root - INFO - Uploading scenario inputs...\n",
      "2022-06-03 00:28:58,909 - root - INFO - Setting service cost for network\n",
      "2022-06-03 00:28:58,919 - root - INFO - Setting demand for network\n",
      "2022-06-03 00:28:58,940 - root - INFO - Update travel durations.\n",
      "2022-06-03 00:28:59,185 - root - INFO - Update offload durations.\n",
      "2022-06-03 00:28:59,542 - root - INFO - Done\n",
      "2022-06-03 00:28:59,543 - root - INFO - Problem info supplied. Directly proceeding to solve problem.\n",
      "2022-06-03 00:29:32,394 - root - INFO - Done generating routes\n",
      "Number of routes: 18\n",
      "2022-06-03 00:29:32,396 - root - INFO - Preparing scenario outputs...\n"
     ]
    },
    {
     "name": "stderr",
     "output_type": "stream",
     "text": [
      "/Users/ejwillemse/opt/anaconda3/envs/python_RD/lib/python3.8/site-packages/tables/array.py:241: DeprecationWarning:\n",
      "\n",
      "`np.object` is a deprecated alias for the builtin `object`. To silence this warning, use `object` by itself. Doing this will not modify any behavior and is safe. \n",
      "Deprecated in NumPy 1.20; for more details and guidance: https://numpy.org/devdocs/release/1.20.0-notes.html#deprecations\n",
      "\n"
     ]
    },
    {
     "name": "stdout",
     "output_type": "stream",
     "text": [
      "2022-06-03 00:29:40,701 - root - INFO - Done preparing output\n",
      "2022-06-03 00:29:40,702 - kedro.io.data_catalog - INFO - Saving data to `resource_summary_table_20220601_decentral` (PartitionedDataSet)...\n"
     ]
    },
    {
     "name": "stderr",
     "output_type": "stream",
     "text": [
      "/Users/ejwillemse/dev/waste_labs_dev/project_rdi_cpt/src/mcarptif/visualise/route_tables.py:146: FutureWarning:\n",
      "\n",
      "The frame.append method is deprecated and will be removed from pandas in a future version. Use pandas.concat instead.\n",
      "\n"
     ]
    },
    {
     "name": "stdout",
     "output_type": "stream",
     "text": [
      "\n",
      "\n",
      " RUNNING SCENARIO households_011\n",
      "2022-06-03 00:29:41,170 - kedro.io.data_catalog - INFO - Loading data from `waste_gen_scenarios_local_20220601` (PartitionedDataSet)...\n",
      "2022-06-03 00:29:41,187 - kedro.io.data_catalog - INFO - Loading data from `routing_parameters` (ExcelDataSet)...\n",
      "2022-06-03 00:29:41,342 - root - INFO - Preparing road network.......\n",
      "\n",
      "2022-06-03 00:29:41,397 - root - INFO - Load required arcs\n",
      "2022-06-03 00:29:41,399 - root - INFO - Merging with the network\n",
      "2022-06-03 00:29:41,423 - root - INFO - Set depot\n",
      "2022-06-03 00:29:41,426 - root - INFO - Set offload facilities\n",
      "2022-06-03 00:29:41,437 - root - INFO - Extend required arcs with inverse edge arcs\n",
      "2022-06-03 00:29:41,524 - root - INFO - Checking master list\n",
      "2022-06-03 00:29:41,530 - root - INFO - Load distance matrix: 8138 x 8138\n"
     ]
    },
    {
     "name": "stderr",
     "output_type": "stream",
     "text": [
      "/Users/ejwillemse/opt/anaconda3/envs/python_RD/lib/python3.8/site-packages/tables/array.py:241: DeprecationWarning:\n",
      "\n",
      "`np.object` is a deprecated alias for the builtin `object`. To silence this warning, use `object` by itself. Doing this will not modify any behavior and is safe. \n",
      "Deprecated in NumPy 1.20; for more details and guidance: https://numpy.org/devdocs/release/1.20.0-notes.html#deprecations\n",
      "\n",
      "/Users/ejwillemse/opt/anaconda3/envs/python_RD/lib/python3.8/site-packages/tables/array.py:241: DeprecationWarning:\n",
      "\n",
      "`np.object` is a deprecated alias for the builtin `object`. To silence this warning, use `object` by itself. Doing this will not modify any behavior and is safe. \n",
      "Deprecated in NumPy 1.20; for more details and guidance: https://numpy.org/devdocs/release/1.20.0-notes.html#deprecations\n",
      "\n",
      "/Users/ejwillemse/opt/anaconda3/envs/python_RD/lib/python3.8/site-packages/tables/leaf.py:544: VisibleDeprecationWarning:\n",
      "\n",
      "Creating an ndarray from ragged nested sequences (which is a list-or-tuple of lists-or-tuples-or ndarrays with different lengths or shapes) is deprecated. If you meant to do this, you must specify 'dtype=object' when creating the ndarray.\n",
      "\n"
     ]
    },
    {
     "name": "stdout",
     "output_type": "stream",
     "text": [
      "2022-06-03 00:29:47,804 - root - INFO - Creating nearest neighbour lists\n",
      "2022-06-03 00:29:51,208 - root - INFO - Calculate offloads: 8138 x 8138 x 2\n",
      "2022-06-03 00:29:59,736 - root - INFO - Done!\n",
      "2022-06-03 00:29:59,776 - root - INFO - Uploading scenario inputs...\n",
      "2022-06-03 00:29:59,809 - root - INFO - Setting service cost for network\n",
      "2022-06-03 00:29:59,819 - root - INFO - Setting demand for network\n",
      "2022-06-03 00:29:59,828 - root - INFO - Update travel durations.\n",
      "2022-06-03 00:30:00,098 - root - INFO - Update offload durations.\n",
      "2022-06-03 00:30:00,479 - root - INFO - Done\n",
      "2022-06-03 00:30:00,480 - root - INFO - Problem info supplied. Directly proceeding to solve problem.\n",
      "2022-06-03 00:30:33,595 - root - INFO - Done generating routes\n",
      "Number of routes: 18\n",
      "2022-06-03 00:30:33,597 - root - INFO - Preparing scenario outputs...\n"
     ]
    },
    {
     "name": "stderr",
     "output_type": "stream",
     "text": [
      "/Users/ejwillemse/opt/anaconda3/envs/python_RD/lib/python3.8/site-packages/tables/array.py:241: DeprecationWarning:\n",
      "\n",
      "`np.object` is a deprecated alias for the builtin `object`. To silence this warning, use `object` by itself. Doing this will not modify any behavior and is safe. \n",
      "Deprecated in NumPy 1.20; for more details and guidance: https://numpy.org/devdocs/release/1.20.0-notes.html#deprecations\n",
      "\n"
     ]
    },
    {
     "name": "stdout",
     "output_type": "stream",
     "text": [
      "2022-06-03 00:30:42,230 - root - INFO - Done preparing output\n",
      "2022-06-03 00:30:42,231 - kedro.io.data_catalog - INFO - Saving data to `resource_summary_table_20220601_decentral` (PartitionedDataSet)...\n"
     ]
    },
    {
     "name": "stderr",
     "output_type": "stream",
     "text": [
      "/Users/ejwillemse/dev/waste_labs_dev/project_rdi_cpt/src/mcarptif/visualise/route_tables.py:146: FutureWarning:\n",
      "\n",
      "The frame.append method is deprecated and will be removed from pandas in a future version. Use pandas.concat instead.\n",
      "\n"
     ]
    },
    {
     "name": "stdout",
     "output_type": "stream",
     "text": [
      "\n",
      "\n",
      " RUNNING SCENARIO households_012\n",
      "2022-06-03 00:30:42,703 - kedro.io.data_catalog - INFO - Loading data from `waste_gen_scenarios_local_20220601` (PartitionedDataSet)...\n",
      "2022-06-03 00:30:42,724 - kedro.io.data_catalog - INFO - Loading data from `routing_parameters` (ExcelDataSet)...\n",
      "2022-06-03 00:30:42,891 - root - INFO - Preparing road network.......\n",
      "\n",
      "2022-06-03 00:30:42,946 - root - INFO - Load required arcs\n",
      "2022-06-03 00:30:42,947 - root - INFO - Merging with the network\n",
      "2022-06-03 00:30:42,972 - root - INFO - Set depot\n",
      "2022-06-03 00:30:42,976 - root - INFO - Set offload facilities\n",
      "2022-06-03 00:30:42,985 - root - INFO - Extend required arcs with inverse edge arcs\n",
      "2022-06-03 00:30:43,062 - root - INFO - Checking master list\n",
      "2022-06-03 00:30:43,069 - root - INFO - Load distance matrix: 8110 x 8110\n"
     ]
    },
    {
     "name": "stderr",
     "output_type": "stream",
     "text": [
      "/Users/ejwillemse/opt/anaconda3/envs/python_RD/lib/python3.8/site-packages/tables/array.py:241: DeprecationWarning:\n",
      "\n",
      "`np.object` is a deprecated alias for the builtin `object`. To silence this warning, use `object` by itself. Doing this will not modify any behavior and is safe. \n",
      "Deprecated in NumPy 1.20; for more details and guidance: https://numpy.org/devdocs/release/1.20.0-notes.html#deprecations\n",
      "\n",
      "/Users/ejwillemse/opt/anaconda3/envs/python_RD/lib/python3.8/site-packages/tables/array.py:241: DeprecationWarning:\n",
      "\n",
      "`np.object` is a deprecated alias for the builtin `object`. To silence this warning, use `object` by itself. Doing this will not modify any behavior and is safe. \n",
      "Deprecated in NumPy 1.20; for more details and guidance: https://numpy.org/devdocs/release/1.20.0-notes.html#deprecations\n",
      "\n",
      "/Users/ejwillemse/opt/anaconda3/envs/python_RD/lib/python3.8/site-packages/tables/leaf.py:544: VisibleDeprecationWarning:\n",
      "\n",
      "Creating an ndarray from ragged nested sequences (which is a list-or-tuple of lists-or-tuples-or ndarrays with different lengths or shapes) is deprecated. If you meant to do this, you must specify 'dtype=object' when creating the ndarray.\n",
      "\n"
     ]
    },
    {
     "name": "stdout",
     "output_type": "stream",
     "text": [
      "2022-06-03 00:30:50,007 - root - INFO - Creating nearest neighbour lists\n",
      "2022-06-03 00:30:53,652 - root - INFO - Calculate offloads: 8110 x 8110 x 2\n",
      "2022-06-03 00:31:04,391 - root - INFO - Done!\n",
      "2022-06-03 00:31:04,700 - root - INFO - Uploading scenario inputs...\n",
      "2022-06-03 00:31:04,742 - root - INFO - Setting service cost for network\n",
      "2022-06-03 00:31:04,753 - root - INFO - Setting demand for network\n",
      "2022-06-03 00:31:04,764 - root - INFO - Update travel durations.\n",
      "2022-06-03 00:31:05,091 - root - INFO - Update offload durations.\n",
      "2022-06-03 00:31:05,476 - root - INFO - Done\n",
      "2022-06-03 00:31:05,477 - root - INFO - Problem info supplied. Directly proceeding to solve problem.\n",
      "2022-06-03 00:31:42,137 - root - INFO - Done generating routes\n",
      "Number of routes: 18\n",
      "2022-06-03 00:31:42,139 - root - INFO - Preparing scenario outputs...\n"
     ]
    },
    {
     "name": "stderr",
     "output_type": "stream",
     "text": [
      "/Users/ejwillemse/opt/anaconda3/envs/python_RD/lib/python3.8/site-packages/tables/array.py:241: DeprecationWarning:\n",
      "\n",
      "`np.object` is a deprecated alias for the builtin `object`. To silence this warning, use `object` by itself. Doing this will not modify any behavior and is safe. \n",
      "Deprecated in NumPy 1.20; for more details and guidance: https://numpy.org/devdocs/release/1.20.0-notes.html#deprecations\n",
      "\n"
     ]
    },
    {
     "name": "stdout",
     "output_type": "stream",
     "text": [
      "2022-06-03 00:31:51,774 - root - INFO - Done preparing output\n",
      "2022-06-03 00:31:51,776 - kedro.io.data_catalog - INFO - Saving data to `resource_summary_table_20220601_decentral` (PartitionedDataSet)...\n"
     ]
    },
    {
     "name": "stderr",
     "output_type": "stream",
     "text": [
      "/Users/ejwillemse/dev/waste_labs_dev/project_rdi_cpt/src/mcarptif/visualise/route_tables.py:146: FutureWarning:\n",
      "\n",
      "The frame.append method is deprecated and will be removed from pandas in a future version. Use pandas.concat instead.\n",
      "\n"
     ]
    },
    {
     "name": "stdout",
     "output_type": "stream",
     "text": [
      "\n",
      "\n",
      " RUNNING SCENARIO households_013\n",
      "2022-06-03 00:31:52,323 - kedro.io.data_catalog - INFO - Loading data from `waste_gen_scenarios_local_20220601` (PartitionedDataSet)...\n",
      "2022-06-03 00:31:52,341 - kedro.io.data_catalog - INFO - Loading data from `routing_parameters` (ExcelDataSet)...\n",
      "2022-06-03 00:31:52,529 - root - INFO - Preparing road network.......\n",
      "\n",
      "2022-06-03 00:31:52,594 - root - INFO - Load required arcs\n",
      "2022-06-03 00:31:52,596 - root - INFO - Merging with the network\n",
      "2022-06-03 00:31:52,622 - root - INFO - Set depot\n",
      "2022-06-03 00:31:52,625 - root - INFO - Set offload facilities\n",
      "2022-06-03 00:31:52,638 - root - INFO - Extend required arcs with inverse edge arcs\n"
     ]
    },
    {
     "name": "stderr",
     "output_type": "stream",
     "text": [
      "/Users/ejwillemse/opt/anaconda3/envs/python_RD/lib/python3.8/site-packages/tables/array.py:241: DeprecationWarning:\n",
      "\n",
      "`np.object` is a deprecated alias for the builtin `object`. To silence this warning, use `object` by itself. Doing this will not modify any behavior and is safe. \n",
      "Deprecated in NumPy 1.20; for more details and guidance: https://numpy.org/devdocs/release/1.20.0-notes.html#deprecations\n",
      "\n"
     ]
    },
    {
     "name": "stdout",
     "output_type": "stream",
     "text": [
      "2022-06-03 00:31:52,753 - root - INFO - Checking master list\n",
      "2022-06-03 00:31:52,759 - root - INFO - Load distance matrix: 8114 x 8114\n"
     ]
    },
    {
     "name": "stderr",
     "output_type": "stream",
     "text": [
      "/Users/ejwillemse/opt/anaconda3/envs/python_RD/lib/python3.8/site-packages/tables/array.py:241: DeprecationWarning:\n",
      "\n",
      "`np.object` is a deprecated alias for the builtin `object`. To silence this warning, use `object` by itself. Doing this will not modify any behavior and is safe. \n",
      "Deprecated in NumPy 1.20; for more details and guidance: https://numpy.org/devdocs/release/1.20.0-notes.html#deprecations\n",
      "\n",
      "/Users/ejwillemse/opt/anaconda3/envs/python_RD/lib/python3.8/site-packages/tables/leaf.py:544: VisibleDeprecationWarning:\n",
      "\n",
      "Creating an ndarray from ragged nested sequences (which is a list-or-tuple of lists-or-tuples-or ndarrays with different lengths or shapes) is deprecated. If you meant to do this, you must specify 'dtype=object' when creating the ndarray.\n",
      "\n"
     ]
    },
    {
     "name": "stdout",
     "output_type": "stream",
     "text": [
      "2022-06-03 00:32:01,104 - root - INFO - Creating nearest neighbour lists\n",
      "2022-06-03 00:32:05,208 - root - INFO - Calculate offloads: 8114 x 8114 x 2\n",
      "2022-06-03 00:32:16,519 - root - INFO - Done!\n",
      "2022-06-03 00:32:17,144 - root - INFO - Uploading scenario inputs...\n",
      "2022-06-03 00:32:17,180 - root - INFO - Setting service cost for network\n",
      "2022-06-03 00:32:17,190 - root - INFO - Setting demand for network\n",
      "2022-06-03 00:32:17,202 - root - INFO - Update travel durations.\n",
      "2022-06-03 00:32:17,570 - root - INFO - Update offload durations.\n",
      "2022-06-03 00:32:17,977 - root - INFO - Done\n",
      "2022-06-03 00:32:17,978 - root - INFO - Problem info supplied. Directly proceeding to solve problem.\n",
      "2022-06-03 00:32:53,241 - root - INFO - Done generating routes\n",
      "Number of routes: 18\n",
      "2022-06-03 00:32:53,242 - root - INFO - Preparing scenario outputs...\n"
     ]
    },
    {
     "name": "stderr",
     "output_type": "stream",
     "text": [
      "/Users/ejwillemse/opt/anaconda3/envs/python_RD/lib/python3.8/site-packages/tables/array.py:241: DeprecationWarning:\n",
      "\n",
      "`np.object` is a deprecated alias for the builtin `object`. To silence this warning, use `object` by itself. Doing this will not modify any behavior and is safe. \n",
      "Deprecated in NumPy 1.20; for more details and guidance: https://numpy.org/devdocs/release/1.20.0-notes.html#deprecations\n",
      "\n"
     ]
    },
    {
     "name": "stdout",
     "output_type": "stream",
     "text": [
      "2022-06-03 00:33:02,426 - root - INFO - Done preparing output\n",
      "2022-06-03 00:33:02,427 - kedro.io.data_catalog - INFO - Saving data to `resource_summary_table_20220601_decentral` (PartitionedDataSet)...\n"
     ]
    },
    {
     "name": "stderr",
     "output_type": "stream",
     "text": [
      "/Users/ejwillemse/dev/waste_labs_dev/project_rdi_cpt/src/mcarptif/visualise/route_tables.py:146: FutureWarning:\n",
      "\n",
      "The frame.append method is deprecated and will be removed from pandas in a future version. Use pandas.concat instead.\n",
      "\n"
     ]
    },
    {
     "name": "stdout",
     "output_type": "stream",
     "text": [
      "\n",
      "\n",
      " RUNNING SCENARIO households_014\n",
      "2022-06-03 00:33:02,906 - kedro.io.data_catalog - INFO - Loading data from `waste_gen_scenarios_local_20220601` (PartitionedDataSet)...\n",
      "2022-06-03 00:33:02,924 - kedro.io.data_catalog - INFO - Loading data from `routing_parameters` (ExcelDataSet)...\n",
      "2022-06-03 00:33:03,099 - root - INFO - Preparing road network.......\n",
      "\n",
      "2022-06-03 00:33:03,158 - root - INFO - Load required arcs\n",
      "2022-06-03 00:33:03,160 - root - INFO - Merging with the network\n",
      "2022-06-03 00:33:03,186 - root - INFO - Set depot\n",
      "2022-06-03 00:33:03,189 - root - INFO - Set offload facilities\n",
      "2022-06-03 00:33:03,202 - root - INFO - Extend required arcs with inverse edge arcs\n",
      "2022-06-03 00:33:03,295 - root - INFO - Checking master list\n",
      "2022-06-03 00:33:03,303 - root - INFO - Load distance matrix: 8130 x 8130\n"
     ]
    },
    {
     "name": "stderr",
     "output_type": "stream",
     "text": [
      "/Users/ejwillemse/opt/anaconda3/envs/python_RD/lib/python3.8/site-packages/tables/array.py:241: DeprecationWarning:\n",
      "\n",
      "`np.object` is a deprecated alias for the builtin `object`. To silence this warning, use `object` by itself. Doing this will not modify any behavior and is safe. \n",
      "Deprecated in NumPy 1.20; for more details and guidance: https://numpy.org/devdocs/release/1.20.0-notes.html#deprecations\n",
      "\n",
      "/Users/ejwillemse/opt/anaconda3/envs/python_RD/lib/python3.8/site-packages/tables/array.py:241: DeprecationWarning:\n",
      "\n",
      "`np.object` is a deprecated alias for the builtin `object`. To silence this warning, use `object` by itself. Doing this will not modify any behavior and is safe. \n",
      "Deprecated in NumPy 1.20; for more details and guidance: https://numpy.org/devdocs/release/1.20.0-notes.html#deprecations\n",
      "\n",
      "/Users/ejwillemse/opt/anaconda3/envs/python_RD/lib/python3.8/site-packages/tables/leaf.py:544: VisibleDeprecationWarning:\n",
      "\n",
      "Creating an ndarray from ragged nested sequences (which is a list-or-tuple of lists-or-tuples-or ndarrays with different lengths or shapes) is deprecated. If you meant to do this, you must specify 'dtype=object' when creating the ndarray.\n",
      "\n"
     ]
    },
    {
     "name": "stdout",
     "output_type": "stream",
     "text": [
      "2022-06-03 00:33:11,317 - root - INFO - Creating nearest neighbour lists\n",
      "2022-06-03 00:33:14,930 - root - INFO - Calculate offloads: 8130 x 8130 x 2\n",
      "2022-06-03 00:33:25,213 - root - INFO - Done!\n",
      "2022-06-03 00:33:25,797 - root - INFO - Uploading scenario inputs...\n",
      "2022-06-03 00:33:25,839 - root - INFO - Setting service cost for network\n",
      "2022-06-03 00:33:25,853 - root - INFO - Setting demand for network\n",
      "2022-06-03 00:33:25,864 - root - INFO - Update travel durations.\n",
      "2022-06-03 00:33:26,241 - root - INFO - Update offload durations.\n",
      "2022-06-03 00:33:26,662 - root - INFO - Done\n",
      "2022-06-03 00:33:26,663 - root - INFO - Problem info supplied. Directly proceeding to solve problem.\n",
      "2022-06-03 00:34:01,350 - root - INFO - Done generating routes\n",
      "Number of routes: 18\n",
      "2022-06-03 00:34:01,352 - root - INFO - Preparing scenario outputs...\n"
     ]
    },
    {
     "name": "stderr",
     "output_type": "stream",
     "text": [
      "/Users/ejwillemse/opt/anaconda3/envs/python_RD/lib/python3.8/site-packages/tables/array.py:241: DeprecationWarning:\n",
      "\n",
      "`np.object` is a deprecated alias for the builtin `object`. To silence this warning, use `object` by itself. Doing this will not modify any behavior and is safe. \n",
      "Deprecated in NumPy 1.20; for more details and guidance: https://numpy.org/devdocs/release/1.20.0-notes.html#deprecations\n",
      "\n"
     ]
    },
    {
     "name": "stdout",
     "output_type": "stream",
     "text": [
      "2022-06-03 00:34:11,226 - root - INFO - Done preparing output\n",
      "2022-06-03 00:34:11,227 - kedro.io.data_catalog - INFO - Saving data to `resource_summary_table_20220601_decentral` (PartitionedDataSet)...\n"
     ]
    },
    {
     "name": "stderr",
     "output_type": "stream",
     "text": [
      "/Users/ejwillemse/dev/waste_labs_dev/project_rdi_cpt/src/mcarptif/visualise/route_tables.py:146: FutureWarning:\n",
      "\n",
      "The frame.append method is deprecated and will be removed from pandas in a future version. Use pandas.concat instead.\n",
      "\n"
     ]
    },
    {
     "name": "stdout",
     "output_type": "stream",
     "text": [
      "\n",
      "\n",
      " RUNNING SCENARIO households_015\n",
      "2022-06-03 00:34:11,710 - kedro.io.data_catalog - INFO - Loading data from `waste_gen_scenarios_local_20220601` (PartitionedDataSet)...\n",
      "2022-06-03 00:34:11,727 - kedro.io.data_catalog - INFO - Loading data from `routing_parameters` (ExcelDataSet)...\n",
      "2022-06-03 00:34:11,901 - root - INFO - Preparing road network.......\n",
      "\n",
      "2022-06-03 00:34:11,963 - root - INFO - Load required arcs\n",
      "2022-06-03 00:34:11,965 - root - INFO - Merging with the network\n",
      "2022-06-03 00:34:11,988 - root - INFO - Set depot\n",
      "2022-06-03 00:34:11,991 - root - INFO - Set offload facilities\n",
      "2022-06-03 00:34:12,002 - root - INFO - Extend required arcs with inverse edge arcs\n",
      "2022-06-03 00:34:12,089 - root - INFO - Checking master list\n",
      "2022-06-03 00:34:12,094 - root - INFO - Load distance matrix: 8147 x 8147\n"
     ]
    },
    {
     "name": "stderr",
     "output_type": "stream",
     "text": [
      "/Users/ejwillemse/opt/anaconda3/envs/python_RD/lib/python3.8/site-packages/tables/array.py:241: DeprecationWarning:\n",
      "\n",
      "`np.object` is a deprecated alias for the builtin `object`. To silence this warning, use `object` by itself. Doing this will not modify any behavior and is safe. \n",
      "Deprecated in NumPy 1.20; for more details and guidance: https://numpy.org/devdocs/release/1.20.0-notes.html#deprecations\n",
      "\n",
      "/Users/ejwillemse/opt/anaconda3/envs/python_RD/lib/python3.8/site-packages/tables/array.py:241: DeprecationWarning:\n",
      "\n",
      "`np.object` is a deprecated alias for the builtin `object`. To silence this warning, use `object` by itself. Doing this will not modify any behavior and is safe. \n",
      "Deprecated in NumPy 1.20; for more details and guidance: https://numpy.org/devdocs/release/1.20.0-notes.html#deprecations\n",
      "\n",
      "/Users/ejwillemse/opt/anaconda3/envs/python_RD/lib/python3.8/site-packages/tables/leaf.py:544: VisibleDeprecationWarning:\n",
      "\n",
      "Creating an ndarray from ragged nested sequences (which is a list-or-tuple of lists-or-tuples-or ndarrays with different lengths or shapes) is deprecated. If you meant to do this, you must specify 'dtype=object' when creating the ndarray.\n",
      "\n"
     ]
    },
    {
     "name": "stdout",
     "output_type": "stream",
     "text": [
      "2022-06-03 00:34:19,791 - root - INFO - Creating nearest neighbour lists\n",
      "2022-06-03 00:34:23,608 - root - INFO - Calculate offloads: 8147 x 8147 x 2\n",
      "2022-06-03 00:34:35,936 - root - INFO - Done!\n",
      "2022-06-03 00:34:36,557 - root - INFO - Uploading scenario inputs...\n",
      "2022-06-03 00:34:36,584 - root - INFO - Setting service cost for network\n",
      "2022-06-03 00:34:36,595 - root - INFO - Setting demand for network\n",
      "2022-06-03 00:34:36,604 - root - INFO - Update travel durations.\n",
      "2022-06-03 00:34:37,016 - root - INFO - Update offload durations.\n",
      "2022-06-03 00:34:37,436 - root - INFO - Done\n",
      "2022-06-03 00:34:37,437 - root - INFO - Problem info supplied. Directly proceeding to solve problem.\n",
      "2022-06-03 00:35:16,304 - root - INFO - Done generating routes\n",
      "Number of routes: 18\n",
      "2022-06-03 00:35:16,306 - root - INFO - Preparing scenario outputs...\n"
     ]
    },
    {
     "name": "stderr",
     "output_type": "stream",
     "text": [
      "/Users/ejwillemse/opt/anaconda3/envs/python_RD/lib/python3.8/site-packages/tables/array.py:241: DeprecationWarning:\n",
      "\n",
      "`np.object` is a deprecated alias for the builtin `object`. To silence this warning, use `object` by itself. Doing this will not modify any behavior and is safe. \n",
      "Deprecated in NumPy 1.20; for more details and guidance: https://numpy.org/devdocs/release/1.20.0-notes.html#deprecations\n",
      "\n"
     ]
    },
    {
     "name": "stdout",
     "output_type": "stream",
     "text": [
      "2022-06-03 00:35:26,653 - root - INFO - Done preparing output\n",
      "2022-06-03 00:35:26,655 - kedro.io.data_catalog - INFO - Saving data to `resource_summary_table_20220601_decentral` (PartitionedDataSet)...\n"
     ]
    },
    {
     "name": "stderr",
     "output_type": "stream",
     "text": [
      "/Users/ejwillemse/dev/waste_labs_dev/project_rdi_cpt/src/mcarptif/visualise/route_tables.py:146: FutureWarning:\n",
      "\n",
      "The frame.append method is deprecated and will be removed from pandas in a future version. Use pandas.concat instead.\n",
      "\n"
     ]
    },
    {
     "name": "stdout",
     "output_type": "stream",
     "text": [
      "\n",
      "\n",
      " RUNNING SCENARIO households_016\n",
      "2022-06-03 00:35:27,169 - kedro.io.data_catalog - INFO - Loading data from `waste_gen_scenarios_local_20220601` (PartitionedDataSet)...\n",
      "2022-06-03 00:35:27,187 - kedro.io.data_catalog - INFO - Loading data from `routing_parameters` (ExcelDataSet)...\n",
      "2022-06-03 00:35:27,394 - root - INFO - Preparing road network.......\n",
      "\n",
      "2022-06-03 00:35:27,522 - root - INFO - Load required arcs\n",
      "2022-06-03 00:35:27,523 - root - INFO - Merging with the network\n",
      "2022-06-03 00:35:27,551 - root - INFO - Set depot\n",
      "2022-06-03 00:35:27,555 - root - INFO - Set offload facilities\n",
      "2022-06-03 00:35:27,567 - root - INFO - Extend required arcs with inverse edge arcs\n"
     ]
    },
    {
     "name": "stderr",
     "output_type": "stream",
     "text": [
      "/Users/ejwillemse/opt/anaconda3/envs/python_RD/lib/python3.8/site-packages/tables/array.py:241: DeprecationWarning:\n",
      "\n",
      "`np.object` is a deprecated alias for the builtin `object`. To silence this warning, use `object` by itself. Doing this will not modify any behavior and is safe. \n",
      "Deprecated in NumPy 1.20; for more details and guidance: https://numpy.org/devdocs/release/1.20.0-notes.html#deprecations\n",
      "\n"
     ]
    },
    {
     "name": "stdout",
     "output_type": "stream",
     "text": [
      "2022-06-03 00:35:27,668 - root - INFO - Checking master list\n",
      "2022-06-03 00:35:27,682 - root - INFO - Load distance matrix: 8132 x 8132\n"
     ]
    },
    {
     "name": "stderr",
     "output_type": "stream",
     "text": [
      "/Users/ejwillemse/opt/anaconda3/envs/python_RD/lib/python3.8/site-packages/tables/array.py:241: DeprecationWarning:\n",
      "\n",
      "`np.object` is a deprecated alias for the builtin `object`. To silence this warning, use `object` by itself. Doing this will not modify any behavior and is safe. \n",
      "Deprecated in NumPy 1.20; for more details and guidance: https://numpy.org/devdocs/release/1.20.0-notes.html#deprecations\n",
      "\n",
      "/Users/ejwillemse/opt/anaconda3/envs/python_RD/lib/python3.8/site-packages/tables/leaf.py:544: VisibleDeprecationWarning:\n",
      "\n",
      "Creating an ndarray from ragged nested sequences (which is a list-or-tuple of lists-or-tuples-or ndarrays with different lengths or shapes) is deprecated. If you meant to do this, you must specify 'dtype=object' when creating the ndarray.\n",
      "\n"
     ]
    },
    {
     "name": "stdout",
     "output_type": "stream",
     "text": [
      "2022-06-03 00:35:35,211 - root - INFO - Creating nearest neighbour lists\n",
      "2022-06-03 00:35:38,821 - root - INFO - Calculate offloads: 8132 x 8132 x 2\n",
      "2022-06-03 00:35:49,471 - root - INFO - Done!\n",
      "2022-06-03 00:35:49,520 - root - INFO - Uploading scenario inputs...\n",
      "2022-06-03 00:35:49,555 - root - INFO - Setting service cost for network\n",
      "2022-06-03 00:35:49,571 - root - INFO - Setting demand for network\n",
      "2022-06-03 00:35:49,586 - root - INFO - Update travel durations.\n",
      "2022-06-03 00:35:49,914 - root - INFO - Update offload durations.\n",
      "2022-06-03 00:35:50,397 - root - INFO - Done\n",
      "2022-06-03 00:35:50,399 - root - INFO - Problem info supplied. Directly proceeding to solve problem.\n",
      "2022-06-03 00:36:29,076 - root - INFO - Done generating routes\n",
      "Number of routes: 18\n",
      "2022-06-03 00:36:29,078 - root - INFO - Preparing scenario outputs...\n"
     ]
    },
    {
     "name": "stderr",
     "output_type": "stream",
     "text": [
      "/Users/ejwillemse/opt/anaconda3/envs/python_RD/lib/python3.8/site-packages/tables/array.py:241: DeprecationWarning:\n",
      "\n",
      "`np.object` is a deprecated alias for the builtin `object`. To silence this warning, use `object` by itself. Doing this will not modify any behavior and is safe. \n",
      "Deprecated in NumPy 1.20; for more details and guidance: https://numpy.org/devdocs/release/1.20.0-notes.html#deprecations\n",
      "\n"
     ]
    },
    {
     "name": "stdout",
     "output_type": "stream",
     "text": [
      "2022-06-03 00:36:39,399 - root - INFO - Done preparing output\n",
      "2022-06-03 00:36:39,401 - kedro.io.data_catalog - INFO - Saving data to `resource_summary_table_20220601_decentral` (PartitionedDataSet)...\n"
     ]
    },
    {
     "name": "stderr",
     "output_type": "stream",
     "text": [
      "/Users/ejwillemse/dev/waste_labs_dev/project_rdi_cpt/src/mcarptif/visualise/route_tables.py:146: FutureWarning:\n",
      "\n",
      "The frame.append method is deprecated and will be removed from pandas in a future version. Use pandas.concat instead.\n",
      "\n"
     ]
    },
    {
     "name": "stdout",
     "output_type": "stream",
     "text": [
      "\n",
      "\n",
      " RUNNING SCENARIO households_017\n",
      "2022-06-03 00:36:39,908 - kedro.io.data_catalog - INFO - Loading data from `waste_gen_scenarios_local_20220601` (PartitionedDataSet)...\n",
      "2022-06-03 00:36:39,929 - kedro.io.data_catalog - INFO - Loading data from `routing_parameters` (ExcelDataSet)...\n",
      "2022-06-03 00:36:40,124 - root - INFO - Preparing road network.......\n",
      "\n",
      "2022-06-03 00:36:40,195 - root - INFO - Load required arcs\n",
      "2022-06-03 00:36:40,197 - root - INFO - Merging with the network\n",
      "2022-06-03 00:36:40,228 - root - INFO - Set depot\n",
      "2022-06-03 00:36:40,232 - root - INFO - Set offload facilities\n",
      "2022-06-03 00:36:40,245 - root - INFO - Extend required arcs with inverse edge arcs\n"
     ]
    },
    {
     "name": "stderr",
     "output_type": "stream",
     "text": [
      "/Users/ejwillemse/opt/anaconda3/envs/python_RD/lib/python3.8/site-packages/tables/array.py:241: DeprecationWarning:\n",
      "\n",
      "`np.object` is a deprecated alias for the builtin `object`. To silence this warning, use `object` by itself. Doing this will not modify any behavior and is safe. \n",
      "Deprecated in NumPy 1.20; for more details and guidance: https://numpy.org/devdocs/release/1.20.0-notes.html#deprecations\n",
      "\n"
     ]
    },
    {
     "name": "stdout",
     "output_type": "stream",
     "text": [
      "2022-06-03 00:36:40,343 - root - INFO - Checking master list\n",
      "2022-06-03 00:36:40,351 - root - INFO - Load distance matrix: 8151 x 8151\n"
     ]
    },
    {
     "name": "stderr",
     "output_type": "stream",
     "text": [
      "/Users/ejwillemse/opt/anaconda3/envs/python_RD/lib/python3.8/site-packages/tables/array.py:241: DeprecationWarning:\n",
      "\n",
      "`np.object` is a deprecated alias for the builtin `object`. To silence this warning, use `object` by itself. Doing this will not modify any behavior and is safe. \n",
      "Deprecated in NumPy 1.20; for more details and guidance: https://numpy.org/devdocs/release/1.20.0-notes.html#deprecations\n",
      "\n",
      "/Users/ejwillemse/opt/anaconda3/envs/python_RD/lib/python3.8/site-packages/tables/leaf.py:544: VisibleDeprecationWarning:\n",
      "\n",
      "Creating an ndarray from ragged nested sequences (which is a list-or-tuple of lists-or-tuples-or ndarrays with different lengths or shapes) is deprecated. If you meant to do this, you must specify 'dtype=object' when creating the ndarray.\n",
      "\n"
     ]
    },
    {
     "name": "stdout",
     "output_type": "stream",
     "text": [
      "2022-06-03 00:36:48,683 - root - INFO - Creating nearest neighbour lists\n",
      "2022-06-03 00:36:52,643 - root - INFO - Calculate offloads: 8151 x 8151 x 2\n",
      "2022-06-03 00:37:04,671 - root - INFO - Done!\n",
      "2022-06-03 00:37:05,325 - root - INFO - Uploading scenario inputs...\n",
      "2022-06-03 00:37:05,365 - root - INFO - Setting service cost for network\n",
      "2022-06-03 00:37:05,376 - root - INFO - Setting demand for network\n",
      "2022-06-03 00:37:05,387 - root - INFO - Update travel durations.\n",
      "2022-06-03 00:37:05,794 - root - INFO - Update offload durations.\n",
      "2022-06-03 00:37:06,224 - root - INFO - Done\n",
      "2022-06-03 00:37:06,225 - root - INFO - Problem info supplied. Directly proceeding to solve problem.\n",
      "2022-06-03 00:37:43,536 - root - INFO - Done generating routes\n",
      "Number of routes: 18\n",
      "2022-06-03 00:37:43,537 - root - INFO - Preparing scenario outputs...\n"
     ]
    },
    {
     "name": "stderr",
     "output_type": "stream",
     "text": [
      "/Users/ejwillemse/opt/anaconda3/envs/python_RD/lib/python3.8/site-packages/tables/array.py:241: DeprecationWarning:\n",
      "\n",
      "`np.object` is a deprecated alias for the builtin `object`. To silence this warning, use `object` by itself. Doing this will not modify any behavior and is safe. \n",
      "Deprecated in NumPy 1.20; for more details and guidance: https://numpy.org/devdocs/release/1.20.0-notes.html#deprecations\n",
      "\n"
     ]
    },
    {
     "name": "stdout",
     "output_type": "stream",
     "text": [
      "2022-06-03 00:37:53,469 - root - INFO - Done preparing output\n",
      "2022-06-03 00:37:53,470 - kedro.io.data_catalog - INFO - Saving data to `resource_summary_table_20220601_decentral` (PartitionedDataSet)...\n"
     ]
    },
    {
     "name": "stderr",
     "output_type": "stream",
     "text": [
      "/Users/ejwillemse/dev/waste_labs_dev/project_rdi_cpt/src/mcarptif/visualise/route_tables.py:146: FutureWarning:\n",
      "\n",
      "The frame.append method is deprecated and will be removed from pandas in a future version. Use pandas.concat instead.\n",
      "\n"
     ]
    },
    {
     "name": "stdout",
     "output_type": "stream",
     "text": [
      "\n",
      "\n",
      " RUNNING SCENARIO households_018\n",
      "2022-06-03 00:37:54,016 - kedro.io.data_catalog - INFO - Loading data from `waste_gen_scenarios_local_20220601` (PartitionedDataSet)...\n",
      "2022-06-03 00:37:54,036 - kedro.io.data_catalog - INFO - Loading data from `routing_parameters` (ExcelDataSet)...\n",
      "2022-06-03 00:37:54,223 - root - INFO - Preparing road network.......\n",
      "\n",
      "2022-06-03 00:37:54,295 - root - INFO - Load required arcs\n",
      "2022-06-03 00:37:54,296 - root - INFO - Merging with the network\n",
      "2022-06-03 00:37:54,327 - root - INFO - Set depot\n",
      "2022-06-03 00:37:54,331 - root - INFO - Set offload facilities\n",
      "2022-06-03 00:37:54,344 - root - INFO - Extend required arcs with inverse edge arcs\n"
     ]
    },
    {
     "name": "stderr",
     "output_type": "stream",
     "text": [
      "/Users/ejwillemse/opt/anaconda3/envs/python_RD/lib/python3.8/site-packages/tables/array.py:241: DeprecationWarning:\n",
      "\n",
      "`np.object` is a deprecated alias for the builtin `object`. To silence this warning, use `object` by itself. Doing this will not modify any behavior and is safe. \n",
      "Deprecated in NumPy 1.20; for more details and guidance: https://numpy.org/devdocs/release/1.20.0-notes.html#deprecations\n",
      "\n"
     ]
    },
    {
     "name": "stdout",
     "output_type": "stream",
     "text": [
      "2022-06-03 00:37:54,439 - root - INFO - Checking master list\n",
      "2022-06-03 00:37:54,446 - root - INFO - Load distance matrix: 8128 x 8128\n"
     ]
    },
    {
     "name": "stderr",
     "output_type": "stream",
     "text": [
      "/Users/ejwillemse/opt/anaconda3/envs/python_RD/lib/python3.8/site-packages/tables/array.py:241: DeprecationWarning:\n",
      "\n",
      "`np.object` is a deprecated alias for the builtin `object`. To silence this warning, use `object` by itself. Doing this will not modify any behavior and is safe. \n",
      "Deprecated in NumPy 1.20; for more details and guidance: https://numpy.org/devdocs/release/1.20.0-notes.html#deprecations\n",
      "\n",
      "/Users/ejwillemse/opt/anaconda3/envs/python_RD/lib/python3.8/site-packages/tables/leaf.py:544: VisibleDeprecationWarning:\n",
      "\n",
      "Creating an ndarray from ragged nested sequences (which is a list-or-tuple of lists-or-tuples-or ndarrays with different lengths or shapes) is deprecated. If you meant to do this, you must specify 'dtype=object' when creating the ndarray.\n",
      "\n"
     ]
    },
    {
     "name": "stdout",
     "output_type": "stream",
     "text": [
      "2022-06-03 00:38:01,901 - root - INFO - Creating nearest neighbour lists\n",
      "2022-06-03 00:38:05,663 - root - INFO - Calculate offloads: 8128 x 8128 x 2\n",
      "2022-06-03 00:38:17,022 - root - INFO - Done!\n",
      "2022-06-03 00:38:17,065 - root - INFO - Uploading scenario inputs...\n",
      "2022-06-03 00:38:17,098 - root - INFO - Setting service cost for network\n",
      "2022-06-03 00:38:17,110 - root - INFO - Setting demand for network\n",
      "2022-06-03 00:38:17,124 - root - INFO - Update travel durations.\n",
      "2022-06-03 00:38:17,416 - root - INFO - Update offload durations.\n",
      "2022-06-03 00:38:17,838 - root - INFO - Done\n",
      "2022-06-03 00:38:17,867 - root - INFO - Problem info supplied. Directly proceeding to solve problem.\n",
      "2022-06-03 00:38:54,330 - root - INFO - Done generating routes\n",
      "Number of routes: 18\n",
      "2022-06-03 00:38:54,332 - root - INFO - Preparing scenario outputs...\n"
     ]
    },
    {
     "name": "stderr",
     "output_type": "stream",
     "text": [
      "/Users/ejwillemse/opt/anaconda3/envs/python_RD/lib/python3.8/site-packages/tables/array.py:241: DeprecationWarning:\n",
      "\n",
      "`np.object` is a deprecated alias for the builtin `object`. To silence this warning, use `object` by itself. Doing this will not modify any behavior and is safe. \n",
      "Deprecated in NumPy 1.20; for more details and guidance: https://numpy.org/devdocs/release/1.20.0-notes.html#deprecations\n",
      "\n"
     ]
    },
    {
     "name": "stdout",
     "output_type": "stream",
     "text": [
      "2022-06-03 00:39:04,445 - root - INFO - Done preparing output\n",
      "2022-06-03 00:39:04,446 - kedro.io.data_catalog - INFO - Saving data to `resource_summary_table_20220601_decentral` (PartitionedDataSet)...\n"
     ]
    },
    {
     "name": "stderr",
     "output_type": "stream",
     "text": [
      "/Users/ejwillemse/dev/waste_labs_dev/project_rdi_cpt/src/mcarptif/visualise/route_tables.py:146: FutureWarning:\n",
      "\n",
      "The frame.append method is deprecated and will be removed from pandas in a future version. Use pandas.concat instead.\n",
      "\n"
     ]
    },
    {
     "name": "stdout",
     "output_type": "stream",
     "text": [
      "\n",
      "\n",
      " RUNNING SCENARIO households_019\n",
      "2022-06-03 00:39:04,976 - kedro.io.data_catalog - INFO - Loading data from `waste_gen_scenarios_local_20220601` (PartitionedDataSet)...\n",
      "2022-06-03 00:39:04,995 - kedro.io.data_catalog - INFO - Loading data from `routing_parameters` (ExcelDataSet)...\n",
      "2022-06-03 00:39:05,193 - root - INFO - Preparing road network.......\n",
      "\n",
      "2022-06-03 00:39:05,268 - root - INFO - Load required arcs\n",
      "2022-06-03 00:39:05,270 - root - INFO - Merging with the network\n",
      "2022-06-03 00:39:05,303 - root - INFO - Set depot\n",
      "2022-06-03 00:39:05,307 - root - INFO - Set offload facilities\n",
      "2022-06-03 00:39:05,319 - root - INFO - Extend required arcs with inverse edge arcs\n"
     ]
    },
    {
     "name": "stderr",
     "output_type": "stream",
     "text": [
      "/Users/ejwillemse/opt/anaconda3/envs/python_RD/lib/python3.8/site-packages/tables/array.py:241: DeprecationWarning:\n",
      "\n",
      "`np.object` is a deprecated alias for the builtin `object`. To silence this warning, use `object` by itself. Doing this will not modify any behavior and is safe. \n",
      "Deprecated in NumPy 1.20; for more details and guidance: https://numpy.org/devdocs/release/1.20.0-notes.html#deprecations\n",
      "\n"
     ]
    },
    {
     "name": "stdout",
     "output_type": "stream",
     "text": [
      "2022-06-03 00:39:05,417 - root - INFO - Checking master list\n",
      "2022-06-03 00:39:05,426 - root - INFO - Load distance matrix: 8119 x 8119\n"
     ]
    },
    {
     "name": "stderr",
     "output_type": "stream",
     "text": [
      "/Users/ejwillemse/opt/anaconda3/envs/python_RD/lib/python3.8/site-packages/tables/array.py:241: DeprecationWarning:\n",
      "\n",
      "`np.object` is a deprecated alias for the builtin `object`. To silence this warning, use `object` by itself. Doing this will not modify any behavior and is safe. \n",
      "Deprecated in NumPy 1.20; for more details and guidance: https://numpy.org/devdocs/release/1.20.0-notes.html#deprecations\n",
      "\n",
      "/Users/ejwillemse/opt/anaconda3/envs/python_RD/lib/python3.8/site-packages/tables/leaf.py:544: VisibleDeprecationWarning:\n",
      "\n",
      "Creating an ndarray from ragged nested sequences (which is a list-or-tuple of lists-or-tuples-or ndarrays with different lengths or shapes) is deprecated. If you meant to do this, you must specify 'dtype=object' when creating the ndarray.\n",
      "\n"
     ]
    },
    {
     "name": "stdout",
     "output_type": "stream",
     "text": [
      "2022-06-03 00:39:12,185 - root - INFO - Creating nearest neighbour lists\n",
      "2022-06-03 00:39:15,794 - root - INFO - Calculate offloads: 8119 x 8119 x 2\n",
      "2022-06-03 00:39:25,147 - root - INFO - Done!\n",
      "2022-06-03 00:39:25,194 - root - INFO - Uploading scenario inputs...\n",
      "2022-06-03 00:39:25,220 - root - INFO - Setting service cost for network\n",
      "2022-06-03 00:39:25,229 - root - INFO - Setting demand for network\n",
      "2022-06-03 00:39:25,242 - root - INFO - Update travel durations.\n",
      "2022-06-03 00:39:25,536 - root - INFO - Update offload durations.\n",
      "2022-06-03 00:39:25,968 - root - INFO - Done\n",
      "2022-06-03 00:39:25,969 - root - INFO - Problem info supplied. Directly proceeding to solve problem.\n",
      "2022-06-03 00:40:02,390 - root - INFO - Done generating routes\n",
      "Number of routes: 18\n",
      "2022-06-03 00:40:02,392 - root - INFO - Preparing scenario outputs...\n"
     ]
    },
    {
     "name": "stderr",
     "output_type": "stream",
     "text": [
      "/Users/ejwillemse/opt/anaconda3/envs/python_RD/lib/python3.8/site-packages/tables/array.py:241: DeprecationWarning:\n",
      "\n",
      "`np.object` is a deprecated alias for the builtin `object`. To silence this warning, use `object` by itself. Doing this will not modify any behavior and is safe. \n",
      "Deprecated in NumPy 1.20; for more details and guidance: https://numpy.org/devdocs/release/1.20.0-notes.html#deprecations\n",
      "\n"
     ]
    },
    {
     "name": "stdout",
     "output_type": "stream",
     "text": [
      "2022-06-03 00:40:12,381 - root - INFO - Done preparing output\n",
      "2022-06-03 00:40:12,383 - kedro.io.data_catalog - INFO - Saving data to `resource_summary_table_20220601_decentral` (PartitionedDataSet)...\n"
     ]
    },
    {
     "name": "stderr",
     "output_type": "stream",
     "text": [
      "/Users/ejwillemse/dev/waste_labs_dev/project_rdi_cpt/src/mcarptif/visualise/route_tables.py:146: FutureWarning:\n",
      "\n",
      "The frame.append method is deprecated and will be removed from pandas in a future version. Use pandas.concat instead.\n",
      "\n"
     ]
    },
    {
     "name": "stdout",
     "output_type": "stream",
     "text": [
      "\n",
      "\n",
      " RUNNING SCENARIO households_020\n",
      "2022-06-03 00:40:12,873 - kedro.io.data_catalog - INFO - Loading data from `waste_gen_scenarios_local_20220601` (PartitionedDataSet)...\n",
      "2022-06-03 00:40:12,893 - kedro.io.data_catalog - INFO - Loading data from `routing_parameters` (ExcelDataSet)...\n",
      "2022-06-03 00:40:13,073 - root - INFO - Preparing road network.......\n",
      "\n",
      "2022-06-03 00:40:13,143 - root - INFO - Load required arcs\n",
      "2022-06-03 00:40:13,144 - root - INFO - Merging with the network\n",
      "2022-06-03 00:40:13,172 - root - INFO - Set depot\n",
      "2022-06-03 00:40:13,176 - root - INFO - Set offload facilities\n",
      "2022-06-03 00:40:13,186 - root - INFO - Extend required arcs with inverse edge arcs\n"
     ]
    },
    {
     "name": "stderr",
     "output_type": "stream",
     "text": [
      "/Users/ejwillemse/opt/anaconda3/envs/python_RD/lib/python3.8/site-packages/tables/array.py:241: DeprecationWarning:\n",
      "\n",
      "`np.object` is a deprecated alias for the builtin `object`. To silence this warning, use `object` by itself. Doing this will not modify any behavior and is safe. \n",
      "Deprecated in NumPy 1.20; for more details and guidance: https://numpy.org/devdocs/release/1.20.0-notes.html#deprecations\n",
      "\n"
     ]
    },
    {
     "name": "stdout",
     "output_type": "stream",
     "text": [
      "2022-06-03 00:40:13,285 - root - INFO - Checking master list\n",
      "2022-06-03 00:40:13,294 - root - INFO - Load distance matrix: 8123 x 8123\n"
     ]
    },
    {
     "name": "stderr",
     "output_type": "stream",
     "text": [
      "/Users/ejwillemse/opt/anaconda3/envs/python_RD/lib/python3.8/site-packages/tables/array.py:241: DeprecationWarning:\n",
      "\n",
      "`np.object` is a deprecated alias for the builtin `object`. To silence this warning, use `object` by itself. Doing this will not modify any behavior and is safe. \n",
      "Deprecated in NumPy 1.20; for more details and guidance: https://numpy.org/devdocs/release/1.20.0-notes.html#deprecations\n",
      "\n",
      "/Users/ejwillemse/opt/anaconda3/envs/python_RD/lib/python3.8/site-packages/tables/leaf.py:544: VisibleDeprecationWarning:\n",
      "\n",
      "Creating an ndarray from ragged nested sequences (which is a list-or-tuple of lists-or-tuples-or ndarrays with different lengths or shapes) is deprecated. If you meant to do this, you must specify 'dtype=object' when creating the ndarray.\n",
      "\n"
     ]
    },
    {
     "name": "stdout",
     "output_type": "stream",
     "text": [
      "2022-06-03 00:40:20,216 - root - INFO - Creating nearest neighbour lists\n",
      "2022-06-03 00:40:23,900 - root - INFO - Calculate offloads: 8123 x 8123 x 2\n",
      "2022-06-03 00:40:32,441 - root - INFO - Done!\n",
      "2022-06-03 00:40:32,485 - root - INFO - Uploading scenario inputs...\n",
      "2022-06-03 00:40:32,514 - root - INFO - Setting service cost for network\n",
      "2022-06-03 00:40:32,529 - root - INFO - Setting demand for network\n",
      "2022-06-03 00:40:32,544 - root - INFO - Update travel durations.\n",
      "2022-06-03 00:40:32,849 - root - INFO - Update offload durations.\n",
      "2022-06-03 00:40:33,282 - root - INFO - Done\n",
      "2022-06-03 00:40:33,283 - root - INFO - Problem info supplied. Directly proceeding to solve problem.\n",
      "2022-06-03 00:41:08,669 - root - INFO - Done generating routes\n",
      "Number of routes: 18\n",
      "2022-06-03 00:41:08,673 - root - INFO - Preparing scenario outputs...\n"
     ]
    },
    {
     "name": "stderr",
     "output_type": "stream",
     "text": [
      "/Users/ejwillemse/opt/anaconda3/envs/python_RD/lib/python3.8/site-packages/tables/array.py:241: DeprecationWarning:\n",
      "\n",
      "`np.object` is a deprecated alias for the builtin `object`. To silence this warning, use `object` by itself. Doing this will not modify any behavior and is safe. \n",
      "Deprecated in NumPy 1.20; for more details and guidance: https://numpy.org/devdocs/release/1.20.0-notes.html#deprecations\n",
      "\n"
     ]
    },
    {
     "name": "stdout",
     "output_type": "stream",
     "text": [
      "2022-06-03 00:41:18,588 - root - INFO - Done preparing output\n",
      "2022-06-03 00:41:18,589 - kedro.io.data_catalog - INFO - Saving data to `resource_summary_table_20220601_decentral` (PartitionedDataSet)...\n"
     ]
    },
    {
     "name": "stderr",
     "output_type": "stream",
     "text": [
      "/Users/ejwillemse/dev/waste_labs_dev/project_rdi_cpt/src/mcarptif/visualise/route_tables.py:146: FutureWarning:\n",
      "\n",
      "The frame.append method is deprecated and will be removed from pandas in a future version. Use pandas.concat instead.\n",
      "\n"
     ]
    },
    {
     "name": "stdout",
     "output_type": "stream",
     "text": [
      "\n",
      "\n",
      " RUNNING SCENARIO households_021\n",
      "2022-06-03 00:41:19,092 - kedro.io.data_catalog - INFO - Loading data from `waste_gen_scenarios_local_20220601` (PartitionedDataSet)...\n",
      "2022-06-03 00:41:19,111 - kedro.io.data_catalog - INFO - Loading data from `routing_parameters` (ExcelDataSet)...\n",
      "2022-06-03 00:41:19,295 - root - INFO - Preparing road network.......\n",
      "\n",
      "2022-06-03 00:41:19,355 - root - INFO - Load required arcs\n",
      "2022-06-03 00:41:19,357 - root - INFO - Merging with the network\n",
      "2022-06-03 00:41:19,385 - root - INFO - Set depot\n",
      "2022-06-03 00:41:19,388 - root - INFO - Set offload facilities\n",
      "2022-06-03 00:41:19,399 - root - INFO - Extend required arcs with inverse edge arcs\n",
      "2022-06-03 00:41:19,495 - root - INFO - Checking master list\n",
      "2022-06-03 00:41:19,503 - root - INFO - Load distance matrix: 8158 x 8158\n"
     ]
    },
    {
     "name": "stderr",
     "output_type": "stream",
     "text": [
      "/Users/ejwillemse/opt/anaconda3/envs/python_RD/lib/python3.8/site-packages/tables/array.py:241: DeprecationWarning:\n",
      "\n",
      "`np.object` is a deprecated alias for the builtin `object`. To silence this warning, use `object` by itself. Doing this will not modify any behavior and is safe. \n",
      "Deprecated in NumPy 1.20; for more details and guidance: https://numpy.org/devdocs/release/1.20.0-notes.html#deprecations\n",
      "\n",
      "/Users/ejwillemse/opt/anaconda3/envs/python_RD/lib/python3.8/site-packages/tables/array.py:241: DeprecationWarning:\n",
      "\n",
      "`np.object` is a deprecated alias for the builtin `object`. To silence this warning, use `object` by itself. Doing this will not modify any behavior and is safe. \n",
      "Deprecated in NumPy 1.20; for more details and guidance: https://numpy.org/devdocs/release/1.20.0-notes.html#deprecations\n",
      "\n",
      "/Users/ejwillemse/opt/anaconda3/envs/python_RD/lib/python3.8/site-packages/tables/leaf.py:544: VisibleDeprecationWarning:\n",
      "\n",
      "Creating an ndarray from ragged nested sequences (which is a list-or-tuple of lists-or-tuples-or ndarrays with different lengths or shapes) is deprecated. If you meant to do this, you must specify 'dtype=object' when creating the ndarray.\n",
      "\n"
     ]
    },
    {
     "name": "stdout",
     "output_type": "stream",
     "text": [
      "2022-06-03 00:41:27,701 - root - INFO - Creating nearest neighbour lists\n",
      "2022-06-03 00:41:31,775 - root - INFO - Calculate offloads: 8158 x 8158 x 2\n",
      "2022-06-03 00:41:43,998 - root - INFO - Done!\n",
      "2022-06-03 00:41:44,660 - root - INFO - Uploading scenario inputs...\n",
      "2022-06-03 00:41:44,689 - root - INFO - Setting service cost for network\n",
      "2022-06-03 00:41:44,704 - root - INFO - Setting demand for network\n",
      "2022-06-03 00:41:44,726 - root - INFO - Update travel durations.\n",
      "2022-06-03 00:41:45,119 - root - INFO - Update offload durations.\n",
      "2022-06-03 00:41:45,564 - root - INFO - Done\n",
      "2022-06-03 00:41:45,565 - root - INFO - Problem info supplied. Directly proceeding to solve problem.\n",
      "2022-06-03 00:42:22,867 - root - INFO - Done generating routes\n",
      "Number of routes: 18\n",
      "2022-06-03 00:42:22,869 - root - INFO - Preparing scenario outputs...\n"
     ]
    },
    {
     "name": "stderr",
     "output_type": "stream",
     "text": [
      "/Users/ejwillemse/opt/anaconda3/envs/python_RD/lib/python3.8/site-packages/tables/array.py:241: DeprecationWarning:\n",
      "\n",
      "`np.object` is a deprecated alias for the builtin `object`. To silence this warning, use `object` by itself. Doing this will not modify any behavior and is safe. \n",
      "Deprecated in NumPy 1.20; for more details and guidance: https://numpy.org/devdocs/release/1.20.0-notes.html#deprecations\n",
      "\n"
     ]
    },
    {
     "name": "stdout",
     "output_type": "stream",
     "text": [
      "2022-06-03 00:42:33,688 - root - INFO - Done preparing output\n",
      "2022-06-03 00:42:33,689 - kedro.io.data_catalog - INFO - Saving data to `resource_summary_table_20220601_decentral` (PartitionedDataSet)...\n"
     ]
    },
    {
     "name": "stderr",
     "output_type": "stream",
     "text": [
      "/Users/ejwillemse/dev/waste_labs_dev/project_rdi_cpt/src/mcarptif/visualise/route_tables.py:146: FutureWarning:\n",
      "\n",
      "The frame.append method is deprecated and will be removed from pandas in a future version. Use pandas.concat instead.\n",
      "\n"
     ]
    },
    {
     "name": "stdout",
     "output_type": "stream",
     "text": [
      "\n",
      "\n",
      " RUNNING SCENARIO households_022\n",
      "2022-06-03 00:42:34,282 - kedro.io.data_catalog - INFO - Loading data from `waste_gen_scenarios_local_20220601` (PartitionedDataSet)...\n",
      "2022-06-03 00:42:34,301 - kedro.io.data_catalog - INFO - Loading data from `routing_parameters` (ExcelDataSet)...\n",
      "2022-06-03 00:42:34,509 - root - INFO - Preparing road network.......\n",
      "\n",
      "2022-06-03 00:42:34,586 - root - INFO - Load required arcs\n",
      "2022-06-03 00:42:34,587 - root - INFO - Merging with the network\n",
      "2022-06-03 00:42:34,618 - root - INFO - Set depot\n",
      "2022-06-03 00:42:34,621 - root - INFO - Set offload facilities\n",
      "2022-06-03 00:42:34,640 - root - INFO - Extend required arcs with inverse edge arcs\n"
     ]
    },
    {
     "name": "stderr",
     "output_type": "stream",
     "text": [
      "/Users/ejwillemse/opt/anaconda3/envs/python_RD/lib/python3.8/site-packages/tables/array.py:241: DeprecationWarning:\n",
      "\n",
      "`np.object` is a deprecated alias for the builtin `object`. To silence this warning, use `object` by itself. Doing this will not modify any behavior and is safe. \n",
      "Deprecated in NumPy 1.20; for more details and guidance: https://numpy.org/devdocs/release/1.20.0-notes.html#deprecations\n",
      "\n"
     ]
    },
    {
     "name": "stdout",
     "output_type": "stream",
     "text": [
      "2022-06-03 00:42:34,764 - root - INFO - Checking master list\n",
      "2022-06-03 00:42:34,773 - root - INFO - Load distance matrix: 8113 x 8113\n"
     ]
    },
    {
     "name": "stderr",
     "output_type": "stream",
     "text": [
      "/Users/ejwillemse/opt/anaconda3/envs/python_RD/lib/python3.8/site-packages/tables/array.py:241: DeprecationWarning:\n",
      "\n",
      "`np.object` is a deprecated alias for the builtin `object`. To silence this warning, use `object` by itself. Doing this will not modify any behavior and is safe. \n",
      "Deprecated in NumPy 1.20; for more details and guidance: https://numpy.org/devdocs/release/1.20.0-notes.html#deprecations\n",
      "\n",
      "/Users/ejwillemse/opt/anaconda3/envs/python_RD/lib/python3.8/site-packages/tables/leaf.py:544: VisibleDeprecationWarning:\n",
      "\n",
      "Creating an ndarray from ragged nested sequences (which is a list-or-tuple of lists-or-tuples-or ndarrays with different lengths or shapes) is deprecated. If you meant to do this, you must specify 'dtype=object' when creating the ndarray.\n",
      "\n"
     ]
    },
    {
     "name": "stdout",
     "output_type": "stream",
     "text": [
      "2022-06-03 00:42:43,570 - root - INFO - Creating nearest neighbour lists\n",
      "2022-06-03 00:42:47,521 - root - INFO - Calculate offloads: 8113 x 8113 x 2\n",
      "2022-06-03 00:42:59,285 - root - INFO - Done!\n",
      "2022-06-03 00:42:59,954 - root - INFO - Uploading scenario inputs...\n",
      "2022-06-03 00:42:59,995 - root - INFO - Setting service cost for network\n",
      "2022-06-03 00:43:00,009 - root - INFO - Setting demand for network\n",
      "2022-06-03 00:43:00,023 - root - INFO - Update travel durations.\n",
      "2022-06-03 00:43:00,423 - root - INFO - Update offload durations.\n",
      "2022-06-03 00:43:00,847 - root - INFO - Done\n",
      "2022-06-03 00:43:00,848 - root - INFO - Problem info supplied. Directly proceeding to solve problem.\n",
      "2022-06-03 00:43:40,281 - root - INFO - Done generating routes\n",
      "Number of routes: 18\n",
      "2022-06-03 00:43:40,283 - root - INFO - Preparing scenario outputs...\n"
     ]
    },
    {
     "name": "stderr",
     "output_type": "stream",
     "text": [
      "/Users/ejwillemse/opt/anaconda3/envs/python_RD/lib/python3.8/site-packages/tables/array.py:241: DeprecationWarning:\n",
      "\n",
      "`np.object` is a deprecated alias for the builtin `object`. To silence this warning, use `object` by itself. Doing this will not modify any behavior and is safe. \n",
      "Deprecated in NumPy 1.20; for more details and guidance: https://numpy.org/devdocs/release/1.20.0-notes.html#deprecations\n",
      "\n"
     ]
    },
    {
     "name": "stdout",
     "output_type": "stream",
     "text": [
      "2022-06-03 00:43:52,479 - root - INFO - Done preparing output\n",
      "2022-06-03 00:43:52,480 - kedro.io.data_catalog - INFO - Saving data to `resource_summary_table_20220601_decentral` (PartitionedDataSet)...\n"
     ]
    },
    {
     "name": "stderr",
     "output_type": "stream",
     "text": [
      "/Users/ejwillemse/dev/waste_labs_dev/project_rdi_cpt/src/mcarptif/visualise/route_tables.py:146: FutureWarning:\n",
      "\n",
      "The frame.append method is deprecated and will be removed from pandas in a future version. Use pandas.concat instead.\n",
      "\n"
     ]
    },
    {
     "name": "stdout",
     "output_type": "stream",
     "text": [
      "\n",
      "\n",
      " RUNNING SCENARIO households_023\n",
      "2022-06-03 00:43:53,051 - kedro.io.data_catalog - INFO - Loading data from `waste_gen_scenarios_local_20220601` (PartitionedDataSet)...\n",
      "2022-06-03 00:43:53,080 - kedro.io.data_catalog - INFO - Loading data from `routing_parameters` (ExcelDataSet)...\n",
      "2022-06-03 00:43:53,291 - root - INFO - Preparing road network.......\n",
      "\n",
      "2022-06-03 00:43:53,368 - root - INFO - Load required arcs\n",
      "2022-06-03 00:43:53,374 - root - INFO - Merging with the network\n",
      "2022-06-03 00:43:53,402 - root - INFO - Set depot\n",
      "2022-06-03 00:43:53,410 - root - INFO - Set offload facilities\n",
      "2022-06-03 00:43:53,425 - root - INFO - Extend required arcs with inverse edge arcs\n"
     ]
    },
    {
     "name": "stderr",
     "output_type": "stream",
     "text": [
      "/Users/ejwillemse/opt/anaconda3/envs/python_RD/lib/python3.8/site-packages/tables/array.py:241: DeprecationWarning:\n",
      "\n",
      "`np.object` is a deprecated alias for the builtin `object`. To silence this warning, use `object` by itself. Doing this will not modify any behavior and is safe. \n",
      "Deprecated in NumPy 1.20; for more details and guidance: https://numpy.org/devdocs/release/1.20.0-notes.html#deprecations\n",
      "\n"
     ]
    },
    {
     "name": "stdout",
     "output_type": "stream",
     "text": [
      "2022-06-03 00:43:53,538 - root - INFO - Checking master list\n",
      "2022-06-03 00:43:53,546 - root - INFO - Load distance matrix: 8146 x 8146\n"
     ]
    },
    {
     "name": "stderr",
     "output_type": "stream",
     "text": [
      "/Users/ejwillemse/opt/anaconda3/envs/python_RD/lib/python3.8/site-packages/tables/array.py:241: DeprecationWarning:\n",
      "\n",
      "`np.object` is a deprecated alias for the builtin `object`. To silence this warning, use `object` by itself. Doing this will not modify any behavior and is safe. \n",
      "Deprecated in NumPy 1.20; for more details and guidance: https://numpy.org/devdocs/release/1.20.0-notes.html#deprecations\n",
      "\n",
      "/Users/ejwillemse/opt/anaconda3/envs/python_RD/lib/python3.8/site-packages/tables/leaf.py:544: VisibleDeprecationWarning:\n",
      "\n",
      "Creating an ndarray from ragged nested sequences (which is a list-or-tuple of lists-or-tuples-or ndarrays with different lengths or shapes) is deprecated. If you meant to do this, you must specify 'dtype=object' when creating the ndarray.\n",
      "\n"
     ]
    },
    {
     "name": "stdout",
     "output_type": "stream",
     "text": [
      "2022-06-03 00:44:02,808 - root - INFO - Creating nearest neighbour lists\n",
      "2022-06-03 00:44:06,822 - root - INFO - Calculate offloads: 8146 x 8146 x 2\n",
      "2022-06-03 00:44:18,761 - root - INFO - Done!\n",
      "2022-06-03 00:44:19,387 - root - INFO - Uploading scenario inputs...\n",
      "2022-06-03 00:44:19,418 - root - INFO - Setting service cost for network\n",
      "2022-06-03 00:44:19,429 - root - INFO - Setting demand for network\n",
      "2022-06-03 00:44:19,439 - root - INFO - Update travel durations.\n",
      "2022-06-03 00:44:19,840 - root - INFO - Update offload durations.\n",
      "2022-06-03 00:44:20,266 - root - INFO - Done\n",
      "2022-06-03 00:44:20,268 - root - INFO - Problem info supplied. Directly proceeding to solve problem.\n",
      "2022-06-03 00:44:54,854 - root - INFO - Done generating routes\n",
      "Number of routes: 18\n",
      "2022-06-03 00:44:54,856 - root - INFO - Preparing scenario outputs...\n"
     ]
    },
    {
     "name": "stderr",
     "output_type": "stream",
     "text": [
      "/Users/ejwillemse/opt/anaconda3/envs/python_RD/lib/python3.8/site-packages/tables/array.py:241: DeprecationWarning:\n",
      "\n",
      "`np.object` is a deprecated alias for the builtin `object`. To silence this warning, use `object` by itself. Doing this will not modify any behavior and is safe. \n",
      "Deprecated in NumPy 1.20; for more details and guidance: https://numpy.org/devdocs/release/1.20.0-notes.html#deprecations\n",
      "\n"
     ]
    },
    {
     "name": "stdout",
     "output_type": "stream",
     "text": [
      "2022-06-03 00:45:03,920 - root - INFO - Done preparing output\n",
      "2022-06-03 00:45:03,921 - kedro.io.data_catalog - INFO - Saving data to `resource_summary_table_20220601_decentral` (PartitionedDataSet)...\n"
     ]
    },
    {
     "name": "stderr",
     "output_type": "stream",
     "text": [
      "/Users/ejwillemse/dev/waste_labs_dev/project_rdi_cpt/src/mcarptif/visualise/route_tables.py:146: FutureWarning:\n",
      "\n",
      "The frame.append method is deprecated and will be removed from pandas in a future version. Use pandas.concat instead.\n",
      "\n"
     ]
    },
    {
     "name": "stdout",
     "output_type": "stream",
     "text": [
      "\n",
      "\n",
      " RUNNING SCENARIO households_024\n",
      "2022-06-03 00:45:04,404 - kedro.io.data_catalog - INFO - Loading data from `waste_gen_scenarios_local_20220601` (PartitionedDataSet)...\n",
      "2022-06-03 00:45:04,423 - kedro.io.data_catalog - INFO - Loading data from `routing_parameters` (ExcelDataSet)...\n",
      "2022-06-03 00:45:04,582 - root - INFO - Preparing road network.......\n",
      "\n",
      "2022-06-03 00:45:04,643 - root - INFO - Load required arcs\n",
      "2022-06-03 00:45:04,645 - root - INFO - Merging with the network\n",
      "2022-06-03 00:45:04,672 - root - INFO - Set depot\n",
      "2022-06-03 00:45:04,675 - root - INFO - Set offload facilities\n",
      "2022-06-03 00:45:04,686 - root - INFO - Extend required arcs with inverse edge arcs\n",
      "2022-06-03 00:45:04,774 - root - INFO - Checking master list\n",
      "2022-06-03 00:45:04,781 - root - INFO - Load distance matrix: 8121 x 8121\n"
     ]
    },
    {
     "name": "stderr",
     "output_type": "stream",
     "text": [
      "/Users/ejwillemse/opt/anaconda3/envs/python_RD/lib/python3.8/site-packages/tables/array.py:241: DeprecationWarning:\n",
      "\n",
      "`np.object` is a deprecated alias for the builtin `object`. To silence this warning, use `object` by itself. Doing this will not modify any behavior and is safe. \n",
      "Deprecated in NumPy 1.20; for more details and guidance: https://numpy.org/devdocs/release/1.20.0-notes.html#deprecations\n",
      "\n",
      "/Users/ejwillemse/opt/anaconda3/envs/python_RD/lib/python3.8/site-packages/tables/array.py:241: DeprecationWarning:\n",
      "\n",
      "`np.object` is a deprecated alias for the builtin `object`. To silence this warning, use `object` by itself. Doing this will not modify any behavior and is safe. \n",
      "Deprecated in NumPy 1.20; for more details and guidance: https://numpy.org/devdocs/release/1.20.0-notes.html#deprecations\n",
      "\n",
      "/Users/ejwillemse/opt/anaconda3/envs/python_RD/lib/python3.8/site-packages/tables/leaf.py:544: VisibleDeprecationWarning:\n",
      "\n",
      "Creating an ndarray from ragged nested sequences (which is a list-or-tuple of lists-or-tuples-or ndarrays with different lengths or shapes) is deprecated. If you meant to do this, you must specify 'dtype=object' when creating the ndarray.\n",
      "\n"
     ]
    },
    {
     "name": "stdout",
     "output_type": "stream",
     "text": [
      "2022-06-03 00:45:12,017 - root - INFO - Creating nearest neighbour lists\n",
      "2022-06-03 00:45:15,784 - root - INFO - Calculate offloads: 8121 x 8121 x 2\n",
      "2022-06-03 00:45:26,800 - root - INFO - Done!\n",
      "2022-06-03 00:45:27,466 - root - INFO - Uploading scenario inputs...\n",
      "2022-06-03 00:45:27,498 - root - INFO - Setting service cost for network\n",
      "2022-06-03 00:45:27,511 - root - INFO - Setting demand for network\n",
      "2022-06-03 00:45:27,522 - root - INFO - Update travel durations.\n",
      "2022-06-03 00:45:27,925 - root - INFO - Update offload durations.\n",
      "2022-06-03 00:45:28,339 - root - INFO - Done\n",
      "2022-06-03 00:45:28,340 - root - INFO - Problem info supplied. Directly proceeding to solve problem.\n",
      "2022-06-03 00:46:03,519 - root - INFO - Done generating routes\n",
      "Number of routes: 18\n",
      "2022-06-03 00:46:03,520 - root - INFO - Preparing scenario outputs...\n"
     ]
    },
    {
     "name": "stderr",
     "output_type": "stream",
     "text": [
      "/Users/ejwillemse/opt/anaconda3/envs/python_RD/lib/python3.8/site-packages/tables/array.py:241: DeprecationWarning:\n",
      "\n",
      "`np.object` is a deprecated alias for the builtin `object`. To silence this warning, use `object` by itself. Doing this will not modify any behavior and is safe. \n",
      "Deprecated in NumPy 1.20; for more details and guidance: https://numpy.org/devdocs/release/1.20.0-notes.html#deprecations\n",
      "\n"
     ]
    },
    {
     "name": "stdout",
     "output_type": "stream",
     "text": [
      "2022-06-03 00:46:12,758 - root - INFO - Done preparing output\n",
      "2022-06-03 00:46:12,760 - kedro.io.data_catalog - INFO - Saving data to `resource_summary_table_20220601_decentral` (PartitionedDataSet)...\n"
     ]
    },
    {
     "name": "stderr",
     "output_type": "stream",
     "text": [
      "/Users/ejwillemse/dev/waste_labs_dev/project_rdi_cpt/src/mcarptif/visualise/route_tables.py:146: FutureWarning:\n",
      "\n",
      "The frame.append method is deprecated and will be removed from pandas in a future version. Use pandas.concat instead.\n",
      "\n"
     ]
    },
    {
     "name": "stdout",
     "output_type": "stream",
     "text": [
      "\n",
      "\n",
      " RUNNING SCENARIO households_025\n",
      "2022-06-03 00:46:13,251 - kedro.io.data_catalog - INFO - Loading data from `waste_gen_scenarios_local_20220601` (PartitionedDataSet)...\n",
      "2022-06-03 00:46:13,272 - kedro.io.data_catalog - INFO - Loading data from `routing_parameters` (ExcelDataSet)...\n",
      "2022-06-03 00:46:13,436 - root - INFO - Preparing road network.......\n",
      "\n",
      "2022-06-03 00:46:13,497 - root - INFO - Load required arcs\n",
      "2022-06-03 00:46:13,499 - root - INFO - Merging with the network\n",
      "2022-06-03 00:46:13,525 - root - INFO - Set depot\n",
      "2022-06-03 00:46:13,529 - root - INFO - Set offload facilities\n",
      "2022-06-03 00:46:13,539 - root - INFO - Extend required arcs with inverse edge arcs\n",
      "2022-06-03 00:46:13,634 - root - INFO - Checking master list\n",
      "2022-06-03 00:46:13,640 - root - INFO - Load distance matrix: 8126 x 8126\n"
     ]
    },
    {
     "name": "stderr",
     "output_type": "stream",
     "text": [
      "/Users/ejwillemse/opt/anaconda3/envs/python_RD/lib/python3.8/site-packages/tables/array.py:241: DeprecationWarning:\n",
      "\n",
      "`np.object` is a deprecated alias for the builtin `object`. To silence this warning, use `object` by itself. Doing this will not modify any behavior and is safe. \n",
      "Deprecated in NumPy 1.20; for more details and guidance: https://numpy.org/devdocs/release/1.20.0-notes.html#deprecations\n",
      "\n",
      "/Users/ejwillemse/opt/anaconda3/envs/python_RD/lib/python3.8/site-packages/tables/array.py:241: DeprecationWarning:\n",
      "\n",
      "`np.object` is a deprecated alias for the builtin `object`. To silence this warning, use `object` by itself. Doing this will not modify any behavior and is safe. \n",
      "Deprecated in NumPy 1.20; for more details and guidance: https://numpy.org/devdocs/release/1.20.0-notes.html#deprecations\n",
      "\n",
      "/Users/ejwillemse/opt/anaconda3/envs/python_RD/lib/python3.8/site-packages/tables/leaf.py:544: VisibleDeprecationWarning:\n",
      "\n",
      "Creating an ndarray from ragged nested sequences (which is a list-or-tuple of lists-or-tuples-or ndarrays with different lengths or shapes) is deprecated. If you meant to do this, you must specify 'dtype=object' when creating the ndarray.\n",
      "\n"
     ]
    },
    {
     "name": "stdout",
     "output_type": "stream",
     "text": [
      "2022-06-03 00:46:21,382 - root - INFO - Creating nearest neighbour lists\n",
      "2022-06-03 00:46:24,844 - root - INFO - Calculate offloads: 8126 x 8126 x 2\n",
      "2022-06-03 00:46:34,412 - root - INFO - Done!\n",
      "2022-06-03 00:46:34,455 - root - INFO - Uploading scenario inputs...\n",
      "2022-06-03 00:46:34,481 - root - INFO - Setting service cost for network\n",
      "2022-06-03 00:46:34,493 - root - INFO - Setting demand for network\n",
      "2022-06-03 00:46:34,505 - root - INFO - Update travel durations.\n",
      "2022-06-03 00:46:34,801 - root - INFO - Update offload durations.\n",
      "2022-06-03 00:46:35,199 - root - INFO - Done\n",
      "2022-06-03 00:46:35,200 - root - INFO - Problem info supplied. Directly proceeding to solve problem.\n",
      "2022-06-03 00:47:09,359 - root - INFO - Done generating routes\n",
      "Number of routes: 18\n",
      "2022-06-03 00:47:09,361 - root - INFO - Preparing scenario outputs...\n"
     ]
    },
    {
     "name": "stderr",
     "output_type": "stream",
     "text": [
      "/Users/ejwillemse/opt/anaconda3/envs/python_RD/lib/python3.8/site-packages/tables/array.py:241: DeprecationWarning:\n",
      "\n",
      "`np.object` is a deprecated alias for the builtin `object`. To silence this warning, use `object` by itself. Doing this will not modify any behavior and is safe. \n",
      "Deprecated in NumPy 1.20; for more details and guidance: https://numpy.org/devdocs/release/1.20.0-notes.html#deprecations\n",
      "\n"
     ]
    },
    {
     "name": "stdout",
     "output_type": "stream",
     "text": [
      "2022-06-03 00:47:18,571 - root - INFO - Done preparing output\n",
      "2022-06-03 00:47:18,572 - kedro.io.data_catalog - INFO - Saving data to `resource_summary_table_20220601_decentral` (PartitionedDataSet)...\n"
     ]
    },
    {
     "name": "stderr",
     "output_type": "stream",
     "text": [
      "/Users/ejwillemse/dev/waste_labs_dev/project_rdi_cpt/src/mcarptif/visualise/route_tables.py:146: FutureWarning:\n",
      "\n",
      "The frame.append method is deprecated and will be removed from pandas in a future version. Use pandas.concat instead.\n",
      "\n"
     ]
    },
    {
     "name": "stdout",
     "output_type": "stream",
     "text": [
      "\n",
      "\n",
      " RUNNING SCENARIO households_026\n",
      "2022-06-03 00:47:19,067 - kedro.io.data_catalog - INFO - Loading data from `waste_gen_scenarios_local_20220601` (PartitionedDataSet)...\n",
      "2022-06-03 00:47:19,085 - kedro.io.data_catalog - INFO - Loading data from `routing_parameters` (ExcelDataSet)...\n",
      "2022-06-03 00:47:19,243 - root - INFO - Preparing road network.......\n",
      "\n",
      "2022-06-03 00:47:19,301 - root - INFO - Load required arcs\n",
      "2022-06-03 00:47:19,302 - root - INFO - Merging with the network\n",
      "2022-06-03 00:47:19,328 - root - INFO - Set depot\n",
      "2022-06-03 00:47:19,332 - root - INFO - Set offload facilities\n",
      "2022-06-03 00:47:19,344 - root - INFO - Extend required arcs with inverse edge arcs\n",
      "2022-06-03 00:47:19,432 - root - INFO - Checking master list\n",
      "2022-06-03 00:47:19,440 - root - INFO - Load distance matrix: 8129 x 8129\n"
     ]
    },
    {
     "name": "stderr",
     "output_type": "stream",
     "text": [
      "/Users/ejwillemse/opt/anaconda3/envs/python_RD/lib/python3.8/site-packages/tables/array.py:241: DeprecationWarning:\n",
      "\n",
      "`np.object` is a deprecated alias for the builtin `object`. To silence this warning, use `object` by itself. Doing this will not modify any behavior and is safe. \n",
      "Deprecated in NumPy 1.20; for more details and guidance: https://numpy.org/devdocs/release/1.20.0-notes.html#deprecations\n",
      "\n",
      "/Users/ejwillemse/opt/anaconda3/envs/python_RD/lib/python3.8/site-packages/tables/array.py:241: DeprecationWarning:\n",
      "\n",
      "`np.object` is a deprecated alias for the builtin `object`. To silence this warning, use `object` by itself. Doing this will not modify any behavior and is safe. \n",
      "Deprecated in NumPy 1.20; for more details and guidance: https://numpy.org/devdocs/release/1.20.0-notes.html#deprecations\n",
      "\n",
      "/Users/ejwillemse/opt/anaconda3/envs/python_RD/lib/python3.8/site-packages/tables/leaf.py:544: VisibleDeprecationWarning:\n",
      "\n",
      "Creating an ndarray from ragged nested sequences (which is a list-or-tuple of lists-or-tuples-or ndarrays with different lengths or shapes) is deprecated. If you meant to do this, you must specify 'dtype=object' when creating the ndarray.\n",
      "\n"
     ]
    },
    {
     "name": "stdout",
     "output_type": "stream",
     "text": [
      "2022-06-03 00:47:26,580 - root - INFO - Creating nearest neighbour lists\n",
      "2022-06-03 00:47:30,094 - root - INFO - Calculate offloads: 8129 x 8129 x 2\n",
      "2022-06-03 00:47:39,401 - root - INFO - Done!\n",
      "2022-06-03 00:47:39,442 - root - INFO - Uploading scenario inputs...\n",
      "2022-06-03 00:47:39,471 - root - INFO - Setting service cost for network\n",
      "2022-06-03 00:47:39,482 - root - INFO - Setting demand for network\n",
      "2022-06-03 00:47:39,492 - root - INFO - Update travel durations.\n",
      "2022-06-03 00:47:39,774 - root - INFO - Update offload durations.\n",
      "2022-06-03 00:47:40,195 - root - INFO - Done\n",
      "2022-06-03 00:47:40,196 - root - INFO - Problem info supplied. Directly proceeding to solve problem.\n",
      "2022-06-03 00:48:14,999 - root - INFO - Done generating routes\n",
      "Number of routes: 18\n",
      "2022-06-03 00:48:15,000 - root - INFO - Preparing scenario outputs...\n"
     ]
    },
    {
     "name": "stderr",
     "output_type": "stream",
     "text": [
      "/Users/ejwillemse/opt/anaconda3/envs/python_RD/lib/python3.8/site-packages/tables/array.py:241: DeprecationWarning:\n",
      "\n",
      "`np.object` is a deprecated alias for the builtin `object`. To silence this warning, use `object` by itself. Doing this will not modify any behavior and is safe. \n",
      "Deprecated in NumPy 1.20; for more details and guidance: https://numpy.org/devdocs/release/1.20.0-notes.html#deprecations\n",
      "\n"
     ]
    },
    {
     "name": "stdout",
     "output_type": "stream",
     "text": [
      "2022-06-03 00:48:24,170 - root - INFO - Done preparing output\n",
      "2022-06-03 00:48:24,171 - kedro.io.data_catalog - INFO - Saving data to `resource_summary_table_20220601_decentral` (PartitionedDataSet)...\n"
     ]
    },
    {
     "name": "stderr",
     "output_type": "stream",
     "text": [
      "/Users/ejwillemse/dev/waste_labs_dev/project_rdi_cpt/src/mcarptif/visualise/route_tables.py:146: FutureWarning:\n",
      "\n",
      "The frame.append method is deprecated and will be removed from pandas in a future version. Use pandas.concat instead.\n",
      "\n"
     ]
    },
    {
     "name": "stdout",
     "output_type": "stream",
     "text": [
      "\n",
      "\n",
      " RUNNING SCENARIO households_027\n",
      "2022-06-03 00:48:24,690 - kedro.io.data_catalog - INFO - Loading data from `waste_gen_scenarios_local_20220601` (PartitionedDataSet)...\n",
      "2022-06-03 00:48:24,709 - kedro.io.data_catalog - INFO - Loading data from `routing_parameters` (ExcelDataSet)...\n",
      "2022-06-03 00:48:24,874 - root - INFO - Preparing road network.......\n",
      "\n",
      "2022-06-03 00:48:24,934 - root - INFO - Load required arcs\n",
      "2022-06-03 00:48:24,936 - root - INFO - Merging with the network\n",
      "2022-06-03 00:48:24,961 - root - INFO - Set depot\n",
      "2022-06-03 00:48:24,965 - root - INFO - Set offload facilities\n",
      "2022-06-03 00:48:24,978 - root - INFO - Extend required arcs with inverse edge arcs\n",
      "2022-06-03 00:48:25,067 - root - INFO - Checking master list\n",
      "2022-06-03 00:48:25,075 - root - INFO - Load distance matrix: 8135 x 8135\n"
     ]
    },
    {
     "name": "stderr",
     "output_type": "stream",
     "text": [
      "/Users/ejwillemse/opt/anaconda3/envs/python_RD/lib/python3.8/site-packages/tables/array.py:241: DeprecationWarning:\n",
      "\n",
      "`np.object` is a deprecated alias for the builtin `object`. To silence this warning, use `object` by itself. Doing this will not modify any behavior and is safe. \n",
      "Deprecated in NumPy 1.20; for more details and guidance: https://numpy.org/devdocs/release/1.20.0-notes.html#deprecations\n",
      "\n",
      "/Users/ejwillemse/opt/anaconda3/envs/python_RD/lib/python3.8/site-packages/tables/array.py:241: DeprecationWarning:\n",
      "\n",
      "`np.object` is a deprecated alias for the builtin `object`. To silence this warning, use `object` by itself. Doing this will not modify any behavior and is safe. \n",
      "Deprecated in NumPy 1.20; for more details and guidance: https://numpy.org/devdocs/release/1.20.0-notes.html#deprecations\n",
      "\n",
      "/Users/ejwillemse/opt/anaconda3/envs/python_RD/lib/python3.8/site-packages/tables/leaf.py:544: VisibleDeprecationWarning:\n",
      "\n",
      "Creating an ndarray from ragged nested sequences (which is a list-or-tuple of lists-or-tuples-or ndarrays with different lengths or shapes) is deprecated. If you meant to do this, you must specify 'dtype=object' when creating the ndarray.\n",
      "\n"
     ]
    },
    {
     "name": "stdout",
     "output_type": "stream",
     "text": [
      "2022-06-03 00:48:32,057 - root - INFO - Creating nearest neighbour lists\n",
      "2022-06-03 00:48:35,538 - root - INFO - Calculate offloads: 8135 x 8135 x 2\n",
      "2022-06-03 00:48:44,154 - root - INFO - Done!\n",
      "2022-06-03 00:48:44,196 - root - INFO - Uploading scenario inputs...\n",
      "2022-06-03 00:48:44,218 - root - INFO - Setting service cost for network\n",
      "2022-06-03 00:48:44,228 - root - INFO - Setting demand for network\n",
      "2022-06-03 00:48:44,239 - root - INFO - Update travel durations.\n",
      "2022-06-03 00:48:44,522 - root - INFO - Update offload durations.\n",
      "2022-06-03 00:48:44,940 - root - INFO - Done\n",
      "2022-06-03 00:48:44,941 - root - INFO - Problem info supplied. Directly proceeding to solve problem.\n",
      "2022-06-03 00:49:23,600 - root - INFO - Done generating routes\n",
      "Number of routes: 18\n",
      "2022-06-03 00:49:23,603 - root - INFO - Preparing scenario outputs...\n"
     ]
    },
    {
     "name": "stderr",
     "output_type": "stream",
     "text": [
      "/Users/ejwillemse/opt/anaconda3/envs/python_RD/lib/python3.8/site-packages/tables/array.py:241: DeprecationWarning:\n",
      "\n",
      "`np.object` is a deprecated alias for the builtin `object`. To silence this warning, use `object` by itself. Doing this will not modify any behavior and is safe. \n",
      "Deprecated in NumPy 1.20; for more details and guidance: https://numpy.org/devdocs/release/1.20.0-notes.html#deprecations\n",
      "\n"
     ]
    },
    {
     "name": "stdout",
     "output_type": "stream",
     "text": [
      "2022-06-03 00:49:37,138 - root - INFO - Done preparing output\n",
      "2022-06-03 00:49:37,139 - kedro.io.data_catalog - INFO - Saving data to `resource_summary_table_20220601_decentral` (PartitionedDataSet)...\n"
     ]
    },
    {
     "name": "stderr",
     "output_type": "stream",
     "text": [
      "/Users/ejwillemse/dev/waste_labs_dev/project_rdi_cpt/src/mcarptif/visualise/route_tables.py:146: FutureWarning:\n",
      "\n",
      "The frame.append method is deprecated and will be removed from pandas in a future version. Use pandas.concat instead.\n",
      "\n"
     ]
    },
    {
     "name": "stdout",
     "output_type": "stream",
     "text": [
      "\n",
      "\n",
      " RUNNING SCENARIO households_028\n",
      "2022-06-03 00:49:37,754 - kedro.io.data_catalog - INFO - Loading data from `waste_gen_scenarios_local_20220601` (PartitionedDataSet)...\n",
      "2022-06-03 00:49:37,780 - kedro.io.data_catalog - INFO - Loading data from `routing_parameters` (ExcelDataSet)...\n",
      "2022-06-03 00:49:38,003 - root - INFO - Preparing road network.......\n",
      "\n",
      "2022-06-03 00:49:38,081 - root - INFO - Load required arcs\n",
      "2022-06-03 00:49:38,083 - root - INFO - Merging with the network\n",
      "2022-06-03 00:49:38,113 - root - INFO - Set depot\n",
      "2022-06-03 00:49:38,116 - root - INFO - Set offload facilities\n",
      "2022-06-03 00:49:38,131 - root - INFO - Extend required arcs with inverse edge arcs\n"
     ]
    },
    {
     "name": "stderr",
     "output_type": "stream",
     "text": [
      "/Users/ejwillemse/opt/anaconda3/envs/python_RD/lib/python3.8/site-packages/tables/array.py:241: DeprecationWarning:\n",
      "\n",
      "`np.object` is a deprecated alias for the builtin `object`. To silence this warning, use `object` by itself. Doing this will not modify any behavior and is safe. \n",
      "Deprecated in NumPy 1.20; for more details and guidance: https://numpy.org/devdocs/release/1.20.0-notes.html#deprecations\n",
      "\n"
     ]
    },
    {
     "name": "stdout",
     "output_type": "stream",
     "text": [
      "2022-06-03 00:49:38,304 - root - INFO - Checking master list\n",
      "2022-06-03 00:49:38,323 - root - INFO - Load distance matrix: 8126 x 8126\n"
     ]
    },
    {
     "name": "stderr",
     "output_type": "stream",
     "text": [
      "/Users/ejwillemse/opt/anaconda3/envs/python_RD/lib/python3.8/site-packages/tables/array.py:241: DeprecationWarning:\n",
      "\n",
      "`np.object` is a deprecated alias for the builtin `object`. To silence this warning, use `object` by itself. Doing this will not modify any behavior and is safe. \n",
      "Deprecated in NumPy 1.20; for more details and guidance: https://numpy.org/devdocs/release/1.20.0-notes.html#deprecations\n",
      "\n",
      "/Users/ejwillemse/opt/anaconda3/envs/python_RD/lib/python3.8/site-packages/tables/leaf.py:544: VisibleDeprecationWarning:\n",
      "\n",
      "Creating an ndarray from ragged nested sequences (which is a list-or-tuple of lists-or-tuples-or ndarrays with different lengths or shapes) is deprecated. If you meant to do this, you must specify 'dtype=object' when creating the ndarray.\n",
      "\n"
     ]
    },
    {
     "name": "stdout",
     "output_type": "stream",
     "text": [
      "2022-06-03 00:49:45,912 - root - INFO - Creating nearest neighbour lists\n",
      "2022-06-03 00:49:49,689 - root - INFO - Calculate offloads: 8126 x 8126 x 2\n",
      "2022-06-03 00:50:00,205 - root - INFO - Done!\n",
      "2022-06-03 00:50:00,256 - root - INFO - Uploading scenario inputs...\n",
      "2022-06-03 00:50:00,292 - root - INFO - Setting service cost for network\n",
      "2022-06-03 00:50:00,306 - root - INFO - Setting demand for network\n",
      "2022-06-03 00:50:00,317 - root - INFO - Update travel durations.\n",
      "2022-06-03 00:50:00,629 - root - INFO - Update offload durations.\n",
      "2022-06-03 00:50:01,103 - root - INFO - Done\n",
      "2022-06-03 00:50:01,105 - root - INFO - Problem info supplied. Directly proceeding to solve problem.\n",
      "2022-06-03 00:50:36,624 - root - INFO - Done generating routes\n",
      "Number of routes: 18\n",
      "2022-06-03 00:50:36,625 - root - INFO - Preparing scenario outputs...\n"
     ]
    },
    {
     "name": "stderr",
     "output_type": "stream",
     "text": [
      "/Users/ejwillemse/opt/anaconda3/envs/python_RD/lib/python3.8/site-packages/tables/array.py:241: DeprecationWarning:\n",
      "\n",
      "`np.object` is a deprecated alias for the builtin `object`. To silence this warning, use `object` by itself. Doing this will not modify any behavior and is safe. \n",
      "Deprecated in NumPy 1.20; for more details and guidance: https://numpy.org/devdocs/release/1.20.0-notes.html#deprecations\n",
      "\n"
     ]
    },
    {
     "name": "stdout",
     "output_type": "stream",
     "text": [
      "2022-06-03 00:50:47,422 - root - INFO - Done preparing output\n",
      "2022-06-03 00:50:47,423 - kedro.io.data_catalog - INFO - Saving data to `resource_summary_table_20220601_decentral` (PartitionedDataSet)...\n"
     ]
    },
    {
     "name": "stderr",
     "output_type": "stream",
     "text": [
      "/Users/ejwillemse/dev/waste_labs_dev/project_rdi_cpt/src/mcarptif/visualise/route_tables.py:146: FutureWarning:\n",
      "\n",
      "The frame.append method is deprecated and will be removed from pandas in a future version. Use pandas.concat instead.\n",
      "\n"
     ]
    },
    {
     "name": "stdout",
     "output_type": "stream",
     "text": [
      "\n",
      "\n",
      " RUNNING SCENARIO households_029\n",
      "2022-06-03 00:50:47,941 - kedro.io.data_catalog - INFO - Loading data from `waste_gen_scenarios_local_20220601` (PartitionedDataSet)...\n",
      "2022-06-03 00:50:47,958 - kedro.io.data_catalog - INFO - Loading data from `routing_parameters` (ExcelDataSet)...\n",
      "2022-06-03 00:50:48,132 - root - INFO - Preparing road network.......\n",
      "\n",
      "2022-06-03 00:50:48,193 - root - INFO - Load required arcs\n",
      "2022-06-03 00:50:48,195 - root - INFO - Merging with the network\n",
      "2022-06-03 00:50:48,223 - root - INFO - Set depot\n",
      "2022-06-03 00:50:48,226 - root - INFO - Set offload facilities\n",
      "2022-06-03 00:50:48,238 - root - INFO - Extend required arcs with inverse edge arcs\n",
      "2022-06-03 00:50:48,333 - root - INFO - Checking master list\n",
      "2022-06-03 00:50:48,341 - root - INFO - Load distance matrix: 8134 x 8134\n"
     ]
    },
    {
     "name": "stderr",
     "output_type": "stream",
     "text": [
      "/Users/ejwillemse/opt/anaconda3/envs/python_RD/lib/python3.8/site-packages/tables/array.py:241: DeprecationWarning:\n",
      "\n",
      "`np.object` is a deprecated alias for the builtin `object`. To silence this warning, use `object` by itself. Doing this will not modify any behavior and is safe. \n",
      "Deprecated in NumPy 1.20; for more details and guidance: https://numpy.org/devdocs/release/1.20.0-notes.html#deprecations\n",
      "\n",
      "/Users/ejwillemse/opt/anaconda3/envs/python_RD/lib/python3.8/site-packages/tables/array.py:241: DeprecationWarning:\n",
      "\n",
      "`np.object` is a deprecated alias for the builtin `object`. To silence this warning, use `object` by itself. Doing this will not modify any behavior and is safe. \n",
      "Deprecated in NumPy 1.20; for more details and guidance: https://numpy.org/devdocs/release/1.20.0-notes.html#deprecations\n",
      "\n",
      "/Users/ejwillemse/opt/anaconda3/envs/python_RD/lib/python3.8/site-packages/tables/leaf.py:544: VisibleDeprecationWarning:\n",
      "\n",
      "Creating an ndarray from ragged nested sequences (which is a list-or-tuple of lists-or-tuples-or ndarrays with different lengths or shapes) is deprecated. If you meant to do this, you must specify 'dtype=object' when creating the ndarray.\n",
      "\n"
     ]
    },
    {
     "name": "stdout",
     "output_type": "stream",
     "text": [
      "2022-06-03 00:50:55,244 - root - INFO - Creating nearest neighbour lists\n",
      "2022-06-03 00:50:58,843 - root - INFO - Calculate offloads: 8134 x 8134 x 2\n",
      "2022-06-03 00:51:08,312 - root - INFO - Done!\n",
      "2022-06-03 00:51:08,373 - root - INFO - Uploading scenario inputs...\n",
      "2022-06-03 00:51:08,419 - root - INFO - Setting service cost for network\n",
      "2022-06-03 00:51:08,437 - root - INFO - Setting demand for network\n",
      "2022-06-03 00:51:08,458 - root - INFO - Update travel durations.\n",
      "2022-06-03 00:51:08,828 - root - INFO - Update offload durations.\n",
      "2022-06-03 00:51:09,266 - root - INFO - Done\n",
      "2022-06-03 00:51:09,267 - root - INFO - Problem info supplied. Directly proceeding to solve problem.\n",
      "2022-06-03 00:51:44,643 - root - INFO - Done generating routes\n",
      "Number of routes: 18\n",
      "2022-06-03 00:51:44,644 - root - INFO - Preparing scenario outputs...\n"
     ]
    },
    {
     "name": "stderr",
     "output_type": "stream",
     "text": [
      "/Users/ejwillemse/opt/anaconda3/envs/python_RD/lib/python3.8/site-packages/tables/array.py:241: DeprecationWarning:\n",
      "\n",
      "`np.object` is a deprecated alias for the builtin `object`. To silence this warning, use `object` by itself. Doing this will not modify any behavior and is safe. \n",
      "Deprecated in NumPy 1.20; for more details and guidance: https://numpy.org/devdocs/release/1.20.0-notes.html#deprecations\n",
      "\n"
     ]
    },
    {
     "name": "stdout",
     "output_type": "stream",
     "text": [
      "2022-06-03 00:51:54,110 - root - INFO - Done preparing output\n",
      "2022-06-03 00:51:54,111 - kedro.io.data_catalog - INFO - Saving data to `resource_summary_table_20220601_decentral` (PartitionedDataSet)...\n"
     ]
    },
    {
     "name": "stderr",
     "output_type": "stream",
     "text": [
      "/Users/ejwillemse/dev/waste_labs_dev/project_rdi_cpt/src/mcarptif/visualise/route_tables.py:146: FutureWarning:\n",
      "\n",
      "The frame.append method is deprecated and will be removed from pandas in a future version. Use pandas.concat instead.\n",
      "\n"
     ]
    },
    {
     "name": "stdout",
     "output_type": "stream",
     "text": [
      "\n",
      "\n",
      " RUNNING SCENARIO households_030\n",
      "2022-06-03 00:51:54,589 - kedro.io.data_catalog - INFO - Loading data from `waste_gen_scenarios_local_20220601` (PartitionedDataSet)...\n",
      "2022-06-03 00:51:54,606 - kedro.io.data_catalog - INFO - Loading data from `routing_parameters` (ExcelDataSet)...\n",
      "2022-06-03 00:51:54,770 - root - INFO - Preparing road network.......\n",
      "\n",
      "2022-06-03 00:51:54,833 - root - INFO - Load required arcs\n",
      "2022-06-03 00:51:54,835 - root - INFO - Merging with the network\n",
      "2022-06-03 00:51:54,858 - root - INFO - Set depot\n",
      "2022-06-03 00:51:54,862 - root - INFO - Set offload facilities\n",
      "2022-06-03 00:51:54,873 - root - INFO - Extend required arcs with inverse edge arcs\n",
      "2022-06-03 00:51:54,958 - root - INFO - Checking master list\n",
      "2022-06-03 00:51:54,965 - root - INFO - Load distance matrix: 8151 x 8151\n"
     ]
    },
    {
     "name": "stderr",
     "output_type": "stream",
     "text": [
      "/Users/ejwillemse/opt/anaconda3/envs/python_RD/lib/python3.8/site-packages/tables/array.py:241: DeprecationWarning:\n",
      "\n",
      "`np.object` is a deprecated alias for the builtin `object`. To silence this warning, use `object` by itself. Doing this will not modify any behavior and is safe. \n",
      "Deprecated in NumPy 1.20; for more details and guidance: https://numpy.org/devdocs/release/1.20.0-notes.html#deprecations\n",
      "\n",
      "/Users/ejwillemse/opt/anaconda3/envs/python_RD/lib/python3.8/site-packages/tables/array.py:241: DeprecationWarning:\n",
      "\n",
      "`np.object` is a deprecated alias for the builtin `object`. To silence this warning, use `object` by itself. Doing this will not modify any behavior and is safe. \n",
      "Deprecated in NumPy 1.20; for more details and guidance: https://numpy.org/devdocs/release/1.20.0-notes.html#deprecations\n",
      "\n",
      "/Users/ejwillemse/opt/anaconda3/envs/python_RD/lib/python3.8/site-packages/tables/leaf.py:544: VisibleDeprecationWarning:\n",
      "\n",
      "Creating an ndarray from ragged nested sequences (which is a list-or-tuple of lists-or-tuples-or ndarrays with different lengths or shapes) is deprecated. If you meant to do this, you must specify 'dtype=object' when creating the ndarray.\n",
      "\n"
     ]
    },
    {
     "name": "stdout",
     "output_type": "stream",
     "text": [
      "2022-06-03 00:52:03,144 - root - INFO - Creating nearest neighbour lists\n",
      "2022-06-03 00:52:06,867 - root - INFO - Calculate offloads: 8151 x 8151 x 2\n",
      "2022-06-03 00:52:17,535 - root - INFO - Done!\n",
      "2022-06-03 00:52:18,151 - root - INFO - Uploading scenario inputs...\n",
      "2022-06-03 00:52:18,179 - root - INFO - Setting service cost for network\n",
      "2022-06-03 00:52:18,190 - root - INFO - Setting demand for network\n",
      "2022-06-03 00:52:18,201 - root - INFO - Update travel durations.\n",
      "2022-06-03 00:52:18,594 - root - INFO - Update offload durations.\n",
      "2022-06-03 00:52:19,006 - root - INFO - Done\n",
      "2022-06-03 00:52:19,007 - root - INFO - Problem info supplied. Directly proceeding to solve problem.\n",
      "2022-06-03 00:52:52,989 - root - INFO - Done generating routes\n",
      "Number of routes: 18\n",
      "2022-06-03 00:52:52,990 - root - INFO - Preparing scenario outputs...\n"
     ]
    },
    {
     "name": "stderr",
     "output_type": "stream",
     "text": [
      "/Users/ejwillemse/opt/anaconda3/envs/python_RD/lib/python3.8/site-packages/tables/array.py:241: DeprecationWarning:\n",
      "\n",
      "`np.object` is a deprecated alias for the builtin `object`. To silence this warning, use `object` by itself. Doing this will not modify any behavior and is safe. \n",
      "Deprecated in NumPy 1.20; for more details and guidance: https://numpy.org/devdocs/release/1.20.0-notes.html#deprecations\n",
      "\n"
     ]
    },
    {
     "name": "stdout",
     "output_type": "stream",
     "text": [
      "2022-06-03 00:53:02,105 - root - INFO - Done preparing output\n",
      "2022-06-03 00:53:02,106 - kedro.io.data_catalog - INFO - Saving data to `resource_summary_table_20220601_decentral` (PartitionedDataSet)...\n"
     ]
    },
    {
     "name": "stderr",
     "output_type": "stream",
     "text": [
      "/Users/ejwillemse/dev/waste_labs_dev/project_rdi_cpt/src/mcarptif/visualise/route_tables.py:146: FutureWarning:\n",
      "\n",
      "The frame.append method is deprecated and will be removed from pandas in a future version. Use pandas.concat instead.\n",
      "\n"
     ]
    },
    {
     "name": "stdout",
     "output_type": "stream",
     "text": [
      "\n",
      "\n",
      " RUNNING SCENARIO households_031\n",
      "2022-06-03 00:53:02,582 - kedro.io.data_catalog - INFO - Loading data from `waste_gen_scenarios_local_20220601` (PartitionedDataSet)...\n",
      "2022-06-03 00:53:02,600 - kedro.io.data_catalog - INFO - Loading data from `routing_parameters` (ExcelDataSet)...\n",
      "2022-06-03 00:53:02,773 - root - INFO - Preparing road network.......\n",
      "\n",
      "2022-06-03 00:53:02,833 - root - INFO - Load required arcs\n",
      "2022-06-03 00:53:02,835 - root - INFO - Merging with the network\n",
      "2022-06-03 00:53:02,860 - root - INFO - Set depot\n",
      "2022-06-03 00:53:02,863 - root - INFO - Set offload facilities\n",
      "2022-06-03 00:53:02,875 - root - INFO - Extend required arcs with inverse edge arcs\n",
      "2022-06-03 00:53:02,960 - root - INFO - Checking master list\n",
      "2022-06-03 00:53:02,967 - root - INFO - Load distance matrix: 8137 x 8137\n"
     ]
    },
    {
     "name": "stderr",
     "output_type": "stream",
     "text": [
      "/Users/ejwillemse/opt/anaconda3/envs/python_RD/lib/python3.8/site-packages/tables/array.py:241: DeprecationWarning:\n",
      "\n",
      "`np.object` is a deprecated alias for the builtin `object`. To silence this warning, use `object` by itself. Doing this will not modify any behavior and is safe. \n",
      "Deprecated in NumPy 1.20; for more details and guidance: https://numpy.org/devdocs/release/1.20.0-notes.html#deprecations\n",
      "\n",
      "/Users/ejwillemse/opt/anaconda3/envs/python_RD/lib/python3.8/site-packages/tables/array.py:241: DeprecationWarning:\n",
      "\n",
      "`np.object` is a deprecated alias for the builtin `object`. To silence this warning, use `object` by itself. Doing this will not modify any behavior and is safe. \n",
      "Deprecated in NumPy 1.20; for more details and guidance: https://numpy.org/devdocs/release/1.20.0-notes.html#deprecations\n",
      "\n",
      "/Users/ejwillemse/opt/anaconda3/envs/python_RD/lib/python3.8/site-packages/tables/leaf.py:544: VisibleDeprecationWarning:\n",
      "\n",
      "Creating an ndarray from ragged nested sequences (which is a list-or-tuple of lists-or-tuples-or ndarrays with different lengths or shapes) is deprecated. If you meant to do this, you must specify 'dtype=object' when creating the ndarray.\n",
      "\n"
     ]
    },
    {
     "name": "stdout",
     "output_type": "stream",
     "text": [
      "2022-06-03 00:53:09,960 - root - INFO - Creating nearest neighbour lists\n",
      "2022-06-03 00:53:13,438 - root - INFO - Calculate offloads: 8137 x 8137 x 2\n",
      "2022-06-03 00:53:22,497 - root - INFO - Done!\n",
      "2022-06-03 00:53:22,558 - root - INFO - Uploading scenario inputs...\n",
      "2022-06-03 00:53:22,581 - root - INFO - Setting service cost for network\n",
      "2022-06-03 00:53:22,593 - root - INFO - Setting demand for network\n",
      "2022-06-03 00:53:22,604 - root - INFO - Update travel durations.\n",
      "2022-06-03 00:53:22,885 - root - INFO - Update offload durations.\n",
      "2022-06-03 00:53:23,290 - root - INFO - Done\n",
      "2022-06-03 00:53:23,291 - root - INFO - Problem info supplied. Directly proceeding to solve problem.\n",
      "2022-06-03 00:53:57,760 - root - INFO - Done generating routes\n",
      "Number of routes: 18\n",
      "2022-06-03 00:53:57,762 - root - INFO - Preparing scenario outputs...\n"
     ]
    },
    {
     "name": "stderr",
     "output_type": "stream",
     "text": [
      "/Users/ejwillemse/opt/anaconda3/envs/python_RD/lib/python3.8/site-packages/tables/array.py:241: DeprecationWarning:\n",
      "\n",
      "`np.object` is a deprecated alias for the builtin `object`. To silence this warning, use `object` by itself. Doing this will not modify any behavior and is safe. \n",
      "Deprecated in NumPy 1.20; for more details and guidance: https://numpy.org/devdocs/release/1.20.0-notes.html#deprecations\n",
      "\n"
     ]
    },
    {
     "name": "stdout",
     "output_type": "stream",
     "text": [
      "2022-06-03 00:54:06,871 - root - INFO - Done preparing output\n",
      "2022-06-03 00:54:06,873 - kedro.io.data_catalog - INFO - Saving data to `resource_summary_table_20220601_decentral` (PartitionedDataSet)...\n"
     ]
    },
    {
     "name": "stderr",
     "output_type": "stream",
     "text": [
      "/Users/ejwillemse/dev/waste_labs_dev/project_rdi_cpt/src/mcarptif/visualise/route_tables.py:146: FutureWarning:\n",
      "\n",
      "The frame.append method is deprecated and will be removed from pandas in a future version. Use pandas.concat instead.\n",
      "\n"
     ]
    },
    {
     "name": "stdout",
     "output_type": "stream",
     "text": [
      "\n",
      "\n",
      " RUNNING SCENARIO households_032\n",
      "2022-06-03 00:54:07,347 - kedro.io.data_catalog - INFO - Loading data from `waste_gen_scenarios_local_20220601` (PartitionedDataSet)...\n",
      "2022-06-03 00:54:07,363 - kedro.io.data_catalog - INFO - Loading data from `routing_parameters` (ExcelDataSet)...\n",
      "2022-06-03 00:54:07,526 - root - INFO - Preparing road network.......\n",
      "\n",
      "2022-06-03 00:54:07,584 - root - INFO - Load required arcs\n",
      "2022-06-03 00:54:07,586 - root - INFO - Merging with the network\n",
      "2022-06-03 00:54:07,612 - root - INFO - Set depot\n",
      "2022-06-03 00:54:07,616 - root - INFO - Set offload facilities\n",
      "2022-06-03 00:54:07,627 - root - INFO - Extend required arcs with inverse edge arcs\n",
      "2022-06-03 00:54:07,717 - root - INFO - Checking master list\n",
      "2022-06-03 00:54:07,724 - root - INFO - Load distance matrix: 8134 x 8134\n"
     ]
    },
    {
     "name": "stderr",
     "output_type": "stream",
     "text": [
      "/Users/ejwillemse/opt/anaconda3/envs/python_RD/lib/python3.8/site-packages/tables/array.py:241: DeprecationWarning:\n",
      "\n",
      "`np.object` is a deprecated alias for the builtin `object`. To silence this warning, use `object` by itself. Doing this will not modify any behavior and is safe. \n",
      "Deprecated in NumPy 1.20; for more details and guidance: https://numpy.org/devdocs/release/1.20.0-notes.html#deprecations\n",
      "\n",
      "/Users/ejwillemse/opt/anaconda3/envs/python_RD/lib/python3.8/site-packages/tables/array.py:241: DeprecationWarning:\n",
      "\n",
      "`np.object` is a deprecated alias for the builtin `object`. To silence this warning, use `object` by itself. Doing this will not modify any behavior and is safe. \n",
      "Deprecated in NumPy 1.20; for more details and guidance: https://numpy.org/devdocs/release/1.20.0-notes.html#deprecations\n",
      "\n",
      "/Users/ejwillemse/opt/anaconda3/envs/python_RD/lib/python3.8/site-packages/tables/leaf.py:544: VisibleDeprecationWarning:\n",
      "\n",
      "Creating an ndarray from ragged nested sequences (which is a list-or-tuple of lists-or-tuples-or ndarrays with different lengths or shapes) is deprecated. If you meant to do this, you must specify 'dtype=object' when creating the ndarray.\n",
      "\n"
     ]
    },
    {
     "name": "stdout",
     "output_type": "stream",
     "text": [
      "2022-06-03 00:54:14,722 - root - INFO - Creating nearest neighbour lists\n",
      "2022-06-03 00:54:18,442 - root - INFO - Calculate offloads: 8134 x 8134 x 2\n",
      "2022-06-03 00:54:26,771 - root - INFO - Done!\n",
      "2022-06-03 00:54:26,846 - root - INFO - Uploading scenario inputs...\n",
      "2022-06-03 00:54:26,869 - root - INFO - Setting service cost for network\n",
      "2022-06-03 00:54:26,879 - root - INFO - Setting demand for network\n",
      "2022-06-03 00:54:26,890 - root - INFO - Update travel durations.\n",
      "2022-06-03 00:54:27,167 - root - INFO - Update offload durations.\n",
      "2022-06-03 00:54:27,573 - root - INFO - Done\n",
      "2022-06-03 00:54:27,574 - root - INFO - Problem info supplied. Directly proceeding to solve problem.\n",
      "2022-06-03 00:55:01,981 - root - INFO - Done generating routes\n",
      "Number of routes: 18\n",
      "2022-06-03 00:55:01,983 - root - INFO - Preparing scenario outputs...\n"
     ]
    },
    {
     "name": "stderr",
     "output_type": "stream",
     "text": [
      "/Users/ejwillemse/opt/anaconda3/envs/python_RD/lib/python3.8/site-packages/tables/array.py:241: DeprecationWarning:\n",
      "\n",
      "`np.object` is a deprecated alias for the builtin `object`. To silence this warning, use `object` by itself. Doing this will not modify any behavior and is safe. \n",
      "Deprecated in NumPy 1.20; for more details and guidance: https://numpy.org/devdocs/release/1.20.0-notes.html#deprecations\n",
      "\n"
     ]
    },
    {
     "name": "stdout",
     "output_type": "stream",
     "text": [
      "2022-06-03 00:55:10,913 - root - INFO - Done preparing output\n",
      "2022-06-03 00:55:10,914 - kedro.io.data_catalog - INFO - Saving data to `resource_summary_table_20220601_decentral` (PartitionedDataSet)...\n"
     ]
    },
    {
     "name": "stderr",
     "output_type": "stream",
     "text": [
      "/Users/ejwillemse/dev/waste_labs_dev/project_rdi_cpt/src/mcarptif/visualise/route_tables.py:146: FutureWarning:\n",
      "\n",
      "The frame.append method is deprecated and will be removed from pandas in a future version. Use pandas.concat instead.\n",
      "\n"
     ]
    },
    {
     "name": "stdout",
     "output_type": "stream",
     "text": [
      "\n",
      "\n",
      " RUNNING SCENARIO households_033\n",
      "2022-06-03 00:55:11,390 - kedro.io.data_catalog - INFO - Loading data from `waste_gen_scenarios_local_20220601` (PartitionedDataSet)...\n",
      "2022-06-03 00:55:11,408 - kedro.io.data_catalog - INFO - Loading data from `routing_parameters` (ExcelDataSet)...\n",
      "2022-06-03 00:55:11,563 - root - INFO - Preparing road network.......\n",
      "\n",
      "2022-06-03 00:55:11,621 - root - INFO - Load required arcs\n",
      "2022-06-03 00:55:11,623 - root - INFO - Merging with the network\n",
      "2022-06-03 00:55:11,649 - root - INFO - Set depot\n",
      "2022-06-03 00:55:11,653 - root - INFO - Set offload facilities\n",
      "2022-06-03 00:55:11,665 - root - INFO - Extend required arcs with inverse edge arcs\n",
      "2022-06-03 00:55:11,754 - root - INFO - Checking master list\n",
      "2022-06-03 00:55:11,760 - root - INFO - Load distance matrix: 8111 x 8111\n"
     ]
    },
    {
     "name": "stderr",
     "output_type": "stream",
     "text": [
      "/Users/ejwillemse/opt/anaconda3/envs/python_RD/lib/python3.8/site-packages/tables/array.py:241: DeprecationWarning:\n",
      "\n",
      "`np.object` is a deprecated alias for the builtin `object`. To silence this warning, use `object` by itself. Doing this will not modify any behavior and is safe. \n",
      "Deprecated in NumPy 1.20; for more details and guidance: https://numpy.org/devdocs/release/1.20.0-notes.html#deprecations\n",
      "\n",
      "/Users/ejwillemse/opt/anaconda3/envs/python_RD/lib/python3.8/site-packages/tables/array.py:241: DeprecationWarning:\n",
      "\n",
      "`np.object` is a deprecated alias for the builtin `object`. To silence this warning, use `object` by itself. Doing this will not modify any behavior and is safe. \n",
      "Deprecated in NumPy 1.20; for more details and guidance: https://numpy.org/devdocs/release/1.20.0-notes.html#deprecations\n",
      "\n",
      "/Users/ejwillemse/opt/anaconda3/envs/python_RD/lib/python3.8/site-packages/tables/leaf.py:544: VisibleDeprecationWarning:\n",
      "\n",
      "Creating an ndarray from ragged nested sequences (which is a list-or-tuple of lists-or-tuples-or ndarrays with different lengths or shapes) is deprecated. If you meant to do this, you must specify 'dtype=object' when creating the ndarray.\n",
      "\n"
     ]
    },
    {
     "name": "stdout",
     "output_type": "stream",
     "text": [
      "2022-06-03 00:55:18,709 - root - INFO - Creating nearest neighbour lists\n",
      "2022-06-03 00:55:22,432 - root - INFO - Calculate offloads: 8111 x 8111 x 2\n",
      "2022-06-03 00:55:32,943 - root - INFO - Done!\n",
      "2022-06-03 00:55:32,998 - root - INFO - Uploading scenario inputs...\n",
      "2022-06-03 00:55:33,020 - root - INFO - Setting service cost for network\n",
      "2022-06-03 00:55:33,030 - root - INFO - Setting demand for network\n",
      "2022-06-03 00:55:33,041 - root - INFO - Update travel durations.\n",
      "2022-06-03 00:55:33,352 - root - INFO - Update offload durations.\n",
      "2022-06-03 00:55:33,758 - root - INFO - Done\n",
      "2022-06-03 00:55:33,759 - root - INFO - Problem info supplied. Directly proceeding to solve problem.\n",
      "2022-06-03 00:56:07,594 - root - INFO - Done generating routes\n",
      "Number of routes: 18\n",
      "2022-06-03 00:56:07,596 - root - INFO - Preparing scenario outputs...\n"
     ]
    },
    {
     "name": "stderr",
     "output_type": "stream",
     "text": [
      "/Users/ejwillemse/opt/anaconda3/envs/python_RD/lib/python3.8/site-packages/tables/array.py:241: DeprecationWarning:\n",
      "\n",
      "`np.object` is a deprecated alias for the builtin `object`. To silence this warning, use `object` by itself. Doing this will not modify any behavior and is safe. \n",
      "Deprecated in NumPy 1.20; for more details and guidance: https://numpy.org/devdocs/release/1.20.0-notes.html#deprecations\n",
      "\n"
     ]
    },
    {
     "name": "stdout",
     "output_type": "stream",
     "text": [
      "2022-06-03 00:56:16,523 - root - INFO - Done preparing output\n",
      "2022-06-03 00:56:16,524 - kedro.io.data_catalog - INFO - Saving data to `resource_summary_table_20220601_decentral` (PartitionedDataSet)...\n"
     ]
    },
    {
     "name": "stderr",
     "output_type": "stream",
     "text": [
      "/Users/ejwillemse/dev/waste_labs_dev/project_rdi_cpt/src/mcarptif/visualise/route_tables.py:146: FutureWarning:\n",
      "\n",
      "The frame.append method is deprecated and will be removed from pandas in a future version. Use pandas.concat instead.\n",
      "\n"
     ]
    },
    {
     "name": "stdout",
     "output_type": "stream",
     "text": [
      "\n",
      "\n",
      " RUNNING SCENARIO households_034\n",
      "2022-06-03 00:56:17,008 - kedro.io.data_catalog - INFO - Loading data from `waste_gen_scenarios_local_20220601` (PartitionedDataSet)...\n",
      "2022-06-03 00:56:17,027 - kedro.io.data_catalog - INFO - Loading data from `routing_parameters` (ExcelDataSet)...\n",
      "2022-06-03 00:56:17,191 - root - INFO - Preparing road network.......\n",
      "\n",
      "2022-06-03 00:56:17,250 - root - INFO - Load required arcs\n",
      "2022-06-03 00:56:17,252 - root - INFO - Merging with the network\n",
      "2022-06-03 00:56:17,277 - root - INFO - Set depot\n",
      "2022-06-03 00:56:17,282 - root - INFO - Set offload facilities\n",
      "2022-06-03 00:56:17,294 - root - INFO - Extend required arcs with inverse edge arcs\n",
      "2022-06-03 00:56:17,381 - root - INFO - Checking master list\n",
      "2022-06-03 00:56:17,388 - root - INFO - Load distance matrix: 8156 x 8156\n"
     ]
    },
    {
     "name": "stderr",
     "output_type": "stream",
     "text": [
      "/Users/ejwillemse/opt/anaconda3/envs/python_RD/lib/python3.8/site-packages/tables/array.py:241: DeprecationWarning:\n",
      "\n",
      "`np.object` is a deprecated alias for the builtin `object`. To silence this warning, use `object` by itself. Doing this will not modify any behavior and is safe. \n",
      "Deprecated in NumPy 1.20; for more details and guidance: https://numpy.org/devdocs/release/1.20.0-notes.html#deprecations\n",
      "\n",
      "/Users/ejwillemse/opt/anaconda3/envs/python_RD/lib/python3.8/site-packages/tables/array.py:241: DeprecationWarning:\n",
      "\n",
      "`np.object` is a deprecated alias for the builtin `object`. To silence this warning, use `object` by itself. Doing this will not modify any behavior and is safe. \n",
      "Deprecated in NumPy 1.20; for more details and guidance: https://numpy.org/devdocs/release/1.20.0-notes.html#deprecations\n",
      "\n",
      "/Users/ejwillemse/opt/anaconda3/envs/python_RD/lib/python3.8/site-packages/tables/leaf.py:544: VisibleDeprecationWarning:\n",
      "\n",
      "Creating an ndarray from ragged nested sequences (which is a list-or-tuple of lists-or-tuples-or ndarrays with different lengths or shapes) is deprecated. If you meant to do this, you must specify 'dtype=object' when creating the ndarray.\n",
      "\n"
     ]
    },
    {
     "name": "stdout",
     "output_type": "stream",
     "text": [
      "2022-06-03 00:56:24,970 - root - INFO - Creating nearest neighbour lists\n",
      "2022-06-03 00:56:28,692 - root - INFO - Calculate offloads: 8156 x 8156 x 2\n",
      "2022-06-03 00:56:39,427 - root - INFO - Done!\n",
      "2022-06-03 00:56:39,503 - root - INFO - Uploading scenario inputs...\n",
      "2022-06-03 00:56:39,529 - root - INFO - Setting service cost for network\n",
      "2022-06-03 00:56:39,541 - root - INFO - Setting demand for network\n",
      "2022-06-03 00:56:39,551 - root - INFO - Update travel durations.\n",
      "2022-06-03 00:56:39,836 - root - INFO - Update offload durations.\n",
      "2022-06-03 00:56:40,251 - root - INFO - Done\n",
      "2022-06-03 00:56:40,253 - root - INFO - Problem info supplied. Directly proceeding to solve problem.\n",
      "2022-06-03 00:57:15,232 - root - INFO - Done generating routes\n",
      "Number of routes: 18\n",
      "2022-06-03 00:57:15,234 - root - INFO - Preparing scenario outputs...\n"
     ]
    },
    {
     "name": "stderr",
     "output_type": "stream",
     "text": [
      "/Users/ejwillemse/opt/anaconda3/envs/python_RD/lib/python3.8/site-packages/tables/array.py:241: DeprecationWarning:\n",
      "\n",
      "`np.object` is a deprecated alias for the builtin `object`. To silence this warning, use `object` by itself. Doing this will not modify any behavior and is safe. \n",
      "Deprecated in NumPy 1.20; for more details and guidance: https://numpy.org/devdocs/release/1.20.0-notes.html#deprecations\n",
      "\n"
     ]
    },
    {
     "name": "stdout",
     "output_type": "stream",
     "text": [
      "2022-06-03 00:57:24,101 - root - INFO - Done preparing output\n",
      "2022-06-03 00:57:24,102 - kedro.io.data_catalog - INFO - Saving data to `resource_summary_table_20220601_decentral` (PartitionedDataSet)...\n"
     ]
    },
    {
     "name": "stderr",
     "output_type": "stream",
     "text": [
      "/Users/ejwillemse/dev/waste_labs_dev/project_rdi_cpt/src/mcarptif/visualise/route_tables.py:146: FutureWarning:\n",
      "\n",
      "The frame.append method is deprecated and will be removed from pandas in a future version. Use pandas.concat instead.\n",
      "\n"
     ]
    },
    {
     "name": "stdout",
     "output_type": "stream",
     "text": [
      "\n",
      "\n",
      " RUNNING SCENARIO households_035\n",
      "2022-06-03 00:57:24,608 - kedro.io.data_catalog - INFO - Loading data from `waste_gen_scenarios_local_20220601` (PartitionedDataSet)...\n",
      "2022-06-03 00:57:24,627 - kedro.io.data_catalog - INFO - Loading data from `routing_parameters` (ExcelDataSet)...\n",
      "2022-06-03 00:57:24,792 - root - INFO - Preparing road network.......\n",
      "\n",
      "2022-06-03 00:57:24,851 - root - INFO - Load required arcs\n",
      "2022-06-03 00:57:24,852 - root - INFO - Merging with the network\n",
      "2022-06-03 00:57:24,879 - root - INFO - Set depot\n",
      "2022-06-03 00:57:24,883 - root - INFO - Set offload facilities\n",
      "2022-06-03 00:57:24,893 - root - INFO - Extend required arcs with inverse edge arcs\n",
      "2022-06-03 00:57:24,980 - root - INFO - Checking master list\n",
      "2022-06-03 00:57:24,987 - root - INFO - Load distance matrix: 8138 x 8138\n"
     ]
    },
    {
     "name": "stderr",
     "output_type": "stream",
     "text": [
      "/Users/ejwillemse/opt/anaconda3/envs/python_RD/lib/python3.8/site-packages/tables/array.py:241: DeprecationWarning:\n",
      "\n",
      "`np.object` is a deprecated alias for the builtin `object`. To silence this warning, use `object` by itself. Doing this will not modify any behavior and is safe. \n",
      "Deprecated in NumPy 1.20; for more details and guidance: https://numpy.org/devdocs/release/1.20.0-notes.html#deprecations\n",
      "\n",
      "/Users/ejwillemse/opt/anaconda3/envs/python_RD/lib/python3.8/site-packages/tables/array.py:241: DeprecationWarning:\n",
      "\n",
      "`np.object` is a deprecated alias for the builtin `object`. To silence this warning, use `object` by itself. Doing this will not modify any behavior and is safe. \n",
      "Deprecated in NumPy 1.20; for more details and guidance: https://numpy.org/devdocs/release/1.20.0-notes.html#deprecations\n",
      "\n",
      "/Users/ejwillemse/opt/anaconda3/envs/python_RD/lib/python3.8/site-packages/tables/leaf.py:544: VisibleDeprecationWarning:\n",
      "\n",
      "Creating an ndarray from ragged nested sequences (which is a list-or-tuple of lists-or-tuples-or ndarrays with different lengths or shapes) is deprecated. If you meant to do this, you must specify 'dtype=object' when creating the ndarray.\n",
      "\n"
     ]
    },
    {
     "name": "stdout",
     "output_type": "stream",
     "text": [
      "2022-06-03 00:57:32,806 - root - INFO - Creating nearest neighbour lists\n",
      "2022-06-03 00:57:36,532 - root - INFO - Calculate offloads: 8138 x 8138 x 2\n",
      "2022-06-03 00:57:46,412 - root - INFO - Done!\n",
      "2022-06-03 00:57:46,488 - root - INFO - Uploading scenario inputs...\n",
      "2022-06-03 00:57:46,513 - root - INFO - Setting service cost for network\n",
      "2022-06-03 00:57:46,524 - root - INFO - Setting demand for network\n",
      "2022-06-03 00:57:46,536 - root - INFO - Update travel durations.\n",
      "2022-06-03 00:57:46,827 - root - INFO - Update offload durations.\n",
      "2022-06-03 00:57:47,249 - root - INFO - Done\n",
      "2022-06-03 00:57:47,250 - root - INFO - Problem info supplied. Directly proceeding to solve problem.\n",
      "2022-06-03 00:58:22,188 - root - INFO - Done generating routes\n",
      "Number of routes: 18\n",
      "2022-06-03 00:58:22,190 - root - INFO - Preparing scenario outputs...\n"
     ]
    },
    {
     "name": "stderr",
     "output_type": "stream",
     "text": [
      "/Users/ejwillemse/opt/anaconda3/envs/python_RD/lib/python3.8/site-packages/tables/array.py:241: DeprecationWarning:\n",
      "\n",
      "`np.object` is a deprecated alias for the builtin `object`. To silence this warning, use `object` by itself. Doing this will not modify any behavior and is safe. \n",
      "Deprecated in NumPy 1.20; for more details and guidance: https://numpy.org/devdocs/release/1.20.0-notes.html#deprecations\n",
      "\n"
     ]
    },
    {
     "name": "stdout",
     "output_type": "stream",
     "text": [
      "2022-06-03 00:58:31,355 - root - INFO - Done preparing output\n",
      "2022-06-03 00:58:31,356 - kedro.io.data_catalog - INFO - Saving data to `resource_summary_table_20220601_decentral` (PartitionedDataSet)...\n"
     ]
    },
    {
     "name": "stderr",
     "output_type": "stream",
     "text": [
      "/Users/ejwillemse/dev/waste_labs_dev/project_rdi_cpt/src/mcarptif/visualise/route_tables.py:146: FutureWarning:\n",
      "\n",
      "The frame.append method is deprecated and will be removed from pandas in a future version. Use pandas.concat instead.\n",
      "\n"
     ]
    },
    {
     "name": "stdout",
     "output_type": "stream",
     "text": [
      "\n",
      "\n",
      " RUNNING SCENARIO households_036\n",
      "2022-06-03 00:58:31,830 - kedro.io.data_catalog - INFO - Loading data from `waste_gen_scenarios_local_20220601` (PartitionedDataSet)...\n",
      "2022-06-03 00:58:31,848 - kedro.io.data_catalog - INFO - Loading data from `routing_parameters` (ExcelDataSet)...\n",
      "2022-06-03 00:58:32,021 - root - INFO - Preparing road network.......\n",
      "\n",
      "2022-06-03 00:58:32,080 - root - INFO - Load required arcs\n",
      "2022-06-03 00:58:32,082 - root - INFO - Merging with the network\n",
      "2022-06-03 00:58:32,109 - root - INFO - Set depot\n",
      "2022-06-03 00:58:32,114 - root - INFO - Set offload facilities\n",
      "2022-06-03 00:58:32,126 - root - INFO - Extend required arcs with inverse edge arcs\n",
      "2022-06-03 00:58:32,213 - root - INFO - Checking master list\n",
      "2022-06-03 00:58:32,220 - root - INFO - Load distance matrix: 8123 x 8123\n"
     ]
    },
    {
     "name": "stderr",
     "output_type": "stream",
     "text": [
      "/Users/ejwillemse/opt/anaconda3/envs/python_RD/lib/python3.8/site-packages/tables/array.py:241: DeprecationWarning:\n",
      "\n",
      "`np.object` is a deprecated alias for the builtin `object`. To silence this warning, use `object` by itself. Doing this will not modify any behavior and is safe. \n",
      "Deprecated in NumPy 1.20; for more details and guidance: https://numpy.org/devdocs/release/1.20.0-notes.html#deprecations\n",
      "\n",
      "/Users/ejwillemse/opt/anaconda3/envs/python_RD/lib/python3.8/site-packages/tables/array.py:241: DeprecationWarning:\n",
      "\n",
      "`np.object` is a deprecated alias for the builtin `object`. To silence this warning, use `object` by itself. Doing this will not modify any behavior and is safe. \n",
      "Deprecated in NumPy 1.20; for more details and guidance: https://numpy.org/devdocs/release/1.20.0-notes.html#deprecations\n",
      "\n",
      "/Users/ejwillemse/opt/anaconda3/envs/python_RD/lib/python3.8/site-packages/tables/leaf.py:544: VisibleDeprecationWarning:\n",
      "\n",
      "Creating an ndarray from ragged nested sequences (which is a list-or-tuple of lists-or-tuples-or ndarrays with different lengths or shapes) is deprecated. If you meant to do this, you must specify 'dtype=object' when creating the ndarray.\n",
      "\n"
     ]
    },
    {
     "name": "stdout",
     "output_type": "stream",
     "text": [
      "2022-06-03 00:58:39,862 - root - INFO - Creating nearest neighbour lists\n",
      "2022-06-03 00:58:43,309 - root - INFO - Calculate offloads: 8123 x 8123 x 2\n",
      "2022-06-03 00:58:52,377 - root - INFO - Done!\n",
      "2022-06-03 00:58:52,452 - root - INFO - Uploading scenario inputs...\n",
      "2022-06-03 00:58:52,484 - root - INFO - Setting service cost for network\n",
      "2022-06-03 00:58:52,494 - root - INFO - Setting demand for network\n",
      "2022-06-03 00:58:52,504 - root - INFO - Update travel durations.\n",
      "2022-06-03 00:58:52,789 - root - INFO - Update offload durations.\n",
      "2022-06-03 00:58:53,203 - root - INFO - Done\n",
      "2022-06-03 00:58:53,204 - root - INFO - Problem info supplied. Directly proceeding to solve problem.\n",
      "2022-06-03 00:59:27,604 - root - INFO - Done generating routes\n",
      "Number of routes: 18\n",
      "2022-06-03 00:59:27,606 - root - INFO - Preparing scenario outputs...\n"
     ]
    },
    {
     "name": "stderr",
     "output_type": "stream",
     "text": [
      "/Users/ejwillemse/opt/anaconda3/envs/python_RD/lib/python3.8/site-packages/tables/array.py:241: DeprecationWarning:\n",
      "\n",
      "`np.object` is a deprecated alias for the builtin `object`. To silence this warning, use `object` by itself. Doing this will not modify any behavior and is safe. \n",
      "Deprecated in NumPy 1.20; for more details and guidance: https://numpy.org/devdocs/release/1.20.0-notes.html#deprecations\n",
      "\n"
     ]
    },
    {
     "name": "stdout",
     "output_type": "stream",
     "text": [
      "2022-06-03 00:59:36,514 - root - INFO - Done preparing output\n",
      "2022-06-03 00:59:36,515 - kedro.io.data_catalog - INFO - Saving data to `resource_summary_table_20220601_decentral` (PartitionedDataSet)...\n"
     ]
    },
    {
     "name": "stderr",
     "output_type": "stream",
     "text": [
      "/Users/ejwillemse/dev/waste_labs_dev/project_rdi_cpt/src/mcarptif/visualise/route_tables.py:146: FutureWarning:\n",
      "\n",
      "The frame.append method is deprecated and will be removed from pandas in a future version. Use pandas.concat instead.\n",
      "\n"
     ]
    },
    {
     "name": "stdout",
     "output_type": "stream",
     "text": [
      "\n",
      "\n",
      " RUNNING SCENARIO households_037\n",
      "2022-06-03 00:59:36,989 - kedro.io.data_catalog - INFO - Loading data from `waste_gen_scenarios_local_20220601` (PartitionedDataSet)...\n",
      "2022-06-03 00:59:37,009 - kedro.io.data_catalog - INFO - Loading data from `routing_parameters` (ExcelDataSet)...\n",
      "2022-06-03 00:59:37,163 - root - INFO - Preparing road network.......\n",
      "\n",
      "2022-06-03 00:59:37,219 - root - INFO - Load required arcs\n",
      "2022-06-03 00:59:37,221 - root - INFO - Merging with the network\n",
      "2022-06-03 00:59:37,247 - root - INFO - Set depot\n",
      "2022-06-03 00:59:37,250 - root - INFO - Set offload facilities\n",
      "2022-06-03 00:59:37,263 - root - INFO - Extend required arcs with inverse edge arcs\n",
      "2022-06-03 00:59:37,348 - root - INFO - Checking master list\n",
      "2022-06-03 00:59:37,354 - root - INFO - Load distance matrix: 8147 x 8147\n"
     ]
    },
    {
     "name": "stderr",
     "output_type": "stream",
     "text": [
      "/Users/ejwillemse/opt/anaconda3/envs/python_RD/lib/python3.8/site-packages/tables/array.py:241: DeprecationWarning:\n",
      "\n",
      "`np.object` is a deprecated alias for the builtin `object`. To silence this warning, use `object` by itself. Doing this will not modify any behavior and is safe. \n",
      "Deprecated in NumPy 1.20; for more details and guidance: https://numpy.org/devdocs/release/1.20.0-notes.html#deprecations\n",
      "\n",
      "/Users/ejwillemse/opt/anaconda3/envs/python_RD/lib/python3.8/site-packages/tables/array.py:241: DeprecationWarning:\n",
      "\n",
      "`np.object` is a deprecated alias for the builtin `object`. To silence this warning, use `object` by itself. Doing this will not modify any behavior and is safe. \n",
      "Deprecated in NumPy 1.20; for more details and guidance: https://numpy.org/devdocs/release/1.20.0-notes.html#deprecations\n",
      "\n",
      "/Users/ejwillemse/opt/anaconda3/envs/python_RD/lib/python3.8/site-packages/tables/leaf.py:544: VisibleDeprecationWarning:\n",
      "\n",
      "Creating an ndarray from ragged nested sequences (which is a list-or-tuple of lists-or-tuples-or ndarrays with different lengths or shapes) is deprecated. If you meant to do this, you must specify 'dtype=object' when creating the ndarray.\n",
      "\n"
     ]
    },
    {
     "name": "stdout",
     "output_type": "stream",
     "text": [
      "2022-06-03 00:59:44,049 - root - INFO - Creating nearest neighbour lists\n",
      "2022-06-03 00:59:47,496 - root - INFO - Calculate offloads: 8147 x 8147 x 2\n",
      "2022-06-03 00:59:57,938 - root - INFO - Done!\n",
      "2022-06-03 00:59:57,982 - root - INFO - Uploading scenario inputs...\n",
      "2022-06-03 00:59:58,019 - root - INFO - Setting service cost for network\n",
      "2022-06-03 00:59:58,031 - root - INFO - Setting demand for network\n",
      "2022-06-03 00:59:58,042 - root - INFO - Update travel durations.\n",
      "2022-06-03 00:59:58,330 - root - INFO - Update offload durations.\n",
      "2022-06-03 00:59:58,749 - root - INFO - Done\n",
      "2022-06-03 00:59:58,750 - root - INFO - Problem info supplied. Directly proceeding to solve problem.\n",
      "2022-06-03 01:00:33,230 - root - INFO - Done generating routes\n",
      "Number of routes: 18\n",
      "2022-06-03 01:00:33,233 - root - INFO - Preparing scenario outputs...\n"
     ]
    },
    {
     "name": "stderr",
     "output_type": "stream",
     "text": [
      "/Users/ejwillemse/opt/anaconda3/envs/python_RD/lib/python3.8/site-packages/tables/array.py:241: DeprecationWarning:\n",
      "\n",
      "`np.object` is a deprecated alias for the builtin `object`. To silence this warning, use `object` by itself. Doing this will not modify any behavior and is safe. \n",
      "Deprecated in NumPy 1.20; for more details and guidance: https://numpy.org/devdocs/release/1.20.0-notes.html#deprecations\n",
      "\n"
     ]
    },
    {
     "name": "stdout",
     "output_type": "stream",
     "text": [
      "2022-06-03 01:00:42,354 - root - INFO - Done preparing output\n",
      "2022-06-03 01:00:42,356 - kedro.io.data_catalog - INFO - Saving data to `resource_summary_table_20220601_decentral` (PartitionedDataSet)...\n"
     ]
    },
    {
     "name": "stderr",
     "output_type": "stream",
     "text": [
      "/Users/ejwillemse/dev/waste_labs_dev/project_rdi_cpt/src/mcarptif/visualise/route_tables.py:146: FutureWarning:\n",
      "\n",
      "The frame.append method is deprecated and will be removed from pandas in a future version. Use pandas.concat instead.\n",
      "\n"
     ]
    },
    {
     "name": "stdout",
     "output_type": "stream",
     "text": [
      "\n",
      "\n",
      " RUNNING SCENARIO households_038\n",
      "2022-06-03 01:00:42,835 - kedro.io.data_catalog - INFO - Loading data from `waste_gen_scenarios_local_20220601` (PartitionedDataSet)...\n",
      "2022-06-03 01:00:42,853 - kedro.io.data_catalog - INFO - Loading data from `routing_parameters` (ExcelDataSet)...\n",
      "2022-06-03 01:00:43,029 - root - INFO - Preparing road network.......\n",
      "\n",
      "2022-06-03 01:00:43,087 - root - INFO - Load required arcs\n",
      "2022-06-03 01:00:43,089 - root - INFO - Merging with the network\n",
      "2022-06-03 01:00:43,113 - root - INFO - Set depot\n",
      "2022-06-03 01:00:43,117 - root - INFO - Set offload facilities\n",
      "2022-06-03 01:00:43,129 - root - INFO - Extend required arcs with inverse edge arcs\n",
      "2022-06-03 01:00:43,217 - root - INFO - Checking master list\n",
      "2022-06-03 01:00:43,225 - root - INFO - Load distance matrix: 8126 x 8126\n"
     ]
    },
    {
     "name": "stderr",
     "output_type": "stream",
     "text": [
      "/Users/ejwillemse/opt/anaconda3/envs/python_RD/lib/python3.8/site-packages/tables/array.py:241: DeprecationWarning:\n",
      "\n",
      "`np.object` is a deprecated alias for the builtin `object`. To silence this warning, use `object` by itself. Doing this will not modify any behavior and is safe. \n",
      "Deprecated in NumPy 1.20; for more details and guidance: https://numpy.org/devdocs/release/1.20.0-notes.html#deprecations\n",
      "\n",
      "/Users/ejwillemse/opt/anaconda3/envs/python_RD/lib/python3.8/site-packages/tables/array.py:241: DeprecationWarning:\n",
      "\n",
      "`np.object` is a deprecated alias for the builtin `object`. To silence this warning, use `object` by itself. Doing this will not modify any behavior and is safe. \n",
      "Deprecated in NumPy 1.20; for more details and guidance: https://numpy.org/devdocs/release/1.20.0-notes.html#deprecations\n",
      "\n",
      "/Users/ejwillemse/opt/anaconda3/envs/python_RD/lib/python3.8/site-packages/tables/leaf.py:544: VisibleDeprecationWarning:\n",
      "\n",
      "Creating an ndarray from ragged nested sequences (which is a list-or-tuple of lists-or-tuples-or ndarrays with different lengths or shapes) is deprecated. If you meant to do this, you must specify 'dtype=object' when creating the ndarray.\n",
      "\n"
     ]
    },
    {
     "name": "stdout",
     "output_type": "stream",
     "text": [
      "2022-06-03 01:00:50,127 - root - INFO - Creating nearest neighbour lists\n",
      "2022-06-03 01:00:53,589 - root - INFO - Calculate offloads: 8126 x 8126 x 2\n",
      "2022-06-03 01:01:03,476 - root - INFO - Done!\n",
      "2022-06-03 01:01:03,517 - root - INFO - Uploading scenario inputs...\n",
      "2022-06-03 01:01:03,541 - root - INFO - Setting service cost for network\n",
      "2022-06-03 01:01:03,551 - root - INFO - Setting demand for network\n",
      "2022-06-03 01:01:03,561 - root - INFO - Update travel durations.\n",
      "2022-06-03 01:01:03,846 - root - INFO - Update offload durations.\n",
      "2022-06-03 01:01:04,264 - root - INFO - Done\n",
      "2022-06-03 01:01:04,265 - root - INFO - Problem info supplied. Directly proceeding to solve problem.\n",
      "2022-06-03 01:01:39,831 - root - INFO - Done generating routes\n",
      "Number of routes: 18\n",
      "2022-06-03 01:01:39,833 - root - INFO - Preparing scenario outputs...\n"
     ]
    },
    {
     "name": "stderr",
     "output_type": "stream",
     "text": [
      "/Users/ejwillemse/opt/anaconda3/envs/python_RD/lib/python3.8/site-packages/tables/array.py:241: DeprecationWarning:\n",
      "\n",
      "`np.object` is a deprecated alias for the builtin `object`. To silence this warning, use `object` by itself. Doing this will not modify any behavior and is safe. \n",
      "Deprecated in NumPy 1.20; for more details and guidance: https://numpy.org/devdocs/release/1.20.0-notes.html#deprecations\n",
      "\n"
     ]
    },
    {
     "name": "stdout",
     "output_type": "stream",
     "text": [
      "2022-06-03 01:01:48,667 - root - INFO - Done preparing output\n",
      "2022-06-03 01:01:48,669 - kedro.io.data_catalog - INFO - Saving data to `resource_summary_table_20220601_decentral` (PartitionedDataSet)...\n"
     ]
    },
    {
     "name": "stderr",
     "output_type": "stream",
     "text": [
      "/Users/ejwillemse/dev/waste_labs_dev/project_rdi_cpt/src/mcarptif/visualise/route_tables.py:146: FutureWarning:\n",
      "\n",
      "The frame.append method is deprecated and will be removed from pandas in a future version. Use pandas.concat instead.\n",
      "\n"
     ]
    },
    {
     "name": "stdout",
     "output_type": "stream",
     "text": [
      "\n",
      "\n",
      " RUNNING SCENARIO households_039\n",
      "2022-06-03 01:01:49,148 - kedro.io.data_catalog - INFO - Loading data from `waste_gen_scenarios_local_20220601` (PartitionedDataSet)...\n",
      "2022-06-03 01:01:49,167 - kedro.io.data_catalog - INFO - Loading data from `routing_parameters` (ExcelDataSet)...\n",
      "2022-06-03 01:01:49,326 - root - INFO - Preparing road network.......\n",
      "\n",
      "2022-06-03 01:01:49,386 - root - INFO - Load required arcs\n",
      "2022-06-03 01:01:49,388 - root - INFO - Merging with the network\n",
      "2022-06-03 01:01:49,410 - root - INFO - Set depot\n",
      "2022-06-03 01:01:49,414 - root - INFO - Set offload facilities\n",
      "2022-06-03 01:01:49,425 - root - INFO - Extend required arcs with inverse edge arcs\n",
      "2022-06-03 01:01:49,514 - root - INFO - Checking master list\n",
      "2022-06-03 01:01:49,521 - root - INFO - Load distance matrix: 8148 x 8148\n"
     ]
    },
    {
     "name": "stderr",
     "output_type": "stream",
     "text": [
      "/Users/ejwillemse/opt/anaconda3/envs/python_RD/lib/python3.8/site-packages/tables/array.py:241: DeprecationWarning:\n",
      "\n",
      "`np.object` is a deprecated alias for the builtin `object`. To silence this warning, use `object` by itself. Doing this will not modify any behavior and is safe. \n",
      "Deprecated in NumPy 1.20; for more details and guidance: https://numpy.org/devdocs/release/1.20.0-notes.html#deprecations\n",
      "\n",
      "/Users/ejwillemse/opt/anaconda3/envs/python_RD/lib/python3.8/site-packages/tables/array.py:241: DeprecationWarning:\n",
      "\n",
      "`np.object` is a deprecated alias for the builtin `object`. To silence this warning, use `object` by itself. Doing this will not modify any behavior and is safe. \n",
      "Deprecated in NumPy 1.20; for more details and guidance: https://numpy.org/devdocs/release/1.20.0-notes.html#deprecations\n",
      "\n",
      "/Users/ejwillemse/opt/anaconda3/envs/python_RD/lib/python3.8/site-packages/tables/leaf.py:544: VisibleDeprecationWarning:\n",
      "\n",
      "Creating an ndarray from ragged nested sequences (which is a list-or-tuple of lists-or-tuples-or ndarrays with different lengths or shapes) is deprecated. If you meant to do this, you must specify 'dtype=object' when creating the ndarray.\n",
      "\n"
     ]
    },
    {
     "name": "stdout",
     "output_type": "stream",
     "text": [
      "2022-06-03 01:01:56,629 - root - INFO - Creating nearest neighbour lists\n",
      "2022-06-03 01:02:00,275 - root - INFO - Calculate offloads: 8148 x 8148 x 2\n",
      "2022-06-03 01:02:10,660 - root - INFO - Done!\n",
      "2022-06-03 01:02:10,739 - root - INFO - Uploading scenario inputs...\n",
      "2022-06-03 01:02:10,765 - root - INFO - Setting service cost for network\n",
      "2022-06-03 01:02:10,776 - root - INFO - Setting demand for network\n",
      "2022-06-03 01:02:10,787 - root - INFO - Update travel durations.\n",
      "2022-06-03 01:02:11,076 - root - INFO - Update offload durations.\n",
      "2022-06-03 01:02:11,485 - root - INFO - Done\n",
      "2022-06-03 01:02:11,487 - root - INFO - Problem info supplied. Directly proceeding to solve problem.\n",
      "2022-06-03 01:02:45,589 - root - INFO - Done generating routes\n",
      "Number of routes: 18\n",
      "2022-06-03 01:02:45,591 - root - INFO - Preparing scenario outputs...\n"
     ]
    },
    {
     "name": "stderr",
     "output_type": "stream",
     "text": [
      "/Users/ejwillemse/opt/anaconda3/envs/python_RD/lib/python3.8/site-packages/tables/array.py:241: DeprecationWarning:\n",
      "\n",
      "`np.object` is a deprecated alias for the builtin `object`. To silence this warning, use `object` by itself. Doing this will not modify any behavior and is safe. \n",
      "Deprecated in NumPy 1.20; for more details and guidance: https://numpy.org/devdocs/release/1.20.0-notes.html#deprecations\n",
      "\n"
     ]
    },
    {
     "name": "stdout",
     "output_type": "stream",
     "text": [
      "2022-06-03 01:02:54,478 - root - INFO - Done preparing output\n",
      "2022-06-03 01:02:54,479 - kedro.io.data_catalog - INFO - Saving data to `resource_summary_table_20220601_decentral` (PartitionedDataSet)...\n"
     ]
    },
    {
     "name": "stderr",
     "output_type": "stream",
     "text": [
      "/Users/ejwillemse/dev/waste_labs_dev/project_rdi_cpt/src/mcarptif/visualise/route_tables.py:146: FutureWarning:\n",
      "\n",
      "The frame.append method is deprecated and will be removed from pandas in a future version. Use pandas.concat instead.\n",
      "\n"
     ]
    },
    {
     "name": "stdout",
     "output_type": "stream",
     "text": [
      "\n",
      "\n",
      " RUNNING SCENARIO households_040\n",
      "2022-06-03 01:02:54,925 - kedro.io.data_catalog - INFO - Loading data from `waste_gen_scenarios_local_20220601` (PartitionedDataSet)...\n",
      "2022-06-03 01:02:54,942 - kedro.io.data_catalog - INFO - Loading data from `routing_parameters` (ExcelDataSet)...\n",
      "2022-06-03 01:02:55,093 - root - INFO - Preparing road network.......\n",
      "\n",
      "2022-06-03 01:02:55,149 - root - INFO - Load required arcs\n",
      "2022-06-03 01:02:55,151 - root - INFO - Merging with the network\n",
      "2022-06-03 01:02:55,174 - root - INFO - Set depot\n",
      "2022-06-03 01:02:55,177 - root - INFO - Set offload facilities\n",
      "2022-06-03 01:02:55,188 - root - INFO - Extend required arcs with inverse edge arcs\n",
      "2022-06-03 01:02:55,267 - root - INFO - Checking master list\n",
      "2022-06-03 01:02:55,274 - root - INFO - Load distance matrix: 8124 x 8124\n"
     ]
    },
    {
     "name": "stderr",
     "output_type": "stream",
     "text": [
      "/Users/ejwillemse/opt/anaconda3/envs/python_RD/lib/python3.8/site-packages/tables/array.py:241: DeprecationWarning:\n",
      "\n",
      "`np.object` is a deprecated alias for the builtin `object`. To silence this warning, use `object` by itself. Doing this will not modify any behavior and is safe. \n",
      "Deprecated in NumPy 1.20; for more details and guidance: https://numpy.org/devdocs/release/1.20.0-notes.html#deprecations\n",
      "\n",
      "/Users/ejwillemse/opt/anaconda3/envs/python_RD/lib/python3.8/site-packages/tables/array.py:241: DeprecationWarning:\n",
      "\n",
      "`np.object` is a deprecated alias for the builtin `object`. To silence this warning, use `object` by itself. Doing this will not modify any behavior and is safe. \n",
      "Deprecated in NumPy 1.20; for more details and guidance: https://numpy.org/devdocs/release/1.20.0-notes.html#deprecations\n",
      "\n",
      "/Users/ejwillemse/opt/anaconda3/envs/python_RD/lib/python3.8/site-packages/tables/leaf.py:544: VisibleDeprecationWarning:\n",
      "\n",
      "Creating an ndarray from ragged nested sequences (which is a list-or-tuple of lists-or-tuples-or ndarrays with different lengths or shapes) is deprecated. If you meant to do this, you must specify 'dtype=object' when creating the ndarray.\n",
      "\n"
     ]
    },
    {
     "name": "stdout",
     "output_type": "stream",
     "text": [
      "2022-06-03 01:03:02,240 - root - INFO - Creating nearest neighbour lists\n",
      "2022-06-03 01:03:05,668 - root - INFO - Calculate offloads: 8124 x 8124 x 2\n",
      "2022-06-03 01:03:14,792 - root - INFO - Done!\n",
      "2022-06-03 01:03:14,834 - root - INFO - Uploading scenario inputs...\n",
      "2022-06-03 01:03:14,857 - root - INFO - Setting service cost for network\n",
      "2022-06-03 01:03:14,868 - root - INFO - Setting demand for network\n",
      "2022-06-03 01:03:14,879 - root - INFO - Update travel durations.\n",
      "2022-06-03 01:03:15,156 - root - INFO - Update offload durations.\n",
      "2022-06-03 01:03:15,546 - root - INFO - Done\n",
      "2022-06-03 01:03:15,582 - root - INFO - Problem info supplied. Directly proceeding to solve problem.\n",
      "2022-06-03 01:03:49,147 - root - INFO - Done generating routes\n",
      "Number of routes: 18\n",
      "2022-06-03 01:03:49,149 - root - INFO - Preparing scenario outputs...\n"
     ]
    },
    {
     "name": "stderr",
     "output_type": "stream",
     "text": [
      "/Users/ejwillemse/opt/anaconda3/envs/python_RD/lib/python3.8/site-packages/tables/array.py:241: DeprecationWarning:\n",
      "\n",
      "`np.object` is a deprecated alias for the builtin `object`. To silence this warning, use `object` by itself. Doing this will not modify any behavior and is safe. \n",
      "Deprecated in NumPy 1.20; for more details and guidance: https://numpy.org/devdocs/release/1.20.0-notes.html#deprecations\n",
      "\n"
     ]
    },
    {
     "name": "stdout",
     "output_type": "stream",
     "text": [
      "2022-06-03 01:03:57,381 - root - INFO - Done preparing output\n",
      "2022-06-03 01:03:57,382 - kedro.io.data_catalog - INFO - Saving data to `resource_summary_table_20220601_decentral` (PartitionedDataSet)...\n"
     ]
    },
    {
     "name": "stderr",
     "output_type": "stream",
     "text": [
      "/Users/ejwillemse/dev/waste_labs_dev/project_rdi_cpt/src/mcarptif/visualise/route_tables.py:146: FutureWarning:\n",
      "\n",
      "The frame.append method is deprecated and will be removed from pandas in a future version. Use pandas.concat instead.\n",
      "\n"
     ]
    },
    {
     "name": "stdout",
     "output_type": "stream",
     "text": [
      "\n",
      "\n",
      " RUNNING SCENARIO households_041\n",
      "2022-06-03 01:03:57,839 - kedro.io.data_catalog - INFO - Loading data from `waste_gen_scenarios_local_20220601` (PartitionedDataSet)...\n",
      "2022-06-03 01:03:57,857 - kedro.io.data_catalog - INFO - Loading data from `routing_parameters` (ExcelDataSet)...\n",
      "2022-06-03 01:03:58,009 - root - INFO - Preparing road network.......\n",
      "\n",
      "2022-06-03 01:03:58,063 - root - INFO - Load required arcs\n",
      "2022-06-03 01:03:58,064 - root - INFO - Merging with the network\n",
      "2022-06-03 01:03:58,089 - root - INFO - Set depot\n",
      "2022-06-03 01:03:58,092 - root - INFO - Set offload facilities\n",
      "2022-06-03 01:03:58,102 - root - INFO - Extend required arcs with inverse edge arcs\n",
      "2022-06-03 01:03:58,182 - root - INFO - Checking master list\n",
      "2022-06-03 01:03:58,188 - root - INFO - Load distance matrix: 8143 x 8143\n"
     ]
    },
    {
     "name": "stderr",
     "output_type": "stream",
     "text": [
      "/Users/ejwillemse/opt/anaconda3/envs/python_RD/lib/python3.8/site-packages/tables/array.py:241: DeprecationWarning:\n",
      "\n",
      "`np.object` is a deprecated alias for the builtin `object`. To silence this warning, use `object` by itself. Doing this will not modify any behavior and is safe. \n",
      "Deprecated in NumPy 1.20; for more details and guidance: https://numpy.org/devdocs/release/1.20.0-notes.html#deprecations\n",
      "\n",
      "/Users/ejwillemse/opt/anaconda3/envs/python_RD/lib/python3.8/site-packages/tables/array.py:241: DeprecationWarning:\n",
      "\n",
      "`np.object` is a deprecated alias for the builtin `object`. To silence this warning, use `object` by itself. Doing this will not modify any behavior and is safe. \n",
      "Deprecated in NumPy 1.20; for more details and guidance: https://numpy.org/devdocs/release/1.20.0-notes.html#deprecations\n",
      "\n",
      "/Users/ejwillemse/opt/anaconda3/envs/python_RD/lib/python3.8/site-packages/tables/leaf.py:544: VisibleDeprecationWarning:\n",
      "\n",
      "Creating an ndarray from ragged nested sequences (which is a list-or-tuple of lists-or-tuples-or ndarrays with different lengths or shapes) is deprecated. If you meant to do this, you must specify 'dtype=object' when creating the ndarray.\n",
      "\n"
     ]
    },
    {
     "name": "stdout",
     "output_type": "stream",
     "text": [
      "2022-06-03 01:04:05,482 - root - INFO - Creating nearest neighbour lists\n",
      "2022-06-03 01:04:08,830 - root - INFO - Calculate offloads: 8143 x 8143 x 2\n",
      "2022-06-03 01:04:17,541 - root - INFO - Done!\n",
      "2022-06-03 01:04:17,603 - root - INFO - Uploading scenario inputs...\n",
      "2022-06-03 01:04:17,633 - root - INFO - Setting service cost for network\n",
      "2022-06-03 01:04:17,643 - root - INFO - Setting demand for network\n",
      "2022-06-03 01:04:17,653 - root - INFO - Update travel durations.\n",
      "2022-06-03 01:04:17,934 - root - INFO - Update offload durations.\n",
      "2022-06-03 01:04:18,358 - root - INFO - Done\n",
      "2022-06-03 01:04:18,359 - root - INFO - Problem info supplied. Directly proceeding to solve problem.\n",
      "2022-06-03 01:04:52,922 - root - INFO - Done generating routes\n",
      "Number of routes: 18\n",
      "2022-06-03 01:04:52,924 - root - INFO - Preparing scenario outputs...\n"
     ]
    },
    {
     "name": "stderr",
     "output_type": "stream",
     "text": [
      "/Users/ejwillemse/opt/anaconda3/envs/python_RD/lib/python3.8/site-packages/tables/array.py:241: DeprecationWarning:\n",
      "\n",
      "`np.object` is a deprecated alias for the builtin `object`. To silence this warning, use `object` by itself. Doing this will not modify any behavior and is safe. \n",
      "Deprecated in NumPy 1.20; for more details and guidance: https://numpy.org/devdocs/release/1.20.0-notes.html#deprecations\n",
      "\n"
     ]
    },
    {
     "name": "stdout",
     "output_type": "stream",
     "text": [
      "2022-06-03 01:05:01,462 - root - INFO - Done preparing output\n",
      "2022-06-03 01:05:01,463 - kedro.io.data_catalog - INFO - Saving data to `resource_summary_table_20220601_decentral` (PartitionedDataSet)...\n"
     ]
    },
    {
     "name": "stderr",
     "output_type": "stream",
     "text": [
      "/Users/ejwillemse/dev/waste_labs_dev/project_rdi_cpt/src/mcarptif/visualise/route_tables.py:146: FutureWarning:\n",
      "\n",
      "The frame.append method is deprecated and will be removed from pandas in a future version. Use pandas.concat instead.\n",
      "\n"
     ]
    },
    {
     "name": "stdout",
     "output_type": "stream",
     "text": [
      "\n",
      "\n",
      " RUNNING SCENARIO households_042\n",
      "2022-06-03 01:05:01,913 - kedro.io.data_catalog - INFO - Loading data from `waste_gen_scenarios_local_20220601` (PartitionedDataSet)...\n",
      "2022-06-03 01:05:01,930 - kedro.io.data_catalog - INFO - Loading data from `routing_parameters` (ExcelDataSet)...\n",
      "2022-06-03 01:05:02,087 - root - INFO - Preparing road network.......\n",
      "\n",
      "2022-06-03 01:05:02,146 - root - INFO - Load required arcs\n",
      "2022-06-03 01:05:02,147 - root - INFO - Merging with the network\n",
      "2022-06-03 01:05:02,170 - root - INFO - Set depot\n",
      "2022-06-03 01:05:02,174 - root - INFO - Set offload facilities\n",
      "2022-06-03 01:05:02,185 - root - INFO - Extend required arcs with inverse edge arcs\n",
      "2022-06-03 01:05:02,264 - root - INFO - Checking master list\n",
      "2022-06-03 01:05:02,271 - root - INFO - Load distance matrix: 8115 x 8115\n"
     ]
    },
    {
     "name": "stderr",
     "output_type": "stream",
     "text": [
      "/Users/ejwillemse/opt/anaconda3/envs/python_RD/lib/python3.8/site-packages/tables/array.py:241: DeprecationWarning:\n",
      "\n",
      "`np.object` is a deprecated alias for the builtin `object`. To silence this warning, use `object` by itself. Doing this will not modify any behavior and is safe. \n",
      "Deprecated in NumPy 1.20; for more details and guidance: https://numpy.org/devdocs/release/1.20.0-notes.html#deprecations\n",
      "\n",
      "/Users/ejwillemse/opt/anaconda3/envs/python_RD/lib/python3.8/site-packages/tables/array.py:241: DeprecationWarning:\n",
      "\n",
      "`np.object` is a deprecated alias for the builtin `object`. To silence this warning, use `object` by itself. Doing this will not modify any behavior and is safe. \n",
      "Deprecated in NumPy 1.20; for more details and guidance: https://numpy.org/devdocs/release/1.20.0-notes.html#deprecations\n",
      "\n",
      "/Users/ejwillemse/opt/anaconda3/envs/python_RD/lib/python3.8/site-packages/tables/leaf.py:544: VisibleDeprecationWarning:\n",
      "\n",
      "Creating an ndarray from ragged nested sequences (which is a list-or-tuple of lists-or-tuples-or ndarrays with different lengths or shapes) is deprecated. If you meant to do this, you must specify 'dtype=object' when creating the ndarray.\n",
      "\n"
     ]
    },
    {
     "name": "stdout",
     "output_type": "stream",
     "text": [
      "2022-06-03 01:05:09,800 - root - INFO - Creating nearest neighbour lists\n",
      "2022-06-03 01:05:13,420 - root - INFO - Calculate offloads: 8115 x 8115 x 2\n",
      "2022-06-03 01:05:22,813 - root - INFO - Done!\n",
      "2022-06-03 01:05:22,886 - root - INFO - Uploading scenario inputs...\n",
      "2022-06-03 01:05:22,913 - root - INFO - Setting service cost for network\n",
      "2022-06-03 01:05:22,923 - root - INFO - Setting demand for network\n",
      "2022-06-03 01:05:22,933 - root - INFO - Update travel durations.\n",
      "2022-06-03 01:05:23,205 - root - INFO - Update offload durations.\n",
      "2022-06-03 01:05:23,603 - root - INFO - Done\n",
      "2022-06-03 01:05:23,604 - root - INFO - Problem info supplied. Directly proceeding to solve problem.\n",
      "2022-06-03 01:05:56,987 - root - INFO - Done generating routes\n",
      "Number of routes: 18\n",
      "2022-06-03 01:05:56,988 - root - INFO - Preparing scenario outputs...\n"
     ]
    },
    {
     "name": "stderr",
     "output_type": "stream",
     "text": [
      "/Users/ejwillemse/opt/anaconda3/envs/python_RD/lib/python3.8/site-packages/tables/array.py:241: DeprecationWarning:\n",
      "\n",
      "`np.object` is a deprecated alias for the builtin `object`. To silence this warning, use `object` by itself. Doing this will not modify any behavior and is safe. \n",
      "Deprecated in NumPy 1.20; for more details and guidance: https://numpy.org/devdocs/release/1.20.0-notes.html#deprecations\n",
      "\n"
     ]
    },
    {
     "name": "stdout",
     "output_type": "stream",
     "text": [
      "2022-06-03 01:06:05,527 - root - INFO - Done preparing output\n",
      "2022-06-03 01:06:05,529 - kedro.io.data_catalog - INFO - Saving data to `resource_summary_table_20220601_decentral` (PartitionedDataSet)...\n"
     ]
    },
    {
     "name": "stderr",
     "output_type": "stream",
     "text": [
      "/Users/ejwillemse/dev/waste_labs_dev/project_rdi_cpt/src/mcarptif/visualise/route_tables.py:146: FutureWarning:\n",
      "\n",
      "The frame.append method is deprecated and will be removed from pandas in a future version. Use pandas.concat instead.\n",
      "\n"
     ]
    },
    {
     "name": "stdout",
     "output_type": "stream",
     "text": [
      "\n",
      "\n",
      " RUNNING SCENARIO households_043\n",
      "2022-06-03 01:06:05,973 - kedro.io.data_catalog - INFO - Loading data from `waste_gen_scenarios_local_20220601` (PartitionedDataSet)...\n",
      "2022-06-03 01:06:05,995 - kedro.io.data_catalog - INFO - Loading data from `routing_parameters` (ExcelDataSet)...\n",
      "2022-06-03 01:06:06,162 - root - INFO - Preparing road network.......\n",
      "\n",
      "2022-06-03 01:06:06,218 - root - INFO - Load required arcs\n",
      "2022-06-03 01:06:06,219 - root - INFO - Merging with the network\n",
      "2022-06-03 01:06:06,245 - root - INFO - Set depot\n",
      "2022-06-03 01:06:06,248 - root - INFO - Set offload facilities\n",
      "2022-06-03 01:06:06,259 - root - INFO - Extend required arcs with inverse edge arcs\n",
      "2022-06-03 01:06:06,347 - root - INFO - Checking master list\n",
      "2022-06-03 01:06:06,354 - root - INFO - Load distance matrix: 8109 x 8109\n"
     ]
    },
    {
     "name": "stderr",
     "output_type": "stream",
     "text": [
      "/Users/ejwillemse/opt/anaconda3/envs/python_RD/lib/python3.8/site-packages/tables/array.py:241: DeprecationWarning:\n",
      "\n",
      "`np.object` is a deprecated alias for the builtin `object`. To silence this warning, use `object` by itself. Doing this will not modify any behavior and is safe. \n",
      "Deprecated in NumPy 1.20; for more details and guidance: https://numpy.org/devdocs/release/1.20.0-notes.html#deprecations\n",
      "\n",
      "/Users/ejwillemse/opt/anaconda3/envs/python_RD/lib/python3.8/site-packages/tables/array.py:241: DeprecationWarning:\n",
      "\n",
      "`np.object` is a deprecated alias for the builtin `object`. To silence this warning, use `object` by itself. Doing this will not modify any behavior and is safe. \n",
      "Deprecated in NumPy 1.20; for more details and guidance: https://numpy.org/devdocs/release/1.20.0-notes.html#deprecations\n",
      "\n",
      "/Users/ejwillemse/opt/anaconda3/envs/python_RD/lib/python3.8/site-packages/tables/leaf.py:544: VisibleDeprecationWarning:\n",
      "\n",
      "Creating an ndarray from ragged nested sequences (which is a list-or-tuple of lists-or-tuples-or ndarrays with different lengths or shapes) is deprecated. If you meant to do this, you must specify 'dtype=object' when creating the ndarray.\n",
      "\n"
     ]
    },
    {
     "name": "stdout",
     "output_type": "stream",
     "text": [
      "2022-06-03 01:06:13,552 - root - INFO - Creating nearest neighbour lists\n",
      "2022-06-03 01:06:17,225 - root - INFO - Calculate offloads: 8109 x 8109 x 2\n",
      "2022-06-03 01:06:26,236 - root - INFO - Done!\n",
      "2022-06-03 01:06:26,290 - root - INFO - Uploading scenario inputs...\n",
      "2022-06-03 01:06:26,320 - root - INFO - Setting service cost for network\n",
      "2022-06-03 01:06:26,330 - root - INFO - Setting demand for network\n",
      "2022-06-03 01:06:26,340 - root - INFO - Update travel durations.\n",
      "2022-06-03 01:06:26,609 - root - INFO - Update offload durations.\n",
      "2022-06-03 01:06:26,996 - root - INFO - Done\n",
      "2022-06-03 01:06:26,997 - root - INFO - Problem info supplied. Directly proceeding to solve problem.\n",
      "2022-06-03 01:06:59,927 - root - INFO - Done generating routes\n",
      "Number of routes: 18\n",
      "2022-06-03 01:06:59,929 - root - INFO - Preparing scenario outputs...\n"
     ]
    },
    {
     "name": "stderr",
     "output_type": "stream",
     "text": [
      "/Users/ejwillemse/opt/anaconda3/envs/python_RD/lib/python3.8/site-packages/tables/array.py:241: DeprecationWarning:\n",
      "\n",
      "`np.object` is a deprecated alias for the builtin `object`. To silence this warning, use `object` by itself. Doing this will not modify any behavior and is safe. \n",
      "Deprecated in NumPy 1.20; for more details and guidance: https://numpy.org/devdocs/release/1.20.0-notes.html#deprecations\n",
      "\n"
     ]
    },
    {
     "name": "stdout",
     "output_type": "stream",
     "text": [
      "2022-06-03 01:07:08,361 - root - INFO - Done preparing output\n",
      "2022-06-03 01:07:08,362 - kedro.io.data_catalog - INFO - Saving data to `resource_summary_table_20220601_decentral` (PartitionedDataSet)...\n"
     ]
    },
    {
     "name": "stderr",
     "output_type": "stream",
     "text": [
      "/Users/ejwillemse/dev/waste_labs_dev/project_rdi_cpt/src/mcarptif/visualise/route_tables.py:146: FutureWarning:\n",
      "\n",
      "The frame.append method is deprecated and will be removed from pandas in a future version. Use pandas.concat instead.\n",
      "\n"
     ]
    },
    {
     "name": "stdout",
     "output_type": "stream",
     "text": [
      "\n",
      "\n",
      " RUNNING SCENARIO households_044\n",
      "2022-06-03 01:07:08,807 - kedro.io.data_catalog - INFO - Loading data from `waste_gen_scenarios_local_20220601` (PartitionedDataSet)...\n",
      "2022-06-03 01:07:08,826 - kedro.io.data_catalog - INFO - Loading data from `routing_parameters` (ExcelDataSet)...\n",
      "2022-06-03 01:07:08,972 - root - INFO - Preparing road network.......\n",
      "\n",
      "2022-06-03 01:07:09,028 - root - INFO - Load required arcs\n",
      "2022-06-03 01:07:09,030 - root - INFO - Merging with the network\n",
      "2022-06-03 01:07:09,054 - root - INFO - Set depot\n",
      "2022-06-03 01:07:09,057 - root - INFO - Set offload facilities\n",
      "2022-06-03 01:07:09,068 - root - INFO - Extend required arcs with inverse edge arcs\n",
      "2022-06-03 01:07:09,150 - root - INFO - Checking master list\n",
      "2022-06-03 01:07:09,156 - root - INFO - Load distance matrix: 8146 x 8146\n"
     ]
    },
    {
     "name": "stderr",
     "output_type": "stream",
     "text": [
      "/Users/ejwillemse/opt/anaconda3/envs/python_RD/lib/python3.8/site-packages/tables/array.py:241: DeprecationWarning:\n",
      "\n",
      "`np.object` is a deprecated alias for the builtin `object`. To silence this warning, use `object` by itself. Doing this will not modify any behavior and is safe. \n",
      "Deprecated in NumPy 1.20; for more details and guidance: https://numpy.org/devdocs/release/1.20.0-notes.html#deprecations\n",
      "\n",
      "/Users/ejwillemse/opt/anaconda3/envs/python_RD/lib/python3.8/site-packages/tables/array.py:241: DeprecationWarning:\n",
      "\n",
      "`np.object` is a deprecated alias for the builtin `object`. To silence this warning, use `object` by itself. Doing this will not modify any behavior and is safe. \n",
      "Deprecated in NumPy 1.20; for more details and guidance: https://numpy.org/devdocs/release/1.20.0-notes.html#deprecations\n",
      "\n",
      "/Users/ejwillemse/opt/anaconda3/envs/python_RD/lib/python3.8/site-packages/tables/leaf.py:544: VisibleDeprecationWarning:\n",
      "\n",
      "Creating an ndarray from ragged nested sequences (which is a list-or-tuple of lists-or-tuples-or ndarrays with different lengths or shapes) is deprecated. If you meant to do this, you must specify 'dtype=object' when creating the ndarray.\n",
      "\n"
     ]
    },
    {
     "name": "stdout",
     "output_type": "stream",
     "text": [
      "2022-06-03 01:07:15,766 - root - INFO - Creating nearest neighbour lists\n",
      "2022-06-03 01:07:19,207 - root - INFO - Calculate offloads: 8146 x 8146 x 2\n",
      "2022-06-03 01:07:28,422 - root - INFO - Done!\n",
      "2022-06-03 01:07:28,464 - root - INFO - Uploading scenario inputs...\n",
      "2022-06-03 01:07:28,488 - root - INFO - Setting service cost for network\n",
      "2022-06-03 01:07:28,500 - root - INFO - Setting demand for network\n",
      "2022-06-03 01:07:28,511 - root - INFO - Update travel durations.\n",
      "2022-06-03 01:07:28,817 - root - INFO - Update offload durations.\n",
      "2022-06-03 01:07:29,221 - root - INFO - Done\n",
      "2022-06-03 01:07:29,223 - root - INFO - Problem info supplied. Directly proceeding to solve problem.\n",
      "2022-06-03 01:08:02,576 - root - INFO - Done generating routes\n",
      "Number of routes: 18\n",
      "2022-06-03 01:08:02,578 - root - INFO - Preparing scenario outputs...\n"
     ]
    },
    {
     "name": "stderr",
     "output_type": "stream",
     "text": [
      "/Users/ejwillemse/opt/anaconda3/envs/python_RD/lib/python3.8/site-packages/tables/array.py:241: DeprecationWarning:\n",
      "\n",
      "`np.object` is a deprecated alias for the builtin `object`. To silence this warning, use `object` by itself. Doing this will not modify any behavior and is safe. \n",
      "Deprecated in NumPy 1.20; for more details and guidance: https://numpy.org/devdocs/release/1.20.0-notes.html#deprecations\n",
      "\n"
     ]
    },
    {
     "name": "stdout",
     "output_type": "stream",
     "text": [
      "2022-06-03 01:08:11,280 - root - INFO - Done preparing output\n",
      "2022-06-03 01:08:11,281 - kedro.io.data_catalog - INFO - Saving data to `resource_summary_table_20220601_decentral` (PartitionedDataSet)...\n"
     ]
    },
    {
     "name": "stderr",
     "output_type": "stream",
     "text": [
      "/Users/ejwillemse/dev/waste_labs_dev/project_rdi_cpt/src/mcarptif/visualise/route_tables.py:146: FutureWarning:\n",
      "\n",
      "The frame.append method is deprecated and will be removed from pandas in a future version. Use pandas.concat instead.\n",
      "\n"
     ]
    },
    {
     "name": "stdout",
     "output_type": "stream",
     "text": [
      "\n",
      "\n",
      " RUNNING SCENARIO households_045\n",
      "2022-06-03 01:08:11,744 - kedro.io.data_catalog - INFO - Loading data from `waste_gen_scenarios_local_20220601` (PartitionedDataSet)...\n",
      "2022-06-03 01:08:11,761 - kedro.io.data_catalog - INFO - Loading data from `routing_parameters` (ExcelDataSet)...\n",
      "2022-06-03 01:08:11,921 - root - INFO - Preparing road network.......\n",
      "\n",
      "2022-06-03 01:08:11,979 - root - INFO - Load required arcs\n",
      "2022-06-03 01:08:11,981 - root - INFO - Merging with the network\n",
      "2022-06-03 01:08:12,007 - root - INFO - Set depot\n",
      "2022-06-03 01:08:12,010 - root - INFO - Set offload facilities\n",
      "2022-06-03 01:08:12,020 - root - INFO - Extend required arcs with inverse edge arcs\n",
      "2022-06-03 01:08:12,101 - root - INFO - Checking master list\n",
      "2022-06-03 01:08:12,106 - root - INFO - Load distance matrix: 8140 x 8140\n"
     ]
    },
    {
     "name": "stderr",
     "output_type": "stream",
     "text": [
      "/Users/ejwillemse/opt/anaconda3/envs/python_RD/lib/python3.8/site-packages/tables/array.py:241: DeprecationWarning:\n",
      "\n",
      "`np.object` is a deprecated alias for the builtin `object`. To silence this warning, use `object` by itself. Doing this will not modify any behavior and is safe. \n",
      "Deprecated in NumPy 1.20; for more details and guidance: https://numpy.org/devdocs/release/1.20.0-notes.html#deprecations\n",
      "\n",
      "/Users/ejwillemse/opt/anaconda3/envs/python_RD/lib/python3.8/site-packages/tables/array.py:241: DeprecationWarning:\n",
      "\n",
      "`np.object` is a deprecated alias for the builtin `object`. To silence this warning, use `object` by itself. Doing this will not modify any behavior and is safe. \n",
      "Deprecated in NumPy 1.20; for more details and guidance: https://numpy.org/devdocs/release/1.20.0-notes.html#deprecations\n",
      "\n",
      "/Users/ejwillemse/opt/anaconda3/envs/python_RD/lib/python3.8/site-packages/tables/leaf.py:544: VisibleDeprecationWarning:\n",
      "\n",
      "Creating an ndarray from ragged nested sequences (which is a list-or-tuple of lists-or-tuples-or ndarrays with different lengths or shapes) is deprecated. If you meant to do this, you must specify 'dtype=object' when creating the ndarray.\n",
      "\n"
     ]
    },
    {
     "name": "stdout",
     "output_type": "stream",
     "text": [
      "2022-06-03 01:08:18,643 - root - INFO - Creating nearest neighbour lists\n",
      "2022-06-03 01:08:22,032 - root - INFO - Calculate offloads: 8140 x 8140 x 2\n",
      "2022-06-03 01:08:31,112 - root - INFO - Done!\n",
      "2022-06-03 01:08:31,152 - root - INFO - Uploading scenario inputs...\n",
      "2022-06-03 01:08:31,175 - root - INFO - Setting service cost for network\n",
      "2022-06-03 01:08:31,186 - root - INFO - Setting demand for network\n",
      "2022-06-03 01:08:31,195 - root - INFO - Update travel durations.\n",
      "2022-06-03 01:08:31,477 - root - INFO - Update offload durations.\n",
      "2022-06-03 01:08:31,883 - root - INFO - Done\n",
      "2022-06-03 01:08:31,885 - root - INFO - Problem info supplied. Directly proceeding to solve problem.\n",
      "2022-06-03 01:09:04,794 - root - INFO - Done generating routes\n",
      "Number of routes: 18\n",
      "2022-06-03 01:09:04,795 - root - INFO - Preparing scenario outputs...\n"
     ]
    },
    {
     "name": "stderr",
     "output_type": "stream",
     "text": [
      "/Users/ejwillemse/opt/anaconda3/envs/python_RD/lib/python3.8/site-packages/tables/array.py:241: DeprecationWarning:\n",
      "\n",
      "`np.object` is a deprecated alias for the builtin `object`. To silence this warning, use `object` by itself. Doing this will not modify any behavior and is safe. \n",
      "Deprecated in NumPy 1.20; for more details and guidance: https://numpy.org/devdocs/release/1.20.0-notes.html#deprecations\n",
      "\n"
     ]
    },
    {
     "name": "stdout",
     "output_type": "stream",
     "text": [
      "2022-06-03 01:09:13,413 - root - INFO - Done preparing output\n",
      "2022-06-03 01:09:13,414 - kedro.io.data_catalog - INFO - Saving data to `resource_summary_table_20220601_decentral` (PartitionedDataSet)...\n"
     ]
    },
    {
     "name": "stderr",
     "output_type": "stream",
     "text": [
      "/Users/ejwillemse/dev/waste_labs_dev/project_rdi_cpt/src/mcarptif/visualise/route_tables.py:146: FutureWarning:\n",
      "\n",
      "The frame.append method is deprecated and will be removed from pandas in a future version. Use pandas.concat instead.\n",
      "\n"
     ]
    },
    {
     "name": "stdout",
     "output_type": "stream",
     "text": [
      "\n",
      "\n",
      " RUNNING SCENARIO households_046\n",
      "2022-06-03 01:09:13,876 - kedro.io.data_catalog - INFO - Loading data from `waste_gen_scenarios_local_20220601` (PartitionedDataSet)...\n",
      "2022-06-03 01:09:13,893 - kedro.io.data_catalog - INFO - Loading data from `routing_parameters` (ExcelDataSet)...\n",
      "2022-06-03 01:09:14,049 - root - INFO - Preparing road network.......\n",
      "\n",
      "2022-06-03 01:09:14,105 - root - INFO - Load required arcs\n",
      "2022-06-03 01:09:14,106 - root - INFO - Merging with the network\n",
      "2022-06-03 01:09:14,129 - root - INFO - Set depot\n",
      "2022-06-03 01:09:14,132 - root - INFO - Set offload facilities\n",
      "2022-06-03 01:09:14,141 - root - INFO - Extend required arcs with inverse edge arcs\n",
      "2022-06-03 01:09:14,217 - root - INFO - Checking master list\n",
      "2022-06-03 01:09:14,224 - root - INFO - Load distance matrix: 8147 x 8147\n"
     ]
    },
    {
     "name": "stderr",
     "output_type": "stream",
     "text": [
      "/Users/ejwillemse/opt/anaconda3/envs/python_RD/lib/python3.8/site-packages/tables/array.py:241: DeprecationWarning:\n",
      "\n",
      "`np.object` is a deprecated alias for the builtin `object`. To silence this warning, use `object` by itself. Doing this will not modify any behavior and is safe. \n",
      "Deprecated in NumPy 1.20; for more details and guidance: https://numpy.org/devdocs/release/1.20.0-notes.html#deprecations\n",
      "\n",
      "/Users/ejwillemse/opt/anaconda3/envs/python_RD/lib/python3.8/site-packages/tables/array.py:241: DeprecationWarning:\n",
      "\n",
      "`np.object` is a deprecated alias for the builtin `object`. To silence this warning, use `object` by itself. Doing this will not modify any behavior and is safe. \n",
      "Deprecated in NumPy 1.20; for more details and guidance: https://numpy.org/devdocs/release/1.20.0-notes.html#deprecations\n",
      "\n",
      "/Users/ejwillemse/opt/anaconda3/envs/python_RD/lib/python3.8/site-packages/tables/leaf.py:544: VisibleDeprecationWarning:\n",
      "\n",
      "Creating an ndarray from ragged nested sequences (which is a list-or-tuple of lists-or-tuples-or ndarrays with different lengths or shapes) is deprecated. If you meant to do this, you must specify 'dtype=object' when creating the ndarray.\n",
      "\n"
     ]
    },
    {
     "name": "stdout",
     "output_type": "stream",
     "text": [
      "2022-06-03 01:09:20,596 - root - INFO - Creating nearest neighbour lists\n",
      "2022-06-03 01:09:23,993 - root - INFO - Calculate offloads: 8147 x 8147 x 2\n",
      "2022-06-03 01:09:32,580 - root - INFO - Done!\n",
      "2022-06-03 01:09:32,621 - root - INFO - Uploading scenario inputs...\n",
      "2022-06-03 01:09:32,649 - root - INFO - Setting service cost for network\n",
      "2022-06-03 01:09:32,660 - root - INFO - Setting demand for network\n",
      "2022-06-03 01:09:32,669 - root - INFO - Update travel durations.\n",
      "2022-06-03 01:09:32,958 - root - INFO - Update offload durations.\n",
      "2022-06-03 01:09:33,367 - root - INFO - Done\n",
      "2022-06-03 01:09:33,368 - root - INFO - Problem info supplied. Directly proceeding to solve problem.\n",
      "2022-06-03 01:10:06,734 - root - INFO - Done generating routes\n",
      "Number of routes: 18\n",
      "2022-06-03 01:10:06,736 - root - INFO - Preparing scenario outputs...\n"
     ]
    },
    {
     "name": "stderr",
     "output_type": "stream",
     "text": [
      "/Users/ejwillemse/opt/anaconda3/envs/python_RD/lib/python3.8/site-packages/tables/array.py:241: DeprecationWarning:\n",
      "\n",
      "`np.object` is a deprecated alias for the builtin `object`. To silence this warning, use `object` by itself. Doing this will not modify any behavior and is safe. \n",
      "Deprecated in NumPy 1.20; for more details and guidance: https://numpy.org/devdocs/release/1.20.0-notes.html#deprecations\n",
      "\n"
     ]
    },
    {
     "name": "stdout",
     "output_type": "stream",
     "text": [
      "2022-06-03 01:10:15,305 - root - INFO - Done preparing output\n",
      "2022-06-03 01:10:15,306 - kedro.io.data_catalog - INFO - Saving data to `resource_summary_table_20220601_decentral` (PartitionedDataSet)...\n"
     ]
    },
    {
     "name": "stderr",
     "output_type": "stream",
     "text": [
      "/Users/ejwillemse/dev/waste_labs_dev/project_rdi_cpt/src/mcarptif/visualise/route_tables.py:146: FutureWarning:\n",
      "\n",
      "The frame.append method is deprecated and will be removed from pandas in a future version. Use pandas.concat instead.\n",
      "\n"
     ]
    },
    {
     "name": "stdout",
     "output_type": "stream",
     "text": [
      "\n",
      "\n",
      " RUNNING SCENARIO households_047\n",
      "2022-06-03 01:10:15,772 - kedro.io.data_catalog - INFO - Loading data from `waste_gen_scenarios_local_20220601` (PartitionedDataSet)...\n",
      "2022-06-03 01:10:15,790 - kedro.io.data_catalog - INFO - Loading data from `routing_parameters` (ExcelDataSet)...\n",
      "2022-06-03 01:10:15,948 - root - INFO - Preparing road network.......\n",
      "\n",
      "2022-06-03 01:10:16,002 - root - INFO - Load required arcs\n",
      "2022-06-03 01:10:16,004 - root - INFO - Merging with the network\n",
      "2022-06-03 01:10:16,027 - root - INFO - Set depot\n",
      "2022-06-03 01:10:16,030 - root - INFO - Set offload facilities\n",
      "2022-06-03 01:10:16,041 - root - INFO - Extend required arcs with inverse edge arcs\n",
      "2022-06-03 01:10:16,120 - root - INFO - Checking master list\n",
      "2022-06-03 01:10:16,126 - root - INFO - Load distance matrix: 8144 x 8144\n"
     ]
    },
    {
     "name": "stderr",
     "output_type": "stream",
     "text": [
      "/Users/ejwillemse/opt/anaconda3/envs/python_RD/lib/python3.8/site-packages/tables/array.py:241: DeprecationWarning:\n",
      "\n",
      "`np.object` is a deprecated alias for the builtin `object`. To silence this warning, use `object` by itself. Doing this will not modify any behavior and is safe. \n",
      "Deprecated in NumPy 1.20; for more details and guidance: https://numpy.org/devdocs/release/1.20.0-notes.html#deprecations\n",
      "\n",
      "/Users/ejwillemse/opt/anaconda3/envs/python_RD/lib/python3.8/site-packages/tables/array.py:241: DeprecationWarning:\n",
      "\n",
      "`np.object` is a deprecated alias for the builtin `object`. To silence this warning, use `object` by itself. Doing this will not modify any behavior and is safe. \n",
      "Deprecated in NumPy 1.20; for more details and guidance: https://numpy.org/devdocs/release/1.20.0-notes.html#deprecations\n",
      "\n",
      "/Users/ejwillemse/opt/anaconda3/envs/python_RD/lib/python3.8/site-packages/tables/leaf.py:544: VisibleDeprecationWarning:\n",
      "\n",
      "Creating an ndarray from ragged nested sequences (which is a list-or-tuple of lists-or-tuples-or ndarrays with different lengths or shapes) is deprecated. If you meant to do this, you must specify 'dtype=object' when creating the ndarray.\n",
      "\n"
     ]
    },
    {
     "name": "stdout",
     "output_type": "stream",
     "text": [
      "2022-06-03 01:10:22,565 - root - INFO - Creating nearest neighbour lists\n",
      "2022-06-03 01:10:25,956 - root - INFO - Calculate offloads: 8144 x 8144 x 2\n",
      "2022-06-03 01:10:34,259 - root - INFO - Done!\n",
      "2022-06-03 01:10:34,301 - root - INFO - Uploading scenario inputs...\n",
      "2022-06-03 01:10:34,322 - root - INFO - Setting service cost for network\n",
      "2022-06-03 01:10:34,333 - root - INFO - Setting demand for network\n",
      "2022-06-03 01:10:34,341 - root - INFO - Update travel durations.\n",
      "2022-06-03 01:10:34,621 - root - INFO - Update offload durations.\n",
      "2022-06-03 01:10:35,027 - root - INFO - Done\n",
      "2022-06-03 01:10:35,028 - root - INFO - Problem info supplied. Directly proceeding to solve problem.\n",
      "2022-06-03 01:11:08,956 - root - INFO - Done generating routes\n",
      "Number of routes: 18\n",
      "2022-06-03 01:11:08,958 - root - INFO - Preparing scenario outputs...\n"
     ]
    },
    {
     "name": "stderr",
     "output_type": "stream",
     "text": [
      "/Users/ejwillemse/opt/anaconda3/envs/python_RD/lib/python3.8/site-packages/tables/array.py:241: DeprecationWarning:\n",
      "\n",
      "`np.object` is a deprecated alias for the builtin `object`. To silence this warning, use `object` by itself. Doing this will not modify any behavior and is safe. \n",
      "Deprecated in NumPy 1.20; for more details and guidance: https://numpy.org/devdocs/release/1.20.0-notes.html#deprecations\n",
      "\n"
     ]
    },
    {
     "name": "stdout",
     "output_type": "stream",
     "text": [
      "2022-06-03 01:11:16,944 - root - INFO - Done preparing output\n",
      "2022-06-03 01:11:16,945 - kedro.io.data_catalog - INFO - Saving data to `resource_summary_table_20220601_decentral` (PartitionedDataSet)...\n"
     ]
    },
    {
     "name": "stderr",
     "output_type": "stream",
     "text": [
      "/Users/ejwillemse/dev/waste_labs_dev/project_rdi_cpt/src/mcarptif/visualise/route_tables.py:146: FutureWarning:\n",
      "\n",
      "The frame.append method is deprecated and will be removed from pandas in a future version. Use pandas.concat instead.\n",
      "\n"
     ]
    },
    {
     "name": "stdout",
     "output_type": "stream",
     "text": [
      "\n",
      "\n",
      " RUNNING SCENARIO households_048\n",
      "2022-06-03 01:11:17,404 - kedro.io.data_catalog - INFO - Loading data from `waste_gen_scenarios_local_20220601` (PartitionedDataSet)...\n",
      "2022-06-03 01:11:17,423 - kedro.io.data_catalog - INFO - Loading data from `routing_parameters` (ExcelDataSet)...\n",
      "2022-06-03 01:11:17,578 - root - INFO - Preparing road network.......\n",
      "\n",
      "2022-06-03 01:11:17,636 - root - INFO - Load required arcs\n",
      "2022-06-03 01:11:17,638 - root - INFO - Merging with the network\n",
      "2022-06-03 01:11:17,663 - root - INFO - Set depot\n",
      "2022-06-03 01:11:17,666 - root - INFO - Set offload facilities\n",
      "2022-06-03 01:11:17,678 - root - INFO - Extend required arcs with inverse edge arcs\n",
      "2022-06-03 01:11:17,767 - root - INFO - Checking master list\n",
      "2022-06-03 01:11:17,774 - root - INFO - Load distance matrix: 8141 x 8141\n"
     ]
    },
    {
     "name": "stderr",
     "output_type": "stream",
     "text": [
      "/Users/ejwillemse/opt/anaconda3/envs/python_RD/lib/python3.8/site-packages/tables/array.py:241: DeprecationWarning:\n",
      "\n",
      "`np.object` is a deprecated alias for the builtin `object`. To silence this warning, use `object` by itself. Doing this will not modify any behavior and is safe. \n",
      "Deprecated in NumPy 1.20; for more details and guidance: https://numpy.org/devdocs/release/1.20.0-notes.html#deprecations\n",
      "\n",
      "/Users/ejwillemse/opt/anaconda3/envs/python_RD/lib/python3.8/site-packages/tables/array.py:241: DeprecationWarning:\n",
      "\n",
      "`np.object` is a deprecated alias for the builtin `object`. To silence this warning, use `object` by itself. Doing this will not modify any behavior and is safe. \n",
      "Deprecated in NumPy 1.20; for more details and guidance: https://numpy.org/devdocs/release/1.20.0-notes.html#deprecations\n",
      "\n",
      "/Users/ejwillemse/opt/anaconda3/envs/python_RD/lib/python3.8/site-packages/tables/leaf.py:544: VisibleDeprecationWarning:\n",
      "\n",
      "Creating an ndarray from ragged nested sequences (which is a list-or-tuple of lists-or-tuples-or ndarrays with different lengths or shapes) is deprecated. If you meant to do this, you must specify 'dtype=object' when creating the ndarray.\n",
      "\n"
     ]
    },
    {
     "name": "stdout",
     "output_type": "stream",
     "text": [
      "2022-06-03 01:11:24,194 - root - INFO - Creating nearest neighbour lists\n",
      "2022-06-03 01:11:27,567 - root - INFO - Calculate offloads: 8141 x 8141 x 2\n",
      "2022-06-03 01:11:35,543 - root - INFO - Done!\n",
      "2022-06-03 01:11:35,609 - root - INFO - Uploading scenario inputs...\n",
      "2022-06-03 01:11:35,631 - root - INFO - Setting service cost for network\n",
      "2022-06-03 01:11:35,641 - root - INFO - Setting demand for network\n",
      "2022-06-03 01:11:35,650 - root - INFO - Update travel durations.\n",
      "2022-06-03 01:11:35,929 - root - INFO - Update offload durations.\n",
      "2022-06-03 01:11:36,331 - root - INFO - Done\n",
      "2022-06-03 01:11:36,333 - root - INFO - Problem info supplied. Directly proceeding to solve problem.\n",
      "2022-06-03 01:12:09,730 - root - INFO - Done generating routes\n",
      "Number of routes: 18\n",
      "2022-06-03 01:12:09,732 - root - INFO - Preparing scenario outputs...\n"
     ]
    },
    {
     "name": "stderr",
     "output_type": "stream",
     "text": [
      "/Users/ejwillemse/opt/anaconda3/envs/python_RD/lib/python3.8/site-packages/tables/array.py:241: DeprecationWarning:\n",
      "\n",
      "`np.object` is a deprecated alias for the builtin `object`. To silence this warning, use `object` by itself. Doing this will not modify any behavior and is safe. \n",
      "Deprecated in NumPy 1.20; for more details and guidance: https://numpy.org/devdocs/release/1.20.0-notes.html#deprecations\n",
      "\n"
     ]
    },
    {
     "name": "stdout",
     "output_type": "stream",
     "text": [
      "2022-06-03 01:12:18,298 - root - INFO - Done preparing output\n",
      "2022-06-03 01:12:18,299 - kedro.io.data_catalog - INFO - Saving data to `resource_summary_table_20220601_decentral` (PartitionedDataSet)...\n"
     ]
    },
    {
     "name": "stderr",
     "output_type": "stream",
     "text": [
      "/Users/ejwillemse/dev/waste_labs_dev/project_rdi_cpt/src/mcarptif/visualise/route_tables.py:146: FutureWarning:\n",
      "\n",
      "The frame.append method is deprecated and will be removed from pandas in a future version. Use pandas.concat instead.\n",
      "\n"
     ]
    },
    {
     "name": "stdout",
     "output_type": "stream",
     "text": [
      "\n",
      "\n",
      " RUNNING SCENARIO households_049\n",
      "2022-06-03 01:12:18,774 - kedro.io.data_catalog - INFO - Loading data from `waste_gen_scenarios_local_20220601` (PartitionedDataSet)...\n",
      "2022-06-03 01:12:18,791 - kedro.io.data_catalog - INFO - Loading data from `routing_parameters` (ExcelDataSet)...\n",
      "2022-06-03 01:12:18,942 - root - INFO - Preparing road network.......\n",
      "\n",
      "2022-06-03 01:12:18,999 - root - INFO - Load required arcs\n",
      "2022-06-03 01:12:19,001 - root - INFO - Merging with the network\n",
      "2022-06-03 01:12:19,026 - root - INFO - Set depot\n",
      "2022-06-03 01:12:19,031 - root - INFO - Set offload facilities\n",
      "2022-06-03 01:12:19,041 - root - INFO - Extend required arcs with inverse edge arcs\n",
      "2022-06-03 01:12:19,123 - root - INFO - Checking master list\n",
      "2022-06-03 01:12:19,129 - root - INFO - Load distance matrix: 8161 x 8161\n"
     ]
    },
    {
     "name": "stderr",
     "output_type": "stream",
     "text": [
      "/Users/ejwillemse/opt/anaconda3/envs/python_RD/lib/python3.8/site-packages/tables/array.py:241: DeprecationWarning:\n",
      "\n",
      "`np.object` is a deprecated alias for the builtin `object`. To silence this warning, use `object` by itself. Doing this will not modify any behavior and is safe. \n",
      "Deprecated in NumPy 1.20; for more details and guidance: https://numpy.org/devdocs/release/1.20.0-notes.html#deprecations\n",
      "\n",
      "/Users/ejwillemse/opt/anaconda3/envs/python_RD/lib/python3.8/site-packages/tables/array.py:241: DeprecationWarning:\n",
      "\n",
      "`np.object` is a deprecated alias for the builtin `object`. To silence this warning, use `object` by itself. Doing this will not modify any behavior and is safe. \n",
      "Deprecated in NumPy 1.20; for more details and guidance: https://numpy.org/devdocs/release/1.20.0-notes.html#deprecations\n",
      "\n",
      "/Users/ejwillemse/opt/anaconda3/envs/python_RD/lib/python3.8/site-packages/tables/leaf.py:544: VisibleDeprecationWarning:\n",
      "\n",
      "Creating an ndarray from ragged nested sequences (which is a list-or-tuple of lists-or-tuples-or ndarrays with different lengths or shapes) is deprecated. If you meant to do this, you must specify 'dtype=object' when creating the ndarray.\n",
      "\n"
     ]
    },
    {
     "name": "stdout",
     "output_type": "stream",
     "text": [
      "2022-06-03 01:12:26,226 - root - INFO - Creating nearest neighbour lists\n",
      "2022-06-03 01:12:29,915 - root - INFO - Calculate offloads: 8161 x 8161 x 2\n",
      "2022-06-03 01:12:41,226 - root - INFO - Done!\n",
      "2022-06-03 01:12:41,827 - root - INFO - Uploading scenario inputs...\n",
      "2022-06-03 01:12:41,855 - root - INFO - Setting service cost for network\n",
      "2022-06-03 01:12:41,867 - root - INFO - Setting demand for network\n",
      "2022-06-03 01:12:41,878 - root - INFO - Update travel durations.\n",
      "2022-06-03 01:12:42,441 - root - INFO - Update offload durations.\n",
      "2022-06-03 01:12:42,859 - root - INFO - Done\n",
      "2022-06-03 01:12:42,860 - root - INFO - Problem info supplied. Directly proceeding to solve problem.\n",
      "2022-06-03 01:13:16,341 - root - INFO - Done generating routes\n",
      "Number of routes: 18\n",
      "2022-06-03 01:13:16,343 - root - INFO - Preparing scenario outputs...\n"
     ]
    },
    {
     "name": "stderr",
     "output_type": "stream",
     "text": [
      "/Users/ejwillemse/opt/anaconda3/envs/python_RD/lib/python3.8/site-packages/tables/array.py:241: DeprecationWarning:\n",
      "\n",
      "`np.object` is a deprecated alias for the builtin `object`. To silence this warning, use `object` by itself. Doing this will not modify any behavior and is safe. \n",
      "Deprecated in NumPy 1.20; for more details and guidance: https://numpy.org/devdocs/release/1.20.0-notes.html#deprecations\n",
      "\n"
     ]
    },
    {
     "name": "stdout",
     "output_type": "stream",
     "text": [
      "2022-06-03 01:13:24,945 - root - INFO - Done preparing output\n",
      "2022-06-03 01:13:24,946 - kedro.io.data_catalog - INFO - Saving data to `resource_summary_table_20220601_decentral` (PartitionedDataSet)...\n"
     ]
    },
    {
     "name": "stderr",
     "output_type": "stream",
     "text": [
      "/Users/ejwillemse/dev/waste_labs_dev/project_rdi_cpt/src/mcarptif/visualise/route_tables.py:146: FutureWarning:\n",
      "\n",
      "The frame.append method is deprecated and will be removed from pandas in a future version. Use pandas.concat instead.\n",
      "\n"
     ]
    },
    {
     "name": "stdout",
     "output_type": "stream",
     "text": [
      "\n",
      "\n",
      " RUNNING SCENARIO households_050\n",
      "2022-06-03 01:13:25,430 - kedro.io.data_catalog - INFO - Loading data from `waste_gen_scenarios_local_20220601` (PartitionedDataSet)...\n",
      "2022-06-03 01:13:25,447 - kedro.io.data_catalog - INFO - Loading data from `routing_parameters` (ExcelDataSet)...\n",
      "2022-06-03 01:13:25,618 - root - INFO - Preparing road network.......\n",
      "\n",
      "2022-06-03 01:13:25,681 - root - INFO - Load required arcs\n",
      "2022-06-03 01:13:25,683 - root - INFO - Merging with the network\n",
      "2022-06-03 01:13:25,708 - root - INFO - Set depot\n",
      "2022-06-03 01:13:25,712 - root - INFO - Set offload facilities\n",
      "2022-06-03 01:13:25,723 - root - INFO - Extend required arcs with inverse edge arcs\n",
      "2022-06-03 01:13:25,811 - root - INFO - Checking master list\n",
      "2022-06-03 01:13:25,816 - root - INFO - Load distance matrix: 8175 x 8175\n"
     ]
    },
    {
     "name": "stderr",
     "output_type": "stream",
     "text": [
      "/Users/ejwillemse/opt/anaconda3/envs/python_RD/lib/python3.8/site-packages/tables/array.py:241: DeprecationWarning:\n",
      "\n",
      "`np.object` is a deprecated alias for the builtin `object`. To silence this warning, use `object` by itself. Doing this will not modify any behavior and is safe. \n",
      "Deprecated in NumPy 1.20; for more details and guidance: https://numpy.org/devdocs/release/1.20.0-notes.html#deprecations\n",
      "\n",
      "/Users/ejwillemse/opt/anaconda3/envs/python_RD/lib/python3.8/site-packages/tables/array.py:241: DeprecationWarning:\n",
      "\n",
      "`np.object` is a deprecated alias for the builtin `object`. To silence this warning, use `object` by itself. Doing this will not modify any behavior and is safe. \n",
      "Deprecated in NumPy 1.20; for more details and guidance: https://numpy.org/devdocs/release/1.20.0-notes.html#deprecations\n",
      "\n",
      "/Users/ejwillemse/opt/anaconda3/envs/python_RD/lib/python3.8/site-packages/tables/leaf.py:544: VisibleDeprecationWarning:\n",
      "\n",
      "Creating an ndarray from ragged nested sequences (which is a list-or-tuple of lists-or-tuples-or ndarrays with different lengths or shapes) is deprecated. If you meant to do this, you must specify 'dtype=object' when creating the ndarray.\n",
      "\n"
     ]
    },
    {
     "name": "stdout",
     "output_type": "stream",
     "text": [
      "2022-06-03 01:13:33,515 - root - INFO - Creating nearest neighbour lists\n",
      "2022-06-03 01:13:37,263 - root - INFO - Calculate offloads: 8175 x 8175 x 2\n",
      "2022-06-03 01:13:47,767 - root - INFO - Done!\n",
      "2022-06-03 01:13:48,201 - root - INFO - Uploading scenario inputs...\n",
      "2022-06-03 01:13:48,248 - root - INFO - Setting service cost for network\n",
      "2022-06-03 01:13:48,258 - root - INFO - Setting demand for network\n",
      "2022-06-03 01:13:48,267 - root - INFO - Update travel durations.\n",
      "2022-06-03 01:13:48,616 - root - INFO - Update offload durations.\n",
      "2022-06-03 01:13:49,016 - root - INFO - Done\n",
      "2022-06-03 01:13:49,017 - root - INFO - Problem info supplied. Directly proceeding to solve problem.\n",
      "2022-06-03 01:14:21,763 - root - INFO - Done generating routes\n",
      "Number of routes: 18\n",
      "2022-06-03 01:14:21,764 - root - INFO - Preparing scenario outputs...\n"
     ]
    },
    {
     "name": "stderr",
     "output_type": "stream",
     "text": [
      "/Users/ejwillemse/opt/anaconda3/envs/python_RD/lib/python3.8/site-packages/tables/array.py:241: DeprecationWarning:\n",
      "\n",
      "`np.object` is a deprecated alias for the builtin `object`. To silence this warning, use `object` by itself. Doing this will not modify any behavior and is safe. \n",
      "Deprecated in NumPy 1.20; for more details and guidance: https://numpy.org/devdocs/release/1.20.0-notes.html#deprecations\n",
      "\n"
     ]
    },
    {
     "name": "stdout",
     "output_type": "stream",
     "text": [
      "2022-06-03 01:14:30,604 - root - INFO - Done preparing output\n",
      "2022-06-03 01:14:30,605 - kedro.io.data_catalog - INFO - Saving data to `resource_summary_table_20220601_decentral` (PartitionedDataSet)...\n"
     ]
    },
    {
     "name": "stderr",
     "output_type": "stream",
     "text": [
      "/Users/ejwillemse/dev/waste_labs_dev/project_rdi_cpt/src/mcarptif/visualise/route_tables.py:146: FutureWarning:\n",
      "\n",
      "The frame.append method is deprecated and will be removed from pandas in a future version. Use pandas.concat instead.\n",
      "\n"
     ]
    },
    {
     "name": "stdout",
     "output_type": "stream",
     "text": [
      "\n",
      "\n",
      " RUNNING SCENARIO households_051\n",
      "2022-06-03 01:14:31,065 - kedro.io.data_catalog - INFO - Loading data from `waste_gen_scenarios_local_20220601` (PartitionedDataSet)...\n",
      "2022-06-03 01:14:31,085 - kedro.io.data_catalog - INFO - Loading data from `routing_parameters` (ExcelDataSet)...\n",
      "2022-06-03 01:14:31,241 - root - INFO - Preparing road network.......\n",
      "\n",
      "2022-06-03 01:14:31,296 - root - INFO - Load required arcs\n",
      "2022-06-03 01:14:31,298 - root - INFO - Merging with the network\n",
      "2022-06-03 01:14:31,323 - root - INFO - Set depot\n",
      "2022-06-03 01:14:31,326 - root - INFO - Set offload facilities\n",
      "2022-06-03 01:14:31,338 - root - INFO - Extend required arcs with inverse edge arcs\n",
      "2022-06-03 01:14:31,417 - root - INFO - Checking master list\n",
      "2022-06-03 01:14:31,423 - root - INFO - Load distance matrix: 8137 x 8137\n"
     ]
    },
    {
     "name": "stderr",
     "output_type": "stream",
     "text": [
      "/Users/ejwillemse/opt/anaconda3/envs/python_RD/lib/python3.8/site-packages/tables/array.py:241: DeprecationWarning:\n",
      "\n",
      "`np.object` is a deprecated alias for the builtin `object`. To silence this warning, use `object` by itself. Doing this will not modify any behavior and is safe. \n",
      "Deprecated in NumPy 1.20; for more details and guidance: https://numpy.org/devdocs/release/1.20.0-notes.html#deprecations\n",
      "\n",
      "/Users/ejwillemse/opt/anaconda3/envs/python_RD/lib/python3.8/site-packages/tables/array.py:241: DeprecationWarning:\n",
      "\n",
      "`np.object` is a deprecated alias for the builtin `object`. To silence this warning, use `object` by itself. Doing this will not modify any behavior and is safe. \n",
      "Deprecated in NumPy 1.20; for more details and guidance: https://numpy.org/devdocs/release/1.20.0-notes.html#deprecations\n",
      "\n",
      "/Users/ejwillemse/opt/anaconda3/envs/python_RD/lib/python3.8/site-packages/tables/leaf.py:544: VisibleDeprecationWarning:\n",
      "\n",
      "Creating an ndarray from ragged nested sequences (which is a list-or-tuple of lists-or-tuples-or ndarrays with different lengths or shapes) is deprecated. If you meant to do this, you must specify 'dtype=object' when creating the ndarray.\n",
      "\n"
     ]
    },
    {
     "name": "stdout",
     "output_type": "stream",
     "text": [
      "2022-06-03 01:14:38,432 - root - INFO - Creating nearest neighbour lists\n",
      "2022-06-03 01:14:41,865 - root - INFO - Calculate offloads: 8137 x 8137 x 2\n",
      "2022-06-03 01:14:50,470 - root - INFO - Done!\n",
      "2022-06-03 01:14:50,508 - root - INFO - Uploading scenario inputs...\n",
      "2022-06-03 01:14:50,529 - root - INFO - Setting service cost for network\n",
      "2022-06-03 01:14:50,539 - root - INFO - Setting demand for network\n",
      "2022-06-03 01:14:50,548 - root - INFO - Update travel durations.\n",
      "2022-06-03 01:14:50,824 - root - INFO - Update offload durations.\n",
      "2022-06-03 01:14:51,220 - root - INFO - Done\n",
      "2022-06-03 01:14:51,222 - root - INFO - Problem info supplied. Directly proceeding to solve problem.\n",
      "2022-06-03 01:15:23,810 - root - INFO - Done generating routes\n",
      "Number of routes: 18\n",
      "2022-06-03 01:15:23,812 - root - INFO - Preparing scenario outputs...\n"
     ]
    },
    {
     "name": "stderr",
     "output_type": "stream",
     "text": [
      "/Users/ejwillemse/opt/anaconda3/envs/python_RD/lib/python3.8/site-packages/tables/array.py:241: DeprecationWarning:\n",
      "\n",
      "`np.object` is a deprecated alias for the builtin `object`. To silence this warning, use `object` by itself. Doing this will not modify any behavior and is safe. \n",
      "Deprecated in NumPy 1.20; for more details and guidance: https://numpy.org/devdocs/release/1.20.0-notes.html#deprecations\n",
      "\n"
     ]
    },
    {
     "name": "stdout",
     "output_type": "stream",
     "text": [
      "2022-06-03 01:15:32,037 - root - INFO - Done preparing output\n",
      "2022-06-03 01:15:32,038 - kedro.io.data_catalog - INFO - Saving data to `resource_summary_table_20220601_decentral` (PartitionedDataSet)...\n"
     ]
    },
    {
     "name": "stderr",
     "output_type": "stream",
     "text": [
      "/Users/ejwillemse/dev/waste_labs_dev/project_rdi_cpt/src/mcarptif/visualise/route_tables.py:146: FutureWarning:\n",
      "\n",
      "The frame.append method is deprecated and will be removed from pandas in a future version. Use pandas.concat instead.\n",
      "\n"
     ]
    },
    {
     "name": "stdout",
     "output_type": "stream",
     "text": [
      "\n",
      "\n",
      " RUNNING SCENARIO households_052\n",
      "2022-06-03 01:15:32,493 - kedro.io.data_catalog - INFO - Loading data from `waste_gen_scenarios_local_20220601` (PartitionedDataSet)...\n",
      "2022-06-03 01:15:32,508 - kedro.io.data_catalog - INFO - Loading data from `routing_parameters` (ExcelDataSet)...\n",
      "2022-06-03 01:15:32,657 - root - INFO - Preparing road network.......\n",
      "\n",
      "2022-06-03 01:15:32,711 - root - INFO - Load required arcs\n",
      "2022-06-03 01:15:32,712 - root - INFO - Merging with the network\n",
      "2022-06-03 01:15:32,735 - root - INFO - Set depot\n",
      "2022-06-03 01:15:32,738 - root - INFO - Set offload facilities\n",
      "2022-06-03 01:15:32,748 - root - INFO - Extend required arcs with inverse edge arcs\n",
      "2022-06-03 01:15:32,829 - root - INFO - Checking master list\n",
      "2022-06-03 01:15:32,835 - root - INFO - Load distance matrix: 8117 x 8117\n"
     ]
    },
    {
     "name": "stderr",
     "output_type": "stream",
     "text": [
      "/Users/ejwillemse/opt/anaconda3/envs/python_RD/lib/python3.8/site-packages/tables/array.py:241: DeprecationWarning:\n",
      "\n",
      "`np.object` is a deprecated alias for the builtin `object`. To silence this warning, use `object` by itself. Doing this will not modify any behavior and is safe. \n",
      "Deprecated in NumPy 1.20; for more details and guidance: https://numpy.org/devdocs/release/1.20.0-notes.html#deprecations\n",
      "\n",
      "/Users/ejwillemse/opt/anaconda3/envs/python_RD/lib/python3.8/site-packages/tables/array.py:241: DeprecationWarning:\n",
      "\n",
      "`np.object` is a deprecated alias for the builtin `object`. To silence this warning, use `object` by itself. Doing this will not modify any behavior and is safe. \n",
      "Deprecated in NumPy 1.20; for more details and guidance: https://numpy.org/devdocs/release/1.20.0-notes.html#deprecations\n",
      "\n",
      "/Users/ejwillemse/opt/anaconda3/envs/python_RD/lib/python3.8/site-packages/tables/leaf.py:544: VisibleDeprecationWarning:\n",
      "\n",
      "Creating an ndarray from ragged nested sequences (which is a list-or-tuple of lists-or-tuples-or ndarrays with different lengths or shapes) is deprecated. If you meant to do this, you must specify 'dtype=object' when creating the ndarray.\n",
      "\n"
     ]
    },
    {
     "name": "stdout",
     "output_type": "stream",
     "text": [
      "2022-06-03 01:15:40,029 - root - INFO - Creating nearest neighbour lists\n",
      "2022-06-03 01:15:43,640 - root - INFO - Calculate offloads: 8117 x 8117 x 2\n",
      "2022-06-03 01:15:52,482 - root - INFO - Done!\n",
      "2022-06-03 01:15:52,554 - root - INFO - Uploading scenario inputs...\n",
      "2022-06-03 01:15:52,578 - root - INFO - Setting service cost for network\n",
      "2022-06-03 01:15:52,588 - root - INFO - Setting demand for network\n",
      "2022-06-03 01:15:52,597 - root - INFO - Update travel durations.\n",
      "2022-06-03 01:15:52,910 - root - INFO - Update offload durations.\n",
      "2022-06-03 01:15:53,306 - root - INFO - Done\n",
      "2022-06-03 01:15:53,307 - root - INFO - Problem info supplied. Directly proceeding to solve problem.\n",
      "2022-06-03 01:16:26,207 - root - INFO - Done generating routes\n",
      "Number of routes: 18\n",
      "2022-06-03 01:16:26,209 - root - INFO - Preparing scenario outputs...\n"
     ]
    },
    {
     "name": "stderr",
     "output_type": "stream",
     "text": [
      "/Users/ejwillemse/opt/anaconda3/envs/python_RD/lib/python3.8/site-packages/tables/array.py:241: DeprecationWarning:\n",
      "\n",
      "`np.object` is a deprecated alias for the builtin `object`. To silence this warning, use `object` by itself. Doing this will not modify any behavior and is safe. \n",
      "Deprecated in NumPy 1.20; for more details and guidance: https://numpy.org/devdocs/release/1.20.0-notes.html#deprecations\n",
      "\n"
     ]
    },
    {
     "name": "stdout",
     "output_type": "stream",
     "text": [
      "2022-06-03 01:16:34,693 - root - INFO - Done preparing output\n",
      "2022-06-03 01:16:34,694 - kedro.io.data_catalog - INFO - Saving data to `resource_summary_table_20220601_decentral` (PartitionedDataSet)...\n"
     ]
    },
    {
     "name": "stderr",
     "output_type": "stream",
     "text": [
      "/Users/ejwillemse/dev/waste_labs_dev/project_rdi_cpt/src/mcarptif/visualise/route_tables.py:146: FutureWarning:\n",
      "\n",
      "The frame.append method is deprecated and will be removed from pandas in a future version. Use pandas.concat instead.\n",
      "\n"
     ]
    },
    {
     "name": "stdout",
     "output_type": "stream",
     "text": [
      "\n",
      "\n",
      " RUNNING SCENARIO households_053\n",
      "2022-06-03 01:16:35,149 - kedro.io.data_catalog - INFO - Loading data from `waste_gen_scenarios_local_20220601` (PartitionedDataSet)...\n",
      "2022-06-03 01:16:35,166 - kedro.io.data_catalog - INFO - Loading data from `routing_parameters` (ExcelDataSet)...\n",
      "2022-06-03 01:16:35,319 - root - INFO - Preparing road network.......\n",
      "\n",
      "2022-06-03 01:16:35,373 - root - INFO - Load required arcs\n",
      "2022-06-03 01:16:35,375 - root - INFO - Merging with the network\n",
      "2022-06-03 01:16:35,400 - root - INFO - Set depot\n",
      "2022-06-03 01:16:35,403 - root - INFO - Set offload facilities\n",
      "2022-06-03 01:16:35,415 - root - INFO - Extend required arcs with inverse edge arcs\n",
      "2022-06-03 01:16:35,497 - root - INFO - Checking master list\n",
      "2022-06-03 01:16:35,503 - root - INFO - Load distance matrix: 8142 x 8142\n"
     ]
    },
    {
     "name": "stderr",
     "output_type": "stream",
     "text": [
      "/Users/ejwillemse/opt/anaconda3/envs/python_RD/lib/python3.8/site-packages/tables/array.py:241: DeprecationWarning:\n",
      "\n",
      "`np.object` is a deprecated alias for the builtin `object`. To silence this warning, use `object` by itself. Doing this will not modify any behavior and is safe. \n",
      "Deprecated in NumPy 1.20; for more details and guidance: https://numpy.org/devdocs/release/1.20.0-notes.html#deprecations\n",
      "\n",
      "/Users/ejwillemse/opt/anaconda3/envs/python_RD/lib/python3.8/site-packages/tables/array.py:241: DeprecationWarning:\n",
      "\n",
      "`np.object` is a deprecated alias for the builtin `object`. To silence this warning, use `object` by itself. Doing this will not modify any behavior and is safe. \n",
      "Deprecated in NumPy 1.20; for more details and guidance: https://numpy.org/devdocs/release/1.20.0-notes.html#deprecations\n",
      "\n",
      "/Users/ejwillemse/opt/anaconda3/envs/python_RD/lib/python3.8/site-packages/tables/leaf.py:544: VisibleDeprecationWarning:\n",
      "\n",
      "Creating an ndarray from ragged nested sequences (which is a list-or-tuple of lists-or-tuples-or ndarrays with different lengths or shapes) is deprecated. If you meant to do this, you must specify 'dtype=object' when creating the ndarray.\n",
      "\n"
     ]
    },
    {
     "name": "stdout",
     "output_type": "stream",
     "text": [
      "2022-06-03 01:16:42,113 - root - INFO - Creating nearest neighbour lists\n",
      "2022-06-03 01:16:45,651 - root - INFO - Calculate offloads: 8142 x 8142 x 2\n",
      "2022-06-03 01:16:55,357 - root - INFO - Done!\n",
      "2022-06-03 01:16:55,400 - root - INFO - Uploading scenario inputs...\n",
      "2022-06-03 01:16:55,422 - root - INFO - Setting service cost for network\n",
      "2022-06-03 01:16:55,434 - root - INFO - Setting demand for network\n",
      "2022-06-03 01:16:55,443 - root - INFO - Update travel durations.\n",
      "2022-06-03 01:16:55,731 - root - INFO - Update offload durations.\n",
      "2022-06-03 01:16:56,148 - root - INFO - Done\n",
      "2022-06-03 01:16:56,149 - root - INFO - Problem info supplied. Directly proceeding to solve problem.\n",
      "2022-06-03 01:17:30,707 - root - INFO - Done generating routes\n",
      "Number of routes: 18\n",
      "2022-06-03 01:17:30,708 - root - INFO - Preparing scenario outputs...\n"
     ]
    },
    {
     "name": "stderr",
     "output_type": "stream",
     "text": [
      "/Users/ejwillemse/opt/anaconda3/envs/python_RD/lib/python3.8/site-packages/tables/array.py:241: DeprecationWarning:\n",
      "\n",
      "`np.object` is a deprecated alias for the builtin `object`. To silence this warning, use `object` by itself. Doing this will not modify any behavior and is safe. \n",
      "Deprecated in NumPy 1.20; for more details and guidance: https://numpy.org/devdocs/release/1.20.0-notes.html#deprecations\n",
      "\n"
     ]
    },
    {
     "name": "stdout",
     "output_type": "stream",
     "text": [
      "2022-06-03 01:17:39,076 - root - INFO - Done preparing output\n",
      "2022-06-03 01:17:39,077 - kedro.io.data_catalog - INFO - Saving data to `resource_summary_table_20220601_decentral` (PartitionedDataSet)...\n"
     ]
    },
    {
     "name": "stderr",
     "output_type": "stream",
     "text": [
      "/Users/ejwillemse/dev/waste_labs_dev/project_rdi_cpt/src/mcarptif/visualise/route_tables.py:146: FutureWarning:\n",
      "\n",
      "The frame.append method is deprecated and will be removed from pandas in a future version. Use pandas.concat instead.\n",
      "\n"
     ]
    },
    {
     "name": "stdout",
     "output_type": "stream",
     "text": [
      "\n",
      "\n",
      " RUNNING SCENARIO households_054\n",
      "2022-06-03 01:17:39,525 - kedro.io.data_catalog - INFO - Loading data from `waste_gen_scenarios_local_20220601` (PartitionedDataSet)...\n",
      "2022-06-03 01:17:39,545 - kedro.io.data_catalog - INFO - Loading data from `routing_parameters` (ExcelDataSet)...\n",
      "2022-06-03 01:17:39,690 - root - INFO - Preparing road network.......\n",
      "\n",
      "2022-06-03 01:17:39,743 - root - INFO - Load required arcs\n",
      "2022-06-03 01:17:39,745 - root - INFO - Merging with the network\n",
      "2022-06-03 01:17:39,770 - root - INFO - Set depot\n",
      "2022-06-03 01:17:39,773 - root - INFO - Set offload facilities\n",
      "2022-06-03 01:17:39,784 - root - INFO - Extend required arcs with inverse edge arcs\n",
      "2022-06-03 01:17:39,865 - root - INFO - Checking master list\n",
      "2022-06-03 01:17:39,871 - root - INFO - Load distance matrix: 8130 x 8130\n"
     ]
    },
    {
     "name": "stderr",
     "output_type": "stream",
     "text": [
      "/Users/ejwillemse/opt/anaconda3/envs/python_RD/lib/python3.8/site-packages/tables/array.py:241: DeprecationWarning:\n",
      "\n",
      "`np.object` is a deprecated alias for the builtin `object`. To silence this warning, use `object` by itself. Doing this will not modify any behavior and is safe. \n",
      "Deprecated in NumPy 1.20; for more details and guidance: https://numpy.org/devdocs/release/1.20.0-notes.html#deprecations\n",
      "\n",
      "/Users/ejwillemse/opt/anaconda3/envs/python_RD/lib/python3.8/site-packages/tables/array.py:241: DeprecationWarning:\n",
      "\n",
      "`np.object` is a deprecated alias for the builtin `object`. To silence this warning, use `object` by itself. Doing this will not modify any behavior and is safe. \n",
      "Deprecated in NumPy 1.20; for more details and guidance: https://numpy.org/devdocs/release/1.20.0-notes.html#deprecations\n",
      "\n",
      "/Users/ejwillemse/opt/anaconda3/envs/python_RD/lib/python3.8/site-packages/tables/leaf.py:544: VisibleDeprecationWarning:\n",
      "\n",
      "Creating an ndarray from ragged nested sequences (which is a list-or-tuple of lists-or-tuples-or ndarrays with different lengths or shapes) is deprecated. If you meant to do this, you must specify 'dtype=object' when creating the ndarray.\n",
      "\n"
     ]
    },
    {
     "name": "stdout",
     "output_type": "stream",
     "text": [
      "2022-06-03 01:17:46,805 - root - INFO - Creating nearest neighbour lists\n",
      "2022-06-03 01:17:50,148 - root - INFO - Calculate offloads: 8130 x 8130 x 2\n",
      "2022-06-03 01:17:58,973 - root - INFO - Done!\n",
      "2022-06-03 01:17:59,013 - root - INFO - Uploading scenario inputs...\n",
      "2022-06-03 01:17:59,034 - root - INFO - Setting service cost for network\n",
      "2022-06-03 01:17:59,044 - root - INFO - Setting demand for network\n",
      "2022-06-03 01:17:59,053 - root - INFO - Update travel durations.\n",
      "2022-06-03 01:17:59,332 - root - INFO - Update offload durations.\n",
      "2022-06-03 01:17:59,724 - root - INFO - Done\n",
      "2022-06-03 01:17:59,725 - root - INFO - Problem info supplied. Directly proceeding to solve problem.\n",
      "2022-06-03 01:18:32,539 - root - INFO - Done generating routes\n",
      "Number of routes: 18\n",
      "2022-06-03 01:18:32,540 - root - INFO - Preparing scenario outputs...\n"
     ]
    },
    {
     "name": "stderr",
     "output_type": "stream",
     "text": [
      "/Users/ejwillemse/opt/anaconda3/envs/python_RD/lib/python3.8/site-packages/tables/array.py:241: DeprecationWarning:\n",
      "\n",
      "`np.object` is a deprecated alias for the builtin `object`. To silence this warning, use `object` by itself. Doing this will not modify any behavior and is safe. \n",
      "Deprecated in NumPy 1.20; for more details and guidance: https://numpy.org/devdocs/release/1.20.0-notes.html#deprecations\n",
      "\n"
     ]
    },
    {
     "name": "stdout",
     "output_type": "stream",
     "text": [
      "2022-06-03 01:18:40,821 - root - INFO - Done preparing output\n",
      "2022-06-03 01:18:40,822 - kedro.io.data_catalog - INFO - Saving data to `resource_summary_table_20220601_decentral` (PartitionedDataSet)...\n"
     ]
    },
    {
     "name": "stderr",
     "output_type": "stream",
     "text": [
      "/Users/ejwillemse/dev/waste_labs_dev/project_rdi_cpt/src/mcarptif/visualise/route_tables.py:146: FutureWarning:\n",
      "\n",
      "The frame.append method is deprecated and will be removed from pandas in a future version. Use pandas.concat instead.\n",
      "\n"
     ]
    },
    {
     "name": "stdout",
     "output_type": "stream",
     "text": [
      "\n",
      "\n",
      " RUNNING SCENARIO households_055\n",
      "2022-06-03 01:18:41,276 - kedro.io.data_catalog - INFO - Loading data from `waste_gen_scenarios_local_20220601` (PartitionedDataSet)...\n",
      "2022-06-03 01:18:41,293 - kedro.io.data_catalog - INFO - Loading data from `routing_parameters` (ExcelDataSet)...\n",
      "2022-06-03 01:18:41,452 - root - INFO - Preparing road network.......\n",
      "\n",
      "2022-06-03 01:18:41,505 - root - INFO - Load required arcs\n",
      "2022-06-03 01:18:41,506 - root - INFO - Merging with the network\n",
      "2022-06-03 01:18:41,530 - root - INFO - Set depot\n",
      "2022-06-03 01:18:41,534 - root - INFO - Set offload facilities\n",
      "2022-06-03 01:18:41,543 - root - INFO - Extend required arcs with inverse edge arcs\n",
      "2022-06-03 01:18:41,620 - root - INFO - Checking master list\n",
      "2022-06-03 01:18:41,626 - root - INFO - Load distance matrix: 8110 x 8110\n"
     ]
    },
    {
     "name": "stderr",
     "output_type": "stream",
     "text": [
      "/Users/ejwillemse/opt/anaconda3/envs/python_RD/lib/python3.8/site-packages/tables/array.py:241: DeprecationWarning:\n",
      "\n",
      "`np.object` is a deprecated alias for the builtin `object`. To silence this warning, use `object` by itself. Doing this will not modify any behavior and is safe. \n",
      "Deprecated in NumPy 1.20; for more details and guidance: https://numpy.org/devdocs/release/1.20.0-notes.html#deprecations\n",
      "\n",
      "/Users/ejwillemse/opt/anaconda3/envs/python_RD/lib/python3.8/site-packages/tables/array.py:241: DeprecationWarning:\n",
      "\n",
      "`np.object` is a deprecated alias for the builtin `object`. To silence this warning, use `object` by itself. Doing this will not modify any behavior and is safe. \n",
      "Deprecated in NumPy 1.20; for more details and guidance: https://numpy.org/devdocs/release/1.20.0-notes.html#deprecations\n",
      "\n",
      "/Users/ejwillemse/opt/anaconda3/envs/python_RD/lib/python3.8/site-packages/tables/leaf.py:544: VisibleDeprecationWarning:\n",
      "\n",
      "Creating an ndarray from ragged nested sequences (which is a list-or-tuple of lists-or-tuples-or ndarrays with different lengths or shapes) is deprecated. If you meant to do this, you must specify 'dtype=object' when creating the ndarray.\n",
      "\n"
     ]
    },
    {
     "name": "stdout",
     "output_type": "stream",
     "text": [
      "2022-06-03 01:18:48,484 - root - INFO - Creating nearest neighbour lists\n",
      "2022-06-03 01:18:52,088 - root - INFO - Calculate offloads: 8110 x 8110 x 2\n",
      "2022-06-03 01:19:02,388 - root - INFO - Done!\n",
      "2022-06-03 01:19:02,443 - root - INFO - Uploading scenario inputs...\n",
      "2022-06-03 01:19:02,479 - root - INFO - Setting service cost for network\n",
      "2022-06-03 01:19:02,490 - root - INFO - Setting demand for network\n",
      "2022-06-03 01:19:02,499 - root - INFO - Update travel durations.\n",
      "2022-06-03 01:19:02,774 - root - INFO - Update offload durations.\n",
      "2022-06-03 01:19:03,176 - root - INFO - Done\n",
      "2022-06-03 01:19:03,177 - root - INFO - Problem info supplied. Directly proceeding to solve problem.\n",
      "2022-06-03 01:19:35,590 - root - INFO - Done generating routes\n",
      "Number of routes: 18\n",
      "2022-06-03 01:19:35,592 - root - INFO - Preparing scenario outputs...\n"
     ]
    },
    {
     "name": "stderr",
     "output_type": "stream",
     "text": [
      "/Users/ejwillemse/opt/anaconda3/envs/python_RD/lib/python3.8/site-packages/tables/array.py:241: DeprecationWarning:\n",
      "\n",
      "`np.object` is a deprecated alias for the builtin `object`. To silence this warning, use `object` by itself. Doing this will not modify any behavior and is safe. \n",
      "Deprecated in NumPy 1.20; for more details and guidance: https://numpy.org/devdocs/release/1.20.0-notes.html#deprecations\n",
      "\n"
     ]
    },
    {
     "name": "stdout",
     "output_type": "stream",
     "text": [
      "2022-06-03 01:19:43,991 - root - INFO - Done preparing output\n",
      "2022-06-03 01:19:43,992 - kedro.io.data_catalog - INFO - Saving data to `resource_summary_table_20220601_decentral` (PartitionedDataSet)...\n"
     ]
    },
    {
     "name": "stderr",
     "output_type": "stream",
     "text": [
      "/Users/ejwillemse/dev/waste_labs_dev/project_rdi_cpt/src/mcarptif/visualise/route_tables.py:146: FutureWarning:\n",
      "\n",
      "The frame.append method is deprecated and will be removed from pandas in a future version. Use pandas.concat instead.\n",
      "\n"
     ]
    },
    {
     "name": "stdout",
     "output_type": "stream",
     "text": [
      "\n",
      "\n",
      " RUNNING SCENARIO households_056\n",
      "2022-06-03 01:19:44,457 - kedro.io.data_catalog - INFO - Loading data from `waste_gen_scenarios_local_20220601` (PartitionedDataSet)...\n",
      "2022-06-03 01:19:44,473 - kedro.io.data_catalog - INFO - Loading data from `routing_parameters` (ExcelDataSet)...\n",
      "2022-06-03 01:19:44,618 - root - INFO - Preparing road network.......\n",
      "\n",
      "2022-06-03 01:19:44,673 - root - INFO - Load required arcs\n",
      "2022-06-03 01:19:44,675 - root - INFO - Merging with the network\n",
      "2022-06-03 01:19:44,699 - root - INFO - Set depot\n",
      "2022-06-03 01:19:44,701 - root - INFO - Set offload facilities\n",
      "2022-06-03 01:19:44,712 - root - INFO - Extend required arcs with inverse edge arcs\n",
      "2022-06-03 01:19:44,794 - root - INFO - Checking master list\n",
      "2022-06-03 01:19:44,802 - root - INFO - Load distance matrix: 8140 x 8140\n"
     ]
    },
    {
     "name": "stderr",
     "output_type": "stream",
     "text": [
      "/Users/ejwillemse/opt/anaconda3/envs/python_RD/lib/python3.8/site-packages/tables/array.py:241: DeprecationWarning:\n",
      "\n",
      "`np.object` is a deprecated alias for the builtin `object`. To silence this warning, use `object` by itself. Doing this will not modify any behavior and is safe. \n",
      "Deprecated in NumPy 1.20; for more details and guidance: https://numpy.org/devdocs/release/1.20.0-notes.html#deprecations\n",
      "\n",
      "/Users/ejwillemse/opt/anaconda3/envs/python_RD/lib/python3.8/site-packages/tables/array.py:241: DeprecationWarning:\n",
      "\n",
      "`np.object` is a deprecated alias for the builtin `object`. To silence this warning, use `object` by itself. Doing this will not modify any behavior and is safe. \n",
      "Deprecated in NumPy 1.20; for more details and guidance: https://numpy.org/devdocs/release/1.20.0-notes.html#deprecations\n",
      "\n",
      "/Users/ejwillemse/opt/anaconda3/envs/python_RD/lib/python3.8/site-packages/tables/leaf.py:544: VisibleDeprecationWarning:\n",
      "\n",
      "Creating an ndarray from ragged nested sequences (which is a list-or-tuple of lists-or-tuples-or ndarrays with different lengths or shapes) is deprecated. If you meant to do this, you must specify 'dtype=object' when creating the ndarray.\n",
      "\n"
     ]
    },
    {
     "name": "stdout",
     "output_type": "stream",
     "text": [
      "2022-06-03 01:19:51,802 - root - INFO - Creating nearest neighbour lists\n",
      "2022-06-03 01:19:55,359 - root - INFO - Calculate offloads: 8140 x 8140 x 2\n",
      "2022-06-03 01:20:03,820 - root - INFO - Done!\n",
      "2022-06-03 01:20:03,861 - root - INFO - Uploading scenario inputs...\n",
      "2022-06-03 01:20:03,882 - root - INFO - Setting service cost for network\n",
      "2022-06-03 01:20:03,892 - root - INFO - Setting demand for network\n",
      "2022-06-03 01:20:03,902 - root - INFO - Update travel durations.\n",
      "2022-06-03 01:20:04,172 - root - INFO - Update offload durations.\n",
      "2022-06-03 01:20:04,577 - root - INFO - Done\n",
      "2022-06-03 01:20:04,578 - root - INFO - Problem info supplied. Directly proceeding to solve problem.\n",
      "2022-06-03 01:20:36,788 - root - INFO - Done generating routes\n",
      "Number of routes: 18\n",
      "2022-06-03 01:20:36,790 - root - INFO - Preparing scenario outputs...\n"
     ]
    },
    {
     "name": "stderr",
     "output_type": "stream",
     "text": [
      "/Users/ejwillemse/opt/anaconda3/envs/python_RD/lib/python3.8/site-packages/tables/array.py:241: DeprecationWarning:\n",
      "\n",
      "`np.object` is a deprecated alias for the builtin `object`. To silence this warning, use `object` by itself. Doing this will not modify any behavior and is safe. \n",
      "Deprecated in NumPy 1.20; for more details and guidance: https://numpy.org/devdocs/release/1.20.0-notes.html#deprecations\n",
      "\n"
     ]
    },
    {
     "name": "stdout",
     "output_type": "stream",
     "text": [
      "2022-06-03 01:20:45,158 - root - INFO - Done preparing output\n",
      "2022-06-03 01:20:45,159 - kedro.io.data_catalog - INFO - Saving data to `resource_summary_table_20220601_decentral` (PartitionedDataSet)...\n"
     ]
    },
    {
     "name": "stderr",
     "output_type": "stream",
     "text": [
      "/Users/ejwillemse/dev/waste_labs_dev/project_rdi_cpt/src/mcarptif/visualise/route_tables.py:146: FutureWarning:\n",
      "\n",
      "The frame.append method is deprecated and will be removed from pandas in a future version. Use pandas.concat instead.\n",
      "\n"
     ]
    },
    {
     "name": "stdout",
     "output_type": "stream",
     "text": [
      "\n",
      "\n",
      " RUNNING SCENARIO households_057\n",
      "2022-06-03 01:20:45,614 - kedro.io.data_catalog - INFO - Loading data from `waste_gen_scenarios_local_20220601` (PartitionedDataSet)...\n",
      "2022-06-03 01:20:45,630 - kedro.io.data_catalog - INFO - Loading data from `routing_parameters` (ExcelDataSet)...\n",
      "2022-06-03 01:20:45,782 - root - INFO - Preparing road network.......\n",
      "\n",
      "2022-06-03 01:20:45,835 - root - INFO - Load required arcs\n",
      "2022-06-03 01:20:45,837 - root - INFO - Merging with the network\n",
      "2022-06-03 01:20:45,860 - root - INFO - Set depot\n",
      "2022-06-03 01:20:45,864 - root - INFO - Set offload facilities\n",
      "2022-06-03 01:20:45,876 - root - INFO - Extend required arcs with inverse edge arcs\n",
      "2022-06-03 01:20:45,959 - root - INFO - Checking master list\n",
      "2022-06-03 01:20:45,966 - root - INFO - Load distance matrix: 8122 x 8122\n"
     ]
    },
    {
     "name": "stderr",
     "output_type": "stream",
     "text": [
      "/Users/ejwillemse/opt/anaconda3/envs/python_RD/lib/python3.8/site-packages/tables/array.py:241: DeprecationWarning:\n",
      "\n",
      "`np.object` is a deprecated alias for the builtin `object`. To silence this warning, use `object` by itself. Doing this will not modify any behavior and is safe. \n",
      "Deprecated in NumPy 1.20; for more details and guidance: https://numpy.org/devdocs/release/1.20.0-notes.html#deprecations\n",
      "\n",
      "/Users/ejwillemse/opt/anaconda3/envs/python_RD/lib/python3.8/site-packages/tables/array.py:241: DeprecationWarning:\n",
      "\n",
      "`np.object` is a deprecated alias for the builtin `object`. To silence this warning, use `object` by itself. Doing this will not modify any behavior and is safe. \n",
      "Deprecated in NumPy 1.20; for more details and guidance: https://numpy.org/devdocs/release/1.20.0-notes.html#deprecations\n",
      "\n",
      "/Users/ejwillemse/opt/anaconda3/envs/python_RD/lib/python3.8/site-packages/tables/leaf.py:544: VisibleDeprecationWarning:\n",
      "\n",
      "Creating an ndarray from ragged nested sequences (which is a list-or-tuple of lists-or-tuples-or ndarrays with different lengths or shapes) is deprecated. If you meant to do this, you must specify 'dtype=object' when creating the ndarray.\n",
      "\n"
     ]
    },
    {
     "name": "stdout",
     "output_type": "stream",
     "text": [
      "2022-06-03 01:20:52,378 - root - INFO - Creating nearest neighbour lists\n",
      "2022-06-03 01:20:55,714 - root - INFO - Calculate offloads: 8122 x 8122 x 2\n",
      "2022-06-03 01:21:04,033 - root - INFO - Done!\n",
      "2022-06-03 01:21:04,072 - root - INFO - Uploading scenario inputs...\n",
      "2022-06-03 01:21:04,093 - root - INFO - Setting service cost for network\n",
      "2022-06-03 01:21:04,103 - root - INFO - Setting demand for network\n",
      "2022-06-03 01:21:04,112 - root - INFO - Update travel durations.\n",
      "2022-06-03 01:21:04,383 - root - INFO - Update offload durations.\n",
      "2022-06-03 01:21:04,785 - root - INFO - Done\n",
      "2022-06-03 01:21:04,786 - root - INFO - Problem info supplied. Directly proceeding to solve problem.\n",
      "2022-06-03 01:21:37,813 - root - INFO - Done generating routes\n",
      "Number of routes: 18\n",
      "2022-06-03 01:21:37,815 - root - INFO - Preparing scenario outputs...\n"
     ]
    },
    {
     "name": "stderr",
     "output_type": "stream",
     "text": [
      "/Users/ejwillemse/opt/anaconda3/envs/python_RD/lib/python3.8/site-packages/tables/array.py:241: DeprecationWarning:\n",
      "\n",
      "`np.object` is a deprecated alias for the builtin `object`. To silence this warning, use `object` by itself. Doing this will not modify any behavior and is safe. \n",
      "Deprecated in NumPy 1.20; for more details and guidance: https://numpy.org/devdocs/release/1.20.0-notes.html#deprecations\n",
      "\n"
     ]
    },
    {
     "name": "stdout",
     "output_type": "stream",
     "text": [
      "2022-06-03 01:21:46,271 - root - INFO - Done preparing output\n",
      "2022-06-03 01:21:46,272 - kedro.io.data_catalog - INFO - Saving data to `resource_summary_table_20220601_decentral` (PartitionedDataSet)...\n"
     ]
    },
    {
     "name": "stderr",
     "output_type": "stream",
     "text": [
      "/Users/ejwillemse/dev/waste_labs_dev/project_rdi_cpt/src/mcarptif/visualise/route_tables.py:146: FutureWarning:\n",
      "\n",
      "The frame.append method is deprecated and will be removed from pandas in a future version. Use pandas.concat instead.\n",
      "\n"
     ]
    },
    {
     "name": "stdout",
     "output_type": "stream",
     "text": [
      "\n",
      "\n",
      " RUNNING SCENARIO households_058\n",
      "2022-06-03 01:21:46,730 - kedro.io.data_catalog - INFO - Loading data from `waste_gen_scenarios_local_20220601` (PartitionedDataSet)...\n",
      "2022-06-03 01:21:46,748 - kedro.io.data_catalog - INFO - Loading data from `routing_parameters` (ExcelDataSet)...\n",
      "2022-06-03 01:21:46,895 - root - INFO - Preparing road network.......\n",
      "\n",
      "2022-06-03 01:21:46,955 - root - INFO - Load required arcs\n",
      "2022-06-03 01:21:46,957 - root - INFO - Merging with the network\n",
      "2022-06-03 01:21:46,981 - root - INFO - Set depot\n",
      "2022-06-03 01:21:46,984 - root - INFO - Set offload facilities\n",
      "2022-06-03 01:21:46,993 - root - INFO - Extend required arcs with inverse edge arcs\n",
      "2022-06-03 01:21:47,070 - root - INFO - Checking master list\n",
      "2022-06-03 01:21:47,076 - root - INFO - Load distance matrix: 8118 x 8118\n"
     ]
    },
    {
     "name": "stderr",
     "output_type": "stream",
     "text": [
      "/Users/ejwillemse/opt/anaconda3/envs/python_RD/lib/python3.8/site-packages/tables/array.py:241: DeprecationWarning:\n",
      "\n",
      "`np.object` is a deprecated alias for the builtin `object`. To silence this warning, use `object` by itself. Doing this will not modify any behavior and is safe. \n",
      "Deprecated in NumPy 1.20; for more details and guidance: https://numpy.org/devdocs/release/1.20.0-notes.html#deprecations\n",
      "\n",
      "/Users/ejwillemse/opt/anaconda3/envs/python_RD/lib/python3.8/site-packages/tables/array.py:241: DeprecationWarning:\n",
      "\n",
      "`np.object` is a deprecated alias for the builtin `object`. To silence this warning, use `object` by itself. Doing this will not modify any behavior and is safe. \n",
      "Deprecated in NumPy 1.20; for more details and guidance: https://numpy.org/devdocs/release/1.20.0-notes.html#deprecations\n",
      "\n",
      "/Users/ejwillemse/opt/anaconda3/envs/python_RD/lib/python3.8/site-packages/tables/leaf.py:544: VisibleDeprecationWarning:\n",
      "\n",
      "Creating an ndarray from ragged nested sequences (which is a list-or-tuple of lists-or-tuples-or ndarrays with different lengths or shapes) is deprecated. If you meant to do this, you must specify 'dtype=object' when creating the ndarray.\n",
      "\n"
     ]
    },
    {
     "name": "stdout",
     "output_type": "stream",
     "text": [
      "2022-06-03 01:21:53,451 - root - INFO - Creating nearest neighbour lists\n",
      "2022-06-03 01:21:56,800 - root - INFO - Calculate offloads: 8118 x 8118 x 2\n",
      "2022-06-03 01:22:04,501 - root - INFO - Done!\n",
      "2022-06-03 01:22:04,541 - root - INFO - Uploading scenario inputs...\n",
      "2022-06-03 01:22:04,565 - root - INFO - Setting service cost for network\n",
      "2022-06-03 01:22:04,575 - root - INFO - Setting demand for network\n",
      "2022-06-03 01:22:04,585 - root - INFO - Update travel durations.\n",
      "2022-06-03 01:22:04,869 - root - INFO - Update offload durations.\n",
      "2022-06-03 01:22:05,271 - root - INFO - Done\n",
      "2022-06-03 01:22:05,273 - root - INFO - Problem info supplied. Directly proceeding to solve problem.\n",
      "2022-06-03 01:22:37,940 - root - INFO - Done generating routes\n",
      "Number of routes: 18\n",
      "2022-06-03 01:22:37,942 - root - INFO - Preparing scenario outputs...\n"
     ]
    },
    {
     "name": "stderr",
     "output_type": "stream",
     "text": [
      "/Users/ejwillemse/opt/anaconda3/envs/python_RD/lib/python3.8/site-packages/tables/array.py:241: DeprecationWarning:\n",
      "\n",
      "`np.object` is a deprecated alias for the builtin `object`. To silence this warning, use `object` by itself. Doing this will not modify any behavior and is safe. \n",
      "Deprecated in NumPy 1.20; for more details and guidance: https://numpy.org/devdocs/release/1.20.0-notes.html#deprecations\n",
      "\n"
     ]
    },
    {
     "name": "stdout",
     "output_type": "stream",
     "text": [
      "2022-06-03 01:22:45,913 - root - INFO - Done preparing output\n",
      "2022-06-03 01:22:45,914 - kedro.io.data_catalog - INFO - Saving data to `resource_summary_table_20220601_decentral` (PartitionedDataSet)...\n"
     ]
    },
    {
     "name": "stderr",
     "output_type": "stream",
     "text": [
      "/Users/ejwillemse/dev/waste_labs_dev/project_rdi_cpt/src/mcarptif/visualise/route_tables.py:146: FutureWarning:\n",
      "\n",
      "The frame.append method is deprecated and will be removed from pandas in a future version. Use pandas.concat instead.\n",
      "\n"
     ]
    },
    {
     "name": "stdout",
     "output_type": "stream",
     "text": [
      "\n",
      "\n",
      " RUNNING SCENARIO households_059\n",
      "2022-06-03 01:22:46,362 - kedro.io.data_catalog - INFO - Loading data from `waste_gen_scenarios_local_20220601` (PartitionedDataSet)...\n",
      "2022-06-03 01:22:46,379 - kedro.io.data_catalog - INFO - Loading data from `routing_parameters` (ExcelDataSet)...\n",
      "2022-06-03 01:22:46,534 - root - INFO - Preparing road network.......\n",
      "\n",
      "2022-06-03 01:22:46,591 - root - INFO - Load required arcs\n",
      "2022-06-03 01:22:46,592 - root - INFO - Merging with the network\n",
      "2022-06-03 01:22:46,615 - root - INFO - Set depot\n",
      "2022-06-03 01:22:46,618 - root - INFO - Set offload facilities\n",
      "2022-06-03 01:22:46,628 - root - INFO - Extend required arcs with inverse edge arcs\n",
      "2022-06-03 01:22:46,708 - root - INFO - Checking master list\n",
      "2022-06-03 01:22:46,715 - root - INFO - Load distance matrix: 8140 x 8140\n"
     ]
    },
    {
     "name": "stderr",
     "output_type": "stream",
     "text": [
      "/Users/ejwillemse/opt/anaconda3/envs/python_RD/lib/python3.8/site-packages/tables/array.py:241: DeprecationWarning:\n",
      "\n",
      "`np.object` is a deprecated alias for the builtin `object`. To silence this warning, use `object` by itself. Doing this will not modify any behavior and is safe. \n",
      "Deprecated in NumPy 1.20; for more details and guidance: https://numpy.org/devdocs/release/1.20.0-notes.html#deprecations\n",
      "\n",
      "/Users/ejwillemse/opt/anaconda3/envs/python_RD/lib/python3.8/site-packages/tables/array.py:241: DeprecationWarning:\n",
      "\n",
      "`np.object` is a deprecated alias for the builtin `object`. To silence this warning, use `object` by itself. Doing this will not modify any behavior and is safe. \n",
      "Deprecated in NumPy 1.20; for more details and guidance: https://numpy.org/devdocs/release/1.20.0-notes.html#deprecations\n",
      "\n",
      "/Users/ejwillemse/opt/anaconda3/envs/python_RD/lib/python3.8/site-packages/tables/leaf.py:544: VisibleDeprecationWarning:\n",
      "\n",
      "Creating an ndarray from ragged nested sequences (which is a list-or-tuple of lists-or-tuples-or ndarrays with different lengths or shapes) is deprecated. If you meant to do this, you must specify 'dtype=object' when creating the ndarray.\n",
      "\n"
     ]
    },
    {
     "name": "stdout",
     "output_type": "stream",
     "text": [
      "2022-06-03 01:22:52,980 - root - INFO - Creating nearest neighbour lists\n",
      "2022-06-03 01:22:56,327 - root - INFO - Calculate offloads: 8140 x 8140 x 2\n",
      "2022-06-03 01:23:05,079 - root - INFO - Done!\n",
      "2022-06-03 01:23:05,117 - root - INFO - Uploading scenario inputs...\n",
      "2022-06-03 01:23:05,139 - root - INFO - Setting service cost for network\n",
      "2022-06-03 01:23:05,149 - root - INFO - Setting demand for network\n",
      "2022-06-03 01:23:05,158 - root - INFO - Update travel durations.\n",
      "2022-06-03 01:23:05,434 - root - INFO - Update offload durations.\n",
      "2022-06-03 01:23:05,823 - root - INFO - Done\n",
      "2022-06-03 01:23:05,824 - root - INFO - Problem info supplied. Directly proceeding to solve problem.\n",
      "2022-06-03 01:23:38,832 - root - INFO - Done generating routes\n",
      "Number of routes: 18\n",
      "2022-06-03 01:23:38,833 - root - INFO - Preparing scenario outputs...\n"
     ]
    },
    {
     "name": "stderr",
     "output_type": "stream",
     "text": [
      "/Users/ejwillemse/opt/anaconda3/envs/python_RD/lib/python3.8/site-packages/tables/array.py:241: DeprecationWarning:\n",
      "\n",
      "`np.object` is a deprecated alias for the builtin `object`. To silence this warning, use `object` by itself. Doing this will not modify any behavior and is safe. \n",
      "Deprecated in NumPy 1.20; for more details and guidance: https://numpy.org/devdocs/release/1.20.0-notes.html#deprecations\n",
      "\n"
     ]
    },
    {
     "name": "stdout",
     "output_type": "stream",
     "text": [
      "2022-06-03 01:23:47,543 - root - INFO - Done preparing output\n",
      "2022-06-03 01:23:47,544 - kedro.io.data_catalog - INFO - Saving data to `resource_summary_table_20220601_decentral` (PartitionedDataSet)...\n"
     ]
    },
    {
     "name": "stderr",
     "output_type": "stream",
     "text": [
      "/Users/ejwillemse/dev/waste_labs_dev/project_rdi_cpt/src/mcarptif/visualise/route_tables.py:146: FutureWarning:\n",
      "\n",
      "The frame.append method is deprecated and will be removed from pandas in a future version. Use pandas.concat instead.\n",
      "\n"
     ]
    },
    {
     "name": "stdout",
     "output_type": "stream",
     "text": [
      "\n",
      "\n",
      " RUNNING SCENARIO households_060\n",
      "2022-06-03 01:23:47,994 - kedro.io.data_catalog - INFO - Loading data from `waste_gen_scenarios_local_20220601` (PartitionedDataSet)...\n",
      "2022-06-03 01:23:48,011 - kedro.io.data_catalog - INFO - Loading data from `routing_parameters` (ExcelDataSet)...\n",
      "2022-06-03 01:23:48,170 - root - INFO - Preparing road network.......\n",
      "\n",
      "2022-06-03 01:23:48,223 - root - INFO - Load required arcs\n",
      "2022-06-03 01:23:48,225 - root - INFO - Merging with the network\n",
      "2022-06-03 01:23:48,248 - root - INFO - Set depot\n",
      "2022-06-03 01:23:48,251 - root - INFO - Set offload facilities\n",
      "2022-06-03 01:23:48,261 - root - INFO - Extend required arcs with inverse edge arcs\n",
      "2022-06-03 01:23:48,339 - root - INFO - Checking master list\n",
      "2022-06-03 01:23:48,345 - root - INFO - Load distance matrix: 8156 x 8156\n"
     ]
    },
    {
     "name": "stderr",
     "output_type": "stream",
     "text": [
      "/Users/ejwillemse/opt/anaconda3/envs/python_RD/lib/python3.8/site-packages/tables/array.py:241: DeprecationWarning:\n",
      "\n",
      "`np.object` is a deprecated alias for the builtin `object`. To silence this warning, use `object` by itself. Doing this will not modify any behavior and is safe. \n",
      "Deprecated in NumPy 1.20; for more details and guidance: https://numpy.org/devdocs/release/1.20.0-notes.html#deprecations\n",
      "\n",
      "/Users/ejwillemse/opt/anaconda3/envs/python_RD/lib/python3.8/site-packages/tables/array.py:241: DeprecationWarning:\n",
      "\n",
      "`np.object` is a deprecated alias for the builtin `object`. To silence this warning, use `object` by itself. Doing this will not modify any behavior and is safe. \n",
      "Deprecated in NumPy 1.20; for more details and guidance: https://numpy.org/devdocs/release/1.20.0-notes.html#deprecations\n",
      "\n",
      "/Users/ejwillemse/opt/anaconda3/envs/python_RD/lib/python3.8/site-packages/tables/leaf.py:544: VisibleDeprecationWarning:\n",
      "\n",
      "Creating an ndarray from ragged nested sequences (which is a list-or-tuple of lists-or-tuples-or ndarrays with different lengths or shapes) is deprecated. If you meant to do this, you must specify 'dtype=object' when creating the ndarray.\n",
      "\n"
     ]
    },
    {
     "name": "stdout",
     "output_type": "stream",
     "text": [
      "2022-06-03 01:23:55,735 - root - INFO - Creating nearest neighbour lists\n",
      "2022-06-03 01:23:59,374 - root - INFO - Calculate offloads: 8156 x 8156 x 2\n",
      "2022-06-03 01:24:10,032 - root - INFO - Done!\n",
      "2022-06-03 01:24:10,627 - root - INFO - Uploading scenario inputs...\n",
      "2022-06-03 01:24:10,653 - root - INFO - Setting service cost for network\n",
      "2022-06-03 01:24:10,664 - root - INFO - Setting demand for network\n",
      "2022-06-03 01:24:10,675 - root - INFO - Update travel durations.\n",
      "2022-06-03 01:24:11,053 - root - INFO - Update offload durations.\n",
      "2022-06-03 01:24:11,445 - root - INFO - Done\n",
      "2022-06-03 01:24:11,446 - root - INFO - Problem info supplied. Directly proceeding to solve problem.\n",
      "2022-06-03 01:24:44,881 - root - INFO - Done generating routes\n",
      "Number of routes: 18\n",
      "2022-06-03 01:24:44,883 - root - INFO - Preparing scenario outputs...\n"
     ]
    },
    {
     "name": "stderr",
     "output_type": "stream",
     "text": [
      "/Users/ejwillemse/opt/anaconda3/envs/python_RD/lib/python3.8/site-packages/tables/array.py:241: DeprecationWarning:\n",
      "\n",
      "`np.object` is a deprecated alias for the builtin `object`. To silence this warning, use `object` by itself. Doing this will not modify any behavior and is safe. \n",
      "Deprecated in NumPy 1.20; for more details and guidance: https://numpy.org/devdocs/release/1.20.0-notes.html#deprecations\n",
      "\n"
     ]
    },
    {
     "name": "stdout",
     "output_type": "stream",
     "text": [
      "2022-06-03 01:24:54,986 - root - INFO - Done preparing output\n",
      "2022-06-03 01:24:54,987 - kedro.io.data_catalog - INFO - Saving data to `resource_summary_table_20220601_decentral` (PartitionedDataSet)...\n"
     ]
    },
    {
     "name": "stderr",
     "output_type": "stream",
     "text": [
      "/Users/ejwillemse/dev/waste_labs_dev/project_rdi_cpt/src/mcarptif/visualise/route_tables.py:146: FutureWarning:\n",
      "\n",
      "The frame.append method is deprecated and will be removed from pandas in a future version. Use pandas.concat instead.\n",
      "\n"
     ]
    },
    {
     "name": "stdout",
     "output_type": "stream",
     "text": [
      "\n",
      "\n",
      " RUNNING SCENARIO households_061\n",
      "2022-06-03 01:24:55,477 - kedro.io.data_catalog - INFO - Loading data from `waste_gen_scenarios_local_20220601` (PartitionedDataSet)...\n",
      "2022-06-03 01:24:55,495 - kedro.io.data_catalog - INFO - Loading data from `routing_parameters` (ExcelDataSet)...\n",
      "2022-06-03 01:24:55,674 - root - INFO - Preparing road network.......\n",
      "\n",
      "2022-06-03 01:24:55,737 - root - INFO - Load required arcs\n",
      "2022-06-03 01:24:55,739 - root - INFO - Merging with the network\n",
      "2022-06-03 01:24:55,767 - root - INFO - Set depot\n",
      "2022-06-03 01:24:55,770 - root - INFO - Set offload facilities\n",
      "2022-06-03 01:24:55,782 - root - INFO - Extend required arcs with inverse edge arcs\n",
      "2022-06-03 01:24:55,882 - root - INFO - Checking master list\n"
     ]
    },
    {
     "name": "stderr",
     "output_type": "stream",
     "text": [
      "/Users/ejwillemse/opt/anaconda3/envs/python_RD/lib/python3.8/site-packages/tables/array.py:241: DeprecationWarning:\n",
      "\n",
      "`np.object` is a deprecated alias for the builtin `object`. To silence this warning, use `object` by itself. Doing this will not modify any behavior and is safe. \n",
      "Deprecated in NumPy 1.20; for more details and guidance: https://numpy.org/devdocs/release/1.20.0-notes.html#deprecations\n",
      "\n"
     ]
    },
    {
     "name": "stdout",
     "output_type": "stream",
     "text": [
      "2022-06-03 01:24:55,890 - root - INFO - Load distance matrix: 8137 x 8137\n"
     ]
    },
    {
     "name": "stderr",
     "output_type": "stream",
     "text": [
      "/Users/ejwillemse/opt/anaconda3/envs/python_RD/lib/python3.8/site-packages/tables/array.py:241: DeprecationWarning:\n",
      "\n",
      "`np.object` is a deprecated alias for the builtin `object`. To silence this warning, use `object` by itself. Doing this will not modify any behavior and is safe. \n",
      "Deprecated in NumPy 1.20; for more details and guidance: https://numpy.org/devdocs/release/1.20.0-notes.html#deprecations\n",
      "\n",
      "/Users/ejwillemse/opt/anaconda3/envs/python_RD/lib/python3.8/site-packages/tables/leaf.py:544: VisibleDeprecationWarning:\n",
      "\n",
      "Creating an ndarray from ragged nested sequences (which is a list-or-tuple of lists-or-tuples-or ndarrays with different lengths or shapes) is deprecated. If you meant to do this, you must specify 'dtype=object' when creating the ndarray.\n",
      "\n"
     ]
    },
    {
     "name": "stdout",
     "output_type": "stream",
     "text": [
      "2022-06-03 01:25:03,377 - root - INFO - Creating nearest neighbour lists\n",
      "2022-06-03 01:25:06,976 - root - INFO - Calculate offloads: 8137 x 8137 x 2\n",
      "2022-06-03 01:25:15,934 - root - INFO - Done!\n",
      "2022-06-03 01:25:16,006 - root - INFO - Uploading scenario inputs...\n",
      "2022-06-03 01:25:16,032 - root - INFO - Setting service cost for network\n",
      "2022-06-03 01:25:16,042 - root - INFO - Setting demand for network\n",
      "2022-06-03 01:25:16,056 - root - INFO - Update travel durations.\n",
      "2022-06-03 01:25:16,357 - root - INFO - Update offload durations.\n",
      "2022-06-03 01:25:16,787 - root - INFO - Done\n",
      "2022-06-03 01:25:16,788 - root - INFO - Problem info supplied. Directly proceeding to solve problem.\n",
      "2022-06-03 01:25:52,543 - root - INFO - Done generating routes\n",
      "Number of routes: 18\n",
      "2022-06-03 01:25:52,545 - root - INFO - Preparing scenario outputs...\n"
     ]
    },
    {
     "name": "stderr",
     "output_type": "stream",
     "text": [
      "/Users/ejwillemse/opt/anaconda3/envs/python_RD/lib/python3.8/site-packages/tables/array.py:241: DeprecationWarning:\n",
      "\n",
      "`np.object` is a deprecated alias for the builtin `object`. To silence this warning, use `object` by itself. Doing this will not modify any behavior and is safe. \n",
      "Deprecated in NumPy 1.20; for more details and guidance: https://numpy.org/devdocs/release/1.20.0-notes.html#deprecations\n",
      "\n"
     ]
    },
    {
     "name": "stdout",
     "output_type": "stream",
     "text": [
      "2022-06-03 01:26:02,475 - root - INFO - Done preparing output\n",
      "2022-06-03 01:26:02,477 - kedro.io.data_catalog - INFO - Saving data to `resource_summary_table_20220601_decentral` (PartitionedDataSet)...\n"
     ]
    },
    {
     "name": "stderr",
     "output_type": "stream",
     "text": [
      "/Users/ejwillemse/dev/waste_labs_dev/project_rdi_cpt/src/mcarptif/visualise/route_tables.py:146: FutureWarning:\n",
      "\n",
      "The frame.append method is deprecated and will be removed from pandas in a future version. Use pandas.concat instead.\n",
      "\n"
     ]
    },
    {
     "name": "stdout",
     "output_type": "stream",
     "text": [
      "\n",
      "\n",
      " RUNNING SCENARIO households_062\n",
      "2022-06-03 01:26:02,989 - kedro.io.data_catalog - INFO - Loading data from `waste_gen_scenarios_local_20220601` (PartitionedDataSet)...\n",
      "2022-06-03 01:26:03,008 - kedro.io.data_catalog - INFO - Loading data from `routing_parameters` (ExcelDataSet)...\n",
      "2022-06-03 01:26:03,199 - root - INFO - Preparing road network.......\n",
      "\n",
      "2022-06-03 01:26:03,267 - root - INFO - Load required arcs\n",
      "2022-06-03 01:26:03,269 - root - INFO - Merging with the network\n",
      "2022-06-03 01:26:03,295 - root - INFO - Set depot\n",
      "2022-06-03 01:26:03,299 - root - INFO - Set offload facilities\n",
      "2022-06-03 01:26:03,311 - root - INFO - Extend required arcs with inverse edge arcs\n",
      "2022-06-03 01:26:03,411 - root - INFO - Checking master list\n"
     ]
    },
    {
     "name": "stderr",
     "output_type": "stream",
     "text": [
      "/Users/ejwillemse/opt/anaconda3/envs/python_RD/lib/python3.8/site-packages/tables/array.py:241: DeprecationWarning:\n",
      "\n",
      "`np.object` is a deprecated alias for the builtin `object`. To silence this warning, use `object` by itself. Doing this will not modify any behavior and is safe. \n",
      "Deprecated in NumPy 1.20; for more details and guidance: https://numpy.org/devdocs/release/1.20.0-notes.html#deprecations\n",
      "\n"
     ]
    },
    {
     "name": "stdout",
     "output_type": "stream",
     "text": [
      "2022-06-03 01:26:03,419 - root - INFO - Load distance matrix: 8154 x 8154\n"
     ]
    },
    {
     "name": "stderr",
     "output_type": "stream",
     "text": [
      "/Users/ejwillemse/opt/anaconda3/envs/python_RD/lib/python3.8/site-packages/tables/array.py:241: DeprecationWarning:\n",
      "\n",
      "`np.object` is a deprecated alias for the builtin `object`. To silence this warning, use `object` by itself. Doing this will not modify any behavior and is safe. \n",
      "Deprecated in NumPy 1.20; for more details and guidance: https://numpy.org/devdocs/release/1.20.0-notes.html#deprecations\n",
      "\n",
      "/Users/ejwillemse/opt/anaconda3/envs/python_RD/lib/python3.8/site-packages/tables/leaf.py:544: VisibleDeprecationWarning:\n",
      "\n",
      "Creating an ndarray from ragged nested sequences (which is a list-or-tuple of lists-or-tuples-or ndarrays with different lengths or shapes) is deprecated. If you meant to do this, you must specify 'dtype=object' when creating the ndarray.\n",
      "\n"
     ]
    },
    {
     "name": "stdout",
     "output_type": "stream",
     "text": [
      "2022-06-03 01:26:10,348 - root - INFO - Creating nearest neighbour lists\n",
      "2022-06-03 01:26:13,955 - root - INFO - Calculate offloads: 8154 x 8154 x 2\n",
      "2022-06-03 01:26:23,914 - root - INFO - Done!\n",
      "2022-06-03 01:26:24,170 - root - INFO - Uploading scenario inputs...\n",
      "2022-06-03 01:26:24,194 - root - INFO - Setting service cost for network\n",
      "2022-06-03 01:26:24,205 - root - INFO - Setting demand for network\n",
      "2022-06-03 01:26:24,218 - root - INFO - Update travel durations.\n",
      "2022-06-03 01:26:24,565 - root - INFO - Update offload durations.\n",
      "2022-06-03 01:26:25,010 - root - INFO - Done\n",
      "2022-06-03 01:26:25,011 - root - INFO - Problem info supplied. Directly proceeding to solve problem.\n",
      "2022-06-03 01:27:00,268 - root - INFO - Done generating routes\n",
      "Number of routes: 18\n",
      "2022-06-03 01:27:00,269 - root - INFO - Preparing scenario outputs...\n"
     ]
    },
    {
     "name": "stderr",
     "output_type": "stream",
     "text": [
      "/Users/ejwillemse/opt/anaconda3/envs/python_RD/lib/python3.8/site-packages/tables/array.py:241: DeprecationWarning:\n",
      "\n",
      "`np.object` is a deprecated alias for the builtin `object`. To silence this warning, use `object` by itself. Doing this will not modify any behavior and is safe. \n",
      "Deprecated in NumPy 1.20; for more details and guidance: https://numpy.org/devdocs/release/1.20.0-notes.html#deprecations\n",
      "\n"
     ]
    },
    {
     "name": "stdout",
     "output_type": "stream",
     "text": [
      "2022-06-03 01:27:10,439 - root - INFO - Done preparing output\n",
      "2022-06-03 01:27:10,440 - kedro.io.data_catalog - INFO - Saving data to `resource_summary_table_20220601_decentral` (PartitionedDataSet)...\n"
     ]
    },
    {
     "name": "stderr",
     "output_type": "stream",
     "text": [
      "/Users/ejwillemse/dev/waste_labs_dev/project_rdi_cpt/src/mcarptif/visualise/route_tables.py:146: FutureWarning:\n",
      "\n",
      "The frame.append method is deprecated and will be removed from pandas in a future version. Use pandas.concat instead.\n",
      "\n"
     ]
    },
    {
     "name": "stdout",
     "output_type": "stream",
     "text": [
      "\n",
      "\n",
      " RUNNING SCENARIO households_063\n",
      "2022-06-03 01:27:10,935 - kedro.io.data_catalog - INFO - Loading data from `waste_gen_scenarios_local_20220601` (PartitionedDataSet)...\n",
      "2022-06-03 01:27:10,954 - kedro.io.data_catalog - INFO - Loading data from `routing_parameters` (ExcelDataSet)...\n",
      "2022-06-03 01:27:11,129 - root - INFO - Preparing road network.......\n",
      "\n",
      "2022-06-03 01:27:11,193 - root - INFO - Load required arcs\n",
      "2022-06-03 01:27:11,195 - root - INFO - Merging with the network\n",
      "2022-06-03 01:27:11,221 - root - INFO - Set depot\n",
      "2022-06-03 01:27:11,225 - root - INFO - Set offload facilities\n",
      "2022-06-03 01:27:11,235 - root - INFO - Extend required arcs with inverse edge arcs\n",
      "2022-06-03 01:27:11,338 - root - INFO - Checking master list\n"
     ]
    },
    {
     "name": "stderr",
     "output_type": "stream",
     "text": [
      "/Users/ejwillemse/opt/anaconda3/envs/python_RD/lib/python3.8/site-packages/tables/array.py:241: DeprecationWarning:\n",
      "\n",
      "`np.object` is a deprecated alias for the builtin `object`. To silence this warning, use `object` by itself. Doing this will not modify any behavior and is safe. \n",
      "Deprecated in NumPy 1.20; for more details and guidance: https://numpy.org/devdocs/release/1.20.0-notes.html#deprecations\n",
      "\n"
     ]
    },
    {
     "name": "stdout",
     "output_type": "stream",
     "text": [
      "2022-06-03 01:27:11,345 - root - INFO - Load distance matrix: 8132 x 8132\n"
     ]
    },
    {
     "name": "stderr",
     "output_type": "stream",
     "text": [
      "/Users/ejwillemse/opt/anaconda3/envs/python_RD/lib/python3.8/site-packages/tables/array.py:241: DeprecationWarning:\n",
      "\n",
      "`np.object` is a deprecated alias for the builtin `object`. To silence this warning, use `object` by itself. Doing this will not modify any behavior and is safe. \n",
      "Deprecated in NumPy 1.20; for more details and guidance: https://numpy.org/devdocs/release/1.20.0-notes.html#deprecations\n",
      "\n",
      "/Users/ejwillemse/opt/anaconda3/envs/python_RD/lib/python3.8/site-packages/tables/leaf.py:544: VisibleDeprecationWarning:\n",
      "\n",
      "Creating an ndarray from ragged nested sequences (which is a list-or-tuple of lists-or-tuples-or ndarrays with different lengths or shapes) is deprecated. If you meant to do this, you must specify 'dtype=object' when creating the ndarray.\n",
      "\n"
     ]
    },
    {
     "name": "stdout",
     "output_type": "stream",
     "text": [
      "2022-06-03 01:27:19,166 - root - INFO - Creating nearest neighbour lists\n",
      "2022-06-03 01:27:22,748 - root - INFO - Calculate offloads: 8132 x 8132 x 2\n",
      "2022-06-03 01:27:33,298 - root - INFO - Done!\n",
      "2022-06-03 01:27:33,378 - root - INFO - Uploading scenario inputs...\n",
      "2022-06-03 01:27:33,405 - root - INFO - Setting service cost for network\n",
      "2022-06-03 01:27:33,417 - root - INFO - Setting demand for network\n",
      "2022-06-03 01:27:33,428 - root - INFO - Update travel durations.\n",
      "2022-06-03 01:27:33,729 - root - INFO - Update offload durations.\n",
      "2022-06-03 01:27:34,163 - root - INFO - Done\n",
      "2022-06-03 01:27:34,164 - root - INFO - Problem info supplied. Directly proceeding to solve problem.\n",
      "2022-06-03 01:28:10,454 - root - INFO - Done generating routes\n",
      "Number of routes: 18\n",
      "2022-06-03 01:28:10,456 - root - INFO - Preparing scenario outputs...\n"
     ]
    },
    {
     "name": "stderr",
     "output_type": "stream",
     "text": [
      "/Users/ejwillemse/opt/anaconda3/envs/python_RD/lib/python3.8/site-packages/tables/array.py:241: DeprecationWarning:\n",
      "\n",
      "`np.object` is a deprecated alias for the builtin `object`. To silence this warning, use `object` by itself. Doing this will not modify any behavior and is safe. \n",
      "Deprecated in NumPy 1.20; for more details and guidance: https://numpy.org/devdocs/release/1.20.0-notes.html#deprecations\n",
      "\n"
     ]
    },
    {
     "name": "stdout",
     "output_type": "stream",
     "text": [
      "2022-06-03 01:28:20,479 - root - INFO - Done preparing output\n",
      "2022-06-03 01:28:20,480 - kedro.io.data_catalog - INFO - Saving data to `resource_summary_table_20220601_decentral` (PartitionedDataSet)...\n"
     ]
    },
    {
     "name": "stderr",
     "output_type": "stream",
     "text": [
      "/Users/ejwillemse/dev/waste_labs_dev/project_rdi_cpt/src/mcarptif/visualise/route_tables.py:146: FutureWarning:\n",
      "\n",
      "The frame.append method is deprecated and will be removed from pandas in a future version. Use pandas.concat instead.\n",
      "\n"
     ]
    },
    {
     "name": "stdout",
     "output_type": "stream",
     "text": [
      "\n",
      "\n",
      " RUNNING SCENARIO households_064\n",
      "2022-06-03 01:28:20,975 - kedro.io.data_catalog - INFO - Loading data from `waste_gen_scenarios_local_20220601` (PartitionedDataSet)...\n",
      "2022-06-03 01:28:20,993 - kedro.io.data_catalog - INFO - Loading data from `routing_parameters` (ExcelDataSet)...\n",
      "2022-06-03 01:28:21,160 - root - INFO - Preparing road network.......\n",
      "\n",
      "2022-06-03 01:28:21,226 - root - INFO - Load required arcs\n",
      "2022-06-03 01:28:21,228 - root - INFO - Merging with the network\n",
      "2022-06-03 01:28:21,256 - root - INFO - Set depot\n",
      "2022-06-03 01:28:21,261 - root - INFO - Set offload facilities\n",
      "2022-06-03 01:28:21,275 - root - INFO - Extend required arcs with inverse edge arcs\n"
     ]
    },
    {
     "name": "stderr",
     "output_type": "stream",
     "text": [
      "/Users/ejwillemse/opt/anaconda3/envs/python_RD/lib/python3.8/site-packages/tables/array.py:241: DeprecationWarning:\n",
      "\n",
      "`np.object` is a deprecated alias for the builtin `object`. To silence this warning, use `object` by itself. Doing this will not modify any behavior and is safe. \n",
      "Deprecated in NumPy 1.20; for more details and guidance: https://numpy.org/devdocs/release/1.20.0-notes.html#deprecations\n",
      "\n"
     ]
    },
    {
     "name": "stdout",
     "output_type": "stream",
     "text": [
      "2022-06-03 01:28:21,373 - root - INFO - Checking master list\n",
      "2022-06-03 01:28:21,380 - root - INFO - Load distance matrix: 8128 x 8128\n"
     ]
    },
    {
     "name": "stderr",
     "output_type": "stream",
     "text": [
      "/Users/ejwillemse/opt/anaconda3/envs/python_RD/lib/python3.8/site-packages/tables/array.py:241: DeprecationWarning:\n",
      "\n",
      "`np.object` is a deprecated alias for the builtin `object`. To silence this warning, use `object` by itself. Doing this will not modify any behavior and is safe. \n",
      "Deprecated in NumPy 1.20; for more details and guidance: https://numpy.org/devdocs/release/1.20.0-notes.html#deprecations\n",
      "\n",
      "/Users/ejwillemse/opt/anaconda3/envs/python_RD/lib/python3.8/site-packages/tables/leaf.py:544: VisibleDeprecationWarning:\n",
      "\n",
      "Creating an ndarray from ragged nested sequences (which is a list-or-tuple of lists-or-tuples-or ndarrays with different lengths or shapes) is deprecated. If you meant to do this, you must specify 'dtype=object' when creating the ndarray.\n",
      "\n"
     ]
    },
    {
     "name": "stdout",
     "output_type": "stream",
     "text": [
      "2022-06-03 01:28:28,446 - root - INFO - Creating nearest neighbour lists\n",
      "2022-06-03 01:28:31,991 - root - INFO - Calculate offloads: 8128 x 8128 x 2\n",
      "2022-06-03 01:28:42,567 - root - INFO - Done!\n",
      "2022-06-03 01:28:42,610 - root - INFO - Uploading scenario inputs...\n",
      "2022-06-03 01:28:42,635 - root - INFO - Setting service cost for network\n",
      "2022-06-03 01:28:42,646 - root - INFO - Setting demand for network\n",
      "2022-06-03 01:28:42,657 - root - INFO - Update travel durations.\n",
      "2022-06-03 01:28:42,954 - root - INFO - Update offload durations.\n",
      "2022-06-03 01:28:43,383 - root - INFO - Done\n",
      "2022-06-03 01:28:43,384 - root - INFO - Problem info supplied. Directly proceeding to solve problem.\n",
      "2022-06-03 01:29:18,367 - root - INFO - Done generating routes\n",
      "Number of routes: 18\n",
      "2022-06-03 01:29:18,368 - root - INFO - Preparing scenario outputs...\n"
     ]
    },
    {
     "name": "stderr",
     "output_type": "stream",
     "text": [
      "/Users/ejwillemse/opt/anaconda3/envs/python_RD/lib/python3.8/site-packages/tables/array.py:241: DeprecationWarning:\n",
      "\n",
      "`np.object` is a deprecated alias for the builtin `object`. To silence this warning, use `object` by itself. Doing this will not modify any behavior and is safe. \n",
      "Deprecated in NumPy 1.20; for more details and guidance: https://numpy.org/devdocs/release/1.20.0-notes.html#deprecations\n",
      "\n"
     ]
    },
    {
     "name": "stdout",
     "output_type": "stream",
     "text": [
      "2022-06-03 01:29:28,790 - root - INFO - Done preparing output\n",
      "2022-06-03 01:29:28,791 - kedro.io.data_catalog - INFO - Saving data to `resource_summary_table_20220601_decentral` (PartitionedDataSet)...\n"
     ]
    },
    {
     "name": "stderr",
     "output_type": "stream",
     "text": [
      "/Users/ejwillemse/dev/waste_labs_dev/project_rdi_cpt/src/mcarptif/visualise/route_tables.py:146: FutureWarning:\n",
      "\n",
      "The frame.append method is deprecated and will be removed from pandas in a future version. Use pandas.concat instead.\n",
      "\n"
     ]
    },
    {
     "name": "stdout",
     "output_type": "stream",
     "text": [
      "\n",
      "\n",
      " RUNNING SCENARIO households_065\n",
      "2022-06-03 01:29:29,297 - kedro.io.data_catalog - INFO - Loading data from `waste_gen_scenarios_local_20220601` (PartitionedDataSet)...\n",
      "2022-06-03 01:29:29,316 - kedro.io.data_catalog - INFO - Loading data from `routing_parameters` (ExcelDataSet)...\n",
      "2022-06-03 01:29:29,494 - root - INFO - Preparing road network.......\n",
      "\n",
      "2022-06-03 01:29:29,556 - root - INFO - Load required arcs\n",
      "2022-06-03 01:29:29,558 - root - INFO - Merging with the network\n",
      "2022-06-03 01:29:29,585 - root - INFO - Set depot\n",
      "2022-06-03 01:29:29,588 - root - INFO - Set offload facilities\n",
      "2022-06-03 01:29:29,599 - root - INFO - Extend required arcs with inverse edge arcs\n",
      "2022-06-03 01:29:29,697 - root - INFO - Checking master list\n",
      "2022-06-03 01:29:29,704 - root - INFO - Load distance matrix: 8141 x 8141\n"
     ]
    },
    {
     "name": "stderr",
     "output_type": "stream",
     "text": [
      "/Users/ejwillemse/opt/anaconda3/envs/python_RD/lib/python3.8/site-packages/tables/array.py:241: DeprecationWarning:\n",
      "\n",
      "`np.object` is a deprecated alias for the builtin `object`. To silence this warning, use `object` by itself. Doing this will not modify any behavior and is safe. \n",
      "Deprecated in NumPy 1.20; for more details and guidance: https://numpy.org/devdocs/release/1.20.0-notes.html#deprecations\n",
      "\n",
      "/Users/ejwillemse/opt/anaconda3/envs/python_RD/lib/python3.8/site-packages/tables/array.py:241: DeprecationWarning:\n",
      "\n",
      "`np.object` is a deprecated alias for the builtin `object`. To silence this warning, use `object` by itself. Doing this will not modify any behavior and is safe. \n",
      "Deprecated in NumPy 1.20; for more details and guidance: https://numpy.org/devdocs/release/1.20.0-notes.html#deprecations\n",
      "\n",
      "/Users/ejwillemse/opt/anaconda3/envs/python_RD/lib/python3.8/site-packages/tables/leaf.py:544: VisibleDeprecationWarning:\n",
      "\n",
      "Creating an ndarray from ragged nested sequences (which is a list-or-tuple of lists-or-tuples-or ndarrays with different lengths or shapes) is deprecated. If you meant to do this, you must specify 'dtype=object' when creating the ndarray.\n",
      "\n"
     ]
    },
    {
     "name": "stdout",
     "output_type": "stream",
     "text": [
      "2022-06-03 01:29:36,919 - root - INFO - Creating nearest neighbour lists\n",
      "2022-06-03 01:29:40,604 - root - INFO - Calculate offloads: 8141 x 8141 x 2\n",
      "2022-06-03 01:29:50,874 - root - INFO - Done!\n",
      "2022-06-03 01:29:50,920 - root - INFO - Uploading scenario inputs...\n",
      "2022-06-03 01:29:50,947 - root - INFO - Setting service cost for network\n",
      "2022-06-03 01:29:50,960 - root - INFO - Setting demand for network\n",
      "2022-06-03 01:29:50,974 - root - INFO - Update travel durations.\n",
      "2022-06-03 01:29:51,294 - root - INFO - Update offload durations.\n",
      "2022-06-03 01:29:51,730 - root - INFO - Done\n",
      "2022-06-03 01:29:51,731 - root - INFO - Problem info supplied. Directly proceeding to solve problem.\n",
      "2022-06-03 01:30:28,526 - root - INFO - Done generating routes\n",
      "Number of routes: 18\n",
      "2022-06-03 01:30:28,528 - root - INFO - Preparing scenario outputs...\n"
     ]
    },
    {
     "name": "stderr",
     "output_type": "stream",
     "text": [
      "/Users/ejwillemse/opt/anaconda3/envs/python_RD/lib/python3.8/site-packages/tables/array.py:241: DeprecationWarning:\n",
      "\n",
      "`np.object` is a deprecated alias for the builtin `object`. To silence this warning, use `object` by itself. Doing this will not modify any behavior and is safe. \n",
      "Deprecated in NumPy 1.20; for more details and guidance: https://numpy.org/devdocs/release/1.20.0-notes.html#deprecations\n",
      "\n"
     ]
    },
    {
     "name": "stdout",
     "output_type": "stream",
     "text": [
      "2022-06-03 01:30:38,362 - root - INFO - Done preparing output\n",
      "2022-06-03 01:30:38,363 - kedro.io.data_catalog - INFO - Saving data to `resource_summary_table_20220601_decentral` (PartitionedDataSet)...\n"
     ]
    },
    {
     "name": "stderr",
     "output_type": "stream",
     "text": [
      "/Users/ejwillemse/dev/waste_labs_dev/project_rdi_cpt/src/mcarptif/visualise/route_tables.py:146: FutureWarning:\n",
      "\n",
      "The frame.append method is deprecated and will be removed from pandas in a future version. Use pandas.concat instead.\n",
      "\n"
     ]
    },
    {
     "name": "stdout",
     "output_type": "stream",
     "text": [
      "\n",
      "\n",
      " RUNNING SCENARIO households_066\n",
      "2022-06-03 01:30:38,848 - kedro.io.data_catalog - INFO - Loading data from `waste_gen_scenarios_local_20220601` (PartitionedDataSet)...\n",
      "2022-06-03 01:30:38,867 - kedro.io.data_catalog - INFO - Loading data from `routing_parameters` (ExcelDataSet)...\n",
      "2022-06-03 01:30:39,044 - root - INFO - Preparing road network.......\n",
      "\n",
      "2022-06-03 01:30:39,108 - root - INFO - Load required arcs\n",
      "2022-06-03 01:30:39,110 - root - INFO - Merging with the network\n",
      "2022-06-03 01:30:39,138 - root - INFO - Set depot\n",
      "2022-06-03 01:30:39,142 - root - INFO - Set offload facilities\n",
      "2022-06-03 01:30:39,155 - root - INFO - Extend required arcs with inverse edge arcs\n",
      "2022-06-03 01:30:39,252 - root - INFO - Checking master list\n"
     ]
    },
    {
     "name": "stderr",
     "output_type": "stream",
     "text": [
      "/Users/ejwillemse/opt/anaconda3/envs/python_RD/lib/python3.8/site-packages/tables/array.py:241: DeprecationWarning:\n",
      "\n",
      "`np.object` is a deprecated alias for the builtin `object`. To silence this warning, use `object` by itself. Doing this will not modify any behavior and is safe. \n",
      "Deprecated in NumPy 1.20; for more details and guidance: https://numpy.org/devdocs/release/1.20.0-notes.html#deprecations\n",
      "\n"
     ]
    },
    {
     "name": "stdout",
     "output_type": "stream",
     "text": [
      "2022-06-03 01:30:39,260 - root - INFO - Load distance matrix: 8150 x 8150\n"
     ]
    },
    {
     "name": "stderr",
     "output_type": "stream",
     "text": [
      "/Users/ejwillemse/opt/anaconda3/envs/python_RD/lib/python3.8/site-packages/tables/array.py:241: DeprecationWarning:\n",
      "\n",
      "`np.object` is a deprecated alias for the builtin `object`. To silence this warning, use `object` by itself. Doing this will not modify any behavior and is safe. \n",
      "Deprecated in NumPy 1.20; for more details and guidance: https://numpy.org/devdocs/release/1.20.0-notes.html#deprecations\n",
      "\n",
      "/Users/ejwillemse/opt/anaconda3/envs/python_RD/lib/python3.8/site-packages/tables/leaf.py:544: VisibleDeprecationWarning:\n",
      "\n",
      "Creating an ndarray from ragged nested sequences (which is a list-or-tuple of lists-or-tuples-or ndarrays with different lengths or shapes) is deprecated. If you meant to do this, you must specify 'dtype=object' when creating the ndarray.\n",
      "\n"
     ]
    },
    {
     "name": "stdout",
     "output_type": "stream",
     "text": [
      "2022-06-03 01:30:46,656 - root - INFO - Creating nearest neighbour lists\n",
      "2022-06-03 01:30:50,523 - root - INFO - Calculate offloads: 8150 x 8150 x 2\n",
      "2022-06-03 01:31:00,647 - root - INFO - Done!\n",
      "2022-06-03 01:31:00,726 - root - INFO - Uploading scenario inputs...\n",
      "2022-06-03 01:31:00,753 - root - INFO - Setting service cost for network\n",
      "2022-06-03 01:31:00,764 - root - INFO - Setting demand for network\n",
      "2022-06-03 01:31:00,776 - root - INFO - Update travel durations.\n",
      "2022-06-03 01:31:01,084 - root - INFO - Update offload durations.\n",
      "2022-06-03 01:31:01,521 - root - INFO - Done\n",
      "2022-06-03 01:31:01,522 - root - INFO - Problem info supplied. Directly proceeding to solve problem.\n",
      "2022-06-03 01:31:38,748 - root - INFO - Done generating routes\n",
      "Number of routes: 18\n",
      "2022-06-03 01:31:38,750 - root - INFO - Preparing scenario outputs...\n"
     ]
    },
    {
     "name": "stderr",
     "output_type": "stream",
     "text": [
      "/Users/ejwillemse/opt/anaconda3/envs/python_RD/lib/python3.8/site-packages/tables/array.py:241: DeprecationWarning:\n",
      "\n",
      "`np.object` is a deprecated alias for the builtin `object`. To silence this warning, use `object` by itself. Doing this will not modify any behavior and is safe. \n",
      "Deprecated in NumPy 1.20; for more details and guidance: https://numpy.org/devdocs/release/1.20.0-notes.html#deprecations\n",
      "\n"
     ]
    },
    {
     "name": "stdout",
     "output_type": "stream",
     "text": [
      "2022-06-03 01:31:49,400 - root - INFO - Done preparing output\n",
      "2022-06-03 01:31:49,401 - kedro.io.data_catalog - INFO - Saving data to `resource_summary_table_20220601_decentral` (PartitionedDataSet)...\n"
     ]
    },
    {
     "name": "stderr",
     "output_type": "stream",
     "text": [
      "/Users/ejwillemse/dev/waste_labs_dev/project_rdi_cpt/src/mcarptif/visualise/route_tables.py:146: FutureWarning:\n",
      "\n",
      "The frame.append method is deprecated and will be removed from pandas in a future version. Use pandas.concat instead.\n",
      "\n"
     ]
    },
    {
     "name": "stdout",
     "output_type": "stream",
     "text": [
      "\n",
      "\n",
      " RUNNING SCENARIO households_067\n",
      "2022-06-03 01:31:49,932 - kedro.io.data_catalog - INFO - Loading data from `waste_gen_scenarios_local_20220601` (PartitionedDataSet)...\n",
      "2022-06-03 01:31:49,951 - kedro.io.data_catalog - INFO - Loading data from `routing_parameters` (ExcelDataSet)...\n",
      "2022-06-03 01:31:50,136 - root - INFO - Preparing road network.......\n",
      "\n",
      "2022-06-03 01:31:50,202 - root - INFO - Load required arcs\n",
      "2022-06-03 01:31:50,204 - root - INFO - Merging with the network\n",
      "2022-06-03 01:31:50,232 - root - INFO - Set depot\n",
      "2022-06-03 01:31:50,237 - root - INFO - Set offload facilities\n",
      "2022-06-03 01:31:50,249 - root - INFO - Extend required arcs with inverse edge arcs\n"
     ]
    },
    {
     "name": "stderr",
     "output_type": "stream",
     "text": [
      "/Users/ejwillemse/opt/anaconda3/envs/python_RD/lib/python3.8/site-packages/tables/array.py:241: DeprecationWarning:\n",
      "\n",
      "`np.object` is a deprecated alias for the builtin `object`. To silence this warning, use `object` by itself. Doing this will not modify any behavior and is safe. \n",
      "Deprecated in NumPy 1.20; for more details and guidance: https://numpy.org/devdocs/release/1.20.0-notes.html#deprecations\n",
      "\n"
     ]
    },
    {
     "name": "stdout",
     "output_type": "stream",
     "text": [
      "2022-06-03 01:31:50,355 - root - INFO - Checking master list\n",
      "2022-06-03 01:31:50,364 - root - INFO - Load distance matrix: 8162 x 8162\n"
     ]
    },
    {
     "name": "stderr",
     "output_type": "stream",
     "text": [
      "/Users/ejwillemse/opt/anaconda3/envs/python_RD/lib/python3.8/site-packages/tables/array.py:241: DeprecationWarning:\n",
      "\n",
      "`np.object` is a deprecated alias for the builtin `object`. To silence this warning, use `object` by itself. Doing this will not modify any behavior and is safe. \n",
      "Deprecated in NumPy 1.20; for more details and guidance: https://numpy.org/devdocs/release/1.20.0-notes.html#deprecations\n",
      "\n",
      "/Users/ejwillemse/opt/anaconda3/envs/python_RD/lib/python3.8/site-packages/tables/leaf.py:544: VisibleDeprecationWarning:\n",
      "\n",
      "Creating an ndarray from ragged nested sequences (which is a list-or-tuple of lists-or-tuples-or ndarrays with different lengths or shapes) is deprecated. If you meant to do this, you must specify 'dtype=object' when creating the ndarray.\n",
      "\n"
     ]
    },
    {
     "name": "stdout",
     "output_type": "stream",
     "text": [
      "2022-06-03 01:31:58,915 - root - INFO - Creating nearest neighbour lists\n",
      "2022-06-03 01:32:02,926 - root - INFO - Calculate offloads: 8162 x 8162 x 2\n",
      "2022-06-03 01:32:14,841 - root - INFO - Done!\n",
      "2022-06-03 01:32:15,457 - root - INFO - Uploading scenario inputs...\n",
      "2022-06-03 01:32:15,500 - root - INFO - Setting service cost for network\n",
      "2022-06-03 01:32:15,513 - root - INFO - Setting demand for network\n",
      "2022-06-03 01:32:15,528 - root - INFO - Update travel durations.\n",
      "2022-06-03 01:32:15,935 - root - INFO - Update offload durations.\n",
      "2022-06-03 01:32:16,375 - root - INFO - Done\n",
      "2022-06-03 01:32:16,376 - root - INFO - Problem info supplied. Directly proceeding to solve problem.\n",
      "2022-06-03 01:32:52,362 - root - INFO - Done generating routes\n",
      "Number of routes: 18\n",
      "2022-06-03 01:32:52,363 - root - INFO - Preparing scenario outputs...\n"
     ]
    },
    {
     "name": "stderr",
     "output_type": "stream",
     "text": [
      "/Users/ejwillemse/opt/anaconda3/envs/python_RD/lib/python3.8/site-packages/tables/array.py:241: DeprecationWarning:\n",
      "\n",
      "`np.object` is a deprecated alias for the builtin `object`. To silence this warning, use `object` by itself. Doing this will not modify any behavior and is safe. \n",
      "Deprecated in NumPy 1.20; for more details and guidance: https://numpy.org/devdocs/release/1.20.0-notes.html#deprecations\n",
      "\n"
     ]
    },
    {
     "name": "stdout",
     "output_type": "stream",
     "text": [
      "2022-06-03 01:33:02,834 - root - INFO - Done preparing output\n",
      "2022-06-03 01:33:02,835 - kedro.io.data_catalog - INFO - Saving data to `resource_summary_table_20220601_decentral` (PartitionedDataSet)...\n"
     ]
    },
    {
     "name": "stderr",
     "output_type": "stream",
     "text": [
      "/Users/ejwillemse/dev/waste_labs_dev/project_rdi_cpt/src/mcarptif/visualise/route_tables.py:146: FutureWarning:\n",
      "\n",
      "The frame.append method is deprecated and will be removed from pandas in a future version. Use pandas.concat instead.\n",
      "\n"
     ]
    },
    {
     "name": "stdout",
     "output_type": "stream",
     "text": [
      "\n",
      "\n",
      " RUNNING SCENARIO households_068\n",
      "2022-06-03 01:33:03,334 - kedro.io.data_catalog - INFO - Loading data from `waste_gen_scenarios_local_20220601` (PartitionedDataSet)...\n",
      "2022-06-03 01:33:03,354 - kedro.io.data_catalog - INFO - Loading data from `routing_parameters` (ExcelDataSet)...\n",
      "2022-06-03 01:33:03,539 - root - INFO - Preparing road network.......\n",
      "\n",
      "2022-06-03 01:33:03,602 - root - INFO - Load required arcs\n",
      "2022-06-03 01:33:03,604 - root - INFO - Merging with the network\n",
      "2022-06-03 01:33:03,632 - root - INFO - Set depot\n",
      "2022-06-03 01:33:03,635 - root - INFO - Set offload facilities\n",
      "2022-06-03 01:33:03,644 - root - INFO - Extend required arcs with inverse edge arcs\n",
      "2022-06-03 01:33:03,746 - root - INFO - Checking master list\n"
     ]
    },
    {
     "name": "stderr",
     "output_type": "stream",
     "text": [
      "/Users/ejwillemse/opt/anaconda3/envs/python_RD/lib/python3.8/site-packages/tables/array.py:241: DeprecationWarning:\n",
      "\n",
      "`np.object` is a deprecated alias for the builtin `object`. To silence this warning, use `object` by itself. Doing this will not modify any behavior and is safe. \n",
      "Deprecated in NumPy 1.20; for more details and guidance: https://numpy.org/devdocs/release/1.20.0-notes.html#deprecations\n",
      "\n"
     ]
    },
    {
     "name": "stdout",
     "output_type": "stream",
     "text": [
      "2022-06-03 01:33:03,753 - root - INFO - Load distance matrix: 8146 x 8146\n"
     ]
    },
    {
     "name": "stderr",
     "output_type": "stream",
     "text": [
      "/Users/ejwillemse/opt/anaconda3/envs/python_RD/lib/python3.8/site-packages/tables/array.py:241: DeprecationWarning:\n",
      "\n",
      "`np.object` is a deprecated alias for the builtin `object`. To silence this warning, use `object` by itself. Doing this will not modify any behavior and is safe. \n",
      "Deprecated in NumPy 1.20; for more details and guidance: https://numpy.org/devdocs/release/1.20.0-notes.html#deprecations\n",
      "\n",
      "/Users/ejwillemse/opt/anaconda3/envs/python_RD/lib/python3.8/site-packages/tables/leaf.py:544: VisibleDeprecationWarning:\n",
      "\n",
      "Creating an ndarray from ragged nested sequences (which is a list-or-tuple of lists-or-tuples-or ndarrays with different lengths or shapes) is deprecated. If you meant to do this, you must specify 'dtype=object' when creating the ndarray.\n",
      "\n"
     ]
    },
    {
     "name": "stdout",
     "output_type": "stream",
     "text": [
      "2022-06-03 01:33:10,975 - root - INFO - Creating nearest neighbour lists\n",
      "2022-06-03 01:33:14,566 - root - INFO - Calculate offloads: 8146 x 8146 x 2\n",
      "2022-06-03 01:33:24,273 - root - INFO - Done!\n",
      "2022-06-03 01:33:24,318 - root - INFO - Uploading scenario inputs...\n",
      "2022-06-03 01:33:24,344 - root - INFO - Setting service cost for network\n",
      "2022-06-03 01:33:24,356 - root - INFO - Setting demand for network\n",
      "2022-06-03 01:33:24,366 - root - INFO - Update travel durations.\n",
      "2022-06-03 01:33:24,667 - root - INFO - Update offload durations.\n",
      "2022-06-03 01:33:25,116 - root - INFO - Done\n",
      "2022-06-03 01:33:25,117 - root - INFO - Problem info supplied. Directly proceeding to solve problem.\n",
      "2022-06-03 01:34:00,901 - root - INFO - Done generating routes\n",
      "Number of routes: 18\n",
      "2022-06-03 01:34:00,902 - root - INFO - Preparing scenario outputs...\n"
     ]
    },
    {
     "name": "stderr",
     "output_type": "stream",
     "text": [
      "/Users/ejwillemse/opt/anaconda3/envs/python_RD/lib/python3.8/site-packages/tables/array.py:241: DeprecationWarning:\n",
      "\n",
      "`np.object` is a deprecated alias for the builtin `object`. To silence this warning, use `object` by itself. Doing this will not modify any behavior and is safe. \n",
      "Deprecated in NumPy 1.20; for more details and guidance: https://numpy.org/devdocs/release/1.20.0-notes.html#deprecations\n",
      "\n"
     ]
    },
    {
     "name": "stdout",
     "output_type": "stream",
     "text": [
      "2022-06-03 01:34:10,987 - root - INFO - Done preparing output\n",
      "2022-06-03 01:34:10,987 - kedro.io.data_catalog - INFO - Saving data to `resource_summary_table_20220601_decentral` (PartitionedDataSet)...\n"
     ]
    },
    {
     "name": "stderr",
     "output_type": "stream",
     "text": [
      "/Users/ejwillemse/dev/waste_labs_dev/project_rdi_cpt/src/mcarptif/visualise/route_tables.py:146: FutureWarning:\n",
      "\n",
      "The frame.append method is deprecated and will be removed from pandas in a future version. Use pandas.concat instead.\n",
      "\n"
     ]
    },
    {
     "name": "stdout",
     "output_type": "stream",
     "text": [
      "\n",
      "\n",
      " RUNNING SCENARIO households_069\n",
      "2022-06-03 01:34:11,491 - kedro.io.data_catalog - INFO - Loading data from `waste_gen_scenarios_local_20220601` (PartitionedDataSet)...\n",
      "2022-06-03 01:34:11,511 - kedro.io.data_catalog - INFO - Loading data from `routing_parameters` (ExcelDataSet)...\n",
      "2022-06-03 01:34:11,680 - root - INFO - Preparing road network.......\n",
      "\n",
      "2022-06-03 01:34:11,750 - root - INFO - Load required arcs\n",
      "2022-06-03 01:34:11,751 - root - INFO - Merging with the network\n",
      "2022-06-03 01:34:11,777 - root - INFO - Set depot\n",
      "2022-06-03 01:34:11,781 - root - INFO - Set offload facilities\n",
      "2022-06-03 01:34:11,794 - root - INFO - Extend required arcs with inverse edge arcs\n"
     ]
    },
    {
     "name": "stderr",
     "output_type": "stream",
     "text": [
      "/Users/ejwillemse/opt/anaconda3/envs/python_RD/lib/python3.8/site-packages/tables/array.py:241: DeprecationWarning:\n",
      "\n",
      "`np.object` is a deprecated alias for the builtin `object`. To silence this warning, use `object` by itself. Doing this will not modify any behavior and is safe. \n",
      "Deprecated in NumPy 1.20; for more details and guidance: https://numpy.org/devdocs/release/1.20.0-notes.html#deprecations\n",
      "\n"
     ]
    },
    {
     "name": "stdout",
     "output_type": "stream",
     "text": [
      "2022-06-03 01:34:11,895 - root - INFO - Checking master list\n",
      "2022-06-03 01:34:11,903 - root - INFO - Load distance matrix: 8144 x 8144\n"
     ]
    },
    {
     "name": "stderr",
     "output_type": "stream",
     "text": [
      "/Users/ejwillemse/opt/anaconda3/envs/python_RD/lib/python3.8/site-packages/tables/array.py:241: DeprecationWarning:\n",
      "\n",
      "`np.object` is a deprecated alias for the builtin `object`. To silence this warning, use `object` by itself. Doing this will not modify any behavior and is safe. \n",
      "Deprecated in NumPy 1.20; for more details and guidance: https://numpy.org/devdocs/release/1.20.0-notes.html#deprecations\n",
      "\n",
      "/Users/ejwillemse/opt/anaconda3/envs/python_RD/lib/python3.8/site-packages/tables/leaf.py:544: VisibleDeprecationWarning:\n",
      "\n",
      "Creating an ndarray from ragged nested sequences (which is a list-or-tuple of lists-or-tuples-or ndarrays with different lengths or shapes) is deprecated. If you meant to do this, you must specify 'dtype=object' when creating the ndarray.\n",
      "\n"
     ]
    },
    {
     "name": "stdout",
     "output_type": "stream",
     "text": [
      "2022-06-03 01:34:18,516 - root - INFO - Creating nearest neighbour lists\n",
      "2022-06-03 01:34:22,115 - root - INFO - Calculate offloads: 8144 x 8144 x 2\n",
      "2022-06-03 01:34:31,620 - root - INFO - Done!\n",
      "2022-06-03 01:34:31,663 - root - INFO - Uploading scenario inputs...\n",
      "2022-06-03 01:34:31,689 - root - INFO - Setting service cost for network\n",
      "2022-06-03 01:34:31,702 - root - INFO - Setting demand for network\n",
      "2022-06-03 01:34:31,713 - root - INFO - Update travel durations.\n",
      "2022-06-03 01:34:32,016 - root - INFO - Update offload durations.\n",
      "2022-06-03 01:34:32,457 - root - INFO - Done\n",
      "2022-06-03 01:34:32,458 - root - INFO - Problem info supplied. Directly proceeding to solve problem.\n",
      "2022-06-03 01:35:07,695 - root - INFO - Done generating routes\n",
      "Number of routes: 18\n",
      "2022-06-03 01:35:07,697 - root - INFO - Preparing scenario outputs...\n"
     ]
    },
    {
     "name": "stderr",
     "output_type": "stream",
     "text": [
      "/Users/ejwillemse/opt/anaconda3/envs/python_RD/lib/python3.8/site-packages/tables/array.py:241: DeprecationWarning:\n",
      "\n",
      "`np.object` is a deprecated alias for the builtin `object`. To silence this warning, use `object` by itself. Doing this will not modify any behavior and is safe. \n",
      "Deprecated in NumPy 1.20; for more details and guidance: https://numpy.org/devdocs/release/1.20.0-notes.html#deprecations\n",
      "\n"
     ]
    },
    {
     "name": "stdout",
     "output_type": "stream",
     "text": [
      "2022-06-03 01:35:17,779 - root - INFO - Done preparing output\n",
      "2022-06-03 01:35:17,780 - kedro.io.data_catalog - INFO - Saving data to `resource_summary_table_20220601_decentral` (PartitionedDataSet)...\n"
     ]
    },
    {
     "name": "stderr",
     "output_type": "stream",
     "text": [
      "/Users/ejwillemse/dev/waste_labs_dev/project_rdi_cpt/src/mcarptif/visualise/route_tables.py:146: FutureWarning:\n",
      "\n",
      "The frame.append method is deprecated and will be removed from pandas in a future version. Use pandas.concat instead.\n",
      "\n"
     ]
    },
    {
     "name": "stdout",
     "output_type": "stream",
     "text": [
      "\n",
      "\n",
      " RUNNING SCENARIO households_070\n",
      "2022-06-03 01:35:18,286 - kedro.io.data_catalog - INFO - Loading data from `waste_gen_scenarios_local_20220601` (PartitionedDataSet)...\n",
      "2022-06-03 01:35:18,304 - kedro.io.data_catalog - INFO - Loading data from `routing_parameters` (ExcelDataSet)...\n",
      "2022-06-03 01:35:18,483 - root - INFO - Preparing road network.......\n",
      "\n",
      "2022-06-03 01:35:18,548 - root - INFO - Load required arcs\n",
      "2022-06-03 01:35:18,550 - root - INFO - Merging with the network\n",
      "2022-06-03 01:35:18,575 - root - INFO - Set depot\n",
      "2022-06-03 01:35:18,579 - root - INFO - Set offload facilities\n",
      "2022-06-03 01:35:18,592 - root - INFO - Extend required arcs with inverse edge arcs\n",
      "2022-06-03 01:35:18,691 - root - INFO - Checking master list\n"
     ]
    },
    {
     "name": "stderr",
     "output_type": "stream",
     "text": [
      "/Users/ejwillemse/opt/anaconda3/envs/python_RD/lib/python3.8/site-packages/tables/array.py:241: DeprecationWarning:\n",
      "\n",
      "`np.object` is a deprecated alias for the builtin `object`. To silence this warning, use `object` by itself. Doing this will not modify any behavior and is safe. \n",
      "Deprecated in NumPy 1.20; for more details and guidance: https://numpy.org/devdocs/release/1.20.0-notes.html#deprecations\n",
      "\n"
     ]
    },
    {
     "name": "stdout",
     "output_type": "stream",
     "text": [
      "2022-06-03 01:35:18,699 - root - INFO - Load distance matrix: 8146 x 8146\n"
     ]
    },
    {
     "name": "stderr",
     "output_type": "stream",
     "text": [
      "/Users/ejwillemse/opt/anaconda3/envs/python_RD/lib/python3.8/site-packages/tables/array.py:241: DeprecationWarning:\n",
      "\n",
      "`np.object` is a deprecated alias for the builtin `object`. To silence this warning, use `object` by itself. Doing this will not modify any behavior and is safe. \n",
      "Deprecated in NumPy 1.20; for more details and guidance: https://numpy.org/devdocs/release/1.20.0-notes.html#deprecations\n",
      "\n",
      "/Users/ejwillemse/opt/anaconda3/envs/python_RD/lib/python3.8/site-packages/tables/leaf.py:544: VisibleDeprecationWarning:\n",
      "\n",
      "Creating an ndarray from ragged nested sequences (which is a list-or-tuple of lists-or-tuples-or ndarrays with different lengths or shapes) is deprecated. If you meant to do this, you must specify 'dtype=object' when creating the ndarray.\n",
      "\n"
     ]
    },
    {
     "name": "stdout",
     "output_type": "stream",
     "text": [
      "2022-06-03 01:35:25,311 - root - INFO - Creating nearest neighbour lists\n",
      "2022-06-03 01:35:29,097 - root - INFO - Calculate offloads: 8146 x 8146 x 2\n",
      "2022-06-03 01:35:38,560 - root - INFO - Done!\n",
      "2022-06-03 01:35:38,605 - root - INFO - Uploading scenario inputs...\n",
      "2022-06-03 01:35:38,633 - root - INFO - Setting service cost for network\n",
      "2022-06-03 01:35:38,643 - root - INFO - Setting demand for network\n",
      "2022-06-03 01:35:38,655 - root - INFO - Update travel durations.\n",
      "2022-06-03 01:35:38,957 - root - INFO - Update offload durations.\n",
      "2022-06-03 01:35:39,402 - root - INFO - Done\n",
      "2022-06-03 01:35:39,403 - root - INFO - Problem info supplied. Directly proceeding to solve problem.\n",
      "2022-06-03 01:36:15,753 - root - INFO - Done generating routes\n",
      "Number of routes: 18\n",
      "2022-06-03 01:36:15,755 - root - INFO - Preparing scenario outputs...\n"
     ]
    },
    {
     "name": "stderr",
     "output_type": "stream",
     "text": [
      "/Users/ejwillemse/opt/anaconda3/envs/python_RD/lib/python3.8/site-packages/tables/array.py:241: DeprecationWarning:\n",
      "\n",
      "`np.object` is a deprecated alias for the builtin `object`. To silence this warning, use `object` by itself. Doing this will not modify any behavior and is safe. \n",
      "Deprecated in NumPy 1.20; for more details and guidance: https://numpy.org/devdocs/release/1.20.0-notes.html#deprecations\n",
      "\n"
     ]
    },
    {
     "name": "stdout",
     "output_type": "stream",
     "text": [
      "2022-06-03 01:36:25,857 - root - INFO - Done preparing output\n",
      "2022-06-03 01:36:25,859 - kedro.io.data_catalog - INFO - Saving data to `resource_summary_table_20220601_decentral` (PartitionedDataSet)...\n"
     ]
    },
    {
     "name": "stderr",
     "output_type": "stream",
     "text": [
      "/Users/ejwillemse/dev/waste_labs_dev/project_rdi_cpt/src/mcarptif/visualise/route_tables.py:146: FutureWarning:\n",
      "\n",
      "The frame.append method is deprecated and will be removed from pandas in a future version. Use pandas.concat instead.\n",
      "\n"
     ]
    },
    {
     "name": "stdout",
     "output_type": "stream",
     "text": [
      "\n",
      "\n",
      " RUNNING SCENARIO households_071\n",
      "2022-06-03 01:36:26,381 - kedro.io.data_catalog - INFO - Loading data from `waste_gen_scenarios_local_20220601` (PartitionedDataSet)...\n",
      "2022-06-03 01:36:26,398 - kedro.io.data_catalog - INFO - Loading data from `routing_parameters` (ExcelDataSet)...\n",
      "2022-06-03 01:36:26,577 - root - INFO - Preparing road network.......\n",
      "\n",
      "2022-06-03 01:36:26,642 - root - INFO - Load required arcs\n",
      "2022-06-03 01:36:26,643 - root - INFO - Merging with the network\n",
      "2022-06-03 01:36:26,671 - root - INFO - Set depot\n",
      "2022-06-03 01:36:26,675 - root - INFO - Set offload facilities\n",
      "2022-06-03 01:36:26,689 - root - INFO - Extend required arcs with inverse edge arcs\n"
     ]
    },
    {
     "name": "stderr",
     "output_type": "stream",
     "text": [
      "/Users/ejwillemse/opt/anaconda3/envs/python_RD/lib/python3.8/site-packages/tables/array.py:241: DeprecationWarning:\n",
      "\n",
      "`np.object` is a deprecated alias for the builtin `object`. To silence this warning, use `object` by itself. Doing this will not modify any behavior and is safe. \n",
      "Deprecated in NumPy 1.20; for more details and guidance: https://numpy.org/devdocs/release/1.20.0-notes.html#deprecations\n",
      "\n"
     ]
    },
    {
     "name": "stdout",
     "output_type": "stream",
     "text": [
      "2022-06-03 01:36:26,797 - root - INFO - Checking master list\n",
      "2022-06-03 01:36:26,802 - root - INFO - Load distance matrix: 8139 x 8139\n"
     ]
    },
    {
     "name": "stderr",
     "output_type": "stream",
     "text": [
      "/Users/ejwillemse/opt/anaconda3/envs/python_RD/lib/python3.8/site-packages/tables/array.py:241: DeprecationWarning:\n",
      "\n",
      "`np.object` is a deprecated alias for the builtin `object`. To silence this warning, use `object` by itself. Doing this will not modify any behavior and is safe. \n",
      "Deprecated in NumPy 1.20; for more details and guidance: https://numpy.org/devdocs/release/1.20.0-notes.html#deprecations\n",
      "\n",
      "/Users/ejwillemse/opt/anaconda3/envs/python_RD/lib/python3.8/site-packages/tables/leaf.py:544: VisibleDeprecationWarning:\n",
      "\n",
      "Creating an ndarray from ragged nested sequences (which is a list-or-tuple of lists-or-tuples-or ndarrays with different lengths or shapes) is deprecated. If you meant to do this, you must specify 'dtype=object' when creating the ndarray.\n",
      "\n"
     ]
    },
    {
     "name": "stdout",
     "output_type": "stream",
     "text": [
      "2022-06-03 01:36:33,472 - root - INFO - Creating nearest neighbour lists\n",
      "2022-06-03 01:36:37,081 - root - INFO - Calculate offloads: 8139 x 8139 x 2\n",
      "2022-06-03 01:36:45,560 - root - INFO - Done!\n",
      "2022-06-03 01:36:45,603 - root - INFO - Uploading scenario inputs...\n",
      "2022-06-03 01:36:45,632 - root - INFO - Setting service cost for network\n",
      "2022-06-03 01:36:45,642 - root - INFO - Setting demand for network\n",
      "2022-06-03 01:36:45,654 - root - INFO - Update travel durations.\n",
      "2022-06-03 01:36:45,952 - root - INFO - Update offload durations.\n",
      "2022-06-03 01:36:46,383 - root - INFO - Done\n",
      "2022-06-03 01:36:46,384 - root - INFO - Problem info supplied. Directly proceeding to solve problem.\n",
      "2022-06-03 01:37:22,262 - root - INFO - Done generating routes\n",
      "Number of routes: 18\n",
      "2022-06-03 01:37:22,264 - root - INFO - Preparing scenario outputs...\n"
     ]
    },
    {
     "name": "stderr",
     "output_type": "stream",
     "text": [
      "/Users/ejwillemse/opt/anaconda3/envs/python_RD/lib/python3.8/site-packages/tables/array.py:241: DeprecationWarning:\n",
      "\n",
      "`np.object` is a deprecated alias for the builtin `object`. To silence this warning, use `object` by itself. Doing this will not modify any behavior and is safe. \n",
      "Deprecated in NumPy 1.20; for more details and guidance: https://numpy.org/devdocs/release/1.20.0-notes.html#deprecations\n",
      "\n"
     ]
    },
    {
     "name": "stdout",
     "output_type": "stream",
     "text": [
      "2022-06-03 01:37:32,415 - root - INFO - Done preparing output\n",
      "2022-06-03 01:37:32,416 - kedro.io.data_catalog - INFO - Saving data to `resource_summary_table_20220601_decentral` (PartitionedDataSet)...\n"
     ]
    },
    {
     "name": "stderr",
     "output_type": "stream",
     "text": [
      "/Users/ejwillemse/dev/waste_labs_dev/project_rdi_cpt/src/mcarptif/visualise/route_tables.py:146: FutureWarning:\n",
      "\n",
      "The frame.append method is deprecated and will be removed from pandas in a future version. Use pandas.concat instead.\n",
      "\n"
     ]
    },
    {
     "name": "stdout",
     "output_type": "stream",
     "text": [
      "\n",
      "\n",
      " RUNNING SCENARIO households_072\n",
      "2022-06-03 01:37:32,917 - kedro.io.data_catalog - INFO - Loading data from `waste_gen_scenarios_local_20220601` (PartitionedDataSet)...\n",
      "2022-06-03 01:37:32,935 - kedro.io.data_catalog - INFO - Loading data from `routing_parameters` (ExcelDataSet)...\n",
      "2022-06-03 01:37:33,114 - root - INFO - Preparing road network.......\n",
      "\n",
      "2022-06-03 01:37:33,176 - root - INFO - Load required arcs\n",
      "2022-06-03 01:37:33,178 - root - INFO - Merging with the network\n",
      "2022-06-03 01:37:33,204 - root - INFO - Set depot\n",
      "2022-06-03 01:37:33,207 - root - INFO - Set offload facilities\n",
      "2022-06-03 01:37:33,221 - root - INFO - Extend required arcs with inverse edge arcs\n",
      "2022-06-03 01:37:33,323 - root - INFO - Checking master list\n"
     ]
    },
    {
     "name": "stderr",
     "output_type": "stream",
     "text": [
      "/Users/ejwillemse/opt/anaconda3/envs/python_RD/lib/python3.8/site-packages/tables/array.py:241: DeprecationWarning:\n",
      "\n",
      "`np.object` is a deprecated alias for the builtin `object`. To silence this warning, use `object` by itself. Doing this will not modify any behavior and is safe. \n",
      "Deprecated in NumPy 1.20; for more details and guidance: https://numpy.org/devdocs/release/1.20.0-notes.html#deprecations\n",
      "\n"
     ]
    },
    {
     "name": "stdout",
     "output_type": "stream",
     "text": [
      "2022-06-03 01:37:33,331 - root - INFO - Load distance matrix: 8122 x 8122\n"
     ]
    },
    {
     "name": "stderr",
     "output_type": "stream",
     "text": [
      "/Users/ejwillemse/opt/anaconda3/envs/python_RD/lib/python3.8/site-packages/tables/array.py:241: DeprecationWarning:\n",
      "\n",
      "`np.object` is a deprecated alias for the builtin `object`. To silence this warning, use `object` by itself. Doing this will not modify any behavior and is safe. \n",
      "Deprecated in NumPy 1.20; for more details and guidance: https://numpy.org/devdocs/release/1.20.0-notes.html#deprecations\n",
      "\n",
      "/Users/ejwillemse/opt/anaconda3/envs/python_RD/lib/python3.8/site-packages/tables/leaf.py:544: VisibleDeprecationWarning:\n",
      "\n",
      "Creating an ndarray from ragged nested sequences (which is a list-or-tuple of lists-or-tuples-or ndarrays with different lengths or shapes) is deprecated. If you meant to do this, you must specify 'dtype=object' when creating the ndarray.\n",
      "\n"
     ]
    },
    {
     "name": "stdout",
     "output_type": "stream",
     "text": [
      "2022-06-03 01:37:40,305 - root - INFO - Creating nearest neighbour lists\n",
      "2022-06-03 01:37:43,908 - root - INFO - Calculate offloads: 8122 x 8122 x 2\n",
      "2022-06-03 01:37:52,931 - root - INFO - Done!\n",
      "2022-06-03 01:37:53,010 - root - INFO - Uploading scenario inputs...\n",
      "2022-06-03 01:37:53,040 - root - INFO - Setting service cost for network\n",
      "2022-06-03 01:37:53,052 - root - INFO - Setting demand for network\n",
      "2022-06-03 01:37:53,063 - root - INFO - Update travel durations.\n",
      "2022-06-03 01:37:53,381 - root - INFO - Update offload durations.\n",
      "2022-06-03 01:37:53,816 - root - INFO - Done\n",
      "2022-06-03 01:37:53,817 - root - INFO - Problem info supplied. Directly proceeding to solve problem.\n",
      "2022-06-03 01:38:29,655 - root - INFO - Done generating routes\n",
      "Number of routes: 18\n",
      "2022-06-03 01:38:29,657 - root - INFO - Preparing scenario outputs...\n"
     ]
    },
    {
     "name": "stderr",
     "output_type": "stream",
     "text": [
      "/Users/ejwillemse/opt/anaconda3/envs/python_RD/lib/python3.8/site-packages/tables/array.py:241: DeprecationWarning:\n",
      "\n",
      "`np.object` is a deprecated alias for the builtin `object`. To silence this warning, use `object` by itself. Doing this will not modify any behavior and is safe. \n",
      "Deprecated in NumPy 1.20; for more details and guidance: https://numpy.org/devdocs/release/1.20.0-notes.html#deprecations\n",
      "\n"
     ]
    },
    {
     "name": "stdout",
     "output_type": "stream",
     "text": [
      "2022-06-03 01:38:39,554 - root - INFO - Done preparing output\n",
      "2022-06-03 01:38:39,555 - kedro.io.data_catalog - INFO - Saving data to `resource_summary_table_20220601_decentral` (PartitionedDataSet)...\n"
     ]
    },
    {
     "name": "stderr",
     "output_type": "stream",
     "text": [
      "/Users/ejwillemse/dev/waste_labs_dev/project_rdi_cpt/src/mcarptif/visualise/route_tables.py:146: FutureWarning:\n",
      "\n",
      "The frame.append method is deprecated and will be removed from pandas in a future version. Use pandas.concat instead.\n",
      "\n"
     ]
    },
    {
     "name": "stdout",
     "output_type": "stream",
     "text": [
      "\n",
      "\n",
      " RUNNING SCENARIO households_073\n",
      "2022-06-03 01:38:40,071 - kedro.io.data_catalog - INFO - Loading data from `waste_gen_scenarios_local_20220601` (PartitionedDataSet)...\n",
      "2022-06-03 01:38:40,092 - kedro.io.data_catalog - INFO - Loading data from `routing_parameters` (ExcelDataSet)...\n",
      "2022-06-03 01:38:40,270 - root - INFO - Preparing road network.......\n",
      "\n",
      "2022-06-03 01:38:40,340 - root - INFO - Load required arcs\n",
      "2022-06-03 01:38:40,341 - root - INFO - Merging with the network\n",
      "2022-06-03 01:38:40,371 - root - INFO - Set depot\n",
      "2022-06-03 01:38:40,375 - root - INFO - Set offload facilities\n",
      "2022-06-03 01:38:40,387 - root - INFO - Extend required arcs with inverse edge arcs\n"
     ]
    },
    {
     "name": "stderr",
     "output_type": "stream",
     "text": [
      "/Users/ejwillemse/opt/anaconda3/envs/python_RD/lib/python3.8/site-packages/tables/array.py:241: DeprecationWarning:\n",
      "\n",
      "`np.object` is a deprecated alias for the builtin `object`. To silence this warning, use `object` by itself. Doing this will not modify any behavior and is safe. \n",
      "Deprecated in NumPy 1.20; for more details and guidance: https://numpy.org/devdocs/release/1.20.0-notes.html#deprecations\n",
      "\n"
     ]
    },
    {
     "name": "stdout",
     "output_type": "stream",
     "text": [
      "2022-06-03 01:38:40,490 - root - INFO - Checking master list\n",
      "2022-06-03 01:38:40,498 - root - INFO - Load distance matrix: 8127 x 8127\n"
     ]
    },
    {
     "name": "stderr",
     "output_type": "stream",
     "text": [
      "/Users/ejwillemse/opt/anaconda3/envs/python_RD/lib/python3.8/site-packages/tables/array.py:241: DeprecationWarning:\n",
      "\n",
      "`np.object` is a deprecated alias for the builtin `object`. To silence this warning, use `object` by itself. Doing this will not modify any behavior and is safe. \n",
      "Deprecated in NumPy 1.20; for more details and guidance: https://numpy.org/devdocs/release/1.20.0-notes.html#deprecations\n",
      "\n",
      "/Users/ejwillemse/opt/anaconda3/envs/python_RD/lib/python3.8/site-packages/tables/leaf.py:544: VisibleDeprecationWarning:\n",
      "\n",
      "Creating an ndarray from ragged nested sequences (which is a list-or-tuple of lists-or-tuples-or ndarrays with different lengths or shapes) is deprecated. If you meant to do this, you must specify 'dtype=object' when creating the ndarray.\n",
      "\n"
     ]
    },
    {
     "name": "stdout",
     "output_type": "stream",
     "text": [
      "2022-06-03 01:38:47,231 - root - INFO - Creating nearest neighbour lists\n",
      "2022-06-03 01:38:50,841 - root - INFO - Calculate offloads: 8127 x 8127 x 2\n",
      "2022-06-03 01:38:59,842 - root - INFO - Done!\n",
      "2022-06-03 01:38:59,887 - root - INFO - Uploading scenario inputs...\n",
      "2022-06-03 01:38:59,912 - root - INFO - Setting service cost for network\n",
      "2022-06-03 01:38:59,923 - root - INFO - Setting demand for network\n",
      "2022-06-03 01:38:59,934 - root - INFO - Update travel durations.\n",
      "2022-06-03 01:39:00,247 - root - INFO - Update offload durations.\n",
      "2022-06-03 01:39:00,678 - root - INFO - Done\n",
      "2022-06-03 01:39:00,679 - root - INFO - Problem info supplied. Directly proceeding to solve problem.\n",
      "2022-06-03 01:39:36,352 - root - INFO - Done generating routes\n",
      "Number of routes: 18\n",
      "2022-06-03 01:39:36,353 - root - INFO - Preparing scenario outputs...\n"
     ]
    },
    {
     "name": "stderr",
     "output_type": "stream",
     "text": [
      "/Users/ejwillemse/opt/anaconda3/envs/python_RD/lib/python3.8/site-packages/tables/array.py:241: DeprecationWarning:\n",
      "\n",
      "`np.object` is a deprecated alias for the builtin `object`. To silence this warning, use `object` by itself. Doing this will not modify any behavior and is safe. \n",
      "Deprecated in NumPy 1.20; for more details and guidance: https://numpy.org/devdocs/release/1.20.0-notes.html#deprecations\n",
      "\n"
     ]
    },
    {
     "name": "stdout",
     "output_type": "stream",
     "text": [
      "2022-06-03 01:39:46,603 - root - INFO - Done preparing output\n",
      "2022-06-03 01:39:46,604 - kedro.io.data_catalog - INFO - Saving data to `resource_summary_table_20220601_decentral` (PartitionedDataSet)...\n"
     ]
    },
    {
     "name": "stderr",
     "output_type": "stream",
     "text": [
      "/Users/ejwillemse/dev/waste_labs_dev/project_rdi_cpt/src/mcarptif/visualise/route_tables.py:146: FutureWarning:\n",
      "\n",
      "The frame.append method is deprecated and will be removed from pandas in a future version. Use pandas.concat instead.\n",
      "\n"
     ]
    },
    {
     "name": "stdout",
     "output_type": "stream",
     "text": [
      "\n",
      "\n",
      " RUNNING SCENARIO households_074\n",
      "2022-06-03 01:39:47,103 - kedro.io.data_catalog - INFO - Loading data from `waste_gen_scenarios_local_20220601` (PartitionedDataSet)...\n",
      "2022-06-03 01:39:47,123 - kedro.io.data_catalog - INFO - Loading data from `routing_parameters` (ExcelDataSet)...\n",
      "2022-06-03 01:39:47,298 - root - INFO - Preparing road network.......\n",
      "\n",
      "2022-06-03 01:39:47,369 - root - INFO - Load required arcs\n",
      "2022-06-03 01:39:47,371 - root - INFO - Merging with the network\n",
      "2022-06-03 01:39:47,399 - root - INFO - Set depot\n",
      "2022-06-03 01:39:47,402 - root - INFO - Set offload facilities\n",
      "2022-06-03 01:39:47,413 - root - INFO - Extend required arcs with inverse edge arcs\n"
     ]
    },
    {
     "name": "stderr",
     "output_type": "stream",
     "text": [
      "/Users/ejwillemse/opt/anaconda3/envs/python_RD/lib/python3.8/site-packages/tables/array.py:241: DeprecationWarning:\n",
      "\n",
      "`np.object` is a deprecated alias for the builtin `object`. To silence this warning, use `object` by itself. Doing this will not modify any behavior and is safe. \n",
      "Deprecated in NumPy 1.20; for more details and guidance: https://numpy.org/devdocs/release/1.20.0-notes.html#deprecations\n",
      "\n"
     ]
    },
    {
     "name": "stdout",
     "output_type": "stream",
     "text": [
      "2022-06-03 01:39:47,514 - root - INFO - Checking master list\n",
      "2022-06-03 01:39:47,521 - root - INFO - Load distance matrix: 8121 x 8121\n"
     ]
    },
    {
     "name": "stderr",
     "output_type": "stream",
     "text": [
      "/Users/ejwillemse/opt/anaconda3/envs/python_RD/lib/python3.8/site-packages/tables/array.py:241: DeprecationWarning:\n",
      "\n",
      "`np.object` is a deprecated alias for the builtin `object`. To silence this warning, use `object` by itself. Doing this will not modify any behavior and is safe. \n",
      "Deprecated in NumPy 1.20; for more details and guidance: https://numpy.org/devdocs/release/1.20.0-notes.html#deprecations\n",
      "\n",
      "/Users/ejwillemse/opt/anaconda3/envs/python_RD/lib/python3.8/site-packages/tables/leaf.py:544: VisibleDeprecationWarning:\n",
      "\n",
      "Creating an ndarray from ragged nested sequences (which is a list-or-tuple of lists-or-tuples-or ndarrays with different lengths or shapes) is deprecated. If you meant to do this, you must specify 'dtype=object' when creating the ndarray.\n",
      "\n"
     ]
    },
    {
     "name": "stdout",
     "output_type": "stream",
     "text": [
      "2022-06-03 01:39:54,366 - root - INFO - Creating nearest neighbour lists\n",
      "2022-06-03 01:39:57,966 - root - INFO - Calculate offloads: 8121 x 8121 x 2\n",
      "2022-06-03 01:40:06,615 - root - INFO - Done!\n",
      "2022-06-03 01:40:06,661 - root - INFO - Uploading scenario inputs...\n",
      "2022-06-03 01:40:06,686 - root - INFO - Setting service cost for network\n",
      "2022-06-03 01:40:06,697 - root - INFO - Setting demand for network\n",
      "2022-06-03 01:40:06,710 - root - INFO - Update travel durations.\n",
      "2022-06-03 01:40:07,016 - root - INFO - Update offload durations.\n",
      "2022-06-03 01:40:07,447 - root - INFO - Done\n",
      "2022-06-03 01:40:07,448 - root - INFO - Problem info supplied. Directly proceeding to solve problem.\n",
      "2022-06-03 01:40:44,193 - root - INFO - Done generating routes\n",
      "Number of routes: 18\n",
      "2022-06-03 01:40:44,194 - root - INFO - Preparing scenario outputs...\n"
     ]
    },
    {
     "name": "stderr",
     "output_type": "stream",
     "text": [
      "/Users/ejwillemse/opt/anaconda3/envs/python_RD/lib/python3.8/site-packages/tables/array.py:241: DeprecationWarning:\n",
      "\n",
      "`np.object` is a deprecated alias for the builtin `object`. To silence this warning, use `object` by itself. Doing this will not modify any behavior and is safe. \n",
      "Deprecated in NumPy 1.20; for more details and guidance: https://numpy.org/devdocs/release/1.20.0-notes.html#deprecations\n",
      "\n"
     ]
    },
    {
     "name": "stdout",
     "output_type": "stream",
     "text": [
      "2022-06-03 01:40:54,119 - root - INFO - Done preparing output\n",
      "2022-06-03 01:40:54,120 - kedro.io.data_catalog - INFO - Saving data to `resource_summary_table_20220601_decentral` (PartitionedDataSet)...\n"
     ]
    },
    {
     "name": "stderr",
     "output_type": "stream",
     "text": [
      "/Users/ejwillemse/dev/waste_labs_dev/project_rdi_cpt/src/mcarptif/visualise/route_tables.py:146: FutureWarning:\n",
      "\n",
      "The frame.append method is deprecated and will be removed from pandas in a future version. Use pandas.concat instead.\n",
      "\n"
     ]
    },
    {
     "name": "stdout",
     "output_type": "stream",
     "text": [
      "\n",
      "\n",
      " RUNNING SCENARIO households_075\n",
      "2022-06-03 01:40:54,619 - kedro.io.data_catalog - INFO - Loading data from `waste_gen_scenarios_local_20220601` (PartitionedDataSet)...\n",
      "2022-06-03 01:40:54,644 - kedro.io.data_catalog - INFO - Loading data from `routing_parameters` (ExcelDataSet)...\n",
      "2022-06-03 01:40:54,831 - root - INFO - Preparing road network.......\n",
      "\n",
      "2022-06-03 01:40:54,894 - root - INFO - Load required arcs\n",
      "2022-06-03 01:40:54,896 - root - INFO - Merging with the network\n",
      "2022-06-03 01:40:54,924 - root - INFO - Set depot\n",
      "2022-06-03 01:40:54,928 - root - INFO - Set offload facilities\n",
      "2022-06-03 01:40:54,939 - root - INFO - Extend required arcs with inverse edge arcs\n",
      "2022-06-03 01:40:55,038 - root - INFO - Checking master list\n"
     ]
    },
    {
     "name": "stderr",
     "output_type": "stream",
     "text": [
      "/Users/ejwillemse/opt/anaconda3/envs/python_RD/lib/python3.8/site-packages/tables/array.py:241: DeprecationWarning:\n",
      "\n",
      "`np.object` is a deprecated alias for the builtin `object`. To silence this warning, use `object` by itself. Doing this will not modify any behavior and is safe. \n",
      "Deprecated in NumPy 1.20; for more details and guidance: https://numpy.org/devdocs/release/1.20.0-notes.html#deprecations\n",
      "\n"
     ]
    },
    {
     "name": "stdout",
     "output_type": "stream",
     "text": [
      "2022-06-03 01:40:55,046 - root - INFO - Load distance matrix: 8165 x 8165\n"
     ]
    },
    {
     "name": "stderr",
     "output_type": "stream",
     "text": [
      "/Users/ejwillemse/opt/anaconda3/envs/python_RD/lib/python3.8/site-packages/tables/array.py:241: DeprecationWarning:\n",
      "\n",
      "`np.object` is a deprecated alias for the builtin `object`. To silence this warning, use `object` by itself. Doing this will not modify any behavior and is safe. \n",
      "Deprecated in NumPy 1.20; for more details and guidance: https://numpy.org/devdocs/release/1.20.0-notes.html#deprecations\n",
      "\n",
      "/Users/ejwillemse/opt/anaconda3/envs/python_RD/lib/python3.8/site-packages/tables/leaf.py:544: VisibleDeprecationWarning:\n",
      "\n",
      "Creating an ndarray from ragged nested sequences (which is a list-or-tuple of lists-or-tuples-or ndarrays with different lengths or shapes) is deprecated. If you meant to do this, you must specify 'dtype=object' when creating the ndarray.\n",
      "\n"
     ]
    },
    {
     "name": "stdout",
     "output_type": "stream",
     "text": [
      "2022-06-03 01:41:02,781 - root - INFO - Creating nearest neighbour lists\n",
      "2022-06-03 01:41:06,699 - root - INFO - Calculate offloads: 8165 x 8165 x 2\n",
      "2022-06-03 01:41:17,336 - root - INFO - Done!\n",
      "2022-06-03 01:41:17,699 - root - INFO - Uploading scenario inputs...\n",
      "2022-06-03 01:41:17,733 - root - INFO - Setting service cost for network\n",
      "2022-06-03 01:41:17,743 - root - INFO - Setting demand for network\n",
      "2022-06-03 01:41:17,755 - root - INFO - Update travel durations.\n",
      "2022-06-03 01:41:18,120 - root - INFO - Update offload durations.\n",
      "2022-06-03 01:41:18,564 - root - INFO - Done\n",
      "2022-06-03 01:41:18,565 - root - INFO - Problem info supplied. Directly proceeding to solve problem.\n",
      "2022-06-03 01:41:55,379 - root - INFO - Done generating routes\n",
      "Number of routes: 18\n",
      "2022-06-03 01:41:55,380 - root - INFO - Preparing scenario outputs...\n"
     ]
    },
    {
     "name": "stderr",
     "output_type": "stream",
     "text": [
      "/Users/ejwillemse/opt/anaconda3/envs/python_RD/lib/python3.8/site-packages/tables/array.py:241: DeprecationWarning:\n",
      "\n",
      "`np.object` is a deprecated alias for the builtin `object`. To silence this warning, use `object` by itself. Doing this will not modify any behavior and is safe. \n",
      "Deprecated in NumPy 1.20; for more details and guidance: https://numpy.org/devdocs/release/1.20.0-notes.html#deprecations\n",
      "\n"
     ]
    },
    {
     "name": "stdout",
     "output_type": "stream",
     "text": [
      "2022-06-03 01:42:05,428 - root - INFO - Done preparing output\n",
      "2022-06-03 01:42:05,429 - kedro.io.data_catalog - INFO - Saving data to `resource_summary_table_20220601_decentral` (PartitionedDataSet)...\n"
     ]
    },
    {
     "name": "stderr",
     "output_type": "stream",
     "text": [
      "/Users/ejwillemse/dev/waste_labs_dev/project_rdi_cpt/src/mcarptif/visualise/route_tables.py:146: FutureWarning:\n",
      "\n",
      "The frame.append method is deprecated and will be removed from pandas in a future version. Use pandas.concat instead.\n",
      "\n"
     ]
    },
    {
     "name": "stdout",
     "output_type": "stream",
     "text": [
      "\n",
      "\n",
      " RUNNING SCENARIO households_076\n",
      "2022-06-03 01:42:05,929 - kedro.io.data_catalog - INFO - Loading data from `waste_gen_scenarios_local_20220601` (PartitionedDataSet)...\n",
      "2022-06-03 01:42:05,947 - kedro.io.data_catalog - INFO - Loading data from `routing_parameters` (ExcelDataSet)...\n",
      "2022-06-03 01:42:06,134 - root - INFO - Preparing road network.......\n",
      "\n",
      "2022-06-03 01:42:06,198 - root - INFO - Load required arcs\n",
      "2022-06-03 01:42:06,200 - root - INFO - Merging with the network\n",
      "2022-06-03 01:42:06,228 - root - INFO - Set depot\n",
      "2022-06-03 01:42:06,232 - root - INFO - Set offload facilities\n",
      "2022-06-03 01:42:06,243 - root - INFO - Extend required arcs with inverse edge arcs\n",
      "2022-06-03 01:42:06,344 - root - INFO - Checking master list\n"
     ]
    },
    {
     "name": "stderr",
     "output_type": "stream",
     "text": [
      "/Users/ejwillemse/opt/anaconda3/envs/python_RD/lib/python3.8/site-packages/tables/array.py:241: DeprecationWarning:\n",
      "\n",
      "`np.object` is a deprecated alias for the builtin `object`. To silence this warning, use `object` by itself. Doing this will not modify any behavior and is safe. \n",
      "Deprecated in NumPy 1.20; for more details and guidance: https://numpy.org/devdocs/release/1.20.0-notes.html#deprecations\n",
      "\n"
     ]
    },
    {
     "name": "stdout",
     "output_type": "stream",
     "text": [
      "2022-06-03 01:42:06,353 - root - INFO - Load distance matrix: 8125 x 8125\n"
     ]
    },
    {
     "name": "stderr",
     "output_type": "stream",
     "text": [
      "/Users/ejwillemse/opt/anaconda3/envs/python_RD/lib/python3.8/site-packages/tables/array.py:241: DeprecationWarning:\n",
      "\n",
      "`np.object` is a deprecated alias for the builtin `object`. To silence this warning, use `object` by itself. Doing this will not modify any behavior and is safe. \n",
      "Deprecated in NumPy 1.20; for more details and guidance: https://numpy.org/devdocs/release/1.20.0-notes.html#deprecations\n",
      "\n",
      "/Users/ejwillemse/opt/anaconda3/envs/python_RD/lib/python3.8/site-packages/tables/leaf.py:544: VisibleDeprecationWarning:\n",
      "\n",
      "Creating an ndarray from ragged nested sequences (which is a list-or-tuple of lists-or-tuples-or ndarrays with different lengths or shapes) is deprecated. If you meant to do this, you must specify 'dtype=object' when creating the ndarray.\n",
      "\n"
     ]
    },
    {
     "name": "stdout",
     "output_type": "stream",
     "text": [
      "2022-06-03 01:42:13,605 - root - INFO - Creating nearest neighbour lists\n",
      "2022-06-03 01:42:17,195 - root - INFO - Calculate offloads: 8125 x 8125 x 2\n",
      "2022-06-03 01:42:27,282 - root - INFO - Done!\n",
      "2022-06-03 01:42:27,330 - root - INFO - Uploading scenario inputs...\n",
      "2022-06-03 01:42:27,354 - root - INFO - Setting service cost for network\n",
      "2022-06-03 01:42:27,366 - root - INFO - Setting demand for network\n",
      "2022-06-03 01:42:27,380 - root - INFO - Update travel durations.\n",
      "2022-06-03 01:42:27,688 - root - INFO - Update offload durations.\n",
      "2022-06-03 01:42:28,121 - root - INFO - Done\n",
      "2022-06-03 01:42:28,122 - root - INFO - Problem info supplied. Directly proceeding to solve problem.\n",
      "2022-06-03 01:43:03,940 - root - INFO - Done generating routes\n",
      "Number of routes: 18\n",
      "2022-06-03 01:43:03,942 - root - INFO - Preparing scenario outputs...\n"
     ]
    },
    {
     "name": "stderr",
     "output_type": "stream",
     "text": [
      "/Users/ejwillemse/opt/anaconda3/envs/python_RD/lib/python3.8/site-packages/tables/array.py:241: DeprecationWarning:\n",
      "\n",
      "`np.object` is a deprecated alias for the builtin `object`. To silence this warning, use `object` by itself. Doing this will not modify any behavior and is safe. \n",
      "Deprecated in NumPy 1.20; for more details and guidance: https://numpy.org/devdocs/release/1.20.0-notes.html#deprecations\n",
      "\n"
     ]
    },
    {
     "name": "stdout",
     "output_type": "stream",
     "text": [
      "2022-06-03 01:43:14,565 - root - INFO - Done preparing output\n",
      "2022-06-03 01:43:14,566 - kedro.io.data_catalog - INFO - Saving data to `resource_summary_table_20220601_decentral` (PartitionedDataSet)...\n"
     ]
    },
    {
     "name": "stderr",
     "output_type": "stream",
     "text": [
      "/Users/ejwillemse/dev/waste_labs_dev/project_rdi_cpt/src/mcarptif/visualise/route_tables.py:146: FutureWarning:\n",
      "\n",
      "The frame.append method is deprecated and will be removed from pandas in a future version. Use pandas.concat instead.\n",
      "\n"
     ]
    },
    {
     "name": "stdout",
     "output_type": "stream",
     "text": [
      "\n",
      "\n",
      " RUNNING SCENARIO households_077\n",
      "2022-06-03 01:43:15,065 - kedro.io.data_catalog - INFO - Loading data from `waste_gen_scenarios_local_20220601` (PartitionedDataSet)...\n",
      "2022-06-03 01:43:15,086 - kedro.io.data_catalog - INFO - Loading data from `routing_parameters` (ExcelDataSet)...\n",
      "2022-06-03 01:43:15,270 - root - INFO - Preparing road network.......\n",
      "\n",
      "2022-06-03 01:43:15,333 - root - INFO - Load required arcs\n",
      "2022-06-03 01:43:15,335 - root - INFO - Merging with the network\n",
      "2022-06-03 01:43:15,364 - root - INFO - Set depot\n",
      "2022-06-03 01:43:15,368 - root - INFO - Set offload facilities\n",
      "2022-06-03 01:43:15,380 - root - INFO - Extend required arcs with inverse edge arcs\n",
      "2022-06-03 01:43:15,477 - root - INFO - Checking master list\n"
     ]
    },
    {
     "name": "stderr",
     "output_type": "stream",
     "text": [
      "/Users/ejwillemse/opt/anaconda3/envs/python_RD/lib/python3.8/site-packages/tables/array.py:241: DeprecationWarning:\n",
      "\n",
      "`np.object` is a deprecated alias for the builtin `object`. To silence this warning, use `object` by itself. Doing this will not modify any behavior and is safe. \n",
      "Deprecated in NumPy 1.20; for more details and guidance: https://numpy.org/devdocs/release/1.20.0-notes.html#deprecations\n",
      "\n"
     ]
    },
    {
     "name": "stdout",
     "output_type": "stream",
     "text": [
      "2022-06-03 01:43:15,484 - root - INFO - Load distance matrix: 8126 x 8126\n"
     ]
    },
    {
     "name": "stderr",
     "output_type": "stream",
     "text": [
      "/Users/ejwillemse/opt/anaconda3/envs/python_RD/lib/python3.8/site-packages/tables/array.py:241: DeprecationWarning:\n",
      "\n",
      "`np.object` is a deprecated alias for the builtin `object`. To silence this warning, use `object` by itself. Doing this will not modify any behavior and is safe. \n",
      "Deprecated in NumPy 1.20; for more details and guidance: https://numpy.org/devdocs/release/1.20.0-notes.html#deprecations\n",
      "\n",
      "/Users/ejwillemse/opt/anaconda3/envs/python_RD/lib/python3.8/site-packages/tables/leaf.py:544: VisibleDeprecationWarning:\n",
      "\n",
      "Creating an ndarray from ragged nested sequences (which is a list-or-tuple of lists-or-tuples-or ndarrays with different lengths or shapes) is deprecated. If you meant to do this, you must specify 'dtype=object' when creating the ndarray.\n",
      "\n"
     ]
    },
    {
     "name": "stdout",
     "output_type": "stream",
     "text": [
      "2022-06-03 01:43:22,168 - root - INFO - Creating nearest neighbour lists\n",
      "2022-06-03 01:43:25,798 - root - INFO - Calculate offloads: 8126 x 8126 x 2\n",
      "2022-06-03 01:43:36,266 - root - INFO - Done!\n",
      "2022-06-03 01:43:36,313 - root - INFO - Uploading scenario inputs...\n",
      "2022-06-03 01:43:36,341 - root - INFO - Setting service cost for network\n",
      "2022-06-03 01:43:36,357 - root - INFO - Setting demand for network\n",
      "2022-06-03 01:43:36,372 - root - INFO - Update travel durations.\n",
      "2022-06-03 01:43:36,681 - root - INFO - Update offload durations.\n",
      "2022-06-03 01:43:37,132 - root - INFO - Done\n",
      "2022-06-03 01:43:37,132 - root - INFO - Problem info supplied. Directly proceeding to solve problem.\n",
      "2022-06-03 01:44:12,763 - root - INFO - Done generating routes\n",
      "Number of routes: 18\n",
      "2022-06-03 01:44:12,764 - root - INFO - Preparing scenario outputs...\n"
     ]
    },
    {
     "name": "stderr",
     "output_type": "stream",
     "text": [
      "/Users/ejwillemse/opt/anaconda3/envs/python_RD/lib/python3.8/site-packages/tables/array.py:241: DeprecationWarning:\n",
      "\n",
      "`np.object` is a deprecated alias for the builtin `object`. To silence this warning, use `object` by itself. Doing this will not modify any behavior and is safe. \n",
      "Deprecated in NumPy 1.20; for more details and guidance: https://numpy.org/devdocs/release/1.20.0-notes.html#deprecations\n",
      "\n"
     ]
    },
    {
     "name": "stdout",
     "output_type": "stream",
     "text": [
      "2022-06-03 01:44:22,558 - root - INFO - Done preparing output\n",
      "2022-06-03 01:44:22,558 - kedro.io.data_catalog - INFO - Saving data to `resource_summary_table_20220601_decentral` (PartitionedDataSet)...\n"
     ]
    },
    {
     "name": "stderr",
     "output_type": "stream",
     "text": [
      "/Users/ejwillemse/dev/waste_labs_dev/project_rdi_cpt/src/mcarptif/visualise/route_tables.py:146: FutureWarning:\n",
      "\n",
      "The frame.append method is deprecated and will be removed from pandas in a future version. Use pandas.concat instead.\n",
      "\n"
     ]
    },
    {
     "name": "stdout",
     "output_type": "stream",
     "text": [
      "\n",
      "\n",
      " RUNNING SCENARIO households_078\n",
      "2022-06-03 01:44:23,055 - kedro.io.data_catalog - INFO - Loading data from `waste_gen_scenarios_local_20220601` (PartitionedDataSet)...\n",
      "2022-06-03 01:44:23,073 - kedro.io.data_catalog - INFO - Loading data from `routing_parameters` (ExcelDataSet)...\n",
      "2022-06-03 01:44:23,260 - root - INFO - Preparing road network.......\n",
      "\n",
      "2022-06-03 01:44:23,328 - root - INFO - Load required arcs\n",
      "2022-06-03 01:44:23,329 - root - INFO - Merging with the network\n",
      "2022-06-03 01:44:23,355 - root - INFO - Set depot\n",
      "2022-06-03 01:44:23,360 - root - INFO - Set offload facilities\n",
      "2022-06-03 01:44:23,372 - root - INFO - Extend required arcs with inverse edge arcs\n",
      "2022-06-03 01:44:23,471 - root - INFO - Checking master list\n"
     ]
    },
    {
     "name": "stderr",
     "output_type": "stream",
     "text": [
      "/Users/ejwillemse/opt/anaconda3/envs/python_RD/lib/python3.8/site-packages/tables/array.py:241: DeprecationWarning:\n",
      "\n",
      "`np.object` is a deprecated alias for the builtin `object`. To silence this warning, use `object` by itself. Doing this will not modify any behavior and is safe. \n",
      "Deprecated in NumPy 1.20; for more details and guidance: https://numpy.org/devdocs/release/1.20.0-notes.html#deprecations\n",
      "\n"
     ]
    },
    {
     "name": "stdout",
     "output_type": "stream",
     "text": [
      "2022-06-03 01:44:23,478 - root - INFO - Load distance matrix: 8128 x 8128\n"
     ]
    },
    {
     "name": "stderr",
     "output_type": "stream",
     "text": [
      "/Users/ejwillemse/opt/anaconda3/envs/python_RD/lib/python3.8/site-packages/tables/array.py:241: DeprecationWarning:\n",
      "\n",
      "`np.object` is a deprecated alias for the builtin `object`. To silence this warning, use `object` by itself. Doing this will not modify any behavior and is safe. \n",
      "Deprecated in NumPy 1.20; for more details and guidance: https://numpy.org/devdocs/release/1.20.0-notes.html#deprecations\n",
      "\n",
      "/Users/ejwillemse/opt/anaconda3/envs/python_RD/lib/python3.8/site-packages/tables/leaf.py:544: VisibleDeprecationWarning:\n",
      "\n",
      "Creating an ndarray from ragged nested sequences (which is a list-or-tuple of lists-or-tuples-or ndarrays with different lengths or shapes) is deprecated. If you meant to do this, you must specify 'dtype=object' when creating the ndarray.\n",
      "\n"
     ]
    },
    {
     "name": "stdout",
     "output_type": "stream",
     "text": [
      "2022-06-03 01:44:30,334 - root - INFO - Creating nearest neighbour lists\n",
      "2022-06-03 01:44:33,914 - root - INFO - Calculate offloads: 8128 x 8128 x 2\n",
      "2022-06-03 01:44:43,857 - root - INFO - Done!\n",
      "2022-06-03 01:44:43,902 - root - INFO - Uploading scenario inputs...\n",
      "2022-06-03 01:44:43,927 - root - INFO - Setting service cost for network\n",
      "2022-06-03 01:44:43,938 - root - INFO - Setting demand for network\n",
      "2022-06-03 01:44:43,948 - root - INFO - Update travel durations.\n",
      "2022-06-03 01:44:44,252 - root - INFO - Update offload durations.\n",
      "2022-06-03 01:44:44,683 - root - INFO - Done\n",
      "2022-06-03 01:44:44,684 - root - INFO - Problem info supplied. Directly proceeding to solve problem.\n",
      "2022-06-03 01:45:20,171 - root - INFO - Done generating routes\n",
      "Number of routes: 18\n",
      "2022-06-03 01:45:20,173 - root - INFO - Preparing scenario outputs...\n"
     ]
    },
    {
     "name": "stderr",
     "output_type": "stream",
     "text": [
      "/Users/ejwillemse/opt/anaconda3/envs/python_RD/lib/python3.8/site-packages/tables/array.py:241: DeprecationWarning:\n",
      "\n",
      "`np.object` is a deprecated alias for the builtin `object`. To silence this warning, use `object` by itself. Doing this will not modify any behavior and is safe. \n",
      "Deprecated in NumPy 1.20; for more details and guidance: https://numpy.org/devdocs/release/1.20.0-notes.html#deprecations\n",
      "\n"
     ]
    },
    {
     "name": "stdout",
     "output_type": "stream",
     "text": [
      "2022-06-03 01:45:30,296 - root - INFO - Done preparing output\n",
      "2022-06-03 01:45:30,298 - kedro.io.data_catalog - INFO - Saving data to `resource_summary_table_20220601_decentral` (PartitionedDataSet)...\n"
     ]
    },
    {
     "name": "stderr",
     "output_type": "stream",
     "text": [
      "/Users/ejwillemse/dev/waste_labs_dev/project_rdi_cpt/src/mcarptif/visualise/route_tables.py:146: FutureWarning:\n",
      "\n",
      "The frame.append method is deprecated and will be removed from pandas in a future version. Use pandas.concat instead.\n",
      "\n"
     ]
    },
    {
     "name": "stdout",
     "output_type": "stream",
     "text": [
      "\n",
      "\n",
      " RUNNING SCENARIO households_079\n",
      "2022-06-03 01:45:30,796 - kedro.io.data_catalog - INFO - Loading data from `waste_gen_scenarios_local_20220601` (PartitionedDataSet)...\n",
      "2022-06-03 01:45:30,818 - kedro.io.data_catalog - INFO - Loading data from `routing_parameters` (ExcelDataSet)...\n",
      "2022-06-03 01:45:31,004 - root - INFO - Preparing road network.......\n",
      "\n",
      "2022-06-03 01:45:31,063 - root - INFO - Load required arcs\n",
      "2022-06-03 01:45:31,065 - root - INFO - Merging with the network\n",
      "2022-06-03 01:45:31,093 - root - INFO - Set depot\n",
      "2022-06-03 01:45:31,096 - root - INFO - Set offload facilities\n",
      "2022-06-03 01:45:31,109 - root - INFO - Extend required arcs with inverse edge arcs\n",
      "2022-06-03 01:45:31,208 - root - INFO - Checking master list\n",
      "2022-06-03 01:45:31,213 - root - INFO - Load distance matrix: 8130 x 8130\n"
     ]
    },
    {
     "name": "stderr",
     "output_type": "stream",
     "text": [
      "/Users/ejwillemse/opt/anaconda3/envs/python_RD/lib/python3.8/site-packages/tables/array.py:241: DeprecationWarning:\n",
      "\n",
      "`np.object` is a deprecated alias for the builtin `object`. To silence this warning, use `object` by itself. Doing this will not modify any behavior and is safe. \n",
      "Deprecated in NumPy 1.20; for more details and guidance: https://numpy.org/devdocs/release/1.20.0-notes.html#deprecations\n",
      "\n",
      "/Users/ejwillemse/opt/anaconda3/envs/python_RD/lib/python3.8/site-packages/tables/array.py:241: DeprecationWarning:\n",
      "\n",
      "`np.object` is a deprecated alias for the builtin `object`. To silence this warning, use `object` by itself. Doing this will not modify any behavior and is safe. \n",
      "Deprecated in NumPy 1.20; for more details and guidance: https://numpy.org/devdocs/release/1.20.0-notes.html#deprecations\n",
      "\n",
      "/Users/ejwillemse/opt/anaconda3/envs/python_RD/lib/python3.8/site-packages/tables/leaf.py:544: VisibleDeprecationWarning:\n",
      "\n",
      "Creating an ndarray from ragged nested sequences (which is a list-or-tuple of lists-or-tuples-or ndarrays with different lengths or shapes) is deprecated. If you meant to do this, you must specify 'dtype=object' when creating the ndarray.\n",
      "\n"
     ]
    },
    {
     "name": "stdout",
     "output_type": "stream",
     "text": [
      "2022-06-03 01:45:38,199 - root - INFO - Creating nearest neighbour lists\n",
      "2022-06-03 01:45:41,793 - root - INFO - Calculate offloads: 8130 x 8130 x 2\n",
      "2022-06-03 01:45:51,411 - root - INFO - Done!\n",
      "2022-06-03 01:45:51,456 - root - INFO - Uploading scenario inputs...\n",
      "2022-06-03 01:45:51,487 - root - INFO - Setting service cost for network\n",
      "2022-06-03 01:45:51,498 - root - INFO - Setting demand for network\n",
      "2022-06-03 01:45:51,509 - root - INFO - Update travel durations.\n",
      "2022-06-03 01:45:51,829 - root - INFO - Update offload durations.\n",
      "2022-06-03 01:45:52,265 - root - INFO - Done\n",
      "2022-06-03 01:45:52,267 - root - INFO - Problem info supplied. Directly proceeding to solve problem.\n",
      "2022-06-03 01:46:28,067 - root - INFO - Done generating routes\n",
      "Number of routes: 18\n",
      "2022-06-03 01:46:28,068 - root - INFO - Preparing scenario outputs...\n"
     ]
    },
    {
     "name": "stderr",
     "output_type": "stream",
     "text": [
      "/Users/ejwillemse/opt/anaconda3/envs/python_RD/lib/python3.8/site-packages/tables/array.py:241: DeprecationWarning:\n",
      "\n",
      "`np.object` is a deprecated alias for the builtin `object`. To silence this warning, use `object` by itself. Doing this will not modify any behavior and is safe. \n",
      "Deprecated in NumPy 1.20; for more details and guidance: https://numpy.org/devdocs/release/1.20.0-notes.html#deprecations\n",
      "\n"
     ]
    },
    {
     "name": "stdout",
     "output_type": "stream",
     "text": [
      "2022-06-03 01:46:38,109 - root - INFO - Done preparing output\n",
      "2022-06-03 01:46:38,110 - kedro.io.data_catalog - INFO - Saving data to `resource_summary_table_20220601_decentral` (PartitionedDataSet)...\n"
     ]
    },
    {
     "name": "stderr",
     "output_type": "stream",
     "text": [
      "/Users/ejwillemse/dev/waste_labs_dev/project_rdi_cpt/src/mcarptif/visualise/route_tables.py:146: FutureWarning:\n",
      "\n",
      "The frame.append method is deprecated and will be removed from pandas in a future version. Use pandas.concat instead.\n",
      "\n"
     ]
    },
    {
     "name": "stdout",
     "output_type": "stream",
     "text": [
      "\n",
      "\n",
      " RUNNING SCENARIO households_080\n",
      "2022-06-03 01:46:38,612 - kedro.io.data_catalog - INFO - Loading data from `waste_gen_scenarios_local_20220601` (PartitionedDataSet)...\n",
      "2022-06-03 01:46:38,632 - kedro.io.data_catalog - INFO - Loading data from `routing_parameters` (ExcelDataSet)...\n",
      "2022-06-03 01:46:38,802 - root - INFO - Preparing road network.......\n",
      "\n",
      "2022-06-03 01:46:38,867 - root - INFO - Load required arcs\n",
      "2022-06-03 01:46:38,869 - root - INFO - Merging with the network\n",
      "2022-06-03 01:46:38,896 - root - INFO - Set depot\n",
      "2022-06-03 01:46:38,900 - root - INFO - Set offload facilities\n",
      "2022-06-03 01:46:38,911 - root - INFO - Extend required arcs with inverse edge arcs\n",
      "2022-06-03 01:46:39,011 - root - INFO - Checking master list\n"
     ]
    },
    {
     "name": "stderr",
     "output_type": "stream",
     "text": [
      "/Users/ejwillemse/opt/anaconda3/envs/python_RD/lib/python3.8/site-packages/tables/array.py:241: DeprecationWarning:\n",
      "\n",
      "`np.object` is a deprecated alias for the builtin `object`. To silence this warning, use `object` by itself. Doing this will not modify any behavior and is safe. \n",
      "Deprecated in NumPy 1.20; for more details and guidance: https://numpy.org/devdocs/release/1.20.0-notes.html#deprecations\n",
      "\n"
     ]
    },
    {
     "name": "stdout",
     "output_type": "stream",
     "text": [
      "2022-06-03 01:46:39,019 - root - INFO - Load distance matrix: 8147 x 8147\n"
     ]
    },
    {
     "name": "stderr",
     "output_type": "stream",
     "text": [
      "/Users/ejwillemse/opt/anaconda3/envs/python_RD/lib/python3.8/site-packages/tables/array.py:241: DeprecationWarning:\n",
      "\n",
      "`np.object` is a deprecated alias for the builtin `object`. To silence this warning, use `object` by itself. Doing this will not modify any behavior and is safe. \n",
      "Deprecated in NumPy 1.20; for more details and guidance: https://numpy.org/devdocs/release/1.20.0-notes.html#deprecations\n",
      "\n",
      "/Users/ejwillemse/opt/anaconda3/envs/python_RD/lib/python3.8/site-packages/tables/leaf.py:544: VisibleDeprecationWarning:\n",
      "\n",
      "Creating an ndarray from ragged nested sequences (which is a list-or-tuple of lists-or-tuples-or ndarrays with different lengths or shapes) is deprecated. If you meant to do this, you must specify 'dtype=object' when creating the ndarray.\n",
      "\n"
     ]
    },
    {
     "name": "stdout",
     "output_type": "stream",
     "text": [
      "2022-06-03 01:46:45,842 - root - INFO - Creating nearest neighbour lists\n",
      "2022-06-03 01:46:49,450 - root - INFO - Calculate offloads: 8147 x 8147 x 2\n",
      "2022-06-03 01:46:58,997 - root - INFO - Done!\n",
      "2022-06-03 01:46:59,041 - root - INFO - Uploading scenario inputs...\n",
      "2022-06-03 01:46:59,071 - root - INFO - Setting service cost for network\n",
      "2022-06-03 01:46:59,083 - root - INFO - Setting demand for network\n",
      "2022-06-03 01:46:59,094 - root - INFO - Update travel durations.\n",
      "2022-06-03 01:46:59,420 - root - INFO - Update offload durations.\n",
      "2022-06-03 01:46:59,857 - root - INFO - Done\n",
      "2022-06-03 01:46:59,858 - root - INFO - Problem info supplied. Directly proceeding to solve problem.\n",
      "2022-06-03 01:47:35,399 - root - INFO - Done generating routes\n",
      "Number of routes: 18\n",
      "2022-06-03 01:47:35,401 - root - INFO - Preparing scenario outputs...\n"
     ]
    },
    {
     "name": "stderr",
     "output_type": "stream",
     "text": [
      "/Users/ejwillemse/opt/anaconda3/envs/python_RD/lib/python3.8/site-packages/tables/array.py:241: DeprecationWarning:\n",
      "\n",
      "`np.object` is a deprecated alias for the builtin `object`. To silence this warning, use `object` by itself. Doing this will not modify any behavior and is safe. \n",
      "Deprecated in NumPy 1.20; for more details and guidance: https://numpy.org/devdocs/release/1.20.0-notes.html#deprecations\n",
      "\n"
     ]
    },
    {
     "name": "stdout",
     "output_type": "stream",
     "text": [
      "2022-06-03 01:47:45,393 - root - INFO - Done preparing output\n",
      "2022-06-03 01:47:45,394 - kedro.io.data_catalog - INFO - Saving data to `resource_summary_table_20220601_decentral` (PartitionedDataSet)...\n"
     ]
    },
    {
     "name": "stderr",
     "output_type": "stream",
     "text": [
      "/Users/ejwillemse/dev/waste_labs_dev/project_rdi_cpt/src/mcarptif/visualise/route_tables.py:146: FutureWarning:\n",
      "\n",
      "The frame.append method is deprecated and will be removed from pandas in a future version. Use pandas.concat instead.\n",
      "\n"
     ]
    },
    {
     "name": "stdout",
     "output_type": "stream",
     "text": [
      "\n",
      "\n",
      " RUNNING SCENARIO households_081\n",
      "2022-06-03 01:47:45,892 - kedro.io.data_catalog - INFO - Loading data from `waste_gen_scenarios_local_20220601` (PartitionedDataSet)...\n",
      "2022-06-03 01:47:45,911 - kedro.io.data_catalog - INFO - Loading data from `routing_parameters` (ExcelDataSet)...\n",
      "2022-06-03 01:47:46,087 - root - INFO - Preparing road network.......\n",
      "\n",
      "2022-06-03 01:47:46,149 - root - INFO - Load required arcs\n",
      "2022-06-03 01:47:46,151 - root - INFO - Merging with the network\n",
      "2022-06-03 01:47:46,178 - root - INFO - Set depot\n",
      "2022-06-03 01:47:46,181 - root - INFO - Set offload facilities\n",
      "2022-06-03 01:47:46,194 - root - INFO - Extend required arcs with inverse edge arcs\n",
      "2022-06-03 01:47:46,294 - root - INFO - Checking master list\n"
     ]
    },
    {
     "name": "stderr",
     "output_type": "stream",
     "text": [
      "/Users/ejwillemse/opt/anaconda3/envs/python_RD/lib/python3.8/site-packages/tables/array.py:241: DeprecationWarning:\n",
      "\n",
      "`np.object` is a deprecated alias for the builtin `object`. To silence this warning, use `object` by itself. Doing this will not modify any behavior and is safe. \n",
      "Deprecated in NumPy 1.20; for more details and guidance: https://numpy.org/devdocs/release/1.20.0-notes.html#deprecations\n",
      "\n"
     ]
    },
    {
     "name": "stdout",
     "output_type": "stream",
     "text": [
      "2022-06-03 01:47:46,300 - root - INFO - Load distance matrix: 8114 x 8114\n"
     ]
    },
    {
     "name": "stderr",
     "output_type": "stream",
     "text": [
      "/Users/ejwillemse/opt/anaconda3/envs/python_RD/lib/python3.8/site-packages/tables/array.py:241: DeprecationWarning:\n",
      "\n",
      "`np.object` is a deprecated alias for the builtin `object`. To silence this warning, use `object` by itself. Doing this will not modify any behavior and is safe. \n",
      "Deprecated in NumPy 1.20; for more details and guidance: https://numpy.org/devdocs/release/1.20.0-notes.html#deprecations\n",
      "\n",
      "/Users/ejwillemse/opt/anaconda3/envs/python_RD/lib/python3.8/site-packages/tables/leaf.py:544: VisibleDeprecationWarning:\n",
      "\n",
      "Creating an ndarray from ragged nested sequences (which is a list-or-tuple of lists-or-tuples-or ndarrays with different lengths or shapes) is deprecated. If you meant to do this, you must specify 'dtype=object' when creating the ndarray.\n",
      "\n"
     ]
    },
    {
     "name": "stdout",
     "output_type": "stream",
     "text": [
      "2022-06-03 01:47:54,143 - root - INFO - Creating nearest neighbour lists\n",
      "2022-06-03 01:47:58,002 - root - INFO - Calculate offloads: 8114 x 8114 x 2\n",
      "2022-06-03 01:48:07,816 - root - INFO - Done!\n",
      "2022-06-03 01:48:07,893 - root - INFO - Uploading scenario inputs...\n",
      "2022-06-03 01:48:07,926 - root - INFO - Setting service cost for network\n",
      "2022-06-03 01:48:07,938 - root - INFO - Setting demand for network\n",
      "2022-06-03 01:48:07,949 - root - INFO - Update travel durations.\n",
      "2022-06-03 01:48:08,252 - root - INFO - Update offload durations.\n",
      "2022-06-03 01:48:08,690 - root - INFO - Done\n",
      "2022-06-03 01:48:08,691 - root - INFO - Problem info supplied. Directly proceeding to solve problem.\n",
      "2022-06-03 01:48:43,808 - root - INFO - Done generating routes\n",
      "Number of routes: 18\n",
      "2022-06-03 01:48:43,809 - root - INFO - Preparing scenario outputs...\n"
     ]
    },
    {
     "name": "stderr",
     "output_type": "stream",
     "text": [
      "/Users/ejwillemse/opt/anaconda3/envs/python_RD/lib/python3.8/site-packages/tables/array.py:241: DeprecationWarning:\n",
      "\n",
      "`np.object` is a deprecated alias for the builtin `object`. To silence this warning, use `object` by itself. Doing this will not modify any behavior and is safe. \n",
      "Deprecated in NumPy 1.20; for more details and guidance: https://numpy.org/devdocs/release/1.20.0-notes.html#deprecations\n",
      "\n"
     ]
    },
    {
     "name": "stdout",
     "output_type": "stream",
     "text": [
      "2022-06-03 01:48:53,810 - root - INFO - Done preparing output\n",
      "2022-06-03 01:48:53,810 - kedro.io.data_catalog - INFO - Saving data to `resource_summary_table_20220601_decentral` (PartitionedDataSet)...\n"
     ]
    },
    {
     "name": "stderr",
     "output_type": "stream",
     "text": [
      "/Users/ejwillemse/dev/waste_labs_dev/project_rdi_cpt/src/mcarptif/visualise/route_tables.py:146: FutureWarning:\n",
      "\n",
      "The frame.append method is deprecated and will be removed from pandas in a future version. Use pandas.concat instead.\n",
      "\n"
     ]
    },
    {
     "name": "stdout",
     "output_type": "stream",
     "text": [
      "\n",
      "\n",
      " RUNNING SCENARIO households_082\n",
      "2022-06-03 01:48:54,306 - kedro.io.data_catalog - INFO - Loading data from `waste_gen_scenarios_local_20220601` (PartitionedDataSet)...\n",
      "2022-06-03 01:48:54,325 - kedro.io.data_catalog - INFO - Loading data from `routing_parameters` (ExcelDataSet)...\n",
      "2022-06-03 01:48:54,495 - root - INFO - Preparing road network.......\n",
      "\n",
      "2022-06-03 01:48:54,562 - root - INFO - Load required arcs\n",
      "2022-06-03 01:48:54,563 - root - INFO - Merging with the network\n",
      "2022-06-03 01:48:54,591 - root - INFO - Set depot\n",
      "2022-06-03 01:48:54,594 - root - INFO - Set offload facilities\n",
      "2022-06-03 01:48:54,605 - root - INFO - Extend required arcs with inverse edge arcs\n",
      "2022-06-03 01:48:54,702 - root - INFO - Checking master list\n"
     ]
    },
    {
     "name": "stderr",
     "output_type": "stream",
     "text": [
      "/Users/ejwillemse/opt/anaconda3/envs/python_RD/lib/python3.8/site-packages/tables/array.py:241: DeprecationWarning:\n",
      "\n",
      "`np.object` is a deprecated alias for the builtin `object`. To silence this warning, use `object` by itself. Doing this will not modify any behavior and is safe. \n",
      "Deprecated in NumPy 1.20; for more details and guidance: https://numpy.org/devdocs/release/1.20.0-notes.html#deprecations\n",
      "\n"
     ]
    },
    {
     "name": "stdout",
     "output_type": "stream",
     "text": [
      "2022-06-03 01:48:54,711 - root - INFO - Load distance matrix: 8123 x 8123\n"
     ]
    },
    {
     "name": "stderr",
     "output_type": "stream",
     "text": [
      "/Users/ejwillemse/opt/anaconda3/envs/python_RD/lib/python3.8/site-packages/tables/array.py:241: DeprecationWarning:\n",
      "\n",
      "`np.object` is a deprecated alias for the builtin `object`. To silence this warning, use `object` by itself. Doing this will not modify any behavior and is safe. \n",
      "Deprecated in NumPy 1.20; for more details and guidance: https://numpy.org/devdocs/release/1.20.0-notes.html#deprecations\n",
      "\n",
      "/Users/ejwillemse/opt/anaconda3/envs/python_RD/lib/python3.8/site-packages/tables/leaf.py:544: VisibleDeprecationWarning:\n",
      "\n",
      "Creating an ndarray from ragged nested sequences (which is a list-or-tuple of lists-or-tuples-or ndarrays with different lengths or shapes) is deprecated. If you meant to do this, you must specify 'dtype=object' when creating the ndarray.\n",
      "\n"
     ]
    },
    {
     "name": "stdout",
     "output_type": "stream",
     "text": [
      "2022-06-03 01:49:01,656 - root - INFO - Creating nearest neighbour lists\n",
      "2022-06-03 01:49:05,173 - root - INFO - Calculate offloads: 8123 x 8123 x 2\n",
      "2022-06-03 01:49:14,278 - root - INFO - Done!\n",
      "2022-06-03 01:49:14,323 - root - INFO - Uploading scenario inputs...\n",
      "2022-06-03 01:49:14,349 - root - INFO - Setting service cost for network\n",
      "2022-06-03 01:49:14,360 - root - INFO - Setting demand for network\n",
      "2022-06-03 01:49:14,371 - root - INFO - Update travel durations.\n",
      "2022-06-03 01:49:14,708 - root - INFO - Update offload durations.\n",
      "2022-06-03 01:49:15,139 - root - INFO - Done\n",
      "2022-06-03 01:49:15,140 - root - INFO - Problem info supplied. Directly proceeding to solve problem.\n",
      "2022-06-03 01:49:50,637 - root - INFO - Done generating routes\n",
      "Number of routes: 18\n",
      "2022-06-03 01:49:50,639 - root - INFO - Preparing scenario outputs...\n"
     ]
    },
    {
     "name": "stderr",
     "output_type": "stream",
     "text": [
      "/Users/ejwillemse/opt/anaconda3/envs/python_RD/lib/python3.8/site-packages/tables/array.py:241: DeprecationWarning:\n",
      "\n",
      "`np.object` is a deprecated alias for the builtin `object`. To silence this warning, use `object` by itself. Doing this will not modify any behavior and is safe. \n",
      "Deprecated in NumPy 1.20; for more details and guidance: https://numpy.org/devdocs/release/1.20.0-notes.html#deprecations\n",
      "\n"
     ]
    },
    {
     "name": "stdout",
     "output_type": "stream",
     "text": [
      "2022-06-03 01:50:00,656 - root - INFO - Done preparing output\n",
      "2022-06-03 01:50:00,657 - kedro.io.data_catalog - INFO - Saving data to `resource_summary_table_20220601_decentral` (PartitionedDataSet)...\n"
     ]
    },
    {
     "name": "stderr",
     "output_type": "stream",
     "text": [
      "/Users/ejwillemse/dev/waste_labs_dev/project_rdi_cpt/src/mcarptif/visualise/route_tables.py:146: FutureWarning:\n",
      "\n",
      "The frame.append method is deprecated and will be removed from pandas in a future version. Use pandas.concat instead.\n",
      "\n"
     ]
    },
    {
     "name": "stdout",
     "output_type": "stream",
     "text": [
      "\n",
      "\n",
      " RUNNING SCENARIO households_083\n",
      "2022-06-03 01:50:01,162 - kedro.io.data_catalog - INFO - Loading data from `waste_gen_scenarios_local_20220601` (PartitionedDataSet)...\n",
      "2022-06-03 01:50:01,181 - kedro.io.data_catalog - INFO - Loading data from `routing_parameters` (ExcelDataSet)...\n",
      "2022-06-03 01:50:01,349 - root - INFO - Preparing road network.......\n",
      "\n",
      "2022-06-03 01:50:01,413 - root - INFO - Load required arcs\n",
      "2022-06-03 01:50:01,415 - root - INFO - Merging with the network\n",
      "2022-06-03 01:50:01,442 - root - INFO - Set depot\n",
      "2022-06-03 01:50:01,447 - root - INFO - Set offload facilities\n",
      "2022-06-03 01:50:01,460 - root - INFO - Extend required arcs with inverse edge arcs\n",
      "2022-06-03 01:50:01,560 - root - INFO - Checking master list\n"
     ]
    },
    {
     "name": "stderr",
     "output_type": "stream",
     "text": [
      "/Users/ejwillemse/opt/anaconda3/envs/python_RD/lib/python3.8/site-packages/tables/array.py:241: DeprecationWarning:\n",
      "\n",
      "`np.object` is a deprecated alias for the builtin `object`. To silence this warning, use `object` by itself. Doing this will not modify any behavior and is safe. \n",
      "Deprecated in NumPy 1.20; for more details and guidance: https://numpy.org/devdocs/release/1.20.0-notes.html#deprecations\n",
      "\n"
     ]
    },
    {
     "name": "stdout",
     "output_type": "stream",
     "text": [
      "2022-06-03 01:50:01,566 - root - INFO - Load distance matrix: 8120 x 8120\n"
     ]
    },
    {
     "name": "stderr",
     "output_type": "stream",
     "text": [
      "/Users/ejwillemse/opt/anaconda3/envs/python_RD/lib/python3.8/site-packages/tables/array.py:241: DeprecationWarning:\n",
      "\n",
      "`np.object` is a deprecated alias for the builtin `object`. To silence this warning, use `object` by itself. Doing this will not modify any behavior and is safe. \n",
      "Deprecated in NumPy 1.20; for more details and guidance: https://numpy.org/devdocs/release/1.20.0-notes.html#deprecations\n",
      "\n",
      "/Users/ejwillemse/opt/anaconda3/envs/python_RD/lib/python3.8/site-packages/tables/leaf.py:544: VisibleDeprecationWarning:\n",
      "\n",
      "Creating an ndarray from ragged nested sequences (which is a list-or-tuple of lists-or-tuples-or ndarrays with different lengths or shapes) is deprecated. If you meant to do this, you must specify 'dtype=object' when creating the ndarray.\n",
      "\n"
     ]
    },
    {
     "name": "stdout",
     "output_type": "stream",
     "text": [
      "2022-06-03 01:50:08,638 - root - INFO - Creating nearest neighbour lists\n",
      "2022-06-03 01:50:12,184 - root - INFO - Calculate offloads: 8120 x 8120 x 2\n",
      "2022-06-03 01:50:20,627 - root - INFO - Done!\n",
      "2022-06-03 01:50:20,672 - root - INFO - Uploading scenario inputs...\n",
      "2022-06-03 01:50:20,698 - root - INFO - Setting service cost for network\n",
      "2022-06-03 01:50:20,708 - root - INFO - Setting demand for network\n",
      "2022-06-03 01:50:20,720 - root - INFO - Update travel durations.\n",
      "2022-06-03 01:50:21,017 - root - INFO - Update offload durations.\n",
      "2022-06-03 01:50:21,445 - root - INFO - Done\n",
      "2022-06-03 01:50:21,446 - root - INFO - Problem info supplied. Directly proceeding to solve problem.\n",
      "2022-06-03 01:50:57,830 - root - INFO - Done generating routes\n",
      "Number of routes: 18\n",
      "2022-06-03 01:50:57,831 - root - INFO - Preparing scenario outputs...\n"
     ]
    },
    {
     "name": "stderr",
     "output_type": "stream",
     "text": [
      "/Users/ejwillemse/opt/anaconda3/envs/python_RD/lib/python3.8/site-packages/tables/array.py:241: DeprecationWarning:\n",
      "\n",
      "`np.object` is a deprecated alias for the builtin `object`. To silence this warning, use `object` by itself. Doing this will not modify any behavior and is safe. \n",
      "Deprecated in NumPy 1.20; for more details and guidance: https://numpy.org/devdocs/release/1.20.0-notes.html#deprecations\n",
      "\n"
     ]
    },
    {
     "name": "stdout",
     "output_type": "stream",
     "text": [
      "2022-06-03 01:51:07,611 - root - INFO - Done preparing output\n",
      "2022-06-03 01:51:07,612 - kedro.io.data_catalog - INFO - Saving data to `resource_summary_table_20220601_decentral` (PartitionedDataSet)...\n"
     ]
    },
    {
     "name": "stderr",
     "output_type": "stream",
     "text": [
      "/Users/ejwillemse/dev/waste_labs_dev/project_rdi_cpt/src/mcarptif/visualise/route_tables.py:146: FutureWarning:\n",
      "\n",
      "The frame.append method is deprecated and will be removed from pandas in a future version. Use pandas.concat instead.\n",
      "\n"
     ]
    },
    {
     "name": "stdout",
     "output_type": "stream",
     "text": [
      "\n",
      "\n",
      " RUNNING SCENARIO households_084\n",
      "2022-06-03 01:51:08,096 - kedro.io.data_catalog - INFO - Loading data from `waste_gen_scenarios_local_20220601` (PartitionedDataSet)...\n",
      "2022-06-03 01:51:08,114 - kedro.io.data_catalog - INFO - Loading data from `routing_parameters` (ExcelDataSet)...\n",
      "2022-06-03 01:51:08,287 - root - INFO - Preparing road network.......\n",
      "\n",
      "2022-06-03 01:51:08,351 - root - INFO - Load required arcs\n",
      "2022-06-03 01:51:08,353 - root - INFO - Merging with the network\n",
      "2022-06-03 01:51:08,379 - root - INFO - Set depot\n",
      "2022-06-03 01:51:08,383 - root - INFO - Set offload facilities\n",
      "2022-06-03 01:51:08,393 - root - INFO - Extend required arcs with inverse edge arcs\n",
      "2022-06-03 01:51:08,493 - root - INFO - Checking master list\n"
     ]
    },
    {
     "name": "stderr",
     "output_type": "stream",
     "text": [
      "/Users/ejwillemse/opt/anaconda3/envs/python_RD/lib/python3.8/site-packages/tables/array.py:241: DeprecationWarning:\n",
      "\n",
      "`np.object` is a deprecated alias for the builtin `object`. To silence this warning, use `object` by itself. Doing this will not modify any behavior and is safe. \n",
      "Deprecated in NumPy 1.20; for more details and guidance: https://numpy.org/devdocs/release/1.20.0-notes.html#deprecations\n",
      "\n"
     ]
    },
    {
     "name": "stdout",
     "output_type": "stream",
     "text": [
      "2022-06-03 01:51:08,502 - root - INFO - Load distance matrix: 8167 x 8167\n"
     ]
    },
    {
     "name": "stderr",
     "output_type": "stream",
     "text": [
      "/Users/ejwillemse/opt/anaconda3/envs/python_RD/lib/python3.8/site-packages/tables/array.py:241: DeprecationWarning:\n",
      "\n",
      "`np.object` is a deprecated alias for the builtin `object`. To silence this warning, use `object` by itself. Doing this will not modify any behavior and is safe. \n",
      "Deprecated in NumPy 1.20; for more details and guidance: https://numpy.org/devdocs/release/1.20.0-notes.html#deprecations\n",
      "\n",
      "/Users/ejwillemse/opt/anaconda3/envs/python_RD/lib/python3.8/site-packages/tables/leaf.py:544: VisibleDeprecationWarning:\n",
      "\n",
      "Creating an ndarray from ragged nested sequences (which is a list-or-tuple of lists-or-tuples-or ndarrays with different lengths or shapes) is deprecated. If you meant to do this, you must specify 'dtype=object' when creating the ndarray.\n",
      "\n"
     ]
    },
    {
     "name": "stdout",
     "output_type": "stream",
     "text": [
      "2022-06-03 01:51:15,989 - root - INFO - Creating nearest neighbour lists\n",
      "2022-06-03 01:51:19,654 - root - INFO - Calculate offloads: 8167 x 8167 x 2\n",
      "2022-06-03 01:51:30,488 - root - INFO - Done!\n",
      "2022-06-03 01:51:30,567 - root - INFO - Uploading scenario inputs...\n",
      "2022-06-03 01:51:30,599 - root - INFO - Setting service cost for network\n",
      "2022-06-03 01:51:30,610 - root - INFO - Setting demand for network\n",
      "2022-06-03 01:51:30,623 - root - INFO - Update travel durations.\n",
      "2022-06-03 01:51:30,931 - root - INFO - Update offload durations.\n",
      "2022-06-03 01:51:31,379 - root - INFO - Done\n",
      "2022-06-03 01:51:31,380 - root - INFO - Problem info supplied. Directly proceeding to solve problem.\n",
      "2022-06-03 01:52:07,569 - root - INFO - Done generating routes\n",
      "Number of routes: 18\n",
      "2022-06-03 01:52:07,570 - root - INFO - Preparing scenario outputs...\n"
     ]
    },
    {
     "name": "stderr",
     "output_type": "stream",
     "text": [
      "/Users/ejwillemse/opt/anaconda3/envs/python_RD/lib/python3.8/site-packages/tables/array.py:241: DeprecationWarning:\n",
      "\n",
      "`np.object` is a deprecated alias for the builtin `object`. To silence this warning, use `object` by itself. Doing this will not modify any behavior and is safe. \n",
      "Deprecated in NumPy 1.20; for more details and guidance: https://numpy.org/devdocs/release/1.20.0-notes.html#deprecations\n",
      "\n"
     ]
    },
    {
     "name": "stdout",
     "output_type": "stream",
     "text": [
      "2022-06-03 01:52:17,584 - root - INFO - Done preparing output\n",
      "2022-06-03 01:52:17,585 - kedro.io.data_catalog - INFO - Saving data to `resource_summary_table_20220601_decentral` (PartitionedDataSet)...\n"
     ]
    },
    {
     "name": "stderr",
     "output_type": "stream",
     "text": [
      "/Users/ejwillemse/dev/waste_labs_dev/project_rdi_cpt/src/mcarptif/visualise/route_tables.py:146: FutureWarning:\n",
      "\n",
      "The frame.append method is deprecated and will be removed from pandas in a future version. Use pandas.concat instead.\n",
      "\n"
     ]
    },
    {
     "name": "stdout",
     "output_type": "stream",
     "text": [
      "\n",
      "\n",
      " RUNNING SCENARIO households_085\n",
      "2022-06-03 01:52:18,078 - kedro.io.data_catalog - INFO - Loading data from `waste_gen_scenarios_local_20220601` (PartitionedDataSet)...\n",
      "2022-06-03 01:52:18,098 - kedro.io.data_catalog - INFO - Loading data from `routing_parameters` (ExcelDataSet)...\n",
      "2022-06-03 01:52:18,274 - root - INFO - Preparing road network.......\n",
      "\n",
      "2022-06-03 01:52:18,339 - root - INFO - Load required arcs\n",
      "2022-06-03 01:52:18,341 - root - INFO - Merging with the network\n",
      "2022-06-03 01:52:18,367 - root - INFO - Set depot\n",
      "2022-06-03 01:52:18,372 - root - INFO - Set offload facilities\n",
      "2022-06-03 01:52:18,383 - root - INFO - Extend required arcs with inverse edge arcs\n",
      "2022-06-03 01:52:18,482 - root - INFO - Checking master list\n"
     ]
    },
    {
     "name": "stderr",
     "output_type": "stream",
     "text": [
      "/Users/ejwillemse/opt/anaconda3/envs/python_RD/lib/python3.8/site-packages/tables/array.py:241: DeprecationWarning:\n",
      "\n",
      "`np.object` is a deprecated alias for the builtin `object`. To silence this warning, use `object` by itself. Doing this will not modify any behavior and is safe. \n",
      "Deprecated in NumPy 1.20; for more details and guidance: https://numpy.org/devdocs/release/1.20.0-notes.html#deprecations\n",
      "\n"
     ]
    },
    {
     "name": "stdout",
     "output_type": "stream",
     "text": [
      "2022-06-03 01:52:18,491 - root - INFO - Load distance matrix: 8130 x 8130\n"
     ]
    },
    {
     "name": "stderr",
     "output_type": "stream",
     "text": [
      "/Users/ejwillemse/opt/anaconda3/envs/python_RD/lib/python3.8/site-packages/tables/array.py:241: DeprecationWarning:\n",
      "\n",
      "`np.object` is a deprecated alias for the builtin `object`. To silence this warning, use `object` by itself. Doing this will not modify any behavior and is safe. \n",
      "Deprecated in NumPy 1.20; for more details and guidance: https://numpy.org/devdocs/release/1.20.0-notes.html#deprecations\n",
      "\n",
      "/Users/ejwillemse/opt/anaconda3/envs/python_RD/lib/python3.8/site-packages/tables/leaf.py:544: VisibleDeprecationWarning:\n",
      "\n",
      "Creating an ndarray from ragged nested sequences (which is a list-or-tuple of lists-or-tuples-or ndarrays with different lengths or shapes) is deprecated. If you meant to do this, you must specify 'dtype=object' when creating the ndarray.\n",
      "\n"
     ]
    },
    {
     "name": "stdout",
     "output_type": "stream",
     "text": [
      "2022-06-03 01:52:25,489 - root - INFO - Creating nearest neighbour lists\n",
      "2022-06-03 01:52:29,349 - root - INFO - Calculate offloads: 8130 x 8130 x 2\n",
      "2022-06-03 01:52:38,584 - root - INFO - Done!\n",
      "2022-06-03 01:52:38,669 - root - INFO - Uploading scenario inputs...\n",
      "2022-06-03 01:52:38,697 - root - INFO - Setting service cost for network\n",
      "2022-06-03 01:52:38,708 - root - INFO - Setting demand for network\n",
      "2022-06-03 01:52:38,719 - root - INFO - Update travel durations.\n",
      "2022-06-03 01:52:39,032 - root - INFO - Update offload durations.\n",
      "2022-06-03 01:52:39,471 - root - INFO - Done\n",
      "2022-06-03 01:52:39,472 - root - INFO - Problem info supplied. Directly proceeding to solve problem.\n",
      "2022-06-03 01:53:14,941 - root - INFO - Done generating routes\n",
      "Number of routes: 18\n",
      "2022-06-03 01:53:14,943 - root - INFO - Preparing scenario outputs...\n"
     ]
    },
    {
     "name": "stderr",
     "output_type": "stream",
     "text": [
      "/Users/ejwillemse/opt/anaconda3/envs/python_RD/lib/python3.8/site-packages/tables/array.py:241: DeprecationWarning:\n",
      "\n",
      "`np.object` is a deprecated alias for the builtin `object`. To silence this warning, use `object` by itself. Doing this will not modify any behavior and is safe. \n",
      "Deprecated in NumPy 1.20; for more details and guidance: https://numpy.org/devdocs/release/1.20.0-notes.html#deprecations\n",
      "\n"
     ]
    },
    {
     "name": "stdout",
     "output_type": "stream",
     "text": [
      "2022-06-03 01:53:25,030 - root - INFO - Done preparing output\n",
      "2022-06-03 01:53:25,031 - kedro.io.data_catalog - INFO - Saving data to `resource_summary_table_20220601_decentral` (PartitionedDataSet)...\n"
     ]
    },
    {
     "name": "stderr",
     "output_type": "stream",
     "text": [
      "/Users/ejwillemse/dev/waste_labs_dev/project_rdi_cpt/src/mcarptif/visualise/route_tables.py:146: FutureWarning:\n",
      "\n",
      "The frame.append method is deprecated and will be removed from pandas in a future version. Use pandas.concat instead.\n",
      "\n"
     ]
    },
    {
     "name": "stdout",
     "output_type": "stream",
     "text": [
      "\n",
      "\n",
      " RUNNING SCENARIO households_086\n",
      "2022-06-03 01:53:25,554 - kedro.io.data_catalog - INFO - Loading data from `waste_gen_scenarios_local_20220601` (PartitionedDataSet)...\n",
      "2022-06-03 01:53:25,577 - kedro.io.data_catalog - INFO - Loading data from `routing_parameters` (ExcelDataSet)...\n",
      "2022-06-03 01:53:25,770 - root - INFO - Preparing road network.......\n",
      "\n",
      "2022-06-03 01:53:25,841 - root - INFO - Load required arcs\n",
      "2022-06-03 01:53:25,843 - root - INFO - Merging with the network\n",
      "2022-06-03 01:53:25,870 - root - INFO - Set depot\n",
      "2022-06-03 01:53:25,874 - root - INFO - Set offload facilities\n",
      "2022-06-03 01:53:25,888 - root - INFO - Extend required arcs with inverse edge arcs\n"
     ]
    },
    {
     "name": "stderr",
     "output_type": "stream",
     "text": [
      "/Users/ejwillemse/opt/anaconda3/envs/python_RD/lib/python3.8/site-packages/tables/array.py:241: DeprecationWarning:\n",
      "\n",
      "`np.object` is a deprecated alias for the builtin `object`. To silence this warning, use `object` by itself. Doing this will not modify any behavior and is safe. \n",
      "Deprecated in NumPy 1.20; for more details and guidance: https://numpy.org/devdocs/release/1.20.0-notes.html#deprecations\n",
      "\n"
     ]
    },
    {
     "name": "stdout",
     "output_type": "stream",
     "text": [
      "2022-06-03 01:53:26,013 - root - INFO - Checking master list\n",
      "2022-06-03 01:53:26,020 - root - INFO - Load distance matrix: 8137 x 8137\n"
     ]
    },
    {
     "name": "stderr",
     "output_type": "stream",
     "text": [
      "/Users/ejwillemse/opt/anaconda3/envs/python_RD/lib/python3.8/site-packages/tables/array.py:241: DeprecationWarning:\n",
      "\n",
      "`np.object` is a deprecated alias for the builtin `object`. To silence this warning, use `object` by itself. Doing this will not modify any behavior and is safe. \n",
      "Deprecated in NumPy 1.20; for more details and guidance: https://numpy.org/devdocs/release/1.20.0-notes.html#deprecations\n",
      "\n",
      "/Users/ejwillemse/opt/anaconda3/envs/python_RD/lib/python3.8/site-packages/tables/leaf.py:544: VisibleDeprecationWarning:\n",
      "\n",
      "Creating an ndarray from ragged nested sequences (which is a list-or-tuple of lists-or-tuples-or ndarrays with different lengths or shapes) is deprecated. If you meant to do this, you must specify 'dtype=object' when creating the ndarray.\n",
      "\n"
     ]
    },
    {
     "name": "stdout",
     "output_type": "stream",
     "text": [
      "2022-06-03 01:53:33,580 - root - INFO - Creating nearest neighbour lists\n",
      "2022-06-03 01:53:37,252 - root - INFO - Calculate offloads: 8137 x 8137 x 2\n",
      "2022-06-03 01:53:46,437 - root - INFO - Done!\n",
      "2022-06-03 01:53:46,482 - root - INFO - Uploading scenario inputs...\n",
      "2022-06-03 01:53:46,506 - root - INFO - Setting service cost for network\n",
      "2022-06-03 01:53:46,519 - root - INFO - Setting demand for network\n",
      "2022-06-03 01:53:46,531 - root - INFO - Update travel durations.\n",
      "2022-06-03 01:53:46,833 - root - INFO - Update offload durations.\n",
      "2022-06-03 01:53:47,271 - root - INFO - Done\n",
      "2022-06-03 01:53:47,272 - root - INFO - Problem info supplied. Directly proceeding to solve problem.\n",
      "2022-06-03 01:54:22,154 - root - INFO - Done generating routes\n",
      "Number of routes: 18\n",
      "2022-06-03 01:54:22,155 - root - INFO - Preparing scenario outputs...\n"
     ]
    },
    {
     "name": "stderr",
     "output_type": "stream",
     "text": [
      "/Users/ejwillemse/opt/anaconda3/envs/python_RD/lib/python3.8/site-packages/tables/array.py:241: DeprecationWarning:\n",
      "\n",
      "`np.object` is a deprecated alias for the builtin `object`. To silence this warning, use `object` by itself. Doing this will not modify any behavior and is safe. \n",
      "Deprecated in NumPy 1.20; for more details and guidance: https://numpy.org/devdocs/release/1.20.0-notes.html#deprecations\n",
      "\n"
     ]
    },
    {
     "name": "stdout",
     "output_type": "stream",
     "text": [
      "2022-06-03 01:54:32,339 - root - INFO - Done preparing output\n",
      "2022-06-03 01:54:32,340 - kedro.io.data_catalog - INFO - Saving data to `resource_summary_table_20220601_decentral` (PartitionedDataSet)...\n"
     ]
    },
    {
     "name": "stderr",
     "output_type": "stream",
     "text": [
      "/Users/ejwillemse/dev/waste_labs_dev/project_rdi_cpt/src/mcarptif/visualise/route_tables.py:146: FutureWarning:\n",
      "\n",
      "The frame.append method is deprecated and will be removed from pandas in a future version. Use pandas.concat instead.\n",
      "\n"
     ]
    },
    {
     "name": "stdout",
     "output_type": "stream",
     "text": [
      "\n",
      "\n",
      " RUNNING SCENARIO households_087\n",
      "2022-06-03 01:54:32,839 - kedro.io.data_catalog - INFO - Loading data from `waste_gen_scenarios_local_20220601` (PartitionedDataSet)...\n",
      "2022-06-03 01:54:32,857 - kedro.io.data_catalog - INFO - Loading data from `routing_parameters` (ExcelDataSet)...\n",
      "2022-06-03 01:54:33,039 - root - INFO - Preparing road network.......\n",
      "\n",
      "2022-06-03 01:54:33,101 - root - INFO - Load required arcs\n",
      "2022-06-03 01:54:33,103 - root - INFO - Merging with the network\n",
      "2022-06-03 01:54:33,131 - root - INFO - Set depot\n",
      "2022-06-03 01:54:33,135 - root - INFO - Set offload facilities\n",
      "2022-06-03 01:54:33,147 - root - INFO - Extend required arcs with inverse edge arcs\n"
     ]
    },
    {
     "name": "stderr",
     "output_type": "stream",
     "text": [
      "/Users/ejwillemse/opt/anaconda3/envs/python_RD/lib/python3.8/site-packages/tables/array.py:241: DeprecationWarning:\n",
      "\n",
      "`np.object` is a deprecated alias for the builtin `object`. To silence this warning, use `object` by itself. Doing this will not modify any behavior and is safe. \n",
      "Deprecated in NumPy 1.20; for more details and guidance: https://numpy.org/devdocs/release/1.20.0-notes.html#deprecations\n",
      "\n"
     ]
    },
    {
     "name": "stdout",
     "output_type": "stream",
     "text": [
      "2022-06-03 01:54:33,523 - root - INFO - Checking master list\n",
      "2022-06-03 01:54:33,603 - root - INFO - Load distance matrix: 8145 x 8145\n"
     ]
    },
    {
     "name": "stderr",
     "output_type": "stream",
     "text": [
      "/Users/ejwillemse/opt/anaconda3/envs/python_RD/lib/python3.8/site-packages/tables/array.py:241: DeprecationWarning:\n",
      "\n",
      "`np.object` is a deprecated alias for the builtin `object`. To silence this warning, use `object` by itself. Doing this will not modify any behavior and is safe. \n",
      "Deprecated in NumPy 1.20; for more details and guidance: https://numpy.org/devdocs/release/1.20.0-notes.html#deprecations\n",
      "\n",
      "/Users/ejwillemse/opt/anaconda3/envs/python_RD/lib/python3.8/site-packages/tables/leaf.py:544: VisibleDeprecationWarning:\n",
      "\n",
      "Creating an ndarray from ragged nested sequences (which is a list-or-tuple of lists-or-tuples-or ndarrays with different lengths or shapes) is deprecated. If you meant to do this, you must specify 'dtype=object' when creating the ndarray.\n",
      "\n"
     ]
    },
    {
     "name": "stdout",
     "output_type": "stream",
     "text": [
      "2022-06-03 01:54:40,745 - root - INFO - Creating nearest neighbour lists\n",
      "2022-06-03 01:54:44,344 - root - INFO - Calculate offloads: 8145 x 8145 x 2\n",
      "2022-06-03 01:54:53,845 - root - INFO - Done!\n",
      "2022-06-03 01:54:53,888 - root - INFO - Uploading scenario inputs...\n",
      "2022-06-03 01:54:53,912 - root - INFO - Setting service cost for network\n",
      "2022-06-03 01:54:53,922 - root - INFO - Setting demand for network\n",
      "2022-06-03 01:54:53,936 - root - INFO - Update travel durations.\n",
      "2022-06-03 01:54:54,237 - root - INFO - Update offload durations.\n",
      "2022-06-03 01:54:54,672 - root - INFO - Done\n",
      "2022-06-03 01:54:54,673 - root - INFO - Problem info supplied. Directly proceeding to solve problem.\n",
      "2022-06-03 01:55:29,851 - root - INFO - Done generating routes\n",
      "Number of routes: 18\n",
      "2022-06-03 01:55:29,853 - root - INFO - Preparing scenario outputs...\n"
     ]
    },
    {
     "name": "stderr",
     "output_type": "stream",
     "text": [
      "/Users/ejwillemse/opt/anaconda3/envs/python_RD/lib/python3.8/site-packages/tables/array.py:241: DeprecationWarning:\n",
      "\n",
      "`np.object` is a deprecated alias for the builtin `object`. To silence this warning, use `object` by itself. Doing this will not modify any behavior and is safe. \n",
      "Deprecated in NumPy 1.20; for more details and guidance: https://numpy.org/devdocs/release/1.20.0-notes.html#deprecations\n",
      "\n"
     ]
    },
    {
     "name": "stdout",
     "output_type": "stream",
     "text": [
      "2022-06-03 01:55:39,928 - root - INFO - Done preparing output\n",
      "2022-06-03 01:55:39,929 - kedro.io.data_catalog - INFO - Saving data to `resource_summary_table_20220601_decentral` (PartitionedDataSet)...\n"
     ]
    },
    {
     "name": "stderr",
     "output_type": "stream",
     "text": [
      "/Users/ejwillemse/dev/waste_labs_dev/project_rdi_cpt/src/mcarptif/visualise/route_tables.py:146: FutureWarning:\n",
      "\n",
      "The frame.append method is deprecated and will be removed from pandas in a future version. Use pandas.concat instead.\n",
      "\n"
     ]
    },
    {
     "name": "stdout",
     "output_type": "stream",
     "text": [
      "\n",
      "\n",
      " RUNNING SCENARIO households_088\n",
      "2022-06-03 01:55:40,425 - kedro.io.data_catalog - INFO - Loading data from `waste_gen_scenarios_local_20220601` (PartitionedDataSet)...\n",
      "2022-06-03 01:55:40,444 - kedro.io.data_catalog - INFO - Loading data from `routing_parameters` (ExcelDataSet)...\n",
      "2022-06-03 01:55:40,616 - root - INFO - Preparing road network.......\n",
      "\n",
      "2022-06-03 01:55:40,683 - root - INFO - Load required arcs\n",
      "2022-06-03 01:55:40,684 - root - INFO - Merging with the network\n",
      "2022-06-03 01:55:40,711 - root - INFO - Set depot\n",
      "2022-06-03 01:55:40,714 - root - INFO - Set offload facilities\n",
      "2022-06-03 01:55:40,725 - root - INFO - Extend required arcs with inverse edge arcs\n",
      "2022-06-03 01:55:40,822 - root - INFO - Checking master list\n"
     ]
    },
    {
     "name": "stderr",
     "output_type": "stream",
     "text": [
      "/Users/ejwillemse/opt/anaconda3/envs/python_RD/lib/python3.8/site-packages/tables/array.py:241: DeprecationWarning:\n",
      "\n",
      "`np.object` is a deprecated alias for the builtin `object`. To silence this warning, use `object` by itself. Doing this will not modify any behavior and is safe. \n",
      "Deprecated in NumPy 1.20; for more details and guidance: https://numpy.org/devdocs/release/1.20.0-notes.html#deprecations\n",
      "\n"
     ]
    },
    {
     "name": "stdout",
     "output_type": "stream",
     "text": [
      "2022-06-03 01:55:40,831 - root - INFO - Load distance matrix: 8126 x 8126\n"
     ]
    },
    {
     "name": "stderr",
     "output_type": "stream",
     "text": [
      "/Users/ejwillemse/opt/anaconda3/envs/python_RD/lib/python3.8/site-packages/tables/array.py:241: DeprecationWarning:\n",
      "\n",
      "`np.object` is a deprecated alias for the builtin `object`. To silence this warning, use `object` by itself. Doing this will not modify any behavior and is safe. \n",
      "Deprecated in NumPy 1.20; for more details and guidance: https://numpy.org/devdocs/release/1.20.0-notes.html#deprecations\n",
      "\n",
      "/Users/ejwillemse/opt/anaconda3/envs/python_RD/lib/python3.8/site-packages/tables/leaf.py:544: VisibleDeprecationWarning:\n",
      "\n",
      "Creating an ndarray from ragged nested sequences (which is a list-or-tuple of lists-or-tuples-or ndarrays with different lengths or shapes) is deprecated. If you meant to do this, you must specify 'dtype=object' when creating the ndarray.\n",
      "\n"
     ]
    },
    {
     "name": "stdout",
     "output_type": "stream",
     "text": [
      "2022-06-03 01:55:47,513 - root - INFO - Creating nearest neighbour lists\n",
      "2022-06-03 01:55:51,092 - root - INFO - Calculate offloads: 8126 x 8126 x 2\n",
      "2022-06-03 01:56:00,408 - root - INFO - Done!\n",
      "2022-06-03 01:56:00,453 - root - INFO - Uploading scenario inputs...\n",
      "2022-06-03 01:56:00,479 - root - INFO - Setting service cost for network\n",
      "2022-06-03 01:56:00,490 - root - INFO - Setting demand for network\n",
      "2022-06-03 01:56:00,501 - root - INFO - Update travel durations.\n",
      "2022-06-03 01:56:00,801 - root - INFO - Update offload durations.\n",
      "2022-06-03 01:56:01,233 - root - INFO - Done\n",
      "2022-06-03 01:56:01,235 - root - INFO - Problem info supplied. Directly proceeding to solve problem.\n",
      "2022-06-03 01:56:35,910 - root - INFO - Done generating routes\n",
      "Number of routes: 18\n",
      "2022-06-03 01:56:35,911 - root - INFO - Preparing scenario outputs...\n"
     ]
    },
    {
     "name": "stderr",
     "output_type": "stream",
     "text": [
      "/Users/ejwillemse/opt/anaconda3/envs/python_RD/lib/python3.8/site-packages/tables/array.py:241: DeprecationWarning:\n",
      "\n",
      "`np.object` is a deprecated alias for the builtin `object`. To silence this warning, use `object` by itself. Doing this will not modify any behavior and is safe. \n",
      "Deprecated in NumPy 1.20; for more details and guidance: https://numpy.org/devdocs/release/1.20.0-notes.html#deprecations\n",
      "\n"
     ]
    },
    {
     "name": "stdout",
     "output_type": "stream",
     "text": [
      "2022-06-03 01:56:45,931 - root - INFO - Done preparing output\n",
      "2022-06-03 01:56:45,932 - kedro.io.data_catalog - INFO - Saving data to `resource_summary_table_20220601_decentral` (PartitionedDataSet)...\n"
     ]
    },
    {
     "name": "stderr",
     "output_type": "stream",
     "text": [
      "/Users/ejwillemse/dev/waste_labs_dev/project_rdi_cpt/src/mcarptif/visualise/route_tables.py:146: FutureWarning:\n",
      "\n",
      "The frame.append method is deprecated and will be removed from pandas in a future version. Use pandas.concat instead.\n",
      "\n"
     ]
    },
    {
     "name": "stdout",
     "output_type": "stream",
     "text": [
      "\n",
      "\n",
      " RUNNING SCENARIO households_089\n",
      "2022-06-03 01:56:46,427 - kedro.io.data_catalog - INFO - Loading data from `waste_gen_scenarios_local_20220601` (PartitionedDataSet)...\n",
      "2022-06-03 01:56:46,446 - kedro.io.data_catalog - INFO - Loading data from `routing_parameters` (ExcelDataSet)...\n",
      "2022-06-03 01:56:46,617 - root - INFO - Preparing road network.......\n",
      "\n",
      "2022-06-03 01:56:46,681 - root - INFO - Load required arcs\n",
      "2022-06-03 01:56:46,683 - root - INFO - Merging with the network\n",
      "2022-06-03 01:56:46,713 - root - INFO - Set depot\n",
      "2022-06-03 01:56:46,717 - root - INFO - Set offload facilities\n",
      "2022-06-03 01:56:46,728 - root - INFO - Extend required arcs with inverse edge arcs\n",
      "2022-06-03 01:56:46,824 - root - INFO - Checking master list\n"
     ]
    },
    {
     "name": "stderr",
     "output_type": "stream",
     "text": [
      "/Users/ejwillemse/opt/anaconda3/envs/python_RD/lib/python3.8/site-packages/tables/array.py:241: DeprecationWarning:\n",
      "\n",
      "`np.object` is a deprecated alias for the builtin `object`. To silence this warning, use `object` by itself. Doing this will not modify any behavior and is safe. \n",
      "Deprecated in NumPy 1.20; for more details and guidance: https://numpy.org/devdocs/release/1.20.0-notes.html#deprecations\n",
      "\n"
     ]
    },
    {
     "name": "stdout",
     "output_type": "stream",
     "text": [
      "2022-06-03 01:56:46,831 - root - INFO - Load distance matrix: 8119 x 8119\n"
     ]
    },
    {
     "name": "stderr",
     "output_type": "stream",
     "text": [
      "/Users/ejwillemse/opt/anaconda3/envs/python_RD/lib/python3.8/site-packages/tables/array.py:241: DeprecationWarning:\n",
      "\n",
      "`np.object` is a deprecated alias for the builtin `object`. To silence this warning, use `object` by itself. Doing this will not modify any behavior and is safe. \n",
      "Deprecated in NumPy 1.20; for more details and guidance: https://numpy.org/devdocs/release/1.20.0-notes.html#deprecations\n",
      "\n",
      "/Users/ejwillemse/opt/anaconda3/envs/python_RD/lib/python3.8/site-packages/tables/leaf.py:544: VisibleDeprecationWarning:\n",
      "\n",
      "Creating an ndarray from ragged nested sequences (which is a list-or-tuple of lists-or-tuples-or ndarrays with different lengths or shapes) is deprecated. If you meant to do this, you must specify 'dtype=object' when creating the ndarray.\n",
      "\n"
     ]
    },
    {
     "name": "stdout",
     "output_type": "stream",
     "text": [
      "2022-06-03 01:56:53,601 - root - INFO - Creating nearest neighbour lists\n",
      "2022-06-03 01:56:57,158 - root - INFO - Calculate offloads: 8119 x 8119 x 2\n",
      "2022-06-03 01:57:05,972 - root - INFO - Done!\n",
      "2022-06-03 01:57:06,016 - root - INFO - Uploading scenario inputs...\n",
      "2022-06-03 01:57:06,045 - root - INFO - Setting service cost for network\n",
      "2022-06-03 01:57:06,056 - root - INFO - Setting demand for network\n",
      "2022-06-03 01:57:06,067 - root - INFO - Update travel durations.\n",
      "2022-06-03 01:57:06,366 - root - INFO - Update offload durations.\n",
      "2022-06-03 01:57:06,789 - root - INFO - Done\n",
      "2022-06-03 01:57:06,791 - root - INFO - Problem info supplied. Directly proceeding to solve problem.\n",
      "2022-06-03 01:57:42,104 - root - INFO - Done generating routes\n",
      "Number of routes: 18\n",
      "2022-06-03 01:57:42,105 - root - INFO - Preparing scenario outputs...\n"
     ]
    },
    {
     "name": "stderr",
     "output_type": "stream",
     "text": [
      "/Users/ejwillemse/opt/anaconda3/envs/python_RD/lib/python3.8/site-packages/tables/array.py:241: DeprecationWarning:\n",
      "\n",
      "`np.object` is a deprecated alias for the builtin `object`. To silence this warning, use `object` by itself. Doing this will not modify any behavior and is safe. \n",
      "Deprecated in NumPy 1.20; for more details and guidance: https://numpy.org/devdocs/release/1.20.0-notes.html#deprecations\n",
      "\n"
     ]
    },
    {
     "name": "stdout",
     "output_type": "stream",
     "text": [
      "2022-06-03 01:57:52,333 - root - INFO - Done preparing output\n",
      "2022-06-03 01:57:52,333 - kedro.io.data_catalog - INFO - Saving data to `resource_summary_table_20220601_decentral` (PartitionedDataSet)...\n"
     ]
    },
    {
     "name": "stderr",
     "output_type": "stream",
     "text": [
      "/Users/ejwillemse/dev/waste_labs_dev/project_rdi_cpt/src/mcarptif/visualise/route_tables.py:146: FutureWarning:\n",
      "\n",
      "The frame.append method is deprecated and will be removed from pandas in a future version. Use pandas.concat instead.\n",
      "\n"
     ]
    },
    {
     "name": "stdout",
     "output_type": "stream",
     "text": [
      "\n",
      "\n",
      " RUNNING SCENARIO households_090\n",
      "2022-06-03 01:57:52,841 - kedro.io.data_catalog - INFO - Loading data from `waste_gen_scenarios_local_20220601` (PartitionedDataSet)...\n",
      "2022-06-03 01:57:52,860 - kedro.io.data_catalog - INFO - Loading data from `routing_parameters` (ExcelDataSet)...\n",
      "2022-06-03 01:57:53,034 - root - INFO - Preparing road network.......\n",
      "\n",
      "2022-06-03 01:57:53,101 - root - INFO - Load required arcs\n",
      "2022-06-03 01:57:53,103 - root - INFO - Merging with the network\n",
      "2022-06-03 01:57:53,130 - root - INFO - Set depot\n",
      "2022-06-03 01:57:53,134 - root - INFO - Set offload facilities\n",
      "2022-06-03 01:57:53,146 - root - INFO - Extend required arcs with inverse edge arcs\n"
     ]
    },
    {
     "name": "stderr",
     "output_type": "stream",
     "text": [
      "/Users/ejwillemse/opt/anaconda3/envs/python_RD/lib/python3.8/site-packages/tables/array.py:241: DeprecationWarning:\n",
      "\n",
      "`np.object` is a deprecated alias for the builtin `object`. To silence this warning, use `object` by itself. Doing this will not modify any behavior and is safe. \n",
      "Deprecated in NumPy 1.20; for more details and guidance: https://numpy.org/devdocs/release/1.20.0-notes.html#deprecations\n",
      "\n"
     ]
    },
    {
     "name": "stdout",
     "output_type": "stream",
     "text": [
      "2022-06-03 01:57:53,247 - root - INFO - Checking master list\n",
      "2022-06-03 01:57:53,254 - root - INFO - Load distance matrix: 8159 x 8159\n"
     ]
    },
    {
     "name": "stderr",
     "output_type": "stream",
     "text": [
      "/Users/ejwillemse/opt/anaconda3/envs/python_RD/lib/python3.8/site-packages/tables/array.py:241: DeprecationWarning:\n",
      "\n",
      "`np.object` is a deprecated alias for the builtin `object`. To silence this warning, use `object` by itself. Doing this will not modify any behavior and is safe. \n",
      "Deprecated in NumPy 1.20; for more details and guidance: https://numpy.org/devdocs/release/1.20.0-notes.html#deprecations\n",
      "\n",
      "/Users/ejwillemse/opt/anaconda3/envs/python_RD/lib/python3.8/site-packages/tables/leaf.py:544: VisibleDeprecationWarning:\n",
      "\n",
      "Creating an ndarray from ragged nested sequences (which is a list-or-tuple of lists-or-tuples-or ndarrays with different lengths or shapes) is deprecated. If you meant to do this, you must specify 'dtype=object' when creating the ndarray.\n",
      "\n"
     ]
    },
    {
     "name": "stdout",
     "output_type": "stream",
     "text": [
      "2022-06-03 01:58:01,391 - root - INFO - Creating nearest neighbour lists\n",
      "2022-06-03 01:58:05,476 - root - INFO - Calculate offloads: 8159 x 8159 x 2\n",
      "2022-06-03 01:58:17,391 - root - INFO - Done!\n",
      "2022-06-03 01:58:18,043 - root - INFO - Uploading scenario inputs...\n",
      "2022-06-03 01:58:18,069 - root - INFO - Setting service cost for network\n",
      "2022-06-03 01:58:18,080 - root - INFO - Setting demand for network\n",
      "2022-06-03 01:58:18,092 - root - INFO - Update travel durations.\n",
      "2022-06-03 01:58:18,507 - root - INFO - Update offload durations.\n",
      "2022-06-03 01:58:18,949 - root - INFO - Done\n",
      "2022-06-03 01:58:18,950 - root - INFO - Problem info supplied. Directly proceeding to solve problem.\n",
      "2022-06-03 01:58:54,116 - root - INFO - Done generating routes\n",
      "Number of routes: 18\n",
      "2022-06-03 01:58:54,117 - root - INFO - Preparing scenario outputs...\n"
     ]
    },
    {
     "name": "stderr",
     "output_type": "stream",
     "text": [
      "/Users/ejwillemse/opt/anaconda3/envs/python_RD/lib/python3.8/site-packages/tables/array.py:241: DeprecationWarning:\n",
      "\n",
      "`np.object` is a deprecated alias for the builtin `object`. To silence this warning, use `object` by itself. Doing this will not modify any behavior and is safe. \n",
      "Deprecated in NumPy 1.20; for more details and guidance: https://numpy.org/devdocs/release/1.20.0-notes.html#deprecations\n",
      "\n"
     ]
    },
    {
     "name": "stdout",
     "output_type": "stream",
     "text": [
      "2022-06-03 01:59:04,083 - root - INFO - Done preparing output\n",
      "2022-06-03 01:59:04,084 - kedro.io.data_catalog - INFO - Saving data to `resource_summary_table_20220601_decentral` (PartitionedDataSet)...\n"
     ]
    },
    {
     "name": "stderr",
     "output_type": "stream",
     "text": [
      "/Users/ejwillemse/dev/waste_labs_dev/project_rdi_cpt/src/mcarptif/visualise/route_tables.py:146: FutureWarning:\n",
      "\n",
      "The frame.append method is deprecated and will be removed from pandas in a future version. Use pandas.concat instead.\n",
      "\n"
     ]
    },
    {
     "name": "stdout",
     "output_type": "stream",
     "text": [
      "\n",
      "\n",
      " RUNNING SCENARIO households_091\n",
      "2022-06-03 01:59:04,622 - kedro.io.data_catalog - INFO - Loading data from `waste_gen_scenarios_local_20220601` (PartitionedDataSet)...\n",
      "2022-06-03 01:59:04,642 - kedro.io.data_catalog - INFO - Loading data from `routing_parameters` (ExcelDataSet)...\n",
      "2022-06-03 01:59:04,820 - root - INFO - Preparing road network.......\n",
      "\n",
      "2022-06-03 01:59:04,884 - root - INFO - Load required arcs\n",
      "2022-06-03 01:59:04,886 - root - INFO - Merging with the network\n",
      "2022-06-03 01:59:04,912 - root - INFO - Set depot\n",
      "2022-06-03 01:59:04,916 - root - INFO - Set offload facilities\n",
      "2022-06-03 01:59:04,930 - root - INFO - Extend required arcs with inverse edge arcs\n",
      "2022-06-03 01:59:05,028 - root - INFO - Checking master list\n"
     ]
    },
    {
     "name": "stderr",
     "output_type": "stream",
     "text": [
      "/Users/ejwillemse/opt/anaconda3/envs/python_RD/lib/python3.8/site-packages/tables/array.py:241: DeprecationWarning:\n",
      "\n",
      "`np.object` is a deprecated alias for the builtin `object`. To silence this warning, use `object` by itself. Doing this will not modify any behavior and is safe. \n",
      "Deprecated in NumPy 1.20; for more details and guidance: https://numpy.org/devdocs/release/1.20.0-notes.html#deprecations\n",
      "\n"
     ]
    },
    {
     "name": "stdout",
     "output_type": "stream",
     "text": [
      "2022-06-03 01:59:05,036 - root - INFO - Load distance matrix: 8133 x 8133\n"
     ]
    },
    {
     "name": "stderr",
     "output_type": "stream",
     "text": [
      "/Users/ejwillemse/opt/anaconda3/envs/python_RD/lib/python3.8/site-packages/tables/array.py:241: DeprecationWarning:\n",
      "\n",
      "`np.object` is a deprecated alias for the builtin `object`. To silence this warning, use `object` by itself. Doing this will not modify any behavior and is safe. \n",
      "Deprecated in NumPy 1.20; for more details and guidance: https://numpy.org/devdocs/release/1.20.0-notes.html#deprecations\n",
      "\n",
      "/Users/ejwillemse/opt/anaconda3/envs/python_RD/lib/python3.8/site-packages/tables/leaf.py:544: VisibleDeprecationWarning:\n",
      "\n",
      "Creating an ndarray from ragged nested sequences (which is a list-or-tuple of lists-or-tuples-or ndarrays with different lengths or shapes) is deprecated. If you meant to do this, you must specify 'dtype=object' when creating the ndarray.\n",
      "\n"
     ]
    },
    {
     "name": "stdout",
     "output_type": "stream",
     "text": [
      "2022-06-03 01:59:12,767 - root - INFO - Creating nearest neighbour lists\n",
      "2022-06-03 01:59:16,345 - root - INFO - Calculate offloads: 8133 x 8133 x 2\n",
      "2022-06-03 01:59:26,083 - root - INFO - Done!\n",
      "2022-06-03 01:59:26,162 - root - INFO - Uploading scenario inputs...\n",
      "2022-06-03 01:59:26,186 - root - INFO - Setting service cost for network\n",
      "2022-06-03 01:59:26,198 - root - INFO - Setting demand for network\n",
      "2022-06-03 01:59:26,207 - root - INFO - Update travel durations.\n",
      "2022-06-03 01:59:26,512 - root - INFO - Update offload durations.\n",
      "2022-06-03 01:59:26,947 - root - INFO - Done\n",
      "2022-06-03 01:59:26,948 - root - INFO - Problem info supplied. Directly proceeding to solve problem.\n",
      "2022-06-03 02:00:02,521 - root - INFO - Done generating routes\n",
      "Number of routes: 18\n",
      "2022-06-03 02:00:02,523 - root - INFO - Preparing scenario outputs...\n"
     ]
    },
    {
     "name": "stderr",
     "output_type": "stream",
     "text": [
      "/Users/ejwillemse/opt/anaconda3/envs/python_RD/lib/python3.8/site-packages/tables/array.py:241: DeprecationWarning:\n",
      "\n",
      "`np.object` is a deprecated alias for the builtin `object`. To silence this warning, use `object` by itself. Doing this will not modify any behavior and is safe. \n",
      "Deprecated in NumPy 1.20; for more details and guidance: https://numpy.org/devdocs/release/1.20.0-notes.html#deprecations\n",
      "\n"
     ]
    },
    {
     "name": "stdout",
     "output_type": "stream",
     "text": [
      "2022-06-03 02:00:12,534 - root - INFO - Done preparing output\n",
      "2022-06-03 02:00:12,536 - kedro.io.data_catalog - INFO - Saving data to `resource_summary_table_20220601_decentral` (PartitionedDataSet)...\n"
     ]
    },
    {
     "name": "stderr",
     "output_type": "stream",
     "text": [
      "/Users/ejwillemse/dev/waste_labs_dev/project_rdi_cpt/src/mcarptif/visualise/route_tables.py:146: FutureWarning:\n",
      "\n",
      "The frame.append method is deprecated and will be removed from pandas in a future version. Use pandas.concat instead.\n",
      "\n"
     ]
    },
    {
     "name": "stdout",
     "output_type": "stream",
     "text": [
      "\n",
      "\n",
      " RUNNING SCENARIO households_092\n",
      "2022-06-03 02:00:13,056 - kedro.io.data_catalog - INFO - Loading data from `waste_gen_scenarios_local_20220601` (PartitionedDataSet)...\n",
      "2022-06-03 02:00:13,074 - kedro.io.data_catalog - INFO - Loading data from `routing_parameters` (ExcelDataSet)...\n",
      "2022-06-03 02:00:13,253 - root - INFO - Preparing road network.......\n",
      "\n",
      "2022-06-03 02:00:13,317 - root - INFO - Load required arcs\n",
      "2022-06-03 02:00:13,319 - root - INFO - Merging with the network\n",
      "2022-06-03 02:00:13,346 - root - INFO - Set depot\n",
      "2022-06-03 02:00:13,350 - root - INFO - Set offload facilities\n",
      "2022-06-03 02:00:13,364 - root - INFO - Extend required arcs with inverse edge arcs\n"
     ]
    },
    {
     "name": "stderr",
     "output_type": "stream",
     "text": [
      "/Users/ejwillemse/opt/anaconda3/envs/python_RD/lib/python3.8/site-packages/tables/array.py:241: DeprecationWarning:\n",
      "\n",
      "`np.object` is a deprecated alias for the builtin `object`. To silence this warning, use `object` by itself. Doing this will not modify any behavior and is safe. \n",
      "Deprecated in NumPy 1.20; for more details and guidance: https://numpy.org/devdocs/release/1.20.0-notes.html#deprecations\n",
      "\n"
     ]
    },
    {
     "name": "stdout",
     "output_type": "stream",
     "text": [
      "2022-06-03 02:00:13,465 - root - INFO - Checking master list\n",
      "2022-06-03 02:00:13,471 - root - INFO - Load distance matrix: 8152 x 8152\n"
     ]
    },
    {
     "name": "stderr",
     "output_type": "stream",
     "text": [
      "/Users/ejwillemse/opt/anaconda3/envs/python_RD/lib/python3.8/site-packages/tables/array.py:241: DeprecationWarning:\n",
      "\n",
      "`np.object` is a deprecated alias for the builtin `object`. To silence this warning, use `object` by itself. Doing this will not modify any behavior and is safe. \n",
      "Deprecated in NumPy 1.20; for more details and guidance: https://numpy.org/devdocs/release/1.20.0-notes.html#deprecations\n",
      "\n",
      "/Users/ejwillemse/opt/anaconda3/envs/python_RD/lib/python3.8/site-packages/tables/leaf.py:544: VisibleDeprecationWarning:\n",
      "\n",
      "Creating an ndarray from ragged nested sequences (which is a list-or-tuple of lists-or-tuples-or ndarrays with different lengths or shapes) is deprecated. If you meant to do this, you must specify 'dtype=object' when creating the ndarray.\n",
      "\n"
     ]
    },
    {
     "name": "stdout",
     "output_type": "stream",
     "text": [
      "2022-06-03 02:00:21,004 - root - INFO - Creating nearest neighbour lists\n",
      "2022-06-03 02:00:24,679 - root - INFO - Calculate offloads: 8152 x 8152 x 2\n",
      "2022-06-03 02:00:34,476 - root - INFO - Done!\n",
      "2022-06-03 02:00:34,535 - root - INFO - Uploading scenario inputs...\n",
      "2022-06-03 02:00:34,560 - root - INFO - Setting service cost for network\n",
      "2022-06-03 02:00:34,570 - root - INFO - Setting demand for network\n",
      "2022-06-03 02:00:34,579 - root - INFO - Update travel durations.\n",
      "2022-06-03 02:00:34,881 - root - INFO - Update offload durations.\n",
      "2022-06-03 02:00:35,314 - root - INFO - Done\n",
      "2022-06-03 02:00:35,316 - root - INFO - Problem info supplied. Directly proceeding to solve problem.\n",
      "2022-06-03 02:01:11,254 - root - INFO - Done generating routes\n",
      "Number of routes: 18\n",
      "2022-06-03 02:01:11,255 - root - INFO - Preparing scenario outputs...\n"
     ]
    },
    {
     "name": "stderr",
     "output_type": "stream",
     "text": [
      "/Users/ejwillemse/opt/anaconda3/envs/python_RD/lib/python3.8/site-packages/tables/array.py:241: DeprecationWarning:\n",
      "\n",
      "`np.object` is a deprecated alias for the builtin `object`. To silence this warning, use `object` by itself. Doing this will not modify any behavior and is safe. \n",
      "Deprecated in NumPy 1.20; for more details and guidance: https://numpy.org/devdocs/release/1.20.0-notes.html#deprecations\n",
      "\n"
     ]
    },
    {
     "name": "stdout",
     "output_type": "stream",
     "text": [
      "2022-06-03 02:01:21,702 - root - INFO - Done preparing output\n",
      "2022-06-03 02:01:21,703 - kedro.io.data_catalog - INFO - Saving data to `resource_summary_table_20220601_decentral` (PartitionedDataSet)...\n"
     ]
    },
    {
     "name": "stderr",
     "output_type": "stream",
     "text": [
      "/Users/ejwillemse/dev/waste_labs_dev/project_rdi_cpt/src/mcarptif/visualise/route_tables.py:146: FutureWarning:\n",
      "\n",
      "The frame.append method is deprecated and will be removed from pandas in a future version. Use pandas.concat instead.\n",
      "\n"
     ]
    },
    {
     "name": "stdout",
     "output_type": "stream",
     "text": [
      "\n",
      "\n",
      " RUNNING SCENARIO households_093\n",
      "2022-06-03 02:01:22,206 - kedro.io.data_catalog - INFO - Loading data from `waste_gen_scenarios_local_20220601` (PartitionedDataSet)...\n",
      "2022-06-03 02:01:22,224 - kedro.io.data_catalog - INFO - Loading data from `routing_parameters` (ExcelDataSet)...\n",
      "2022-06-03 02:01:22,436 - root - INFO - Preparing road network.......\n",
      "\n",
      "2022-06-03 02:01:22,515 - root - INFO - Load required arcs\n",
      "2022-06-03 02:01:22,517 - root - INFO - Merging with the network\n",
      "2022-06-03 02:01:22,551 - root - INFO - Set depot\n",
      "2022-06-03 02:01:22,554 - root - INFO - Set offload facilities\n",
      "2022-06-03 02:01:22,568 - root - INFO - Extend required arcs with inverse edge arcs\n"
     ]
    },
    {
     "name": "stderr",
     "output_type": "stream",
     "text": [
      "/Users/ejwillemse/opt/anaconda3/envs/python_RD/lib/python3.8/site-packages/tables/array.py:241: DeprecationWarning:\n",
      "\n",
      "`np.object` is a deprecated alias for the builtin `object`. To silence this warning, use `object` by itself. Doing this will not modify any behavior and is safe. \n",
      "Deprecated in NumPy 1.20; for more details and guidance: https://numpy.org/devdocs/release/1.20.0-notes.html#deprecations\n",
      "\n"
     ]
    },
    {
     "name": "stdout",
     "output_type": "stream",
     "text": [
      "2022-06-03 02:01:22,673 - root - INFO - Checking master list\n",
      "2022-06-03 02:01:22,682 - root - INFO - Load distance matrix: 8143 x 8143\n"
     ]
    },
    {
     "name": "stderr",
     "output_type": "stream",
     "text": [
      "/Users/ejwillemse/opt/anaconda3/envs/python_RD/lib/python3.8/site-packages/tables/array.py:241: DeprecationWarning:\n",
      "\n",
      "`np.object` is a deprecated alias for the builtin `object`. To silence this warning, use `object` by itself. Doing this will not modify any behavior and is safe. \n",
      "Deprecated in NumPy 1.20; for more details and guidance: https://numpy.org/devdocs/release/1.20.0-notes.html#deprecations\n",
      "\n",
      "/Users/ejwillemse/opt/anaconda3/envs/python_RD/lib/python3.8/site-packages/tables/leaf.py:544: VisibleDeprecationWarning:\n",
      "\n",
      "Creating an ndarray from ragged nested sequences (which is a list-or-tuple of lists-or-tuples-or ndarrays with different lengths or shapes) is deprecated. If you meant to do this, you must specify 'dtype=object' when creating the ndarray.\n",
      "\n"
     ]
    },
    {
     "name": "stdout",
     "output_type": "stream",
     "text": [
      "2022-06-03 02:01:30,391 - root - INFO - Creating nearest neighbour lists\n",
      "2022-06-03 02:01:34,043 - root - INFO - Calculate offloads: 8143 x 8143 x 2\n",
      "2022-06-03 02:01:44,590 - root - INFO - Done!\n",
      "2022-06-03 02:01:44,636 - root - INFO - Uploading scenario inputs...\n",
      "2022-06-03 02:01:44,663 - root - INFO - Setting service cost for network\n",
      "2022-06-03 02:01:44,676 - root - INFO - Setting demand for network\n",
      "2022-06-03 02:01:44,687 - root - INFO - Update travel durations.\n",
      "2022-06-03 02:01:44,999 - root - INFO - Update offload durations.\n",
      "2022-06-03 02:01:45,436 - root - INFO - Done\n",
      "2022-06-03 02:01:45,437 - root - INFO - Problem info supplied. Directly proceeding to solve problem.\n",
      "2022-06-03 02:02:21,472 - root - INFO - Done generating routes\n",
      "Number of routes: 18\n",
      "2022-06-03 02:02:21,473 - root - INFO - Preparing scenario outputs...\n"
     ]
    },
    {
     "name": "stderr",
     "output_type": "stream",
     "text": [
      "/Users/ejwillemse/opt/anaconda3/envs/python_RD/lib/python3.8/site-packages/tables/array.py:241: DeprecationWarning:\n",
      "\n",
      "`np.object` is a deprecated alias for the builtin `object`. To silence this warning, use `object` by itself. Doing this will not modify any behavior and is safe. \n",
      "Deprecated in NumPy 1.20; for more details and guidance: https://numpy.org/devdocs/release/1.20.0-notes.html#deprecations\n",
      "\n"
     ]
    },
    {
     "name": "stdout",
     "output_type": "stream",
     "text": [
      "2022-06-03 02:02:31,701 - root - INFO - Done preparing output\n",
      "2022-06-03 02:02:31,702 - kedro.io.data_catalog - INFO - Saving data to `resource_summary_table_20220601_decentral` (PartitionedDataSet)...\n"
     ]
    },
    {
     "name": "stderr",
     "output_type": "stream",
     "text": [
      "/Users/ejwillemse/dev/waste_labs_dev/project_rdi_cpt/src/mcarptif/visualise/route_tables.py:146: FutureWarning:\n",
      "\n",
      "The frame.append method is deprecated and will be removed from pandas in a future version. Use pandas.concat instead.\n",
      "\n"
     ]
    },
    {
     "name": "stdout",
     "output_type": "stream",
     "text": [
      "\n",
      "\n",
      " RUNNING SCENARIO households_094\n",
      "2022-06-03 02:02:32,197 - kedro.io.data_catalog - INFO - Loading data from `waste_gen_scenarios_local_20220601` (PartitionedDataSet)...\n",
      "2022-06-03 02:02:32,216 - kedro.io.data_catalog - INFO - Loading data from `routing_parameters` (ExcelDataSet)...\n",
      "2022-06-03 02:02:32,388 - root - INFO - Preparing road network.......\n",
      "\n",
      "2022-06-03 02:02:32,450 - root - INFO - Load required arcs\n",
      "2022-06-03 02:02:32,452 - root - INFO - Merging with the network\n",
      "2022-06-03 02:02:32,477 - root - INFO - Set depot\n",
      "2022-06-03 02:02:32,481 - root - INFO - Set offload facilities\n",
      "2022-06-03 02:02:32,493 - root - INFO - Extend required arcs with inverse edge arcs\n",
      "2022-06-03 02:02:32,591 - root - INFO - Checking master list\n",
      "2022-06-03 02:02:32,597 - root - INFO - Load distance matrix: 8134 x 8134\n"
     ]
    },
    {
     "name": "stderr",
     "output_type": "stream",
     "text": [
      "/Users/ejwillemse/opt/anaconda3/envs/python_RD/lib/python3.8/site-packages/tables/array.py:241: DeprecationWarning:\n",
      "\n",
      "`np.object` is a deprecated alias for the builtin `object`. To silence this warning, use `object` by itself. Doing this will not modify any behavior and is safe. \n",
      "Deprecated in NumPy 1.20; for more details and guidance: https://numpy.org/devdocs/release/1.20.0-notes.html#deprecations\n",
      "\n",
      "/Users/ejwillemse/opt/anaconda3/envs/python_RD/lib/python3.8/site-packages/tables/array.py:241: DeprecationWarning:\n",
      "\n",
      "`np.object` is a deprecated alias for the builtin `object`. To silence this warning, use `object` by itself. Doing this will not modify any behavior and is safe. \n",
      "Deprecated in NumPy 1.20; for more details and guidance: https://numpy.org/devdocs/release/1.20.0-notes.html#deprecations\n",
      "\n",
      "/Users/ejwillemse/opt/anaconda3/envs/python_RD/lib/python3.8/site-packages/tables/leaf.py:544: VisibleDeprecationWarning:\n",
      "\n",
      "Creating an ndarray from ragged nested sequences (which is a list-or-tuple of lists-or-tuples-or ndarrays with different lengths or shapes) is deprecated. If you meant to do this, you must specify 'dtype=object' when creating the ndarray.\n",
      "\n"
     ]
    },
    {
     "name": "stdout",
     "output_type": "stream",
     "text": [
      "2022-06-03 02:02:39,547 - root - INFO - Creating nearest neighbour lists\n",
      "2022-06-03 02:02:43,153 - root - INFO - Calculate offloads: 8134 x 8134 x 2\n",
      "2022-06-03 02:02:52,835 - root - INFO - Done!\n",
      "2022-06-03 02:02:52,881 - root - INFO - Uploading scenario inputs...\n",
      "2022-06-03 02:02:52,909 - root - INFO - Setting service cost for network\n",
      "2022-06-03 02:02:52,921 - root - INFO - Setting demand for network\n",
      "2022-06-03 02:02:52,932 - root - INFO - Update travel durations.\n",
      "2022-06-03 02:02:53,243 - root - INFO - Update offload durations.\n",
      "2022-06-03 02:02:53,682 - root - INFO - Done\n",
      "2022-06-03 02:02:53,683 - root - INFO - Problem info supplied. Directly proceeding to solve problem.\n",
      "2022-06-03 02:03:29,813 - root - INFO - Done generating routes\n",
      "Number of routes: 18\n",
      "2022-06-03 02:03:29,814 - root - INFO - Preparing scenario outputs...\n"
     ]
    },
    {
     "name": "stderr",
     "output_type": "stream",
     "text": [
      "/Users/ejwillemse/opt/anaconda3/envs/python_RD/lib/python3.8/site-packages/tables/array.py:241: DeprecationWarning:\n",
      "\n",
      "`np.object` is a deprecated alias for the builtin `object`. To silence this warning, use `object` by itself. Doing this will not modify any behavior and is safe. \n",
      "Deprecated in NumPy 1.20; for more details and guidance: https://numpy.org/devdocs/release/1.20.0-notes.html#deprecations\n",
      "\n"
     ]
    },
    {
     "name": "stdout",
     "output_type": "stream",
     "text": [
      "2022-06-03 02:03:40,410 - root - INFO - Done preparing output\n",
      "2022-06-03 02:03:40,411 - kedro.io.data_catalog - INFO - Saving data to `resource_summary_table_20220601_decentral` (PartitionedDataSet)...\n"
     ]
    },
    {
     "name": "stderr",
     "output_type": "stream",
     "text": [
      "/Users/ejwillemse/dev/waste_labs_dev/project_rdi_cpt/src/mcarptif/visualise/route_tables.py:146: FutureWarning:\n",
      "\n",
      "The frame.append method is deprecated and will be removed from pandas in a future version. Use pandas.concat instead.\n",
      "\n"
     ]
    },
    {
     "name": "stdout",
     "output_type": "stream",
     "text": [
      "\n",
      "\n",
      " RUNNING SCENARIO households_095\n",
      "2022-06-03 02:03:40,926 - kedro.io.data_catalog - INFO - Loading data from `waste_gen_scenarios_local_20220601` (PartitionedDataSet)...\n",
      "2022-06-03 02:03:40,944 - kedro.io.data_catalog - INFO - Loading data from `routing_parameters` (ExcelDataSet)...\n",
      "2022-06-03 02:03:41,124 - root - INFO - Preparing road network.......\n",
      "\n",
      "2022-06-03 02:03:41,192 - root - INFO - Load required arcs\n",
      "2022-06-03 02:03:41,194 - root - INFO - Merging with the network\n",
      "2022-06-03 02:03:41,219 - root - INFO - Set depot\n",
      "2022-06-03 02:03:41,223 - root - INFO - Set offload facilities\n",
      "2022-06-03 02:03:41,236 - root - INFO - Extend required arcs with inverse edge arcs\n"
     ]
    },
    {
     "name": "stderr",
     "output_type": "stream",
     "text": [
      "/Users/ejwillemse/opt/anaconda3/envs/python_RD/lib/python3.8/site-packages/tables/array.py:241: DeprecationWarning:\n",
      "\n",
      "`np.object` is a deprecated alias for the builtin `object`. To silence this warning, use `object` by itself. Doing this will not modify any behavior and is safe. \n",
      "Deprecated in NumPy 1.20; for more details and guidance: https://numpy.org/devdocs/release/1.20.0-notes.html#deprecations\n",
      "\n"
     ]
    },
    {
     "name": "stdout",
     "output_type": "stream",
     "text": [
      "2022-06-03 02:03:41,338 - root - INFO - Checking master list\n",
      "2022-06-03 02:03:41,346 - root - INFO - Load distance matrix: 8128 x 8128\n"
     ]
    },
    {
     "name": "stderr",
     "output_type": "stream",
     "text": [
      "/Users/ejwillemse/opt/anaconda3/envs/python_RD/lib/python3.8/site-packages/tables/array.py:241: DeprecationWarning:\n",
      "\n",
      "`np.object` is a deprecated alias for the builtin `object`. To silence this warning, use `object` by itself. Doing this will not modify any behavior and is safe. \n",
      "Deprecated in NumPy 1.20; for more details and guidance: https://numpy.org/devdocs/release/1.20.0-notes.html#deprecations\n",
      "\n",
      "/Users/ejwillemse/opt/anaconda3/envs/python_RD/lib/python3.8/site-packages/tables/leaf.py:544: VisibleDeprecationWarning:\n",
      "\n",
      "Creating an ndarray from ragged nested sequences (which is a list-or-tuple of lists-or-tuples-or ndarrays with different lengths or shapes) is deprecated. If you meant to do this, you must specify 'dtype=object' when creating the ndarray.\n",
      "\n"
     ]
    },
    {
     "name": "stdout",
     "output_type": "stream",
     "text": [
      "2022-06-03 02:03:48,890 - root - INFO - Creating nearest neighbour lists\n",
      "2022-06-03 02:03:52,488 - root - INFO - Calculate offloads: 8128 x 8128 x 2\n",
      "2022-06-03 02:04:03,663 - root - INFO - Done!\n",
      "2022-06-03 02:04:03,707 - root - INFO - Uploading scenario inputs...\n",
      "2022-06-03 02:04:03,736 - root - INFO - Setting service cost for network\n",
      "2022-06-03 02:04:03,746 - root - INFO - Setting demand for network\n",
      "2022-06-03 02:04:03,758 - root - INFO - Update travel durations.\n",
      "2022-06-03 02:04:04,064 - root - INFO - Update offload durations.\n",
      "2022-06-03 02:04:04,504 - root - INFO - Done\n",
      "2022-06-03 02:04:04,506 - root - INFO - Problem info supplied. Directly proceeding to solve problem.\n",
      "2022-06-03 02:04:39,581 - root - INFO - Done generating routes\n",
      "Number of routes: 18\n",
      "2022-06-03 02:04:39,582 - root - INFO - Preparing scenario outputs...\n"
     ]
    },
    {
     "name": "stderr",
     "output_type": "stream",
     "text": [
      "/Users/ejwillemse/opt/anaconda3/envs/python_RD/lib/python3.8/site-packages/tables/array.py:241: DeprecationWarning:\n",
      "\n",
      "`np.object` is a deprecated alias for the builtin `object`. To silence this warning, use `object` by itself. Doing this will not modify any behavior and is safe. \n",
      "Deprecated in NumPy 1.20; for more details and guidance: https://numpy.org/devdocs/release/1.20.0-notes.html#deprecations\n",
      "\n"
     ]
    },
    {
     "name": "stdout",
     "output_type": "stream",
     "text": [
      "2022-06-03 02:04:49,517 - root - INFO - Done preparing output\n",
      "2022-06-03 02:04:49,518 - kedro.io.data_catalog - INFO - Saving data to `resource_summary_table_20220601_decentral` (PartitionedDataSet)...\n"
     ]
    },
    {
     "name": "stderr",
     "output_type": "stream",
     "text": [
      "/Users/ejwillemse/dev/waste_labs_dev/project_rdi_cpt/src/mcarptif/visualise/route_tables.py:146: FutureWarning:\n",
      "\n",
      "The frame.append method is deprecated and will be removed from pandas in a future version. Use pandas.concat instead.\n",
      "\n"
     ]
    },
    {
     "name": "stdout",
     "output_type": "stream",
     "text": [
      "\n",
      "\n",
      " RUNNING SCENARIO households_096\n",
      "2022-06-03 02:04:50,019 - kedro.io.data_catalog - INFO - Loading data from `waste_gen_scenarios_local_20220601` (PartitionedDataSet)...\n",
      "2022-06-03 02:04:50,038 - kedro.io.data_catalog - INFO - Loading data from `routing_parameters` (ExcelDataSet)...\n",
      "2022-06-03 02:04:50,213 - root - INFO - Preparing road network.......\n",
      "\n",
      "2022-06-03 02:04:50,278 - root - INFO - Load required arcs\n",
      "2022-06-03 02:04:50,280 - root - INFO - Merging with the network\n",
      "2022-06-03 02:04:50,310 - root - INFO - Set depot\n",
      "2022-06-03 02:04:50,314 - root - INFO - Set offload facilities\n",
      "2022-06-03 02:04:50,328 - root - INFO - Extend required arcs with inverse edge arcs\n"
     ]
    },
    {
     "name": "stderr",
     "output_type": "stream",
     "text": [
      "/Users/ejwillemse/opt/anaconda3/envs/python_RD/lib/python3.8/site-packages/tables/array.py:241: DeprecationWarning:\n",
      "\n",
      "`np.object` is a deprecated alias for the builtin `object`. To silence this warning, use `object` by itself. Doing this will not modify any behavior and is safe. \n",
      "Deprecated in NumPy 1.20; for more details and guidance: https://numpy.org/devdocs/release/1.20.0-notes.html#deprecations\n",
      "\n"
     ]
    },
    {
     "name": "stdout",
     "output_type": "stream",
     "text": [
      "2022-06-03 02:04:50,426 - root - INFO - Checking master list\n",
      "2022-06-03 02:04:50,435 - root - INFO - Load distance matrix: 8162 x 8162\n"
     ]
    },
    {
     "name": "stderr",
     "output_type": "stream",
     "text": [
      "/Users/ejwillemse/opt/anaconda3/envs/python_RD/lib/python3.8/site-packages/tables/array.py:241: DeprecationWarning:\n",
      "\n",
      "`np.object` is a deprecated alias for the builtin `object`. To silence this warning, use `object` by itself. Doing this will not modify any behavior and is safe. \n",
      "Deprecated in NumPy 1.20; for more details and guidance: https://numpy.org/devdocs/release/1.20.0-notes.html#deprecations\n",
      "\n",
      "/Users/ejwillemse/opt/anaconda3/envs/python_RD/lib/python3.8/site-packages/tables/leaf.py:544: VisibleDeprecationWarning:\n",
      "\n",
      "Creating an ndarray from ragged nested sequences (which is a list-or-tuple of lists-or-tuples-or ndarrays with different lengths or shapes) is deprecated. If you meant to do this, you must specify 'dtype=object' when creating the ndarray.\n",
      "\n"
     ]
    },
    {
     "name": "stdout",
     "output_type": "stream",
     "text": [
      "2022-06-03 02:04:58,391 - root - INFO - Creating nearest neighbour lists\n",
      "2022-06-03 02:05:02,344 - root - INFO - Calculate offloads: 8162 x 8162 x 2\n",
      "2022-06-03 02:05:14,128 - root - INFO - Done!\n",
      "2022-06-03 02:05:14,790 - root - INFO - Uploading scenario inputs...\n",
      "2022-06-03 02:05:14,822 - root - INFO - Setting service cost for network\n",
      "2022-06-03 02:05:14,834 - root - INFO - Setting demand for network\n",
      "2022-06-03 02:05:14,845 - root - INFO - Update travel durations.\n",
      "2022-06-03 02:05:15,261 - root - INFO - Update offload durations.\n",
      "2022-06-03 02:05:15,700 - root - INFO - Done\n",
      "2022-06-03 02:05:15,701 - root - INFO - Problem info supplied. Directly proceeding to solve problem.\n",
      "2022-06-03 02:05:51,302 - root - INFO - Done generating routes\n",
      "Number of routes: 18\n",
      "2022-06-03 02:05:51,304 - root - INFO - Preparing scenario outputs...\n"
     ]
    },
    {
     "name": "stderr",
     "output_type": "stream",
     "text": [
      "/Users/ejwillemse/opt/anaconda3/envs/python_RD/lib/python3.8/site-packages/tables/array.py:241: DeprecationWarning:\n",
      "\n",
      "`np.object` is a deprecated alias for the builtin `object`. To silence this warning, use `object` by itself. Doing this will not modify any behavior and is safe. \n",
      "Deprecated in NumPy 1.20; for more details and guidance: https://numpy.org/devdocs/release/1.20.0-notes.html#deprecations\n",
      "\n"
     ]
    },
    {
     "name": "stdout",
     "output_type": "stream",
     "text": [
      "2022-06-03 02:06:01,175 - root - INFO - Done preparing output\n",
      "2022-06-03 02:06:01,176 - kedro.io.data_catalog - INFO - Saving data to `resource_summary_table_20220601_decentral` (PartitionedDataSet)...\n"
     ]
    },
    {
     "name": "stderr",
     "output_type": "stream",
     "text": [
      "/Users/ejwillemse/dev/waste_labs_dev/project_rdi_cpt/src/mcarptif/visualise/route_tables.py:146: FutureWarning:\n",
      "\n",
      "The frame.append method is deprecated and will be removed from pandas in a future version. Use pandas.concat instead.\n",
      "\n"
     ]
    },
    {
     "name": "stdout",
     "output_type": "stream",
     "text": [
      "\n",
      "\n",
      " RUNNING SCENARIO households_097\n",
      "2022-06-03 02:06:01,695 - kedro.io.data_catalog - INFO - Loading data from `waste_gen_scenarios_local_20220601` (PartitionedDataSet)...\n",
      "2022-06-03 02:06:01,713 - kedro.io.data_catalog - INFO - Loading data from `routing_parameters` (ExcelDataSet)...\n",
      "2022-06-03 02:06:01,901 - root - INFO - Preparing road network.......\n",
      "\n",
      "2022-06-03 02:06:01,966 - root - INFO - Load required arcs\n",
      "2022-06-03 02:06:01,968 - root - INFO - Merging with the network\n",
      "2022-06-03 02:06:01,996 - root - INFO - Set depot\n",
      "2022-06-03 02:06:02,000 - root - INFO - Set offload facilities\n",
      "2022-06-03 02:06:02,011 - root - INFO - Extend required arcs with inverse edge arcs\n",
      "2022-06-03 02:06:02,106 - root - INFO - Checking master list\n",
      "2022-06-03 02:06:02,113 - root - INFO - Load distance matrix: 8141 x 8141\n"
     ]
    },
    {
     "name": "stderr",
     "output_type": "stream",
     "text": [
      "/Users/ejwillemse/opt/anaconda3/envs/python_RD/lib/python3.8/site-packages/tables/array.py:241: DeprecationWarning:\n",
      "\n",
      "`np.object` is a deprecated alias for the builtin `object`. To silence this warning, use `object` by itself. Doing this will not modify any behavior and is safe. \n",
      "Deprecated in NumPy 1.20; for more details and guidance: https://numpy.org/devdocs/release/1.20.0-notes.html#deprecations\n",
      "\n",
      "/Users/ejwillemse/opt/anaconda3/envs/python_RD/lib/python3.8/site-packages/tables/array.py:241: DeprecationWarning:\n",
      "\n",
      "`np.object` is a deprecated alias for the builtin `object`. To silence this warning, use `object` by itself. Doing this will not modify any behavior and is safe. \n",
      "Deprecated in NumPy 1.20; for more details and guidance: https://numpy.org/devdocs/release/1.20.0-notes.html#deprecations\n",
      "\n",
      "/Users/ejwillemse/opt/anaconda3/envs/python_RD/lib/python3.8/site-packages/tables/leaf.py:544: VisibleDeprecationWarning:\n",
      "\n",
      "Creating an ndarray from ragged nested sequences (which is a list-or-tuple of lists-or-tuples-or ndarrays with different lengths or shapes) is deprecated. If you meant to do this, you must specify 'dtype=object' when creating the ndarray.\n",
      "\n"
     ]
    },
    {
     "name": "stdout",
     "output_type": "stream",
     "text": [
      "2022-06-03 02:06:09,377 - root - INFO - Creating nearest neighbour lists\n",
      "2022-06-03 02:06:13,230 - root - INFO - Calculate offloads: 8141 x 8141 x 2\n",
      "2022-06-03 02:06:27,189 - root - INFO - Done!\n",
      "2022-06-03 02:06:27,237 - root - INFO - Uploading scenario inputs...\n",
      "2022-06-03 02:06:27,264 - root - INFO - Setting service cost for network\n",
      "2022-06-03 02:06:27,277 - root - INFO - Setting demand for network\n",
      "2022-06-03 02:06:27,287 - root - INFO - Update travel durations.\n",
      "2022-06-03 02:06:27,605 - root - INFO - Update offload durations.\n",
      "2022-06-03 02:06:28,039 - root - INFO - Done\n",
      "2022-06-03 02:06:28,040 - root - INFO - Problem info supplied. Directly proceeding to solve problem.\n",
      "2022-06-03 02:07:03,956 - root - INFO - Done generating routes\n",
      "Number of routes: 18\n",
      "2022-06-03 02:07:03,958 - root - INFO - Preparing scenario outputs...\n"
     ]
    },
    {
     "name": "stderr",
     "output_type": "stream",
     "text": [
      "/Users/ejwillemse/opt/anaconda3/envs/python_RD/lib/python3.8/site-packages/tables/array.py:241: DeprecationWarning:\n",
      "\n",
      "`np.object` is a deprecated alias for the builtin `object`. To silence this warning, use `object` by itself. Doing this will not modify any behavior and is safe. \n",
      "Deprecated in NumPy 1.20; for more details and guidance: https://numpy.org/devdocs/release/1.20.0-notes.html#deprecations\n",
      "\n"
     ]
    },
    {
     "name": "stdout",
     "output_type": "stream",
     "text": [
      "2022-06-03 02:07:13,903 - root - INFO - Done preparing output\n",
      "2022-06-03 02:07:13,904 - kedro.io.data_catalog - INFO - Saving data to `resource_summary_table_20220601_decentral` (PartitionedDataSet)...\n"
     ]
    },
    {
     "name": "stderr",
     "output_type": "stream",
     "text": [
      "/Users/ejwillemse/dev/waste_labs_dev/project_rdi_cpt/src/mcarptif/visualise/route_tables.py:146: FutureWarning:\n",
      "\n",
      "The frame.append method is deprecated and will be removed from pandas in a future version. Use pandas.concat instead.\n",
      "\n"
     ]
    },
    {
     "name": "stdout",
     "output_type": "stream",
     "text": [
      "\n",
      "\n",
      " RUNNING SCENARIO households_098\n",
      "2022-06-03 02:07:14,394 - kedro.io.data_catalog - INFO - Loading data from `waste_gen_scenarios_local_20220601` (PartitionedDataSet)...\n",
      "2022-06-03 02:07:14,412 - kedro.io.data_catalog - INFO - Loading data from `routing_parameters` (ExcelDataSet)...\n",
      "2022-06-03 02:07:14,589 - root - INFO - Preparing road network.......\n",
      "\n",
      "2022-06-03 02:07:14,656 - root - INFO - Load required arcs\n",
      "2022-06-03 02:07:14,657 - root - INFO - Merging with the network\n",
      "2022-06-03 02:07:14,686 - root - INFO - Set depot\n",
      "2022-06-03 02:07:14,690 - root - INFO - Set offload facilities\n",
      "2022-06-03 02:07:14,703 - root - INFO - Extend required arcs with inverse edge arcs\n"
     ]
    },
    {
     "name": "stderr",
     "output_type": "stream",
     "text": [
      "/Users/ejwillemse/opt/anaconda3/envs/python_RD/lib/python3.8/site-packages/tables/array.py:241: DeprecationWarning:\n",
      "\n",
      "`np.object` is a deprecated alias for the builtin `object`. To silence this warning, use `object` by itself. Doing this will not modify any behavior and is safe. \n",
      "Deprecated in NumPy 1.20; for more details and guidance: https://numpy.org/devdocs/release/1.20.0-notes.html#deprecations\n",
      "\n"
     ]
    },
    {
     "name": "stdout",
     "output_type": "stream",
     "text": [
      "2022-06-03 02:07:14,802 - root - INFO - Checking master list\n",
      "2022-06-03 02:07:14,809 - root - INFO - Load distance matrix: 8125 x 8125\n"
     ]
    },
    {
     "name": "stderr",
     "output_type": "stream",
     "text": [
      "/Users/ejwillemse/opt/anaconda3/envs/python_RD/lib/python3.8/site-packages/tables/array.py:241: DeprecationWarning:\n",
      "\n",
      "`np.object` is a deprecated alias for the builtin `object`. To silence this warning, use `object` by itself. Doing this will not modify any behavior and is safe. \n",
      "Deprecated in NumPy 1.20; for more details and guidance: https://numpy.org/devdocs/release/1.20.0-notes.html#deprecations\n",
      "\n",
      "/Users/ejwillemse/opt/anaconda3/envs/python_RD/lib/python3.8/site-packages/tables/leaf.py:544: VisibleDeprecationWarning:\n",
      "\n",
      "Creating an ndarray from ragged nested sequences (which is a list-or-tuple of lists-or-tuples-or ndarrays with different lengths or shapes) is deprecated. If you meant to do this, you must specify 'dtype=object' when creating the ndarray.\n",
      "\n"
     ]
    },
    {
     "name": "stdout",
     "output_type": "stream",
     "text": [
      "2022-06-03 02:07:22,276 - root - INFO - Creating nearest neighbour lists\n",
      "2022-06-03 02:07:25,849 - root - INFO - Calculate offloads: 8125 x 8125 x 2\n",
      "2022-06-03 02:07:34,087 - root - INFO - Done!\n",
      "2022-06-03 02:07:34,135 - root - INFO - Uploading scenario inputs...\n",
      "2022-06-03 02:07:34,164 - root - INFO - Setting service cost for network\n",
      "2022-06-03 02:07:34,174 - root - INFO - Setting demand for network\n",
      "2022-06-03 02:07:34,183 - root - INFO - Update travel durations.\n",
      "2022-06-03 02:07:34,495 - root - INFO - Update offload durations.\n",
      "2022-06-03 02:07:34,931 - root - INFO - Done\n",
      "2022-06-03 02:07:34,932 - root - INFO - Problem info supplied. Directly proceeding to solve problem.\n",
      "2022-06-03 02:08:09,802 - root - INFO - Done generating routes\n",
      "Number of routes: 18\n",
      "2022-06-03 02:08:09,803 - root - INFO - Preparing scenario outputs...\n"
     ]
    },
    {
     "name": "stderr",
     "output_type": "stream",
     "text": [
      "/Users/ejwillemse/opt/anaconda3/envs/python_RD/lib/python3.8/site-packages/tables/array.py:241: DeprecationWarning:\n",
      "\n",
      "`np.object` is a deprecated alias for the builtin `object`. To silence this warning, use `object` by itself. Doing this will not modify any behavior and is safe. \n",
      "Deprecated in NumPy 1.20; for more details and guidance: https://numpy.org/devdocs/release/1.20.0-notes.html#deprecations\n",
      "\n"
     ]
    },
    {
     "name": "stdout",
     "output_type": "stream",
     "text": [
      "2022-06-03 02:08:19,550 - root - INFO - Done preparing output\n",
      "2022-06-03 02:08:19,552 - kedro.io.data_catalog - INFO - Saving data to `resource_summary_table_20220601_decentral` (PartitionedDataSet)...\n"
     ]
    },
    {
     "name": "stderr",
     "output_type": "stream",
     "text": [
      "/Users/ejwillemse/dev/waste_labs_dev/project_rdi_cpt/src/mcarptif/visualise/route_tables.py:146: FutureWarning:\n",
      "\n",
      "The frame.append method is deprecated and will be removed from pandas in a future version. Use pandas.concat instead.\n",
      "\n"
     ]
    },
    {
     "name": "stdout",
     "output_type": "stream",
     "text": [
      "\n",
      "\n",
      " RUNNING SCENARIO households_099\n",
      "2022-06-03 02:08:20,039 - kedro.io.data_catalog - INFO - Loading data from `waste_gen_scenarios_local_20220601` (PartitionedDataSet)...\n",
      "2022-06-03 02:08:20,058 - kedro.io.data_catalog - INFO - Loading data from `routing_parameters` (ExcelDataSet)...\n",
      "2022-06-03 02:08:20,239 - root - INFO - Preparing road network.......\n",
      "\n",
      "2022-06-03 02:08:20,305 - root - INFO - Load required arcs\n",
      "2022-06-03 02:08:20,307 - root - INFO - Merging with the network\n",
      "2022-06-03 02:08:20,336 - root - INFO - Set depot\n",
      "2022-06-03 02:08:20,340 - root - INFO - Set offload facilities\n",
      "2022-06-03 02:08:20,354 - root - INFO - Extend required arcs with inverse edge arcs\n"
     ]
    },
    {
     "name": "stderr",
     "output_type": "stream",
     "text": [
      "/Users/ejwillemse/opt/anaconda3/envs/python_RD/lib/python3.8/site-packages/tables/array.py:241: DeprecationWarning:\n",
      "\n",
      "`np.object` is a deprecated alias for the builtin `object`. To silence this warning, use `object` by itself. Doing this will not modify any behavior and is safe. \n",
      "Deprecated in NumPy 1.20; for more details and guidance: https://numpy.org/devdocs/release/1.20.0-notes.html#deprecations\n",
      "\n"
     ]
    },
    {
     "name": "stdout",
     "output_type": "stream",
     "text": [
      "2022-06-03 02:08:20,458 - root - INFO - Checking master list\n",
      "2022-06-03 02:08:20,467 - root - INFO - Load distance matrix: 8129 x 8129\n"
     ]
    },
    {
     "name": "stderr",
     "output_type": "stream",
     "text": [
      "/Users/ejwillemse/opt/anaconda3/envs/python_RD/lib/python3.8/site-packages/tables/array.py:241: DeprecationWarning:\n",
      "\n",
      "`np.object` is a deprecated alias for the builtin `object`. To silence this warning, use `object` by itself. Doing this will not modify any behavior and is safe. \n",
      "Deprecated in NumPy 1.20; for more details and guidance: https://numpy.org/devdocs/release/1.20.0-notes.html#deprecations\n",
      "\n",
      "/Users/ejwillemse/opt/anaconda3/envs/python_RD/lib/python3.8/site-packages/tables/leaf.py:544: VisibleDeprecationWarning:\n",
      "\n",
      "Creating an ndarray from ragged nested sequences (which is a list-or-tuple of lists-or-tuples-or ndarrays with different lengths or shapes) is deprecated. If you meant to do this, you must specify 'dtype=object' when creating the ndarray.\n",
      "\n"
     ]
    },
    {
     "name": "stdout",
     "output_type": "stream",
     "text": [
      "2022-06-03 02:08:27,016 - root - INFO - Creating nearest neighbour lists\n",
      "2022-06-03 02:08:30,577 - root - INFO - Calculate offloads: 8129 x 8129 x 2\n",
      "2022-06-03 02:08:39,236 - root - INFO - Done!\n",
      "2022-06-03 02:08:39,282 - root - INFO - Uploading scenario inputs...\n",
      "2022-06-03 02:08:39,308 - root - INFO - Setting service cost for network\n",
      "2022-06-03 02:08:39,322 - root - INFO - Setting demand for network\n",
      "2022-06-03 02:08:39,334 - root - INFO - Update travel durations.\n",
      "2022-06-03 02:08:39,636 - root - INFO - Update offload durations.\n",
      "2022-06-03 02:08:40,071 - root - INFO - Done\n",
      "2022-06-03 02:08:40,072 - root - INFO - Problem info supplied. Directly proceeding to solve problem.\n",
      "2022-06-03 02:09:15,469 - root - INFO - Done generating routes\n",
      "Number of routes: 18\n",
      "2022-06-03 02:09:15,470 - root - INFO - Preparing scenario outputs...\n"
     ]
    },
    {
     "name": "stderr",
     "output_type": "stream",
     "text": [
      "/Users/ejwillemse/opt/anaconda3/envs/python_RD/lib/python3.8/site-packages/tables/array.py:241: DeprecationWarning:\n",
      "\n",
      "`np.object` is a deprecated alias for the builtin `object`. To silence this warning, use `object` by itself. Doing this will not modify any behavior and is safe. \n",
      "Deprecated in NumPy 1.20; for more details and guidance: https://numpy.org/devdocs/release/1.20.0-notes.html#deprecations\n",
      "\n"
     ]
    },
    {
     "name": "stdout",
     "output_type": "stream",
     "text": [
      "2022-06-03 02:09:25,436 - root - INFO - Done preparing output\n",
      "2022-06-03 02:09:25,437 - kedro.io.data_catalog - INFO - Saving data to `resource_summary_table_20220601_decentral` (PartitionedDataSet)...\n"
     ]
    },
    {
     "name": "stderr",
     "output_type": "stream",
     "text": [
      "/Users/ejwillemse/dev/waste_labs_dev/project_rdi_cpt/src/mcarptif/visualise/route_tables.py:146: FutureWarning:\n",
      "\n",
      "The frame.append method is deprecated and will be removed from pandas in a future version. Use pandas.concat instead.\n",
      "\n"
     ]
    },
    {
     "name": "stdout",
     "output_type": "stream",
     "text": [
      "\n",
      "\n",
      " RUNNING SCENARIO households_100\n",
      "2022-06-03 02:09:25,919 - kedro.io.data_catalog - INFO - Loading data from `waste_gen_scenarios_local_20220601` (PartitionedDataSet)...\n",
      "2022-06-03 02:09:25,939 - kedro.io.data_catalog - INFO - Loading data from `routing_parameters` (ExcelDataSet)...\n",
      "2022-06-03 02:09:26,103 - root - INFO - Preparing road network.......\n",
      "\n",
      "2022-06-03 02:09:26,170 - root - INFO - Load required arcs\n",
      "2022-06-03 02:09:26,172 - root - INFO - Merging with the network\n",
      "2022-06-03 02:09:26,201 - root - INFO - Set depot\n",
      "2022-06-03 02:09:26,204 - root - INFO - Set offload facilities\n",
      "2022-06-03 02:09:26,214 - root - INFO - Extend required arcs with inverse edge arcs\n",
      "2022-06-03 02:09:26,312 - root - INFO - Checking master list\n"
     ]
    },
    {
     "name": "stderr",
     "output_type": "stream",
     "text": [
      "/Users/ejwillemse/opt/anaconda3/envs/python_RD/lib/python3.8/site-packages/tables/array.py:241: DeprecationWarning:\n",
      "\n",
      "`np.object` is a deprecated alias for the builtin `object`. To silence this warning, use `object` by itself. Doing this will not modify any behavior and is safe. \n",
      "Deprecated in NumPy 1.20; for more details and guidance: https://numpy.org/devdocs/release/1.20.0-notes.html#deprecations\n",
      "\n"
     ]
    },
    {
     "name": "stdout",
     "output_type": "stream",
     "text": [
      "2022-06-03 02:09:26,319 - root - INFO - Load distance matrix: 8124 x 8124\n"
     ]
    },
    {
     "name": "stderr",
     "output_type": "stream",
     "text": [
      "/Users/ejwillemse/opt/anaconda3/envs/python_RD/lib/python3.8/site-packages/tables/array.py:241: DeprecationWarning:\n",
      "\n",
      "`np.object` is a deprecated alias for the builtin `object`. To silence this warning, use `object` by itself. Doing this will not modify any behavior and is safe. \n",
      "Deprecated in NumPy 1.20; for more details and guidance: https://numpy.org/devdocs/release/1.20.0-notes.html#deprecations\n",
      "\n",
      "/Users/ejwillemse/opt/anaconda3/envs/python_RD/lib/python3.8/site-packages/tables/leaf.py:544: VisibleDeprecationWarning:\n",
      "\n",
      "Creating an ndarray from ragged nested sequences (which is a list-or-tuple of lists-or-tuples-or ndarrays with different lengths or shapes) is deprecated. If you meant to do this, you must specify 'dtype=object' when creating the ndarray.\n",
      "\n"
     ]
    },
    {
     "name": "stdout",
     "output_type": "stream",
     "text": [
      "2022-06-03 02:09:32,958 - root - INFO - Creating nearest neighbour lists\n",
      "2022-06-03 02:09:36,498 - root - INFO - Calculate offloads: 8124 x 8124 x 2\n",
      "2022-06-03 02:09:45,050 - root - INFO - Done!\n",
      "2022-06-03 02:09:45,097 - root - INFO - Uploading scenario inputs...\n",
      "2022-06-03 02:09:45,125 - root - INFO - Setting service cost for network\n",
      "2022-06-03 02:09:45,135 - root - INFO - Setting demand for network\n",
      "2022-06-03 02:09:45,146 - root - INFO - Update travel durations.\n",
      "2022-06-03 02:09:45,439 - root - INFO - Update offload durations.\n",
      "2022-06-03 02:09:45,863 - root - INFO - Done\n",
      "2022-06-03 02:09:45,864 - root - INFO - Problem info supplied. Directly proceeding to solve problem.\n",
      "2022-06-03 02:10:20,927 - root - INFO - Done generating routes\n",
      "Number of routes: 18\n",
      "2022-06-03 02:10:20,928 - root - INFO - Preparing scenario outputs...\n"
     ]
    },
    {
     "name": "stderr",
     "output_type": "stream",
     "text": [
      "/Users/ejwillemse/opt/anaconda3/envs/python_RD/lib/python3.8/site-packages/tables/array.py:241: DeprecationWarning:\n",
      "\n",
      "`np.object` is a deprecated alias for the builtin `object`. To silence this warning, use `object` by itself. Doing this will not modify any behavior and is safe. \n",
      "Deprecated in NumPy 1.20; for more details and guidance: https://numpy.org/devdocs/release/1.20.0-notes.html#deprecations\n",
      "\n"
     ]
    },
    {
     "name": "stdout",
     "output_type": "stream",
     "text": [
      "2022-06-03 02:10:30,824 - root - INFO - Done preparing output\n",
      "2022-06-03 02:10:30,825 - kedro.io.data_catalog - INFO - Saving data to `resource_summary_table_20220601_decentral` (PartitionedDataSet)...\n"
     ]
    },
    {
     "name": "stderr",
     "output_type": "stream",
     "text": [
      "/Users/ejwillemse/dev/waste_labs_dev/project_rdi_cpt/src/mcarptif/visualise/route_tables.py:146: FutureWarning:\n",
      "\n",
      "The frame.append method is deprecated and will be removed from pandas in a future version. Use pandas.concat instead.\n",
      "\n"
     ]
    }
   ],
   "source": [
    "keys_all = list(df_producer_geo_all)\n",
    "\n",
    "for keys in keys_all:\n",
    "    if keys[0] == \".\": continue\n",
    "    #if keys in solved: continue\n",
    "    print(f\"\\n\\n RUNNING SCENARIO {keys}\")\n",
    "\n",
    "    df_producer_geo = df_producer_geo_all[keys]()\n",
    "    df_producer_geo[\"lat_lon_id\"] = (\n",
    "        df_producer_geo[[\"parcelLat\", \"parcelLon\"]]\n",
    "        .round(8)\n",
    "        .astype(str)\n",
    "        .agg(\"-\".join, axis=1)\n",
    "    )\n",
    "    df_producer_geo = df_producer_geo.merge(df_lat_lon_match, left_on=\"lat_lon_id\", right_on=\"lat_lon_id\")\n",
    "\n",
    "    df_producer_geo = df_producer_geo.merge(\n",
    "        test_network[[\"arc_id\", \"geom_id\", \"geom_id_inv\", \"geom_id_order\", \"arc_index\"]],\n",
    "        validate=\"m:1\",\n",
    "    )\n",
    "    df_producer_geo[\"land_use\"] = df_producer_geo[\"mainDwellingType\"].fillna(\"nan\")\n",
    "\n",
    "\n",
    "    df_producer_geo_waste = catalog.load(\"waste_gen_scenarios_local_20220601\")[keys]()\n",
    "    df_producer_geo_waste = df_producer_geo_waste.loc[df_producer_geo_waste[\"id\"] != 0.01]\n",
    "    df_producer_geo_waste = df_producer_geo_waste.loc[df_producer_geo_waste[\"id\"].isin(df_producer_geo[\"id\"])]\n",
    "\n",
    "    routing_parameters = catalog.load(\n",
    "        \"routing_parameters\"\n",
    "    )  # pd.read_excel('../routing_parameters/refuse_parameters.xlsx', sheet_name = 'Refuse_P1')\n",
    "    routing_parameters.fillna(0, inplace=True)\n",
    "\n",
    "    calculate = [\"bin_service_cost\"]\n",
    "    df_producer_geo.drop(columns=calculate, inplace=True, errors=\"ignore\")\n",
    "    df_producer_geo[\"Domestic\"] = 1\n",
    "    df_producer_geo[\"Non Domestic\"] = 0\n",
    "    df_producer_geo[\"H/M\"] = 0\n",
    "    df_producer_geo[\"category\"] = \"Landed\"\n",
    "    df_producer_geo[\"land_use\"] = \"Landed\"\n",
    "    df_producer_geo[\"total units\"] = 1\n",
    "    df_producer_geo[\"total_people\"] = 1\n",
    "    df_producer_geo[\"Postal Code\"] = df_producer_geo[\"id\"]\n",
    "\n",
    "    df_producer_geo = df_producer_geo.merge(routing_parameters)\n",
    "    df_producer_geo = df_producer_geo.merge(\n",
    "        df_producer_geo_waste, how=\"left\", validate=\"1:1\"\n",
    "    )\n",
    "    df_producer_geo[\"demand\"] = df_producer_geo[\"waste\"]\n",
    "    # print(\"\\n# offloads (12t)\")\n",
    "    # df_producer_geo.groupby(\"land_use\")[\"demand\"].sum() / 12000  # number of offloads\n",
    "    # print(\"\\n# units\")\n",
    "    # df_producer_geo.groupby(\"land_use\")[\"total units\"].sum()\n",
    "    # print(\"\\n# shifts (bin service cost)\")\n",
    "    # df_producer_geo.groupby(\"land_use\")[\"bin_service_cost\"].sum() / (\n",
    "    #     3600 * 8\n",
    "    # )  # number of shifts\n",
    "\n",
    "    key_pois = infrastructure\n",
    "    key_pois[\"Postal Code\"] = key_pois[\"id\"]\n",
    "\n",
    "    key_pois[\"u\"] = key_pois[\"arc_u\"]\n",
    "    key_pois[\"v\"] = key_pois[\"arc_v\"]\n",
    "    key_pois[\"key\"] = 0\n",
    "    key_pois[\"geometry_point\"] = key_pois[\"geometry\"]\n",
    "    key_pois[\"geometry\"] = key_pois[\"geometry_arc\"]\n",
    "    key_pois = process_gdf.process_edges(key_pois)\n",
    "    key_pois[\"geometry\"] = key_pois[\"geometry_point\"]\n",
    "    key_pois = key_pois.merge(test_network[[\"arc_id\", \"arc_index\"]], validate=\"1:1\")\n",
    "\n",
    "    offload = key_pois.loc[(key_pois[\"type\"] != \"depot\")]\n",
    "\n",
    "    key_depos = key_pois.loc[key_pois[\"type\"] == \"depot\"]\n",
    "    key_pois_list = list(key_depos[\"description\"].unique())\n",
    "\n",
    "    description = \"Depot 2\"\n",
    "\n",
    "    key_depot_select = key_depos.copy()\n",
    "    key_depot_select = key_depot_select.loc[key_depot_select[\"description\"] == description]\n",
    "    depot_arc_index = key_depot_select.iloc[0][\"arc_index\"]\n",
    "    offload = key_pois.loc[key_pois[\"type\"] != \"depot\"]\n",
    "\n",
    "    descriptions = [\"Offload 2\", \"Offload 3\"]\n",
    "\n",
    "    key_if_select = offload.copy()\n",
    "    key_if_select = key_if_select.loc[key_if_select[\"description\"].isin(descriptions)]\n",
    "    if_arc_index = key_if_select[\"arc_index\"].values\n",
    "\n",
    "    key_list = list(df_producer_geo[\"category\"].unique())\n",
    "\n",
    "    descriptions = [\"Landed\"]\n",
    "\n",
    "    bad_arcs = [\n",
    "        \"[(18.4571747, -33.9584372), (18.457166, -33.9585368), (18.457156, -33.9585885), (18.4571405, -33.9586324), (18.4571204, -33.9586875), (18.4570842, -33.9587648), (18.4568647, -33.9591331), (18.4568633, -33.9591415), (18.4568634, -33.9591465), (18.4568651, -33.9591518), (18.4568693, -33.9591571), (18.4568826, -33.9591636), (18.4570165, -33.9592207), (18.4570237, -33.9592212), (18.4570302, -33.9592194), (18.4570376, -33.9592149), (18.4570447, -33.9592066), (18.4570542, -33.9591921), (18.457325, -33.958752), (18.4573407, -33.9587173), (18.4573555, -33.9586744), (18.4573665, -33.9586219), (18.4573672, -33.9585957), (18.4573652, -33.958564), (18.4573568, -33.9585404), (18.4573451, -33.9585162), (18.457334, -33.9585017), (18.4573196, -33.9584906), (18.4573008, -33.9584812), (18.457278, -33.9584717), (18.4571747, -33.9584372)]\"\n",
    "    ]\n",
    "\n",
    "    prod_select = df_producer_geo.copy()\n",
    "    prod_select = prod_select.loc[~prod_select[\"geom_id_order\"].isin(bad_arcs)]\n",
    "    prod_select = prod_select.loc[prod_select[\"category\"].isin(descriptions)]\n",
    "\n",
    "    logging.info(\"Preparing road network.......\\n\")\n",
    "    nodes[\"u\"] = nodes[\"osmid\"]\n",
    "    network_info = NetworkExtract(\n",
    "        test_network,\n",
    "        test_network_directed,\n",
    "        nodes,\n",
    "        networkh5_file,\n",
    "        round_cost=True,\n",
    "        key_pois=key_pois,\n",
    "    )\n",
    "    \n",
    "    depot = depot_arc_index\n",
    "    ifs = if_arc_index\n",
    "    req_arcs = network_info.arc_consolidation_standard(prod_select)\n",
    "    network_info.load_required_arcs(req_arcs, merge_network=True)\n",
    "    network_info.set_depot_arc(depot)\n",
    "    network_info.set_if_arcs(ifs)\n",
    "    network_info.loc_in_required_arcs()\n",
    "\n",
    "    network_info.extend_required_inverse_arcs()\n",
    "\n",
    "    network_info.check_main_list()\n",
    "    network_info.load_distance_matrix()\n",
    "    network_info.offload_calculations3D()\n",
    "\n",
    "    network_info.network_gdf(prod_select)\n",
    "\n",
    "    logging.info(\"Done!\")\n",
    "\n",
    "    cut_off = 100000\n",
    "    bad_arcs = []\n",
    "    for i in range(len(network_info.d)):\n",
    "        if network_info.d[i, 0] > cut_off:\n",
    "            bad_arc = network_info.reqArcList[i]\n",
    "            bad_links = test_network.loc[test_network[\"arc_index\"] == bad_arc]\n",
    "            bad_arcs += bad_links[\"geom_id_order\"].tolist()\n",
    "    assert len(bad_arcs) == 0\n",
    "    \n",
    "\n",
    "    cut_off = 100000\n",
    "    bad_arcs = []\n",
    "    for i in range(len(network_info.d)):\n",
    "        if network_info.d[0, i] > cut_off:\n",
    "            bad_arc = network_info.reqArcList[i]\n",
    "            bad_links = test_network.loc[test_network[\"arc_index\"] == bad_arc]\n",
    "            bad_arcs += bad_links[\"geom_id_order\"].tolist()\n",
    "    assert len(bad_arcs) == 0\n",
    "    \n",
    "\n",
    "    d_max = network_info.d.max()\n",
    "    if d_max == np.inf:\n",
    "        d_i = network_info.d.argmax(axis=0)[0]\n",
    "        bad_arc = network_info.reqArcList[d_i]\n",
    "        print(network_info.d[d_i, :])\n",
    "        print(network_info.d[:, d_i])\n",
    "        d_i2 = network_info.d[d_i, :].argmax()\n",
    "        bad_arc2 = network_info.reqArcList[d_i2]\n",
    "        print(network_info.d[d_i2, :])\n",
    "        print(network_info.d[:, d_i2])\n",
    "        test_network.loc[test_network[\"arc_index\"] == bad_arc]\n",
    "        test_network.loc[test_network[\"arc_index\"] == bad_arc2]\n",
    "\n",
    "    scenario_name = \"Landed refuse\"\n",
    "    schedule_select = \"weekly\"\n",
    "    offload_time = (90  + 15) * 60\n",
    "    max_duration = 10.5 * 3600\n",
    "    capacity = 10.5 * 1000\n",
    "    travel_speed = 45 / 3.6\n",
    "    service_speed = 30 / 3.6\n",
    "\n",
    "    demand_increase_factor = {\"daily\": 1, \"weekly\": 1, \"two_one\": 1}\n",
    "    increase_factor = demand_increase_factor[schedule_select]\n",
    "\n",
    "    logging.info(\"Uploading scenario inputs...\")\n",
    "    prod_select_update = prod_select.copy()\n",
    "    prod_arc_update = prod_select_update.copy()\n",
    "\n",
    "    network_info.producer_demand = prod_arc_update\n",
    "    prod_arc_update = network_info.add_demand_service_cost_to_ars(\n",
    "        prod_select_update, service_speed\n",
    "    )\n",
    "    _ = pd.DataFrame(\n",
    "        prod_arc_update.drop(columns=[\"arc_index\"]).sum(numeric_only=True)\n",
    "    ).astype(int)\n",
    "\n",
    "    network_info.set_travel_speed(travel_speed)\n",
    "    network_info.set_service_cost_and_demand(prod_arc_update)\n",
    "    network_info.set_offload_time(offload_time)\n",
    "    network_info.check_shapes()\n",
    "\n",
    "    network_info.update_cost_matrix()\n",
    "    network_info.update_offload_cost()\n",
    "\n",
    "    network_info.set_vechile_capacity_constraint(capacity)\n",
    "    network_info.set_vehicle_duration_constraint(max_duration)\n",
    "    logging.info(\"Done\")\n",
    "\n",
    "    solution_df = solve_store_instance(\n",
    "        \"\",\n",
    "        improve=None,\n",
    "        write_results=False,\n",
    "        info=network_info,\n",
    "        overwrite=True,\n",
    "        test_solution=False,\n",
    "        full_output=False,\n",
    "        tollerance=60,\n",
    "        nnFracLS=1,\n",
    "        nnFracTS=0.25,\n",
    "    )\n",
    "    logging.info(\"Done generating routes\")\n",
    "    n_route = solution_df[\"route\"].max() + 1\n",
    "    print(f\"Number of routes: {n_route}\")\n",
    "\n",
    "    logging.info(\"Preparing scenario outputs...\")\n",
    "\n",
    "    network_info.extend_prop_info()\n",
    "    network_info.add_solution(solution_df, order=False)\n",
    "    network_info.deconstruct_solution()\n",
    "\n",
    "    network_info.vehicle_collection_schedule(schedule=schedule_select)\n",
    "    network_info.extract_wide_offload_totals()\n",
    "\n",
    "    network_info.add_traversal_time()\n",
    "    network_info.add_time_formatted()\n",
    "    network_info.add_constant_duration_time()\n",
    "\n",
    "    _ = network_info.full_producer_report()\n",
    "\n",
    "    route_summary = RouteSummary(network_info)\n",
    "    route_sum_table = route_summary.route_summary()\n",
    "    logging.info(\"Done preparing output\")\n",
    "\n",
    "    catalog.save(\"resource_summary_table_20220601_decentral\", {keys: route_sum_table})"
   ]
  },
  {
   "cell_type": "code",
   "execution_count": null,
   "metadata": {},
   "outputs": [],
   "source": []
  }
 ],
 "metadata": {
  "kernelspec": {
   "display_name": "DemandestimationandwastecollectionroutingoptimisationfortheCityofCapeTown",
   "language": "python",
   "name": "python3"
  },
  "language_info": {
   "codemirror_mode": {
    "name": "ipython",
    "version": 3
   },
   "file_extension": ".py",
   "mimetype": "text/x-python",
   "name": "python",
   "nbconvert_exporter": "python",
   "pygments_lexer": "ipython3",
   "version": "3.8.12"
  },
  "widgets": {
   "application/vnd.jupyter.widget-state+json": {
    "state": {
     "0404c280bd7a492aa7508beb5a1fcfdc": {
      "model_module": "@jupyter-widgets/base",
      "model_module_version": "1.2.0",
      "model_name": "LayoutModel",
      "state": {}
     },
     "05d2e6be818a4a2f9c76407f8e1eb5ec": {
      "model_module": "@jupyter-widgets/controls",
      "model_module_version": "1.5.0",
      "model_name": "DescriptionStyleModel",
      "state": {
       "description_width": ""
      }
     },
     "0a6eac1142654a048ac05ee24867a21b": {
      "model_module": "@jupyter-widgets/controls",
      "model_module_version": "1.5.0",
      "model_name": "ButtonStyleModel",
      "state": {}
     },
     "0fd27e83b944482c80c54aa77199667d": {
      "model_module": "@jupyter-widgets/base",
      "model_module_version": "1.2.0",
      "model_name": "LayoutModel",
      "state": {}
     },
     "13dd97b986d149f29e513251304cea19": {
      "model_module": "@jupyter-widgets/output",
      "model_module_version": "1.0.0",
      "model_name": "OutputModel",
      "state": {
       "layout": "IPY_MODEL_e0103eff14ce4eb08422d3be9dfa040a"
      }
     },
     "16e6989affb846b0baf6204485ea672d": {
      "model_module": "@jupyter-widgets/controls",
      "model_module_version": "1.5.0",
      "model_name": "DescriptionStyleModel",
      "state": {
       "description_width": ""
      }
     },
     "182ddfca166843ae87b1cac941d1269b": {
      "model_module": "@jupyter-widgets/output",
      "model_module_version": "1.0.0",
      "model_name": "OutputModel",
      "state": {
       "layout": "IPY_MODEL_4cf7782dc39e49ba887c15105601b0f2",
       "outputs": [
        {
         "data": {
          "text/html": "<div>\n<style scoped>\n    .dataframe tbody tr th:only-of-type {\n        vertical-align: middle;\n    }\n\n    .dataframe tbody tr th {\n        vertical-align: top;\n    }\n\n    .dataframe thead th {\n        text-align: right;\n    }\n</style>\n<table border=\"1\" class=\"dataframe\">\n  <thead>\n    <tr style=\"text-align: right;\">\n      <th></th>\n      <th>description</th>\n      <th>type</th>\n      <th>Postal Code</th>\n      <th>ADDRESS</th>\n    </tr>\n  </thead>\n  <tbody>\n    <tr>\n      <th>2</th>\n      <td>ALBA W&amp;H Tuas depot</td>\n      <td>depot</td>\n      <td>639142</td>\n      <td>18 tuas avenue 10 singapore 639142</td>\n    </tr>\n  </tbody>\n</table>\n</div>",
          "text/plain": "           description   type Postal Code                             ADDRESS\n2  ALBA W&H Tuas depot  depot      639142  18 tuas avenue 10 singapore 639142"
         },
         "metadata": {},
         "output_type": "display_data"
        }
       ]
      }
     },
     "18e19de11b3546e5adab0286d75db98d": {
      "model_module": "@jupyter-widgets/output",
      "model_module_version": "1.0.0",
      "model_name": "OutputModel",
      "state": {
       "layout": "IPY_MODEL_2e8cb26f70334cc58df3f12109655625",
       "outputs": [
        {
         "data": {
          "text/plain": "'Producers in area: 16057'"
         },
         "metadata": {},
         "output_type": "display_data"
        }
       ]
      }
     },
     "1bb42f3182c04b58bc692d0f4742bc2d": {
      "model_module": "@jupyter-widgets/base",
      "model_module_version": "1.2.0",
      "model_name": "LayoutModel",
      "state": {}
     },
     "1cad8f7177fa4f5ea8556673f1ae64bb": {
      "model_module": "@jupyter-widgets/controls",
      "model_module_version": "1.5.0",
      "model_name": "SelectMultipleModel",
      "state": {
       "_options_labels": [
        "crc.csv",
        "BC.csv",
        "schools.csv",
        "bulk_hawker.csv",
        "trade_temple_other.csv",
        "gov.csv",
        "bc_blocks.csv",
        "condo_optin.csv",
        "landed.csv"
       ],
       "description": "Input file:",
       "index": [
        0,
        2,
        3,
        4,
        5,
        7,
        8
       ],
       "layout": "IPY_MODEL_8579420f34cd4bab9dc6ccb407c74f64",
       "rows": 9,
       "style": "IPY_MODEL_71cbeb9fa5264d32938c92313bab9fd1"
      }
     },
     "1d48adc2b5d24d679a6e20b970cdb56d": {
      "model_module": "@jupyter-widgets/base",
      "model_module_version": "1.2.0",
      "model_name": "LayoutModel",
      "state": {}
     },
     "21676f2219ee4ba5a144804ce0093439": {
      "model_module": "@jupyter-widgets/base",
      "model_module_version": "1.2.0",
      "model_name": "LayoutModel",
      "state": {}
     },
     "25a8b760a7f94eb5951d37e855d72727": {
      "model_module": "@jupyter-widgets/controls",
      "model_module_version": "1.5.0",
      "model_name": "VBoxModel",
      "state": {
       "_dom_classes": [
        "widget-interact"
       ],
       "children": [
        "IPY_MODEL_e6b6d946d1ed4fb682d736c5c3897f93",
        "IPY_MODEL_9539799220fe4775970a4fcbce1875ef"
       ],
       "layout": "IPY_MODEL_97944c3db4b945f48f6ae6a1cc134f3b"
      }
     },
     "265966bf297149b59ef3d92887186d8a": {
      "model_module": "@jupyter-widgets/controls",
      "model_module_version": "1.5.0",
      "model_name": "VBoxModel",
      "state": {
       "_dom_classes": [
        "widget-interact"
       ],
       "children": [
        "IPY_MODEL_504bdc0b9d15434ca959c87df398ea35",
        "IPY_MODEL_18e19de11b3546e5adab0286d75db98d"
       ],
       "layout": "IPY_MODEL_622b557735bb4486983f22987f257557"
      }
     },
     "288a0f87b3cb4e439f2df4c900700fb8": {
      "model_module": "@jupyter-widgets/controls",
      "model_module_version": "1.5.0",
      "model_name": "VBoxModel",
      "state": {
       "_dom_classes": [
        "widget-interact"
       ],
       "children": [
        "IPY_MODEL_b4e7121e00c84c409bf933d85c5be6a3",
        "IPY_MODEL_67dac95bcd4a49a79503b1cee672774d"
       ],
       "layout": "IPY_MODEL_21676f2219ee4ba5a144804ce0093439"
      }
     },
     "2b4e53df9b1445a98927a0b37c13d217": {
      "model_module": "@jupyter-widgets/output",
      "model_module_version": "1.0.0",
      "model_name": "OutputModel",
      "state": {
       "layout": "IPY_MODEL_0404c280bd7a492aa7508beb5a1fcfdc"
      }
     },
     "2ca17a19b9124d20805807fdf56c5991": {
      "model_module": "@jupyter-widgets/base",
      "model_module_version": "1.2.0",
      "model_name": "LayoutModel",
      "state": {}
     },
     "2dab04fec7604ba8a85279c0f047f6c9": {
      "model_module": "@jupyter-widgets/base",
      "model_module_version": "1.2.0",
      "model_name": "LayoutModel",
      "state": {}
     },
     "2e8cb26f70334cc58df3f12109655625": {
      "model_module": "@jupyter-widgets/base",
      "model_module_version": "1.2.0",
      "model_name": "LayoutModel",
      "state": {}
     },
     "341087fabb234a46a56558951c4405e0": {
      "model_module": "@jupyter-widgets/controls",
      "model_module_version": "1.5.0",
      "model_name": "VBoxModel",
      "state": {
       "_dom_classes": [
        "widget-interact"
       ],
       "children": [
        "IPY_MODEL_1cad8f7177fa4f5ea8556673f1ae64bb",
        "IPY_MODEL_cb24cb8da58849448fc9a1b3534c36ee"
       ],
       "layout": "IPY_MODEL_0fd27e83b944482c80c54aa77199667d"
      }
     },
     "391cbe513c284d1f9b58b5cc5911e59f": {
      "model_module": "@jupyter-widgets/controls",
      "model_module_version": "1.5.0",
      "model_name": "VBoxModel",
      "state": {
       "_dom_classes": [
        "widget-interact"
       ],
       "children": [
        "IPY_MODEL_7868f8346fed48deb80e9d2bdd2079c1",
        "IPY_MODEL_e2b9ab564343429ab8341dd254170f21"
       ],
       "layout": "IPY_MODEL_a394688f1a5e48e48cc67d6c1678b6d2"
      }
     },
     "3a9e99243c064694bcd39e4ba956f0b3": {
      "model_module": "@jupyter-widgets/base",
      "model_module_version": "1.2.0",
      "model_name": "LayoutModel",
      "state": {}
     },
     "409e0a0f840e46edaaad6d5dcf3c364f": {
      "model_module": "@jupyter-widgets/base",
      "model_module_version": "1.2.0",
      "model_name": "LayoutModel",
      "state": {}
     },
     "4576df5e7e4045379a97beef7b67d006": {
      "model_module": "@jupyter-widgets/base",
      "model_module_version": "1.2.0",
      "model_name": "LayoutModel",
      "state": {}
     },
     "461ffd4d4fed477eb203b7f6a5411cfa": {
      "model_module": "@jupyter-widgets/controls",
      "model_module_version": "1.5.0",
      "model_name": "DescriptionStyleModel",
      "state": {
       "description_width": ""
      }
     },
     "463b011330ef4d3db35038c8a857f4b7": {
      "model_module": "@jupyter-widgets/base",
      "model_module_version": "1.2.0",
      "model_name": "LayoutModel",
      "state": {}
     },
     "4cf7782dc39e49ba887c15105601b0f2": {
      "model_module": "@jupyter-widgets/base",
      "model_module_version": "1.2.0",
      "model_name": "LayoutModel",
      "state": {}
     },
     "504bdc0b9d15434ca959c87df398ea35": {
      "model_module": "@jupyter-widgets/controls",
      "model_module_version": "1.5.0",
      "model_name": "SelectMultipleModel",
      "state": {
       "_options_labels": [
        "crc.csv",
        "BC.csv",
        "schools.csv",
        "bulk_hawker.csv",
        "trade_temple_other.csv",
        "gov.csv",
        "bc_blocks.csv",
        "condo_optin.csv",
        "landed.csv"
       ],
       "description": "Input file:",
       "index": [
        0,
        2,
        3,
        4,
        5,
        7,
        8
       ],
       "layout": "IPY_MODEL_463b011330ef4d3db35038c8a857f4b7",
       "rows": 9,
       "style": "IPY_MODEL_461ffd4d4fed477eb203b7f6a5411cfa"
      }
     },
     "50cb8b8f05ac47be8d3f2907f6d218c8": {
      "model_module": "@jupyter-widgets/controls",
      "model_module_version": "1.5.0",
      "model_name": "ButtonStyleModel",
      "state": {}
     },
     "53a536581bdd4742bf03f1d3d16e90f7": {
      "model_module": "@jupyter-widgets/output",
      "model_module_version": "1.0.0",
      "model_name": "OutputModel",
      "state": {
       "layout": "IPY_MODEL_a8ac7c7b928c4e48b24704fa5f841cfd"
      }
     },
     "58b7238f301f4d129545701570bb8116": {
      "model_module": "@jupyter-widgets/controls",
      "model_module_version": "1.5.0",
      "model_name": "ButtonStyleModel",
      "state": {}
     },
     "622b557735bb4486983f22987f257557": {
      "model_module": "@jupyter-widgets/base",
      "model_module_version": "1.2.0",
      "model_name": "LayoutModel",
      "state": {}
     },
     "677d23deb7274b0ca279dffdd2c7b91b": {
      "model_module": "@jupyter-widgets/controls",
      "model_module_version": "1.5.0",
      "model_name": "ButtonModel",
      "state": {
       "description": "Show map",
       "layout": "IPY_MODEL_f5da9e1175f24814a9ba6195fdcf3885",
       "style": "IPY_MODEL_cefa579cf05f44a88720211847e8e885"
      }
     },
     "67dac95bcd4a49a79503b1cee672774d": {
      "model_module": "@jupyter-widgets/output",
      "model_module_version": "1.0.0",
      "model_name": "OutputModel",
      "state": {
       "layout": "IPY_MODEL_f9dca610179d43ce8d843f264b73f9ab",
       "outputs": [
        {
         "data": {
          "text/html": "<div>\n<style scoped>\n    .dataframe tbody tr th:only-of-type {\n        vertical-align: middle;\n    }\n\n    .dataframe tbody tr th {\n        vertical-align: top;\n    }\n\n    .dataframe thead th {\n        text-align: right;\n    }\n</style>\n<table border=\"1\" class=\"dataframe\">\n  <thead>\n    <tr style=\"text-align: right;\">\n      <th></th>\n      <th>description</th>\n      <th>type</th>\n      <th>Postal Code</th>\n      <th>ADDRESS</th>\n    </tr>\n  </thead>\n  <tbody>\n    <tr>\n      <th>5</th>\n      <td>Senoko Incineration Plant</td>\n      <td>waste_treatment</td>\n      <td>759907</td>\n      <td>30 attap valley road senoko incineration plant...</td>\n    </tr>\n    <tr>\n      <th>6</th>\n      <td>Tuas South Incineration Plant</td>\n      <td>waste_treatment</td>\n      <td>637821</td>\n      <td>98 tuas south avenue 3 singapore 637821</td>\n    </tr>\n    <tr>\n      <th>7</th>\n      <td>KSTP</td>\n      <td>waste_treatment</td>\n      <td>637366</td>\n      <td>96 tuas south avenue 3 singapore 637366</td>\n    </tr>\n  </tbody>\n</table>\n</div>",
          "text/plain": "                     description             type Postal Code  \\\n5      Senoko Incineration Plant  waste_treatment      759907   \n6  Tuas South Incineration Plant  waste_treatment      637821   \n7                           KSTP  waste_treatment      637366   \n\n                                             ADDRESS  \n5  30 attap valley road senoko incineration plant...  \n6            98 tuas south avenue 3 singapore 637821  \n7            96 tuas south avenue 3 singapore 637366  "
         },
         "metadata": {},
         "output_type": "display_data"
        }
       ]
      }
     },
     "6985cb8ed2434a029b3d1484bfb9ee9e": {
      "model_module": "@jupyter-widgets/controls",
      "model_module_version": "1.5.0",
      "model_name": "ButtonModel",
      "state": {
       "description": "Show map",
       "layout": "IPY_MODEL_d3bf98105dd4441eab236f1909868aaa",
       "style": "IPY_MODEL_58b7238f301f4d129545701570bb8116"
      }
     },
     "6fe19f45c10841008377a88b858e60ae": {
      "model_module": "@jupyter-widgets/base",
      "model_module_version": "1.2.0",
      "model_name": "LayoutModel",
      "state": {}
     },
     "71cbeb9fa5264d32938c92313bab9fd1": {
      "model_module": "@jupyter-widgets/controls",
      "model_module_version": "1.5.0",
      "model_name": "DescriptionStyleModel",
      "state": {
       "description_width": ""
      }
     },
     "76b8bd3d9a634a00ab87cd5e943920de": {
      "model_module": "@jupyter-widgets/base",
      "model_module_version": "1.2.0",
      "model_name": "LayoutModel",
      "state": {}
     },
     "7868f8346fed48deb80e9d2bdd2079c1": {
      "model_module": "@jupyter-widgets/controls",
      "model_module_version": "1.5.0",
      "model_name": "SelectMultipleModel",
      "state": {
       "_options_labels": [
        "rel_refuse_producers_high_demand.csv",
        "landed_service_residential.csv",
        "crc.csv",
        "BC.csv",
        "schools.csv",
        "bc_hl_refuse_producers.csv",
        "bulk_hawker.csv",
        "trade_temple_other.csv",
        "rel_refuse_producers_high_demand_all.csv",
        "rel_refuse_producers.csv",
        "rel_refuse_producers_jurong_high_demand.csv",
        "crc_mac.csv",
        "rel_recycling.csv",
        "rel_refuse_producers_jurong_high_demand_all.csv",
        "rel_refuse_producers_all.csv",
        "gov.csv",
        "bc_blocks.csv",
        "bc_refuse_producers.csv",
        "condo_optin.csv",
        "BC 1.csv"
       ],
       "description": "Input file:",
       "index": [
        0
       ],
       "layout": "IPY_MODEL_a306063464004c9f809d51daae63a170",
       "rows": 20,
       "style": "IPY_MODEL_d8bd0d0ab09c4dfd8f367b3a3547cd62"
      }
     },
     "82c1874751ba4d1bacd9de3ae0198736": {
      "model_module": "@jupyter-widgets/controls",
      "model_module_version": "1.5.0",
      "model_name": "ButtonModel",
      "state": {
       "description": "Show map",
       "layout": "IPY_MODEL_4576df5e7e4045379a97beef7b67d006",
       "style": "IPY_MODEL_c39027e57b3449caa04d9514b056a62f"
      }
     },
     "8579420f34cd4bab9dc6ccb407c74f64": {
      "model_module": "@jupyter-widgets/base",
      "model_module_version": "1.2.0",
      "model_name": "LayoutModel",
      "state": {}
     },
     "8595d8412c9444fcb6f4fa81ac7035c9": {
      "model_module": "@jupyter-widgets/controls",
      "model_module_version": "1.5.0",
      "model_name": "DescriptionStyleModel",
      "state": {
       "description_width": ""
      }
     },
     "8a2526bf64414ec18caecb7c1bd29049": {
      "model_module": "@jupyter-widgets/controls",
      "model_module_version": "1.5.0",
      "model_name": "DropdownModel",
      "state": {
       "_options_labels": [
        "ALBA W&H Kranji depot",
        "ALBA W&H Tuas depot"
       ],
       "description": "Depot:",
       "index": 1,
       "layout": "IPY_MODEL_1d48adc2b5d24d679a6e20b970cdb56d",
       "style": "IPY_MODEL_8595d8412c9444fcb6f4fa81ac7035c9"
      }
     },
     "92cadf01be534fe3939334b47fc59051": {
      "model_module": "@jupyter-widgets/controls",
      "model_module_version": "1.5.0",
      "model_name": "SelectMultipleModel",
      "state": {
       "_options_labels": [
        "crc.csv",
        "BC.csv",
        "schools.csv",
        "bulk_hawker.csv",
        "trade_temple_other.csv",
        "gov.csv",
        "bc_blocks.csv",
        "condo_optin.csv",
        "landed.csv"
       ],
       "description": "Input file:",
       "index": [
        0,
        2,
        3,
        4,
        5,
        7,
        8
       ],
       "layout": "IPY_MODEL_98b5ee657958439db3b87ec40196ba8b",
       "rows": 9,
       "style": "IPY_MODEL_9f7ea770ec784fcfbbd20b540c04e0af"
      }
     },
     "9539799220fe4775970a4fcbce1875ef": {
      "model_module": "@jupyter-widgets/output",
      "model_module_version": "1.0.0",
      "model_name": "OutputModel",
      "state": {
       "layout": "IPY_MODEL_c763016bb5d1470ba6b950b9a3bf10ab",
       "outputs": [
        {
         "name": "stdout",
         "output_type": "stream",
         "text": "Index(['planning_area', 'Postal Code', 'block_number', 'street_name',\n       'building description', 'property_type', 'land_use',\n       'total_dwelling_units', 'total_people', 'parcel_area_m2',\n       ...\n       '240', '360', '660', 'MAX SIZE FOR GOMIC  INSTALLATION',\n       'collection_scheme', 'n_bins', 'geom_id', 'geom_id_inv',\n       'geom_id_order', 'arc_index'],\n      dtype='object', length=114)\n"
        },
        {
         "data": {
          "text/plain": "'Number of producers: 15815'"
         },
         "metadata": {},
         "output_type": "display_data"
        },
        {
         "name": "stdout",
         "output_type": "stream",
         "text": "Number of producers after removing large commercial land parcels: 15815\n"
        }
       ]
      }
     },
     "97944c3db4b945f48f6ae6a1cc134f3b": {
      "model_module": "@jupyter-widgets/base",
      "model_module_version": "1.2.0",
      "model_name": "LayoutModel",
      "state": {}
     },
     "98b5ee657958439db3b87ec40196ba8b": {
      "model_module": "@jupyter-widgets/base",
      "model_module_version": "1.2.0",
      "model_name": "LayoutModel",
      "state": {}
     },
     "9b16d05cc9424b998847a046339ae14d": {
      "model_module": "@jupyter-widgets/base",
      "model_module_version": "1.2.0",
      "model_name": "LayoutModel",
      "state": {}
     },
     "9f7ea770ec784fcfbbd20b540c04e0af": {
      "model_module": "@jupyter-widgets/controls",
      "model_module_version": "1.5.0",
      "model_name": "DescriptionStyleModel",
      "state": {
       "description_width": ""
      }
     },
     "a306063464004c9f809d51daae63a170": {
      "model_module": "@jupyter-widgets/base",
      "model_module_version": "1.2.0",
      "model_name": "LayoutModel",
      "state": {}
     },
     "a394688f1a5e48e48cc67d6c1678b6d2": {
      "model_module": "@jupyter-widgets/base",
      "model_module_version": "1.2.0",
      "model_name": "LayoutModel",
      "state": {}
     },
     "a777a6a433044c249364fc8baa4fe738": {
      "model_module": "@jupyter-widgets/controls",
      "model_module_version": "1.5.0",
      "model_name": "ButtonStyleModel",
      "state": {}
     },
     "a8ac7c7b928c4e48b24704fa5f841cfd": {
      "model_module": "@jupyter-widgets/base",
      "model_module_version": "1.2.0",
      "model_name": "LayoutModel",
      "state": {}
     },
     "ab329332d7cb4be990504e78d233b7ee": {
      "model_module": "@jupyter-widgets/controls",
      "model_module_version": "1.5.0",
      "model_name": "VBoxModel",
      "state": {
       "_dom_classes": [
        "widget-interact"
       ],
       "children": [
        "IPY_MODEL_92cadf01be534fe3939334b47fc59051",
        "IPY_MODEL_f24f6fd65aeb4e1a8545cdf34d8cfb96"
       ],
       "layout": "IPY_MODEL_d3fe956ee40d4960b0e10a334f6c169b"
      }
     },
     "adffeb3254b24b6eb78beb9c95fdd5e2": {
      "model_module": "@jupyter-widgets/base",
      "model_module_version": "1.2.0",
      "model_name": "LayoutModel",
      "state": {}
     },
     "b4e7121e00c84c409bf933d85c5be6a3": {
      "model_module": "@jupyter-widgets/controls",
      "model_module_version": "1.5.0",
      "model_name": "SelectMultipleModel",
      "state": {
       "_options_labels": [
        "ALBA W&H Kranji depot",
        "CTM MRF",
        "KSTP",
        "Senoko Incineration Plant",
        "Tuas Incineration Plant",
        "Tuas South Incineration Plant"
       ],
       "description": "Treatment:",
       "index": [
        2,
        3,
        5
       ],
       "layout": "IPY_MODEL_adffeb3254b24b6eb78beb9c95fdd5e2",
       "rows": 6,
       "style": "IPY_MODEL_16e6989affb846b0baf6204485ea672d"
      }
     },
     "b527e26e48164bdc985ba88bffde004e": {
      "model_module": "@jupyter-widgets/output",
      "model_module_version": "1.0.0",
      "model_name": "OutputModel",
      "state": {
       "layout": "IPY_MODEL_409e0a0f840e46edaaad6d5dcf3c364f"
      }
     },
     "bb3a7e29f39d40819d14ad4b03a195f0": {
      "model_module": "@jupyter-widgets/controls",
      "model_module_version": "1.5.0",
      "model_name": "ButtonModel",
      "state": {
       "description": "Load network",
       "layout": "IPY_MODEL_9b16d05cc9424b998847a046339ae14d",
       "style": "IPY_MODEL_0a6eac1142654a048ac05ee24867a21b"
      }
     },
     "c04bbd4f00b14316a6583d0c35b4c8bc": {
      "model_module": "@jupyter-widgets/output",
      "model_module_version": "1.0.0",
      "model_name": "OutputModel",
      "state": {
       "layout": "IPY_MODEL_2ca17a19b9124d20805807fdf56c5991"
      }
     },
     "c39027e57b3449caa04d9514b056a62f": {
      "model_module": "@jupyter-widgets/controls",
      "model_module_version": "1.5.0",
      "model_name": "ButtonStyleModel",
      "state": {}
     },
     "c763016bb5d1470ba6b950b9a3bf10ab": {
      "model_module": "@jupyter-widgets/base",
      "model_module_version": "1.2.0",
      "model_name": "LayoutModel",
      "state": {}
     },
     "cb24cb8da58849448fc9a1b3534c36ee": {
      "model_module": "@jupyter-widgets/output",
      "model_module_version": "1.0.0",
      "model_name": "OutputModel",
      "state": {
       "layout": "IPY_MODEL_f2e3e7a43fa24f83ad27435fe4e996f4",
       "outputs": [
        {
         "data": {
          "text/plain": "'Producers in area: 16057'"
         },
         "metadata": {},
         "output_type": "display_data"
        }
       ]
      }
     },
     "cbfc44c6474645e2b7f934f011d88b00": {
      "model_module": "@jupyter-widgets/controls",
      "model_module_version": "1.5.0",
      "model_name": "ButtonModel",
      "state": {
       "description": "Show map",
       "layout": "IPY_MODEL_f69c2c02ef3f4e78897fd8d53c0cbc9e",
       "style": "IPY_MODEL_a777a6a433044c249364fc8baa4fe738"
      }
     },
     "cefa579cf05f44a88720211847e8e885": {
      "model_module": "@jupyter-widgets/controls",
      "model_module_version": "1.5.0",
      "model_name": "ButtonStyleModel",
      "state": {}
     },
     "d3bf98105dd4441eab236f1909868aaa": {
      "model_module": "@jupyter-widgets/base",
      "model_module_version": "1.2.0",
      "model_name": "LayoutModel",
      "state": {}
     },
     "d3fe956ee40d4960b0e10a334f6c169b": {
      "model_module": "@jupyter-widgets/base",
      "model_module_version": "1.2.0",
      "model_name": "LayoutModel",
      "state": {}
     },
     "d8bd0d0ab09c4dfd8f367b3a3547cd62": {
      "model_module": "@jupyter-widgets/controls",
      "model_module_version": "1.5.0",
      "model_name": "DescriptionStyleModel",
      "state": {
       "description_width": ""
      }
     },
     "e0103eff14ce4eb08422d3be9dfa040a": {
      "model_module": "@jupyter-widgets/base",
      "model_module_version": "1.2.0",
      "model_name": "LayoutModel",
      "state": {}
     },
     "e2b9ab564343429ab8341dd254170f21": {
      "model_module": "@jupyter-widgets/output",
      "model_module_version": "1.0.0",
      "model_name": "OutputModel",
      "state": {
       "layout": "IPY_MODEL_6fe19f45c10841008377a88b858e60ae",
       "outputs": [
        {
         "name": "stderr",
         "output_type": "stream",
         "text": "/Users/ejwillemse/opt/anaconda3/envs/waste_labs_examples/lib/python3.8/site-packages/ipywidgets/widgets/widget.py:186: DtypeWarning:\n\nColumns (49,50,53,54,55,56,57,58,59,61,65,68,69,71,72,73,74,75,76,78,79,81,82,91,96,98,101,108) have mixed types.Specify dtype option on import or set low_memory=False.\n\n"
        },
        {
         "data": {
          "text/plain": "'Producers in area: 15815'"
         },
         "metadata": {},
         "output_type": "display_data"
        }
       ]
      }
     },
     "e5ad76e6681a45559e122c3ec1947a3a": {
      "model_module": "@jupyter-widgets/output",
      "model_module_version": "1.0.0",
      "model_name": "OutputModel",
      "state": {
       "layout": "IPY_MODEL_3a9e99243c064694bcd39e4ba956f0b3"
      }
     },
     "e6b6d946d1ed4fb682d736c5c3897f93": {
      "model_module": "@jupyter-widgets/controls",
      "model_module_version": "1.5.0",
      "model_name": "SelectMultipleModel",
      "state": {
       "_options_labels": [
        "ALL",
        "CRC",
        "Condo opt-in",
        "Government",
        "Schools",
        "bulk_bins",
        "commercial",
        "commercial & residential",
        "hawker_markets",
        "landed_properties",
        "place of worship",
        "residential with commercial at 1st storey"
       ],
       "description": "Producer:",
       "index": [
        0
       ],
       "layout": "IPY_MODEL_1bb42f3182c04b58bc692d0f4742bc2d",
       "rows": 12,
       "style": "IPY_MODEL_05d2e6be818a4a2f9c76407f8e1eb5ec"
      }
     },
     "ed8a2664faf54e67bd051ee539c40994": {
      "model_module": "@jupyter-widgets/base",
      "model_module_version": "1.2.0",
      "model_name": "LayoutModel",
      "state": {}
     },
     "ee45ce3fa54e49e892ced31c4d656152": {
      "model_module": "@jupyter-widgets/controls",
      "model_module_version": "1.5.0",
      "model_name": "ButtonModel",
      "state": {
       "description": "Show map",
       "layout": "IPY_MODEL_2dab04fec7604ba8a85279c0f047f6c9",
       "style": "IPY_MODEL_50cb8b8f05ac47be8d3f2907f6d218c8"
      }
     },
     "f04ece8682a845b4a8d3d3cdda4a0ff9": {
      "model_module": "@jupyter-widgets/controls",
      "model_module_version": "1.5.0",
      "model_name": "VBoxModel",
      "state": {
       "_dom_classes": [
        "widget-interact"
       ],
       "children": [
        "IPY_MODEL_8a2526bf64414ec18caecb7c1bd29049",
        "IPY_MODEL_182ddfca166843ae87b1cac941d1269b"
       ],
       "layout": "IPY_MODEL_76b8bd3d9a634a00ab87cd5e943920de"
      }
     },
     "f24f6fd65aeb4e1a8545cdf34d8cfb96": {
      "model_module": "@jupyter-widgets/output",
      "model_module_version": "1.0.0",
      "model_name": "OutputModel",
      "state": {
       "layout": "IPY_MODEL_ed8a2664faf54e67bd051ee539c40994",
       "outputs": [
        {
         "data": {
          "text/plain": "'Producers in area: 16057'"
         },
         "metadata": {},
         "output_type": "display_data"
        }
       ]
      }
     },
     "f2e3e7a43fa24f83ad27435fe4e996f4": {
      "model_module": "@jupyter-widgets/base",
      "model_module_version": "1.2.0",
      "model_name": "LayoutModel",
      "state": {}
     },
     "f5da9e1175f24814a9ba6195fdcf3885": {
      "model_module": "@jupyter-widgets/base",
      "model_module_version": "1.2.0",
      "model_name": "LayoutModel",
      "state": {}
     },
     "f69c2c02ef3f4e78897fd8d53c0cbc9e": {
      "model_module": "@jupyter-widgets/base",
      "model_module_version": "1.2.0",
      "model_name": "LayoutModel",
      "state": {}
     },
     "f9dca610179d43ce8d843f264b73f9ab": {
      "model_module": "@jupyter-widgets/base",
      "model_module_version": "1.2.0",
      "model_name": "LayoutModel",
      "state": {}
     }
    },
    "version_major": 2,
    "version_minor": 0
   }
  }
 },
 "nbformat": 4,
 "nbformat_minor": 4
}
