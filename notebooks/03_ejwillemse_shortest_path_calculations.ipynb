{
 "cells": [
  {
   "cell_type": "markdown",
   "metadata": {},
   "source": [
    "# Shortest path calculations\n",
    "\n",
    "We do simple shortest path calculations for the example network."
   ]
  },
  {
   "cell_type": "code",
   "execution_count": 1,
   "metadata": {},
   "outputs": [
    {
     "name": "stdout",
     "output_type": "stream",
     "text": [
      "2022-04-05 21:46:04,669 - kedro.framework.session.store - INFO - `read()` not implemented for `BaseSessionStore`. Assuming empty store.\n",
      "2022-04-05 21:46:04,740 - root - INFO - ** Kedro project Demand estimation and waste collection routing optimisation for the City of Cape Town\n",
      "2022-04-05 21:46:04,742 - root - INFO - Defined global variable `context`, `session` and `catalog`\n",
      "2022-04-05 21:46:04,753 - root - INFO - Registered line magic `run_viz`\n"
     ]
    },
    {
     "name": "stderr",
     "output_type": "stream",
     "text": [
      "/Users/ejwillemse/opt/anaconda3/envs/python_RD/lib/python3.8/site-packages/tables/__init__.py:99: DeprecationWarning: `np.typeDict` is a deprecated alias for `np.sctypeDict`.\n",
      "  from .utilsextension import (\n"
     ]
    }
   ],
   "source": [
    "%reload_kedro\n",
    "%load_ext autoreload\n",
    "%autoreload 2\n",
    "%config IPCompleter.use_jedi = False\n",
    "import geopandas as gpd\n",
    "import geopandas as gpd\n",
    "import networkx as nx\n",
    "import osmnx as ox\n",
    "import pandas as pd\n",
    "import networkx as nx\n",
    "\n",
    "from mcarptif.converter.network_prep import ShortestPathNodes\n",
    "\n",
    "import logging\n",
    "logging.basicConfig(level=logging.INFO)"
   ]
  },
  {
   "cell_type": "markdown",
   "metadata": {},
   "source": [
    "## Load graph"
   ]
  },
  {
   "cell_type": "code",
   "execution_count": 2,
   "metadata": {},
   "outputs": [
    {
     "name": "stdout",
     "output_type": "stream",
     "text": [
      "2022-04-05 21:46:07,250 - kedro.io.data_catalog - INFO - Loading data from `road_network_simplified_24645_nodes_xy` (GeoJSONDataSet)...\n",
      "2022-04-05 21:46:07,720 - kedro.io.data_catalog - INFO - Loading data from `road_network_simplified_24645_edges_xy` (GeoJSONDataSet)...\n"
     ]
    },
    {
     "name": "stderr",
     "output_type": "stream",
     "text": [
      "/Users/ejwillemse/opt/anaconda3/envs/python_RD/lib/python3.8/site-packages/osmnx/utils_graph.py:155: UserWarning: discarding the gdf_nodes geometry column, though its values differ from the coordinates in the x and y columns\n",
      "  warnings.warn(\n"
     ]
    }
   ],
   "source": [
    "node_list = catalog.load(\"road_network_simplified_24645_nodes_xy\")\n",
    "edge_list = catalog.load(\"road_network_simplified_24645_edges_xy\")\n",
    "node_list = node_list.set_index(\"index\")\n",
    "edge_list = edge_list.set_index([\"u\", \"v\", \"key\"])\n",
    "\n",
    "G_sparse = ox.graph_from_gdfs(\n",
    "    node_list,\n",
    "    edge_list,\n",
    ")"
   ]
  },
  {
   "cell_type": "code",
   "execution_count": 5,
   "metadata": {},
   "outputs": [
    {
     "name": "stdout",
     "output_type": "stream",
     "text": [
      "CPU times: user 2 µs, sys: 0 ns, total: 2 µs\n",
      "Wall time: 4.77 µs\n",
      "2022-04-05 21:47:36,984 - root - INFO - Generating 8145x8145 distance and predecessor matrix\n",
      "2022-04-05 21:47:36,988 - root - INFO - Writing shortest path info to ../data/05_model_input/sp_files/road_network_simplified_24645.h\n",
      "2022-04-05 21:47:37,024 - root - INFO - Starting shortest path calculations\n",
      "2022-04-05 21:48:06,520 - root - INFO - Shortest path info added.\n",
      "2022-04-05 21:48:06,521 - root - INFO - Shortest path calculations took 30.0 seconds\n",
      "2022-04-05 21:48:06,524 - root - INFO - Done\n",
      "2022-04-05 21:48:06,526 - root - INFO - h5file\n"
     ]
    }
   ],
   "source": [
    "# file = \"sp_files/full_road_simple_red.gpickle\" # SG_full_road_simple_red\n",
    "# logging.info(f'Reading OSMNX graph from `{file}`')\n",
    "# G = nx.read_gpickle(file)\n",
    "%time\n",
    "\n",
    "import os\n",
    "\n",
    "if not os.path.isdir(\"../data/05_model_input/sp_files\"):\n",
    "    os.mkdir(\"../data/05_model_input/sp_files\")\n",
    "\n",
    "filename = \"../data/05_model_input/sp_files/road_network_simplified_24645.h\"\n",
    "sp_object = ShortestPathNodes(G_sparse)\n",
    "sp_object.calc_shortest_path_pytable(filename, f'SP calcs for: {filename}')"
   ]
  },
  {
   "cell_type": "code",
   "execution_count": null,
   "metadata": {},
   "outputs": [],
   "source": []
  }
 ],
 "metadata": {
  "kernelspec": {
   "display_name": "DemandestimationandwastecollectionroutingoptimisationfortheCityofCapeTown",
   "language": "python",
   "name": "python3"
  },
  "language_info": {
   "codemirror_mode": {
    "name": "ipython",
    "version": 3
   },
   "file_extension": ".py",
   "mimetype": "text/x-python",
   "name": "python",
   "nbconvert_exporter": "python",
   "pygments_lexer": "ipython3",
   "version": "3.8.12"
  }
 },
 "nbformat": 4,
 "nbformat_minor": 4
}
