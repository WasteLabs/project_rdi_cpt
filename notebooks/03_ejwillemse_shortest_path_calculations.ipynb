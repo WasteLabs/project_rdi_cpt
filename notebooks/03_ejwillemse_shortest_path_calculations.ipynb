{
 "cells": [
  {
   "cell_type": "markdown",
   "metadata": {},
   "source": [
    "# Shortest path calculations\n",
    "\n",
    "We do simple shortest path calculations for the example network with a simple test.\n",
    "\n",
    "The SP index are from u to v in order of the edge-list. This is most-likely due to the edge_list settings."
   ]
  },
  {
   "cell_type": "code",
   "execution_count": 184,
   "metadata": {},
   "outputs": [
    {
     "name": "stdout",
     "output_type": "stream",
     "text": [
      "2022-04-12 11:50:27,511 - kedro.framework.session.store - INFO - `read()` not implemented for `BaseSessionStore`. Assuming empty store.\n",
      "2022-04-12 11:50:27,590 - root - INFO - ** Kedro project Demand estimation and waste collection routing optimisation for the City of Cape Town\n",
      "2022-04-12 11:50:27,592 - root - INFO - Defined global variable `context`, `session` and `catalog`\n",
      "2022-04-12 11:50:27,600 - root - INFO - Registered line magic `run_viz`\n",
      "The autoreload extension is already loaded. To reload it, use:\n",
      "  %reload_ext autoreload\n"
     ]
    }
   ],
   "source": [
    "%reload_kedro\n",
    "%load_ext autoreload\n",
    "%autoreload 2\n",
    "%config IPCompleter.use_jedi = False\n",
    "import geopandas as gpd\n",
    "import geopandas as gpd\n",
    "import networkx as nx\n",
    "import osmnx as ox\n",
    "import pandas as pd\n",
    "import networkx as nx\n",
    "import tables as tb\n",
    "from mcarptif.converter.shortest_path import sp_full\n",
    "from mcarptif.converter.network_prep import ShortestPathNodes\n",
    "\n",
    "import logging\n",
    "logging.basicConfig(level=logging.INFO)"
   ]
  },
  {
   "cell_type": "markdown",
   "metadata": {},
   "source": [
    "## Load graph"
   ]
  },
  {
   "cell_type": "code",
   "execution_count": 185,
   "metadata": {},
   "outputs": [
    {
     "name": "stdout",
     "output_type": "stream",
     "text": [
      "2022-04-12 11:50:28,304 - kedro.io.data_catalog - INFO - Loading data from `road_network_simplified_24645_nodes_xy` (GeoJSONDataSet)...\n",
      "2022-04-12 11:50:28,716 - kedro.io.data_catalog - INFO - Loading data from `road_network_simplified_24645_edges_xy` (GeoJSONDataSet)...\n"
     ]
    },
    {
     "name": "stderr",
     "output_type": "stream",
     "text": [
      "/Users/ejwillemse/opt/anaconda3/envs/python_RD/lib/python3.8/site-packages/osmnx/utils_graph.py:155: UserWarning: discarding the gdf_nodes geometry column, though its values differ from the coordinates in the x and y columns\n",
      "  warnings.warn(\n"
     ]
    }
   ],
   "source": [
    "node_list = catalog.load(\"road_network_simplified_24645_nodes_xy\")\n",
    "edge_list = catalog.load(\"road_network_simplified_24645_edges_xy\")\n",
    "edge_list[\"uv\"] = edge_list[\"u\"].astype(str) + \"-\" + edge_list[\"v\"].astype(str)\n",
    "edge_list = edge_list.sort_values([\"u\", \"v\", \"key\"])\n",
    "node_list = node_list.set_index(\"index\")\n",
    "edge_list = edge_list.set_index([\"u\", \"v\", \"key\"])\n",
    "\n",
    "G_sparse = ox.graph_from_gdfs(\n",
    "    node_list,\n",
    "    edge_list,\n",
    ")"
   ]
  },
  {
   "cell_type": "code",
   "execution_count": 186,
   "metadata": {},
   "outputs": [],
   "source": [
    "node_sp_index_order = pd.DataFrame({\"osmid\": list(G_sparse.nodes)})\n",
    "node_sp_index_order[\"sp_index\"] = node_sp_index_order.index\n",
    "node_list = node_list.merge(node_sp_index_order, how=\"left\", validate=\"1:1\").sort_values(\"sp_index\").reset_index(drop=True)"
   ]
  },
  {
   "cell_type": "code",
   "execution_count": 187,
   "metadata": {},
   "outputs": [],
   "source": [
    "# file = \"sp_files/full_road_simple_red.gpickle\" # SG_full_road_simple_red\n",
    "# logging.info(f'Reading OSMNX graph from `{file}`')\n",
    "# G = nx.read_gpickle(file)\n",
    "import os\n",
    "\n",
    "if not os.path.isdir(\"../data/05_model_input/sp_files\"):\n",
    "    os.mkdir(\"../data/05_model_input/sp_files\")\n",
    "\n",
    "filename = \"../data/05_model_input/sp_files/road_network_simplified_24645.h\""
   ]
  },
  {
   "cell_type": "code",
   "execution_count": 188,
   "metadata": {},
   "outputs": [
    {
     "name": "stdout",
     "output_type": "stream",
     "text": [
      "CPU times: user 1e+03 ns, sys: 1 µs, total: 2 µs\n",
      "Wall time: 4.05 µs\n",
      "2022-04-12 11:50:42,919 - root - WARNING - File ../data/05_model_input/sp_files/road_network_simplified_24645.h will be overwritten\n"
     ]
    },
    {
     "name": "stdin",
     "output_type": "stream",
     "text": [
      "Press 'y' to continue y\n"
     ]
    },
    {
     "name": "stdout",
     "output_type": "stream",
     "text": [
      "2022-04-12 11:50:46,278 - root - INFO - Generating 8145x8145 distance and predecessor matrix\n",
      "2022-04-12 11:50:46,336 - root - INFO - Writing shortest path info to ../data/05_model_input/sp_files/road_network_simplified_24645.h\n",
      "2022-04-12 11:50:46,380 - root - INFO - Starting shortest path calculations\n",
      "2022-04-12 11:51:13,293 - root - INFO - Shortest path info added.\n",
      "2022-04-12 11:51:13,294 - root - INFO - Shortest path calculations took 27.0 seconds\n",
      "2022-04-12 11:51:13,296 - root - INFO - Done\n",
      "2022-04-12 11:51:13,297 - root - INFO - h5file\n"
     ]
    }
   ],
   "source": [
    "%time\n",
    "sp_object = ShortestPathNodes(G_sparse, overwrite=True)\n",
    "sp_object.calc_shortest_path_pytable(filename, f'SP calcs for: {filename}')"
   ]
  },
  {
   "cell_type": "markdown",
   "metadata": {},
   "source": [
    "## Test shortest-paths"
   ]
  },
  {
   "cell_type": "code",
   "execution_count": 194,
   "metadata": {},
   "outputs": [],
   "source": [
    "filler_frames = []\n",
    "arc_i = 164\n",
    "arc_j = 165\n",
    "with tb.open_file(filename, 'r') as h5file:\n",
    "    sp_info = h5file.root.shortest_path_info\n",
    "    p_full = sp_info.predecessor_matrix\n",
    "    node_id_order = sp_info.node_id_order[:]\n",
    "    sp_path = sp_full(p_full, arc_i, arc_j, full=True)"
   ]
  },
  {
   "cell_type": "code",
   "execution_count": 195,
   "metadata": {},
   "outputs": [
    {
     "data": {
      "text/plain": [
       "array([  21320956,   25525648,   25535600, ..., 9540385425, 9597340779,\n",
       "       9597340792])"
      ]
     },
     "execution_count": 195,
     "metadata": {},
     "output_type": "execute_result"
    }
   ],
   "source": [
    "node_id_order"
   ]
  },
  {
   "cell_type": "code",
   "execution_count": 204,
   "metadata": {},
   "outputs": [
    {
     "data": {
      "text/plain": [
       "25535425"
      ]
     },
     "execution_count": 204,
     "metadata": {},
     "output_type": "execute_result"
    }
   ],
   "source": [
    "node_id_order[arc_i]"
   ]
  },
  {
   "cell_type": "code",
   "execution_count": 205,
   "metadata": {},
   "outputs": [
    {
     "data": {
      "text/plain": [
       "244003234"
      ]
     },
     "execution_count": 205,
     "metadata": {},
     "output_type": "execute_result"
    }
   ],
   "source": [
    "node_id_order[arc_j]"
   ]
  },
  {
   "cell_type": "code",
   "execution_count": 196,
   "metadata": {},
   "outputs": [
    {
     "data": {
      "text/html": [
       "<div>\n",
       "<style scoped>\n",
       "    .dataframe tbody tr th:only-of-type {\n",
       "        vertical-align: middle;\n",
       "    }\n",
       "\n",
       "    .dataframe tbody tr th {\n",
       "        vertical-align: top;\n",
       "    }\n",
       "\n",
       "    .dataframe thead th {\n",
       "        text-align: right;\n",
       "    }\n",
       "</style>\n",
       "<table border=\"1\" class=\"dataframe\">\n",
       "  <thead>\n",
       "    <tr style=\"text-align: right;\">\n",
       "      <th></th>\n",
       "      <th>osmid</th>\n",
       "      <th>y</th>\n",
       "      <th>x</th>\n",
       "      <th>highway</th>\n",
       "      <th>street_count</th>\n",
       "      <th>ref</th>\n",
       "      <th>geometry</th>\n",
       "      <th>sp_index</th>\n",
       "    </tr>\n",
       "  </thead>\n",
       "  <tbody>\n",
       "    <tr>\n",
       "      <th>164</th>\n",
       "      <td>25535425</td>\n",
       "      <td>-33.951728</td>\n",
       "      <td>18.471958</td>\n",
       "      <td>None</td>\n",
       "      <td>3</td>\n",
       "      <td>None</td>\n",
       "      <td>POINT (-7480023.338 -9354800.479)</td>\n",
       "      <td>164</td>\n",
       "    </tr>\n",
       "    <tr>\n",
       "      <th>165</th>\n",
       "      <td>244003234</td>\n",
       "      <td>-33.951411</td>\n",
       "      <td>18.471937</td>\n",
       "      <td>None</td>\n",
       "      <td>3</td>\n",
       "      <td>None</td>\n",
       "      <td>POINT (-7480085.515 -9354794.938)</td>\n",
       "      <td>165</td>\n",
       "    </tr>\n",
       "  </tbody>\n",
       "</table>\n",
       "</div>"
      ],
      "text/plain": [
       "         osmid          y          x highway  street_count   ref  \\\n",
       "164   25535425 -33.951728  18.471958    None             3  None   \n",
       "165  244003234 -33.951411  18.471937    None             3  None   \n",
       "\n",
       "                              geometry  sp_index  \n",
       "164  POINT (-7480023.338 -9354800.479)       164  \n",
       "165  POINT (-7480085.515 -9354794.938)       165  "
      ]
     },
     "execution_count": 196,
     "metadata": {},
     "output_type": "execute_result"
    }
   ],
   "source": [
    "node_list.iloc[sp_path]"
   ]
  },
  {
   "cell_type": "code",
   "execution_count": 197,
   "metadata": {},
   "outputs": [],
   "source": [
    "node_path = node_list.iloc[sp_path].copy()"
   ]
  },
  {
   "cell_type": "code",
   "execution_count": 198,
   "metadata": {},
   "outputs": [],
   "source": [
    "node_path[\"u\"] = node_path[\"osmid\"].shift().values\n",
    "node_path[\"v\"] = node_path[\"osmid\"]"
   ]
  },
  {
   "cell_type": "code",
   "execution_count": 199,
   "metadata": {},
   "outputs": [],
   "source": [
    "node_path[\"uv\"] = node_path[\"u\"].fillna(-1).astype(int).astype(str) + \"-\" + node_path[\"v\"].fillna(-1).astype(int).astype(str)"
   ]
  },
  {
   "cell_type": "code",
   "execution_count": 200,
   "metadata": {},
   "outputs": [
    {
     "data": {
      "text/plain": [
       "164    False\n",
       "165     True\n",
       "Name: uv, dtype: bool"
      ]
     },
     "execution_count": 200,
     "metadata": {},
     "output_type": "execute_result"
    }
   ],
   "source": [
    "node_path[\"uv\"].isin(edge_list[\"uv\"])"
   ]
  },
  {
   "cell_type": "code",
   "execution_count": 203,
   "metadata": {},
   "outputs": [
    {
     "data": {
      "text/html": [
       "<div>\n",
       "<style scoped>\n",
       "    .dataframe tbody tr th:only-of-type {\n",
       "        vertical-align: middle;\n",
       "    }\n",
       "\n",
       "    .dataframe tbody tr th {\n",
       "        vertical-align: top;\n",
       "    }\n",
       "\n",
       "    .dataframe thead th {\n",
       "        text-align: right;\n",
       "    }\n",
       "</style>\n",
       "<table border=\"1\" class=\"dataframe\">\n",
       "  <thead>\n",
       "    <tr style=\"text-align: right;\">\n",
       "      <th></th>\n",
       "      <th></th>\n",
       "      <th></th>\n",
       "      <th>osmid</th>\n",
       "      <th>lanes</th>\n",
       "      <th>name</th>\n",
       "      <th>highway</th>\n",
       "      <th>maxspeed</th>\n",
       "      <th>width</th>\n",
       "      <th>oneway</th>\n",
       "      <th>length</th>\n",
       "      <th>ref</th>\n",
       "      <th>access</th>\n",
       "      <th>bridge</th>\n",
       "      <th>tunnel</th>\n",
       "      <th>service</th>\n",
       "      <th>landuse</th>\n",
       "      <th>junction</th>\n",
       "      <th>geometry</th>\n",
       "      <th>uv</th>\n",
       "    </tr>\n",
       "    <tr>\n",
       "      <th>u</th>\n",
       "      <th>v</th>\n",
       "      <th>key</th>\n",
       "      <th></th>\n",
       "      <th></th>\n",
       "      <th></th>\n",
       "      <th></th>\n",
       "      <th></th>\n",
       "      <th></th>\n",
       "      <th></th>\n",
       "      <th></th>\n",
       "      <th></th>\n",
       "      <th></th>\n",
       "      <th></th>\n",
       "      <th></th>\n",
       "      <th></th>\n",
       "      <th></th>\n",
       "      <th></th>\n",
       "      <th></th>\n",
       "      <th></th>\n",
       "    </tr>\n",
       "  </thead>\n",
       "  <tbody>\n",
       "    <tr>\n",
       "      <th>25535425</th>\n",
       "      <th>244003234</th>\n",
       "      <th>0</th>\n",
       "      <td>152108216</td>\n",
       "      <td>2</td>\n",
       "      <td>Main Road</td>\n",
       "      <td>secondary</td>\n",
       "      <td>60</td>\n",
       "      <td>None</td>\n",
       "      <td>1</td>\n",
       "      <td>35.367</td>\n",
       "      <td>M4</td>\n",
       "      <td>None</td>\n",
       "      <td>None</td>\n",
       "      <td>None</td>\n",
       "      <td>None</td>\n",
       "      <td>None</td>\n",
       "      <td>None</td>\n",
       "      <td>LINESTRING (-7480023.338 -9354800.479, -748008...</td>\n",
       "      <td>25535425-244003234</td>\n",
       "    </tr>\n",
       "  </tbody>\n",
       "</table>\n",
       "</div>"
      ],
      "text/plain": [
       "                            osmid lanes       name    highway maxspeed width  \\\n",
       "u        v         key                                                         \n",
       "25535425 244003234 0    152108216     2  Main Road  secondary       60  None   \n",
       "\n",
       "                       oneway  length ref access bridge tunnel service  \\\n",
       "u        v         key                                                   \n",
       "25535425 244003234 0        1  35.367  M4   None   None   None    None   \n",
       "\n",
       "                       landuse junction  \\\n",
       "u        v         key                    \n",
       "25535425 244003234 0      None     None   \n",
       "\n",
       "                                                                 geometry  \\\n",
       "u        v         key                                                      \n",
       "25535425 244003234 0    LINESTRING (-7480023.338 -9354800.479, -748008...   \n",
       "\n",
       "                                        uv  \n",
       "u        v         key                      \n",
       "25535425 244003234 0    25535425-244003234  "
      ]
     },
     "execution_count": 203,
     "metadata": {},
     "output_type": "execute_result"
    }
   ],
   "source": [
    "edge_list.loc[edge_list[\"uv\"].isin(node_path[\"uv\"])]"
   ]
  },
  {
   "cell_type": "code",
   "execution_count": null,
   "metadata": {},
   "outputs": [],
   "source": []
  }
 ],
 "metadata": {
  "kernelspec": {
   "display_name": "DemandestimationandwastecollectionroutingoptimisationfortheCityofCapeTown",
   "language": "python",
   "name": "python3"
  },
  "language_info": {
   "codemirror_mode": {
    "name": "ipython",
    "version": 3
   },
   "file_extension": ".py",
   "mimetype": "text/x-python",
   "name": "python",
   "nbconvert_exporter": "python",
   "pygments_lexer": "ipython3",
   "version": "3.8.12"
  }
 },
 "nbformat": 4,
 "nbformat_minor": 4
}
