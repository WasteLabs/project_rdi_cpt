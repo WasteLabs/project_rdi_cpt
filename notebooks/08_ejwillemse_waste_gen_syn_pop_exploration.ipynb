{
 "cells": [
  {
   "cell_type": "markdown",
   "metadata": {},
   "source": [
    "# Waste generation and scenario planning exploration\n",
    "\n",
    "We explore the partitioned data sets and see how easy it is to merge the files with previous household to road-network matchings using lat-lon coordinates.\n",
    "\n",
    "To easily snap the lat-lon coordinates, we just extract all unique lat-lon coordinates from all files and match them once."
   ]
  },
  {
   "cell_type": "code",
   "execution_count": 55,
   "metadata": {},
   "outputs": [
    {
     "data": {
      "text/html": [
       "<style>\n",
       "table {float:left}\n",
       "</style>\n"
      ],
      "text/plain": [
       "<IPython.core.display.HTML object>"
      ]
     },
     "metadata": {},
     "output_type": "display_data"
    }
   ],
   "source": [
    "%%html\n",
    "<style>\n",
    "table {float:left}\n",
    "</style>"
   ]
  },
  {
   "cell_type": "markdown",
   "metadata": {},
   "source": [
    "| Document info | |\n",
    "| --- | --- | \n",
    "| Area of interest: | Cape Town |\n",
    "| Planning type: | All REL type producers |\n",
    "| Prepared by: | Waste Labs (wastelabs.co) |\n",
    "| Prepared for: | Johan W. Joubert |\n",
    "| Contact: | elias@wastelabs.co |"
   ]
  },
  {
   "cell_type": "code",
   "execution_count": 3,
   "metadata": {},
   "outputs": [
    {
     "name": "stdout",
     "output_type": "stream",
     "text": [
      "2022-05-17 11:33:06,320 - kedro.framework.session.store - INFO - `read()` not implemented for `BaseSessionStore`. Assuming empty store.\n",
      "2022-05-17 11:33:06,379 - root - INFO - ** Kedro project Demand estimation and waste collection routing optimisation for the City of Cape Town\n",
      "2022-05-17 11:33:06,380 - root - INFO - Defined global variable `context`, `session` and `catalog`\n",
      "2022-05-17 11:33:06,390 - root - INFO - Registered line magic `run_viz`\n"
     ]
    }
   ],
   "source": [
    "%reload_kedro\n",
    "import boto3\n",
    "import geopandas as gpd\n",
    "import numpy as np\n",
    "import pandas as pd\n",
    "import yaml\n",
    "from GPSOdyssey import Kepler\n",
    "\n",
    "pd.options.display.max_rows = 1000\n",
    "pd.options.display.max_columns = 1000\n",
    "\n",
    "from IPython.core.interactiveshell import InteractiveShell\n",
    "\n",
    "InteractiveShell.ast_node_interactivity = \"all\""
   ]
  },
  {
   "cell_type": "markdown",
   "metadata": {},
   "source": [
    "## Load sample files"
   ]
  },
  {
   "cell_type": "code",
   "execution_count": 52,
   "metadata": {},
   "outputs": [
    {
     "name": "stdout",
     "output_type": "stream",
     "text": [
      "2022-05-17 11:53:23,349 - kedro.io.data_catalog - INFO - Loading data from `syn_pop_scenarios_local` (PartitionedDataSet)...\n",
      "2022-05-17 11:53:23,428 - kedro.io.data_catalog - INFO - Loading data from `waste_gen_scenarios_local` (PartitionedDataSet)...\n",
      "2022-05-17 11:53:23,444 - kedro.io.data_catalog - INFO - Loading data from `syn_pop_scenarios_local` (PartitionedDataSet)...\n",
      "2022-05-17 11:53:23,513 - kedro.io.data_catalog - INFO - Loading data from `waste_gen_scenarios_local` (PartitionedDataSet)...\n"
     ]
    }
   ],
   "source": [
    "test_file = \"households_001\"\n",
    "local_pop1 = catalog.load(\"syn_pop_scenarios_local\")[test_file]()\n",
    "local_waste1 = catalog.load(\"waste_gen_scenarios_local\")[test_file]()\n",
    "\n",
    "test_file = \"households_002\"\n",
    "local_pop2 = catalog.load(\"syn_pop_scenarios_local\")[test_file]()\n",
    "local_waste2 = catalog.load(\"waste_gen_scenarios_local\")[test_file]()"
   ]
  },
  {
   "cell_type": "code",
   "execution_count": 53,
   "metadata": {},
   "outputs": [
    {
     "data": {
      "text/plain": [
       "(38603, 14)"
      ]
     },
     "execution_count": 53,
     "metadata": {},
     "output_type": "execute_result"
    },
    {
     "data": {
      "text/plain": [
       "(38603, 2)"
      ]
     },
     "execution_count": 53,
     "metadata": {},
     "output_type": "execute_result"
    }
   ],
   "source": [
    "local_pop1.shape\n",
    "local_waste1.shape"
   ]
  },
  {
   "cell_type": "code",
   "execution_count": 54,
   "metadata": {},
   "outputs": [
    {
     "data": {
      "text/plain": [
       "(38655, 14)"
      ]
     },
     "execution_count": 54,
     "metadata": {},
     "output_type": "execute_result"
    },
    {
     "data": {
      "text/plain": [
       "(38655, 2)"
      ]
     },
     "execution_count": 54,
     "metadata": {},
     "output_type": "execute_result"
    }
   ],
   "source": [
    "local_pop2.shape\n",
    "local_waste2.shape"
   ]
  },
  {
   "cell_type": "markdown",
   "metadata": {},
   "source": [
    "## Compare lat-lon coordinates"
   ]
  },
  {
   "cell_type": "code",
   "execution_count": 50,
   "metadata": {},
   "outputs": [],
   "source": [
    "local_pop1[\"lon_lat_merge_id\"] = (\n",
    "    local_pop1[[\"parcelLon\", \"parcelLat\"]].round(6).astype(str).agg(\"_\".join, axis=1)\n",
    ")\n",
    "local_pop2[\"lon_lat_merge_id\"] = (\n",
    "    local_pop1[[\"parcelLon\", \"parcelLat\"]].round(6).astype(str).agg(\"_\".join, axis=1)\n",
    ")"
   ]
  },
  {
   "cell_type": "code",
   "execution_count": 51,
   "metadata": {},
   "outputs": [
    {
     "data": {
      "text/plain": [
       "38697"
      ]
     },
     "execution_count": 51,
     "metadata": {},
     "output_type": "execute_result"
    }
   ],
   "source": [
    "local_pop1[\"lon_lat_merge_id\"].isin(local_pop2[\"lon_lat_merge_id\"]).sum()"
   ]
  },
  {
   "cell_type": "code",
   "execution_count": null,
   "metadata": {},
   "outputs": [],
   "source": []
  }
 ],
 "metadata": {
  "kernelspec": {
   "display_name": "DemandestimationandwastecollectionroutingoptimisationfortheCityofCapeTown",
   "language": "python",
   "name": "python3"
  },
  "language_info": {
   "codemirror_mode": {
    "name": "ipython",
    "version": 3
   },
   "file_extension": ".py",
   "mimetype": "text/x-python",
   "name": "python",
   "nbconvert_exporter": "python",
   "pygments_lexer": "ipython3",
   "version": "3.8.12"
  },
  "widgets": {
   "application/vnd.jupyter.widget-state+json": {
    "state": {
     "0404c280bd7a492aa7508beb5a1fcfdc": {
      "model_module": "@jupyter-widgets/base",
      "model_module_version": "1.2.0",
      "model_name": "LayoutModel",
      "state": {}
     },
     "05d2e6be818a4a2f9c76407f8e1eb5ec": {
      "model_module": "@jupyter-widgets/controls",
      "model_module_version": "1.5.0",
      "model_name": "DescriptionStyleModel",
      "state": {
       "description_width": ""
      }
     },
     "0a6eac1142654a048ac05ee24867a21b": {
      "model_module": "@jupyter-widgets/controls",
      "model_module_version": "1.5.0",
      "model_name": "ButtonStyleModel",
      "state": {}
     },
     "0fd27e83b944482c80c54aa77199667d": {
      "model_module": "@jupyter-widgets/base",
      "model_module_version": "1.2.0",
      "model_name": "LayoutModel",
      "state": {}
     },
     "13dd97b986d149f29e513251304cea19": {
      "model_module": "@jupyter-widgets/output",
      "model_module_version": "1.0.0",
      "model_name": "OutputModel",
      "state": {
       "layout": "IPY_MODEL_e0103eff14ce4eb08422d3be9dfa040a"
      }
     },
     "16e6989affb846b0baf6204485ea672d": {
      "model_module": "@jupyter-widgets/controls",
      "model_module_version": "1.5.0",
      "model_name": "DescriptionStyleModel",
      "state": {
       "description_width": ""
      }
     },
     "182ddfca166843ae87b1cac941d1269b": {
      "model_module": "@jupyter-widgets/output",
      "model_module_version": "1.0.0",
      "model_name": "OutputModel",
      "state": {
       "layout": "IPY_MODEL_4cf7782dc39e49ba887c15105601b0f2",
       "outputs": [
        {
         "data": {
          "text/html": "<div>\n<style scoped>\n    .dataframe tbody tr th:only-of-type {\n        vertical-align: middle;\n    }\n\n    .dataframe tbody tr th {\n        vertical-align: top;\n    }\n\n    .dataframe thead th {\n        text-align: right;\n    }\n</style>\n<table border=\"1\" class=\"dataframe\">\n  <thead>\n    <tr style=\"text-align: right;\">\n      <th></th>\n      <th>description</th>\n      <th>type</th>\n      <th>Postal Code</th>\n      <th>ADDRESS</th>\n    </tr>\n  </thead>\n  <tbody>\n    <tr>\n      <th>2</th>\n      <td>ALBA W&amp;H Tuas depot</td>\n      <td>depot</td>\n      <td>639142</td>\n      <td>18 tuas avenue 10 singapore 639142</td>\n    </tr>\n  </tbody>\n</table>\n</div>",
          "text/plain": "           description   type Postal Code                             ADDRESS\n2  ALBA W&H Tuas depot  depot      639142  18 tuas avenue 10 singapore 639142"
         },
         "metadata": {},
         "output_type": "display_data"
        }
       ]
      }
     },
     "18e19de11b3546e5adab0286d75db98d": {
      "model_module": "@jupyter-widgets/output",
      "model_module_version": "1.0.0",
      "model_name": "OutputModel",
      "state": {
       "layout": "IPY_MODEL_2e8cb26f70334cc58df3f12109655625",
       "outputs": [
        {
         "data": {
          "text/plain": "'Producers in area: 16057'"
         },
         "metadata": {},
         "output_type": "display_data"
        }
       ]
      }
     },
     "1bb42f3182c04b58bc692d0f4742bc2d": {
      "model_module": "@jupyter-widgets/base",
      "model_module_version": "1.2.0",
      "model_name": "LayoutModel",
      "state": {}
     },
     "1cad8f7177fa4f5ea8556673f1ae64bb": {
      "model_module": "@jupyter-widgets/controls",
      "model_module_version": "1.5.0",
      "model_name": "SelectMultipleModel",
      "state": {
       "_options_labels": [
        "crc.csv",
        "BC.csv",
        "schools.csv",
        "bulk_hawker.csv",
        "trade_temple_other.csv",
        "gov.csv",
        "bc_blocks.csv",
        "condo_optin.csv",
        "landed.csv"
       ],
       "description": "Input file:",
       "index": [
        0,
        2,
        3,
        4,
        5,
        7,
        8
       ],
       "layout": "IPY_MODEL_8579420f34cd4bab9dc6ccb407c74f64",
       "rows": 9,
       "style": "IPY_MODEL_71cbeb9fa5264d32938c92313bab9fd1"
      }
     },
     "1d48adc2b5d24d679a6e20b970cdb56d": {
      "model_module": "@jupyter-widgets/base",
      "model_module_version": "1.2.0",
      "model_name": "LayoutModel",
      "state": {}
     },
     "21676f2219ee4ba5a144804ce0093439": {
      "model_module": "@jupyter-widgets/base",
      "model_module_version": "1.2.0",
      "model_name": "LayoutModel",
      "state": {}
     },
     "25a8b760a7f94eb5951d37e855d72727": {
      "model_module": "@jupyter-widgets/controls",
      "model_module_version": "1.5.0",
      "model_name": "VBoxModel",
      "state": {
       "_dom_classes": [
        "widget-interact"
       ],
       "children": [
        "IPY_MODEL_e6b6d946d1ed4fb682d736c5c3897f93",
        "IPY_MODEL_9539799220fe4775970a4fcbce1875ef"
       ],
       "layout": "IPY_MODEL_97944c3db4b945f48f6ae6a1cc134f3b"
      }
     },
     "265966bf297149b59ef3d92887186d8a": {
      "model_module": "@jupyter-widgets/controls",
      "model_module_version": "1.5.0",
      "model_name": "VBoxModel",
      "state": {
       "_dom_classes": [
        "widget-interact"
       ],
       "children": [
        "IPY_MODEL_504bdc0b9d15434ca959c87df398ea35",
        "IPY_MODEL_18e19de11b3546e5adab0286d75db98d"
       ],
       "layout": "IPY_MODEL_622b557735bb4486983f22987f257557"
      }
     },
     "288a0f87b3cb4e439f2df4c900700fb8": {
      "model_module": "@jupyter-widgets/controls",
      "model_module_version": "1.5.0",
      "model_name": "VBoxModel",
      "state": {
       "_dom_classes": [
        "widget-interact"
       ],
       "children": [
        "IPY_MODEL_b4e7121e00c84c409bf933d85c5be6a3",
        "IPY_MODEL_67dac95bcd4a49a79503b1cee672774d"
       ],
       "layout": "IPY_MODEL_21676f2219ee4ba5a144804ce0093439"
      }
     },
     "2b4e53df9b1445a98927a0b37c13d217": {
      "model_module": "@jupyter-widgets/output",
      "model_module_version": "1.0.0",
      "model_name": "OutputModel",
      "state": {
       "layout": "IPY_MODEL_0404c280bd7a492aa7508beb5a1fcfdc"
      }
     },
     "2ca17a19b9124d20805807fdf56c5991": {
      "model_module": "@jupyter-widgets/base",
      "model_module_version": "1.2.0",
      "model_name": "LayoutModel",
      "state": {}
     },
     "2dab04fec7604ba8a85279c0f047f6c9": {
      "model_module": "@jupyter-widgets/base",
      "model_module_version": "1.2.0",
      "model_name": "LayoutModel",
      "state": {}
     },
     "2e8cb26f70334cc58df3f12109655625": {
      "model_module": "@jupyter-widgets/base",
      "model_module_version": "1.2.0",
      "model_name": "LayoutModel",
      "state": {}
     },
     "341087fabb234a46a56558951c4405e0": {
      "model_module": "@jupyter-widgets/controls",
      "model_module_version": "1.5.0",
      "model_name": "VBoxModel",
      "state": {
       "_dom_classes": [
        "widget-interact"
       ],
       "children": [
        "IPY_MODEL_1cad8f7177fa4f5ea8556673f1ae64bb",
        "IPY_MODEL_cb24cb8da58849448fc9a1b3534c36ee"
       ],
       "layout": "IPY_MODEL_0fd27e83b944482c80c54aa77199667d"
      }
     },
     "391cbe513c284d1f9b58b5cc5911e59f": {
      "model_module": "@jupyter-widgets/controls",
      "model_module_version": "1.5.0",
      "model_name": "VBoxModel",
      "state": {
       "_dom_classes": [
        "widget-interact"
       ],
       "children": [
        "IPY_MODEL_7868f8346fed48deb80e9d2bdd2079c1",
        "IPY_MODEL_e2b9ab564343429ab8341dd254170f21"
       ],
       "layout": "IPY_MODEL_a394688f1a5e48e48cc67d6c1678b6d2"
      }
     },
     "3a9e99243c064694bcd39e4ba956f0b3": {
      "model_module": "@jupyter-widgets/base",
      "model_module_version": "1.2.0",
      "model_name": "LayoutModel",
      "state": {}
     },
     "409e0a0f840e46edaaad6d5dcf3c364f": {
      "model_module": "@jupyter-widgets/base",
      "model_module_version": "1.2.0",
      "model_name": "LayoutModel",
      "state": {}
     },
     "4576df5e7e4045379a97beef7b67d006": {
      "model_module": "@jupyter-widgets/base",
      "model_module_version": "1.2.0",
      "model_name": "LayoutModel",
      "state": {}
     },
     "461ffd4d4fed477eb203b7f6a5411cfa": {
      "model_module": "@jupyter-widgets/controls",
      "model_module_version": "1.5.0",
      "model_name": "DescriptionStyleModel",
      "state": {
       "description_width": ""
      }
     },
     "463b011330ef4d3db35038c8a857f4b7": {
      "model_module": "@jupyter-widgets/base",
      "model_module_version": "1.2.0",
      "model_name": "LayoutModel",
      "state": {}
     },
     "4cf7782dc39e49ba887c15105601b0f2": {
      "model_module": "@jupyter-widgets/base",
      "model_module_version": "1.2.0",
      "model_name": "LayoutModel",
      "state": {}
     },
     "504bdc0b9d15434ca959c87df398ea35": {
      "model_module": "@jupyter-widgets/controls",
      "model_module_version": "1.5.0",
      "model_name": "SelectMultipleModel",
      "state": {
       "_options_labels": [
        "crc.csv",
        "BC.csv",
        "schools.csv",
        "bulk_hawker.csv",
        "trade_temple_other.csv",
        "gov.csv",
        "bc_blocks.csv",
        "condo_optin.csv",
        "landed.csv"
       ],
       "description": "Input file:",
       "index": [
        0,
        2,
        3,
        4,
        5,
        7,
        8
       ],
       "layout": "IPY_MODEL_463b011330ef4d3db35038c8a857f4b7",
       "rows": 9,
       "style": "IPY_MODEL_461ffd4d4fed477eb203b7f6a5411cfa"
      }
     },
     "50cb8b8f05ac47be8d3f2907f6d218c8": {
      "model_module": "@jupyter-widgets/controls",
      "model_module_version": "1.5.0",
      "model_name": "ButtonStyleModel",
      "state": {}
     },
     "53a536581bdd4742bf03f1d3d16e90f7": {
      "model_module": "@jupyter-widgets/output",
      "model_module_version": "1.0.0",
      "model_name": "OutputModel",
      "state": {
       "layout": "IPY_MODEL_a8ac7c7b928c4e48b24704fa5f841cfd"
      }
     },
     "58b7238f301f4d129545701570bb8116": {
      "model_module": "@jupyter-widgets/controls",
      "model_module_version": "1.5.0",
      "model_name": "ButtonStyleModel",
      "state": {}
     },
     "622b557735bb4486983f22987f257557": {
      "model_module": "@jupyter-widgets/base",
      "model_module_version": "1.2.0",
      "model_name": "LayoutModel",
      "state": {}
     },
     "677d23deb7274b0ca279dffdd2c7b91b": {
      "model_module": "@jupyter-widgets/controls",
      "model_module_version": "1.5.0",
      "model_name": "ButtonModel",
      "state": {
       "description": "Show map",
       "layout": "IPY_MODEL_f5da9e1175f24814a9ba6195fdcf3885",
       "style": "IPY_MODEL_cefa579cf05f44a88720211847e8e885"
      }
     },
     "67dac95bcd4a49a79503b1cee672774d": {
      "model_module": "@jupyter-widgets/output",
      "model_module_version": "1.0.0",
      "model_name": "OutputModel",
      "state": {
       "layout": "IPY_MODEL_f9dca610179d43ce8d843f264b73f9ab",
       "outputs": [
        {
         "data": {
          "text/html": "<div>\n<style scoped>\n    .dataframe tbody tr th:only-of-type {\n        vertical-align: middle;\n    }\n\n    .dataframe tbody tr th {\n        vertical-align: top;\n    }\n\n    .dataframe thead th {\n        text-align: right;\n    }\n</style>\n<table border=\"1\" class=\"dataframe\">\n  <thead>\n    <tr style=\"text-align: right;\">\n      <th></th>\n      <th>description</th>\n      <th>type</th>\n      <th>Postal Code</th>\n      <th>ADDRESS</th>\n    </tr>\n  </thead>\n  <tbody>\n    <tr>\n      <th>5</th>\n      <td>Senoko Incineration Plant</td>\n      <td>waste_treatment</td>\n      <td>759907</td>\n      <td>30 attap valley road senoko incineration plant...</td>\n    </tr>\n    <tr>\n      <th>6</th>\n      <td>Tuas South Incineration Plant</td>\n      <td>waste_treatment</td>\n      <td>637821</td>\n      <td>98 tuas south avenue 3 singapore 637821</td>\n    </tr>\n    <tr>\n      <th>7</th>\n      <td>KSTP</td>\n      <td>waste_treatment</td>\n      <td>637366</td>\n      <td>96 tuas south avenue 3 singapore 637366</td>\n    </tr>\n  </tbody>\n</table>\n</div>",
          "text/plain": "                     description             type Postal Code  \\\n5      Senoko Incineration Plant  waste_treatment      759907   \n6  Tuas South Incineration Plant  waste_treatment      637821   \n7                           KSTP  waste_treatment      637366   \n\n                                             ADDRESS  \n5  30 attap valley road senoko incineration plant...  \n6            98 tuas south avenue 3 singapore 637821  \n7            96 tuas south avenue 3 singapore 637366  "
         },
         "metadata": {},
         "output_type": "display_data"
        }
       ]
      }
     },
     "6985cb8ed2434a029b3d1484bfb9ee9e": {
      "model_module": "@jupyter-widgets/controls",
      "model_module_version": "1.5.0",
      "model_name": "ButtonModel",
      "state": {
       "description": "Show map",
       "layout": "IPY_MODEL_d3bf98105dd4441eab236f1909868aaa",
       "style": "IPY_MODEL_58b7238f301f4d129545701570bb8116"
      }
     },
     "6fe19f45c10841008377a88b858e60ae": {
      "model_module": "@jupyter-widgets/base",
      "model_module_version": "1.2.0",
      "model_name": "LayoutModel",
      "state": {}
     },
     "71cbeb9fa5264d32938c92313bab9fd1": {
      "model_module": "@jupyter-widgets/controls",
      "model_module_version": "1.5.0",
      "model_name": "DescriptionStyleModel",
      "state": {
       "description_width": ""
      }
     },
     "76b8bd3d9a634a00ab87cd5e943920de": {
      "model_module": "@jupyter-widgets/base",
      "model_module_version": "1.2.0",
      "model_name": "LayoutModel",
      "state": {}
     },
     "7868f8346fed48deb80e9d2bdd2079c1": {
      "model_module": "@jupyter-widgets/controls",
      "model_module_version": "1.5.0",
      "model_name": "SelectMultipleModel",
      "state": {
       "_options_labels": [
        "rel_refuse_producers_high_demand.csv",
        "landed_service_residential.csv",
        "crc.csv",
        "BC.csv",
        "schools.csv",
        "bc_hl_refuse_producers.csv",
        "bulk_hawker.csv",
        "trade_temple_other.csv",
        "rel_refuse_producers_high_demand_all.csv",
        "rel_refuse_producers.csv",
        "rel_refuse_producers_jurong_high_demand.csv",
        "crc_mac.csv",
        "rel_recycling.csv",
        "rel_refuse_producers_jurong_high_demand_all.csv",
        "rel_refuse_producers_all.csv",
        "gov.csv",
        "bc_blocks.csv",
        "bc_refuse_producers.csv",
        "condo_optin.csv",
        "BC 1.csv"
       ],
       "description": "Input file:",
       "index": [
        0
       ],
       "layout": "IPY_MODEL_a306063464004c9f809d51daae63a170",
       "rows": 20,
       "style": "IPY_MODEL_d8bd0d0ab09c4dfd8f367b3a3547cd62"
      }
     },
     "82c1874751ba4d1bacd9de3ae0198736": {
      "model_module": "@jupyter-widgets/controls",
      "model_module_version": "1.5.0",
      "model_name": "ButtonModel",
      "state": {
       "description": "Show map",
       "layout": "IPY_MODEL_4576df5e7e4045379a97beef7b67d006",
       "style": "IPY_MODEL_c39027e57b3449caa04d9514b056a62f"
      }
     },
     "8579420f34cd4bab9dc6ccb407c74f64": {
      "model_module": "@jupyter-widgets/base",
      "model_module_version": "1.2.0",
      "model_name": "LayoutModel",
      "state": {}
     },
     "8595d8412c9444fcb6f4fa81ac7035c9": {
      "model_module": "@jupyter-widgets/controls",
      "model_module_version": "1.5.0",
      "model_name": "DescriptionStyleModel",
      "state": {
       "description_width": ""
      }
     },
     "8a2526bf64414ec18caecb7c1bd29049": {
      "model_module": "@jupyter-widgets/controls",
      "model_module_version": "1.5.0",
      "model_name": "DropdownModel",
      "state": {
       "_options_labels": [
        "ALBA W&H Kranji depot",
        "ALBA W&H Tuas depot"
       ],
       "description": "Depot:",
       "index": 1,
       "layout": "IPY_MODEL_1d48adc2b5d24d679a6e20b970cdb56d",
       "style": "IPY_MODEL_8595d8412c9444fcb6f4fa81ac7035c9"
      }
     },
     "92cadf01be534fe3939334b47fc59051": {
      "model_module": "@jupyter-widgets/controls",
      "model_module_version": "1.5.0",
      "model_name": "SelectMultipleModel",
      "state": {
       "_options_labels": [
        "crc.csv",
        "BC.csv",
        "schools.csv",
        "bulk_hawker.csv",
        "trade_temple_other.csv",
        "gov.csv",
        "bc_blocks.csv",
        "condo_optin.csv",
        "landed.csv"
       ],
       "description": "Input file:",
       "index": [
        0,
        2,
        3,
        4,
        5,
        7,
        8
       ],
       "layout": "IPY_MODEL_98b5ee657958439db3b87ec40196ba8b",
       "rows": 9,
       "style": "IPY_MODEL_9f7ea770ec784fcfbbd20b540c04e0af"
      }
     },
     "9539799220fe4775970a4fcbce1875ef": {
      "model_module": "@jupyter-widgets/output",
      "model_module_version": "1.0.0",
      "model_name": "OutputModel",
      "state": {
       "layout": "IPY_MODEL_c763016bb5d1470ba6b950b9a3bf10ab",
       "outputs": [
        {
         "name": "stdout",
         "output_type": "stream",
         "text": "Index(['planning_area', 'Postal Code', 'block_number', 'street_name',\n       'building description', 'property_type', 'land_use',\n       'total_dwelling_units', 'total_people', 'parcel_area_m2',\n       ...\n       '240', '360', '660', 'MAX SIZE FOR GOMIC  INSTALLATION',\n       'collection_scheme', 'n_bins', 'geom_id', 'geom_id_inv',\n       'geom_id_order', 'arc_index'],\n      dtype='object', length=114)\n"
        },
        {
         "data": {
          "text/plain": "'Number of producers: 15815'"
         },
         "metadata": {},
         "output_type": "display_data"
        },
        {
         "name": "stdout",
         "output_type": "stream",
         "text": "Number of producers after removing large commercial land parcels: 15815\n"
        }
       ]
      }
     },
     "97944c3db4b945f48f6ae6a1cc134f3b": {
      "model_module": "@jupyter-widgets/base",
      "model_module_version": "1.2.0",
      "model_name": "LayoutModel",
      "state": {}
     },
     "98b5ee657958439db3b87ec40196ba8b": {
      "model_module": "@jupyter-widgets/base",
      "model_module_version": "1.2.0",
      "model_name": "LayoutModel",
      "state": {}
     },
     "9b16d05cc9424b998847a046339ae14d": {
      "model_module": "@jupyter-widgets/base",
      "model_module_version": "1.2.0",
      "model_name": "LayoutModel",
      "state": {}
     },
     "9f7ea770ec784fcfbbd20b540c04e0af": {
      "model_module": "@jupyter-widgets/controls",
      "model_module_version": "1.5.0",
      "model_name": "DescriptionStyleModel",
      "state": {
       "description_width": ""
      }
     },
     "a306063464004c9f809d51daae63a170": {
      "model_module": "@jupyter-widgets/base",
      "model_module_version": "1.2.0",
      "model_name": "LayoutModel",
      "state": {}
     },
     "a394688f1a5e48e48cc67d6c1678b6d2": {
      "model_module": "@jupyter-widgets/base",
      "model_module_version": "1.2.0",
      "model_name": "LayoutModel",
      "state": {}
     },
     "a777a6a433044c249364fc8baa4fe738": {
      "model_module": "@jupyter-widgets/controls",
      "model_module_version": "1.5.0",
      "model_name": "ButtonStyleModel",
      "state": {}
     },
     "a8ac7c7b928c4e48b24704fa5f841cfd": {
      "model_module": "@jupyter-widgets/base",
      "model_module_version": "1.2.0",
      "model_name": "LayoutModel",
      "state": {}
     },
     "ab329332d7cb4be990504e78d233b7ee": {
      "model_module": "@jupyter-widgets/controls",
      "model_module_version": "1.5.0",
      "model_name": "VBoxModel",
      "state": {
       "_dom_classes": [
        "widget-interact"
       ],
       "children": [
        "IPY_MODEL_92cadf01be534fe3939334b47fc59051",
        "IPY_MODEL_f24f6fd65aeb4e1a8545cdf34d8cfb96"
       ],
       "layout": "IPY_MODEL_d3fe956ee40d4960b0e10a334f6c169b"
      }
     },
     "adffeb3254b24b6eb78beb9c95fdd5e2": {
      "model_module": "@jupyter-widgets/base",
      "model_module_version": "1.2.0",
      "model_name": "LayoutModel",
      "state": {}
     },
     "b4e7121e00c84c409bf933d85c5be6a3": {
      "model_module": "@jupyter-widgets/controls",
      "model_module_version": "1.5.0",
      "model_name": "SelectMultipleModel",
      "state": {
       "_options_labels": [
        "ALBA W&H Kranji depot",
        "CTM MRF",
        "KSTP",
        "Senoko Incineration Plant",
        "Tuas Incineration Plant",
        "Tuas South Incineration Plant"
       ],
       "description": "Treatment:",
       "index": [
        2,
        3,
        5
       ],
       "layout": "IPY_MODEL_adffeb3254b24b6eb78beb9c95fdd5e2",
       "rows": 6,
       "style": "IPY_MODEL_16e6989affb846b0baf6204485ea672d"
      }
     },
     "b527e26e48164bdc985ba88bffde004e": {
      "model_module": "@jupyter-widgets/output",
      "model_module_version": "1.0.0",
      "model_name": "OutputModel",
      "state": {
       "layout": "IPY_MODEL_409e0a0f840e46edaaad6d5dcf3c364f"
      }
     },
     "bb3a7e29f39d40819d14ad4b03a195f0": {
      "model_module": "@jupyter-widgets/controls",
      "model_module_version": "1.5.0",
      "model_name": "ButtonModel",
      "state": {
       "description": "Load network",
       "layout": "IPY_MODEL_9b16d05cc9424b998847a046339ae14d",
       "style": "IPY_MODEL_0a6eac1142654a048ac05ee24867a21b"
      }
     },
     "c04bbd4f00b14316a6583d0c35b4c8bc": {
      "model_module": "@jupyter-widgets/output",
      "model_module_version": "1.0.0",
      "model_name": "OutputModel",
      "state": {
       "layout": "IPY_MODEL_2ca17a19b9124d20805807fdf56c5991"
      }
     },
     "c39027e57b3449caa04d9514b056a62f": {
      "model_module": "@jupyter-widgets/controls",
      "model_module_version": "1.5.0",
      "model_name": "ButtonStyleModel",
      "state": {}
     },
     "c763016bb5d1470ba6b950b9a3bf10ab": {
      "model_module": "@jupyter-widgets/base",
      "model_module_version": "1.2.0",
      "model_name": "LayoutModel",
      "state": {}
     },
     "cb24cb8da58849448fc9a1b3534c36ee": {
      "model_module": "@jupyter-widgets/output",
      "model_module_version": "1.0.0",
      "model_name": "OutputModel",
      "state": {
       "layout": "IPY_MODEL_f2e3e7a43fa24f83ad27435fe4e996f4",
       "outputs": [
        {
         "data": {
          "text/plain": "'Producers in area: 16057'"
         },
         "metadata": {},
         "output_type": "display_data"
        }
       ]
      }
     },
     "cbfc44c6474645e2b7f934f011d88b00": {
      "model_module": "@jupyter-widgets/controls",
      "model_module_version": "1.5.0",
      "model_name": "ButtonModel",
      "state": {
       "description": "Show map",
       "layout": "IPY_MODEL_f69c2c02ef3f4e78897fd8d53c0cbc9e",
       "style": "IPY_MODEL_a777a6a433044c249364fc8baa4fe738"
      }
     },
     "cefa579cf05f44a88720211847e8e885": {
      "model_module": "@jupyter-widgets/controls",
      "model_module_version": "1.5.0",
      "model_name": "ButtonStyleModel",
      "state": {}
     },
     "d3bf98105dd4441eab236f1909868aaa": {
      "model_module": "@jupyter-widgets/base",
      "model_module_version": "1.2.0",
      "model_name": "LayoutModel",
      "state": {}
     },
     "d3fe956ee40d4960b0e10a334f6c169b": {
      "model_module": "@jupyter-widgets/base",
      "model_module_version": "1.2.0",
      "model_name": "LayoutModel",
      "state": {}
     },
     "d8bd0d0ab09c4dfd8f367b3a3547cd62": {
      "model_module": "@jupyter-widgets/controls",
      "model_module_version": "1.5.0",
      "model_name": "DescriptionStyleModel",
      "state": {
       "description_width": ""
      }
     },
     "e0103eff14ce4eb08422d3be9dfa040a": {
      "model_module": "@jupyter-widgets/base",
      "model_module_version": "1.2.0",
      "model_name": "LayoutModel",
      "state": {}
     },
     "e2b9ab564343429ab8341dd254170f21": {
      "model_module": "@jupyter-widgets/output",
      "model_module_version": "1.0.0",
      "model_name": "OutputModel",
      "state": {
       "layout": "IPY_MODEL_6fe19f45c10841008377a88b858e60ae",
       "outputs": [
        {
         "name": "stderr",
         "output_type": "stream",
         "text": "/Users/ejwillemse/opt/anaconda3/envs/waste_labs_examples/lib/python3.8/site-packages/ipywidgets/widgets/widget.py:186: DtypeWarning:\n\nColumns (49,50,53,54,55,56,57,58,59,61,65,68,69,71,72,73,74,75,76,78,79,81,82,91,96,98,101,108) have mixed types.Specify dtype option on import or set low_memory=False.\n\n"
        },
        {
         "data": {
          "text/plain": "'Producers in area: 15815'"
         },
         "metadata": {},
         "output_type": "display_data"
        }
       ]
      }
     },
     "e5ad76e6681a45559e122c3ec1947a3a": {
      "model_module": "@jupyter-widgets/output",
      "model_module_version": "1.0.0",
      "model_name": "OutputModel",
      "state": {
       "layout": "IPY_MODEL_3a9e99243c064694bcd39e4ba956f0b3"
      }
     },
     "e6b6d946d1ed4fb682d736c5c3897f93": {
      "model_module": "@jupyter-widgets/controls",
      "model_module_version": "1.5.0",
      "model_name": "SelectMultipleModel",
      "state": {
       "_options_labels": [
        "ALL",
        "CRC",
        "Condo opt-in",
        "Government",
        "Schools",
        "bulk_bins",
        "commercial",
        "commercial & residential",
        "hawker_markets",
        "landed_properties",
        "place of worship",
        "residential with commercial at 1st storey"
       ],
       "description": "Producer:",
       "index": [
        0
       ],
       "layout": "IPY_MODEL_1bb42f3182c04b58bc692d0f4742bc2d",
       "rows": 12,
       "style": "IPY_MODEL_05d2e6be818a4a2f9c76407f8e1eb5ec"
      }
     },
     "ed8a2664faf54e67bd051ee539c40994": {
      "model_module": "@jupyter-widgets/base",
      "model_module_version": "1.2.0",
      "model_name": "LayoutModel",
      "state": {}
     },
     "ee45ce3fa54e49e892ced31c4d656152": {
      "model_module": "@jupyter-widgets/controls",
      "model_module_version": "1.5.0",
      "model_name": "ButtonModel",
      "state": {
       "description": "Show map",
       "layout": "IPY_MODEL_2dab04fec7604ba8a85279c0f047f6c9",
       "style": "IPY_MODEL_50cb8b8f05ac47be8d3f2907f6d218c8"
      }
     },
     "f04ece8682a845b4a8d3d3cdda4a0ff9": {
      "model_module": "@jupyter-widgets/controls",
      "model_module_version": "1.5.0",
      "model_name": "VBoxModel",
      "state": {
       "_dom_classes": [
        "widget-interact"
       ],
       "children": [
        "IPY_MODEL_8a2526bf64414ec18caecb7c1bd29049",
        "IPY_MODEL_182ddfca166843ae87b1cac941d1269b"
       ],
       "layout": "IPY_MODEL_76b8bd3d9a634a00ab87cd5e943920de"
      }
     },
     "f24f6fd65aeb4e1a8545cdf34d8cfb96": {
      "model_module": "@jupyter-widgets/output",
      "model_module_version": "1.0.0",
      "model_name": "OutputModel",
      "state": {
       "layout": "IPY_MODEL_ed8a2664faf54e67bd051ee539c40994",
       "outputs": [
        {
         "data": {
          "text/plain": "'Producers in area: 16057'"
         },
         "metadata": {},
         "output_type": "display_data"
        }
       ]
      }
     },
     "f2e3e7a43fa24f83ad27435fe4e996f4": {
      "model_module": "@jupyter-widgets/base",
      "model_module_version": "1.2.0",
      "model_name": "LayoutModel",
      "state": {}
     },
     "f5da9e1175f24814a9ba6195fdcf3885": {
      "model_module": "@jupyter-widgets/base",
      "model_module_version": "1.2.0",
      "model_name": "LayoutModel",
      "state": {}
     },
     "f69c2c02ef3f4e78897fd8d53c0cbc9e": {
      "model_module": "@jupyter-widgets/base",
      "model_module_version": "1.2.0",
      "model_name": "LayoutModel",
      "state": {}
     },
     "f9dca610179d43ce8d843f264b73f9ab": {
      "model_module": "@jupyter-widgets/base",
      "model_module_version": "1.2.0",
      "model_name": "LayoutModel",
      "state": {}
     }
    },
    "version_major": 2,
    "version_minor": 0
   }
  }
 },
 "nbformat": 4,
 "nbformat_minor": 4
}
