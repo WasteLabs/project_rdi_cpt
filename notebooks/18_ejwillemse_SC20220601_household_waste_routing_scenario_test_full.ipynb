{
 "cells": [
  {
   "cell_type": "markdown",
   "metadata": {},
   "source": [
    "# Resource planning --- full"
   ]
  },
  {
   "cell_type": "code",
   "execution_count": 1,
   "metadata": {},
   "outputs": [
    {
     "data": {
      "text/html": [
       "<style>\n",
       "table {float:left}\n",
       "</style>\n"
      ],
      "text/plain": [
       "<IPython.core.display.HTML object>"
      ]
     },
     "metadata": {},
     "output_type": "display_data"
    }
   ],
   "source": [
    "%%html\n",
    "<style>\n",
    "table {float:left}\n",
    "</style>"
   ]
  },
  {
   "cell_type": "markdown",
   "metadata": {},
   "source": [
    "| Document info | |\n",
    "| --- | --- | \n",
    "| Area of interest: | Cape Town |\n",
    "| Planning type: | All REL type producers |\n",
    "| Prepared by: | Waste Labs (wastelabs.co) |\n",
    "| Prepared for: | Johan W. Joubert |\n",
    "| Contact: | elias@wastelabs.co |"
   ]
  },
  {
   "cell_type": "code",
   "execution_count": 2,
   "metadata": {},
   "outputs": [
    {
     "data": {
      "text/html": [
       "        <script type=\"text/javascript\">\n",
       "        window.PlotlyConfig = {MathJaxConfig: 'local'};\n",
       "        if (window.MathJax) {MathJax.Hub.Config({SVG: {font: \"STIX-Web\"}});}\n",
       "        if (typeof require !== 'undefined') {\n",
       "        require.undef(\"plotly\");\n",
       "        requirejs.config({\n",
       "            paths: {\n",
       "                'plotly': ['https://cdn.plot.ly/plotly-2.11.1.min']\n",
       "            }\n",
       "        });\n",
       "        require(['plotly'], function(Plotly) {\n",
       "            window._Plotly = Plotly;\n",
       "        });\n",
       "        }\n",
       "        </script>\n",
       "        "
      ]
     },
     "metadata": {},
     "output_type": "display_data"
    },
    {
     "data": {
      "text/html": [
       "        <script type=\"text/javascript\">\n",
       "        window.PlotlyConfig = {MathJaxConfig: 'local'};\n",
       "        if (window.MathJax) {MathJax.Hub.Config({SVG: {font: \"STIX-Web\"}});}\n",
       "        if (typeof require !== 'undefined') {\n",
       "        require.undef(\"plotly\");\n",
       "        requirejs.config({\n",
       "            paths: {\n",
       "                'plotly': ['https://cdn.plot.ly/plotly-2.11.1.min']\n",
       "            }\n",
       "        });\n",
       "        require(['plotly'], function(Plotly) {\n",
       "            window._Plotly = Plotly;\n",
       "        });\n",
       "        }\n",
       "        </script>\n",
       "        "
      ]
     },
     "metadata": {},
     "output_type": "display_data"
    },
    {
     "name": "stderr",
     "output_type": "stream",
     "text": [
      "/Users/ejwillemse/opt/anaconda3/envs/python_RD/lib/python3.8/site-packages/tables/__init__.py:99: DeprecationWarning:\n",
      "\n",
      "`np.typeDict` is a deprecated alias for `np.sctypeDict`.\n",
      "\n"
     ]
    },
    {
     "data": {
      "text/html": [
       "        <script type=\"text/javascript\">\n",
       "        window.PlotlyConfig = {MathJaxConfig: 'local'};\n",
       "        if (window.MathJax) {MathJax.Hub.Config({SVG: {font: \"STIX-Web\"}});}\n",
       "        if (typeof require !== 'undefined') {\n",
       "        require.undef(\"plotly\");\n",
       "        requirejs.config({\n",
       "            paths: {\n",
       "                'plotly': ['https://cdn.plot.ly/plotly-2.11.1.min']\n",
       "            }\n",
       "        });\n",
       "        require(['plotly'], function(Plotly) {\n",
       "            window._Plotly = Plotly;\n",
       "        });\n",
       "        }\n",
       "        </script>\n",
       "        "
      ]
     },
     "metadata": {},
     "output_type": "display_data"
    }
   ],
   "source": [
    "%load_ext autoreload\n",
    "%autoreload 2\n",
    "%config Completer.use_jedi = False\n",
    "\n",
    "# Show all code cells outputs\n",
    "from IPython.core.interactiveshell import InteractiveShell\n",
    "\n",
    "InteractiveShell.ast_node_interactivity = \"all\"\n",
    "\n",
    "import logging\n",
    "\n",
    "logging.basicConfig(level=logging.INFO)\n",
    "\n",
    "import pickle\n",
    "\n",
    "import chart_studio.plotly as py\n",
    "import plotly.express as px\n",
    "import plotly.graph_objs as go\n",
    "from plotly.offline import init_notebook_mode, iplot\n",
    "\n",
    "init_notebook_mode(connected=True)\n",
    "\n",
    "import cufflinks as cf\n",
    "\n",
    "cf.go_offline(connected=True)\n",
    "cf.set_config_file(colorscale=\"plotly\", world_readable=True)\n",
    "\n",
    "import os\n",
    "import sys\n",
    "\n",
    "import geopandas as gpd\n",
    "import ipywidgets as widgets\n",
    "import numpy as np\n",
    "import pandas as pd\n",
    "import plotly.graph_objects as go\n",
    "from GPSOdyssey import Kepler\n",
    "from IPython.display import clear_output\n",
    "from ipywidgets import fixed, interact, interact_manual, interactive\n",
    "from keplergl import KeplerGl\n",
    "from shapely import wkt\n",
    "\n",
    "# sys.path.insert(0, '../../../mcarptif/')\n",
    "# sys.path.insert(0, os.path.abspath('../../collection_diagnostics/'))\n",
    "# sys.path.insert(0, os.path.abspath('../../OSM_processing/'))\n",
    "import utils.process_gdf as process_gdf\n",
    "\n",
    "# Extra options\n",
    "pd.options.display.max_rows = 1000\n",
    "pd.options.display.max_columns = 1000\n",
    "\n",
    "from mcarptif.osmnx_network_extract.extract_grptif import NetworkExtract\n",
    "from mcarptif.osmnx_network_extract.network_code import create_gdf, required_arc_plot\n",
    "from mcarptif.solver.solve import solve_store_instance\n",
    "from mcarptif.visualise.route_tables import RouteSummary\n",
    "from utils.gdf_helpers import create_gdf\n",
    "\n",
    "\n",
    "def df_style(df):\n",
    "    if df[0] == \"Total\":\n",
    "        return [\"font-weight: bold\"] * len(df)\n",
    "    else:\n",
    "        return [\"\"] * len(df)"
   ]
  },
  {
   "cell_type": "markdown",
   "metadata": {},
   "source": [
    "## Load network data"
   ]
  },
  {
   "cell_type": "code",
   "execution_count": 3,
   "metadata": {},
   "outputs": [
    {
     "name": "stdout",
     "output_type": "stream",
     "text": [
      "2022-06-02 22:24:56,338 - kedro.io.data_catalog - INFO - Loading data from `road_network_simplified_24645_edges` (GeoJSONDataSet)...\n",
      "2022-06-02 22:24:58,065 - kedro.io.data_catalog - INFO - Loading data from `road_network_simplified_24645_edges_directed` (GeoJSONDataSet)...\n",
      "2022-06-02 22:24:59,184 - kedro.io.data_catalog - INFO - Loading data from `road_network_simplified_24645_nodes` (GeoJSONDataSet)...\n"
     ]
    }
   ],
   "source": [
    "networkh5_file = \"../data/05_model_input/sp_files/road_network_simplified_24645.h\"\n",
    "test_network = catalog.load(\"road_network_simplified_24645_edges\")\n",
    "test_network = test_network.drop(columns=[\"Unnamed: 0\"], errors=\"ignore\")\n",
    "test_network_directed = catalog.load(\"road_network_simplified_24645_edges_directed\")\n",
    "nodes = catalog.load(\"road_network_simplified_24645_nodes\")"
   ]
  },
  {
   "cell_type": "code",
   "execution_count": 4,
   "metadata": {},
   "outputs": [
    {
     "data": {
      "text/plain": [
       "(22189, 19)"
      ]
     },
     "execution_count": 4,
     "metadata": {},
     "output_type": "execute_result"
    }
   ],
   "source": [
    "test_network.shape"
   ]
  },
  {
   "cell_type": "code",
   "execution_count": 5,
   "metadata": {},
   "outputs": [
    {
     "name": "stdout",
     "output_type": "stream",
     "text": [
      "CPU times: user 779 ms, sys: 20.3 ms, total: 800 ms\n",
      "Wall time: 831 ms\n"
     ]
    },
    {
     "name": "stderr",
     "output_type": "stream",
     "text": [
      "/Users/ejwillemse/opt/anaconda3/envs/python_RD/lib/python3.8/site-packages/geopandas/geodataframe.py:199: UserWarning:\n",
      "\n",
      "Pandas doesn't allow columns to be created via a new attribute name - see https://pandas.pydata.org/pandas-docs/stable/indexing.html#attribute-access\n",
      "\n"
     ]
    }
   ],
   "source": [
    "%%time\n",
    "test_network = process_gdf.process_edges(test_network)\n",
    "test_network.drop_duplicates([\"geom_id\"], inplace=True)\n",
    "nodes.sp_index = nodes.index\n",
    "test_network[\"arc_index\"] = test_network.index\n",
    "nodes[\"sp_index\"] = nodes.index"
   ]
  },
  {
   "cell_type": "markdown",
   "metadata": {
    "tags": []
   },
   "source": [
    "## Run scenarios"
   ]
  },
  {
   "cell_type": "code",
   "execution_count": 6,
   "metadata": {
    "tags": []
   },
   "outputs": [
    {
     "name": "stdout",
     "output_type": "stream",
     "text": [
      "2022-06-02 22:25:01,006 - kedro.io.data_catalog - INFO - Loading data from `lat_lon_key_network_match_20220601` (CSVDataSet)...\n",
      "2022-06-02 22:25:01,175 - kedro.io.data_catalog - INFO - Loading data from `syn_pop_scenarios_local_20220601` (PartitionedDataSet)...\n",
      "2022-06-02 22:25:01,193 - kedro.io.data_catalog - INFO - Loading data from `infrastructure_sample_network_match` (CSVDataSet)...\n",
      "2022-06-02 22:25:01,197 - kedro.io.data_catalog - INFO - Loading data from `resource_summary_table_20220601` (PartitionedDataSet)...\n",
      "CPU times: user 163 ms, sys: 26.3 ms, total: 189 ms\n",
      "Wall time: 196 ms\n"
     ]
    }
   ],
   "source": [
    "%%time\n",
    "df_lat_lon_match = catalog.load(\"lat_lon_key_network_match_20220601\")\n",
    "df_producer_geo_all = catalog.load(\"syn_pop_scenarios_local_20220601\")\n",
    "infrastructure = catalog.load(\"infrastructure_sample_network_match\")\n",
    "solved = list(catalog.load(\"resource_summary_table_20220601\"))"
   ]
  },
  {
   "cell_type": "code",
   "execution_count": 9,
   "metadata": {
    "tags": []
   },
   "outputs": [
    {
     "name": "stdout",
     "output_type": "stream",
     "text": [
      "\n",
      "\n",
      " RUNNING SCENARIO households_041\n",
      "2022-06-02 22:27:01,753 - kedro.io.data_catalog - INFO - Loading data from `waste_gen_scenarios_local_20220601` (PartitionedDataSet)...\n",
      "2022-06-02 22:27:01,772 - kedro.io.data_catalog - INFO - Loading data from `routing_parameters` (ExcelDataSet)...\n",
      "2022-06-02 22:27:01,976 - root - INFO - Preparing road network.......\n",
      "\n",
      "2022-06-02 22:27:02,045 - root - INFO - Load required arcs\n",
      "2022-06-02 22:27:02,046 - root - INFO - Merging with the network\n",
      "2022-06-02 22:27:02,077 - root - INFO - Set depot\n",
      "2022-06-02 22:27:02,083 - root - INFO - Set offload facilities\n",
      "2022-06-02 22:27:02,100 - root - INFO - Extend required arcs with inverse edge arcs\n"
     ]
    },
    {
     "name": "stderr",
     "output_type": "stream",
     "text": [
      "/Users/ejwillemse/opt/anaconda3/envs/python_RD/lib/python3.8/site-packages/tables/array.py:241: DeprecationWarning:\n",
      "\n",
      "`np.object` is a deprecated alias for the builtin `object`. To silence this warning, use `object` by itself. Doing this will not modify any behavior and is safe. \n",
      "Deprecated in NumPy 1.20; for more details and guidance: https://numpy.org/devdocs/release/1.20.0-notes.html#deprecations\n",
      "\n"
     ]
    },
    {
     "name": "stdout",
     "output_type": "stream",
     "text": [
      "2022-06-02 22:27:02,207 - root - INFO - Checking master list\n",
      "2022-06-02 22:27:02,214 - root - INFO - Load distance matrix: 8143 x 8143\n"
     ]
    },
    {
     "name": "stderr",
     "output_type": "stream",
     "text": [
      "/Users/ejwillemse/opt/anaconda3/envs/python_RD/lib/python3.8/site-packages/tables/array.py:241: DeprecationWarning:\n",
      "\n",
      "`np.object` is a deprecated alias for the builtin `object`. To silence this warning, use `object` by itself. Doing this will not modify any behavior and is safe. \n",
      "Deprecated in NumPy 1.20; for more details and guidance: https://numpy.org/devdocs/release/1.20.0-notes.html#deprecations\n",
      "\n",
      "/Users/ejwillemse/opt/anaconda3/envs/python_RD/lib/python3.8/site-packages/tables/leaf.py:544: VisibleDeprecationWarning:\n",
      "\n",
      "Creating an ndarray from ragged nested sequences (which is a list-or-tuple of lists-or-tuples-or ndarrays with different lengths or shapes) is deprecated. If you meant to do this, you must specify 'dtype=object' when creating the ndarray.\n",
      "\n"
     ]
    },
    {
     "name": "stdout",
     "output_type": "stream",
     "text": [
      "2022-06-02 22:27:08,926 - root - INFO - Creating nearest neighbour lists\n",
      "2022-06-02 22:27:12,798 - root - INFO - Calculate offloads: 8143 x 8143 x 2\n",
      "2022-06-02 22:27:22,180 - root - INFO - Done!\n",
      "2022-06-02 22:27:22,222 - root - INFO - Uploading scenario inputs...\n",
      "2022-06-02 22:27:22,248 - root - INFO - Setting service cost for network\n",
      "2022-06-02 22:27:22,262 - root - INFO - Setting demand for network\n",
      "2022-06-02 22:27:22,276 - root - INFO - Update travel durations.\n",
      "2022-06-02 22:27:22,566 - root - INFO - Update offload durations.\n",
      "2022-06-02 22:27:22,972 - root - INFO - Done\n",
      "2022-06-02 22:27:22,973 - root - INFO - Problem info supplied. Directly proceeding to solve problem.\n",
      "2022-06-02 22:27:59,878 - root - INFO - Done generating routes\n",
      "Number of routes: 10\n",
      "2022-06-02 22:27:59,879 - root - INFO - Preparing scenario outputs...\n"
     ]
    },
    {
     "name": "stderr",
     "output_type": "stream",
     "text": [
      "/Users/ejwillemse/opt/anaconda3/envs/python_RD/lib/python3.8/site-packages/tables/array.py:241: DeprecationWarning:\n",
      "\n",
      "`np.object` is a deprecated alias for the builtin `object`. To silence this warning, use `object` by itself. Doing this will not modify any behavior and is safe. \n",
      "Deprecated in NumPy 1.20; for more details and guidance: https://numpy.org/devdocs/release/1.20.0-notes.html#deprecations\n",
      "\n"
     ]
    },
    {
     "name": "stdout",
     "output_type": "stream",
     "text": [
      "2022-06-02 22:28:09,757 - root - INFO - Done preparing output\n",
      "2022-06-02 22:28:09,758 - kedro.io.data_catalog - INFO - Saving data to `resource_summary_table_20220601` (PartitionedDataSet)...\n"
     ]
    },
    {
     "name": "stderr",
     "output_type": "stream",
     "text": [
      "/Users/ejwillemse/dev/waste_labs_dev/project_rdi_cpt/src/mcarptif/visualise/route_tables.py:146: FutureWarning:\n",
      "\n",
      "The frame.append method is deprecated and will be removed from pandas in a future version. Use pandas.concat instead.\n",
      "\n"
     ]
    },
    {
     "name": "stdout",
     "output_type": "stream",
     "text": [
      "\n",
      "\n",
      " RUNNING SCENARIO households_042\n",
      "2022-06-02 22:28:10,230 - kedro.io.data_catalog - INFO - Loading data from `waste_gen_scenarios_local_20220601` (PartitionedDataSet)...\n",
      "2022-06-02 22:28:10,252 - kedro.io.data_catalog - INFO - Loading data from `routing_parameters` (ExcelDataSet)...\n",
      "2022-06-02 22:28:10,424 - root - INFO - Preparing road network.......\n",
      "\n",
      "2022-06-02 22:28:10,488 - root - INFO - Load required arcs\n",
      "2022-06-02 22:28:10,490 - root - INFO - Merging with the network\n",
      "2022-06-02 22:28:10,515 - root - INFO - Set depot\n",
      "2022-06-02 22:28:10,519 - root - INFO - Set offload facilities\n",
      "2022-06-02 22:28:10,531 - root - INFO - Extend required arcs with inverse edge arcs\n",
      "2022-06-02 22:28:10,619 - root - INFO - Checking master list\n",
      "2022-06-02 22:28:10,626 - root - INFO - Load distance matrix: 8115 x 8115\n"
     ]
    },
    {
     "name": "stderr",
     "output_type": "stream",
     "text": [
      "/Users/ejwillemse/opt/anaconda3/envs/python_RD/lib/python3.8/site-packages/tables/array.py:241: DeprecationWarning:\n",
      "\n",
      "`np.object` is a deprecated alias for the builtin `object`. To silence this warning, use `object` by itself. Doing this will not modify any behavior and is safe. \n",
      "Deprecated in NumPy 1.20; for more details and guidance: https://numpy.org/devdocs/release/1.20.0-notes.html#deprecations\n",
      "\n",
      "/Users/ejwillemse/opt/anaconda3/envs/python_RD/lib/python3.8/site-packages/tables/array.py:241: DeprecationWarning:\n",
      "\n",
      "`np.object` is a deprecated alias for the builtin `object`. To silence this warning, use `object` by itself. Doing this will not modify any behavior and is safe. \n",
      "Deprecated in NumPy 1.20; for more details and guidance: https://numpy.org/devdocs/release/1.20.0-notes.html#deprecations\n",
      "\n",
      "/Users/ejwillemse/opt/anaconda3/envs/python_RD/lib/python3.8/site-packages/tables/leaf.py:544: VisibleDeprecationWarning:\n",
      "\n",
      "Creating an ndarray from ragged nested sequences (which is a list-or-tuple of lists-or-tuples-or ndarrays with different lengths or shapes) is deprecated. If you meant to do this, you must specify 'dtype=object' when creating the ndarray.\n",
      "\n"
     ]
    },
    {
     "name": "stdout",
     "output_type": "stream",
     "text": [
      "2022-06-02 22:28:17,053 - root - INFO - Creating nearest neighbour lists\n",
      "2022-06-02 22:28:20,849 - root - INFO - Calculate offloads: 8115 x 8115 x 2\n",
      "2022-06-02 22:28:30,419 - root - INFO - Done!\n",
      "2022-06-02 22:28:30,482 - root - INFO - Uploading scenario inputs...\n",
      "2022-06-02 22:28:30,517 - root - INFO - Setting service cost for network\n",
      "2022-06-02 22:28:30,533 - root - INFO - Setting demand for network\n",
      "2022-06-02 22:28:30,548 - root - INFO - Update travel durations.\n",
      "2022-06-02 22:28:30,858 - root - INFO - Update offload durations.\n",
      "2022-06-02 22:28:31,312 - root - INFO - Done\n",
      "2022-06-02 22:28:31,313 - root - INFO - Problem info supplied. Directly proceeding to solve problem.\n",
      "2022-06-02 22:29:06,592 - root - INFO - Done generating routes\n",
      "Number of routes: 10\n",
      "2022-06-02 22:29:06,594 - root - INFO - Preparing scenario outputs...\n"
     ]
    },
    {
     "name": "stderr",
     "output_type": "stream",
     "text": [
      "/Users/ejwillemse/opt/anaconda3/envs/python_RD/lib/python3.8/site-packages/tables/array.py:241: DeprecationWarning:\n",
      "\n",
      "`np.object` is a deprecated alias for the builtin `object`. To silence this warning, use `object` by itself. Doing this will not modify any behavior and is safe. \n",
      "Deprecated in NumPy 1.20; for more details and guidance: https://numpy.org/devdocs/release/1.20.0-notes.html#deprecations\n",
      "\n"
     ]
    },
    {
     "name": "stdout",
     "output_type": "stream",
     "text": [
      "2022-06-02 22:29:16,044 - root - INFO - Done preparing output\n",
      "2022-06-02 22:29:16,045 - kedro.io.data_catalog - INFO - Saving data to `resource_summary_table_20220601` (PartitionedDataSet)...\n"
     ]
    },
    {
     "name": "stderr",
     "output_type": "stream",
     "text": [
      "/Users/ejwillemse/dev/waste_labs_dev/project_rdi_cpt/src/mcarptif/visualise/route_tables.py:146: FutureWarning:\n",
      "\n",
      "The frame.append method is deprecated and will be removed from pandas in a future version. Use pandas.concat instead.\n",
      "\n"
     ]
    },
    {
     "name": "stdout",
     "output_type": "stream",
     "text": [
      "\n",
      "\n",
      " RUNNING SCENARIO households_043\n",
      "2022-06-02 22:29:16,565 - kedro.io.data_catalog - INFO - Loading data from `waste_gen_scenarios_local_20220601` (PartitionedDataSet)...\n",
      "2022-06-02 22:29:16,583 - kedro.io.data_catalog - INFO - Loading data from `routing_parameters` (ExcelDataSet)...\n",
      "2022-06-02 22:29:16,763 - root - INFO - Preparing road network.......\n",
      "\n",
      "2022-06-02 22:29:16,826 - root - INFO - Load required arcs\n",
      "2022-06-02 22:29:16,828 - root - INFO - Merging with the network\n",
      "2022-06-02 22:29:16,853 - root - INFO - Set depot\n",
      "2022-06-02 22:29:16,856 - root - INFO - Set offload facilities\n",
      "2022-06-02 22:29:16,866 - root - INFO - Extend required arcs with inverse edge arcs\n",
      "2022-06-02 22:29:16,955 - root - INFO - Checking master list\n",
      "2022-06-02 22:29:16,961 - root - INFO - Load distance matrix: 8109 x 8109\n"
     ]
    },
    {
     "name": "stderr",
     "output_type": "stream",
     "text": [
      "/Users/ejwillemse/opt/anaconda3/envs/python_RD/lib/python3.8/site-packages/tables/array.py:241: DeprecationWarning:\n",
      "\n",
      "`np.object` is a deprecated alias for the builtin `object`. To silence this warning, use `object` by itself. Doing this will not modify any behavior and is safe. \n",
      "Deprecated in NumPy 1.20; for more details and guidance: https://numpy.org/devdocs/release/1.20.0-notes.html#deprecations\n",
      "\n",
      "/Users/ejwillemse/opt/anaconda3/envs/python_RD/lib/python3.8/site-packages/tables/array.py:241: DeprecationWarning:\n",
      "\n",
      "`np.object` is a deprecated alias for the builtin `object`. To silence this warning, use `object` by itself. Doing this will not modify any behavior and is safe. \n",
      "Deprecated in NumPy 1.20; for more details and guidance: https://numpy.org/devdocs/release/1.20.0-notes.html#deprecations\n",
      "\n",
      "/Users/ejwillemse/opt/anaconda3/envs/python_RD/lib/python3.8/site-packages/tables/leaf.py:544: VisibleDeprecationWarning:\n",
      "\n",
      "Creating an ndarray from ragged nested sequences (which is a list-or-tuple of lists-or-tuples-or ndarrays with different lengths or shapes) is deprecated. If you meant to do this, you must specify 'dtype=object' when creating the ndarray.\n",
      "\n"
     ]
    },
    {
     "name": "stdout",
     "output_type": "stream",
     "text": [
      "2022-06-02 22:29:23,407 - root - INFO - Creating nearest neighbour lists\n",
      "2022-06-02 22:29:26,783 - root - INFO - Calculate offloads: 8109 x 8109 x 2\n",
      "2022-06-02 22:29:35,126 - root - INFO - Done!\n",
      "2022-06-02 22:29:35,166 - root - INFO - Uploading scenario inputs...\n",
      "2022-06-02 22:29:35,195 - root - INFO - Setting service cost for network\n",
      "2022-06-02 22:29:35,205 - root - INFO - Setting demand for network\n",
      "2022-06-02 22:29:35,214 - root - INFO - Update travel durations.\n",
      "2022-06-02 22:29:35,507 - root - INFO - Update offload durations.\n",
      "2022-06-02 22:29:35,880 - root - INFO - Done\n",
      "2022-06-02 22:29:35,881 - root - INFO - Problem info supplied. Directly proceeding to solve problem.\n",
      "2022-06-02 22:30:08,534 - root - INFO - Done generating routes\n",
      "Number of routes: 10\n",
      "2022-06-02 22:30:08,535 - root - INFO - Preparing scenario outputs...\n"
     ]
    },
    {
     "name": "stderr",
     "output_type": "stream",
     "text": [
      "/Users/ejwillemse/opt/anaconda3/envs/python_RD/lib/python3.8/site-packages/tables/array.py:241: DeprecationWarning:\n",
      "\n",
      "`np.object` is a deprecated alias for the builtin `object`. To silence this warning, use `object` by itself. Doing this will not modify any behavior and is safe. \n",
      "Deprecated in NumPy 1.20; for more details and guidance: https://numpy.org/devdocs/release/1.20.0-notes.html#deprecations\n",
      "\n"
     ]
    },
    {
     "name": "stdout",
     "output_type": "stream",
     "text": [
      "2022-06-02 22:30:17,696 - root - INFO - Done preparing output\n",
      "2022-06-02 22:30:17,697 - kedro.io.data_catalog - INFO - Saving data to `resource_summary_table_20220601` (PartitionedDataSet)...\n"
     ]
    },
    {
     "name": "stderr",
     "output_type": "stream",
     "text": [
      "/Users/ejwillemse/dev/waste_labs_dev/project_rdi_cpt/src/mcarptif/visualise/route_tables.py:146: FutureWarning:\n",
      "\n",
      "The frame.append method is deprecated and will be removed from pandas in a future version. Use pandas.concat instead.\n",
      "\n"
     ]
    },
    {
     "name": "stdout",
     "output_type": "stream",
     "text": [
      "\n",
      "\n",
      " RUNNING SCENARIO households_044\n",
      "2022-06-02 22:30:18,219 - kedro.io.data_catalog - INFO - Loading data from `waste_gen_scenarios_local_20220601` (PartitionedDataSet)...\n",
      "2022-06-02 22:30:18,237 - kedro.io.data_catalog - INFO - Loading data from `routing_parameters` (ExcelDataSet)...\n",
      "2022-06-02 22:30:18,405 - root - INFO - Preparing road network.......\n",
      "\n",
      "2022-06-02 22:30:18,471 - root - INFO - Load required arcs\n",
      "2022-06-02 22:30:18,473 - root - INFO - Merging with the network\n",
      "2022-06-02 22:30:18,499 - root - INFO - Set depot\n",
      "2022-06-02 22:30:18,502 - root - INFO - Set offload facilities\n",
      "2022-06-02 22:30:18,514 - root - INFO - Extend required arcs with inverse edge arcs\n",
      "2022-06-02 22:30:18,610 - root - INFO - Checking master list\n"
     ]
    },
    {
     "name": "stderr",
     "output_type": "stream",
     "text": [
      "/Users/ejwillemse/opt/anaconda3/envs/python_RD/lib/python3.8/site-packages/tables/array.py:241: DeprecationWarning:\n",
      "\n",
      "`np.object` is a deprecated alias for the builtin `object`. To silence this warning, use `object` by itself. Doing this will not modify any behavior and is safe. \n",
      "Deprecated in NumPy 1.20; for more details and guidance: https://numpy.org/devdocs/release/1.20.0-notes.html#deprecations\n",
      "\n"
     ]
    },
    {
     "name": "stdout",
     "output_type": "stream",
     "text": [
      "2022-06-02 22:30:18,617 - root - INFO - Load distance matrix: 8146 x 8146\n"
     ]
    },
    {
     "name": "stderr",
     "output_type": "stream",
     "text": [
      "/Users/ejwillemse/opt/anaconda3/envs/python_RD/lib/python3.8/site-packages/tables/array.py:241: DeprecationWarning:\n",
      "\n",
      "`np.object` is a deprecated alias for the builtin `object`. To silence this warning, use `object` by itself. Doing this will not modify any behavior and is safe. \n",
      "Deprecated in NumPy 1.20; for more details and guidance: https://numpy.org/devdocs/release/1.20.0-notes.html#deprecations\n",
      "\n",
      "/Users/ejwillemse/opt/anaconda3/envs/python_RD/lib/python3.8/site-packages/tables/leaf.py:544: VisibleDeprecationWarning:\n",
      "\n",
      "Creating an ndarray from ragged nested sequences (which is a list-or-tuple of lists-or-tuples-or ndarrays with different lengths or shapes) is deprecated. If you meant to do this, you must specify 'dtype=object' when creating the ndarray.\n",
      "\n"
     ]
    },
    {
     "name": "stdout",
     "output_type": "stream",
     "text": [
      "2022-06-02 22:30:25,532 - root - INFO - Creating nearest neighbour lists\n",
      "2022-06-02 22:30:29,204 - root - INFO - Calculate offloads: 8146 x 8146 x 2\n",
      "2022-06-02 22:30:39,469 - root - INFO - Done!\n",
      "2022-06-02 22:30:39,555 - root - INFO - Uploading scenario inputs...\n",
      "2022-06-02 22:30:39,604 - root - INFO - Setting service cost for network\n",
      "2022-06-02 22:30:39,615 - root - INFO - Setting demand for network\n",
      "2022-06-02 22:30:39,627 - root - INFO - Update travel durations.\n",
      "2022-06-02 22:30:39,945 - root - INFO - Update offload durations.\n",
      "2022-06-02 22:30:40,355 - root - INFO - Done\n",
      "2022-06-02 22:30:40,356 - root - INFO - Problem info supplied. Directly proceeding to solve problem.\n",
      "2022-06-02 22:31:13,962 - root - INFO - Done generating routes\n",
      "Number of routes: 10\n",
      "2022-06-02 22:31:13,963 - root - INFO - Preparing scenario outputs...\n"
     ]
    },
    {
     "name": "stderr",
     "output_type": "stream",
     "text": [
      "/Users/ejwillemse/opt/anaconda3/envs/python_RD/lib/python3.8/site-packages/tables/array.py:241: DeprecationWarning:\n",
      "\n",
      "`np.object` is a deprecated alias for the builtin `object`. To silence this warning, use `object` by itself. Doing this will not modify any behavior and is safe. \n",
      "Deprecated in NumPy 1.20; for more details and guidance: https://numpy.org/devdocs/release/1.20.0-notes.html#deprecations\n",
      "\n"
     ]
    },
    {
     "name": "stdout",
     "output_type": "stream",
     "text": [
      "2022-06-02 22:31:24,304 - root - INFO - Done preparing output\n",
      "2022-06-02 22:31:24,305 - kedro.io.data_catalog - INFO - Saving data to `resource_summary_table_20220601` (PartitionedDataSet)...\n"
     ]
    },
    {
     "name": "stderr",
     "output_type": "stream",
     "text": [
      "/Users/ejwillemse/dev/waste_labs_dev/project_rdi_cpt/src/mcarptif/visualise/route_tables.py:146: FutureWarning:\n",
      "\n",
      "The frame.append method is deprecated and will be removed from pandas in a future version. Use pandas.concat instead.\n",
      "\n"
     ]
    },
    {
     "name": "stdout",
     "output_type": "stream",
     "text": [
      "\n",
      "\n",
      " RUNNING SCENARIO households_045\n",
      "2022-06-02 22:31:24,781 - kedro.io.data_catalog - INFO - Loading data from `waste_gen_scenarios_local_20220601` (PartitionedDataSet)...\n",
      "2022-06-02 22:31:24,799 - kedro.io.data_catalog - INFO - Loading data from `routing_parameters` (ExcelDataSet)...\n",
      "2022-06-02 22:31:25,005 - root - INFO - Preparing road network.......\n",
      "\n",
      "2022-06-02 22:31:25,070 - root - INFO - Load required arcs\n",
      "2022-06-02 22:31:25,072 - root - INFO - Merging with the network\n",
      "2022-06-02 22:31:25,099 - root - INFO - Set depot\n",
      "2022-06-02 22:31:25,102 - root - INFO - Set offload facilities\n",
      "2022-06-02 22:31:25,113 - root - INFO - Extend required arcs with inverse edge arcs\n",
      "2022-06-02 22:31:25,208 - root - INFO - Checking master list\n",
      "2022-06-02 22:31:25,214 - root - INFO - Load distance matrix: 8140 x 8140\n"
     ]
    },
    {
     "name": "stderr",
     "output_type": "stream",
     "text": [
      "/Users/ejwillemse/opt/anaconda3/envs/python_RD/lib/python3.8/site-packages/tables/array.py:241: DeprecationWarning:\n",
      "\n",
      "`np.object` is a deprecated alias for the builtin `object`. To silence this warning, use `object` by itself. Doing this will not modify any behavior and is safe. \n",
      "Deprecated in NumPy 1.20; for more details and guidance: https://numpy.org/devdocs/release/1.20.0-notes.html#deprecations\n",
      "\n",
      "/Users/ejwillemse/opt/anaconda3/envs/python_RD/lib/python3.8/site-packages/tables/array.py:241: DeprecationWarning:\n",
      "\n",
      "`np.object` is a deprecated alias for the builtin `object`. To silence this warning, use `object` by itself. Doing this will not modify any behavior and is safe. \n",
      "Deprecated in NumPy 1.20; for more details and guidance: https://numpy.org/devdocs/release/1.20.0-notes.html#deprecations\n",
      "\n",
      "/Users/ejwillemse/opt/anaconda3/envs/python_RD/lib/python3.8/site-packages/tables/leaf.py:544: VisibleDeprecationWarning:\n",
      "\n",
      "Creating an ndarray from ragged nested sequences (which is a list-or-tuple of lists-or-tuples-or ndarrays with different lengths or shapes) is deprecated. If you meant to do this, you must specify 'dtype=object' when creating the ndarray.\n",
      "\n"
     ]
    },
    {
     "name": "stdout",
     "output_type": "stream",
     "text": [
      "2022-06-02 22:31:31,988 - root - INFO - Creating nearest neighbour lists\n",
      "2022-06-02 22:31:35,482 - root - INFO - Calculate offloads: 8140 x 8140 x 2\n",
      "2022-06-02 22:31:44,562 - root - INFO - Done!\n",
      "2022-06-02 22:31:44,611 - root - INFO - Uploading scenario inputs...\n",
      "2022-06-02 22:31:44,636 - root - INFO - Setting service cost for network\n",
      "2022-06-02 22:31:44,647 - root - INFO - Setting demand for network\n",
      "2022-06-02 22:31:44,660 - root - INFO - Update travel durations.\n",
      "2022-06-02 22:31:45,007 - root - INFO - Update offload durations.\n",
      "2022-06-02 22:31:45,397 - root - INFO - Done\n",
      "2022-06-02 22:31:45,399 - root - INFO - Problem info supplied. Directly proceeding to solve problem.\n",
      "2022-06-02 22:32:21,496 - root - INFO - Done generating routes\n",
      "Number of routes: 10\n",
      "2022-06-02 22:32:21,497 - root - INFO - Preparing scenario outputs...\n"
     ]
    },
    {
     "name": "stderr",
     "output_type": "stream",
     "text": [
      "/Users/ejwillemse/opt/anaconda3/envs/python_RD/lib/python3.8/site-packages/tables/array.py:241: DeprecationWarning:\n",
      "\n",
      "`np.object` is a deprecated alias for the builtin `object`. To silence this warning, use `object` by itself. Doing this will not modify any behavior and is safe. \n",
      "Deprecated in NumPy 1.20; for more details and guidance: https://numpy.org/devdocs/release/1.20.0-notes.html#deprecations\n",
      "\n"
     ]
    },
    {
     "name": "stdout",
     "output_type": "stream",
     "text": [
      "2022-06-02 22:32:30,895 - root - INFO - Done preparing output\n",
      "2022-06-02 22:32:30,896 - kedro.io.data_catalog - INFO - Saving data to `resource_summary_table_20220601` (PartitionedDataSet)...\n"
     ]
    },
    {
     "name": "stderr",
     "output_type": "stream",
     "text": [
      "/Users/ejwillemse/dev/waste_labs_dev/project_rdi_cpt/src/mcarptif/visualise/route_tables.py:146: FutureWarning:\n",
      "\n",
      "The frame.append method is deprecated and will be removed from pandas in a future version. Use pandas.concat instead.\n",
      "\n"
     ]
    },
    {
     "name": "stdout",
     "output_type": "stream",
     "text": [
      "\n",
      "\n",
      " RUNNING SCENARIO households_046\n",
      "2022-06-02 22:32:31,373 - kedro.io.data_catalog - INFO - Loading data from `waste_gen_scenarios_local_20220601` (PartitionedDataSet)...\n",
      "2022-06-02 22:32:31,391 - kedro.io.data_catalog - INFO - Loading data from `routing_parameters` (ExcelDataSet)...\n",
      "2022-06-02 22:32:31,550 - root - INFO - Preparing road network.......\n",
      "\n",
      "2022-06-02 22:32:31,608 - root - INFO - Load required arcs\n",
      "2022-06-02 22:32:31,610 - root - INFO - Merging with the network\n",
      "2022-06-02 22:32:31,636 - root - INFO - Set depot\n",
      "2022-06-02 22:32:31,640 - root - INFO - Set offload facilities\n",
      "2022-06-02 22:32:31,650 - root - INFO - Extend required arcs with inverse edge arcs\n",
      "2022-06-02 22:32:31,734 - root - INFO - Checking master list\n",
      "2022-06-02 22:32:31,741 - root - INFO - Load distance matrix: 8147 x 8147\n"
     ]
    },
    {
     "name": "stderr",
     "output_type": "stream",
     "text": [
      "/Users/ejwillemse/opt/anaconda3/envs/python_RD/lib/python3.8/site-packages/tables/array.py:241: DeprecationWarning:\n",
      "\n",
      "`np.object` is a deprecated alias for the builtin `object`. To silence this warning, use `object` by itself. Doing this will not modify any behavior and is safe. \n",
      "Deprecated in NumPy 1.20; for more details and guidance: https://numpy.org/devdocs/release/1.20.0-notes.html#deprecations\n",
      "\n",
      "/Users/ejwillemse/opt/anaconda3/envs/python_RD/lib/python3.8/site-packages/tables/array.py:241: DeprecationWarning:\n",
      "\n",
      "`np.object` is a deprecated alias for the builtin `object`. To silence this warning, use `object` by itself. Doing this will not modify any behavior and is safe. \n",
      "Deprecated in NumPy 1.20; for more details and guidance: https://numpy.org/devdocs/release/1.20.0-notes.html#deprecations\n",
      "\n",
      "/Users/ejwillemse/opt/anaconda3/envs/python_RD/lib/python3.8/site-packages/tables/leaf.py:544: VisibleDeprecationWarning:\n",
      "\n",
      "Creating an ndarray from ragged nested sequences (which is a list-or-tuple of lists-or-tuples-or ndarrays with different lengths or shapes) is deprecated. If you meant to do this, you must specify 'dtype=object' when creating the ndarray.\n",
      "\n"
     ]
    },
    {
     "name": "stdout",
     "output_type": "stream",
     "text": [
      "2022-06-02 22:32:38,949 - root - INFO - Creating nearest neighbour lists\n",
      "2022-06-02 22:32:42,730 - root - INFO - Calculate offloads: 8147 x 8147 x 2\n",
      "2022-06-02 22:32:54,421 - root - INFO - Done!\n",
      "2022-06-02 22:32:55,037 - root - INFO - Uploading scenario inputs...\n",
      "2022-06-02 22:32:55,070 - root - INFO - Setting service cost for network\n",
      "2022-06-02 22:32:55,083 - root - INFO - Setting demand for network\n",
      "2022-06-02 22:32:55,096 - root - INFO - Update travel durations.\n",
      "2022-06-02 22:32:55,559 - root - INFO - Update offload durations.\n",
      "2022-06-02 22:32:55,941 - root - INFO - Done\n",
      "2022-06-02 22:32:55,942 - root - INFO - Problem info supplied. Directly proceeding to solve problem.\n",
      "2022-06-02 22:33:30,641 - root - INFO - Done generating routes\n",
      "Number of routes: 10\n",
      "2022-06-02 22:33:30,642 - root - INFO - Preparing scenario outputs...\n"
     ]
    },
    {
     "name": "stderr",
     "output_type": "stream",
     "text": [
      "/Users/ejwillemse/opt/anaconda3/envs/python_RD/lib/python3.8/site-packages/tables/array.py:241: DeprecationWarning:\n",
      "\n",
      "`np.object` is a deprecated alias for the builtin `object`. To silence this warning, use `object` by itself. Doing this will not modify any behavior and is safe. \n",
      "Deprecated in NumPy 1.20; for more details and guidance: https://numpy.org/devdocs/release/1.20.0-notes.html#deprecations\n",
      "\n"
     ]
    },
    {
     "name": "stdout",
     "output_type": "stream",
     "text": [
      "2022-06-02 22:33:39,646 - root - INFO - Done preparing output\n",
      "2022-06-02 22:33:39,647 - kedro.io.data_catalog - INFO - Saving data to `resource_summary_table_20220601` (PartitionedDataSet)...\n"
     ]
    },
    {
     "name": "stderr",
     "output_type": "stream",
     "text": [
      "/Users/ejwillemse/dev/waste_labs_dev/project_rdi_cpt/src/mcarptif/visualise/route_tables.py:146: FutureWarning:\n",
      "\n",
      "The frame.append method is deprecated and will be removed from pandas in a future version. Use pandas.concat instead.\n",
      "\n"
     ]
    },
    {
     "name": "stdout",
     "output_type": "stream",
     "text": [
      "\n",
      "\n",
      " RUNNING SCENARIO households_047\n",
      "2022-06-02 22:33:40,170 - kedro.io.data_catalog - INFO - Loading data from `waste_gen_scenarios_local_20220601` (PartitionedDataSet)...\n",
      "2022-06-02 22:33:40,191 - kedro.io.data_catalog - INFO - Loading data from `routing_parameters` (ExcelDataSet)...\n",
      "2022-06-02 22:33:40,389 - root - INFO - Preparing road network.......\n",
      "\n",
      "2022-06-02 22:33:40,446 - root - INFO - Load required arcs\n",
      "2022-06-02 22:33:40,448 - root - INFO - Merging with the network\n",
      "2022-06-02 22:33:40,474 - root - INFO - Set depot\n",
      "2022-06-02 22:33:40,477 - root - INFO - Set offload facilities\n",
      "2022-06-02 22:33:40,489 - root - INFO - Extend required arcs with inverse edge arcs\n",
      "2022-06-02 22:33:40,592 - root - INFO - Checking master list\n",
      "2022-06-02 22:33:40,599 - root - INFO - Load distance matrix: 8144 x 8144\n"
     ]
    },
    {
     "name": "stderr",
     "output_type": "stream",
     "text": [
      "/Users/ejwillemse/opt/anaconda3/envs/python_RD/lib/python3.8/site-packages/tables/array.py:241: DeprecationWarning:\n",
      "\n",
      "`np.object` is a deprecated alias for the builtin `object`. To silence this warning, use `object` by itself. Doing this will not modify any behavior and is safe. \n",
      "Deprecated in NumPy 1.20; for more details and guidance: https://numpy.org/devdocs/release/1.20.0-notes.html#deprecations\n",
      "\n",
      "/Users/ejwillemse/opt/anaconda3/envs/python_RD/lib/python3.8/site-packages/tables/array.py:241: DeprecationWarning:\n",
      "\n",
      "`np.object` is a deprecated alias for the builtin `object`. To silence this warning, use `object` by itself. Doing this will not modify any behavior and is safe. \n",
      "Deprecated in NumPy 1.20; for more details and guidance: https://numpy.org/devdocs/release/1.20.0-notes.html#deprecations\n",
      "\n",
      "/Users/ejwillemse/opt/anaconda3/envs/python_RD/lib/python3.8/site-packages/tables/leaf.py:544: VisibleDeprecationWarning:\n",
      "\n",
      "Creating an ndarray from ragged nested sequences (which is a list-or-tuple of lists-or-tuples-or ndarrays with different lengths or shapes) is deprecated. If you meant to do this, you must specify 'dtype=object' when creating the ndarray.\n",
      "\n"
     ]
    },
    {
     "name": "stdout",
     "output_type": "stream",
     "text": [
      "2022-06-02 22:33:49,935 - root - INFO - Creating nearest neighbour lists\n",
      "2022-06-02 22:33:54,918 - root - INFO - Calculate offloads: 8144 x 8144 x 2\n",
      "2022-06-02 22:34:06,998 - root - INFO - Done!\n",
      "2022-06-02 22:34:07,547 - root - INFO - Uploading scenario inputs...\n",
      "2022-06-02 22:34:07,594 - root - INFO - Setting service cost for network\n",
      "2022-06-02 22:34:07,614 - root - INFO - Setting demand for network\n",
      "2022-06-02 22:34:07,627 - root - INFO - Update travel durations.\n",
      "2022-06-02 22:34:07,996 - root - INFO - Update offload durations.\n",
      "2022-06-02 22:34:08,419 - root - INFO - Done\n",
      "2022-06-02 22:34:08,420 - root - INFO - Problem info supplied. Directly proceeding to solve problem.\n",
      "2022-06-02 22:34:44,017 - root - INFO - Done generating routes\n",
      "Number of routes: 10\n",
      "2022-06-02 22:34:44,018 - root - INFO - Preparing scenario outputs...\n"
     ]
    },
    {
     "name": "stderr",
     "output_type": "stream",
     "text": [
      "/Users/ejwillemse/opt/anaconda3/envs/python_RD/lib/python3.8/site-packages/tables/array.py:241: DeprecationWarning:\n",
      "\n",
      "`np.object` is a deprecated alias for the builtin `object`. To silence this warning, use `object` by itself. Doing this will not modify any behavior and is safe. \n",
      "Deprecated in NumPy 1.20; for more details and guidance: https://numpy.org/devdocs/release/1.20.0-notes.html#deprecations\n",
      "\n"
     ]
    },
    {
     "name": "stdout",
     "output_type": "stream",
     "text": [
      "2022-06-02 22:34:53,872 - root - INFO - Done preparing output\n",
      "2022-06-02 22:34:53,874 - kedro.io.data_catalog - INFO - Saving data to `resource_summary_table_20220601` (PartitionedDataSet)...\n"
     ]
    },
    {
     "name": "stderr",
     "output_type": "stream",
     "text": [
      "/Users/ejwillemse/dev/waste_labs_dev/project_rdi_cpt/src/mcarptif/visualise/route_tables.py:146: FutureWarning:\n",
      "\n",
      "The frame.append method is deprecated and will be removed from pandas in a future version. Use pandas.concat instead.\n",
      "\n"
     ]
    },
    {
     "name": "stdout",
     "output_type": "stream",
     "text": [
      "\n",
      "\n",
      " RUNNING SCENARIO households_048\n",
      "2022-06-02 22:34:54,365 - kedro.io.data_catalog - INFO - Loading data from `waste_gen_scenarios_local_20220601` (PartitionedDataSet)...\n",
      "2022-06-02 22:34:54,388 - kedro.io.data_catalog - INFO - Loading data from `routing_parameters` (ExcelDataSet)...\n",
      "2022-06-02 22:34:54,583 - root - INFO - Preparing road network.......\n",
      "\n",
      "2022-06-02 22:34:54,648 - root - INFO - Load required arcs\n",
      "2022-06-02 22:34:54,649 - root - INFO - Merging with the network\n",
      "2022-06-02 22:34:54,681 - root - INFO - Set depot\n",
      "2022-06-02 22:34:54,684 - root - INFO - Set offload facilities\n",
      "2022-06-02 22:34:54,697 - root - INFO - Extend required arcs with inverse edge arcs\n"
     ]
    },
    {
     "name": "stderr",
     "output_type": "stream",
     "text": [
      "/Users/ejwillemse/opt/anaconda3/envs/python_RD/lib/python3.8/site-packages/tables/array.py:241: DeprecationWarning:\n",
      "\n",
      "`np.object` is a deprecated alias for the builtin `object`. To silence this warning, use `object` by itself. Doing this will not modify any behavior and is safe. \n",
      "Deprecated in NumPy 1.20; for more details and guidance: https://numpy.org/devdocs/release/1.20.0-notes.html#deprecations\n",
      "\n"
     ]
    },
    {
     "name": "stdout",
     "output_type": "stream",
     "text": [
      "2022-06-02 22:34:54,799 - root - INFO - Checking master list\n",
      "2022-06-02 22:34:54,808 - root - INFO - Load distance matrix: 8141 x 8141\n"
     ]
    },
    {
     "name": "stderr",
     "output_type": "stream",
     "text": [
      "/Users/ejwillemse/opt/anaconda3/envs/python_RD/lib/python3.8/site-packages/tables/array.py:241: DeprecationWarning:\n",
      "\n",
      "`np.object` is a deprecated alias for the builtin `object`. To silence this warning, use `object` by itself. Doing this will not modify any behavior and is safe. \n",
      "Deprecated in NumPy 1.20; for more details and guidance: https://numpy.org/devdocs/release/1.20.0-notes.html#deprecations\n",
      "\n",
      "/Users/ejwillemse/opt/anaconda3/envs/python_RD/lib/python3.8/site-packages/tables/leaf.py:544: VisibleDeprecationWarning:\n",
      "\n",
      "Creating an ndarray from ragged nested sequences (which is a list-or-tuple of lists-or-tuples-or ndarrays with different lengths or shapes) is deprecated. If you meant to do this, you must specify 'dtype=object' when creating the ndarray.\n",
      "\n"
     ]
    },
    {
     "name": "stdout",
     "output_type": "stream",
     "text": [
      "2022-06-02 22:35:02,458 - root - INFO - Creating nearest neighbour lists\n",
      "2022-06-02 22:35:06,037 - root - INFO - Calculate offloads: 8141 x 8141 x 2\n",
      "2022-06-02 22:35:16,499 - root - INFO - Done!\n",
      "2022-06-02 22:35:17,095 - root - INFO - Uploading scenario inputs...\n",
      "2022-06-02 22:35:17,139 - root - INFO - Setting service cost for network\n",
      "2022-06-02 22:35:17,151 - root - INFO - Setting demand for network\n",
      "2022-06-02 22:35:17,161 - root - INFO - Update travel durations.\n",
      "2022-06-02 22:35:17,711 - root - INFO - Update offload durations.\n",
      "2022-06-02 22:35:18,091 - root - INFO - Done\n",
      "2022-06-02 22:35:18,092 - root - INFO - Problem info supplied. Directly proceeding to solve problem.\n",
      "2022-06-02 22:35:51,372 - root - INFO - Done generating routes\n",
      "Number of routes: 10\n",
      "2022-06-02 22:35:51,374 - root - INFO - Preparing scenario outputs...\n"
     ]
    },
    {
     "name": "stderr",
     "output_type": "stream",
     "text": [
      "/Users/ejwillemse/opt/anaconda3/envs/python_RD/lib/python3.8/site-packages/tables/array.py:241: DeprecationWarning:\n",
      "\n",
      "`np.object` is a deprecated alias for the builtin `object`. To silence this warning, use `object` by itself. Doing this will not modify any behavior and is safe. \n",
      "Deprecated in NumPy 1.20; for more details and guidance: https://numpy.org/devdocs/release/1.20.0-notes.html#deprecations\n",
      "\n"
     ]
    },
    {
     "name": "stdout",
     "output_type": "stream",
     "text": [
      "2022-06-02 22:36:00,205 - root - INFO - Done preparing output\n",
      "2022-06-02 22:36:00,206 - kedro.io.data_catalog - INFO - Saving data to `resource_summary_table_20220601` (PartitionedDataSet)...\n"
     ]
    },
    {
     "name": "stderr",
     "output_type": "stream",
     "text": [
      "/Users/ejwillemse/dev/waste_labs_dev/project_rdi_cpt/src/mcarptif/visualise/route_tables.py:146: FutureWarning:\n",
      "\n",
      "The frame.append method is deprecated and will be removed from pandas in a future version. Use pandas.concat instead.\n",
      "\n"
     ]
    },
    {
     "name": "stdout",
     "output_type": "stream",
     "text": [
      "\n",
      "\n",
      " RUNNING SCENARIO households_049\n",
      "2022-06-02 22:36:00,661 - kedro.io.data_catalog - INFO - Loading data from `waste_gen_scenarios_local_20220601` (PartitionedDataSet)...\n",
      "2022-06-02 22:36:00,678 - kedro.io.data_catalog - INFO - Loading data from `routing_parameters` (ExcelDataSet)...\n",
      "2022-06-02 22:36:00,845 - root - INFO - Preparing road network.......\n",
      "\n",
      "2022-06-02 22:36:00,905 - root - INFO - Load required arcs\n",
      "2022-06-02 22:36:00,907 - root - INFO - Merging with the network\n",
      "2022-06-02 22:36:00,930 - root - INFO - Set depot\n",
      "2022-06-02 22:36:00,933 - root - INFO - Set offload facilities\n",
      "2022-06-02 22:36:00,944 - root - INFO - Extend required arcs with inverse edge arcs\n",
      "2022-06-02 22:36:01,025 - root - INFO - Checking master list\n",
      "2022-06-02 22:36:01,030 - root - INFO - Load distance matrix: 8161 x 8161\n"
     ]
    },
    {
     "name": "stderr",
     "output_type": "stream",
     "text": [
      "/Users/ejwillemse/opt/anaconda3/envs/python_RD/lib/python3.8/site-packages/tables/array.py:241: DeprecationWarning:\n",
      "\n",
      "`np.object` is a deprecated alias for the builtin `object`. To silence this warning, use `object` by itself. Doing this will not modify any behavior and is safe. \n",
      "Deprecated in NumPy 1.20; for more details and guidance: https://numpy.org/devdocs/release/1.20.0-notes.html#deprecations\n",
      "\n",
      "/Users/ejwillemse/opt/anaconda3/envs/python_RD/lib/python3.8/site-packages/tables/array.py:241: DeprecationWarning:\n",
      "\n",
      "`np.object` is a deprecated alias for the builtin `object`. To silence this warning, use `object` by itself. Doing this will not modify any behavior and is safe. \n",
      "Deprecated in NumPy 1.20; for more details and guidance: https://numpy.org/devdocs/release/1.20.0-notes.html#deprecations\n",
      "\n",
      "/Users/ejwillemse/opt/anaconda3/envs/python_RD/lib/python3.8/site-packages/tables/leaf.py:544: VisibleDeprecationWarning:\n",
      "\n",
      "Creating an ndarray from ragged nested sequences (which is a list-or-tuple of lists-or-tuples-or ndarrays with different lengths or shapes) is deprecated. If you meant to do this, you must specify 'dtype=object' when creating the ndarray.\n",
      "\n"
     ]
    },
    {
     "name": "stdout",
     "output_type": "stream",
     "text": [
      "2022-06-02 22:36:09,197 - root - INFO - Creating nearest neighbour lists\n",
      "2022-06-02 22:36:12,941 - root - INFO - Calculate offloads: 8161 x 8161 x 2\n",
      "2022-06-02 22:36:24,183 - root - INFO - Done!\n",
      "2022-06-02 22:36:24,929 - root - INFO - Uploading scenario inputs...\n",
      "2022-06-02 22:36:24,973 - root - INFO - Setting service cost for network\n",
      "2022-06-02 22:36:24,986 - root - INFO - Setting demand for network\n",
      "2022-06-02 22:36:24,998 - root - INFO - Update travel durations.\n",
      "2022-06-02 22:36:25,391 - root - INFO - Update offload durations.\n",
      "2022-06-02 22:36:25,784 - root - INFO - Done\n",
      "2022-06-02 22:36:25,786 - root - INFO - Problem info supplied. Directly proceeding to solve problem.\n",
      "2022-06-02 22:37:00,034 - root - INFO - Done generating routes\n",
      "Number of routes: 10\n",
      "2022-06-02 22:37:00,036 - root - INFO - Preparing scenario outputs...\n"
     ]
    },
    {
     "name": "stderr",
     "output_type": "stream",
     "text": [
      "/Users/ejwillemse/opt/anaconda3/envs/python_RD/lib/python3.8/site-packages/tables/array.py:241: DeprecationWarning:\n",
      "\n",
      "`np.object` is a deprecated alias for the builtin `object`. To silence this warning, use `object` by itself. Doing this will not modify any behavior and is safe. \n",
      "Deprecated in NumPy 1.20; for more details and guidance: https://numpy.org/devdocs/release/1.20.0-notes.html#deprecations\n",
      "\n"
     ]
    },
    {
     "name": "stdout",
     "output_type": "stream",
     "text": [
      "2022-06-02 22:37:08,844 - root - INFO - Done preparing output\n",
      "2022-06-02 22:37:08,845 - kedro.io.data_catalog - INFO - Saving data to `resource_summary_table_20220601` (PartitionedDataSet)...\n"
     ]
    },
    {
     "name": "stderr",
     "output_type": "stream",
     "text": [
      "/Users/ejwillemse/dev/waste_labs_dev/project_rdi_cpt/src/mcarptif/visualise/route_tables.py:146: FutureWarning:\n",
      "\n",
      "The frame.append method is deprecated and will be removed from pandas in a future version. Use pandas.concat instead.\n",
      "\n"
     ]
    },
    {
     "name": "stdout",
     "output_type": "stream",
     "text": [
      "\n",
      "\n",
      " RUNNING SCENARIO households_050\n",
      "2022-06-02 22:37:09,330 - kedro.io.data_catalog - INFO - Loading data from `waste_gen_scenarios_local_20220601` (PartitionedDataSet)...\n",
      "2022-06-02 22:37:09,351 - kedro.io.data_catalog - INFO - Loading data from `routing_parameters` (ExcelDataSet)...\n",
      "2022-06-02 22:37:09,514 - root - INFO - Preparing road network.......\n",
      "\n",
      "2022-06-02 22:37:09,576 - root - INFO - Load required arcs\n",
      "2022-06-02 22:37:09,578 - root - INFO - Merging with the network\n",
      "2022-06-02 22:37:09,602 - root - INFO - Set depot\n",
      "2022-06-02 22:37:09,605 - root - INFO - Set offload facilities\n",
      "2022-06-02 22:37:09,616 - root - INFO - Extend required arcs with inverse edge arcs\n",
      "2022-06-02 22:37:09,699 - root - INFO - Checking master list\n",
      "2022-06-02 22:37:09,705 - root - INFO - Load distance matrix: 8175 x 8175\n"
     ]
    },
    {
     "name": "stderr",
     "output_type": "stream",
     "text": [
      "/Users/ejwillemse/opt/anaconda3/envs/python_RD/lib/python3.8/site-packages/tables/array.py:241: DeprecationWarning:\n",
      "\n",
      "`np.object` is a deprecated alias for the builtin `object`. To silence this warning, use `object` by itself. Doing this will not modify any behavior and is safe. \n",
      "Deprecated in NumPy 1.20; for more details and guidance: https://numpy.org/devdocs/release/1.20.0-notes.html#deprecations\n",
      "\n",
      "/Users/ejwillemse/opt/anaconda3/envs/python_RD/lib/python3.8/site-packages/tables/array.py:241: DeprecationWarning:\n",
      "\n",
      "`np.object` is a deprecated alias for the builtin `object`. To silence this warning, use `object` by itself. Doing this will not modify any behavior and is safe. \n",
      "Deprecated in NumPy 1.20; for more details and guidance: https://numpy.org/devdocs/release/1.20.0-notes.html#deprecations\n",
      "\n",
      "/Users/ejwillemse/opt/anaconda3/envs/python_RD/lib/python3.8/site-packages/tables/leaf.py:544: VisibleDeprecationWarning:\n",
      "\n",
      "Creating an ndarray from ragged nested sequences (which is a list-or-tuple of lists-or-tuples-or ndarrays with different lengths or shapes) is deprecated. If you meant to do this, you must specify 'dtype=object' when creating the ndarray.\n",
      "\n"
     ]
    },
    {
     "name": "stdout",
     "output_type": "stream",
     "text": [
      "2022-06-02 22:37:17,593 - root - INFO - Creating nearest neighbour lists\n",
      "2022-06-02 22:37:21,304 - root - INFO - Calculate offloads: 8175 x 8175 x 2\n",
      "2022-06-02 22:37:33,232 - root - INFO - Done!\n",
      "2022-06-02 22:37:33,814 - root - INFO - Uploading scenario inputs...\n",
      "2022-06-02 22:37:33,841 - root - INFO - Setting service cost for network\n",
      "2022-06-02 22:37:33,853 - root - INFO - Setting demand for network\n",
      "2022-06-02 22:37:33,864 - root - INFO - Update travel durations.\n",
      "2022-06-02 22:37:34,232 - root - INFO - Update offload durations.\n",
      "2022-06-02 22:37:34,625 - root - INFO - Done\n",
      "2022-06-02 22:37:34,626 - root - INFO - Problem info supplied. Directly proceeding to solve problem.\n",
      "2022-06-02 22:38:09,166 - root - INFO - Done generating routes\n",
      "Number of routes: 10\n",
      "2022-06-02 22:38:09,168 - root - INFO - Preparing scenario outputs...\n"
     ]
    },
    {
     "name": "stderr",
     "output_type": "stream",
     "text": [
      "/Users/ejwillemse/opt/anaconda3/envs/python_RD/lib/python3.8/site-packages/tables/array.py:241: DeprecationWarning:\n",
      "\n",
      "`np.object` is a deprecated alias for the builtin `object`. To silence this warning, use `object` by itself. Doing this will not modify any behavior and is safe. \n",
      "Deprecated in NumPy 1.20; for more details and guidance: https://numpy.org/devdocs/release/1.20.0-notes.html#deprecations\n",
      "\n"
     ]
    },
    {
     "name": "stdout",
     "output_type": "stream",
     "text": [
      "2022-06-02 22:38:18,170 - root - INFO - Done preparing output\n",
      "2022-06-02 22:38:18,171 - kedro.io.data_catalog - INFO - Saving data to `resource_summary_table_20220601` (PartitionedDataSet)...\n"
     ]
    },
    {
     "name": "stderr",
     "output_type": "stream",
     "text": [
      "/Users/ejwillemse/dev/waste_labs_dev/project_rdi_cpt/src/mcarptif/visualise/route_tables.py:146: FutureWarning:\n",
      "\n",
      "The frame.append method is deprecated and will be removed from pandas in a future version. Use pandas.concat instead.\n",
      "\n"
     ]
    },
    {
     "name": "stdout",
     "output_type": "stream",
     "text": [
      "\n",
      "\n",
      " RUNNING SCENARIO households_051\n",
      "2022-06-02 22:38:18,647 - kedro.io.data_catalog - INFO - Loading data from `waste_gen_scenarios_local_20220601` (PartitionedDataSet)...\n",
      "2022-06-02 22:38:18,667 - kedro.io.data_catalog - INFO - Loading data from `routing_parameters` (ExcelDataSet)...\n",
      "2022-06-02 22:38:18,856 - root - INFO - Preparing road network.......\n",
      "\n",
      "2022-06-02 22:38:18,921 - root - INFO - Load required arcs\n",
      "2022-06-02 22:38:18,923 - root - INFO - Merging with the network\n",
      "2022-06-02 22:38:19,013 - root - INFO - Set depot\n",
      "2022-06-02 22:38:19,025 - root - INFO - Set offload facilities\n",
      "2022-06-02 22:38:19,038 - root - INFO - Extend required arcs with inverse edge arcs\n"
     ]
    },
    {
     "name": "stderr",
     "output_type": "stream",
     "text": [
      "/Users/ejwillemse/opt/anaconda3/envs/python_RD/lib/python3.8/site-packages/tables/array.py:241: DeprecationWarning:\n",
      "\n",
      "`np.object` is a deprecated alias for the builtin `object`. To silence this warning, use `object` by itself. Doing this will not modify any behavior and is safe. \n",
      "Deprecated in NumPy 1.20; for more details and guidance: https://numpy.org/devdocs/release/1.20.0-notes.html#deprecations\n",
      "\n"
     ]
    },
    {
     "name": "stdout",
     "output_type": "stream",
     "text": [
      "2022-06-02 22:38:19,156 - root - INFO - Checking master list\n",
      "2022-06-02 22:38:19,164 - root - INFO - Load distance matrix: 8137 x 8137\n"
     ]
    },
    {
     "name": "stderr",
     "output_type": "stream",
     "text": [
      "/Users/ejwillemse/opt/anaconda3/envs/python_RD/lib/python3.8/site-packages/tables/array.py:241: DeprecationWarning:\n",
      "\n",
      "`np.object` is a deprecated alias for the builtin `object`. To silence this warning, use `object` by itself. Doing this will not modify any behavior and is safe. \n",
      "Deprecated in NumPy 1.20; for more details and guidance: https://numpy.org/devdocs/release/1.20.0-notes.html#deprecations\n",
      "\n",
      "/Users/ejwillemse/opt/anaconda3/envs/python_RD/lib/python3.8/site-packages/tables/leaf.py:544: VisibleDeprecationWarning:\n",
      "\n",
      "Creating an ndarray from ragged nested sequences (which is a list-or-tuple of lists-or-tuples-or ndarrays with different lengths or shapes) is deprecated. If you meant to do this, you must specify 'dtype=object' when creating the ndarray.\n",
      "\n"
     ]
    },
    {
     "name": "stdout",
     "output_type": "stream",
     "text": [
      "2022-06-02 22:38:26,854 - root - INFO - Creating nearest neighbour lists\n",
      "2022-06-02 22:38:30,305 - root - INFO - Calculate offloads: 8137 x 8137 x 2\n",
      "2022-06-02 22:38:41,012 - root - INFO - Done!\n",
      "2022-06-02 22:38:41,738 - root - INFO - Uploading scenario inputs...\n",
      "2022-06-02 22:38:41,761 - root - INFO - Setting service cost for network\n",
      "2022-06-02 22:38:41,772 - root - INFO - Setting demand for network\n",
      "2022-06-02 22:38:41,783 - root - INFO - Update travel durations.\n",
      "2022-06-02 22:38:42,198 - root - INFO - Update offload durations.\n",
      "2022-06-02 22:38:42,592 - root - INFO - Done\n",
      "2022-06-02 22:38:42,593 - root - INFO - Problem info supplied. Directly proceeding to solve problem.\n",
      "2022-06-02 22:39:16,492 - root - INFO - Done generating routes\n",
      "Number of routes: 10\n",
      "2022-06-02 22:39:16,493 - root - INFO - Preparing scenario outputs...\n"
     ]
    },
    {
     "name": "stderr",
     "output_type": "stream",
     "text": [
      "/Users/ejwillemse/opt/anaconda3/envs/python_RD/lib/python3.8/site-packages/tables/array.py:241: DeprecationWarning:\n",
      "\n",
      "`np.object` is a deprecated alias for the builtin `object`. To silence this warning, use `object` by itself. Doing this will not modify any behavior and is safe. \n",
      "Deprecated in NumPy 1.20; for more details and guidance: https://numpy.org/devdocs/release/1.20.0-notes.html#deprecations\n",
      "\n"
     ]
    },
    {
     "name": "stdout",
     "output_type": "stream",
     "text": [
      "2022-06-02 22:39:25,660 - root - INFO - Done preparing output\n",
      "2022-06-02 22:39:25,661 - kedro.io.data_catalog - INFO - Saving data to `resource_summary_table_20220601` (PartitionedDataSet)...\n"
     ]
    },
    {
     "name": "stderr",
     "output_type": "stream",
     "text": [
      "/Users/ejwillemse/dev/waste_labs_dev/project_rdi_cpt/src/mcarptif/visualise/route_tables.py:146: FutureWarning:\n",
      "\n",
      "The frame.append method is deprecated and will be removed from pandas in a future version. Use pandas.concat instead.\n",
      "\n"
     ]
    },
    {
     "name": "stdout",
     "output_type": "stream",
     "text": [
      "\n",
      "\n",
      " RUNNING SCENARIO households_052\n",
      "2022-06-02 22:39:26,157 - kedro.io.data_catalog - INFO - Loading data from `waste_gen_scenarios_local_20220601` (PartitionedDataSet)...\n",
      "2022-06-02 22:39:26,176 - kedro.io.data_catalog - INFO - Loading data from `routing_parameters` (ExcelDataSet)...\n",
      "2022-06-02 22:39:26,349 - root - INFO - Preparing road network.......\n",
      "\n",
      "2022-06-02 22:39:26,407 - root - INFO - Load required arcs\n",
      "2022-06-02 22:39:26,409 - root - INFO - Merging with the network\n",
      "2022-06-02 22:39:26,436 - root - INFO - Set depot\n",
      "2022-06-02 22:39:26,440 - root - INFO - Set offload facilities\n",
      "2022-06-02 22:39:26,451 - root - INFO - Extend required arcs with inverse edge arcs\n",
      "2022-06-02 22:39:26,547 - root - INFO - Checking master list\n",
      "2022-06-02 22:39:26,553 - root - INFO - Load distance matrix: 8117 x 8117\n"
     ]
    },
    {
     "name": "stderr",
     "output_type": "stream",
     "text": [
      "/Users/ejwillemse/opt/anaconda3/envs/python_RD/lib/python3.8/site-packages/tables/array.py:241: DeprecationWarning:\n",
      "\n",
      "`np.object` is a deprecated alias for the builtin `object`. To silence this warning, use `object` by itself. Doing this will not modify any behavior and is safe. \n",
      "Deprecated in NumPy 1.20; for more details and guidance: https://numpy.org/devdocs/release/1.20.0-notes.html#deprecations\n",
      "\n",
      "/Users/ejwillemse/opt/anaconda3/envs/python_RD/lib/python3.8/site-packages/tables/array.py:241: DeprecationWarning:\n",
      "\n",
      "`np.object` is a deprecated alias for the builtin `object`. To silence this warning, use `object` by itself. Doing this will not modify any behavior and is safe. \n",
      "Deprecated in NumPy 1.20; for more details and guidance: https://numpy.org/devdocs/release/1.20.0-notes.html#deprecations\n",
      "\n",
      "/Users/ejwillemse/opt/anaconda3/envs/python_RD/lib/python3.8/site-packages/tables/leaf.py:544: VisibleDeprecationWarning:\n",
      "\n",
      "Creating an ndarray from ragged nested sequences (which is a list-or-tuple of lists-or-tuples-or ndarrays with different lengths or shapes) is deprecated. If you meant to do this, you must specify 'dtype=object' when creating the ndarray.\n",
      "\n"
     ]
    },
    {
     "name": "stdout",
     "output_type": "stream",
     "text": [
      "2022-06-02 22:39:33,837 - root - INFO - Creating nearest neighbour lists\n",
      "2022-06-02 22:39:37,246 - root - INFO - Calculate offloads: 8117 x 8117 x 2\n",
      "2022-06-02 22:39:47,507 - root - INFO - Done!\n",
      "2022-06-02 22:39:47,547 - root - INFO - Uploading scenario inputs...\n",
      "2022-06-02 22:39:47,577 - root - INFO - Setting service cost for network\n",
      "2022-06-02 22:39:47,587 - root - INFO - Setting demand for network\n",
      "2022-06-02 22:39:47,598 - root - INFO - Update travel durations.\n",
      "2022-06-02 22:39:47,868 - root - INFO - Update offload durations.\n",
      "2022-06-02 22:39:48,267 - root - INFO - Done\n",
      "2022-06-02 22:39:48,268 - root - INFO - Problem info supplied. Directly proceeding to solve problem.\n",
      "2022-06-02 22:40:25,507 - root - INFO - Done generating routes\n",
      "Number of routes: 10\n",
      "2022-06-02 22:40:25,509 - root - INFO - Preparing scenario outputs...\n"
     ]
    },
    {
     "name": "stderr",
     "output_type": "stream",
     "text": [
      "/Users/ejwillemse/opt/anaconda3/envs/python_RD/lib/python3.8/site-packages/tables/array.py:241: DeprecationWarning:\n",
      "\n",
      "`np.object` is a deprecated alias for the builtin `object`. To silence this warning, use `object` by itself. Doing this will not modify any behavior and is safe. \n",
      "Deprecated in NumPy 1.20; for more details and guidance: https://numpy.org/devdocs/release/1.20.0-notes.html#deprecations\n",
      "\n"
     ]
    },
    {
     "name": "stdout",
     "output_type": "stream",
     "text": [
      "2022-06-02 22:40:34,648 - root - INFO - Done preparing output\n",
      "2022-06-02 22:40:34,650 - kedro.io.data_catalog - INFO - Saving data to `resource_summary_table_20220601` (PartitionedDataSet)...\n"
     ]
    },
    {
     "name": "stderr",
     "output_type": "stream",
     "text": [
      "/Users/ejwillemse/dev/waste_labs_dev/project_rdi_cpt/src/mcarptif/visualise/route_tables.py:146: FutureWarning:\n",
      "\n",
      "The frame.append method is deprecated and will be removed from pandas in a future version. Use pandas.concat instead.\n",
      "\n"
     ]
    },
    {
     "name": "stdout",
     "output_type": "stream",
     "text": [
      "\n",
      "\n",
      " RUNNING SCENARIO households_053\n",
      "2022-06-02 22:40:35,174 - kedro.io.data_catalog - INFO - Loading data from `waste_gen_scenarios_local_20220601` (PartitionedDataSet)...\n",
      "2022-06-02 22:40:35,193 - kedro.io.data_catalog - INFO - Loading data from `routing_parameters` (ExcelDataSet)...\n",
      "2022-06-02 22:40:35,400 - root - INFO - Preparing road network.......\n",
      "\n",
      "2022-06-02 22:40:35,464 - root - INFO - Load required arcs\n",
      "2022-06-02 22:40:35,466 - root - INFO - Merging with the network\n",
      "2022-06-02 22:40:35,492 - root - INFO - Set depot\n",
      "2022-06-02 22:40:35,496 - root - INFO - Set offload facilities\n",
      "2022-06-02 22:40:35,507 - root - INFO - Extend required arcs with inverse edge arcs\n",
      "2022-06-02 22:40:35,594 - root - INFO - Checking master list\n",
      "2022-06-02 22:40:35,601 - root - INFO - Load distance matrix: 8142 x 8142\n"
     ]
    },
    {
     "name": "stderr",
     "output_type": "stream",
     "text": [
      "/Users/ejwillemse/opt/anaconda3/envs/python_RD/lib/python3.8/site-packages/tables/array.py:241: DeprecationWarning:\n",
      "\n",
      "`np.object` is a deprecated alias for the builtin `object`. To silence this warning, use `object` by itself. Doing this will not modify any behavior and is safe. \n",
      "Deprecated in NumPy 1.20; for more details and guidance: https://numpy.org/devdocs/release/1.20.0-notes.html#deprecations\n",
      "\n",
      "/Users/ejwillemse/opt/anaconda3/envs/python_RD/lib/python3.8/site-packages/tables/array.py:241: DeprecationWarning:\n",
      "\n",
      "`np.object` is a deprecated alias for the builtin `object`. To silence this warning, use `object` by itself. Doing this will not modify any behavior and is safe. \n",
      "Deprecated in NumPy 1.20; for more details and guidance: https://numpy.org/devdocs/release/1.20.0-notes.html#deprecations\n",
      "\n",
      "/Users/ejwillemse/opt/anaconda3/envs/python_RD/lib/python3.8/site-packages/tables/leaf.py:544: VisibleDeprecationWarning:\n",
      "\n",
      "Creating an ndarray from ragged nested sequences (which is a list-or-tuple of lists-or-tuples-or ndarrays with different lengths or shapes) is deprecated. If you meant to do this, you must specify 'dtype=object' when creating the ndarray.\n",
      "\n"
     ]
    },
    {
     "name": "stdout",
     "output_type": "stream",
     "text": [
      "2022-06-02 22:40:44,248 - root - INFO - Creating nearest neighbour lists\n",
      "2022-06-02 22:40:47,638 - root - INFO - Calculate offloads: 8142 x 8142 x 2\n",
      "2022-06-02 22:40:57,581 - root - INFO - Done!\n",
      "2022-06-02 22:40:57,629 - root - INFO - Uploading scenario inputs...\n",
      "2022-06-02 22:40:57,708 - root - INFO - Setting service cost for network\n",
      "2022-06-02 22:40:57,718 - root - INFO - Setting demand for network\n",
      "2022-06-02 22:40:57,730 - root - INFO - Update travel durations.\n",
      "2022-06-02 22:40:58,018 - root - INFO - Update offload durations.\n",
      "2022-06-02 22:40:58,425 - root - INFO - Done\n",
      "2022-06-02 22:40:58,426 - root - INFO - Problem info supplied. Directly proceeding to solve problem.\n",
      "2022-06-02 22:41:31,516 - root - INFO - Done generating routes\n",
      "Number of routes: 10\n",
      "2022-06-02 22:41:31,518 - root - INFO - Preparing scenario outputs...\n"
     ]
    },
    {
     "name": "stderr",
     "output_type": "stream",
     "text": [
      "/Users/ejwillemse/opt/anaconda3/envs/python_RD/lib/python3.8/site-packages/tables/array.py:241: DeprecationWarning:\n",
      "\n",
      "`np.object` is a deprecated alias for the builtin `object`. To silence this warning, use `object` by itself. Doing this will not modify any behavior and is safe. \n",
      "Deprecated in NumPy 1.20; for more details and guidance: https://numpy.org/devdocs/release/1.20.0-notes.html#deprecations\n",
      "\n"
     ]
    },
    {
     "name": "stdout",
     "output_type": "stream",
     "text": [
      "2022-06-02 22:41:40,026 - root - INFO - Done preparing output\n",
      "2022-06-02 22:41:40,027 - kedro.io.data_catalog - INFO - Saving data to `resource_summary_table_20220601` (PartitionedDataSet)...\n"
     ]
    },
    {
     "name": "stderr",
     "output_type": "stream",
     "text": [
      "/Users/ejwillemse/dev/waste_labs_dev/project_rdi_cpt/src/mcarptif/visualise/route_tables.py:146: FutureWarning:\n",
      "\n",
      "The frame.append method is deprecated and will be removed from pandas in a future version. Use pandas.concat instead.\n",
      "\n"
     ]
    },
    {
     "name": "stdout",
     "output_type": "stream",
     "text": [
      "\n",
      "\n",
      " RUNNING SCENARIO households_054\n",
      "2022-06-02 22:41:40,479 - kedro.io.data_catalog - INFO - Loading data from `waste_gen_scenarios_local_20220601` (PartitionedDataSet)...\n",
      "2022-06-02 22:41:40,495 - kedro.io.data_catalog - INFO - Loading data from `routing_parameters` (ExcelDataSet)...\n",
      "2022-06-02 22:41:40,665 - root - INFO - Preparing road network.......\n",
      "\n",
      "2022-06-02 22:41:40,721 - root - INFO - Load required arcs\n",
      "2022-06-02 22:41:40,722 - root - INFO - Merging with the network\n",
      "2022-06-02 22:41:40,746 - root - INFO - Set depot\n",
      "2022-06-02 22:41:40,749 - root - INFO - Set offload facilities\n",
      "2022-06-02 22:41:40,759 - root - INFO - Extend required arcs with inverse edge arcs\n",
      "2022-06-02 22:41:40,842 - root - INFO - Checking master list\n",
      "2022-06-02 22:41:40,848 - root - INFO - Load distance matrix: 8130 x 8130\n"
     ]
    },
    {
     "name": "stderr",
     "output_type": "stream",
     "text": [
      "/Users/ejwillemse/opt/anaconda3/envs/python_RD/lib/python3.8/site-packages/tables/array.py:241: DeprecationWarning:\n",
      "\n",
      "`np.object` is a deprecated alias for the builtin `object`. To silence this warning, use `object` by itself. Doing this will not modify any behavior and is safe. \n",
      "Deprecated in NumPy 1.20; for more details and guidance: https://numpy.org/devdocs/release/1.20.0-notes.html#deprecations\n",
      "\n",
      "/Users/ejwillemse/opt/anaconda3/envs/python_RD/lib/python3.8/site-packages/tables/array.py:241: DeprecationWarning:\n",
      "\n",
      "`np.object` is a deprecated alias for the builtin `object`. To silence this warning, use `object` by itself. Doing this will not modify any behavior and is safe. \n",
      "Deprecated in NumPy 1.20; for more details and guidance: https://numpy.org/devdocs/release/1.20.0-notes.html#deprecations\n",
      "\n",
      "/Users/ejwillemse/opt/anaconda3/envs/python_RD/lib/python3.8/site-packages/tables/leaf.py:544: VisibleDeprecationWarning:\n",
      "\n",
      "Creating an ndarray from ragged nested sequences (which is a list-or-tuple of lists-or-tuples-or ndarrays with different lengths or shapes) is deprecated. If you meant to do this, you must specify 'dtype=object' when creating the ndarray.\n",
      "\n"
     ]
    },
    {
     "name": "stdout",
     "output_type": "stream",
     "text": [
      "2022-06-02 22:41:47,861 - root - INFO - Creating nearest neighbour lists\n",
      "2022-06-02 22:41:51,200 - root - INFO - Calculate offloads: 8130 x 8130 x 2\n",
      "2022-06-02 22:42:01,888 - root - INFO - Done!\n",
      "2022-06-02 22:42:01,942 - root - INFO - Uploading scenario inputs...\n",
      "2022-06-02 22:42:01,984 - root - INFO - Setting service cost for network\n",
      "2022-06-02 22:42:02,002 - root - INFO - Setting demand for network\n",
      "2022-06-02 22:42:02,026 - root - INFO - Update travel durations.\n",
      "2022-06-02 22:42:02,339 - root - INFO - Update offload durations.\n",
      "2022-06-02 22:42:02,753 - root - INFO - Done\n",
      "2022-06-02 22:42:02,754 - root - INFO - Problem info supplied. Directly proceeding to solve problem.\n",
      "2022-06-02 22:42:38,104 - root - INFO - Done generating routes\n",
      "Number of routes: 10\n",
      "2022-06-02 22:42:38,106 - root - INFO - Preparing scenario outputs...\n"
     ]
    },
    {
     "name": "stderr",
     "output_type": "stream",
     "text": [
      "/Users/ejwillemse/opt/anaconda3/envs/python_RD/lib/python3.8/site-packages/tables/array.py:241: DeprecationWarning:\n",
      "\n",
      "`np.object` is a deprecated alias for the builtin `object`. To silence this warning, use `object` by itself. Doing this will not modify any behavior and is safe. \n",
      "Deprecated in NumPy 1.20; for more details and guidance: https://numpy.org/devdocs/release/1.20.0-notes.html#deprecations\n",
      "\n"
     ]
    },
    {
     "name": "stdout",
     "output_type": "stream",
     "text": [
      "2022-06-02 22:42:48,968 - root - INFO - Done preparing output\n",
      "2022-06-02 22:42:48,969 - kedro.io.data_catalog - INFO - Saving data to `resource_summary_table_20220601` (PartitionedDataSet)...\n"
     ]
    },
    {
     "name": "stderr",
     "output_type": "stream",
     "text": [
      "/Users/ejwillemse/dev/waste_labs_dev/project_rdi_cpt/src/mcarptif/visualise/route_tables.py:146: FutureWarning:\n",
      "\n",
      "The frame.append method is deprecated and will be removed from pandas in a future version. Use pandas.concat instead.\n",
      "\n"
     ]
    },
    {
     "name": "stdout",
     "output_type": "stream",
     "text": [
      "\n",
      "\n",
      " RUNNING SCENARIO households_055\n",
      "2022-06-02 22:42:49,599 - kedro.io.data_catalog - INFO - Loading data from `waste_gen_scenarios_local_20220601` (PartitionedDataSet)...\n",
      "2022-06-02 22:42:49,619 - kedro.io.data_catalog - INFO - Loading data from `routing_parameters` (ExcelDataSet)...\n",
      "2022-06-02 22:42:49,813 - root - INFO - Preparing road network.......\n",
      "\n",
      "2022-06-02 22:42:49,893 - root - INFO - Load required arcs\n",
      "2022-06-02 22:42:49,894 - root - INFO - Merging with the network\n",
      "2022-06-02 22:42:49,920 - root - INFO - Set depot\n",
      "2022-06-02 22:42:49,923 - root - INFO - Set offload facilities\n",
      "2022-06-02 22:42:49,935 - root - INFO - Extend required arcs with inverse edge arcs\n"
     ]
    },
    {
     "name": "stderr",
     "output_type": "stream",
     "text": [
      "/Users/ejwillemse/opt/anaconda3/envs/python_RD/lib/python3.8/site-packages/tables/array.py:241: DeprecationWarning:\n",
      "\n",
      "`np.object` is a deprecated alias for the builtin `object`. To silence this warning, use `object` by itself. Doing this will not modify any behavior and is safe. \n",
      "Deprecated in NumPy 1.20; for more details and guidance: https://numpy.org/devdocs/release/1.20.0-notes.html#deprecations\n",
      "\n"
     ]
    },
    {
     "name": "stdout",
     "output_type": "stream",
     "text": [
      "2022-06-02 22:42:50,044 - root - INFO - Checking master list\n",
      "2022-06-02 22:42:50,054 - root - INFO - Load distance matrix: 8110 x 8110\n"
     ]
    },
    {
     "name": "stderr",
     "output_type": "stream",
     "text": [
      "/Users/ejwillemse/opt/anaconda3/envs/python_RD/lib/python3.8/site-packages/tables/array.py:241: DeprecationWarning:\n",
      "\n",
      "`np.object` is a deprecated alias for the builtin `object`. To silence this warning, use `object` by itself. Doing this will not modify any behavior and is safe. \n",
      "Deprecated in NumPy 1.20; for more details and guidance: https://numpy.org/devdocs/release/1.20.0-notes.html#deprecations\n",
      "\n",
      "/Users/ejwillemse/opt/anaconda3/envs/python_RD/lib/python3.8/site-packages/tables/leaf.py:544: VisibleDeprecationWarning:\n",
      "\n",
      "Creating an ndarray from ragged nested sequences (which is a list-or-tuple of lists-or-tuples-or ndarrays with different lengths or shapes) is deprecated. If you meant to do this, you must specify 'dtype=object' when creating the ndarray.\n",
      "\n"
     ]
    },
    {
     "name": "stdout",
     "output_type": "stream",
     "text": [
      "2022-06-02 22:42:57,775 - root - INFO - Creating nearest neighbour lists\n",
      "2022-06-02 22:43:01,414 - root - INFO - Calculate offloads: 8110 x 8110 x 2\n",
      "2022-06-02 22:43:10,000 - root - INFO - Done!\n",
      "2022-06-02 22:43:10,075 - root - INFO - Uploading scenario inputs...\n",
      "2022-06-02 22:43:10,100 - root - INFO - Setting service cost for network\n",
      "2022-06-02 22:43:10,110 - root - INFO - Setting demand for network\n",
      "2022-06-02 22:43:10,119 - root - INFO - Update travel durations.\n",
      "2022-06-02 22:43:10,418 - root - INFO - Update offload durations.\n",
      "2022-06-02 22:43:10,846 - root - INFO - Done\n",
      "2022-06-02 22:43:10,847 - root - INFO - Problem info supplied. Directly proceeding to solve problem.\n",
      "2022-06-02 22:43:47,623 - root - INFO - Done generating routes\n",
      "Number of routes: 10\n",
      "2022-06-02 22:43:47,624 - root - INFO - Preparing scenario outputs...\n"
     ]
    },
    {
     "name": "stderr",
     "output_type": "stream",
     "text": [
      "/Users/ejwillemse/opt/anaconda3/envs/python_RD/lib/python3.8/site-packages/tables/array.py:241: DeprecationWarning:\n",
      "\n",
      "`np.object` is a deprecated alias for the builtin `object`. To silence this warning, use `object` by itself. Doing this will not modify any behavior and is safe. \n",
      "Deprecated in NumPy 1.20; for more details and guidance: https://numpy.org/devdocs/release/1.20.0-notes.html#deprecations\n",
      "\n"
     ]
    },
    {
     "name": "stdout",
     "output_type": "stream",
     "text": [
      "2022-06-02 22:43:57,080 - root - INFO - Done preparing output\n",
      "2022-06-02 22:43:57,081 - kedro.io.data_catalog - INFO - Saving data to `resource_summary_table_20220601` (PartitionedDataSet)...\n"
     ]
    },
    {
     "name": "stderr",
     "output_type": "stream",
     "text": [
      "/Users/ejwillemse/dev/waste_labs_dev/project_rdi_cpt/src/mcarptif/visualise/route_tables.py:146: FutureWarning:\n",
      "\n",
      "The frame.append method is deprecated and will be removed from pandas in a future version. Use pandas.concat instead.\n",
      "\n"
     ]
    },
    {
     "name": "stdout",
     "output_type": "stream",
     "text": [
      "\n",
      "\n",
      " RUNNING SCENARIO households_056\n",
      "2022-06-02 22:43:57,583 - kedro.io.data_catalog - INFO - Loading data from `waste_gen_scenarios_local_20220601` (PartitionedDataSet)...\n",
      "2022-06-02 22:43:57,601 - kedro.io.data_catalog - INFO - Loading data from `routing_parameters` (ExcelDataSet)...\n",
      "2022-06-02 22:43:57,767 - root - INFO - Preparing road network.......\n",
      "\n",
      "2022-06-02 22:43:57,830 - root - INFO - Load required arcs\n",
      "2022-06-02 22:43:57,832 - root - INFO - Merging with the network\n",
      "2022-06-02 22:43:57,861 - root - INFO - Set depot\n",
      "2022-06-02 22:43:57,864 - root - INFO - Set offload facilities\n",
      "2022-06-02 22:43:57,877 - root - INFO - Extend required arcs with inverse edge arcs\n",
      "2022-06-02 22:43:57,969 - root - INFO - Checking master list\n",
      "2022-06-02 22:43:57,975 - root - INFO - Load distance matrix: 8140 x 8140\n"
     ]
    },
    {
     "name": "stderr",
     "output_type": "stream",
     "text": [
      "/Users/ejwillemse/opt/anaconda3/envs/python_RD/lib/python3.8/site-packages/tables/array.py:241: DeprecationWarning:\n",
      "\n",
      "`np.object` is a deprecated alias for the builtin `object`. To silence this warning, use `object` by itself. Doing this will not modify any behavior and is safe. \n",
      "Deprecated in NumPy 1.20; for more details and guidance: https://numpy.org/devdocs/release/1.20.0-notes.html#deprecations\n",
      "\n",
      "/Users/ejwillemse/opt/anaconda3/envs/python_RD/lib/python3.8/site-packages/tables/array.py:241: DeprecationWarning:\n",
      "\n",
      "`np.object` is a deprecated alias for the builtin `object`. To silence this warning, use `object` by itself. Doing this will not modify any behavior and is safe. \n",
      "Deprecated in NumPy 1.20; for more details and guidance: https://numpy.org/devdocs/release/1.20.0-notes.html#deprecations\n",
      "\n",
      "/Users/ejwillemse/opt/anaconda3/envs/python_RD/lib/python3.8/site-packages/tables/leaf.py:544: VisibleDeprecationWarning:\n",
      "\n",
      "Creating an ndarray from ragged nested sequences (which is a list-or-tuple of lists-or-tuples-or ndarrays with different lengths or shapes) is deprecated. If you meant to do this, you must specify 'dtype=object' when creating the ndarray.\n",
      "\n"
     ]
    },
    {
     "name": "stdout",
     "output_type": "stream",
     "text": [
      "2022-06-02 22:44:04,897 - root - INFO - Creating nearest neighbour lists\n",
      "2022-06-02 22:44:08,372 - root - INFO - Calculate offloads: 8140 x 8140 x 2\n",
      "2022-06-02 22:44:16,673 - root - INFO - Done!\n",
      "2022-06-02 22:44:16,715 - root - INFO - Uploading scenario inputs...\n",
      "2022-06-02 22:44:16,742 - root - INFO - Setting service cost for network\n",
      "2022-06-02 22:44:16,752 - root - INFO - Setting demand for network\n",
      "2022-06-02 22:44:16,762 - root - INFO - Update travel durations.\n",
      "2022-06-02 22:44:17,075 - root - INFO - Update offload durations.\n",
      "2022-06-02 22:44:17,472 - root - INFO - Done\n",
      "2022-06-02 22:44:17,473 - root - INFO - Problem info supplied. Directly proceeding to solve problem.\n",
      "2022-06-02 22:44:55,273 - root - INFO - Done generating routes\n",
      "Number of routes: 10\n",
      "2022-06-02 22:44:55,274 - root - INFO - Preparing scenario outputs...\n"
     ]
    },
    {
     "name": "stderr",
     "output_type": "stream",
     "text": [
      "/Users/ejwillemse/opt/anaconda3/envs/python_RD/lib/python3.8/site-packages/tables/array.py:241: DeprecationWarning:\n",
      "\n",
      "`np.object` is a deprecated alias for the builtin `object`. To silence this warning, use `object` by itself. Doing this will not modify any behavior and is safe. \n",
      "Deprecated in NumPy 1.20; for more details and guidance: https://numpy.org/devdocs/release/1.20.0-notes.html#deprecations\n",
      "\n"
     ]
    },
    {
     "name": "stdout",
     "output_type": "stream",
     "text": [
      "2022-06-02 22:45:06,042 - root - INFO - Done preparing output\n",
      "2022-06-02 22:45:06,043 - kedro.io.data_catalog - INFO - Saving data to `resource_summary_table_20220601` (PartitionedDataSet)...\n"
     ]
    },
    {
     "name": "stderr",
     "output_type": "stream",
     "text": [
      "/Users/ejwillemse/dev/waste_labs_dev/project_rdi_cpt/src/mcarptif/visualise/route_tables.py:146: FutureWarning:\n",
      "\n",
      "The frame.append method is deprecated and will be removed from pandas in a future version. Use pandas.concat instead.\n",
      "\n"
     ]
    },
    {
     "name": "stdout",
     "output_type": "stream",
     "text": [
      "\n",
      "\n",
      " RUNNING SCENARIO households_057\n",
      "2022-06-02 22:45:06,711 - kedro.io.data_catalog - INFO - Loading data from `waste_gen_scenarios_local_20220601` (PartitionedDataSet)...\n",
      "2022-06-02 22:45:06,729 - kedro.io.data_catalog - INFO - Loading data from `routing_parameters` (ExcelDataSet)...\n",
      "2022-06-02 22:45:06,933 - root - INFO - Preparing road network.......\n",
      "\n",
      "2022-06-02 22:45:07,000 - root - INFO - Load required arcs\n",
      "2022-06-02 22:45:07,002 - root - INFO - Merging with the network\n",
      "2022-06-02 22:45:07,032 - root - INFO - Set depot\n",
      "2022-06-02 22:45:07,037 - root - INFO - Set offload facilities\n",
      "2022-06-02 22:45:07,054 - root - INFO - Extend required arcs with inverse edge arcs\n"
     ]
    },
    {
     "name": "stderr",
     "output_type": "stream",
     "text": [
      "/Users/ejwillemse/opt/anaconda3/envs/python_RD/lib/python3.8/site-packages/tables/array.py:241: DeprecationWarning:\n",
      "\n",
      "`np.object` is a deprecated alias for the builtin `object`. To silence this warning, use `object` by itself. Doing this will not modify any behavior and is safe. \n",
      "Deprecated in NumPy 1.20; for more details and guidance: https://numpy.org/devdocs/release/1.20.0-notes.html#deprecations\n",
      "\n"
     ]
    },
    {
     "name": "stdout",
     "output_type": "stream",
     "text": [
      "2022-06-02 22:45:07,177 - root - INFO - Checking master list\n",
      "2022-06-02 22:45:07,184 - root - INFO - Load distance matrix: 8122 x 8122\n"
     ]
    },
    {
     "name": "stderr",
     "output_type": "stream",
     "text": [
      "/Users/ejwillemse/opt/anaconda3/envs/python_RD/lib/python3.8/site-packages/tables/array.py:241: DeprecationWarning:\n",
      "\n",
      "`np.object` is a deprecated alias for the builtin `object`. To silence this warning, use `object` by itself. Doing this will not modify any behavior and is safe. \n",
      "Deprecated in NumPy 1.20; for more details and guidance: https://numpy.org/devdocs/release/1.20.0-notes.html#deprecations\n",
      "\n",
      "/Users/ejwillemse/opt/anaconda3/envs/python_RD/lib/python3.8/site-packages/tables/leaf.py:544: VisibleDeprecationWarning:\n",
      "\n",
      "Creating an ndarray from ragged nested sequences (which is a list-or-tuple of lists-or-tuples-or ndarrays with different lengths or shapes) is deprecated. If you meant to do this, you must specify 'dtype=object' when creating the ndarray.\n",
      "\n"
     ]
    },
    {
     "name": "stdout",
     "output_type": "stream",
     "text": [
      "2022-06-02 22:45:14,111 - root - INFO - Creating nearest neighbour lists\n",
      "2022-06-02 22:45:17,791 - root - INFO - Calculate offloads: 8122 x 8122 x 2\n",
      "2022-06-02 22:45:27,022 - root - INFO - Done!\n",
      "2022-06-02 22:45:27,068 - root - INFO - Uploading scenario inputs...\n",
      "2022-06-02 22:45:27,098 - root - INFO - Setting service cost for network\n",
      "2022-06-02 22:45:27,109 - root - INFO - Setting demand for network\n",
      "2022-06-02 22:45:27,120 - root - INFO - Update travel durations.\n",
      "2022-06-02 22:45:27,430 - root - INFO - Update offload durations.\n",
      "2022-06-02 22:45:27,870 - root - INFO - Done\n",
      "2022-06-02 22:45:27,871 - root - INFO - Problem info supplied. Directly proceeding to solve problem.\n",
      "2022-06-02 22:46:04,126 - root - INFO - Done generating routes\n",
      "Number of routes: 10\n",
      "2022-06-02 22:46:04,128 - root - INFO - Preparing scenario outputs...\n"
     ]
    },
    {
     "name": "stderr",
     "output_type": "stream",
     "text": [
      "/Users/ejwillemse/opt/anaconda3/envs/python_RD/lib/python3.8/site-packages/tables/array.py:241: DeprecationWarning:\n",
      "\n",
      "`np.object` is a deprecated alias for the builtin `object`. To silence this warning, use `object` by itself. Doing this will not modify any behavior and is safe. \n",
      "Deprecated in NumPy 1.20; for more details and guidance: https://numpy.org/devdocs/release/1.20.0-notes.html#deprecations\n",
      "\n"
     ]
    },
    {
     "name": "stdout",
     "output_type": "stream",
     "text": [
      "2022-06-02 22:46:12,941 - root - INFO - Done preparing output\n",
      "2022-06-02 22:46:12,942 - kedro.io.data_catalog - INFO - Saving data to `resource_summary_table_20220601` (PartitionedDataSet)...\n"
     ]
    },
    {
     "name": "stderr",
     "output_type": "stream",
     "text": [
      "/Users/ejwillemse/dev/waste_labs_dev/project_rdi_cpt/src/mcarptif/visualise/route_tables.py:146: FutureWarning:\n",
      "\n",
      "The frame.append method is deprecated and will be removed from pandas in a future version. Use pandas.concat instead.\n",
      "\n"
     ]
    },
    {
     "name": "stdout",
     "output_type": "stream",
     "text": [
      "\n",
      "\n",
      " RUNNING SCENARIO households_058\n",
      "2022-06-02 22:46:13,450 - kedro.io.data_catalog - INFO - Loading data from `waste_gen_scenarios_local_20220601` (PartitionedDataSet)...\n",
      "2022-06-02 22:46:13,468 - kedro.io.data_catalog - INFO - Loading data from `routing_parameters` (ExcelDataSet)...\n",
      "2022-06-02 22:46:13,630 - root - INFO - Preparing road network.......\n",
      "\n",
      "2022-06-02 22:46:13,686 - root - INFO - Load required arcs\n",
      "2022-06-02 22:46:13,688 - root - INFO - Merging with the network\n",
      "2022-06-02 22:46:13,718 - root - INFO - Set depot\n",
      "2022-06-02 22:46:13,722 - root - INFO - Set offload facilities\n",
      "2022-06-02 22:46:13,733 - root - INFO - Extend required arcs with inverse edge arcs\n",
      "2022-06-02 22:46:13,823 - root - INFO - Checking master list\n",
      "2022-06-02 22:46:13,829 - root - INFO - Load distance matrix: 8118 x 8118\n"
     ]
    },
    {
     "name": "stderr",
     "output_type": "stream",
     "text": [
      "/Users/ejwillemse/opt/anaconda3/envs/python_RD/lib/python3.8/site-packages/tables/array.py:241: DeprecationWarning:\n",
      "\n",
      "`np.object` is a deprecated alias for the builtin `object`. To silence this warning, use `object` by itself. Doing this will not modify any behavior and is safe. \n",
      "Deprecated in NumPy 1.20; for more details and guidance: https://numpy.org/devdocs/release/1.20.0-notes.html#deprecations\n",
      "\n",
      "/Users/ejwillemse/opt/anaconda3/envs/python_RD/lib/python3.8/site-packages/tables/array.py:241: DeprecationWarning:\n",
      "\n",
      "`np.object` is a deprecated alias for the builtin `object`. To silence this warning, use `object` by itself. Doing this will not modify any behavior and is safe. \n",
      "Deprecated in NumPy 1.20; for more details and guidance: https://numpy.org/devdocs/release/1.20.0-notes.html#deprecations\n",
      "\n",
      "/Users/ejwillemse/opt/anaconda3/envs/python_RD/lib/python3.8/site-packages/tables/leaf.py:544: VisibleDeprecationWarning:\n",
      "\n",
      "Creating an ndarray from ragged nested sequences (which is a list-or-tuple of lists-or-tuples-or ndarrays with different lengths or shapes) is deprecated. If you meant to do this, you must specify 'dtype=object' when creating the ndarray.\n",
      "\n"
     ]
    },
    {
     "name": "stdout",
     "output_type": "stream",
     "text": [
      "2022-06-02 22:46:20,761 - root - INFO - Creating nearest neighbour lists\n",
      "2022-06-02 22:46:24,179 - root - INFO - Calculate offloads: 8118 x 8118 x 2\n",
      "2022-06-02 22:46:32,981 - root - INFO - Done!\n",
      "2022-06-02 22:46:33,047 - root - INFO - Uploading scenario inputs...\n",
      "2022-06-02 22:46:33,076 - root - INFO - Setting service cost for network\n",
      "2022-06-02 22:46:33,086 - root - INFO - Setting demand for network\n",
      "2022-06-02 22:46:33,097 - root - INFO - Update travel durations.\n",
      "2022-06-02 22:46:33,379 - root - INFO - Update offload durations.\n",
      "2022-06-02 22:46:33,821 - root - INFO - Done\n",
      "2022-06-02 22:46:33,822 - root - INFO - Problem info supplied. Directly proceeding to solve problem.\n",
      "2022-06-02 22:47:08,829 - root - INFO - Done generating routes\n",
      "Number of routes: 10\n",
      "2022-06-02 22:47:08,831 - root - INFO - Preparing scenario outputs...\n"
     ]
    },
    {
     "name": "stderr",
     "output_type": "stream",
     "text": [
      "/Users/ejwillemse/opt/anaconda3/envs/python_RD/lib/python3.8/site-packages/tables/array.py:241: DeprecationWarning:\n",
      "\n",
      "`np.object` is a deprecated alias for the builtin `object`. To silence this warning, use `object` by itself. Doing this will not modify any behavior and is safe. \n",
      "Deprecated in NumPy 1.20; for more details and guidance: https://numpy.org/devdocs/release/1.20.0-notes.html#deprecations\n",
      "\n"
     ]
    },
    {
     "name": "stdout",
     "output_type": "stream",
     "text": [
      "2022-06-02 22:47:18,045 - root - INFO - Done preparing output\n",
      "2022-06-02 22:47:18,046 - kedro.io.data_catalog - INFO - Saving data to `resource_summary_table_20220601` (PartitionedDataSet)...\n"
     ]
    },
    {
     "name": "stderr",
     "output_type": "stream",
     "text": [
      "/Users/ejwillemse/dev/waste_labs_dev/project_rdi_cpt/src/mcarptif/visualise/route_tables.py:146: FutureWarning:\n",
      "\n",
      "The frame.append method is deprecated and will be removed from pandas in a future version. Use pandas.concat instead.\n",
      "\n"
     ]
    },
    {
     "name": "stdout",
     "output_type": "stream",
     "text": [
      "\n",
      "\n",
      " RUNNING SCENARIO households_059\n",
      "2022-06-02 22:47:18,504 - kedro.io.data_catalog - INFO - Loading data from `waste_gen_scenarios_local_20220601` (PartitionedDataSet)...\n",
      "2022-06-02 22:47:18,521 - kedro.io.data_catalog - INFO - Loading data from `routing_parameters` (ExcelDataSet)...\n",
      "2022-06-02 22:47:18,695 - root - INFO - Preparing road network.......\n",
      "\n",
      "2022-06-02 22:47:18,759 - root - INFO - Load required arcs\n",
      "2022-06-02 22:47:18,761 - root - INFO - Merging with the network\n",
      "2022-06-02 22:47:18,790 - root - INFO - Set depot\n",
      "2022-06-02 22:47:18,793 - root - INFO - Set offload facilities\n",
      "2022-06-02 22:47:18,806 - root - INFO - Extend required arcs with inverse edge arcs\n",
      "2022-06-02 22:47:18,894 - root - INFO - Checking master list\n",
      "2022-06-02 22:47:18,901 - root - INFO - Load distance matrix: 8140 x 8140\n"
     ]
    },
    {
     "name": "stderr",
     "output_type": "stream",
     "text": [
      "/Users/ejwillemse/opt/anaconda3/envs/python_RD/lib/python3.8/site-packages/tables/array.py:241: DeprecationWarning:\n",
      "\n",
      "`np.object` is a deprecated alias for the builtin `object`. To silence this warning, use `object` by itself. Doing this will not modify any behavior and is safe. \n",
      "Deprecated in NumPy 1.20; for more details and guidance: https://numpy.org/devdocs/release/1.20.0-notes.html#deprecations\n",
      "\n",
      "/Users/ejwillemse/opt/anaconda3/envs/python_RD/lib/python3.8/site-packages/tables/array.py:241: DeprecationWarning:\n",
      "\n",
      "`np.object` is a deprecated alias for the builtin `object`. To silence this warning, use `object` by itself. Doing this will not modify any behavior and is safe. \n",
      "Deprecated in NumPy 1.20; for more details and guidance: https://numpy.org/devdocs/release/1.20.0-notes.html#deprecations\n",
      "\n",
      "/Users/ejwillemse/opt/anaconda3/envs/python_RD/lib/python3.8/site-packages/tables/leaf.py:544: VisibleDeprecationWarning:\n",
      "\n",
      "Creating an ndarray from ragged nested sequences (which is a list-or-tuple of lists-or-tuples-or ndarrays with different lengths or shapes) is deprecated. If you meant to do this, you must specify 'dtype=object' when creating the ndarray.\n",
      "\n"
     ]
    },
    {
     "name": "stdout",
     "output_type": "stream",
     "text": [
      "2022-06-02 22:47:25,709 - root - INFO - Creating nearest neighbour lists\n",
      "2022-06-02 22:47:29,473 - root - INFO - Calculate offloads: 8140 x 8140 x 2\n",
      "2022-06-02 22:47:39,931 - root - INFO - Done!\n",
      "2022-06-02 22:47:39,974 - root - INFO - Uploading scenario inputs...\n",
      "2022-06-02 22:47:39,997 - root - INFO - Setting service cost for network\n",
      "2022-06-02 22:47:40,009 - root - INFO - Setting demand for network\n",
      "2022-06-02 22:47:40,019 - root - INFO - Update travel durations.\n",
      "2022-06-02 22:47:40,304 - root - INFO - Update offload durations.\n",
      "2022-06-02 22:47:40,730 - root - INFO - Done\n",
      "2022-06-02 22:47:40,731 - root - INFO - Problem info supplied. Directly proceeding to solve problem.\n",
      "2022-06-02 22:48:15,772 - root - INFO - Done generating routes\n",
      "Number of routes: 10\n",
      "2022-06-02 22:48:15,774 - root - INFO - Preparing scenario outputs...\n"
     ]
    },
    {
     "name": "stderr",
     "output_type": "stream",
     "text": [
      "/Users/ejwillemse/opt/anaconda3/envs/python_RD/lib/python3.8/site-packages/tables/array.py:241: DeprecationWarning:\n",
      "\n",
      "`np.object` is a deprecated alias for the builtin `object`. To silence this warning, use `object` by itself. Doing this will not modify any behavior and is safe. \n",
      "Deprecated in NumPy 1.20; for more details and guidance: https://numpy.org/devdocs/release/1.20.0-notes.html#deprecations\n",
      "\n"
     ]
    },
    {
     "name": "stdout",
     "output_type": "stream",
     "text": [
      "2022-06-02 22:48:25,454 - root - INFO - Done preparing output\n",
      "2022-06-02 22:48:25,455 - kedro.io.data_catalog - INFO - Saving data to `resource_summary_table_20220601` (PartitionedDataSet)...\n"
     ]
    },
    {
     "name": "stderr",
     "output_type": "stream",
     "text": [
      "/Users/ejwillemse/dev/waste_labs_dev/project_rdi_cpt/src/mcarptif/visualise/route_tables.py:146: FutureWarning:\n",
      "\n",
      "The frame.append method is deprecated and will be removed from pandas in a future version. Use pandas.concat instead.\n",
      "\n"
     ]
    },
    {
     "name": "stdout",
     "output_type": "stream",
     "text": [
      "\n",
      "\n",
      " RUNNING SCENARIO households_060\n",
      "2022-06-02 22:48:25,958 - kedro.io.data_catalog - INFO - Loading data from `waste_gen_scenarios_local_20220601` (PartitionedDataSet)...\n",
      "2022-06-02 22:48:25,979 - kedro.io.data_catalog - INFO - Loading data from `routing_parameters` (ExcelDataSet)...\n",
      "2022-06-02 22:48:26,157 - root - INFO - Preparing road network.......\n",
      "\n",
      "2022-06-02 22:48:26,223 - root - INFO - Load required arcs\n",
      "2022-06-02 22:48:26,225 - root - INFO - Merging with the network\n",
      "2022-06-02 22:48:26,253 - root - INFO - Set depot\n",
      "2022-06-02 22:48:26,256 - root - INFO - Set offload facilities\n",
      "2022-06-02 22:48:26,266 - root - INFO - Extend required arcs with inverse edge arcs\n"
     ]
    },
    {
     "name": "stderr",
     "output_type": "stream",
     "text": [
      "/Users/ejwillemse/opt/anaconda3/envs/python_RD/lib/python3.8/site-packages/tables/array.py:241: DeprecationWarning:\n",
      "\n",
      "`np.object` is a deprecated alias for the builtin `object`. To silence this warning, use `object` by itself. Doing this will not modify any behavior and is safe. \n",
      "Deprecated in NumPy 1.20; for more details and guidance: https://numpy.org/devdocs/release/1.20.0-notes.html#deprecations\n",
      "\n"
     ]
    },
    {
     "name": "stdout",
     "output_type": "stream",
     "text": [
      "2022-06-02 22:48:26,390 - root - INFO - Checking master list\n",
      "2022-06-02 22:48:26,400 - root - INFO - Load distance matrix: 8156 x 8156\n"
     ]
    },
    {
     "name": "stderr",
     "output_type": "stream",
     "text": [
      "/Users/ejwillemse/opt/anaconda3/envs/python_RD/lib/python3.8/site-packages/tables/array.py:241: DeprecationWarning:\n",
      "\n",
      "`np.object` is a deprecated alias for the builtin `object`. To silence this warning, use `object` by itself. Doing this will not modify any behavior and is safe. \n",
      "Deprecated in NumPy 1.20; for more details and guidance: https://numpy.org/devdocs/release/1.20.0-notes.html#deprecations\n",
      "\n",
      "/Users/ejwillemse/opt/anaconda3/envs/python_RD/lib/python3.8/site-packages/tables/leaf.py:544: VisibleDeprecationWarning:\n",
      "\n",
      "Creating an ndarray from ragged nested sequences (which is a list-or-tuple of lists-or-tuples-or ndarrays with different lengths or shapes) is deprecated. If you meant to do this, you must specify 'dtype=object' when creating the ndarray.\n",
      "\n"
     ]
    },
    {
     "name": "stdout",
     "output_type": "stream",
     "text": [
      "2022-06-02 22:48:34,354 - root - INFO - Creating nearest neighbour lists\n",
      "2022-06-02 22:48:38,287 - root - INFO - Calculate offloads: 8156 x 8156 x 2\n",
      "2022-06-02 22:48:49,665 - root - INFO - Done!\n",
      "2022-06-02 22:48:50,291 - root - INFO - Uploading scenario inputs...\n",
      "2022-06-02 22:48:50,321 - root - INFO - Setting service cost for network\n",
      "2022-06-02 22:48:50,332 - root - INFO - Setting demand for network\n",
      "2022-06-02 22:48:50,343 - root - INFO - Update travel durations.\n",
      "2022-06-02 22:48:50,725 - root - INFO - Update offload durations.\n",
      "2022-06-02 22:48:51,124 - root - INFO - Done\n",
      "2022-06-02 22:48:51,125 - root - INFO - Problem info supplied. Directly proceeding to solve problem.\n",
      "2022-06-02 22:49:25,720 - root - INFO - Done generating routes\n",
      "Number of routes: 10\n",
      "2022-06-02 22:49:25,722 - root - INFO - Preparing scenario outputs...\n"
     ]
    },
    {
     "name": "stderr",
     "output_type": "stream",
     "text": [
      "/Users/ejwillemse/opt/anaconda3/envs/python_RD/lib/python3.8/site-packages/tables/array.py:241: DeprecationWarning:\n",
      "\n",
      "`np.object` is a deprecated alias for the builtin `object`. To silence this warning, use `object` by itself. Doing this will not modify any behavior and is safe. \n",
      "Deprecated in NumPy 1.20; for more details and guidance: https://numpy.org/devdocs/release/1.20.0-notes.html#deprecations\n",
      "\n"
     ]
    },
    {
     "name": "stdout",
     "output_type": "stream",
     "text": [
      "2022-06-02 22:49:34,938 - root - INFO - Done preparing output\n",
      "2022-06-02 22:49:34,984 - kedro.io.data_catalog - INFO - Saving data to `resource_summary_table_20220601` (PartitionedDataSet)...\n"
     ]
    },
    {
     "name": "stderr",
     "output_type": "stream",
     "text": [
      "/Users/ejwillemse/dev/waste_labs_dev/project_rdi_cpt/src/mcarptif/visualise/route_tables.py:146: FutureWarning:\n",
      "\n",
      "The frame.append method is deprecated and will be removed from pandas in a future version. Use pandas.concat instead.\n",
      "\n"
     ]
    },
    {
     "name": "stdout",
     "output_type": "stream",
     "text": [
      "\n",
      "\n",
      " RUNNING SCENARIO households_061\n",
      "2022-06-02 22:49:35,504 - kedro.io.data_catalog - INFO - Loading data from `waste_gen_scenarios_local_20220601` (PartitionedDataSet)...\n",
      "2022-06-02 22:49:35,527 - kedro.io.data_catalog - INFO - Loading data from `routing_parameters` (ExcelDataSet)...\n",
      "2022-06-02 22:49:35,692 - root - INFO - Preparing road network.......\n",
      "\n",
      "2022-06-02 22:49:35,751 - root - INFO - Load required arcs\n",
      "2022-06-02 22:49:35,753 - root - INFO - Merging with the network\n",
      "2022-06-02 22:49:35,784 - root - INFO - Set depot\n",
      "2022-06-02 22:49:35,788 - root - INFO - Set offload facilities\n",
      "2022-06-02 22:49:35,798 - root - INFO - Extend required arcs with inverse edge arcs\n",
      "2022-06-02 22:49:35,892 - root - INFO - Checking master list\n",
      "2022-06-02 22:49:35,899 - root - INFO - Load distance matrix: 8137 x 8137\n"
     ]
    },
    {
     "name": "stderr",
     "output_type": "stream",
     "text": [
      "/Users/ejwillemse/opt/anaconda3/envs/python_RD/lib/python3.8/site-packages/tables/array.py:241: DeprecationWarning:\n",
      "\n",
      "`np.object` is a deprecated alias for the builtin `object`. To silence this warning, use `object` by itself. Doing this will not modify any behavior and is safe. \n",
      "Deprecated in NumPy 1.20; for more details and guidance: https://numpy.org/devdocs/release/1.20.0-notes.html#deprecations\n",
      "\n",
      "/Users/ejwillemse/opt/anaconda3/envs/python_RD/lib/python3.8/site-packages/tables/array.py:241: DeprecationWarning:\n",
      "\n",
      "`np.object` is a deprecated alias for the builtin `object`. To silence this warning, use `object` by itself. Doing this will not modify any behavior and is safe. \n",
      "Deprecated in NumPy 1.20; for more details and guidance: https://numpy.org/devdocs/release/1.20.0-notes.html#deprecations\n",
      "\n",
      "/Users/ejwillemse/opt/anaconda3/envs/python_RD/lib/python3.8/site-packages/tables/leaf.py:544: VisibleDeprecationWarning:\n",
      "\n",
      "Creating an ndarray from ragged nested sequences (which is a list-or-tuple of lists-or-tuples-or ndarrays with different lengths or shapes) is deprecated. If you meant to do this, you must specify 'dtype=object' when creating the ndarray.\n",
      "\n"
     ]
    },
    {
     "name": "stdout",
     "output_type": "stream",
     "text": [
      "2022-06-02 22:49:42,989 - root - INFO - Creating nearest neighbour lists\n",
      "2022-06-02 22:49:46,578 - root - INFO - Calculate offloads: 8137 x 8137 x 2\n",
      "2022-06-02 22:49:55,463 - root - INFO - Done!\n",
      "2022-06-02 22:49:55,510 - root - INFO - Uploading scenario inputs...\n",
      "2022-06-02 22:49:55,543 - root - INFO - Setting service cost for network\n",
      "2022-06-02 22:49:55,556 - root - INFO - Setting demand for network\n",
      "2022-06-02 22:49:55,567 - root - INFO - Update travel durations.\n",
      "2022-06-02 22:49:55,865 - root - INFO - Update offload durations.\n",
      "2022-06-02 22:49:56,395 - root - INFO - Done\n",
      "2022-06-02 22:49:56,396 - root - INFO - Problem info supplied. Directly proceeding to solve problem.\n",
      "2022-06-02 22:50:31,076 - root - INFO - Done generating routes\n",
      "Number of routes: 10\n",
      "2022-06-02 22:50:31,078 - root - INFO - Preparing scenario outputs...\n"
     ]
    },
    {
     "name": "stderr",
     "output_type": "stream",
     "text": [
      "/Users/ejwillemse/opt/anaconda3/envs/python_RD/lib/python3.8/site-packages/tables/array.py:241: DeprecationWarning:\n",
      "\n",
      "`np.object` is a deprecated alias for the builtin `object`. To silence this warning, use `object` by itself. Doing this will not modify any behavior and is safe. \n",
      "Deprecated in NumPy 1.20; for more details and guidance: https://numpy.org/devdocs/release/1.20.0-notes.html#deprecations\n",
      "\n"
     ]
    },
    {
     "name": "stdout",
     "output_type": "stream",
     "text": [
      "2022-06-02 22:50:39,942 - root - INFO - Done preparing output\n",
      "2022-06-02 22:50:39,944 - kedro.io.data_catalog - INFO - Saving data to `resource_summary_table_20220601` (PartitionedDataSet)...\n"
     ]
    },
    {
     "name": "stderr",
     "output_type": "stream",
     "text": [
      "/Users/ejwillemse/dev/waste_labs_dev/project_rdi_cpt/src/mcarptif/visualise/route_tables.py:146: FutureWarning:\n",
      "\n",
      "The frame.append method is deprecated and will be removed from pandas in a future version. Use pandas.concat instead.\n",
      "\n"
     ]
    },
    {
     "name": "stdout",
     "output_type": "stream",
     "text": [
      "\n",
      "\n",
      " RUNNING SCENARIO households_062\n",
      "2022-06-02 22:50:40,418 - kedro.io.data_catalog - INFO - Loading data from `waste_gen_scenarios_local_20220601` (PartitionedDataSet)...\n",
      "2022-06-02 22:50:40,436 - kedro.io.data_catalog - INFO - Loading data from `routing_parameters` (ExcelDataSet)...\n",
      "2022-06-02 22:50:40,588 - root - INFO - Preparing road network.......\n",
      "\n",
      "2022-06-02 22:50:40,645 - root - INFO - Load required arcs\n",
      "2022-06-02 22:50:40,647 - root - INFO - Merging with the network\n",
      "2022-06-02 22:50:40,671 - root - INFO - Set depot\n",
      "2022-06-02 22:50:40,674 - root - INFO - Set offload facilities\n",
      "2022-06-02 22:50:40,685 - root - INFO - Extend required arcs with inverse edge arcs\n",
      "2022-06-02 22:50:40,771 - root - INFO - Checking master list\n",
      "2022-06-02 22:50:40,778 - root - INFO - Load distance matrix: 8154 x 8154\n"
     ]
    },
    {
     "name": "stderr",
     "output_type": "stream",
     "text": [
      "/Users/ejwillemse/opt/anaconda3/envs/python_RD/lib/python3.8/site-packages/tables/array.py:241: DeprecationWarning:\n",
      "\n",
      "`np.object` is a deprecated alias for the builtin `object`. To silence this warning, use `object` by itself. Doing this will not modify any behavior and is safe. \n",
      "Deprecated in NumPy 1.20; for more details and guidance: https://numpy.org/devdocs/release/1.20.0-notes.html#deprecations\n",
      "\n",
      "/Users/ejwillemse/opt/anaconda3/envs/python_RD/lib/python3.8/site-packages/tables/array.py:241: DeprecationWarning:\n",
      "\n",
      "`np.object` is a deprecated alias for the builtin `object`. To silence this warning, use `object` by itself. Doing this will not modify any behavior and is safe. \n",
      "Deprecated in NumPy 1.20; for more details and guidance: https://numpy.org/devdocs/release/1.20.0-notes.html#deprecations\n",
      "\n",
      "/Users/ejwillemse/opt/anaconda3/envs/python_RD/lib/python3.8/site-packages/tables/leaf.py:544: VisibleDeprecationWarning:\n",
      "\n",
      "Creating an ndarray from ragged nested sequences (which is a list-or-tuple of lists-or-tuples-or ndarrays with different lengths or shapes) is deprecated. If you meant to do this, you must specify 'dtype=object' when creating the ndarray.\n",
      "\n"
     ]
    },
    {
     "name": "stdout",
     "output_type": "stream",
     "text": [
      "2022-06-02 22:50:47,348 - root - INFO - Creating nearest neighbour lists\n",
      "2022-06-02 22:50:50,815 - root - INFO - Calculate offloads: 8154 x 8154 x 2\n",
      "2022-06-02 22:51:00,674 - root - INFO - Done!\n",
      "2022-06-02 22:51:00,912 - root - INFO - Uploading scenario inputs...\n",
      "2022-06-02 22:51:00,938 - root - INFO - Setting service cost for network\n",
      "2022-06-02 22:51:00,949 - root - INFO - Setting demand for network\n",
      "2022-06-02 22:51:00,959 - root - INFO - Update travel durations.\n",
      "2022-06-02 22:51:01,281 - root - INFO - Update offload durations.\n",
      "2022-06-02 22:51:01,710 - root - INFO - Done\n",
      "2022-06-02 22:51:01,711 - root - INFO - Problem info supplied. Directly proceeding to solve problem.\n",
      "2022-06-02 22:51:36,034 - root - INFO - Done generating routes\n",
      "Number of routes: 10\n",
      "2022-06-02 22:51:36,035 - root - INFO - Preparing scenario outputs...\n"
     ]
    },
    {
     "name": "stderr",
     "output_type": "stream",
     "text": [
      "/Users/ejwillemse/opt/anaconda3/envs/python_RD/lib/python3.8/site-packages/tables/array.py:241: DeprecationWarning:\n",
      "\n",
      "`np.object` is a deprecated alias for the builtin `object`. To silence this warning, use `object` by itself. Doing this will not modify any behavior and is safe. \n",
      "Deprecated in NumPy 1.20; for more details and guidance: https://numpy.org/devdocs/release/1.20.0-notes.html#deprecations\n",
      "\n"
     ]
    },
    {
     "name": "stdout",
     "output_type": "stream",
     "text": [
      "2022-06-02 22:51:45,618 - root - INFO - Done preparing output\n",
      "2022-06-02 22:51:45,619 - kedro.io.data_catalog - INFO - Saving data to `resource_summary_table_20220601` (PartitionedDataSet)...\n"
     ]
    },
    {
     "name": "stderr",
     "output_type": "stream",
     "text": [
      "/Users/ejwillemse/dev/waste_labs_dev/project_rdi_cpt/src/mcarptif/visualise/route_tables.py:146: FutureWarning:\n",
      "\n",
      "The frame.append method is deprecated and will be removed from pandas in a future version. Use pandas.concat instead.\n",
      "\n"
     ]
    },
    {
     "name": "stdout",
     "output_type": "stream",
     "text": [
      "\n",
      "\n",
      " RUNNING SCENARIO households_063\n",
      "2022-06-02 22:51:46,107 - kedro.io.data_catalog - INFO - Loading data from `waste_gen_scenarios_local_20220601` (PartitionedDataSet)...\n",
      "2022-06-02 22:51:46,127 - kedro.io.data_catalog - INFO - Loading data from `routing_parameters` (ExcelDataSet)...\n",
      "2022-06-02 22:51:46,301 - root - INFO - Preparing road network.......\n",
      "\n",
      "2022-06-02 22:51:46,370 - root - INFO - Load required arcs\n",
      "2022-06-02 22:51:46,372 - root - INFO - Merging with the network\n",
      "2022-06-02 22:51:46,400 - root - INFO - Set depot\n",
      "2022-06-02 22:51:46,404 - root - INFO - Set offload facilities\n",
      "2022-06-02 22:51:46,416 - root - INFO - Extend required arcs with inverse edge arcs\n",
      "2022-06-02 22:51:46,507 - root - INFO - Checking master list\n"
     ]
    },
    {
     "name": "stderr",
     "output_type": "stream",
     "text": [
      "/Users/ejwillemse/opt/anaconda3/envs/python_RD/lib/python3.8/site-packages/tables/array.py:241: DeprecationWarning:\n",
      "\n",
      "`np.object` is a deprecated alias for the builtin `object`. To silence this warning, use `object` by itself. Doing this will not modify any behavior and is safe. \n",
      "Deprecated in NumPy 1.20; for more details and guidance: https://numpy.org/devdocs/release/1.20.0-notes.html#deprecations\n",
      "\n"
     ]
    },
    {
     "name": "stdout",
     "output_type": "stream",
     "text": [
      "2022-06-02 22:51:46,514 - root - INFO - Load distance matrix: 8132 x 8132\n"
     ]
    },
    {
     "name": "stderr",
     "output_type": "stream",
     "text": [
      "/Users/ejwillemse/opt/anaconda3/envs/python_RD/lib/python3.8/site-packages/tables/array.py:241: DeprecationWarning:\n",
      "\n",
      "`np.object` is a deprecated alias for the builtin `object`. To silence this warning, use `object` by itself. Doing this will not modify any behavior and is safe. \n",
      "Deprecated in NumPy 1.20; for more details and guidance: https://numpy.org/devdocs/release/1.20.0-notes.html#deprecations\n",
      "\n",
      "/Users/ejwillemse/opt/anaconda3/envs/python_RD/lib/python3.8/site-packages/tables/leaf.py:544: VisibleDeprecationWarning:\n",
      "\n",
      "Creating an ndarray from ragged nested sequences (which is a list-or-tuple of lists-or-tuples-or ndarrays with different lengths or shapes) is deprecated. If you meant to do this, you must specify 'dtype=object' when creating the ndarray.\n",
      "\n"
     ]
    },
    {
     "name": "stdout",
     "output_type": "stream",
     "text": [
      "2022-06-02 22:51:53,536 - root - INFO - Creating nearest neighbour lists\n",
      "2022-06-02 22:51:57,018 - root - INFO - Calculate offloads: 8132 x 8132 x 2\n",
      "2022-06-02 22:52:05,866 - root - INFO - Done!\n",
      "2022-06-02 22:52:05,912 - root - INFO - Uploading scenario inputs...\n",
      "2022-06-02 22:52:05,942 - root - INFO - Setting service cost for network\n",
      "2022-06-02 22:52:05,953 - root - INFO - Setting demand for network\n",
      "2022-06-02 22:52:05,963 - root - INFO - Update travel durations.\n",
      "2022-06-02 22:52:06,250 - root - INFO - Update offload durations.\n",
      "2022-06-02 22:52:06,672 - root - INFO - Done\n",
      "2022-06-02 22:52:06,673 - root - INFO - Problem info supplied. Directly proceeding to solve problem.\n",
      "2022-06-02 22:52:40,640 - root - INFO - Done generating routes\n",
      "Number of routes: 10\n",
      "2022-06-02 22:52:40,641 - root - INFO - Preparing scenario outputs...\n"
     ]
    },
    {
     "name": "stderr",
     "output_type": "stream",
     "text": [
      "/Users/ejwillemse/opt/anaconda3/envs/python_RD/lib/python3.8/site-packages/tables/array.py:241: DeprecationWarning:\n",
      "\n",
      "`np.object` is a deprecated alias for the builtin `object`. To silence this warning, use `object` by itself. Doing this will not modify any behavior and is safe. \n",
      "Deprecated in NumPy 1.20; for more details and guidance: https://numpy.org/devdocs/release/1.20.0-notes.html#deprecations\n",
      "\n"
     ]
    },
    {
     "name": "stdout",
     "output_type": "stream",
     "text": [
      "2022-06-02 22:52:49,398 - root - INFO - Done preparing output\n",
      "2022-06-02 22:52:49,399 - kedro.io.data_catalog - INFO - Saving data to `resource_summary_table_20220601` (PartitionedDataSet)...\n"
     ]
    },
    {
     "name": "stderr",
     "output_type": "stream",
     "text": [
      "/Users/ejwillemse/dev/waste_labs_dev/project_rdi_cpt/src/mcarptif/visualise/route_tables.py:146: FutureWarning:\n",
      "\n",
      "The frame.append method is deprecated and will be removed from pandas in a future version. Use pandas.concat instead.\n",
      "\n"
     ]
    },
    {
     "name": "stdout",
     "output_type": "stream",
     "text": [
      "\n",
      "\n",
      " RUNNING SCENARIO households_064\n",
      "2022-06-02 22:52:49,893 - kedro.io.data_catalog - INFO - Loading data from `waste_gen_scenarios_local_20220601` (PartitionedDataSet)...\n",
      "2022-06-02 22:52:49,912 - kedro.io.data_catalog - INFO - Loading data from `routing_parameters` (ExcelDataSet)...\n",
      "2022-06-02 22:52:50,079 - root - INFO - Preparing road network.......\n",
      "\n",
      "2022-06-02 22:52:50,142 - root - INFO - Load required arcs\n",
      "2022-06-02 22:52:50,144 - root - INFO - Merging with the network\n",
      "2022-06-02 22:52:50,170 - root - INFO - Set depot\n",
      "2022-06-02 22:52:50,174 - root - INFO - Set offload facilities\n",
      "2022-06-02 22:52:50,183 - root - INFO - Extend required arcs with inverse edge arcs\n",
      "2022-06-02 22:52:50,274 - root - INFO - Checking master list\n",
      "2022-06-02 22:52:50,281 - root - INFO - Load distance matrix: 8128 x 8128\n"
     ]
    },
    {
     "name": "stderr",
     "output_type": "stream",
     "text": [
      "/Users/ejwillemse/opt/anaconda3/envs/python_RD/lib/python3.8/site-packages/tables/array.py:241: DeprecationWarning:\n",
      "\n",
      "`np.object` is a deprecated alias for the builtin `object`. To silence this warning, use `object` by itself. Doing this will not modify any behavior and is safe. \n",
      "Deprecated in NumPy 1.20; for more details and guidance: https://numpy.org/devdocs/release/1.20.0-notes.html#deprecations\n",
      "\n",
      "/Users/ejwillemse/opt/anaconda3/envs/python_RD/lib/python3.8/site-packages/tables/array.py:241: DeprecationWarning:\n",
      "\n",
      "`np.object` is a deprecated alias for the builtin `object`. To silence this warning, use `object` by itself. Doing this will not modify any behavior and is safe. \n",
      "Deprecated in NumPy 1.20; for more details and guidance: https://numpy.org/devdocs/release/1.20.0-notes.html#deprecations\n",
      "\n",
      "/Users/ejwillemse/opt/anaconda3/envs/python_RD/lib/python3.8/site-packages/tables/leaf.py:544: VisibleDeprecationWarning:\n",
      "\n",
      "Creating an ndarray from ragged nested sequences (which is a list-or-tuple of lists-or-tuples-or ndarrays with different lengths or shapes) is deprecated. If you meant to do this, you must specify 'dtype=object' when creating the ndarray.\n",
      "\n"
     ]
    },
    {
     "name": "stdout",
     "output_type": "stream",
     "text": [
      "2022-06-02 22:52:56,928 - root - INFO - Creating nearest neighbour lists\n",
      "2022-06-02 22:53:00,415 - root - INFO - Calculate offloads: 8128 x 8128 x 2\n",
      "2022-06-02 22:53:11,428 - root - INFO - Done!\n",
      "2022-06-02 22:53:11,471 - root - INFO - Uploading scenario inputs...\n",
      "2022-06-02 22:53:11,500 - root - INFO - Setting service cost for network\n",
      "2022-06-02 22:53:11,511 - root - INFO - Setting demand for network\n",
      "2022-06-02 22:53:11,521 - root - INFO - Update travel durations.\n",
      "2022-06-02 22:53:11,821 - root - INFO - Update offload durations.\n",
      "2022-06-02 22:53:12,248 - root - INFO - Done\n",
      "2022-06-02 22:53:12,249 - root - INFO - Problem info supplied. Directly proceeding to solve problem.\n",
      "2022-06-02 22:53:47,180 - root - INFO - Done generating routes\n",
      "Number of routes: 10\n",
      "2022-06-02 22:53:47,182 - root - INFO - Preparing scenario outputs...\n"
     ]
    },
    {
     "name": "stderr",
     "output_type": "stream",
     "text": [
      "/Users/ejwillemse/opt/anaconda3/envs/python_RD/lib/python3.8/site-packages/tables/array.py:241: DeprecationWarning:\n",
      "\n",
      "`np.object` is a deprecated alias for the builtin `object`. To silence this warning, use `object` by itself. Doing this will not modify any behavior and is safe. \n",
      "Deprecated in NumPy 1.20; for more details and guidance: https://numpy.org/devdocs/release/1.20.0-notes.html#deprecations\n",
      "\n"
     ]
    },
    {
     "name": "stdout",
     "output_type": "stream",
     "text": [
      "2022-06-02 22:53:56,592 - root - INFO - Done preparing output\n",
      "2022-06-02 22:53:56,593 - kedro.io.data_catalog - INFO - Saving data to `resource_summary_table_20220601` (PartitionedDataSet)...\n"
     ]
    },
    {
     "name": "stderr",
     "output_type": "stream",
     "text": [
      "/Users/ejwillemse/dev/waste_labs_dev/project_rdi_cpt/src/mcarptif/visualise/route_tables.py:146: FutureWarning:\n",
      "\n",
      "The frame.append method is deprecated and will be removed from pandas in a future version. Use pandas.concat instead.\n",
      "\n"
     ]
    },
    {
     "name": "stdout",
     "output_type": "stream",
     "text": [
      "\n",
      "\n",
      " RUNNING SCENARIO households_065\n",
      "2022-06-02 22:53:57,064 - kedro.io.data_catalog - INFO - Loading data from `waste_gen_scenarios_local_20220601` (PartitionedDataSet)...\n",
      "2022-06-02 22:53:57,084 - kedro.io.data_catalog - INFO - Loading data from `routing_parameters` (ExcelDataSet)...\n",
      "2022-06-02 22:53:57,270 - root - INFO - Preparing road network.......\n",
      "\n",
      "2022-06-02 22:53:57,328 - root - INFO - Load required arcs\n",
      "2022-06-02 22:53:57,329 - root - INFO - Merging with the network\n",
      "2022-06-02 22:53:57,353 - root - INFO - Set depot\n",
      "2022-06-02 22:53:57,357 - root - INFO - Set offload facilities\n",
      "2022-06-02 22:53:57,368 - root - INFO - Extend required arcs with inverse edge arcs\n",
      "2022-06-02 22:53:57,455 - root - INFO - Checking master list\n",
      "2022-06-02 22:53:57,462 - root - INFO - Load distance matrix: 8141 x 8141\n"
     ]
    },
    {
     "name": "stderr",
     "output_type": "stream",
     "text": [
      "/Users/ejwillemse/opt/anaconda3/envs/python_RD/lib/python3.8/site-packages/tables/array.py:241: DeprecationWarning:\n",
      "\n",
      "`np.object` is a deprecated alias for the builtin `object`. To silence this warning, use `object` by itself. Doing this will not modify any behavior and is safe. \n",
      "Deprecated in NumPy 1.20; for more details and guidance: https://numpy.org/devdocs/release/1.20.0-notes.html#deprecations\n",
      "\n",
      "/Users/ejwillemse/opt/anaconda3/envs/python_RD/lib/python3.8/site-packages/tables/array.py:241: DeprecationWarning:\n",
      "\n",
      "`np.object` is a deprecated alias for the builtin `object`. To silence this warning, use `object` by itself. Doing this will not modify any behavior and is safe. \n",
      "Deprecated in NumPy 1.20; for more details and guidance: https://numpy.org/devdocs/release/1.20.0-notes.html#deprecations\n",
      "\n",
      "/Users/ejwillemse/opt/anaconda3/envs/python_RD/lib/python3.8/site-packages/tables/leaf.py:544: VisibleDeprecationWarning:\n",
      "\n",
      "Creating an ndarray from ragged nested sequences (which is a list-or-tuple of lists-or-tuples-or ndarrays with different lengths or shapes) is deprecated. If you meant to do this, you must specify 'dtype=object' when creating the ndarray.\n",
      "\n"
     ]
    },
    {
     "name": "stdout",
     "output_type": "stream",
     "text": [
      "2022-06-02 22:54:04,151 - root - INFO - Creating nearest neighbour lists\n",
      "2022-06-02 22:54:07,705 - root - INFO - Calculate offloads: 8141 x 8141 x 2\n",
      "2022-06-02 22:54:16,703 - root - INFO - Done!\n",
      "2022-06-02 22:54:16,771 - root - INFO - Uploading scenario inputs...\n",
      "2022-06-02 22:54:16,798 - root - INFO - Setting service cost for network\n",
      "2022-06-02 22:54:16,809 - root - INFO - Setting demand for network\n",
      "2022-06-02 22:54:16,819 - root - INFO - Update travel durations.\n",
      "2022-06-02 22:54:17,107 - root - INFO - Update offload durations.\n",
      "2022-06-02 22:54:17,522 - root - INFO - Done\n",
      "2022-06-02 22:54:17,523 - root - INFO - Problem info supplied. Directly proceeding to solve problem.\n",
      "2022-06-02 22:54:51,622 - root - INFO - Done generating routes\n",
      "Number of routes: 10\n",
      "2022-06-02 22:54:51,623 - root - INFO - Preparing scenario outputs...\n"
     ]
    },
    {
     "name": "stderr",
     "output_type": "stream",
     "text": [
      "/Users/ejwillemse/opt/anaconda3/envs/python_RD/lib/python3.8/site-packages/tables/array.py:241: DeprecationWarning:\n",
      "\n",
      "`np.object` is a deprecated alias for the builtin `object`. To silence this warning, use `object` by itself. Doing this will not modify any behavior and is safe. \n",
      "Deprecated in NumPy 1.20; for more details and guidance: https://numpy.org/devdocs/release/1.20.0-notes.html#deprecations\n",
      "\n"
     ]
    },
    {
     "name": "stdout",
     "output_type": "stream",
     "text": [
      "2022-06-02 22:55:00,895 - root - INFO - Done preparing output\n",
      "2022-06-02 22:55:00,896 - kedro.io.data_catalog - INFO - Saving data to `resource_summary_table_20220601` (PartitionedDataSet)...\n"
     ]
    },
    {
     "name": "stderr",
     "output_type": "stream",
     "text": [
      "/Users/ejwillemse/dev/waste_labs_dev/project_rdi_cpt/src/mcarptif/visualise/route_tables.py:146: FutureWarning:\n",
      "\n",
      "The frame.append method is deprecated and will be removed from pandas in a future version. Use pandas.concat instead.\n",
      "\n"
     ]
    },
    {
     "name": "stdout",
     "output_type": "stream",
     "text": [
      "\n",
      "\n",
      " RUNNING SCENARIO households_066\n",
      "2022-06-02 22:55:01,388 - kedro.io.data_catalog - INFO - Loading data from `waste_gen_scenarios_local_20220601` (PartitionedDataSet)...\n",
      "2022-06-02 22:55:01,411 - kedro.io.data_catalog - INFO - Loading data from `routing_parameters` (ExcelDataSet)...\n",
      "2022-06-02 22:55:01,593 - root - INFO - Preparing road network.......\n",
      "\n",
      "2022-06-02 22:55:01,652 - root - INFO - Load required arcs\n",
      "2022-06-02 22:55:01,654 - root - INFO - Merging with the network\n",
      "2022-06-02 22:55:01,682 - root - INFO - Set depot\n",
      "2022-06-02 22:55:01,685 - root - INFO - Set offload facilities\n",
      "2022-06-02 22:55:01,700 - root - INFO - Extend required arcs with inverse edge arcs\n",
      "2022-06-02 22:55:01,788 - root - INFO - Checking master list\n",
      "2022-06-02 22:55:01,795 - root - INFO - Load distance matrix: 8150 x 8150\n"
     ]
    },
    {
     "name": "stderr",
     "output_type": "stream",
     "text": [
      "/Users/ejwillemse/opt/anaconda3/envs/python_RD/lib/python3.8/site-packages/tables/array.py:241: DeprecationWarning:\n",
      "\n",
      "`np.object` is a deprecated alias for the builtin `object`. To silence this warning, use `object` by itself. Doing this will not modify any behavior and is safe. \n",
      "Deprecated in NumPy 1.20; for more details and guidance: https://numpy.org/devdocs/release/1.20.0-notes.html#deprecations\n",
      "\n",
      "/Users/ejwillemse/opt/anaconda3/envs/python_RD/lib/python3.8/site-packages/tables/array.py:241: DeprecationWarning:\n",
      "\n",
      "`np.object` is a deprecated alias for the builtin `object`. To silence this warning, use `object` by itself. Doing this will not modify any behavior and is safe. \n",
      "Deprecated in NumPy 1.20; for more details and guidance: https://numpy.org/devdocs/release/1.20.0-notes.html#deprecations\n",
      "\n",
      "/Users/ejwillemse/opt/anaconda3/envs/python_RD/lib/python3.8/site-packages/tables/leaf.py:544: VisibleDeprecationWarning:\n",
      "\n",
      "Creating an ndarray from ragged nested sequences (which is a list-or-tuple of lists-or-tuples-or ndarrays with different lengths or shapes) is deprecated. If you meant to do this, you must specify 'dtype=object' when creating the ndarray.\n",
      "\n"
     ]
    },
    {
     "name": "stdout",
     "output_type": "stream",
     "text": [
      "2022-06-02 22:55:08,953 - root - INFO - Creating nearest neighbour lists\n",
      "2022-06-02 22:55:12,721 - root - INFO - Calculate offloads: 8150 x 8150 x 2\n",
      "2022-06-02 22:55:21,928 - root - INFO - Done!\n",
      "2022-06-02 22:55:22,008 - root - INFO - Uploading scenario inputs...\n",
      "2022-06-02 22:55:22,036 - root - INFO - Setting service cost for network\n",
      "2022-06-02 22:55:22,047 - root - INFO - Setting demand for network\n",
      "2022-06-02 22:55:22,057 - root - INFO - Update travel durations.\n",
      "2022-06-02 22:55:22,395 - root - INFO - Update offload durations.\n",
      "2022-06-02 22:55:22,838 - root - INFO - Done\n",
      "2022-06-02 22:55:22,839 - root - INFO - Problem info supplied. Directly proceeding to solve problem.\n",
      "2022-06-02 22:55:57,246 - root - INFO - Done generating routes\n",
      "Number of routes: 10\n",
      "2022-06-02 22:55:57,247 - root - INFO - Preparing scenario outputs...\n"
     ]
    },
    {
     "name": "stderr",
     "output_type": "stream",
     "text": [
      "/Users/ejwillemse/opt/anaconda3/envs/python_RD/lib/python3.8/site-packages/tables/array.py:241: DeprecationWarning:\n",
      "\n",
      "`np.object` is a deprecated alias for the builtin `object`. To silence this warning, use `object` by itself. Doing this will not modify any behavior and is safe. \n",
      "Deprecated in NumPy 1.20; for more details and guidance: https://numpy.org/devdocs/release/1.20.0-notes.html#deprecations\n",
      "\n"
     ]
    },
    {
     "name": "stdout",
     "output_type": "stream",
     "text": [
      "2022-06-02 22:56:06,591 - root - INFO - Done preparing output\n",
      "2022-06-02 22:56:06,592 - kedro.io.data_catalog - INFO - Saving data to `resource_summary_table_20220601` (PartitionedDataSet)...\n"
     ]
    },
    {
     "name": "stderr",
     "output_type": "stream",
     "text": [
      "/Users/ejwillemse/dev/waste_labs_dev/project_rdi_cpt/src/mcarptif/visualise/route_tables.py:146: FutureWarning:\n",
      "\n",
      "The frame.append method is deprecated and will be removed from pandas in a future version. Use pandas.concat instead.\n",
      "\n"
     ]
    },
    {
     "name": "stdout",
     "output_type": "stream",
     "text": [
      "\n",
      "\n",
      " RUNNING SCENARIO households_067\n",
      "2022-06-02 22:56:07,073 - kedro.io.data_catalog - INFO - Loading data from `waste_gen_scenarios_local_20220601` (PartitionedDataSet)...\n",
      "2022-06-02 22:56:07,093 - kedro.io.data_catalog - INFO - Loading data from `routing_parameters` (ExcelDataSet)...\n",
      "2022-06-02 22:56:07,318 - root - INFO - Preparing road network.......\n",
      "\n",
      "2022-06-02 22:56:07,379 - root - INFO - Load required arcs\n",
      "2022-06-02 22:56:07,381 - root - INFO - Merging with the network\n",
      "2022-06-02 22:56:07,407 - root - INFO - Set depot\n",
      "2022-06-02 22:56:07,410 - root - INFO - Set offload facilities\n",
      "2022-06-02 22:56:07,423 - root - INFO - Extend required arcs with inverse edge arcs\n",
      "2022-06-02 22:56:07,524 - root - INFO - Checking master list\n"
     ]
    },
    {
     "name": "stderr",
     "output_type": "stream",
     "text": [
      "/Users/ejwillemse/opt/anaconda3/envs/python_RD/lib/python3.8/site-packages/tables/array.py:241: DeprecationWarning:\n",
      "\n",
      "`np.object` is a deprecated alias for the builtin `object`. To silence this warning, use `object` by itself. Doing this will not modify any behavior and is safe. \n",
      "Deprecated in NumPy 1.20; for more details and guidance: https://numpy.org/devdocs/release/1.20.0-notes.html#deprecations\n",
      "\n"
     ]
    },
    {
     "name": "stdout",
     "output_type": "stream",
     "text": [
      "2022-06-02 22:56:07,531 - root - INFO - Load distance matrix: 8162 x 8162\n"
     ]
    },
    {
     "name": "stderr",
     "output_type": "stream",
     "text": [
      "/Users/ejwillemse/opt/anaconda3/envs/python_RD/lib/python3.8/site-packages/tables/array.py:241: DeprecationWarning:\n",
      "\n",
      "`np.object` is a deprecated alias for the builtin `object`. To silence this warning, use `object` by itself. Doing this will not modify any behavior and is safe. \n",
      "Deprecated in NumPy 1.20; for more details and guidance: https://numpy.org/devdocs/release/1.20.0-notes.html#deprecations\n",
      "\n",
      "/Users/ejwillemse/opt/anaconda3/envs/python_RD/lib/python3.8/site-packages/tables/leaf.py:544: VisibleDeprecationWarning:\n",
      "\n",
      "Creating an ndarray from ragged nested sequences (which is a list-or-tuple of lists-or-tuples-or ndarrays with different lengths or shapes) is deprecated. If you meant to do this, you must specify 'dtype=object' when creating the ndarray.\n",
      "\n"
     ]
    },
    {
     "name": "stdout",
     "output_type": "stream",
     "text": [
      "2022-06-02 22:56:15,106 - root - INFO - Creating nearest neighbour lists\n",
      "2022-06-02 22:56:18,881 - root - INFO - Calculate offloads: 8162 x 8162 x 2\n",
      "2022-06-02 22:56:30,243 - root - INFO - Done!\n",
      "2022-06-02 22:56:30,881 - root - INFO - Uploading scenario inputs...\n",
      "2022-06-02 22:56:30,917 - root - INFO - Setting service cost for network\n",
      "2022-06-02 22:56:30,927 - root - INFO - Setting demand for network\n",
      "2022-06-02 22:56:30,939 - root - INFO - Update travel durations.\n",
      "2022-06-02 22:56:31,343 - root - INFO - Update offload durations.\n",
      "2022-06-02 22:56:31,774 - root - INFO - Done\n",
      "2022-06-02 22:56:31,775 - root - INFO - Problem info supplied. Directly proceeding to solve problem.\n",
      "2022-06-02 22:57:05,416 - root - INFO - Done generating routes\n",
      "Number of routes: 10\n",
      "2022-06-02 22:57:05,417 - root - INFO - Preparing scenario outputs...\n"
     ]
    },
    {
     "name": "stderr",
     "output_type": "stream",
     "text": [
      "/Users/ejwillemse/opt/anaconda3/envs/python_RD/lib/python3.8/site-packages/tables/array.py:241: DeprecationWarning:\n",
      "\n",
      "`np.object` is a deprecated alias for the builtin `object`. To silence this warning, use `object` by itself. Doing this will not modify any behavior and is safe. \n",
      "Deprecated in NumPy 1.20; for more details and guidance: https://numpy.org/devdocs/release/1.20.0-notes.html#deprecations\n",
      "\n"
     ]
    },
    {
     "name": "stdout",
     "output_type": "stream",
     "text": [
      "2022-06-02 22:57:14,583 - root - INFO - Done preparing output\n",
      "2022-06-02 22:57:14,584 - kedro.io.data_catalog - INFO - Saving data to `resource_summary_table_20220601` (PartitionedDataSet)...\n"
     ]
    },
    {
     "name": "stderr",
     "output_type": "stream",
     "text": [
      "/Users/ejwillemse/dev/waste_labs_dev/project_rdi_cpt/src/mcarptif/visualise/route_tables.py:146: FutureWarning:\n",
      "\n",
      "The frame.append method is deprecated and will be removed from pandas in a future version. Use pandas.concat instead.\n",
      "\n"
     ]
    },
    {
     "name": "stdout",
     "output_type": "stream",
     "text": [
      "\n",
      "\n",
      " RUNNING SCENARIO households_068\n",
      "2022-06-02 22:57:15,067 - kedro.io.data_catalog - INFO - Loading data from `waste_gen_scenarios_local_20220601` (PartitionedDataSet)...\n",
      "2022-06-02 22:57:15,086 - kedro.io.data_catalog - INFO - Loading data from `routing_parameters` (ExcelDataSet)...\n",
      "2022-06-02 22:57:15,248 - root - INFO - Preparing road network.......\n",
      "\n",
      "2022-06-02 22:57:15,306 - root - INFO - Load required arcs\n",
      "2022-06-02 22:57:15,307 - root - INFO - Merging with the network\n",
      "2022-06-02 22:57:15,332 - root - INFO - Set depot\n",
      "2022-06-02 22:57:15,335 - root - INFO - Set offload facilities\n",
      "2022-06-02 22:57:15,346 - root - INFO - Extend required arcs with inverse edge arcs\n",
      "2022-06-02 22:57:15,442 - root - INFO - Checking master list\n",
      "2022-06-02 22:57:15,449 - root - INFO - Load distance matrix: 8146 x 8146\n"
     ]
    },
    {
     "name": "stderr",
     "output_type": "stream",
     "text": [
      "/Users/ejwillemse/opt/anaconda3/envs/python_RD/lib/python3.8/site-packages/tables/array.py:241: DeprecationWarning:\n",
      "\n",
      "`np.object` is a deprecated alias for the builtin `object`. To silence this warning, use `object` by itself. Doing this will not modify any behavior and is safe. \n",
      "Deprecated in NumPy 1.20; for more details and guidance: https://numpy.org/devdocs/release/1.20.0-notes.html#deprecations\n",
      "\n",
      "/Users/ejwillemse/opt/anaconda3/envs/python_RD/lib/python3.8/site-packages/tables/array.py:241: DeprecationWarning:\n",
      "\n",
      "`np.object` is a deprecated alias for the builtin `object`. To silence this warning, use `object` by itself. Doing this will not modify any behavior and is safe. \n",
      "Deprecated in NumPy 1.20; for more details and guidance: https://numpy.org/devdocs/release/1.20.0-notes.html#deprecations\n",
      "\n",
      "/Users/ejwillemse/opt/anaconda3/envs/python_RD/lib/python3.8/site-packages/tables/leaf.py:544: VisibleDeprecationWarning:\n",
      "\n",
      "Creating an ndarray from ragged nested sequences (which is a list-or-tuple of lists-or-tuples-or ndarrays with different lengths or shapes) is deprecated. If you meant to do this, you must specify 'dtype=object' when creating the ndarray.\n",
      "\n"
     ]
    },
    {
     "name": "stdout",
     "output_type": "stream",
     "text": [
      "2022-06-02 22:57:22,942 - root - INFO - Creating nearest neighbour lists\n",
      "2022-06-02 22:57:26,578 - root - INFO - Calculate offloads: 8146 x 8146 x 2\n",
      "2022-06-02 22:57:37,715 - root - INFO - Done!\n",
      "2022-06-02 22:57:37,794 - root - INFO - Uploading scenario inputs...\n",
      "2022-06-02 22:57:37,828 - root - INFO - Setting service cost for network\n",
      "2022-06-02 22:57:37,841 - root - INFO - Setting demand for network\n",
      "2022-06-02 22:57:37,851 - root - INFO - Update travel durations.\n",
      "2022-06-02 22:57:38,147 - root - INFO - Update offload durations.\n",
      "2022-06-02 22:57:38,598 - root - INFO - Done\n",
      "2022-06-02 22:57:38,599 - root - INFO - Problem info supplied. Directly proceeding to solve problem.\n",
      "2022-06-02 22:58:12,229 - root - INFO - Done generating routes\n",
      "Number of routes: 10\n",
      "2022-06-02 22:58:12,230 - root - INFO - Preparing scenario outputs...\n"
     ]
    },
    {
     "name": "stderr",
     "output_type": "stream",
     "text": [
      "/Users/ejwillemse/opt/anaconda3/envs/python_RD/lib/python3.8/site-packages/tables/array.py:241: DeprecationWarning:\n",
      "\n",
      "`np.object` is a deprecated alias for the builtin `object`. To silence this warning, use `object` by itself. Doing this will not modify any behavior and is safe. \n",
      "Deprecated in NumPy 1.20; for more details and guidance: https://numpy.org/devdocs/release/1.20.0-notes.html#deprecations\n",
      "\n"
     ]
    },
    {
     "name": "stdout",
     "output_type": "stream",
     "text": [
      "2022-06-02 22:58:21,338 - root - INFO - Done preparing output\n",
      "2022-06-02 22:58:21,339 - kedro.io.data_catalog - INFO - Saving data to `resource_summary_table_20220601` (PartitionedDataSet)...\n"
     ]
    },
    {
     "name": "stderr",
     "output_type": "stream",
     "text": [
      "/Users/ejwillemse/dev/waste_labs_dev/project_rdi_cpt/src/mcarptif/visualise/route_tables.py:146: FutureWarning:\n",
      "\n",
      "The frame.append method is deprecated and will be removed from pandas in a future version. Use pandas.concat instead.\n",
      "\n"
     ]
    },
    {
     "name": "stdout",
     "output_type": "stream",
     "text": [
      "\n",
      "\n",
      " RUNNING SCENARIO households_069\n",
      "2022-06-02 22:58:21,821 - kedro.io.data_catalog - INFO - Loading data from `waste_gen_scenarios_local_20220601` (PartitionedDataSet)...\n",
      "2022-06-02 22:58:21,839 - kedro.io.data_catalog - INFO - Loading data from `routing_parameters` (ExcelDataSet)...\n",
      "2022-06-02 22:58:22,013 - root - INFO - Preparing road network.......\n",
      "\n",
      "2022-06-02 22:58:22,081 - root - INFO - Load required arcs\n",
      "2022-06-02 22:58:22,082 - root - INFO - Merging with the network\n",
      "2022-06-02 22:58:22,108 - root - INFO - Set depot\n",
      "2022-06-02 22:58:22,112 - root - INFO - Set offload facilities\n",
      "2022-06-02 22:58:22,122 - root - INFO - Extend required arcs with inverse edge arcs\n",
      "2022-06-02 22:58:22,216 - root - INFO - Checking master list\n",
      "2022-06-02 22:58:22,222 - root - INFO - Load distance matrix: 8144 x 8144\n"
     ]
    },
    {
     "name": "stderr",
     "output_type": "stream",
     "text": [
      "/Users/ejwillemse/opt/anaconda3/envs/python_RD/lib/python3.8/site-packages/tables/array.py:241: DeprecationWarning:\n",
      "\n",
      "`np.object` is a deprecated alias for the builtin `object`. To silence this warning, use `object` by itself. Doing this will not modify any behavior and is safe. \n",
      "Deprecated in NumPy 1.20; for more details and guidance: https://numpy.org/devdocs/release/1.20.0-notes.html#deprecations\n",
      "\n",
      "/Users/ejwillemse/opt/anaconda3/envs/python_RD/lib/python3.8/site-packages/tables/array.py:241: DeprecationWarning:\n",
      "\n",
      "`np.object` is a deprecated alias for the builtin `object`. To silence this warning, use `object` by itself. Doing this will not modify any behavior and is safe. \n",
      "Deprecated in NumPy 1.20; for more details and guidance: https://numpy.org/devdocs/release/1.20.0-notes.html#deprecations\n",
      "\n",
      "/Users/ejwillemse/opt/anaconda3/envs/python_RD/lib/python3.8/site-packages/tables/leaf.py:544: VisibleDeprecationWarning:\n",
      "\n",
      "Creating an ndarray from ragged nested sequences (which is a list-or-tuple of lists-or-tuples-or ndarrays with different lengths or shapes) is deprecated. If you meant to do this, you must specify 'dtype=object' when creating the ndarray.\n",
      "\n"
     ]
    },
    {
     "name": "stdout",
     "output_type": "stream",
     "text": [
      "2022-06-02 22:58:29,450 - root - INFO - Creating nearest neighbour lists\n",
      "2022-06-02 22:58:32,922 - root - INFO - Calculate offloads: 8144 x 8144 x 2\n",
      "2022-06-02 22:58:43,403 - root - INFO - Done!\n",
      "2022-06-02 22:58:43,986 - root - INFO - Uploading scenario inputs...\n",
      "2022-06-02 22:58:44,028 - root - INFO - Setting service cost for network\n",
      "2022-06-02 22:58:44,038 - root - INFO - Setting demand for network\n",
      "2022-06-02 22:58:44,050 - root - INFO - Update travel durations.\n",
      "2022-06-02 22:58:44,434 - root - INFO - Update offload durations.\n",
      "2022-06-02 22:58:44,856 - root - INFO - Done\n",
      "2022-06-02 22:58:44,857 - root - INFO - Problem info supplied. Directly proceeding to solve problem.\n",
      "2022-06-02 22:59:18,694 - root - INFO - Done generating routes\n",
      "Number of routes: 10\n",
      "2022-06-02 22:59:18,696 - root - INFO - Preparing scenario outputs...\n"
     ]
    },
    {
     "name": "stderr",
     "output_type": "stream",
     "text": [
      "/Users/ejwillemse/opt/anaconda3/envs/python_RD/lib/python3.8/site-packages/tables/array.py:241: DeprecationWarning:\n",
      "\n",
      "`np.object` is a deprecated alias for the builtin `object`. To silence this warning, use `object` by itself. Doing this will not modify any behavior and is safe. \n",
      "Deprecated in NumPy 1.20; for more details and guidance: https://numpy.org/devdocs/release/1.20.0-notes.html#deprecations\n",
      "\n"
     ]
    },
    {
     "name": "stdout",
     "output_type": "stream",
     "text": [
      "2022-06-02 22:59:28,215 - root - INFO - Done preparing output\n",
      "2022-06-02 22:59:28,216 - kedro.io.data_catalog - INFO - Saving data to `resource_summary_table_20220601` (PartitionedDataSet)...\n"
     ]
    },
    {
     "name": "stderr",
     "output_type": "stream",
     "text": [
      "/Users/ejwillemse/dev/waste_labs_dev/project_rdi_cpt/src/mcarptif/visualise/route_tables.py:146: FutureWarning:\n",
      "\n",
      "The frame.append method is deprecated and will be removed from pandas in a future version. Use pandas.concat instead.\n",
      "\n"
     ]
    },
    {
     "name": "stdout",
     "output_type": "stream",
     "text": [
      "\n",
      "\n",
      " RUNNING SCENARIO households_070\n",
      "2022-06-02 22:59:28,714 - kedro.io.data_catalog - INFO - Loading data from `waste_gen_scenarios_local_20220601` (PartitionedDataSet)...\n",
      "2022-06-02 22:59:28,731 - kedro.io.data_catalog - INFO - Loading data from `routing_parameters` (ExcelDataSet)...\n",
      "2022-06-02 22:59:28,915 - root - INFO - Preparing road network.......\n",
      "\n",
      "2022-06-02 22:59:28,979 - root - INFO - Load required arcs\n",
      "2022-06-02 22:59:28,981 - root - INFO - Merging with the network\n",
      "2022-06-02 22:59:29,010 - root - INFO - Set depot\n",
      "2022-06-02 22:59:29,014 - root - INFO - Set offload facilities\n",
      "2022-06-02 22:59:29,025 - root - INFO - Extend required arcs with inverse edge arcs\n",
      "2022-06-02 22:59:29,123 - root - INFO - Checking master list\n"
     ]
    },
    {
     "name": "stderr",
     "output_type": "stream",
     "text": [
      "/Users/ejwillemse/opt/anaconda3/envs/python_RD/lib/python3.8/site-packages/tables/array.py:241: DeprecationWarning:\n",
      "\n",
      "`np.object` is a deprecated alias for the builtin `object`. To silence this warning, use `object` by itself. Doing this will not modify any behavior and is safe. \n",
      "Deprecated in NumPy 1.20; for more details and guidance: https://numpy.org/devdocs/release/1.20.0-notes.html#deprecations\n",
      "\n"
     ]
    },
    {
     "name": "stdout",
     "output_type": "stream",
     "text": [
      "2022-06-02 22:59:29,133 - root - INFO - Load distance matrix: 8146 x 8146\n"
     ]
    },
    {
     "name": "stderr",
     "output_type": "stream",
     "text": [
      "/Users/ejwillemse/opt/anaconda3/envs/python_RD/lib/python3.8/site-packages/tables/array.py:241: DeprecationWarning:\n",
      "\n",
      "`np.object` is a deprecated alias for the builtin `object`. To silence this warning, use `object` by itself. Doing this will not modify any behavior and is safe. \n",
      "Deprecated in NumPy 1.20; for more details and guidance: https://numpy.org/devdocs/release/1.20.0-notes.html#deprecations\n",
      "\n",
      "/Users/ejwillemse/opt/anaconda3/envs/python_RD/lib/python3.8/site-packages/tables/leaf.py:544: VisibleDeprecationWarning:\n",
      "\n",
      "Creating an ndarray from ragged nested sequences (which is a list-or-tuple of lists-or-tuples-or ndarrays with different lengths or shapes) is deprecated. If you meant to do this, you must specify 'dtype=object' when creating the ndarray.\n",
      "\n"
     ]
    },
    {
     "name": "stdout",
     "output_type": "stream",
     "text": [
      "2022-06-02 22:59:36,362 - root - INFO - Creating nearest neighbour lists\n",
      "2022-06-02 22:59:39,874 - root - INFO - Calculate offloads: 8146 x 8146 x 2\n",
      "2022-06-02 22:59:48,791 - root - INFO - Done!\n",
      "2022-06-02 22:59:48,835 - root - INFO - Uploading scenario inputs...\n",
      "2022-06-02 22:59:48,857 - root - INFO - Setting service cost for network\n",
      "2022-06-02 22:59:48,881 - root - INFO - Setting demand for network\n",
      "2022-06-02 22:59:48,895 - root - INFO - Update travel durations.\n",
      "2022-06-02 22:59:49,181 - root - INFO - Update offload durations.\n",
      "2022-06-02 22:59:49,605 - root - INFO - Done\n",
      "2022-06-02 22:59:49,606 - root - INFO - Problem info supplied. Directly proceeding to solve problem.\n",
      "2022-06-02 23:00:24,257 - root - INFO - Done generating routes\n",
      "Number of routes: 10\n",
      "2022-06-02 23:00:24,258 - root - INFO - Preparing scenario outputs...\n"
     ]
    },
    {
     "name": "stderr",
     "output_type": "stream",
     "text": [
      "/Users/ejwillemse/opt/anaconda3/envs/python_RD/lib/python3.8/site-packages/tables/array.py:241: DeprecationWarning:\n",
      "\n",
      "`np.object` is a deprecated alias for the builtin `object`. To silence this warning, use `object` by itself. Doing this will not modify any behavior and is safe. \n",
      "Deprecated in NumPy 1.20; for more details and guidance: https://numpy.org/devdocs/release/1.20.0-notes.html#deprecations\n",
      "\n"
     ]
    },
    {
     "name": "stdout",
     "output_type": "stream",
     "text": [
      "2022-06-02 23:00:33,412 - root - INFO - Done preparing output\n",
      "2022-06-02 23:00:33,413 - kedro.io.data_catalog - INFO - Saving data to `resource_summary_table_20220601` (PartitionedDataSet)...\n"
     ]
    },
    {
     "name": "stderr",
     "output_type": "stream",
     "text": [
      "/Users/ejwillemse/dev/waste_labs_dev/project_rdi_cpt/src/mcarptif/visualise/route_tables.py:146: FutureWarning:\n",
      "\n",
      "The frame.append method is deprecated and will be removed from pandas in a future version. Use pandas.concat instead.\n",
      "\n"
     ]
    },
    {
     "name": "stdout",
     "output_type": "stream",
     "text": [
      "\n",
      "\n",
      " RUNNING SCENARIO households_071\n",
      "2022-06-02 23:00:33,901 - kedro.io.data_catalog - INFO - Loading data from `waste_gen_scenarios_local_20220601` (PartitionedDataSet)...\n",
      "2022-06-02 23:00:33,918 - kedro.io.data_catalog - INFO - Loading data from `routing_parameters` (ExcelDataSet)...\n",
      "2022-06-02 23:00:34,124 - root - INFO - Preparing road network.......\n",
      "\n",
      "2022-06-02 23:00:34,195 - root - INFO - Load required arcs\n",
      "2022-06-02 23:00:34,197 - root - INFO - Merging with the network\n",
      "2022-06-02 23:00:34,225 - root - INFO - Set depot\n",
      "2022-06-02 23:00:34,229 - root - INFO - Set offload facilities\n",
      "2022-06-02 23:00:34,240 - root - INFO - Extend required arcs with inverse edge arcs\n",
      "2022-06-02 23:00:34,337 - root - INFO - Checking master list\n"
     ]
    },
    {
     "name": "stderr",
     "output_type": "stream",
     "text": [
      "/Users/ejwillemse/opt/anaconda3/envs/python_RD/lib/python3.8/site-packages/tables/array.py:241: DeprecationWarning:\n",
      "\n",
      "`np.object` is a deprecated alias for the builtin `object`. To silence this warning, use `object` by itself. Doing this will not modify any behavior and is safe. \n",
      "Deprecated in NumPy 1.20; for more details and guidance: https://numpy.org/devdocs/release/1.20.0-notes.html#deprecations\n",
      "\n"
     ]
    },
    {
     "name": "stdout",
     "output_type": "stream",
     "text": [
      "2022-06-02 23:00:34,344 - root - INFO - Load distance matrix: 8139 x 8139\n"
     ]
    },
    {
     "name": "stderr",
     "output_type": "stream",
     "text": [
      "/Users/ejwillemse/opt/anaconda3/envs/python_RD/lib/python3.8/site-packages/tables/array.py:241: DeprecationWarning:\n",
      "\n",
      "`np.object` is a deprecated alias for the builtin `object`. To silence this warning, use `object` by itself. Doing this will not modify any behavior and is safe. \n",
      "Deprecated in NumPy 1.20; for more details and guidance: https://numpy.org/devdocs/release/1.20.0-notes.html#deprecations\n",
      "\n",
      "/Users/ejwillemse/opt/anaconda3/envs/python_RD/lib/python3.8/site-packages/tables/leaf.py:544: VisibleDeprecationWarning:\n",
      "\n",
      "Creating an ndarray from ragged nested sequences (which is a list-or-tuple of lists-or-tuples-or ndarrays with different lengths or shapes) is deprecated. If you meant to do this, you must specify 'dtype=object' when creating the ndarray.\n",
      "\n"
     ]
    },
    {
     "name": "stdout",
     "output_type": "stream",
     "text": [
      "2022-06-02 23:00:41,727 - root - INFO - Creating nearest neighbour lists\n",
      "2022-06-02 23:00:45,457 - root - INFO - Calculate offloads: 8139 x 8139 x 2\n",
      "2022-06-02 23:00:56,628 - root - INFO - Done!\n",
      "2022-06-02 23:00:56,882 - root - INFO - Uploading scenario inputs...\n",
      "2022-06-02 23:00:56,920 - root - INFO - Setting service cost for network\n",
      "2022-06-02 23:00:56,934 - root - INFO - Setting demand for network\n",
      "2022-06-02 23:00:56,944 - root - INFO - Update travel durations.\n",
      "2022-06-02 23:00:57,274 - root - INFO - Update offload durations.\n",
      "2022-06-02 23:00:57,702 - root - INFO - Done\n",
      "2022-06-02 23:00:57,703 - root - INFO - Problem info supplied. Directly proceeding to solve problem.\n",
      "2022-06-02 23:01:32,195 - root - INFO - Done generating routes\n",
      "Number of routes: 10\n",
      "2022-06-02 23:01:32,197 - root - INFO - Preparing scenario outputs...\n"
     ]
    },
    {
     "name": "stderr",
     "output_type": "stream",
     "text": [
      "/Users/ejwillemse/opt/anaconda3/envs/python_RD/lib/python3.8/site-packages/tables/array.py:241: DeprecationWarning:\n",
      "\n",
      "`np.object` is a deprecated alias for the builtin `object`. To silence this warning, use `object` by itself. Doing this will not modify any behavior and is safe. \n",
      "Deprecated in NumPy 1.20; for more details and guidance: https://numpy.org/devdocs/release/1.20.0-notes.html#deprecations\n",
      "\n"
     ]
    },
    {
     "name": "stdout",
     "output_type": "stream",
     "text": [
      "2022-06-02 23:01:41,553 - root - INFO - Done preparing output\n",
      "2022-06-02 23:01:41,554 - kedro.io.data_catalog - INFO - Saving data to `resource_summary_table_20220601` (PartitionedDataSet)...\n"
     ]
    },
    {
     "name": "stderr",
     "output_type": "stream",
     "text": [
      "/Users/ejwillemse/dev/waste_labs_dev/project_rdi_cpt/src/mcarptif/visualise/route_tables.py:146: FutureWarning:\n",
      "\n",
      "The frame.append method is deprecated and will be removed from pandas in a future version. Use pandas.concat instead.\n",
      "\n"
     ]
    },
    {
     "name": "stdout",
     "output_type": "stream",
     "text": [
      "\n",
      "\n",
      " RUNNING SCENARIO households_072\n",
      "2022-06-02 23:01:42,044 - kedro.io.data_catalog - INFO - Loading data from `waste_gen_scenarios_local_20220601` (PartitionedDataSet)...\n",
      "2022-06-02 23:01:42,063 - kedro.io.data_catalog - INFO - Loading data from `routing_parameters` (ExcelDataSet)...\n",
      "2022-06-02 23:01:42,233 - root - INFO - Preparing road network.......\n",
      "\n",
      "2022-06-02 23:01:42,297 - root - INFO - Load required arcs\n",
      "2022-06-02 23:01:42,299 - root - INFO - Merging with the network\n",
      "2022-06-02 23:01:42,328 - root - INFO - Set depot\n",
      "2022-06-02 23:01:42,331 - root - INFO - Set offload facilities\n",
      "2022-06-02 23:01:42,343 - root - INFO - Extend required arcs with inverse edge arcs\n",
      "2022-06-02 23:01:42,429 - root - INFO - Checking master list\n",
      "2022-06-02 23:01:42,435 - root - INFO - Load distance matrix: 8122 x 8122\n"
     ]
    },
    {
     "name": "stderr",
     "output_type": "stream",
     "text": [
      "/Users/ejwillemse/opt/anaconda3/envs/python_RD/lib/python3.8/site-packages/tables/array.py:241: DeprecationWarning:\n",
      "\n",
      "`np.object` is a deprecated alias for the builtin `object`. To silence this warning, use `object` by itself. Doing this will not modify any behavior and is safe. \n",
      "Deprecated in NumPy 1.20; for more details and guidance: https://numpy.org/devdocs/release/1.20.0-notes.html#deprecations\n",
      "\n",
      "/Users/ejwillemse/opt/anaconda3/envs/python_RD/lib/python3.8/site-packages/tables/array.py:241: DeprecationWarning:\n",
      "\n",
      "`np.object` is a deprecated alias for the builtin `object`. To silence this warning, use `object` by itself. Doing this will not modify any behavior and is safe. \n",
      "Deprecated in NumPy 1.20; for more details and guidance: https://numpy.org/devdocs/release/1.20.0-notes.html#deprecations\n",
      "\n",
      "/Users/ejwillemse/opt/anaconda3/envs/python_RD/lib/python3.8/site-packages/tables/leaf.py:544: VisibleDeprecationWarning:\n",
      "\n",
      "Creating an ndarray from ragged nested sequences (which is a list-or-tuple of lists-or-tuples-or ndarrays with different lengths or shapes) is deprecated. If you meant to do this, you must specify 'dtype=object' when creating the ndarray.\n",
      "\n"
     ]
    },
    {
     "name": "stdout",
     "output_type": "stream",
     "text": [
      "2022-06-02 23:01:49,620 - root - INFO - Creating nearest neighbour lists\n",
      "2022-06-02 23:01:53,022 - root - INFO - Calculate offloads: 8122 x 8122 x 2\n",
      "2022-06-02 23:02:01,856 - root - INFO - Done!\n",
      "2022-06-02 23:02:01,933 - root - INFO - Uploading scenario inputs...\n",
      "2022-06-02 23:02:01,956 - root - INFO - Setting service cost for network\n",
      "2022-06-02 23:02:01,968 - root - INFO - Setting demand for network\n",
      "2022-06-02 23:02:01,979 - root - INFO - Update travel durations.\n",
      "2022-06-02 23:02:02,267 - root - INFO - Update offload durations.\n",
      "2022-06-02 23:02:02,676 - root - INFO - Done\n",
      "2022-06-02 23:02:02,678 - root - INFO - Problem info supplied. Directly proceeding to solve problem.\n",
      "2022-06-02 23:02:36,799 - root - INFO - Done generating routes\n",
      "Number of routes: 10\n",
      "2022-06-02 23:02:36,800 - root - INFO - Preparing scenario outputs...\n"
     ]
    },
    {
     "name": "stderr",
     "output_type": "stream",
     "text": [
      "/Users/ejwillemse/opt/anaconda3/envs/python_RD/lib/python3.8/site-packages/tables/array.py:241: DeprecationWarning:\n",
      "\n",
      "`np.object` is a deprecated alias for the builtin `object`. To silence this warning, use `object` by itself. Doing this will not modify any behavior and is safe. \n",
      "Deprecated in NumPy 1.20; for more details and guidance: https://numpy.org/devdocs/release/1.20.0-notes.html#deprecations\n",
      "\n"
     ]
    },
    {
     "name": "stdout",
     "output_type": "stream",
     "text": [
      "2022-06-02 23:02:45,897 - root - INFO - Done preparing output\n",
      "2022-06-02 23:02:45,898 - kedro.io.data_catalog - INFO - Saving data to `resource_summary_table_20220601` (PartitionedDataSet)...\n"
     ]
    },
    {
     "name": "stderr",
     "output_type": "stream",
     "text": [
      "/Users/ejwillemse/dev/waste_labs_dev/project_rdi_cpt/src/mcarptif/visualise/route_tables.py:146: FutureWarning:\n",
      "\n",
      "The frame.append method is deprecated and will be removed from pandas in a future version. Use pandas.concat instead.\n",
      "\n"
     ]
    },
    {
     "name": "stdout",
     "output_type": "stream",
     "text": [
      "\n",
      "\n",
      " RUNNING SCENARIO households_073\n",
      "2022-06-02 23:02:46,375 - kedro.io.data_catalog - INFO - Loading data from `waste_gen_scenarios_local_20220601` (PartitionedDataSet)...\n",
      "2022-06-02 23:02:46,393 - kedro.io.data_catalog - INFO - Loading data from `routing_parameters` (ExcelDataSet)...\n",
      "2022-06-02 23:02:46,549 - root - INFO - Preparing road network.......\n",
      "\n",
      "2022-06-02 23:02:46,606 - root - INFO - Load required arcs\n",
      "2022-06-02 23:02:46,608 - root - INFO - Merging with the network\n",
      "2022-06-02 23:02:46,633 - root - INFO - Set depot\n",
      "2022-06-02 23:02:46,636 - root - INFO - Set offload facilities\n",
      "2022-06-02 23:02:46,647 - root - INFO - Extend required arcs with inverse edge arcs\n",
      "2022-06-02 23:02:46,730 - root - INFO - Checking master list\n",
      "2022-06-02 23:02:46,737 - root - INFO - Load distance matrix: 8127 x 8127\n"
     ]
    },
    {
     "name": "stderr",
     "output_type": "stream",
     "text": [
      "/Users/ejwillemse/opt/anaconda3/envs/python_RD/lib/python3.8/site-packages/tables/array.py:241: DeprecationWarning:\n",
      "\n",
      "`np.object` is a deprecated alias for the builtin `object`. To silence this warning, use `object` by itself. Doing this will not modify any behavior and is safe. \n",
      "Deprecated in NumPy 1.20; for more details and guidance: https://numpy.org/devdocs/release/1.20.0-notes.html#deprecations\n",
      "\n",
      "/Users/ejwillemse/opt/anaconda3/envs/python_RD/lib/python3.8/site-packages/tables/array.py:241: DeprecationWarning:\n",
      "\n",
      "`np.object` is a deprecated alias for the builtin `object`. To silence this warning, use `object` by itself. Doing this will not modify any behavior and is safe. \n",
      "Deprecated in NumPy 1.20; for more details and guidance: https://numpy.org/devdocs/release/1.20.0-notes.html#deprecations\n",
      "\n",
      "/Users/ejwillemse/opt/anaconda3/envs/python_RD/lib/python3.8/site-packages/tables/leaf.py:544: VisibleDeprecationWarning:\n",
      "\n",
      "Creating an ndarray from ragged nested sequences (which is a list-or-tuple of lists-or-tuples-or ndarrays with different lengths or shapes) is deprecated. If you meant to do this, you must specify 'dtype=object' when creating the ndarray.\n",
      "\n"
     ]
    },
    {
     "name": "stdout",
     "output_type": "stream",
     "text": [
      "2022-06-02 23:02:53,391 - root - INFO - Creating nearest neighbour lists\n",
      "2022-06-02 23:02:56,909 - root - INFO - Calculate offloads: 8127 x 8127 x 2\n",
      "2022-06-02 23:03:05,579 - root - INFO - Done!\n",
      "2022-06-02 23:03:05,647 - root - INFO - Uploading scenario inputs...\n",
      "2022-06-02 23:03:05,675 - root - INFO - Setting service cost for network\n",
      "2022-06-02 23:03:05,685 - root - INFO - Setting demand for network\n",
      "2022-06-02 23:03:05,697 - root - INFO - Update travel durations.\n",
      "2022-06-02 23:03:05,992 - root - INFO - Update offload durations.\n",
      "2022-06-02 23:03:06,415 - root - INFO - Done\n",
      "2022-06-02 23:03:06,416 - root - INFO - Problem info supplied. Directly proceeding to solve problem.\n",
      "2022-06-02 23:03:41,176 - root - INFO - Done generating routes\n",
      "Number of routes: 10\n",
      "2022-06-02 23:03:41,177 - root - INFO - Preparing scenario outputs...\n"
     ]
    },
    {
     "name": "stderr",
     "output_type": "stream",
     "text": [
      "/Users/ejwillemse/opt/anaconda3/envs/python_RD/lib/python3.8/site-packages/tables/array.py:241: DeprecationWarning:\n",
      "\n",
      "`np.object` is a deprecated alias for the builtin `object`. To silence this warning, use `object` by itself. Doing this will not modify any behavior and is safe. \n",
      "Deprecated in NumPy 1.20; for more details and guidance: https://numpy.org/devdocs/release/1.20.0-notes.html#deprecations\n",
      "\n"
     ]
    },
    {
     "name": "stdout",
     "output_type": "stream",
     "text": [
      "2022-06-02 23:03:50,247 - root - INFO - Done preparing output\n",
      "2022-06-02 23:03:50,248 - kedro.io.data_catalog - INFO - Saving data to `resource_summary_table_20220601` (PartitionedDataSet)...\n"
     ]
    },
    {
     "name": "stderr",
     "output_type": "stream",
     "text": [
      "/Users/ejwillemse/dev/waste_labs_dev/project_rdi_cpt/src/mcarptif/visualise/route_tables.py:146: FutureWarning:\n",
      "\n",
      "The frame.append method is deprecated and will be removed from pandas in a future version. Use pandas.concat instead.\n",
      "\n"
     ]
    },
    {
     "name": "stdout",
     "output_type": "stream",
     "text": [
      "\n",
      "\n",
      " RUNNING SCENARIO households_074\n",
      "2022-06-02 23:03:50,712 - kedro.io.data_catalog - INFO - Loading data from `waste_gen_scenarios_local_20220601` (PartitionedDataSet)...\n",
      "2022-06-02 23:03:50,729 - kedro.io.data_catalog - INFO - Loading data from `routing_parameters` (ExcelDataSet)...\n",
      "2022-06-02 23:03:50,905 - root - INFO - Preparing road network.......\n",
      "\n",
      "2022-06-02 23:03:50,972 - root - INFO - Load required arcs\n",
      "2022-06-02 23:03:50,974 - root - INFO - Merging with the network\n",
      "2022-06-02 23:03:51,002 - root - INFO - Set depot\n",
      "2022-06-02 23:03:51,005 - root - INFO - Set offload facilities\n",
      "2022-06-02 23:03:51,018 - root - INFO - Extend required arcs with inverse edge arcs\n",
      "2022-06-02 23:03:51,111 - root - INFO - Checking master list\n"
     ]
    },
    {
     "name": "stderr",
     "output_type": "stream",
     "text": [
      "/Users/ejwillemse/opt/anaconda3/envs/python_RD/lib/python3.8/site-packages/tables/array.py:241: DeprecationWarning:\n",
      "\n",
      "`np.object` is a deprecated alias for the builtin `object`. To silence this warning, use `object` by itself. Doing this will not modify any behavior and is safe. \n",
      "Deprecated in NumPy 1.20; for more details and guidance: https://numpy.org/devdocs/release/1.20.0-notes.html#deprecations\n",
      "\n"
     ]
    },
    {
     "name": "stdout",
     "output_type": "stream",
     "text": [
      "2022-06-02 23:03:51,118 - root - INFO - Load distance matrix: 8121 x 8121\n"
     ]
    },
    {
     "name": "stderr",
     "output_type": "stream",
     "text": [
      "/Users/ejwillemse/opt/anaconda3/envs/python_RD/lib/python3.8/site-packages/tables/array.py:241: DeprecationWarning:\n",
      "\n",
      "`np.object` is a deprecated alias for the builtin `object`. To silence this warning, use `object` by itself. Doing this will not modify any behavior and is safe. \n",
      "Deprecated in NumPy 1.20; for more details and guidance: https://numpy.org/devdocs/release/1.20.0-notes.html#deprecations\n",
      "\n",
      "/Users/ejwillemse/opt/anaconda3/envs/python_RD/lib/python3.8/site-packages/tables/leaf.py:544: VisibleDeprecationWarning:\n",
      "\n",
      "Creating an ndarray from ragged nested sequences (which is a list-or-tuple of lists-or-tuples-or ndarrays with different lengths or shapes) is deprecated. If you meant to do this, you must specify 'dtype=object' when creating the ndarray.\n",
      "\n"
     ]
    },
    {
     "name": "stdout",
     "output_type": "stream",
     "text": [
      "2022-06-02 23:03:57,816 - root - INFO - Creating nearest neighbour lists\n",
      "2022-06-02 23:04:01,290 - root - INFO - Calculate offloads: 8121 x 8121 x 2\n",
      "2022-06-02 23:04:09,806 - root - INFO - Done!\n",
      "2022-06-02 23:04:09,850 - root - INFO - Uploading scenario inputs...\n",
      "2022-06-02 23:04:09,874 - root - INFO - Setting service cost for network\n",
      "2022-06-02 23:04:09,884 - root - INFO - Setting demand for network\n",
      "2022-06-02 23:04:09,893 - root - INFO - Update travel durations.\n",
      "2022-06-02 23:04:10,181 - root - INFO - Update offload durations.\n",
      "2022-06-02 23:04:10,588 - root - INFO - Done\n",
      "2022-06-02 23:04:10,589 - root - INFO - Problem info supplied. Directly proceeding to solve problem.\n",
      "2022-06-02 23:04:43,641 - root - INFO - Done generating routes\n",
      "Number of routes: 10\n",
      "2022-06-02 23:04:43,643 - root - INFO - Preparing scenario outputs...\n"
     ]
    },
    {
     "name": "stderr",
     "output_type": "stream",
     "text": [
      "/Users/ejwillemse/opt/anaconda3/envs/python_RD/lib/python3.8/site-packages/tables/array.py:241: DeprecationWarning:\n",
      "\n",
      "`np.object` is a deprecated alias for the builtin `object`. To silence this warning, use `object` by itself. Doing this will not modify any behavior and is safe. \n",
      "Deprecated in NumPy 1.20; for more details and guidance: https://numpy.org/devdocs/release/1.20.0-notes.html#deprecations\n",
      "\n"
     ]
    },
    {
     "name": "stdout",
     "output_type": "stream",
     "text": [
      "2022-06-02 23:04:52,962 - root - INFO - Done preparing output\n",
      "2022-06-02 23:04:52,963 - kedro.io.data_catalog - INFO - Saving data to `resource_summary_table_20220601` (PartitionedDataSet)...\n"
     ]
    },
    {
     "name": "stderr",
     "output_type": "stream",
     "text": [
      "/Users/ejwillemse/dev/waste_labs_dev/project_rdi_cpt/src/mcarptif/visualise/route_tables.py:146: FutureWarning:\n",
      "\n",
      "The frame.append method is deprecated and will be removed from pandas in a future version. Use pandas.concat instead.\n",
      "\n"
     ]
    },
    {
     "name": "stdout",
     "output_type": "stream",
     "text": [
      "\n",
      "\n",
      " RUNNING SCENARIO households_075\n",
      "2022-06-02 23:04:53,430 - kedro.io.data_catalog - INFO - Loading data from `waste_gen_scenarios_local_20220601` (PartitionedDataSet)...\n",
      "2022-06-02 23:04:53,447 - kedro.io.data_catalog - INFO - Loading data from `routing_parameters` (ExcelDataSet)...\n",
      "2022-06-02 23:04:53,606 - root - INFO - Preparing road network.......\n",
      "\n",
      "2022-06-02 23:04:53,664 - root - INFO - Load required arcs\n",
      "2022-06-02 23:04:53,666 - root - INFO - Merging with the network\n",
      "2022-06-02 23:04:53,688 - root - INFO - Set depot\n",
      "2022-06-02 23:04:53,692 - root - INFO - Set offload facilities\n",
      "2022-06-02 23:04:53,704 - root - INFO - Extend required arcs with inverse edge arcs\n",
      "2022-06-02 23:04:53,788 - root - INFO - Checking master list\n",
      "2022-06-02 23:04:53,795 - root - INFO - Load distance matrix: 8165 x 8165\n"
     ]
    },
    {
     "name": "stderr",
     "output_type": "stream",
     "text": [
      "/Users/ejwillemse/opt/anaconda3/envs/python_RD/lib/python3.8/site-packages/tables/array.py:241: DeprecationWarning:\n",
      "\n",
      "`np.object` is a deprecated alias for the builtin `object`. To silence this warning, use `object` by itself. Doing this will not modify any behavior and is safe. \n",
      "Deprecated in NumPy 1.20; for more details and guidance: https://numpy.org/devdocs/release/1.20.0-notes.html#deprecations\n",
      "\n",
      "/Users/ejwillemse/opt/anaconda3/envs/python_RD/lib/python3.8/site-packages/tables/array.py:241: DeprecationWarning:\n",
      "\n",
      "`np.object` is a deprecated alias for the builtin `object`. To silence this warning, use `object` by itself. Doing this will not modify any behavior and is safe. \n",
      "Deprecated in NumPy 1.20; for more details and guidance: https://numpy.org/devdocs/release/1.20.0-notes.html#deprecations\n",
      "\n",
      "/Users/ejwillemse/opt/anaconda3/envs/python_RD/lib/python3.8/site-packages/tables/leaf.py:544: VisibleDeprecationWarning:\n",
      "\n",
      "Creating an ndarray from ragged nested sequences (which is a list-or-tuple of lists-or-tuples-or ndarrays with different lengths or shapes) is deprecated. If you meant to do this, you must specify 'dtype=object' when creating the ndarray.\n",
      "\n"
     ]
    },
    {
     "name": "stdout",
     "output_type": "stream",
     "text": [
      "2022-06-02 23:05:01,152 - root - INFO - Creating nearest neighbour lists\n",
      "2022-06-02 23:05:04,658 - root - INFO - Calculate offloads: 8165 x 8165 x 2\n",
      "2022-06-02 23:05:15,199 - root - INFO - Done!\n",
      "2022-06-02 23:05:15,244 - root - INFO - Uploading scenario inputs...\n",
      "2022-06-02 23:05:15,269 - root - INFO - Setting service cost for network\n",
      "2022-06-02 23:05:15,281 - root - INFO - Setting demand for network\n",
      "2022-06-02 23:05:15,291 - root - INFO - Update travel durations.\n",
      "2022-06-02 23:05:15,584 - root - INFO - Update offload durations.\n",
      "2022-06-02 23:05:15,998 - root - INFO - Done\n",
      "2022-06-02 23:05:15,999 - root - INFO - Problem info supplied. Directly proceeding to solve problem.\n",
      "2022-06-02 23:05:50,184 - root - INFO - Done generating routes\n",
      "Number of routes: 10\n",
      "2022-06-02 23:05:50,186 - root - INFO - Preparing scenario outputs...\n"
     ]
    },
    {
     "name": "stderr",
     "output_type": "stream",
     "text": [
      "/Users/ejwillemse/opt/anaconda3/envs/python_RD/lib/python3.8/site-packages/tables/array.py:241: DeprecationWarning:\n",
      "\n",
      "`np.object` is a deprecated alias for the builtin `object`. To silence this warning, use `object` by itself. Doing this will not modify any behavior and is safe. \n",
      "Deprecated in NumPy 1.20; for more details and guidance: https://numpy.org/devdocs/release/1.20.0-notes.html#deprecations\n",
      "\n"
     ]
    },
    {
     "name": "stdout",
     "output_type": "stream",
     "text": [
      "2022-06-02 23:05:59,173 - root - INFO - Done preparing output\n",
      "2022-06-02 23:05:59,174 - kedro.io.data_catalog - INFO - Saving data to `resource_summary_table_20220601` (PartitionedDataSet)...\n"
     ]
    },
    {
     "name": "stderr",
     "output_type": "stream",
     "text": [
      "/Users/ejwillemse/dev/waste_labs_dev/project_rdi_cpt/src/mcarptif/visualise/route_tables.py:146: FutureWarning:\n",
      "\n",
      "The frame.append method is deprecated and will be removed from pandas in a future version. Use pandas.concat instead.\n",
      "\n"
     ]
    },
    {
     "name": "stdout",
     "output_type": "stream",
     "text": [
      "\n",
      "\n",
      " RUNNING SCENARIO households_076\n",
      "2022-06-02 23:05:59,670 - kedro.io.data_catalog - INFO - Loading data from `waste_gen_scenarios_local_20220601` (PartitionedDataSet)...\n",
      "2022-06-02 23:05:59,692 - kedro.io.data_catalog - INFO - Loading data from `routing_parameters` (ExcelDataSet)...\n",
      "2022-06-02 23:05:59,863 - root - INFO - Preparing road network.......\n",
      "\n",
      "2022-06-02 23:05:59,925 - root - INFO - Load required arcs\n",
      "2022-06-02 23:05:59,926 - root - INFO - Merging with the network\n",
      "2022-06-02 23:05:59,955 - root - INFO - Set depot\n",
      "2022-06-02 23:05:59,958 - root - INFO - Set offload facilities\n",
      "2022-06-02 23:05:59,970 - root - INFO - Extend required arcs with inverse edge arcs\n",
      "2022-06-02 23:06:00,070 - root - INFO - Checking master list\n"
     ]
    },
    {
     "name": "stderr",
     "output_type": "stream",
     "text": [
      "/Users/ejwillemse/opt/anaconda3/envs/python_RD/lib/python3.8/site-packages/tables/array.py:241: DeprecationWarning:\n",
      "\n",
      "`np.object` is a deprecated alias for the builtin `object`. To silence this warning, use `object` by itself. Doing this will not modify any behavior and is safe. \n",
      "Deprecated in NumPy 1.20; for more details and guidance: https://numpy.org/devdocs/release/1.20.0-notes.html#deprecations\n",
      "\n"
     ]
    },
    {
     "name": "stdout",
     "output_type": "stream",
     "text": [
      "2022-06-02 23:06:00,076 - root - INFO - Load distance matrix: 8125 x 8125\n"
     ]
    },
    {
     "name": "stderr",
     "output_type": "stream",
     "text": [
      "/Users/ejwillemse/opt/anaconda3/envs/python_RD/lib/python3.8/site-packages/tables/array.py:241: DeprecationWarning:\n",
      "\n",
      "`np.object` is a deprecated alias for the builtin `object`. To silence this warning, use `object` by itself. Doing this will not modify any behavior and is safe. \n",
      "Deprecated in NumPy 1.20; for more details and guidance: https://numpy.org/devdocs/release/1.20.0-notes.html#deprecations\n",
      "\n",
      "/Users/ejwillemse/opt/anaconda3/envs/python_RD/lib/python3.8/site-packages/tables/leaf.py:544: VisibleDeprecationWarning:\n",
      "\n",
      "Creating an ndarray from ragged nested sequences (which is a list-or-tuple of lists-or-tuples-or ndarrays with different lengths or shapes) is deprecated. If you meant to do this, you must specify 'dtype=object' when creating the ndarray.\n",
      "\n"
     ]
    },
    {
     "name": "stdout",
     "output_type": "stream",
     "text": [
      "2022-06-02 23:06:07,291 - root - INFO - Creating nearest neighbour lists\n",
      "2022-06-02 23:06:10,806 - root - INFO - Calculate offloads: 8125 x 8125 x 2\n",
      "2022-06-02 23:06:19,733 - root - INFO - Done!\n",
      "2022-06-02 23:06:19,853 - root - INFO - Uploading scenario inputs...\n",
      "2022-06-02 23:06:19,892 - root - INFO - Setting service cost for network\n",
      "2022-06-02 23:06:19,905 - root - INFO - Setting demand for network\n",
      "2022-06-02 23:06:19,916 - root - INFO - Update travel durations.\n",
      "2022-06-02 23:06:20,203 - root - INFO - Update offload durations.\n",
      "2022-06-02 23:06:20,627 - root - INFO - Done\n",
      "2022-06-02 23:06:20,628 - root - INFO - Problem info supplied. Directly proceeding to solve problem.\n",
      "2022-06-02 23:06:54,659 - root - INFO - Done generating routes\n",
      "Number of routes: 10\n",
      "2022-06-02 23:06:54,662 - root - INFO - Preparing scenario outputs...\n"
     ]
    },
    {
     "name": "stderr",
     "output_type": "stream",
     "text": [
      "/Users/ejwillemse/opt/anaconda3/envs/python_RD/lib/python3.8/site-packages/tables/array.py:241: DeprecationWarning:\n",
      "\n",
      "`np.object` is a deprecated alias for the builtin `object`. To silence this warning, use `object` by itself. Doing this will not modify any behavior and is safe. \n",
      "Deprecated in NumPy 1.20; for more details and guidance: https://numpy.org/devdocs/release/1.20.0-notes.html#deprecations\n",
      "\n"
     ]
    },
    {
     "name": "stdout",
     "output_type": "stream",
     "text": [
      "2022-06-02 23:07:03,809 - root - INFO - Done preparing output\n",
      "2022-06-02 23:07:03,810 - kedro.io.data_catalog - INFO - Saving data to `resource_summary_table_20220601` (PartitionedDataSet)...\n"
     ]
    },
    {
     "name": "stderr",
     "output_type": "stream",
     "text": [
      "/Users/ejwillemse/dev/waste_labs_dev/project_rdi_cpt/src/mcarptif/visualise/route_tables.py:146: FutureWarning:\n",
      "\n",
      "The frame.append method is deprecated and will be removed from pandas in a future version. Use pandas.concat instead.\n",
      "\n"
     ]
    },
    {
     "name": "stdout",
     "output_type": "stream",
     "text": [
      "\n",
      "\n",
      " RUNNING SCENARIO households_077\n",
      "2022-06-02 23:07:04,316 - kedro.io.data_catalog - INFO - Loading data from `waste_gen_scenarios_local_20220601` (PartitionedDataSet)...\n",
      "2022-06-02 23:07:04,336 - kedro.io.data_catalog - INFO - Loading data from `routing_parameters` (ExcelDataSet)...\n",
      "2022-06-02 23:07:04,508 - root - INFO - Preparing road network.......\n",
      "\n",
      "2022-06-02 23:07:04,574 - root - INFO - Load required arcs\n",
      "2022-06-02 23:07:04,575 - root - INFO - Merging with the network\n",
      "2022-06-02 23:07:04,598 - root - INFO - Set depot\n",
      "2022-06-02 23:07:04,601 - root - INFO - Set offload facilities\n",
      "2022-06-02 23:07:04,612 - root - INFO - Extend required arcs with inverse edge arcs\n",
      "2022-06-02 23:07:04,703 - root - INFO - Checking master list\n",
      "2022-06-02 23:07:04,709 - root - INFO - Load distance matrix: 8126 x 8126\n"
     ]
    },
    {
     "name": "stderr",
     "output_type": "stream",
     "text": [
      "/Users/ejwillemse/opt/anaconda3/envs/python_RD/lib/python3.8/site-packages/tables/array.py:241: DeprecationWarning:\n",
      "\n",
      "`np.object` is a deprecated alias for the builtin `object`. To silence this warning, use `object` by itself. Doing this will not modify any behavior and is safe. \n",
      "Deprecated in NumPy 1.20; for more details and guidance: https://numpy.org/devdocs/release/1.20.0-notes.html#deprecations\n",
      "\n",
      "/Users/ejwillemse/opt/anaconda3/envs/python_RD/lib/python3.8/site-packages/tables/array.py:241: DeprecationWarning:\n",
      "\n",
      "`np.object` is a deprecated alias for the builtin `object`. To silence this warning, use `object` by itself. Doing this will not modify any behavior and is safe. \n",
      "Deprecated in NumPy 1.20; for more details and guidance: https://numpy.org/devdocs/release/1.20.0-notes.html#deprecations\n",
      "\n",
      "/Users/ejwillemse/opt/anaconda3/envs/python_RD/lib/python3.8/site-packages/tables/leaf.py:544: VisibleDeprecationWarning:\n",
      "\n",
      "Creating an ndarray from ragged nested sequences (which is a list-or-tuple of lists-or-tuples-or ndarrays with different lengths or shapes) is deprecated. If you meant to do this, you must specify 'dtype=object' when creating the ndarray.\n",
      "\n"
     ]
    },
    {
     "name": "stdout",
     "output_type": "stream",
     "text": [
      "2022-06-02 23:07:11,103 - root - INFO - Creating nearest neighbour lists\n",
      "2022-06-02 23:07:14,565 - root - INFO - Calculate offloads: 8126 x 8126 x 2\n",
      "2022-06-02 23:07:23,023 - root - INFO - Done!\n",
      "2022-06-02 23:07:23,074 - root - INFO - Uploading scenario inputs...\n",
      "2022-06-02 23:07:23,099 - root - INFO - Setting service cost for network\n",
      "2022-06-02 23:07:23,111 - root - INFO - Setting demand for network\n",
      "2022-06-02 23:07:23,121 - root - INFO - Update travel durations.\n",
      "2022-06-02 23:07:23,427 - root - INFO - Update offload durations.\n",
      "2022-06-02 23:07:23,859 - root - INFO - Done\n",
      "2022-06-02 23:07:23,886 - root - INFO - Problem info supplied. Directly proceeding to solve problem.\n",
      "2022-06-02 23:07:58,199 - root - INFO - Done generating routes\n",
      "Number of routes: 10\n",
      "2022-06-02 23:07:58,200 - root - INFO - Preparing scenario outputs...\n"
     ]
    },
    {
     "name": "stderr",
     "output_type": "stream",
     "text": [
      "/Users/ejwillemse/opt/anaconda3/envs/python_RD/lib/python3.8/site-packages/tables/array.py:241: DeprecationWarning:\n",
      "\n",
      "`np.object` is a deprecated alias for the builtin `object`. To silence this warning, use `object` by itself. Doing this will not modify any behavior and is safe. \n",
      "Deprecated in NumPy 1.20; for more details and guidance: https://numpy.org/devdocs/release/1.20.0-notes.html#deprecations\n",
      "\n"
     ]
    },
    {
     "name": "stdout",
     "output_type": "stream",
     "text": [
      "2022-06-02 23:08:07,719 - root - INFO - Done preparing output\n",
      "2022-06-02 23:08:07,720 - kedro.io.data_catalog - INFO - Saving data to `resource_summary_table_20220601` (PartitionedDataSet)...\n"
     ]
    },
    {
     "name": "stderr",
     "output_type": "stream",
     "text": [
      "/Users/ejwillemse/dev/waste_labs_dev/project_rdi_cpt/src/mcarptif/visualise/route_tables.py:146: FutureWarning:\n",
      "\n",
      "The frame.append method is deprecated and will be removed from pandas in a future version. Use pandas.concat instead.\n",
      "\n"
     ]
    },
    {
     "name": "stdout",
     "output_type": "stream",
     "text": [
      "\n",
      "\n",
      " RUNNING SCENARIO households_078\n",
      "2022-06-02 23:08:08,223 - kedro.io.data_catalog - INFO - Loading data from `waste_gen_scenarios_local_20220601` (PartitionedDataSet)...\n",
      "2022-06-02 23:08:08,242 - kedro.io.data_catalog - INFO - Loading data from `routing_parameters` (ExcelDataSet)...\n",
      "2022-06-02 23:08:08,430 - root - INFO - Preparing road network.......\n",
      "\n",
      "2022-06-02 23:08:08,493 - root - INFO - Load required arcs\n",
      "2022-06-02 23:08:08,494 - root - INFO - Merging with the network\n",
      "2022-06-02 23:08:08,520 - root - INFO - Set depot\n",
      "2022-06-02 23:08:08,523 - root - INFO - Set offload facilities\n",
      "2022-06-02 23:08:08,535 - root - INFO - Extend required arcs with inverse edge arcs\n",
      "2022-06-02 23:08:08,622 - root - INFO - Checking master list\n",
      "2022-06-02 23:08:08,629 - root - INFO - Load distance matrix: 8128 x 8128\n"
     ]
    },
    {
     "name": "stderr",
     "output_type": "stream",
     "text": [
      "/Users/ejwillemse/opt/anaconda3/envs/python_RD/lib/python3.8/site-packages/tables/array.py:241: DeprecationWarning:\n",
      "\n",
      "`np.object` is a deprecated alias for the builtin `object`. To silence this warning, use `object` by itself. Doing this will not modify any behavior and is safe. \n",
      "Deprecated in NumPy 1.20; for more details and guidance: https://numpy.org/devdocs/release/1.20.0-notes.html#deprecations\n",
      "\n",
      "/Users/ejwillemse/opt/anaconda3/envs/python_RD/lib/python3.8/site-packages/tables/array.py:241: DeprecationWarning:\n",
      "\n",
      "`np.object` is a deprecated alias for the builtin `object`. To silence this warning, use `object` by itself. Doing this will not modify any behavior and is safe. \n",
      "Deprecated in NumPy 1.20; for more details and guidance: https://numpy.org/devdocs/release/1.20.0-notes.html#deprecations\n",
      "\n",
      "/Users/ejwillemse/opt/anaconda3/envs/python_RD/lib/python3.8/site-packages/tables/leaf.py:544: VisibleDeprecationWarning:\n",
      "\n",
      "Creating an ndarray from ragged nested sequences (which is a list-or-tuple of lists-or-tuples-or ndarrays with different lengths or shapes) is deprecated. If you meant to do this, you must specify 'dtype=object' when creating the ndarray.\n",
      "\n"
     ]
    },
    {
     "name": "stdout",
     "output_type": "stream",
     "text": [
      "2022-06-02 23:08:15,655 - root - INFO - Creating nearest neighbour lists\n",
      "2022-06-02 23:08:19,246 - root - INFO - Calculate offloads: 8128 x 8128 x 2\n",
      "2022-06-02 23:08:28,560 - root - INFO - Done!\n",
      "2022-06-02 23:08:28,604 - root - INFO - Uploading scenario inputs...\n",
      "2022-06-02 23:08:28,627 - root - INFO - Setting service cost for network\n",
      "2022-06-02 23:08:28,638 - root - INFO - Setting demand for network\n",
      "2022-06-02 23:08:28,649 - root - INFO - Update travel durations.\n",
      "2022-06-02 23:08:28,926 - root - INFO - Update offload durations.\n",
      "2022-06-02 23:08:29,373 - root - INFO - Done\n",
      "2022-06-02 23:08:29,374 - root - INFO - Problem info supplied. Directly proceeding to solve problem.\n",
      "2022-06-02 23:09:03,388 - root - INFO - Done generating routes\n",
      "Number of routes: 10\n",
      "2022-06-02 23:09:03,389 - root - INFO - Preparing scenario outputs...\n"
     ]
    },
    {
     "name": "stderr",
     "output_type": "stream",
     "text": [
      "/Users/ejwillemse/opt/anaconda3/envs/python_RD/lib/python3.8/site-packages/tables/array.py:241: DeprecationWarning:\n",
      "\n",
      "`np.object` is a deprecated alias for the builtin `object`. To silence this warning, use `object` by itself. Doing this will not modify any behavior and is safe. \n",
      "Deprecated in NumPy 1.20; for more details and guidance: https://numpy.org/devdocs/release/1.20.0-notes.html#deprecations\n",
      "\n"
     ]
    },
    {
     "name": "stdout",
     "output_type": "stream",
     "text": [
      "2022-06-02 23:09:12,372 - root - INFO - Done preparing output\n",
      "2022-06-02 23:09:12,373 - kedro.io.data_catalog - INFO - Saving data to `resource_summary_table_20220601` (PartitionedDataSet)...\n"
     ]
    },
    {
     "name": "stderr",
     "output_type": "stream",
     "text": [
      "/Users/ejwillemse/dev/waste_labs_dev/project_rdi_cpt/src/mcarptif/visualise/route_tables.py:146: FutureWarning:\n",
      "\n",
      "The frame.append method is deprecated and will be removed from pandas in a future version. Use pandas.concat instead.\n",
      "\n"
     ]
    },
    {
     "name": "stdout",
     "output_type": "stream",
     "text": [
      "\n",
      "\n",
      " RUNNING SCENARIO households_079\n",
      "2022-06-02 23:09:12,846 - kedro.io.data_catalog - INFO - Loading data from `waste_gen_scenarios_local_20220601` (PartitionedDataSet)...\n",
      "2022-06-02 23:09:12,863 - kedro.io.data_catalog - INFO - Loading data from `routing_parameters` (ExcelDataSet)...\n",
      "2022-06-02 23:09:13,019 - root - INFO - Preparing road network.......\n",
      "\n",
      "2022-06-02 23:09:13,080 - root - INFO - Load required arcs\n",
      "2022-06-02 23:09:13,081 - root - INFO - Merging with the network\n",
      "2022-06-02 23:09:13,108 - root - INFO - Set depot\n",
      "2022-06-02 23:09:13,112 - root - INFO - Set offload facilities\n",
      "2022-06-02 23:09:13,124 - root - INFO - Extend required arcs with inverse edge arcs\n",
      "2022-06-02 23:09:13,210 - root - INFO - Checking master list\n",
      "2022-06-02 23:09:13,216 - root - INFO - Load distance matrix: 8130 x 8130\n"
     ]
    },
    {
     "name": "stderr",
     "output_type": "stream",
     "text": [
      "/Users/ejwillemse/opt/anaconda3/envs/python_RD/lib/python3.8/site-packages/tables/array.py:241: DeprecationWarning:\n",
      "\n",
      "`np.object` is a deprecated alias for the builtin `object`. To silence this warning, use `object` by itself. Doing this will not modify any behavior and is safe. \n",
      "Deprecated in NumPy 1.20; for more details and guidance: https://numpy.org/devdocs/release/1.20.0-notes.html#deprecations\n",
      "\n",
      "/Users/ejwillemse/opt/anaconda3/envs/python_RD/lib/python3.8/site-packages/tables/array.py:241: DeprecationWarning:\n",
      "\n",
      "`np.object` is a deprecated alias for the builtin `object`. To silence this warning, use `object` by itself. Doing this will not modify any behavior and is safe. \n",
      "Deprecated in NumPy 1.20; for more details and guidance: https://numpy.org/devdocs/release/1.20.0-notes.html#deprecations\n",
      "\n",
      "/Users/ejwillemse/opt/anaconda3/envs/python_RD/lib/python3.8/site-packages/tables/leaf.py:544: VisibleDeprecationWarning:\n",
      "\n",
      "Creating an ndarray from ragged nested sequences (which is a list-or-tuple of lists-or-tuples-or ndarrays with different lengths or shapes) is deprecated. If you meant to do this, you must specify 'dtype=object' when creating the ndarray.\n",
      "\n"
     ]
    },
    {
     "name": "stdout",
     "output_type": "stream",
     "text": [
      "2022-06-02 23:09:19,849 - root - INFO - Creating nearest neighbour lists\n",
      "2022-06-02 23:09:23,380 - root - INFO - Calculate offloads: 8130 x 8130 x 2\n",
      "2022-06-02 23:09:31,544 - root - INFO - Done!\n",
      "2022-06-02 23:09:31,586 - root - INFO - Uploading scenario inputs...\n",
      "2022-06-02 23:09:31,612 - root - INFO - Setting service cost for network\n",
      "2022-06-02 23:09:31,622 - root - INFO - Setting demand for network\n",
      "2022-06-02 23:09:31,633 - root - INFO - Update travel durations.\n",
      "2022-06-02 23:09:31,920 - root - INFO - Update offload durations.\n",
      "2022-06-02 23:09:32,334 - root - INFO - Done\n",
      "2022-06-02 23:09:32,335 - root - INFO - Problem info supplied. Directly proceeding to solve problem.\n",
      "2022-06-02 23:10:07,093 - root - INFO - Done generating routes\n",
      "Number of routes: 10\n",
      "2022-06-02 23:10:07,094 - root - INFO - Preparing scenario outputs...\n"
     ]
    },
    {
     "name": "stderr",
     "output_type": "stream",
     "text": [
      "/Users/ejwillemse/opt/anaconda3/envs/python_RD/lib/python3.8/site-packages/tables/array.py:241: DeprecationWarning:\n",
      "\n",
      "`np.object` is a deprecated alias for the builtin `object`. To silence this warning, use `object` by itself. Doing this will not modify any behavior and is safe. \n",
      "Deprecated in NumPy 1.20; for more details and guidance: https://numpy.org/devdocs/release/1.20.0-notes.html#deprecations\n",
      "\n"
     ]
    },
    {
     "name": "stdout",
     "output_type": "stream",
     "text": [
      "2022-06-02 23:10:16,712 - root - INFO - Done preparing output\n",
      "2022-06-02 23:10:16,713 - kedro.io.data_catalog - INFO - Saving data to `resource_summary_table_20220601` (PartitionedDataSet)...\n"
     ]
    },
    {
     "name": "stderr",
     "output_type": "stream",
     "text": [
      "/Users/ejwillemse/dev/waste_labs_dev/project_rdi_cpt/src/mcarptif/visualise/route_tables.py:146: FutureWarning:\n",
      "\n",
      "The frame.append method is deprecated and will be removed from pandas in a future version. Use pandas.concat instead.\n",
      "\n"
     ]
    },
    {
     "name": "stdout",
     "output_type": "stream",
     "text": [
      "\n",
      "\n",
      " RUNNING SCENARIO households_080\n",
      "2022-06-02 23:10:17,213 - kedro.io.data_catalog - INFO - Loading data from `waste_gen_scenarios_local_20220601` (PartitionedDataSet)...\n",
      "2022-06-02 23:10:17,232 - kedro.io.data_catalog - INFO - Loading data from `routing_parameters` (ExcelDataSet)...\n",
      "2022-06-02 23:10:17,411 - root - INFO - Preparing road network.......\n",
      "\n",
      "2022-06-02 23:10:17,467 - root - INFO - Load required arcs\n",
      "2022-06-02 23:10:17,468 - root - INFO - Merging with the network\n",
      "2022-06-02 23:10:17,495 - root - INFO - Set depot\n",
      "2022-06-02 23:10:17,499 - root - INFO - Set offload facilities\n",
      "2022-06-02 23:10:17,510 - root - INFO - Extend required arcs with inverse edge arcs\n",
      "2022-06-02 23:10:17,610 - root - INFO - Checking master list\n",
      "2022-06-02 23:10:17,617 - root - INFO - Load distance matrix: 8147 x 8147\n"
     ]
    },
    {
     "name": "stderr",
     "output_type": "stream",
     "text": [
      "/Users/ejwillemse/opt/anaconda3/envs/python_RD/lib/python3.8/site-packages/tables/array.py:241: DeprecationWarning:\n",
      "\n",
      "`np.object` is a deprecated alias for the builtin `object`. To silence this warning, use `object` by itself. Doing this will not modify any behavior and is safe. \n",
      "Deprecated in NumPy 1.20; for more details and guidance: https://numpy.org/devdocs/release/1.20.0-notes.html#deprecations\n",
      "\n",
      "/Users/ejwillemse/opt/anaconda3/envs/python_RD/lib/python3.8/site-packages/tables/array.py:241: DeprecationWarning:\n",
      "\n",
      "`np.object` is a deprecated alias for the builtin `object`. To silence this warning, use `object` by itself. Doing this will not modify any behavior and is safe. \n",
      "Deprecated in NumPy 1.20; for more details and guidance: https://numpy.org/devdocs/release/1.20.0-notes.html#deprecations\n",
      "\n",
      "/Users/ejwillemse/opt/anaconda3/envs/python_RD/lib/python3.8/site-packages/tables/leaf.py:544: VisibleDeprecationWarning:\n",
      "\n",
      "Creating an ndarray from ragged nested sequences (which is a list-or-tuple of lists-or-tuples-or ndarrays with different lengths or shapes) is deprecated. If you meant to do this, you must specify 'dtype=object' when creating the ndarray.\n",
      "\n"
     ]
    },
    {
     "name": "stdout",
     "output_type": "stream",
     "text": [
      "2022-06-02 23:10:24,479 - root - INFO - Creating nearest neighbour lists\n",
      "2022-06-02 23:10:28,220 - root - INFO - Calculate offloads: 8147 x 8147 x 2\n",
      "2022-06-02 23:10:39,156 - root - INFO - Done!\n",
      "2022-06-02 23:10:39,232 - root - INFO - Uploading scenario inputs...\n",
      "2022-06-02 23:10:39,257 - root - INFO - Setting service cost for network\n",
      "2022-06-02 23:10:39,266 - root - INFO - Setting demand for network\n",
      "2022-06-02 23:10:39,276 - root - INFO - Update travel durations.\n",
      "2022-06-02 23:10:39,574 - root - INFO - Update offload durations.\n",
      "2022-06-02 23:10:40,018 - root - INFO - Done\n",
      "2022-06-02 23:10:40,019 - root - INFO - Problem info supplied. Directly proceeding to solve problem.\n",
      "2022-06-02 23:11:14,183 - root - INFO - Done generating routes\n",
      "Number of routes: 10\n",
      "2022-06-02 23:11:14,184 - root - INFO - Preparing scenario outputs...\n"
     ]
    },
    {
     "name": "stderr",
     "output_type": "stream",
     "text": [
      "/Users/ejwillemse/opt/anaconda3/envs/python_RD/lib/python3.8/site-packages/tables/array.py:241: DeprecationWarning:\n",
      "\n",
      "`np.object` is a deprecated alias for the builtin `object`. To silence this warning, use `object` by itself. Doing this will not modify any behavior and is safe. \n",
      "Deprecated in NumPy 1.20; for more details and guidance: https://numpy.org/devdocs/release/1.20.0-notes.html#deprecations\n",
      "\n"
     ]
    },
    {
     "name": "stdout",
     "output_type": "stream",
     "text": [
      "2022-06-02 23:11:22,890 - root - INFO - Done preparing output\n",
      "2022-06-02 23:11:22,891 - kedro.io.data_catalog - INFO - Saving data to `resource_summary_table_20220601` (PartitionedDataSet)...\n"
     ]
    },
    {
     "name": "stderr",
     "output_type": "stream",
     "text": [
      "/Users/ejwillemse/dev/waste_labs_dev/project_rdi_cpt/src/mcarptif/visualise/route_tables.py:146: FutureWarning:\n",
      "\n",
      "The frame.append method is deprecated and will be removed from pandas in a future version. Use pandas.concat instead.\n",
      "\n"
     ]
    },
    {
     "name": "stdout",
     "output_type": "stream",
     "text": [
      "\n",
      "\n",
      " RUNNING SCENARIO households_081\n",
      "2022-06-02 23:11:23,375 - kedro.io.data_catalog - INFO - Loading data from `waste_gen_scenarios_local_20220601` (PartitionedDataSet)...\n",
      "2022-06-02 23:11:23,397 - kedro.io.data_catalog - INFO - Loading data from `routing_parameters` (ExcelDataSet)...\n",
      "2022-06-02 23:11:23,558 - root - INFO - Preparing road network.......\n",
      "\n",
      "2022-06-02 23:11:23,617 - root - INFO - Load required arcs\n",
      "2022-06-02 23:11:23,621 - root - INFO - Merging with the network\n",
      "2022-06-02 23:11:23,649 - root - INFO - Set depot\n",
      "2022-06-02 23:11:23,651 - root - INFO - Set offload facilities\n",
      "2022-06-02 23:11:23,663 - root - INFO - Extend required arcs with inverse edge arcs\n",
      "2022-06-02 23:11:23,750 - root - INFO - Checking master list\n",
      "2022-06-02 23:11:23,757 - root - INFO - Load distance matrix: 8114 x 8114\n"
     ]
    },
    {
     "name": "stderr",
     "output_type": "stream",
     "text": [
      "/Users/ejwillemse/opt/anaconda3/envs/python_RD/lib/python3.8/site-packages/tables/array.py:241: DeprecationWarning:\n",
      "\n",
      "`np.object` is a deprecated alias for the builtin `object`. To silence this warning, use `object` by itself. Doing this will not modify any behavior and is safe. \n",
      "Deprecated in NumPy 1.20; for more details and guidance: https://numpy.org/devdocs/release/1.20.0-notes.html#deprecations\n",
      "\n",
      "/Users/ejwillemse/opt/anaconda3/envs/python_RD/lib/python3.8/site-packages/tables/array.py:241: DeprecationWarning:\n",
      "\n",
      "`np.object` is a deprecated alias for the builtin `object`. To silence this warning, use `object` by itself. Doing this will not modify any behavior and is safe. \n",
      "Deprecated in NumPy 1.20; for more details and guidance: https://numpy.org/devdocs/release/1.20.0-notes.html#deprecations\n",
      "\n",
      "/Users/ejwillemse/opt/anaconda3/envs/python_RD/lib/python3.8/site-packages/tables/leaf.py:544: VisibleDeprecationWarning:\n",
      "\n",
      "Creating an ndarray from ragged nested sequences (which is a list-or-tuple of lists-or-tuples-or ndarrays with different lengths or shapes) is deprecated. If you meant to do this, you must specify 'dtype=object' when creating the ndarray.\n",
      "\n"
     ]
    },
    {
     "name": "stdout",
     "output_type": "stream",
     "text": [
      "2022-06-02 23:11:31,866 - root - INFO - Creating nearest neighbour lists\n",
      "2022-06-02 23:11:35,454 - root - INFO - Calculate offloads: 8114 x 8114 x 2\n",
      "2022-06-02 23:11:44,413 - root - INFO - Done!\n",
      "2022-06-02 23:11:44,493 - root - INFO - Uploading scenario inputs...\n",
      "2022-06-02 23:11:44,520 - root - INFO - Setting service cost for network\n",
      "2022-06-02 23:11:44,532 - root - INFO - Setting demand for network\n",
      "2022-06-02 23:11:44,542 - root - INFO - Update travel durations.\n",
      "2022-06-02 23:11:44,848 - root - INFO - Update offload durations.\n",
      "2022-06-02 23:11:45,264 - root - INFO - Done\n",
      "2022-06-02 23:11:45,265 - root - INFO - Problem info supplied. Directly proceeding to solve problem.\n",
      "2022-06-02 23:12:19,239 - root - INFO - Done generating routes\n",
      "Number of routes: 10\n",
      "2022-06-02 23:12:19,241 - root - INFO - Preparing scenario outputs...\n"
     ]
    },
    {
     "name": "stderr",
     "output_type": "stream",
     "text": [
      "/Users/ejwillemse/opt/anaconda3/envs/python_RD/lib/python3.8/site-packages/tables/array.py:241: DeprecationWarning:\n",
      "\n",
      "`np.object` is a deprecated alias for the builtin `object`. To silence this warning, use `object` by itself. Doing this will not modify any behavior and is safe. \n",
      "Deprecated in NumPy 1.20; for more details and guidance: https://numpy.org/devdocs/release/1.20.0-notes.html#deprecations\n",
      "\n"
     ]
    },
    {
     "name": "stdout",
     "output_type": "stream",
     "text": [
      "2022-06-02 23:12:28,810 - root - INFO - Done preparing output\n",
      "2022-06-02 23:12:28,811 - kedro.io.data_catalog - INFO - Saving data to `resource_summary_table_20220601` (PartitionedDataSet)...\n"
     ]
    },
    {
     "name": "stderr",
     "output_type": "stream",
     "text": [
      "/Users/ejwillemse/dev/waste_labs_dev/project_rdi_cpt/src/mcarptif/visualise/route_tables.py:146: FutureWarning:\n",
      "\n",
      "The frame.append method is deprecated and will be removed from pandas in a future version. Use pandas.concat instead.\n",
      "\n"
     ]
    },
    {
     "name": "stdout",
     "output_type": "stream",
     "text": [
      "\n",
      "\n",
      " RUNNING SCENARIO households_082\n",
      "2022-06-02 23:12:29,289 - kedro.io.data_catalog - INFO - Loading data from `waste_gen_scenarios_local_20220601` (PartitionedDataSet)...\n",
      "2022-06-02 23:12:29,306 - kedro.io.data_catalog - INFO - Loading data from `routing_parameters` (ExcelDataSet)...\n",
      "2022-06-02 23:12:29,476 - root - INFO - Preparing road network.......\n",
      "\n",
      "2022-06-02 23:12:29,532 - root - INFO - Load required arcs\n",
      "2022-06-02 23:12:29,534 - root - INFO - Merging with the network\n",
      "2022-06-02 23:12:29,559 - root - INFO - Set depot\n",
      "2022-06-02 23:12:29,563 - root - INFO - Set offload facilities\n",
      "2022-06-02 23:12:29,576 - root - INFO - Extend required arcs with inverse edge arcs\n",
      "2022-06-02 23:12:29,662 - root - INFO - Checking master list\n",
      "2022-06-02 23:12:29,669 - root - INFO - Load distance matrix: 8123 x 8123\n"
     ]
    },
    {
     "name": "stderr",
     "output_type": "stream",
     "text": [
      "/Users/ejwillemse/opt/anaconda3/envs/python_RD/lib/python3.8/site-packages/tables/array.py:241: DeprecationWarning:\n",
      "\n",
      "`np.object` is a deprecated alias for the builtin `object`. To silence this warning, use `object` by itself. Doing this will not modify any behavior and is safe. \n",
      "Deprecated in NumPy 1.20; for more details and guidance: https://numpy.org/devdocs/release/1.20.0-notes.html#deprecations\n",
      "\n",
      "/Users/ejwillemse/opt/anaconda3/envs/python_RD/lib/python3.8/site-packages/tables/array.py:241: DeprecationWarning:\n",
      "\n",
      "`np.object` is a deprecated alias for the builtin `object`. To silence this warning, use `object` by itself. Doing this will not modify any behavior and is safe. \n",
      "Deprecated in NumPy 1.20; for more details and guidance: https://numpy.org/devdocs/release/1.20.0-notes.html#deprecations\n",
      "\n",
      "/Users/ejwillemse/opt/anaconda3/envs/python_RD/lib/python3.8/site-packages/tables/leaf.py:544: VisibleDeprecationWarning:\n",
      "\n",
      "Creating an ndarray from ragged nested sequences (which is a list-or-tuple of lists-or-tuples-or ndarrays with different lengths or shapes) is deprecated. If you meant to do this, you must specify 'dtype=object' when creating the ndarray.\n",
      "\n"
     ]
    },
    {
     "name": "stdout",
     "output_type": "stream",
     "text": [
      "2022-06-02 23:12:36,480 - root - INFO - Creating nearest neighbour lists\n",
      "2022-06-02 23:12:39,971 - root - INFO - Calculate offloads: 8123 x 8123 x 2\n",
      "2022-06-02 23:12:48,413 - root - INFO - Done!\n",
      "2022-06-02 23:12:48,455 - root - INFO - Uploading scenario inputs...\n",
      "2022-06-02 23:12:48,483 - root - INFO - Setting service cost for network\n",
      "2022-06-02 23:12:48,494 - root - INFO - Setting demand for network\n",
      "2022-06-02 23:12:48,504 - root - INFO - Update travel durations.\n",
      "2022-06-02 23:12:48,784 - root - INFO - Update offload durations.\n",
      "2022-06-02 23:12:49,189 - root - INFO - Done\n",
      "2022-06-02 23:12:49,190 - root - INFO - Problem info supplied. Directly proceeding to solve problem.\n",
      "2022-06-02 23:13:22,869 - root - INFO - Done generating routes\n",
      "Number of routes: 10\n",
      "2022-06-02 23:13:22,870 - root - INFO - Preparing scenario outputs...\n"
     ]
    },
    {
     "name": "stderr",
     "output_type": "stream",
     "text": [
      "/Users/ejwillemse/opt/anaconda3/envs/python_RD/lib/python3.8/site-packages/tables/array.py:241: DeprecationWarning:\n",
      "\n",
      "`np.object` is a deprecated alias for the builtin `object`. To silence this warning, use `object` by itself. Doing this will not modify any behavior and is safe. \n",
      "Deprecated in NumPy 1.20; for more details and guidance: https://numpy.org/devdocs/release/1.20.0-notes.html#deprecations\n",
      "\n"
     ]
    },
    {
     "name": "stdout",
     "output_type": "stream",
     "text": [
      "2022-06-02 23:13:32,808 - root - INFO - Done preparing output\n",
      "2022-06-02 23:13:32,809 - kedro.io.data_catalog - INFO - Saving data to `resource_summary_table_20220601` (PartitionedDataSet)...\n"
     ]
    },
    {
     "name": "stderr",
     "output_type": "stream",
     "text": [
      "/Users/ejwillemse/dev/waste_labs_dev/project_rdi_cpt/src/mcarptif/visualise/route_tables.py:146: FutureWarning:\n",
      "\n",
      "The frame.append method is deprecated and will be removed from pandas in a future version. Use pandas.concat instead.\n",
      "\n"
     ]
    },
    {
     "name": "stdout",
     "output_type": "stream",
     "text": [
      "\n",
      "\n",
      " RUNNING SCENARIO households_083\n",
      "2022-06-02 23:13:33,270 - kedro.io.data_catalog - INFO - Loading data from `waste_gen_scenarios_local_20220601` (PartitionedDataSet)...\n",
      "2022-06-02 23:13:33,290 - kedro.io.data_catalog - INFO - Loading data from `routing_parameters` (ExcelDataSet)...\n",
      "2022-06-02 23:13:33,467 - root - INFO - Preparing road network.......\n",
      "\n",
      "2022-06-02 23:13:33,525 - root - INFO - Load required arcs\n",
      "2022-06-02 23:13:33,527 - root - INFO - Merging with the network\n",
      "2022-06-02 23:13:33,553 - root - INFO - Set depot\n",
      "2022-06-02 23:13:33,556 - root - INFO - Set offload facilities\n",
      "2022-06-02 23:13:33,569 - root - INFO - Extend required arcs with inverse edge arcs\n",
      "2022-06-02 23:13:33,654 - root - INFO - Checking master list\n",
      "2022-06-02 23:13:33,661 - root - INFO - Load distance matrix: 8120 x 8120\n"
     ]
    },
    {
     "name": "stderr",
     "output_type": "stream",
     "text": [
      "/Users/ejwillemse/opt/anaconda3/envs/python_RD/lib/python3.8/site-packages/tables/array.py:241: DeprecationWarning:\n",
      "\n",
      "`np.object` is a deprecated alias for the builtin `object`. To silence this warning, use `object` by itself. Doing this will not modify any behavior and is safe. \n",
      "Deprecated in NumPy 1.20; for more details and guidance: https://numpy.org/devdocs/release/1.20.0-notes.html#deprecations\n",
      "\n",
      "/Users/ejwillemse/opt/anaconda3/envs/python_RD/lib/python3.8/site-packages/tables/array.py:241: DeprecationWarning:\n",
      "\n",
      "`np.object` is a deprecated alias for the builtin `object`. To silence this warning, use `object` by itself. Doing this will not modify any behavior and is safe. \n",
      "Deprecated in NumPy 1.20; for more details and guidance: https://numpy.org/devdocs/release/1.20.0-notes.html#deprecations\n",
      "\n",
      "/Users/ejwillemse/opt/anaconda3/envs/python_RD/lib/python3.8/site-packages/tables/leaf.py:544: VisibleDeprecationWarning:\n",
      "\n",
      "Creating an ndarray from ragged nested sequences (which is a list-or-tuple of lists-or-tuples-or ndarrays with different lengths or shapes) is deprecated. If you meant to do this, you must specify 'dtype=object' when creating the ndarray.\n",
      "\n"
     ]
    },
    {
     "name": "stdout",
     "output_type": "stream",
     "text": [
      "2022-06-02 23:13:40,273 - root - INFO - Creating nearest neighbour lists\n",
      "2022-06-02 23:13:43,740 - root - INFO - Calculate offloads: 8120 x 8120 x 2\n",
      "2022-06-02 23:13:52,681 - root - INFO - Done!\n",
      "2022-06-02 23:13:52,725 - root - INFO - Uploading scenario inputs...\n",
      "2022-06-02 23:13:52,747 - root - INFO - Setting service cost for network\n",
      "2022-06-02 23:13:52,758 - root - INFO - Setting demand for network\n",
      "2022-06-02 23:13:52,769 - root - INFO - Update travel durations.\n",
      "2022-06-02 23:13:53,054 - root - INFO - Update offload durations.\n",
      "2022-06-02 23:13:53,465 - root - INFO - Done\n",
      "2022-06-02 23:13:53,466 - root - INFO - Problem info supplied. Directly proceeding to solve problem.\n",
      "2022-06-02 23:14:28,003 - root - INFO - Done generating routes\n",
      "Number of routes: 10\n",
      "2022-06-02 23:14:28,004 - root - INFO - Preparing scenario outputs...\n"
     ]
    },
    {
     "name": "stderr",
     "output_type": "stream",
     "text": [
      "/Users/ejwillemse/opt/anaconda3/envs/python_RD/lib/python3.8/site-packages/tables/array.py:241: DeprecationWarning:\n",
      "\n",
      "`np.object` is a deprecated alias for the builtin `object`. To silence this warning, use `object` by itself. Doing this will not modify any behavior and is safe. \n",
      "Deprecated in NumPy 1.20; for more details and guidance: https://numpy.org/devdocs/release/1.20.0-notes.html#deprecations\n",
      "\n"
     ]
    },
    {
     "name": "stdout",
     "output_type": "stream",
     "text": [
      "2022-06-02 23:14:37,736 - root - INFO - Done preparing output\n",
      "2022-06-02 23:14:37,737 - kedro.io.data_catalog - INFO - Saving data to `resource_summary_table_20220601` (PartitionedDataSet)...\n"
     ]
    },
    {
     "name": "stderr",
     "output_type": "stream",
     "text": [
      "/Users/ejwillemse/dev/waste_labs_dev/project_rdi_cpt/src/mcarptif/visualise/route_tables.py:146: FutureWarning:\n",
      "\n",
      "The frame.append method is deprecated and will be removed from pandas in a future version. Use pandas.concat instead.\n",
      "\n"
     ]
    },
    {
     "name": "stdout",
     "output_type": "stream",
     "text": [
      "\n",
      "\n",
      " RUNNING SCENARIO households_084\n",
      "2022-06-02 23:14:38,183 - kedro.io.data_catalog - INFO - Loading data from `waste_gen_scenarios_local_20220601` (PartitionedDataSet)...\n",
      "2022-06-02 23:14:38,198 - kedro.io.data_catalog - INFO - Loading data from `routing_parameters` (ExcelDataSet)...\n",
      "2022-06-02 23:14:38,384 - root - INFO - Preparing road network.......\n",
      "\n",
      "2022-06-02 23:14:38,466 - root - INFO - Load required arcs\n",
      "2022-06-02 23:14:38,480 - root - INFO - Merging with the network\n",
      "2022-06-02 23:14:38,529 - root - INFO - Set depot\n",
      "2022-06-02 23:14:38,533 - root - INFO - Set offload facilities\n",
      "2022-06-02 23:14:38,547 - root - INFO - Extend required arcs with inverse edge arcs\n"
     ]
    },
    {
     "name": "stderr",
     "output_type": "stream",
     "text": [
      "/Users/ejwillemse/opt/anaconda3/envs/python_RD/lib/python3.8/site-packages/tables/array.py:241: DeprecationWarning:\n",
      "\n",
      "`np.object` is a deprecated alias for the builtin `object`. To silence this warning, use `object` by itself. Doing this will not modify any behavior and is safe. \n",
      "Deprecated in NumPy 1.20; for more details and guidance: https://numpy.org/devdocs/release/1.20.0-notes.html#deprecations\n",
      "\n"
     ]
    },
    {
     "name": "stdout",
     "output_type": "stream",
     "text": [
      "2022-06-02 23:14:38,634 - root - INFO - Checking master list\n",
      "2022-06-02 23:14:38,639 - root - INFO - Load distance matrix: 8167 x 8167\n"
     ]
    },
    {
     "name": "stderr",
     "output_type": "stream",
     "text": [
      "/Users/ejwillemse/opt/anaconda3/envs/python_RD/lib/python3.8/site-packages/tables/array.py:241: DeprecationWarning:\n",
      "\n",
      "`np.object` is a deprecated alias for the builtin `object`. To silence this warning, use `object` by itself. Doing this will not modify any behavior and is safe. \n",
      "Deprecated in NumPy 1.20; for more details and guidance: https://numpy.org/devdocs/release/1.20.0-notes.html#deprecations\n",
      "\n",
      "/Users/ejwillemse/opt/anaconda3/envs/python_RD/lib/python3.8/site-packages/tables/leaf.py:544: VisibleDeprecationWarning:\n",
      "\n",
      "Creating an ndarray from ragged nested sequences (which is a list-or-tuple of lists-or-tuples-or ndarrays with different lengths or shapes) is deprecated. If you meant to do this, you must specify 'dtype=object' when creating the ndarray.\n",
      "\n"
     ]
    },
    {
     "name": "stdout",
     "output_type": "stream",
     "text": [
      "2022-06-02 23:14:46,454 - root - INFO - Creating nearest neighbour lists\n",
      "2022-06-02 23:14:50,104 - root - INFO - Calculate offloads: 8167 x 8167 x 2\n",
      "2022-06-02 23:15:00,688 - root - INFO - Done!\n",
      "2022-06-02 23:15:00,767 - root - INFO - Uploading scenario inputs...\n",
      "2022-06-02 23:15:00,788 - root - INFO - Setting service cost for network\n",
      "2022-06-02 23:15:00,798 - root - INFO - Setting demand for network\n",
      "2022-06-02 23:15:00,809 - root - INFO - Update travel durations.\n",
      "2022-06-02 23:15:01,098 - root - INFO - Update offload durations.\n",
      "2022-06-02 23:15:01,509 - root - INFO - Done\n",
      "2022-06-02 23:15:01,510 - root - INFO - Problem info supplied. Directly proceeding to solve problem.\n",
      "2022-06-02 23:15:36,097 - root - INFO - Done generating routes\n",
      "Number of routes: 10\n",
      "2022-06-02 23:15:36,098 - root - INFO - Preparing scenario outputs...\n"
     ]
    },
    {
     "name": "stderr",
     "output_type": "stream",
     "text": [
      "/Users/ejwillemse/opt/anaconda3/envs/python_RD/lib/python3.8/site-packages/tables/array.py:241: DeprecationWarning:\n",
      "\n",
      "`np.object` is a deprecated alias for the builtin `object`. To silence this warning, use `object` by itself. Doing this will not modify any behavior and is safe. \n",
      "Deprecated in NumPy 1.20; for more details and guidance: https://numpy.org/devdocs/release/1.20.0-notes.html#deprecations\n",
      "\n"
     ]
    },
    {
     "name": "stdout",
     "output_type": "stream",
     "text": [
      "2022-06-02 23:15:44,899 - root - INFO - Done preparing output\n",
      "2022-06-02 23:15:44,900 - kedro.io.data_catalog - INFO - Saving data to `resource_summary_table_20220601` (PartitionedDataSet)...\n"
     ]
    },
    {
     "name": "stderr",
     "output_type": "stream",
     "text": [
      "/Users/ejwillemse/dev/waste_labs_dev/project_rdi_cpt/src/mcarptif/visualise/route_tables.py:146: FutureWarning:\n",
      "\n",
      "The frame.append method is deprecated and will be removed from pandas in a future version. Use pandas.concat instead.\n",
      "\n"
     ]
    },
    {
     "name": "stdout",
     "output_type": "stream",
     "text": [
      "\n",
      "\n",
      " RUNNING SCENARIO households_085\n",
      "2022-06-02 23:15:45,372 - kedro.io.data_catalog - INFO - Loading data from `waste_gen_scenarios_local_20220601` (PartitionedDataSet)...\n",
      "2022-06-02 23:15:45,389 - kedro.io.data_catalog - INFO - Loading data from `routing_parameters` (ExcelDataSet)...\n",
      "2022-06-02 23:15:45,545 - root - INFO - Preparing road network.......\n",
      "\n",
      "2022-06-02 23:15:45,599 - root - INFO - Load required arcs\n",
      "2022-06-02 23:15:45,602 - root - INFO - Merging with the network\n",
      "2022-06-02 23:15:45,626 - root - INFO - Set depot\n",
      "2022-06-02 23:15:45,630 - root - INFO - Set offload facilities\n",
      "2022-06-02 23:15:45,639 - root - INFO - Extend required arcs with inverse edge arcs\n",
      "2022-06-02 23:15:45,721 - root - INFO - Checking master list\n",
      "2022-06-02 23:15:45,726 - root - INFO - Load distance matrix: 8130 x 8130\n"
     ]
    },
    {
     "name": "stderr",
     "output_type": "stream",
     "text": [
      "/Users/ejwillemse/opt/anaconda3/envs/python_RD/lib/python3.8/site-packages/tables/array.py:241: DeprecationWarning:\n",
      "\n",
      "`np.object` is a deprecated alias for the builtin `object`. To silence this warning, use `object` by itself. Doing this will not modify any behavior and is safe. \n",
      "Deprecated in NumPy 1.20; for more details and guidance: https://numpy.org/devdocs/release/1.20.0-notes.html#deprecations\n",
      "\n",
      "/Users/ejwillemse/opt/anaconda3/envs/python_RD/lib/python3.8/site-packages/tables/array.py:241: DeprecationWarning:\n",
      "\n",
      "`np.object` is a deprecated alias for the builtin `object`. To silence this warning, use `object` by itself. Doing this will not modify any behavior and is safe. \n",
      "Deprecated in NumPy 1.20; for more details and guidance: https://numpy.org/devdocs/release/1.20.0-notes.html#deprecations\n",
      "\n",
      "/Users/ejwillemse/opt/anaconda3/envs/python_RD/lib/python3.8/site-packages/tables/leaf.py:544: VisibleDeprecationWarning:\n",
      "\n",
      "Creating an ndarray from ragged nested sequences (which is a list-or-tuple of lists-or-tuples-or ndarrays with different lengths or shapes) is deprecated. If you meant to do this, you must specify 'dtype=object' when creating the ndarray.\n",
      "\n"
     ]
    },
    {
     "name": "stdout",
     "output_type": "stream",
     "text": [
      "2022-06-02 23:15:52,284 - root - INFO - Creating nearest neighbour lists\n",
      "2022-06-02 23:15:55,753 - root - INFO - Calculate offloads: 8130 x 8130 x 2\n",
      "2022-06-02 23:16:05,907 - root - INFO - Done!\n",
      "2022-06-02 23:16:05,952 - root - INFO - Uploading scenario inputs...\n",
      "2022-06-02 23:16:05,978 - root - INFO - Setting service cost for network\n",
      "2022-06-02 23:16:05,991 - root - INFO - Setting demand for network\n",
      "2022-06-02 23:16:06,001 - root - INFO - Update travel durations.\n",
      "2022-06-02 23:16:06,281 - root - INFO - Update offload durations.\n",
      "2022-06-02 23:16:06,748 - root - INFO - Done\n",
      "2022-06-02 23:16:06,749 - root - INFO - Problem info supplied. Directly proceeding to solve problem.\n",
      "2022-06-02 23:16:39,647 - root - INFO - Done generating routes\n",
      "Number of routes: 10\n",
      "2022-06-02 23:16:39,649 - root - INFO - Preparing scenario outputs...\n"
     ]
    },
    {
     "name": "stderr",
     "output_type": "stream",
     "text": [
      "/Users/ejwillemse/opt/anaconda3/envs/python_RD/lib/python3.8/site-packages/tables/array.py:241: DeprecationWarning:\n",
      "\n",
      "`np.object` is a deprecated alias for the builtin `object`. To silence this warning, use `object` by itself. Doing this will not modify any behavior and is safe. \n",
      "Deprecated in NumPy 1.20; for more details and guidance: https://numpy.org/devdocs/release/1.20.0-notes.html#deprecations\n",
      "\n"
     ]
    },
    {
     "name": "stdout",
     "output_type": "stream",
     "text": [
      "2022-06-02 23:16:49,030 - root - INFO - Done preparing output\n",
      "2022-06-02 23:16:49,031 - kedro.io.data_catalog - INFO - Saving data to `resource_summary_table_20220601` (PartitionedDataSet)...\n"
     ]
    },
    {
     "name": "stderr",
     "output_type": "stream",
     "text": [
      "/Users/ejwillemse/dev/waste_labs_dev/project_rdi_cpt/src/mcarptif/visualise/route_tables.py:146: FutureWarning:\n",
      "\n",
      "The frame.append method is deprecated and will be removed from pandas in a future version. Use pandas.concat instead.\n",
      "\n"
     ]
    },
    {
     "name": "stdout",
     "output_type": "stream",
     "text": [
      "\n",
      "\n",
      " RUNNING SCENARIO households_086\n",
      "2022-06-02 23:16:49,568 - kedro.io.data_catalog - INFO - Loading data from `waste_gen_scenarios_local_20220601` (PartitionedDataSet)...\n",
      "2022-06-02 23:16:49,591 - kedro.io.data_catalog - INFO - Loading data from `routing_parameters` (ExcelDataSet)...\n",
      "2022-06-02 23:16:49,798 - root - INFO - Preparing road network.......\n",
      "\n",
      "2022-06-02 23:16:49,870 - root - INFO - Load required arcs\n",
      "2022-06-02 23:16:49,872 - root - INFO - Merging with the network\n",
      "2022-06-02 23:16:49,900 - root - INFO - Set depot\n",
      "2022-06-02 23:16:49,904 - root - INFO - Set offload facilities\n",
      "2022-06-02 23:16:49,919 - root - INFO - Extend required arcs with inverse edge arcs\n"
     ]
    },
    {
     "name": "stderr",
     "output_type": "stream",
     "text": [
      "/Users/ejwillemse/opt/anaconda3/envs/python_RD/lib/python3.8/site-packages/tables/array.py:241: DeprecationWarning:\n",
      "\n",
      "`np.object` is a deprecated alias for the builtin `object`. To silence this warning, use `object` by itself. Doing this will not modify any behavior and is safe. \n",
      "Deprecated in NumPy 1.20; for more details and guidance: https://numpy.org/devdocs/release/1.20.0-notes.html#deprecations\n",
      "\n"
     ]
    },
    {
     "name": "stdout",
     "output_type": "stream",
     "text": [
      "2022-06-02 23:16:50,029 - root - INFO - Checking master list\n",
      "2022-06-02 23:16:50,035 - root - INFO - Load distance matrix: 8137 x 8137\n"
     ]
    },
    {
     "name": "stderr",
     "output_type": "stream",
     "text": [
      "/Users/ejwillemse/opt/anaconda3/envs/python_RD/lib/python3.8/site-packages/tables/array.py:241: DeprecationWarning:\n",
      "\n",
      "`np.object` is a deprecated alias for the builtin `object`. To silence this warning, use `object` by itself. Doing this will not modify any behavior and is safe. \n",
      "Deprecated in NumPy 1.20; for more details and guidance: https://numpy.org/devdocs/release/1.20.0-notes.html#deprecations\n",
      "\n",
      "/Users/ejwillemse/opt/anaconda3/envs/python_RD/lib/python3.8/site-packages/tables/leaf.py:544: VisibleDeprecationWarning:\n",
      "\n",
      "Creating an ndarray from ragged nested sequences (which is a list-or-tuple of lists-or-tuples-or ndarrays with different lengths or shapes) is deprecated. If you meant to do this, you must specify 'dtype=object' when creating the ndarray.\n",
      "\n"
     ]
    },
    {
     "name": "stdout",
     "output_type": "stream",
     "text": [
      "2022-06-02 23:16:57,937 - root - INFO - Creating nearest neighbour lists\n",
      "2022-06-02 23:17:01,625 - root - INFO - Calculate offloads: 8137 x 8137 x 2\n",
      "2022-06-02 23:17:11,433 - root - INFO - Done!\n",
      "2022-06-02 23:17:11,476 - root - INFO - Uploading scenario inputs...\n",
      "2022-06-02 23:17:11,500 - root - INFO - Setting service cost for network\n",
      "2022-06-02 23:17:11,512 - root - INFO - Setting demand for network\n",
      "2022-06-02 23:17:11,523 - root - INFO - Update travel durations.\n",
      "2022-06-02 23:17:11,807 - root - INFO - Update offload durations.\n",
      "2022-06-02 23:17:12,226 - root - INFO - Done\n",
      "2022-06-02 23:17:12,227 - root - INFO - Problem info supplied. Directly proceeding to solve problem.\n",
      "2022-06-02 23:17:46,179 - root - INFO - Done generating routes\n",
      "Number of routes: 10\n",
      "2022-06-02 23:17:46,180 - root - INFO - Preparing scenario outputs...\n"
     ]
    },
    {
     "name": "stderr",
     "output_type": "stream",
     "text": [
      "/Users/ejwillemse/opt/anaconda3/envs/python_RD/lib/python3.8/site-packages/tables/array.py:241: DeprecationWarning:\n",
      "\n",
      "`np.object` is a deprecated alias for the builtin `object`. To silence this warning, use `object` by itself. Doing this will not modify any behavior and is safe. \n",
      "Deprecated in NumPy 1.20; for more details and guidance: https://numpy.org/devdocs/release/1.20.0-notes.html#deprecations\n",
      "\n"
     ]
    },
    {
     "name": "stdout",
     "output_type": "stream",
     "text": [
      "2022-06-02 23:17:55,067 - root - INFO - Done preparing output\n",
      "2022-06-02 23:17:55,068 - kedro.io.data_catalog - INFO - Saving data to `resource_summary_table_20220601` (PartitionedDataSet)...\n"
     ]
    },
    {
     "name": "stderr",
     "output_type": "stream",
     "text": [
      "/Users/ejwillemse/dev/waste_labs_dev/project_rdi_cpt/src/mcarptif/visualise/route_tables.py:146: FutureWarning:\n",
      "\n",
      "The frame.append method is deprecated and will be removed from pandas in a future version. Use pandas.concat instead.\n",
      "\n"
     ]
    },
    {
     "name": "stdout",
     "output_type": "stream",
     "text": [
      "\n",
      "\n",
      " RUNNING SCENARIO households_087\n",
      "2022-06-02 23:17:55,526 - kedro.io.data_catalog - INFO - Loading data from `waste_gen_scenarios_local_20220601` (PartitionedDataSet)...\n",
      "2022-06-02 23:17:55,543 - kedro.io.data_catalog - INFO - Loading data from `routing_parameters` (ExcelDataSet)...\n",
      "2022-06-02 23:17:55,698 - root - INFO - Preparing road network.......\n",
      "\n",
      "2022-06-02 23:17:55,765 - root - INFO - Load required arcs\n",
      "2022-06-02 23:17:55,768 - root - INFO - Merging with the network\n",
      "2022-06-02 23:17:55,792 - root - INFO - Set depot\n",
      "2022-06-02 23:17:55,796 - root - INFO - Set offload facilities\n",
      "2022-06-02 23:17:55,808 - root - INFO - Extend required arcs with inverse edge arcs\n",
      "2022-06-02 23:17:55,895 - root - INFO - Checking master list\n",
      "2022-06-02 23:17:55,902 - root - INFO - Load distance matrix: 8145 x 8145\n"
     ]
    },
    {
     "name": "stderr",
     "output_type": "stream",
     "text": [
      "/Users/ejwillemse/opt/anaconda3/envs/python_RD/lib/python3.8/site-packages/tables/array.py:241: DeprecationWarning:\n",
      "\n",
      "`np.object` is a deprecated alias for the builtin `object`. To silence this warning, use `object` by itself. Doing this will not modify any behavior and is safe. \n",
      "Deprecated in NumPy 1.20; for more details and guidance: https://numpy.org/devdocs/release/1.20.0-notes.html#deprecations\n",
      "\n",
      "/Users/ejwillemse/opt/anaconda3/envs/python_RD/lib/python3.8/site-packages/tables/array.py:241: DeprecationWarning:\n",
      "\n",
      "`np.object` is a deprecated alias for the builtin `object`. To silence this warning, use `object` by itself. Doing this will not modify any behavior and is safe. \n",
      "Deprecated in NumPy 1.20; for more details and guidance: https://numpy.org/devdocs/release/1.20.0-notes.html#deprecations\n",
      "\n",
      "/Users/ejwillemse/opt/anaconda3/envs/python_RD/lib/python3.8/site-packages/tables/leaf.py:544: VisibleDeprecationWarning:\n",
      "\n",
      "Creating an ndarray from ragged nested sequences (which is a list-or-tuple of lists-or-tuples-or ndarrays with different lengths or shapes) is deprecated. If you meant to do this, you must specify 'dtype=object' when creating the ndarray.\n",
      "\n"
     ]
    },
    {
     "name": "stdout",
     "output_type": "stream",
     "text": [
      "2022-06-02 23:18:02,645 - root - INFO - Creating nearest neighbour lists\n",
      "2022-06-02 23:18:06,046 - root - INFO - Calculate offloads: 8145 x 8145 x 2\n",
      "2022-06-02 23:18:16,857 - root - INFO - Done!\n",
      "2022-06-02 23:18:16,904 - root - INFO - Uploading scenario inputs...\n",
      "2022-06-02 23:18:16,941 - root - INFO - Setting service cost for network\n",
      "2022-06-02 23:18:16,953 - root - INFO - Setting demand for network\n",
      "2022-06-02 23:18:16,965 - root - INFO - Update travel durations.\n",
      "2022-06-02 23:18:17,280 - root - INFO - Update offload durations.\n",
      "2022-06-02 23:18:17,710 - root - INFO - Done\n",
      "2022-06-02 23:18:17,711 - root - INFO - Problem info supplied. Directly proceeding to solve problem.\n",
      "2022-06-02 23:18:51,084 - root - INFO - Done generating routes\n",
      "Number of routes: 10\n",
      "2022-06-02 23:18:51,085 - root - INFO - Preparing scenario outputs...\n"
     ]
    },
    {
     "name": "stderr",
     "output_type": "stream",
     "text": [
      "/Users/ejwillemse/opt/anaconda3/envs/python_RD/lib/python3.8/site-packages/tables/array.py:241: DeprecationWarning:\n",
      "\n",
      "`np.object` is a deprecated alias for the builtin `object`. To silence this warning, use `object` by itself. Doing this will not modify any behavior and is safe. \n",
      "Deprecated in NumPy 1.20; for more details and guidance: https://numpy.org/devdocs/release/1.20.0-notes.html#deprecations\n",
      "\n"
     ]
    },
    {
     "name": "stdout",
     "output_type": "stream",
     "text": [
      "2022-06-02 23:18:59,995 - root - INFO - Done preparing output\n",
      "2022-06-02 23:18:59,997 - kedro.io.data_catalog - INFO - Saving data to `resource_summary_table_20220601` (PartitionedDataSet)...\n"
     ]
    },
    {
     "name": "stderr",
     "output_type": "stream",
     "text": [
      "/Users/ejwillemse/dev/waste_labs_dev/project_rdi_cpt/src/mcarptif/visualise/route_tables.py:146: FutureWarning:\n",
      "\n",
      "The frame.append method is deprecated and will be removed from pandas in a future version. Use pandas.concat instead.\n",
      "\n"
     ]
    },
    {
     "name": "stdout",
     "output_type": "stream",
     "text": [
      "\n",
      "\n",
      " RUNNING SCENARIO households_088\n",
      "2022-06-02 23:19:00,475 - kedro.io.data_catalog - INFO - Loading data from `waste_gen_scenarios_local_20220601` (PartitionedDataSet)...\n",
      "2022-06-02 23:19:00,494 - kedro.io.data_catalog - INFO - Loading data from `routing_parameters` (ExcelDataSet)...\n",
      "2022-06-02 23:19:00,670 - root - INFO - Preparing road network.......\n",
      "\n",
      "2022-06-02 23:19:00,729 - root - INFO - Load required arcs\n",
      "2022-06-02 23:19:00,732 - root - INFO - Merging with the network\n",
      "2022-06-02 23:19:00,756 - root - INFO - Set depot\n",
      "2022-06-02 23:19:00,760 - root - INFO - Set offload facilities\n",
      "2022-06-02 23:19:00,771 - root - INFO - Extend required arcs with inverse edge arcs\n",
      "2022-06-02 23:19:00,855 - root - INFO - Checking master list\n",
      "2022-06-02 23:19:00,861 - root - INFO - Load distance matrix: 8126 x 8126\n"
     ]
    },
    {
     "name": "stderr",
     "output_type": "stream",
     "text": [
      "/Users/ejwillemse/opt/anaconda3/envs/python_RD/lib/python3.8/site-packages/tables/array.py:241: DeprecationWarning:\n",
      "\n",
      "`np.object` is a deprecated alias for the builtin `object`. To silence this warning, use `object` by itself. Doing this will not modify any behavior and is safe. \n",
      "Deprecated in NumPy 1.20; for more details and guidance: https://numpy.org/devdocs/release/1.20.0-notes.html#deprecations\n",
      "\n",
      "/Users/ejwillemse/opt/anaconda3/envs/python_RD/lib/python3.8/site-packages/tables/array.py:241: DeprecationWarning:\n",
      "\n",
      "`np.object` is a deprecated alias for the builtin `object`. To silence this warning, use `object` by itself. Doing this will not modify any behavior and is safe. \n",
      "Deprecated in NumPy 1.20; for more details and guidance: https://numpy.org/devdocs/release/1.20.0-notes.html#deprecations\n",
      "\n",
      "/Users/ejwillemse/opt/anaconda3/envs/python_RD/lib/python3.8/site-packages/tables/leaf.py:544: VisibleDeprecationWarning:\n",
      "\n",
      "Creating an ndarray from ragged nested sequences (which is a list-or-tuple of lists-or-tuples-or ndarrays with different lengths or shapes) is deprecated. If you meant to do this, you must specify 'dtype=object' when creating the ndarray.\n",
      "\n"
     ]
    },
    {
     "name": "stdout",
     "output_type": "stream",
     "text": [
      "2022-06-02 23:19:07,657 - root - INFO - Creating nearest neighbour lists\n",
      "2022-06-02 23:19:11,162 - root - INFO - Calculate offloads: 8126 x 8126 x 2\n",
      "2022-06-02 23:19:20,095 - root - INFO - Done!\n",
      "2022-06-02 23:19:20,137 - root - INFO - Uploading scenario inputs...\n",
      "2022-06-02 23:19:20,164 - root - INFO - Setting service cost for network\n",
      "2022-06-02 23:19:20,173 - root - INFO - Setting demand for network\n",
      "2022-06-02 23:19:20,184 - root - INFO - Update travel durations.\n",
      "2022-06-02 23:19:20,464 - root - INFO - Update offload durations.\n",
      "2022-06-02 23:19:20,877 - root - INFO - Done\n",
      "2022-06-02 23:19:20,878 - root - INFO - Problem info supplied. Directly proceeding to solve problem.\n",
      "2022-06-02 23:19:54,269 - root - INFO - Done generating routes\n",
      "Number of routes: 10\n",
      "2022-06-02 23:19:54,270 - root - INFO - Preparing scenario outputs...\n"
     ]
    },
    {
     "name": "stderr",
     "output_type": "stream",
     "text": [
      "/Users/ejwillemse/opt/anaconda3/envs/python_RD/lib/python3.8/site-packages/tables/array.py:241: DeprecationWarning:\n",
      "\n",
      "`np.object` is a deprecated alias for the builtin `object`. To silence this warning, use `object` by itself. Doing this will not modify any behavior and is safe. \n",
      "Deprecated in NumPy 1.20; for more details and guidance: https://numpy.org/devdocs/release/1.20.0-notes.html#deprecations\n",
      "\n"
     ]
    },
    {
     "name": "stdout",
     "output_type": "stream",
     "text": [
      "2022-06-02 23:20:02,944 - root - INFO - Done preparing output\n",
      "2022-06-02 23:20:02,945 - kedro.io.data_catalog - INFO - Saving data to `resource_summary_table_20220601` (PartitionedDataSet)...\n"
     ]
    },
    {
     "name": "stderr",
     "output_type": "stream",
     "text": [
      "/Users/ejwillemse/dev/waste_labs_dev/project_rdi_cpt/src/mcarptif/visualise/route_tables.py:146: FutureWarning:\n",
      "\n",
      "The frame.append method is deprecated and will be removed from pandas in a future version. Use pandas.concat instead.\n",
      "\n"
     ]
    },
    {
     "name": "stdout",
     "output_type": "stream",
     "text": [
      "\n",
      "\n",
      " RUNNING SCENARIO households_089\n",
      "2022-06-02 23:20:03,397 - kedro.io.data_catalog - INFO - Loading data from `waste_gen_scenarios_local_20220601` (PartitionedDataSet)...\n",
      "2022-06-02 23:20:03,414 - kedro.io.data_catalog - INFO - Loading data from `routing_parameters` (ExcelDataSet)...\n",
      "2022-06-02 23:20:03,576 - root - INFO - Preparing road network.......\n",
      "\n",
      "2022-06-02 23:20:03,628 - root - INFO - Load required arcs\n",
      "2022-06-02 23:20:03,629 - root - INFO - Merging with the network\n",
      "2022-06-02 23:20:03,652 - root - INFO - Set depot\n",
      "2022-06-02 23:20:03,655 - root - INFO - Set offload facilities\n",
      "2022-06-02 23:20:03,665 - root - INFO - Extend required arcs with inverse edge arcs\n",
      "2022-06-02 23:20:03,744 - root - INFO - Checking master list\n",
      "2022-06-02 23:20:03,749 - root - INFO - Load distance matrix: 8119 x 8119\n"
     ]
    },
    {
     "name": "stderr",
     "output_type": "stream",
     "text": [
      "/Users/ejwillemse/opt/anaconda3/envs/python_RD/lib/python3.8/site-packages/tables/array.py:241: DeprecationWarning:\n",
      "\n",
      "`np.object` is a deprecated alias for the builtin `object`. To silence this warning, use `object` by itself. Doing this will not modify any behavior and is safe. \n",
      "Deprecated in NumPy 1.20; for more details and guidance: https://numpy.org/devdocs/release/1.20.0-notes.html#deprecations\n",
      "\n",
      "/Users/ejwillemse/opt/anaconda3/envs/python_RD/lib/python3.8/site-packages/tables/array.py:241: DeprecationWarning:\n",
      "\n",
      "`np.object` is a deprecated alias for the builtin `object`. To silence this warning, use `object` by itself. Doing this will not modify any behavior and is safe. \n",
      "Deprecated in NumPy 1.20; for more details and guidance: https://numpy.org/devdocs/release/1.20.0-notes.html#deprecations\n",
      "\n",
      "/Users/ejwillemse/opt/anaconda3/envs/python_RD/lib/python3.8/site-packages/tables/leaf.py:544: VisibleDeprecationWarning:\n",
      "\n",
      "Creating an ndarray from ragged nested sequences (which is a list-or-tuple of lists-or-tuples-or ndarrays with different lengths or shapes) is deprecated. If you meant to do this, you must specify 'dtype=object' when creating the ndarray.\n",
      "\n"
     ]
    },
    {
     "name": "stdout",
     "output_type": "stream",
     "text": [
      "2022-06-02 23:20:10,097 - root - INFO - Creating nearest neighbour lists\n",
      "2022-06-02 23:20:13,526 - root - INFO - Calculate offloads: 8119 x 8119 x 2\n",
      "2022-06-02 23:20:21,731 - root - INFO - Done!\n",
      "2022-06-02 23:20:21,772 - root - INFO - Uploading scenario inputs...\n",
      "2022-06-02 23:20:21,798 - root - INFO - Setting service cost for network\n",
      "2022-06-02 23:20:21,808 - root - INFO - Setting demand for network\n",
      "2022-06-02 23:20:21,818 - root - INFO - Update travel durations.\n",
      "2022-06-02 23:20:22,104 - root - INFO - Update offload durations.\n",
      "2022-06-02 23:20:22,524 - root - INFO - Done\n",
      "2022-06-02 23:20:22,525 - root - INFO - Problem info supplied. Directly proceeding to solve problem.\n",
      "2022-06-02 23:20:55,816 - root - INFO - Done generating routes\n",
      "Number of routes: 10\n",
      "2022-06-02 23:20:55,818 - root - INFO - Preparing scenario outputs...\n"
     ]
    },
    {
     "name": "stderr",
     "output_type": "stream",
     "text": [
      "/Users/ejwillemse/opt/anaconda3/envs/python_RD/lib/python3.8/site-packages/tables/array.py:241: DeprecationWarning:\n",
      "\n",
      "`np.object` is a deprecated alias for the builtin `object`. To silence this warning, use `object` by itself. Doing this will not modify any behavior and is safe. \n",
      "Deprecated in NumPy 1.20; for more details and guidance: https://numpy.org/devdocs/release/1.20.0-notes.html#deprecations\n",
      "\n"
     ]
    },
    {
     "name": "stdout",
     "output_type": "stream",
     "text": [
      "2022-06-02 23:21:04,896 - root - INFO - Done preparing output\n",
      "2022-06-02 23:21:04,897 - kedro.io.data_catalog - INFO - Saving data to `resource_summary_table_20220601` (PartitionedDataSet)...\n"
     ]
    },
    {
     "name": "stderr",
     "output_type": "stream",
     "text": [
      "/Users/ejwillemse/dev/waste_labs_dev/project_rdi_cpt/src/mcarptif/visualise/route_tables.py:146: FutureWarning:\n",
      "\n",
      "The frame.append method is deprecated and will be removed from pandas in a future version. Use pandas.concat instead.\n",
      "\n"
     ]
    },
    {
     "name": "stdout",
     "output_type": "stream",
     "text": [
      "\n",
      "\n",
      " RUNNING SCENARIO households_090\n",
      "2022-06-02 23:21:05,359 - kedro.io.data_catalog - INFO - Loading data from `waste_gen_scenarios_local_20220601` (PartitionedDataSet)...\n",
      "2022-06-02 23:21:05,377 - kedro.io.data_catalog - INFO - Loading data from `routing_parameters` (ExcelDataSet)...\n",
      "2022-06-02 23:21:05,548 - root - INFO - Preparing road network.......\n",
      "\n",
      "2022-06-02 23:21:05,606 - root - INFO - Load required arcs\n",
      "2022-06-02 23:21:05,608 - root - INFO - Merging with the network\n",
      "2022-06-02 23:21:05,631 - root - INFO - Set depot\n",
      "2022-06-02 23:21:05,634 - root - INFO - Set offload facilities\n",
      "2022-06-02 23:21:05,647 - root - INFO - Extend required arcs with inverse edge arcs\n",
      "2022-06-02 23:21:05,732 - root - INFO - Checking master list\n",
      "2022-06-02 23:21:05,738 - root - INFO - Load distance matrix: 8159 x 8159\n"
     ]
    },
    {
     "name": "stderr",
     "output_type": "stream",
     "text": [
      "/Users/ejwillemse/opt/anaconda3/envs/python_RD/lib/python3.8/site-packages/tables/array.py:241: DeprecationWarning:\n",
      "\n",
      "`np.object` is a deprecated alias for the builtin `object`. To silence this warning, use `object` by itself. Doing this will not modify any behavior and is safe. \n",
      "Deprecated in NumPy 1.20; for more details and guidance: https://numpy.org/devdocs/release/1.20.0-notes.html#deprecations\n",
      "\n",
      "/Users/ejwillemse/opt/anaconda3/envs/python_RD/lib/python3.8/site-packages/tables/array.py:241: DeprecationWarning:\n",
      "\n",
      "`np.object` is a deprecated alias for the builtin `object`. To silence this warning, use `object` by itself. Doing this will not modify any behavior and is safe. \n",
      "Deprecated in NumPy 1.20; for more details and guidance: https://numpy.org/devdocs/release/1.20.0-notes.html#deprecations\n",
      "\n",
      "/Users/ejwillemse/opt/anaconda3/envs/python_RD/lib/python3.8/site-packages/tables/leaf.py:544: VisibleDeprecationWarning:\n",
      "\n",
      "Creating an ndarray from ragged nested sequences (which is a list-or-tuple of lists-or-tuples-or ndarrays with different lengths or shapes) is deprecated. If you meant to do this, you must specify 'dtype=object' when creating the ndarray.\n",
      "\n"
     ]
    },
    {
     "name": "stdout",
     "output_type": "stream",
     "text": [
      "2022-06-02 23:21:13,191 - root - INFO - Creating nearest neighbour lists\n",
      "2022-06-02 23:21:17,017 - root - INFO - Calculate offloads: 8159 x 8159 x 2\n",
      "2022-06-02 23:21:29,080 - root - INFO - Done!\n",
      "2022-06-02 23:21:29,735 - root - INFO - Uploading scenario inputs...\n",
      "2022-06-02 23:21:29,778 - root - INFO - Setting service cost for network\n",
      "2022-06-02 23:21:29,793 - root - INFO - Setting demand for network\n",
      "2022-06-02 23:21:29,806 - root - INFO - Update travel durations.\n",
      "2022-06-02 23:21:30,224 - root - INFO - Update offload durations.\n",
      "2022-06-02 23:21:30,769 - root - INFO - Done\n",
      "2022-06-02 23:21:30,771 - root - INFO - Problem info supplied. Directly proceeding to solve problem.\n",
      "2022-06-02 23:22:05,100 - root - INFO - Done generating routes\n",
      "Number of routes: 10\n",
      "2022-06-02 23:22:05,102 - root - INFO - Preparing scenario outputs...\n"
     ]
    },
    {
     "name": "stderr",
     "output_type": "stream",
     "text": [
      "/Users/ejwillemse/opt/anaconda3/envs/python_RD/lib/python3.8/site-packages/tables/array.py:241: DeprecationWarning:\n",
      "\n",
      "`np.object` is a deprecated alias for the builtin `object`. To silence this warning, use `object` by itself. Doing this will not modify any behavior and is safe. \n",
      "Deprecated in NumPy 1.20; for more details and guidance: https://numpy.org/devdocs/release/1.20.0-notes.html#deprecations\n",
      "\n"
     ]
    },
    {
     "name": "stdout",
     "output_type": "stream",
     "text": [
      "2022-06-02 23:22:13,969 - root - INFO - Done preparing output\n",
      "2022-06-02 23:22:13,970 - kedro.io.data_catalog - INFO - Saving data to `resource_summary_table_20220601` (PartitionedDataSet)...\n"
     ]
    },
    {
     "name": "stderr",
     "output_type": "stream",
     "text": [
      "/Users/ejwillemse/dev/waste_labs_dev/project_rdi_cpt/src/mcarptif/visualise/route_tables.py:146: FutureWarning:\n",
      "\n",
      "The frame.append method is deprecated and will be removed from pandas in a future version. Use pandas.concat instead.\n",
      "\n"
     ]
    },
    {
     "name": "stdout",
     "output_type": "stream",
     "text": [
      "\n",
      "\n",
      " RUNNING SCENARIO households_091\n",
      "2022-06-02 23:22:14,440 - kedro.io.data_catalog - INFO - Loading data from `waste_gen_scenarios_local_20220601` (PartitionedDataSet)...\n",
      "2022-06-02 23:22:14,459 - kedro.io.data_catalog - INFO - Loading data from `routing_parameters` (ExcelDataSet)...\n",
      "2022-06-02 23:22:14,624 - root - INFO - Preparing road network.......\n",
      "\n",
      "2022-06-02 23:22:14,677 - root - INFO - Load required arcs\n",
      "2022-06-02 23:22:14,679 - root - INFO - Merging with the network\n",
      "2022-06-02 23:22:14,703 - root - INFO - Set depot\n",
      "2022-06-02 23:22:14,706 - root - INFO - Set offload facilities\n",
      "2022-06-02 23:22:14,716 - root - INFO - Extend required arcs with inverse edge arcs\n",
      "2022-06-02 23:22:14,795 - root - INFO - Checking master list\n",
      "2022-06-02 23:22:14,801 - root - INFO - Load distance matrix: 8133 x 8133\n"
     ]
    },
    {
     "name": "stderr",
     "output_type": "stream",
     "text": [
      "/Users/ejwillemse/opt/anaconda3/envs/python_RD/lib/python3.8/site-packages/tables/array.py:241: DeprecationWarning:\n",
      "\n",
      "`np.object` is a deprecated alias for the builtin `object`. To silence this warning, use `object` by itself. Doing this will not modify any behavior and is safe. \n",
      "Deprecated in NumPy 1.20; for more details and guidance: https://numpy.org/devdocs/release/1.20.0-notes.html#deprecations\n",
      "\n",
      "/Users/ejwillemse/opt/anaconda3/envs/python_RD/lib/python3.8/site-packages/tables/array.py:241: DeprecationWarning:\n",
      "\n",
      "`np.object` is a deprecated alias for the builtin `object`. To silence this warning, use `object` by itself. Doing this will not modify any behavior and is safe. \n",
      "Deprecated in NumPy 1.20; for more details and guidance: https://numpy.org/devdocs/release/1.20.0-notes.html#deprecations\n",
      "\n",
      "/Users/ejwillemse/opt/anaconda3/envs/python_RD/lib/python3.8/site-packages/tables/leaf.py:544: VisibleDeprecationWarning:\n",
      "\n",
      "Creating an ndarray from ragged nested sequences (which is a list-or-tuple of lists-or-tuples-or ndarrays with different lengths or shapes) is deprecated. If you meant to do this, you must specify 'dtype=object' when creating the ndarray.\n",
      "\n"
     ]
    },
    {
     "name": "stdout",
     "output_type": "stream",
     "text": [
      "2022-06-02 23:22:21,969 - root - INFO - Creating nearest neighbour lists\n",
      "2022-06-02 23:22:25,397 - root - INFO - Calculate offloads: 8133 x 8133 x 2\n",
      "2022-06-02 23:22:33,605 - root - INFO - Done!\n",
      "2022-06-02 23:22:33,646 - root - INFO - Uploading scenario inputs...\n",
      "2022-06-02 23:22:33,686 - root - INFO - Setting service cost for network\n",
      "2022-06-02 23:22:33,697 - root - INFO - Setting demand for network\n",
      "2022-06-02 23:22:33,708 - root - INFO - Update travel durations.\n",
      "2022-06-02 23:22:33,995 - root - INFO - Update offload durations.\n",
      "2022-06-02 23:22:34,407 - root - INFO - Done\n",
      "2022-06-02 23:22:34,408 - root - INFO - Problem info supplied. Directly proceeding to solve problem.\n",
      "2022-06-02 23:23:07,501 - root - INFO - Done generating routes\n",
      "Number of routes: 10\n",
      "2022-06-02 23:23:07,503 - root - INFO - Preparing scenario outputs...\n"
     ]
    },
    {
     "name": "stderr",
     "output_type": "stream",
     "text": [
      "/Users/ejwillemse/opt/anaconda3/envs/python_RD/lib/python3.8/site-packages/tables/array.py:241: DeprecationWarning:\n",
      "\n",
      "`np.object` is a deprecated alias for the builtin `object`. To silence this warning, use `object` by itself. Doing this will not modify any behavior and is safe. \n",
      "Deprecated in NumPy 1.20; for more details and guidance: https://numpy.org/devdocs/release/1.20.0-notes.html#deprecations\n",
      "\n"
     ]
    },
    {
     "name": "stdout",
     "output_type": "stream",
     "text": [
      "2022-06-02 23:23:16,516 - root - INFO - Done preparing output\n",
      "2022-06-02 23:23:16,517 - kedro.io.data_catalog - INFO - Saving data to `resource_summary_table_20220601` (PartitionedDataSet)...\n"
     ]
    },
    {
     "name": "stderr",
     "output_type": "stream",
     "text": [
      "/Users/ejwillemse/dev/waste_labs_dev/project_rdi_cpt/src/mcarptif/visualise/route_tables.py:146: FutureWarning:\n",
      "\n",
      "The frame.append method is deprecated and will be removed from pandas in a future version. Use pandas.concat instead.\n",
      "\n"
     ]
    },
    {
     "name": "stdout",
     "output_type": "stream",
     "text": [
      "\n",
      "\n",
      " RUNNING SCENARIO households_092\n",
      "2022-06-02 23:23:17,199 - kedro.io.data_catalog - INFO - Loading data from `waste_gen_scenarios_local_20220601` (PartitionedDataSet)...\n",
      "2022-06-02 23:23:17,219 - kedro.io.data_catalog - INFO - Loading data from `routing_parameters` (ExcelDataSet)...\n",
      "2022-06-02 23:23:17,392 - root - INFO - Preparing road network.......\n",
      "\n",
      "2022-06-02 23:23:17,453 - root - INFO - Load required arcs\n",
      "2022-06-02 23:23:17,455 - root - INFO - Merging with the network\n",
      "2022-06-02 23:23:17,482 - root - INFO - Set depot\n",
      "2022-06-02 23:23:17,486 - root - INFO - Set offload facilities\n",
      "2022-06-02 23:23:17,498 - root - INFO - Extend required arcs with inverse edge arcs\n",
      "2022-06-02 23:23:17,595 - root - INFO - Checking master list\n",
      "2022-06-02 23:23:17,602 - root - INFO - Load distance matrix: 8152 x 8152\n"
     ]
    },
    {
     "name": "stderr",
     "output_type": "stream",
     "text": [
      "/Users/ejwillemse/opt/anaconda3/envs/python_RD/lib/python3.8/site-packages/tables/array.py:241: DeprecationWarning:\n",
      "\n",
      "`np.object` is a deprecated alias for the builtin `object`. To silence this warning, use `object` by itself. Doing this will not modify any behavior and is safe. \n",
      "Deprecated in NumPy 1.20; for more details and guidance: https://numpy.org/devdocs/release/1.20.0-notes.html#deprecations\n",
      "\n",
      "/Users/ejwillemse/opt/anaconda3/envs/python_RD/lib/python3.8/site-packages/tables/array.py:241: DeprecationWarning:\n",
      "\n",
      "`np.object` is a deprecated alias for the builtin `object`. To silence this warning, use `object` by itself. Doing this will not modify any behavior and is safe. \n",
      "Deprecated in NumPy 1.20; for more details and guidance: https://numpy.org/devdocs/release/1.20.0-notes.html#deprecations\n",
      "\n",
      "/Users/ejwillemse/opt/anaconda3/envs/python_RD/lib/python3.8/site-packages/tables/leaf.py:544: VisibleDeprecationWarning:\n",
      "\n",
      "Creating an ndarray from ragged nested sequences (which is a list-or-tuple of lists-or-tuples-or ndarrays with different lengths or shapes) is deprecated. If you meant to do this, you must specify 'dtype=object' when creating the ndarray.\n",
      "\n"
     ]
    },
    {
     "name": "stdout",
     "output_type": "stream",
     "text": [
      "2022-06-02 23:23:24,301 - root - INFO - Creating nearest neighbour lists\n",
      "2022-06-02 23:23:27,774 - root - INFO - Calculate offloads: 8152 x 8152 x 2\n",
      "2022-06-02 23:23:36,774 - root - INFO - Done!\n",
      "2022-06-02 23:23:36,816 - root - INFO - Uploading scenario inputs...\n",
      "2022-06-02 23:23:36,837 - root - INFO - Setting service cost for network\n",
      "2022-06-02 23:23:36,847 - root - INFO - Setting demand for network\n",
      "2022-06-02 23:23:36,858 - root - INFO - Update travel durations.\n",
      "2022-06-02 23:23:37,159 - root - INFO - Update offload durations.\n",
      "2022-06-02 23:23:37,568 - root - INFO - Done\n",
      "2022-06-02 23:23:37,569 - root - INFO - Problem info supplied. Directly proceeding to solve problem.\n",
      "2022-06-02 23:24:11,151 - root - INFO - Done generating routes\n",
      "Number of routes: 10\n",
      "2022-06-02 23:24:11,153 - root - INFO - Preparing scenario outputs...\n"
     ]
    },
    {
     "name": "stderr",
     "output_type": "stream",
     "text": [
      "/Users/ejwillemse/opt/anaconda3/envs/python_RD/lib/python3.8/site-packages/tables/array.py:241: DeprecationWarning:\n",
      "\n",
      "`np.object` is a deprecated alias for the builtin `object`. To silence this warning, use `object` by itself. Doing this will not modify any behavior and is safe. \n",
      "Deprecated in NumPy 1.20; for more details and guidance: https://numpy.org/devdocs/release/1.20.0-notes.html#deprecations\n",
      "\n"
     ]
    },
    {
     "name": "stdout",
     "output_type": "stream",
     "text": [
      "2022-06-02 23:24:20,271 - root - INFO - Done preparing output\n",
      "2022-06-02 23:24:20,272 - kedro.io.data_catalog - INFO - Saving data to `resource_summary_table_20220601` (PartitionedDataSet)...\n"
     ]
    },
    {
     "name": "stderr",
     "output_type": "stream",
     "text": [
      "/Users/ejwillemse/dev/waste_labs_dev/project_rdi_cpt/src/mcarptif/visualise/route_tables.py:146: FutureWarning:\n",
      "\n",
      "The frame.append method is deprecated and will be removed from pandas in a future version. Use pandas.concat instead.\n",
      "\n"
     ]
    },
    {
     "name": "stdout",
     "output_type": "stream",
     "text": [
      "\n",
      "\n",
      " RUNNING SCENARIO households_093\n",
      "2022-06-02 23:24:20,796 - kedro.io.data_catalog - INFO - Loading data from `waste_gen_scenarios_local_20220601` (PartitionedDataSet)...\n",
      "2022-06-02 23:24:20,815 - kedro.io.data_catalog - INFO - Loading data from `routing_parameters` (ExcelDataSet)...\n",
      "2022-06-02 23:24:21,014 - root - INFO - Preparing road network.......\n",
      "\n",
      "2022-06-02 23:24:21,095 - root - INFO - Load required arcs\n",
      "2022-06-02 23:24:21,097 - root - INFO - Merging with the network\n",
      "2022-06-02 23:24:21,124 - root - INFO - Set depot\n",
      "2022-06-02 23:24:21,128 - root - INFO - Set offload facilities\n",
      "2022-06-02 23:24:21,140 - root - INFO - Extend required arcs with inverse edge arcs\n"
     ]
    },
    {
     "name": "stderr",
     "output_type": "stream",
     "text": [
      "/Users/ejwillemse/opt/anaconda3/envs/python_RD/lib/python3.8/site-packages/tables/array.py:241: DeprecationWarning:\n",
      "\n",
      "`np.object` is a deprecated alias for the builtin `object`. To silence this warning, use `object` by itself. Doing this will not modify any behavior and is safe. \n",
      "Deprecated in NumPy 1.20; for more details and guidance: https://numpy.org/devdocs/release/1.20.0-notes.html#deprecations\n",
      "\n"
     ]
    },
    {
     "name": "stdout",
     "output_type": "stream",
     "text": [
      "2022-06-02 23:24:21,240 - root - INFO - Checking master list\n",
      "2022-06-02 23:24:21,247 - root - INFO - Load distance matrix: 8143 x 8143\n"
     ]
    },
    {
     "name": "stderr",
     "output_type": "stream",
     "text": [
      "/Users/ejwillemse/opt/anaconda3/envs/python_RD/lib/python3.8/site-packages/tables/array.py:241: DeprecationWarning:\n",
      "\n",
      "`np.object` is a deprecated alias for the builtin `object`. To silence this warning, use `object` by itself. Doing this will not modify any behavior and is safe. \n",
      "Deprecated in NumPy 1.20; for more details and guidance: https://numpy.org/devdocs/release/1.20.0-notes.html#deprecations\n",
      "\n",
      "/Users/ejwillemse/opt/anaconda3/envs/python_RD/lib/python3.8/site-packages/tables/leaf.py:544: VisibleDeprecationWarning:\n",
      "\n",
      "Creating an ndarray from ragged nested sequences (which is a list-or-tuple of lists-or-tuples-or ndarrays with different lengths or shapes) is deprecated. If you meant to do this, you must specify 'dtype=object' when creating the ndarray.\n",
      "\n"
     ]
    },
    {
     "name": "stdout",
     "output_type": "stream",
     "text": [
      "2022-06-02 23:24:27,563 - root - INFO - Creating nearest neighbour lists\n",
      "2022-06-02 23:24:30,904 - root - INFO - Calculate offloads: 8143 x 8143 x 2\n",
      "2022-06-02 23:24:39,194 - root - INFO - Done!\n",
      "2022-06-02 23:24:39,239 - root - INFO - Uploading scenario inputs...\n",
      "2022-06-02 23:24:39,263 - root - INFO - Setting service cost for network\n",
      "2022-06-02 23:24:39,283 - root - INFO - Setting demand for network\n",
      "2022-06-02 23:24:39,314 - root - INFO - Update travel durations.\n",
      "2022-06-02 23:24:39,624 - root - INFO - Update offload durations.\n",
      "2022-06-02 23:24:40,048 - root - INFO - Done\n",
      "2022-06-02 23:24:40,049 - root - INFO - Problem info supplied. Directly proceeding to solve problem.\n",
      "2022-06-02 23:25:12,266 - root - INFO - Done generating routes\n",
      "Number of routes: 10\n",
      "2022-06-02 23:25:12,268 - root - INFO - Preparing scenario outputs...\n"
     ]
    },
    {
     "name": "stderr",
     "output_type": "stream",
     "text": [
      "/Users/ejwillemse/opt/anaconda3/envs/python_RD/lib/python3.8/site-packages/tables/array.py:241: DeprecationWarning:\n",
      "\n",
      "`np.object` is a deprecated alias for the builtin `object`. To silence this warning, use `object` by itself. Doing this will not modify any behavior and is safe. \n",
      "Deprecated in NumPy 1.20; for more details and guidance: https://numpy.org/devdocs/release/1.20.0-notes.html#deprecations\n",
      "\n"
     ]
    },
    {
     "name": "stdout",
     "output_type": "stream",
     "text": [
      "2022-06-02 23:25:20,381 - root - INFO - Done preparing output\n",
      "2022-06-02 23:25:20,382 - kedro.io.data_catalog - INFO - Saving data to `resource_summary_table_20220601` (PartitionedDataSet)...\n"
     ]
    },
    {
     "name": "stderr",
     "output_type": "stream",
     "text": [
      "/Users/ejwillemse/dev/waste_labs_dev/project_rdi_cpt/src/mcarptif/visualise/route_tables.py:146: FutureWarning:\n",
      "\n",
      "The frame.append method is deprecated and will be removed from pandas in a future version. Use pandas.concat instead.\n",
      "\n"
     ]
    },
    {
     "name": "stdout",
     "output_type": "stream",
     "text": [
      "\n",
      "\n",
      " RUNNING SCENARIO households_094\n",
      "2022-06-02 23:25:20,841 - kedro.io.data_catalog - INFO - Loading data from `waste_gen_scenarios_local_20220601` (PartitionedDataSet)...\n",
      "2022-06-02 23:25:20,858 - kedro.io.data_catalog - INFO - Loading data from `routing_parameters` (ExcelDataSet)...\n",
      "2022-06-02 23:25:21,001 - root - INFO - Preparing road network.......\n",
      "\n",
      "2022-06-02 23:25:21,054 - root - INFO - Load required arcs\n",
      "2022-06-02 23:25:21,056 - root - INFO - Merging with the network\n",
      "2022-06-02 23:25:21,080 - root - INFO - Set depot\n",
      "2022-06-02 23:25:21,084 - root - INFO - Set offload facilities\n",
      "2022-06-02 23:25:21,094 - root - INFO - Extend required arcs with inverse edge arcs\n",
      "2022-06-02 23:25:21,181 - root - INFO - Checking master list\n",
      "2022-06-02 23:25:21,188 - root - INFO - Load distance matrix: 8134 x 8134\n"
     ]
    },
    {
     "name": "stderr",
     "output_type": "stream",
     "text": [
      "/Users/ejwillemse/opt/anaconda3/envs/python_RD/lib/python3.8/site-packages/tables/array.py:241: DeprecationWarning:\n",
      "\n",
      "`np.object` is a deprecated alias for the builtin `object`. To silence this warning, use `object` by itself. Doing this will not modify any behavior and is safe. \n",
      "Deprecated in NumPy 1.20; for more details and guidance: https://numpy.org/devdocs/release/1.20.0-notes.html#deprecations\n",
      "\n",
      "/Users/ejwillemse/opt/anaconda3/envs/python_RD/lib/python3.8/site-packages/tables/array.py:241: DeprecationWarning:\n",
      "\n",
      "`np.object` is a deprecated alias for the builtin `object`. To silence this warning, use `object` by itself. Doing this will not modify any behavior and is safe. \n",
      "Deprecated in NumPy 1.20; for more details and guidance: https://numpy.org/devdocs/release/1.20.0-notes.html#deprecations\n",
      "\n",
      "/Users/ejwillemse/opt/anaconda3/envs/python_RD/lib/python3.8/site-packages/tables/leaf.py:544: VisibleDeprecationWarning:\n",
      "\n",
      "Creating an ndarray from ragged nested sequences (which is a list-or-tuple of lists-or-tuples-or ndarrays with different lengths or shapes) is deprecated. If you meant to do this, you must specify 'dtype=object' when creating the ndarray.\n",
      "\n"
     ]
    },
    {
     "name": "stdout",
     "output_type": "stream",
     "text": [
      "2022-06-02 23:25:27,449 - root - INFO - Creating nearest neighbour lists\n",
      "2022-06-02 23:25:30,866 - root - INFO - Calculate offloads: 8134 x 8134 x 2\n",
      "2022-06-02 23:25:39,838 - root - INFO - Done!\n",
      "2022-06-02 23:25:39,878 - root - INFO - Uploading scenario inputs...\n",
      "2022-06-02 23:25:39,903 - root - INFO - Setting service cost for network\n",
      "2022-06-02 23:25:39,916 - root - INFO - Setting demand for network\n",
      "2022-06-02 23:25:39,927 - root - INFO - Update travel durations.\n",
      "2022-06-02 23:25:40,216 - root - INFO - Update offload durations.\n",
      "2022-06-02 23:25:40,625 - root - INFO - Done\n",
      "2022-06-02 23:25:40,626 - root - INFO - Problem info supplied. Directly proceeding to solve problem.\n",
      "2022-06-02 23:26:13,575 - root - INFO - Done generating routes\n",
      "Number of routes: 10\n",
      "2022-06-02 23:26:13,577 - root - INFO - Preparing scenario outputs...\n"
     ]
    },
    {
     "name": "stderr",
     "output_type": "stream",
     "text": [
      "/Users/ejwillemse/opt/anaconda3/envs/python_RD/lib/python3.8/site-packages/tables/array.py:241: DeprecationWarning:\n",
      "\n",
      "`np.object` is a deprecated alias for the builtin `object`. To silence this warning, use `object` by itself. Doing this will not modify any behavior and is safe. \n",
      "Deprecated in NumPy 1.20; for more details and guidance: https://numpy.org/devdocs/release/1.20.0-notes.html#deprecations\n",
      "\n"
     ]
    },
    {
     "name": "stdout",
     "output_type": "stream",
     "text": [
      "2022-06-02 23:26:22,076 - root - INFO - Done preparing output\n",
      "2022-06-02 23:26:22,077 - kedro.io.data_catalog - INFO - Saving data to `resource_summary_table_20220601` (PartitionedDataSet)...\n"
     ]
    },
    {
     "name": "stderr",
     "output_type": "stream",
     "text": [
      "/Users/ejwillemse/dev/waste_labs_dev/project_rdi_cpt/src/mcarptif/visualise/route_tables.py:146: FutureWarning:\n",
      "\n",
      "The frame.append method is deprecated and will be removed from pandas in a future version. Use pandas.concat instead.\n",
      "\n"
     ]
    },
    {
     "name": "stdout",
     "output_type": "stream",
     "text": [
      "\n",
      "\n",
      " RUNNING SCENARIO households_095\n",
      "2022-06-02 23:26:22,668 - kedro.io.data_catalog - INFO - Loading data from `waste_gen_scenarios_local_20220601` (PartitionedDataSet)...\n",
      "2022-06-02 23:26:22,685 - kedro.io.data_catalog - INFO - Loading data from `routing_parameters` (ExcelDataSet)...\n",
      "2022-06-02 23:26:22,838 - root - INFO - Preparing road network.......\n",
      "\n",
      "2022-06-02 23:26:22,893 - root - INFO - Load required arcs\n",
      "2022-06-02 23:26:22,895 - root - INFO - Merging with the network\n",
      "2022-06-02 23:26:22,919 - root - INFO - Set depot\n",
      "2022-06-02 23:26:22,923 - root - INFO - Set offload facilities\n",
      "2022-06-02 23:26:22,932 - root - INFO - Extend required arcs with inverse edge arcs\n",
      "2022-06-02 23:26:23,011 - root - INFO - Checking master list\n",
      "2022-06-02 23:26:23,017 - root - INFO - Load distance matrix: 8128 x 8128\n"
     ]
    },
    {
     "name": "stderr",
     "output_type": "stream",
     "text": [
      "/Users/ejwillemse/opt/anaconda3/envs/python_RD/lib/python3.8/site-packages/tables/array.py:241: DeprecationWarning:\n",
      "\n",
      "`np.object` is a deprecated alias for the builtin `object`. To silence this warning, use `object` by itself. Doing this will not modify any behavior and is safe. \n",
      "Deprecated in NumPy 1.20; for more details and guidance: https://numpy.org/devdocs/release/1.20.0-notes.html#deprecations\n",
      "\n",
      "/Users/ejwillemse/opt/anaconda3/envs/python_RD/lib/python3.8/site-packages/tables/array.py:241: DeprecationWarning:\n",
      "\n",
      "`np.object` is a deprecated alias for the builtin `object`. To silence this warning, use `object` by itself. Doing this will not modify any behavior and is safe. \n",
      "Deprecated in NumPy 1.20; for more details and guidance: https://numpy.org/devdocs/release/1.20.0-notes.html#deprecations\n",
      "\n",
      "/Users/ejwillemse/opt/anaconda3/envs/python_RD/lib/python3.8/site-packages/tables/leaf.py:544: VisibleDeprecationWarning:\n",
      "\n",
      "Creating an ndarray from ragged nested sequences (which is a list-or-tuple of lists-or-tuples-or ndarrays with different lengths or shapes) is deprecated. If you meant to do this, you must specify 'dtype=object' when creating the ndarray.\n",
      "\n"
     ]
    },
    {
     "name": "stdout",
     "output_type": "stream",
     "text": [
      "2022-06-02 23:26:29,674 - root - INFO - Creating nearest neighbour lists\n",
      "2022-06-02 23:26:33,026 - root - INFO - Calculate offloads: 8128 x 8128 x 2\n",
      "2022-06-02 23:26:42,223 - root - INFO - Done!\n",
      "2022-06-02 23:26:42,265 - root - INFO - Uploading scenario inputs...\n",
      "2022-06-02 23:26:42,293 - root - INFO - Setting service cost for network\n",
      "2022-06-02 23:26:42,303 - root - INFO - Setting demand for network\n",
      "2022-06-02 23:26:42,313 - root - INFO - Update travel durations.\n",
      "2022-06-02 23:26:42,591 - root - INFO - Update offload durations.\n",
      "2022-06-02 23:26:42,998 - root - INFO - Done\n",
      "2022-06-02 23:26:43,000 - root - INFO - Problem info supplied. Directly proceeding to solve problem.\n",
      "2022-06-02 23:27:14,923 - root - INFO - Done generating routes\n",
      "Number of routes: 10\n",
      "2022-06-02 23:27:14,925 - root - INFO - Preparing scenario outputs...\n"
     ]
    },
    {
     "name": "stderr",
     "output_type": "stream",
     "text": [
      "/Users/ejwillemse/opt/anaconda3/envs/python_RD/lib/python3.8/site-packages/tables/array.py:241: DeprecationWarning:\n",
      "\n",
      "`np.object` is a deprecated alias for the builtin `object`. To silence this warning, use `object` by itself. Doing this will not modify any behavior and is safe. \n",
      "Deprecated in NumPy 1.20; for more details and guidance: https://numpy.org/devdocs/release/1.20.0-notes.html#deprecations\n",
      "\n"
     ]
    },
    {
     "name": "stdout",
     "output_type": "stream",
     "text": [
      "2022-06-02 23:27:23,944 - root - INFO - Done preparing output\n",
      "2022-06-02 23:27:23,945 - kedro.io.data_catalog - INFO - Saving data to `resource_summary_table_20220601` (PartitionedDataSet)...\n"
     ]
    },
    {
     "name": "stderr",
     "output_type": "stream",
     "text": [
      "/Users/ejwillemse/dev/waste_labs_dev/project_rdi_cpt/src/mcarptif/visualise/route_tables.py:146: FutureWarning:\n",
      "\n",
      "The frame.append method is deprecated and will be removed from pandas in a future version. Use pandas.concat instead.\n",
      "\n"
     ]
    },
    {
     "name": "stdout",
     "output_type": "stream",
     "text": [
      "\n",
      "\n",
      " RUNNING SCENARIO households_096\n",
      "2022-06-02 23:27:24,418 - kedro.io.data_catalog - INFO - Loading data from `waste_gen_scenarios_local_20220601` (PartitionedDataSet)...\n",
      "2022-06-02 23:27:24,436 - kedro.io.data_catalog - INFO - Loading data from `routing_parameters` (ExcelDataSet)...\n",
      "2022-06-02 23:27:24,584 - root - INFO - Preparing road network.......\n",
      "\n",
      "2022-06-02 23:27:24,638 - root - INFO - Load required arcs\n",
      "2022-06-02 23:27:24,640 - root - INFO - Merging with the network\n",
      "2022-06-02 23:27:24,664 - root - INFO - Set depot\n",
      "2022-06-02 23:27:24,667 - root - INFO - Set offload facilities\n",
      "2022-06-02 23:27:24,678 - root - INFO - Extend required arcs with inverse edge arcs\n",
      "2022-06-02 23:27:24,756 - root - INFO - Checking master list\n",
      "2022-06-02 23:27:24,761 - root - INFO - Load distance matrix: 8162 x 8162\n"
     ]
    },
    {
     "name": "stderr",
     "output_type": "stream",
     "text": [
      "/Users/ejwillemse/opt/anaconda3/envs/python_RD/lib/python3.8/site-packages/tables/array.py:241: DeprecationWarning:\n",
      "\n",
      "`np.object` is a deprecated alias for the builtin `object`. To silence this warning, use `object` by itself. Doing this will not modify any behavior and is safe. \n",
      "Deprecated in NumPy 1.20; for more details and guidance: https://numpy.org/devdocs/release/1.20.0-notes.html#deprecations\n",
      "\n",
      "/Users/ejwillemse/opt/anaconda3/envs/python_RD/lib/python3.8/site-packages/tables/array.py:241: DeprecationWarning:\n",
      "\n",
      "`np.object` is a deprecated alias for the builtin `object`. To silence this warning, use `object` by itself. Doing this will not modify any behavior and is safe. \n",
      "Deprecated in NumPy 1.20; for more details and guidance: https://numpy.org/devdocs/release/1.20.0-notes.html#deprecations\n",
      "\n",
      "/Users/ejwillemse/opt/anaconda3/envs/python_RD/lib/python3.8/site-packages/tables/leaf.py:544: VisibleDeprecationWarning:\n",
      "\n",
      "Creating an ndarray from ragged nested sequences (which is a list-or-tuple of lists-or-tuples-or ndarrays with different lengths or shapes) is deprecated. If you meant to do this, you must specify 'dtype=object' when creating the ndarray.\n",
      "\n"
     ]
    },
    {
     "name": "stdout",
     "output_type": "stream",
     "text": [
      "2022-06-02 23:27:32,527 - root - INFO - Creating nearest neighbour lists\n",
      "2022-06-02 23:27:36,309 - root - INFO - Calculate offloads: 8162 x 8162 x 2\n",
      "2022-06-02 23:27:47,448 - root - INFO - Done!\n",
      "2022-06-02 23:27:48,073 - root - INFO - Uploading scenario inputs...\n",
      "2022-06-02 23:27:48,110 - root - INFO - Setting service cost for network\n",
      "2022-06-02 23:27:48,122 - root - INFO - Setting demand for network\n",
      "2022-06-02 23:27:48,132 - root - INFO - Update travel durations.\n",
      "2022-06-02 23:27:48,521 - root - INFO - Update offload durations.\n",
      "2022-06-02 23:27:48,916 - root - INFO - Done\n",
      "2022-06-02 23:27:48,917 - root - INFO - Problem info supplied. Directly proceeding to solve problem.\n",
      "2022-06-02 23:28:22,416 - root - INFO - Done generating routes\n",
      "Number of routes: 10\n",
      "2022-06-02 23:28:22,418 - root - INFO - Preparing scenario outputs...\n"
     ]
    },
    {
     "name": "stderr",
     "output_type": "stream",
     "text": [
      "/Users/ejwillemse/opt/anaconda3/envs/python_RD/lib/python3.8/site-packages/tables/array.py:241: DeprecationWarning:\n",
      "\n",
      "`np.object` is a deprecated alias for the builtin `object`. To silence this warning, use `object` by itself. Doing this will not modify any behavior and is safe. \n",
      "Deprecated in NumPy 1.20; for more details and guidance: https://numpy.org/devdocs/release/1.20.0-notes.html#deprecations\n",
      "\n"
     ]
    },
    {
     "name": "stdout",
     "output_type": "stream",
     "text": [
      "2022-06-02 23:28:31,401 - root - INFO - Done preparing output\n",
      "2022-06-02 23:28:31,403 - kedro.io.data_catalog - INFO - Saving data to `resource_summary_table_20220601` (PartitionedDataSet)...\n"
     ]
    },
    {
     "name": "stderr",
     "output_type": "stream",
     "text": [
      "/Users/ejwillemse/dev/waste_labs_dev/project_rdi_cpt/src/mcarptif/visualise/route_tables.py:146: FutureWarning:\n",
      "\n",
      "The frame.append method is deprecated and will be removed from pandas in a future version. Use pandas.concat instead.\n",
      "\n"
     ]
    },
    {
     "name": "stdout",
     "output_type": "stream",
     "text": [
      "\n",
      "\n",
      " RUNNING SCENARIO households_097\n",
      "2022-06-02 23:28:31,889 - kedro.io.data_catalog - INFO - Loading data from `waste_gen_scenarios_local_20220601` (PartitionedDataSet)...\n",
      "2022-06-02 23:28:31,910 - kedro.io.data_catalog - INFO - Loading data from `routing_parameters` (ExcelDataSet)...\n",
      "2022-06-02 23:28:32,093 - root - INFO - Preparing road network.......\n",
      "\n",
      "2022-06-02 23:28:32,153 - root - INFO - Load required arcs\n",
      "2022-06-02 23:28:32,155 - root - INFO - Merging with the network\n",
      "2022-06-02 23:28:32,179 - root - INFO - Set depot\n",
      "2022-06-02 23:28:32,184 - root - INFO - Set offload facilities\n",
      "2022-06-02 23:28:32,194 - root - INFO - Extend required arcs with inverse edge arcs\n",
      "2022-06-02 23:28:32,278 - root - INFO - Checking master list\n",
      "2022-06-02 23:28:32,284 - root - INFO - Load distance matrix: 8141 x 8141\n"
     ]
    },
    {
     "name": "stderr",
     "output_type": "stream",
     "text": [
      "/Users/ejwillemse/opt/anaconda3/envs/python_RD/lib/python3.8/site-packages/tables/array.py:241: DeprecationWarning:\n",
      "\n",
      "`np.object` is a deprecated alias for the builtin `object`. To silence this warning, use `object` by itself. Doing this will not modify any behavior and is safe. \n",
      "Deprecated in NumPy 1.20; for more details and guidance: https://numpy.org/devdocs/release/1.20.0-notes.html#deprecations\n",
      "\n",
      "/Users/ejwillemse/opt/anaconda3/envs/python_RD/lib/python3.8/site-packages/tables/array.py:241: DeprecationWarning:\n",
      "\n",
      "`np.object` is a deprecated alias for the builtin `object`. To silence this warning, use `object` by itself. Doing this will not modify any behavior and is safe. \n",
      "Deprecated in NumPy 1.20; for more details and guidance: https://numpy.org/devdocs/release/1.20.0-notes.html#deprecations\n",
      "\n",
      "/Users/ejwillemse/opt/anaconda3/envs/python_RD/lib/python3.8/site-packages/tables/leaf.py:544: VisibleDeprecationWarning:\n",
      "\n",
      "Creating an ndarray from ragged nested sequences (which is a list-or-tuple of lists-or-tuples-or ndarrays with different lengths or shapes) is deprecated. If you meant to do this, you must specify 'dtype=object' when creating the ndarray.\n",
      "\n"
     ]
    },
    {
     "name": "stdout",
     "output_type": "stream",
     "text": [
      "2022-06-02 23:28:39,300 - root - INFO - Creating nearest neighbour lists\n",
      "2022-06-02 23:28:42,859 - root - INFO - Calculate offloads: 8141 x 8141 x 2\n",
      "2022-06-02 23:28:51,956 - root - INFO - Done!\n",
      "2022-06-02 23:28:51,997 - root - INFO - Uploading scenario inputs...\n",
      "2022-06-02 23:28:52,023 - root - INFO - Setting service cost for network\n",
      "2022-06-02 23:28:52,032 - root - INFO - Setting demand for network\n",
      "2022-06-02 23:28:52,042 - root - INFO - Update travel durations.\n",
      "2022-06-02 23:28:52,323 - root - INFO - Update offload durations.\n",
      "2022-06-02 23:28:52,725 - root - INFO - Done\n",
      "2022-06-02 23:28:52,726 - root - INFO - Problem info supplied. Directly proceeding to solve problem.\n",
      "2022-06-02 23:29:26,365 - root - INFO - Done generating routes\n",
      "Number of routes: 10\n",
      "2022-06-02 23:29:26,366 - root - INFO - Preparing scenario outputs...\n"
     ]
    },
    {
     "name": "stderr",
     "output_type": "stream",
     "text": [
      "/Users/ejwillemse/opt/anaconda3/envs/python_RD/lib/python3.8/site-packages/tables/array.py:241: DeprecationWarning:\n",
      "\n",
      "`np.object` is a deprecated alias for the builtin `object`. To silence this warning, use `object` by itself. Doing this will not modify any behavior and is safe. \n",
      "Deprecated in NumPy 1.20; for more details and guidance: https://numpy.org/devdocs/release/1.20.0-notes.html#deprecations\n",
      "\n"
     ]
    },
    {
     "name": "stdout",
     "output_type": "stream",
     "text": [
      "2022-06-02 23:29:35,416 - root - INFO - Done preparing output\n",
      "2022-06-02 23:29:35,417 - kedro.io.data_catalog - INFO - Saving data to `resource_summary_table_20220601` (PartitionedDataSet)...\n"
     ]
    },
    {
     "name": "stderr",
     "output_type": "stream",
     "text": [
      "/Users/ejwillemse/dev/waste_labs_dev/project_rdi_cpt/src/mcarptif/visualise/route_tables.py:146: FutureWarning:\n",
      "\n",
      "The frame.append method is deprecated and will be removed from pandas in a future version. Use pandas.concat instead.\n",
      "\n"
     ]
    },
    {
     "name": "stdout",
     "output_type": "stream",
     "text": [
      "\n",
      "\n",
      " RUNNING SCENARIO households_098\n",
      "2022-06-02 23:29:35,914 - kedro.io.data_catalog - INFO - Loading data from `waste_gen_scenarios_local_20220601` (PartitionedDataSet)...\n",
      "2022-06-02 23:29:35,933 - kedro.io.data_catalog - INFO - Loading data from `routing_parameters` (ExcelDataSet)...\n",
      "2022-06-02 23:29:36,097 - root - INFO - Preparing road network.......\n",
      "\n",
      "2022-06-02 23:29:36,160 - root - INFO - Load required arcs\n",
      "2022-06-02 23:29:36,161 - root - INFO - Merging with the network\n",
      "2022-06-02 23:29:36,185 - root - INFO - Set depot\n",
      "2022-06-02 23:29:36,190 - root - INFO - Set offload facilities\n",
      "2022-06-02 23:29:36,203 - root - INFO - Extend required arcs with inverse edge arcs\n",
      "2022-06-02 23:29:36,287 - root - INFO - Checking master list\n",
      "2022-06-02 23:29:36,295 - root - INFO - Load distance matrix: 8125 x 8125\n"
     ]
    },
    {
     "name": "stderr",
     "output_type": "stream",
     "text": [
      "/Users/ejwillemse/opt/anaconda3/envs/python_RD/lib/python3.8/site-packages/tables/array.py:241: DeprecationWarning:\n",
      "\n",
      "`np.object` is a deprecated alias for the builtin `object`. To silence this warning, use `object` by itself. Doing this will not modify any behavior and is safe. \n",
      "Deprecated in NumPy 1.20; for more details and guidance: https://numpy.org/devdocs/release/1.20.0-notes.html#deprecations\n",
      "\n",
      "/Users/ejwillemse/opt/anaconda3/envs/python_RD/lib/python3.8/site-packages/tables/array.py:241: DeprecationWarning:\n",
      "\n",
      "`np.object` is a deprecated alias for the builtin `object`. To silence this warning, use `object` by itself. Doing this will not modify any behavior and is safe. \n",
      "Deprecated in NumPy 1.20; for more details and guidance: https://numpy.org/devdocs/release/1.20.0-notes.html#deprecations\n",
      "\n",
      "/Users/ejwillemse/opt/anaconda3/envs/python_RD/lib/python3.8/site-packages/tables/leaf.py:544: VisibleDeprecationWarning:\n",
      "\n",
      "Creating an ndarray from ragged nested sequences (which is a list-or-tuple of lists-or-tuples-or ndarrays with different lengths or shapes) is deprecated. If you meant to do this, you must specify 'dtype=object' when creating the ndarray.\n",
      "\n"
     ]
    },
    {
     "name": "stdout",
     "output_type": "stream",
     "text": [
      "2022-06-02 23:29:42,759 - root - INFO - Creating nearest neighbour lists\n",
      "2022-06-02 23:29:46,181 - root - INFO - Calculate offloads: 8125 x 8125 x 2\n",
      "2022-06-02 23:29:55,094 - root - INFO - Done!\n",
      "2022-06-02 23:29:55,135 - root - INFO - Uploading scenario inputs...\n",
      "2022-06-02 23:29:55,158 - root - INFO - Setting service cost for network\n",
      "2022-06-02 23:29:55,168 - root - INFO - Setting demand for network\n",
      "2022-06-02 23:29:55,177 - root - INFO - Update travel durations.\n",
      "2022-06-02 23:29:55,475 - root - INFO - Update offload durations.\n",
      "2022-06-02 23:29:55,896 - root - INFO - Done\n",
      "2022-06-02 23:29:55,898 - root - INFO - Problem info supplied. Directly proceeding to solve problem.\n",
      "2022-06-02 23:30:29,327 - root - INFO - Done generating routes\n",
      "Number of routes: 10\n",
      "2022-06-02 23:30:29,328 - root - INFO - Preparing scenario outputs...\n"
     ]
    },
    {
     "name": "stderr",
     "output_type": "stream",
     "text": [
      "/Users/ejwillemse/opt/anaconda3/envs/python_RD/lib/python3.8/site-packages/tables/array.py:241: DeprecationWarning:\n",
      "\n",
      "`np.object` is a deprecated alias for the builtin `object`. To silence this warning, use `object` by itself. Doing this will not modify any behavior and is safe. \n",
      "Deprecated in NumPy 1.20; for more details and guidance: https://numpy.org/devdocs/release/1.20.0-notes.html#deprecations\n",
      "\n"
     ]
    },
    {
     "name": "stdout",
     "output_type": "stream",
     "text": [
      "2022-06-02 23:30:37,734 - root - INFO - Done preparing output\n",
      "2022-06-02 23:30:37,735 - kedro.io.data_catalog - INFO - Saving data to `resource_summary_table_20220601` (PartitionedDataSet)...\n"
     ]
    },
    {
     "name": "stderr",
     "output_type": "stream",
     "text": [
      "/Users/ejwillemse/dev/waste_labs_dev/project_rdi_cpt/src/mcarptif/visualise/route_tables.py:146: FutureWarning:\n",
      "\n",
      "The frame.append method is deprecated and will be removed from pandas in a future version. Use pandas.concat instead.\n",
      "\n"
     ]
    },
    {
     "name": "stdout",
     "output_type": "stream",
     "text": [
      "\n",
      "\n",
      " RUNNING SCENARIO households_099\n",
      "2022-06-02 23:30:38,203 - kedro.io.data_catalog - INFO - Loading data from `waste_gen_scenarios_local_20220601` (PartitionedDataSet)...\n",
      "2022-06-02 23:30:38,219 - kedro.io.data_catalog - INFO - Loading data from `routing_parameters` (ExcelDataSet)...\n",
      "2022-06-02 23:30:38,375 - root - INFO - Preparing road network.......\n",
      "\n",
      "2022-06-02 23:30:38,433 - root - INFO - Load required arcs\n",
      "2022-06-02 23:30:38,435 - root - INFO - Merging with the network\n",
      "2022-06-02 23:30:38,459 - root - INFO - Set depot\n",
      "2022-06-02 23:30:38,462 - root - INFO - Set offload facilities\n",
      "2022-06-02 23:30:38,473 - root - INFO - Extend required arcs with inverse edge arcs\n",
      "2022-06-02 23:30:38,564 - root - INFO - Checking master list\n",
      "2022-06-02 23:30:38,570 - root - INFO - Load distance matrix: 8129 x 8129\n"
     ]
    },
    {
     "name": "stderr",
     "output_type": "stream",
     "text": [
      "/Users/ejwillemse/opt/anaconda3/envs/python_RD/lib/python3.8/site-packages/tables/array.py:241: DeprecationWarning:\n",
      "\n",
      "`np.object` is a deprecated alias for the builtin `object`. To silence this warning, use `object` by itself. Doing this will not modify any behavior and is safe. \n",
      "Deprecated in NumPy 1.20; for more details and guidance: https://numpy.org/devdocs/release/1.20.0-notes.html#deprecations\n",
      "\n",
      "/Users/ejwillemse/opt/anaconda3/envs/python_RD/lib/python3.8/site-packages/tables/array.py:241: DeprecationWarning:\n",
      "\n",
      "`np.object` is a deprecated alias for the builtin `object`. To silence this warning, use `object` by itself. Doing this will not modify any behavior and is safe. \n",
      "Deprecated in NumPy 1.20; for more details and guidance: https://numpy.org/devdocs/release/1.20.0-notes.html#deprecations\n",
      "\n",
      "/Users/ejwillemse/opt/anaconda3/envs/python_RD/lib/python3.8/site-packages/tables/leaf.py:544: VisibleDeprecationWarning:\n",
      "\n",
      "Creating an ndarray from ragged nested sequences (which is a list-or-tuple of lists-or-tuples-or ndarrays with different lengths or shapes) is deprecated. If you meant to do this, you must specify 'dtype=object' when creating the ndarray.\n",
      "\n"
     ]
    },
    {
     "name": "stdout",
     "output_type": "stream",
     "text": [
      "2022-06-02 23:30:44,872 - root - INFO - Creating nearest neighbour lists\n",
      "2022-06-02 23:30:48,252 - root - INFO - Calculate offloads: 8129 x 8129 x 2\n",
      "2022-06-02 23:30:56,355 - root - INFO - Done!\n",
      "2022-06-02 23:30:56,395 - root - INFO - Uploading scenario inputs...\n",
      "2022-06-02 23:30:56,417 - root - INFO - Setting service cost for network\n",
      "2022-06-02 23:30:56,427 - root - INFO - Setting demand for network\n",
      "2022-06-02 23:30:56,436 - root - INFO - Update travel durations.\n",
      "2022-06-02 23:30:56,727 - root - INFO - Update offload durations.\n",
      "2022-06-02 23:30:57,357 - root - INFO - Done\n",
      "2022-06-02 23:30:57,358 - root - INFO - Problem info supplied. Directly proceeding to solve problem.\n",
      "2022-06-02 23:31:31,361 - root - INFO - Done generating routes\n",
      "Number of routes: 10\n",
      "2022-06-02 23:31:31,362 - root - INFO - Preparing scenario outputs...\n"
     ]
    },
    {
     "name": "stderr",
     "output_type": "stream",
     "text": [
      "/Users/ejwillemse/opt/anaconda3/envs/python_RD/lib/python3.8/site-packages/tables/array.py:241: DeprecationWarning:\n",
      "\n",
      "`np.object` is a deprecated alias for the builtin `object`. To silence this warning, use `object` by itself. Doing this will not modify any behavior and is safe. \n",
      "Deprecated in NumPy 1.20; for more details and guidance: https://numpy.org/devdocs/release/1.20.0-notes.html#deprecations\n",
      "\n"
     ]
    },
    {
     "name": "stdout",
     "output_type": "stream",
     "text": [
      "2022-06-02 23:31:40,359 - root - INFO - Done preparing output\n",
      "2022-06-02 23:31:40,360 - kedro.io.data_catalog - INFO - Saving data to `resource_summary_table_20220601` (PartitionedDataSet)...\n"
     ]
    },
    {
     "name": "stderr",
     "output_type": "stream",
     "text": [
      "/Users/ejwillemse/dev/waste_labs_dev/project_rdi_cpt/src/mcarptif/visualise/route_tables.py:146: FutureWarning:\n",
      "\n",
      "The frame.append method is deprecated and will be removed from pandas in a future version. Use pandas.concat instead.\n",
      "\n"
     ]
    },
    {
     "name": "stdout",
     "output_type": "stream",
     "text": [
      "\n",
      "\n",
      " RUNNING SCENARIO households_100\n",
      "2022-06-02 23:31:40,847 - kedro.io.data_catalog - INFO - Loading data from `waste_gen_scenarios_local_20220601` (PartitionedDataSet)...\n",
      "2022-06-02 23:31:40,873 - kedro.io.data_catalog - INFO - Loading data from `routing_parameters` (ExcelDataSet)...\n",
      "2022-06-02 23:31:41,065 - root - INFO - Preparing road network.......\n",
      "\n",
      "2022-06-02 23:31:41,127 - root - INFO - Load required arcs\n",
      "2022-06-02 23:31:41,128 - root - INFO - Merging with the network\n",
      "2022-06-02 23:31:41,153 - root - INFO - Set depot\n",
      "2022-06-02 23:31:41,157 - root - INFO - Set offload facilities\n",
      "2022-06-02 23:31:41,170 - root - INFO - Extend required arcs with inverse edge arcs\n",
      "2022-06-02 23:31:41,256 - root - INFO - Checking master list\n",
      "2022-06-02 23:31:41,263 - root - INFO - Load distance matrix: 8124 x 8124\n"
     ]
    },
    {
     "name": "stderr",
     "output_type": "stream",
     "text": [
      "/Users/ejwillemse/opt/anaconda3/envs/python_RD/lib/python3.8/site-packages/tables/array.py:241: DeprecationWarning:\n",
      "\n",
      "`np.object` is a deprecated alias for the builtin `object`. To silence this warning, use `object` by itself. Doing this will not modify any behavior and is safe. \n",
      "Deprecated in NumPy 1.20; for more details and guidance: https://numpy.org/devdocs/release/1.20.0-notes.html#deprecations\n",
      "\n",
      "/Users/ejwillemse/opt/anaconda3/envs/python_RD/lib/python3.8/site-packages/tables/array.py:241: DeprecationWarning:\n",
      "\n",
      "`np.object` is a deprecated alias for the builtin `object`. To silence this warning, use `object` by itself. Doing this will not modify any behavior and is safe. \n",
      "Deprecated in NumPy 1.20; for more details and guidance: https://numpy.org/devdocs/release/1.20.0-notes.html#deprecations\n",
      "\n",
      "/Users/ejwillemse/opt/anaconda3/envs/python_RD/lib/python3.8/site-packages/tables/leaf.py:544: VisibleDeprecationWarning:\n",
      "\n",
      "Creating an ndarray from ragged nested sequences (which is a list-or-tuple of lists-or-tuples-or ndarrays with different lengths or shapes) is deprecated. If you meant to do this, you must specify 'dtype=object' when creating the ndarray.\n",
      "\n"
     ]
    },
    {
     "name": "stdout",
     "output_type": "stream",
     "text": [
      "2022-06-02 23:31:47,284 - root - INFO - Creating nearest neighbour lists\n",
      "2022-06-02 23:31:50,610 - root - INFO - Calculate offloads: 8124 x 8124 x 2\n",
      "2022-06-02 23:31:58,452 - root - INFO - Done!\n",
      "2022-06-02 23:31:58,494 - root - INFO - Uploading scenario inputs...\n",
      "2022-06-02 23:31:58,516 - root - INFO - Setting service cost for network\n",
      "2022-06-02 23:31:58,526 - root - INFO - Setting demand for network\n",
      "2022-06-02 23:31:58,538 - root - INFO - Update travel durations.\n",
      "2022-06-02 23:31:58,822 - root - INFO - Update offload durations.\n",
      "2022-06-02 23:31:59,220 - root - INFO - Done\n",
      "2022-06-02 23:31:59,221 - root - INFO - Problem info supplied. Directly proceeding to solve problem.\n",
      "2022-06-02 23:32:32,621 - root - INFO - Done generating routes\n",
      "Number of routes: 10\n",
      "2022-06-02 23:32:32,622 - root - INFO - Preparing scenario outputs...\n"
     ]
    },
    {
     "name": "stderr",
     "output_type": "stream",
     "text": [
      "/Users/ejwillemse/opt/anaconda3/envs/python_RD/lib/python3.8/site-packages/tables/array.py:241: DeprecationWarning:\n",
      "\n",
      "`np.object` is a deprecated alias for the builtin `object`. To silence this warning, use `object` by itself. Doing this will not modify any behavior and is safe. \n",
      "Deprecated in NumPy 1.20; for more details and guidance: https://numpy.org/devdocs/release/1.20.0-notes.html#deprecations\n",
      "\n"
     ]
    },
    {
     "name": "stdout",
     "output_type": "stream",
     "text": [
      "2022-06-02 23:32:40,976 - root - INFO - Done preparing output\n",
      "2022-06-02 23:32:40,977 - kedro.io.data_catalog - INFO - Saving data to `resource_summary_table_20220601` (PartitionedDataSet)...\n"
     ]
    },
    {
     "name": "stderr",
     "output_type": "stream",
     "text": [
      "/Users/ejwillemse/dev/waste_labs_dev/project_rdi_cpt/src/mcarptif/visualise/route_tables.py:146: FutureWarning:\n",
      "\n",
      "The frame.append method is deprecated and will be removed from pandas in a future version. Use pandas.concat instead.\n",
      "\n"
     ]
    }
   ],
   "source": [
    "keys_all = list(df_producer_geo_all)\n",
    "\n",
    "for keys in keys_all:\n",
    "    if keys[0] == \".\": continue\n",
    "    if keys in solved: continue\n",
    "    print(f\"\\n\\n RUNNING SCENARIO {keys}\")\n",
    "\n",
    "    df_producer_geo = df_producer_geo_all[keys]()\n",
    "    df_producer_geo[\"lat_lon_id\"] = (\n",
    "        df_producer_geo[[\"parcelLat\", \"parcelLon\"]]\n",
    "        .round(8)\n",
    "        .astype(str)\n",
    "        .agg(\"-\".join, axis=1)\n",
    "    )\n",
    "    df_producer_geo = df_producer_geo.merge(df_lat_lon_match, left_on=\"lat_lon_id\", right_on=\"lat_lon_id\")\n",
    "\n",
    "    df_producer_geo = df_producer_geo.merge(\n",
    "        test_network[[\"arc_id\", \"geom_id\", \"geom_id_inv\", \"geom_id_order\", \"arc_index\"]],\n",
    "        validate=\"m:1\",\n",
    "    )\n",
    "    df_producer_geo[\"land_use\"] = df_producer_geo[\"mainDwellingType\"].fillna(\"nan\")\n",
    "\n",
    "\n",
    "    df_producer_geo_waste = catalog.load(\"waste_gen_scenarios_local_20220601\")[keys]()\n",
    "    df_producer_geo_waste = df_producer_geo_waste.loc[df_producer_geo_waste[\"id\"] != 0.01]\n",
    "    df_producer_geo_waste = df_producer_geo_waste.loc[df_producer_geo_waste[\"id\"].isin(df_producer_geo[\"id\"])]\n",
    "\n",
    "    routing_parameters = catalog.load(\n",
    "        \"routing_parameters\"\n",
    "    )  # pd.read_excel('../routing_parameters/refuse_parameters.xlsx', sheet_name = 'Refuse_P1')\n",
    "    routing_parameters.fillna(0, inplace=True)\n",
    "\n",
    "    calculate = [\"bin_service_cost\"]\n",
    "    df_producer_geo.drop(columns=calculate, inplace=True, errors=\"ignore\")\n",
    "    df_producer_geo[\"Domestic\"] = 1\n",
    "    df_producer_geo[\"Non Domestic\"] = 0\n",
    "    df_producer_geo[\"H/M\"] = 0\n",
    "    df_producer_geo[\"category\"] = \"Landed\"\n",
    "    df_producer_geo[\"land_use\"] = \"Landed\"\n",
    "    df_producer_geo[\"total units\"] = 1\n",
    "    df_producer_geo[\"total_people\"] = 1\n",
    "    df_producer_geo[\"Postal Code\"] = df_producer_geo[\"id\"]\n",
    "\n",
    "    df_producer_geo = df_producer_geo.merge(routing_parameters)\n",
    "    df_producer_geo = df_producer_geo.merge(\n",
    "        df_producer_geo_waste, how=\"left\", validate=\"1:1\"\n",
    "    )\n",
    "    df_producer_geo[\"demand\"] = df_producer_geo[\"waste\"]\n",
    "    # print(\"\\n# offloads (12t)\")\n",
    "    # df_producer_geo.groupby(\"land_use\")[\"demand\"].sum() / 12000  # number of offloads\n",
    "    # print(\"\\n# units\")\n",
    "    # df_producer_geo.groupby(\"land_use\")[\"total units\"].sum()\n",
    "    # print(\"\\n# shifts (bin service cost)\")\n",
    "    # df_producer_geo.groupby(\"land_use\")[\"bin_service_cost\"].sum() / (\n",
    "    #     3600 * 8\n",
    "    # )  # number of shifts\n",
    "\n",
    "    key_pois = infrastructure\n",
    "    key_pois[\"Postal Code\"] = key_pois[\"id\"]\n",
    "\n",
    "    key_pois[\"u\"] = key_pois[\"arc_u\"]\n",
    "    key_pois[\"v\"] = key_pois[\"arc_v\"]\n",
    "    key_pois[\"key\"] = 0\n",
    "    key_pois[\"geometry_point\"] = key_pois[\"geometry\"]\n",
    "    key_pois[\"geometry\"] = key_pois[\"geometry_arc\"]\n",
    "    key_pois = process_gdf.process_edges(key_pois)\n",
    "    key_pois[\"geometry\"] = key_pois[\"geometry_point\"]\n",
    "    key_pois = key_pois.merge(test_network[[\"arc_id\", \"arc_index\"]], validate=\"1:1\")\n",
    "\n",
    "    offload = key_pois.loc[(key_pois[\"type\"] != \"depot\")]\n",
    "\n",
    "    key_depos = key_pois.loc[key_pois[\"type\"] == \"depot\"]\n",
    "    key_pois_list = list(key_depos[\"description\"].unique())\n",
    "\n",
    "    description = \"Depot 2\"\n",
    "\n",
    "    key_depot_select = key_depos.copy()\n",
    "    key_depot_select = key_depot_select.loc[key_depot_select[\"description\"] == description]\n",
    "    depot_arc_index = key_depot_select.iloc[0][\"arc_index\"]\n",
    "    offload = key_pois.loc[key_pois[\"type\"] != \"depot\"]\n",
    "\n",
    "    descriptions = [\"Offload 2\", \"Offload 3\"]\n",
    "\n",
    "    key_if_select = offload.copy()\n",
    "    key_if_select = key_if_select.loc[key_if_select[\"description\"].isin(descriptions)]\n",
    "    if_arc_index = key_if_select[\"arc_index\"].values\n",
    "\n",
    "    key_list = list(df_producer_geo[\"category\"].unique())\n",
    "\n",
    "    descriptions = [\"Landed\"]\n",
    "\n",
    "    bad_arcs = [\n",
    "        \"[(18.4571747, -33.9584372), (18.457166, -33.9585368), (18.457156, -33.9585885), (18.4571405, -33.9586324), (18.4571204, -33.9586875), (18.4570842, -33.9587648), (18.4568647, -33.9591331), (18.4568633, -33.9591415), (18.4568634, -33.9591465), (18.4568651, -33.9591518), (18.4568693, -33.9591571), (18.4568826, -33.9591636), (18.4570165, -33.9592207), (18.4570237, -33.9592212), (18.4570302, -33.9592194), (18.4570376, -33.9592149), (18.4570447, -33.9592066), (18.4570542, -33.9591921), (18.457325, -33.958752), (18.4573407, -33.9587173), (18.4573555, -33.9586744), (18.4573665, -33.9586219), (18.4573672, -33.9585957), (18.4573652, -33.958564), (18.4573568, -33.9585404), (18.4573451, -33.9585162), (18.457334, -33.9585017), (18.4573196, -33.9584906), (18.4573008, -33.9584812), (18.457278, -33.9584717), (18.4571747, -33.9584372)]\"\n",
    "    ]\n",
    "\n",
    "    prod_select = df_producer_geo.copy()\n",
    "    prod_select = prod_select.loc[~prod_select[\"geom_id_order\"].isin(bad_arcs)]\n",
    "    prod_select = prod_select.loc[prod_select[\"category\"].isin(descriptions)]\n",
    "\n",
    "    logging.info(\"Preparing road network.......\\n\")\n",
    "    nodes[\"u\"] = nodes[\"osmid\"]\n",
    "    network_info = NetworkExtract(\n",
    "        test_network,\n",
    "        test_network_directed,\n",
    "        nodes,\n",
    "        networkh5_file,\n",
    "        round_cost=True,\n",
    "        key_pois=key_pois,\n",
    "    )\n",
    "    \n",
    "    depot = depot_arc_index\n",
    "    ifs = if_arc_index\n",
    "    req_arcs = network_info.arc_consolidation_standard(prod_select)\n",
    "    network_info.load_required_arcs(req_arcs, merge_network=True)\n",
    "    network_info.set_depot_arc(depot)\n",
    "    network_info.set_if_arcs(ifs)\n",
    "    network_info.loc_in_required_arcs()\n",
    "\n",
    "    network_info.extend_required_inverse_arcs()\n",
    "\n",
    "    network_info.check_main_list()\n",
    "    network_info.load_distance_matrix()\n",
    "    network_info.offload_calculations3D()\n",
    "\n",
    "    network_info.network_gdf(prod_select)\n",
    "\n",
    "    logging.info(\"Done!\")\n",
    "\n",
    "    cut_off = 100000\n",
    "    bad_arcs = []\n",
    "    for i in range(len(network_info.d)):\n",
    "        if network_info.d[i, 0] > cut_off:\n",
    "            bad_arc = network_info.reqArcList[i]\n",
    "            bad_links = test_network.loc[test_network[\"arc_index\"] == bad_arc]\n",
    "            bad_arcs += bad_links[\"geom_id_order\"].tolist()\n",
    "    assert len(bad_arcs) == 0\n",
    "    \n",
    "\n",
    "    cut_off = 100000\n",
    "    bad_arcs = []\n",
    "    for i in range(len(network_info.d)):\n",
    "        if network_info.d[0, i] > cut_off:\n",
    "            bad_arc = network_info.reqArcList[i]\n",
    "            bad_links = test_network.loc[test_network[\"arc_index\"] == bad_arc]\n",
    "            bad_arcs += bad_links[\"geom_id_order\"].tolist()\n",
    "    assert len(bad_arcs) == 0\n",
    "    \n",
    "\n",
    "    d_max = network_info.d.max()\n",
    "    if d_max == np.inf:\n",
    "        d_i = network_info.d.argmax(axis=0)[0]\n",
    "        bad_arc = network_info.reqArcList[d_i]\n",
    "        print(network_info.d[d_i, :])\n",
    "        print(network_info.d[:, d_i])\n",
    "        d_i2 = network_info.d[d_i, :].argmax()\n",
    "        bad_arc2 = network_info.reqArcList[d_i2]\n",
    "        print(network_info.d[d_i2, :])\n",
    "        print(network_info.d[:, d_i2])\n",
    "        test_network.loc[test_network[\"arc_index\"] == bad_arc]\n",
    "        test_network.loc[test_network[\"arc_index\"] == bad_arc2]\n",
    "\n",
    "    scenario_name = \"Landed refuse\"\n",
    "    schedule_select = \"weekly\"\n",
    "    offload_time = 15 * 60\n",
    "    max_duration = 10.5 * 3600\n",
    "    capacity = 10.5 * 1000\n",
    "    travel_speed = 45 / 3.6\n",
    "    service_speed = 30 / 3.6\n",
    "\n",
    "    demand_increase_factor = {\"daily\": 1, \"weekly\": 1, \"two_one\": 1}\n",
    "    increase_factor = demand_increase_factor[schedule_select]\n",
    "\n",
    "    logging.info(\"Uploading scenario inputs...\")\n",
    "    prod_select_update = prod_select.copy()\n",
    "    prod_arc_update = prod_select_update.copy()\n",
    "\n",
    "    network_info.producer_demand = prod_arc_update\n",
    "    prod_arc_update = network_info.add_demand_service_cost_to_ars(\n",
    "        prod_select_update, service_speed\n",
    "    )\n",
    "    _ = pd.DataFrame(\n",
    "        prod_arc_update.drop(columns=[\"arc_index\"]).sum(numeric_only=True)\n",
    "    ).astype(int)\n",
    "\n",
    "    network_info.set_travel_speed(travel_speed)\n",
    "    network_info.set_service_cost_and_demand(prod_arc_update)\n",
    "    network_info.set_offload_time(offload_time)\n",
    "    network_info.check_shapes()\n",
    "\n",
    "    network_info.update_cost_matrix()\n",
    "    network_info.update_offload_cost()\n",
    "\n",
    "    network_info.set_vechile_capacity_constraint(capacity)\n",
    "    network_info.set_vehicle_duration_constraint(max_duration)\n",
    "    logging.info(\"Done\")\n",
    "\n",
    "    solution_df = solve_store_instance(\n",
    "        \"\",\n",
    "        improve=None,\n",
    "        write_results=False,\n",
    "        info=network_info,\n",
    "        overwrite=True,\n",
    "        test_solution=False,\n",
    "        full_output=False,\n",
    "        tollerance=60,\n",
    "        nnFracLS=1,\n",
    "        nnFracTS=0.25,\n",
    "    )\n",
    "    logging.info(\"Done generating routes\")\n",
    "    n_route = solution_df[\"route\"].max() + 1\n",
    "    print(f\"Number of routes: {n_route}\")\n",
    "\n",
    "    logging.info(\"Preparing scenario outputs...\")\n",
    "\n",
    "    network_info.extend_prop_info()\n",
    "    network_info.add_solution(solution_df, order=False)\n",
    "    network_info.deconstruct_solution()\n",
    "\n",
    "    network_info.vehicle_collection_schedule(schedule=schedule_select)\n",
    "    network_info.extract_wide_offload_totals()\n",
    "\n",
    "    network_info.add_traversal_time()\n",
    "    network_info.add_time_formatted()\n",
    "    network_info.add_constant_duration_time()\n",
    "\n",
    "    _ = network_info.full_producer_report()\n",
    "\n",
    "    route_summary = RouteSummary(network_info)\n",
    "    route_sum_table = route_summary.route_summary()\n",
    "    logging.info(\"Done preparing output\")\n",
    "\n",
    "    catalog.save(\"resource_summary_table_20220601\", {keys: route_sum_table})"
   ]
  },
  {
   "cell_type": "code",
   "execution_count": null,
   "metadata": {},
   "outputs": [],
   "source": []
  }
 ],
 "metadata": {
  "kernelspec": {
   "display_name": "DemandestimationandwastecollectionroutingoptimisationfortheCityofCapeTown",
   "language": "python",
   "name": "python3"
  },
  "language_info": {
   "codemirror_mode": {
    "name": "ipython",
    "version": 3
   },
   "file_extension": ".py",
   "mimetype": "text/x-python",
   "name": "python",
   "nbconvert_exporter": "python",
   "pygments_lexer": "ipython3",
   "version": "3.8.12"
  },
  "widgets": {
   "application/vnd.jupyter.widget-state+json": {
    "state": {
     "0404c280bd7a492aa7508beb5a1fcfdc": {
      "model_module": "@jupyter-widgets/base",
      "model_module_version": "1.2.0",
      "model_name": "LayoutModel",
      "state": {}
     },
     "05d2e6be818a4a2f9c76407f8e1eb5ec": {
      "model_module": "@jupyter-widgets/controls",
      "model_module_version": "1.5.0",
      "model_name": "DescriptionStyleModel",
      "state": {
       "description_width": ""
      }
     },
     "0a6eac1142654a048ac05ee24867a21b": {
      "model_module": "@jupyter-widgets/controls",
      "model_module_version": "1.5.0",
      "model_name": "ButtonStyleModel",
      "state": {}
     },
     "0fd27e83b944482c80c54aa77199667d": {
      "model_module": "@jupyter-widgets/base",
      "model_module_version": "1.2.0",
      "model_name": "LayoutModel",
      "state": {}
     },
     "13dd97b986d149f29e513251304cea19": {
      "model_module": "@jupyter-widgets/output",
      "model_module_version": "1.0.0",
      "model_name": "OutputModel",
      "state": {
       "layout": "IPY_MODEL_e0103eff14ce4eb08422d3be9dfa040a"
      }
     },
     "16e6989affb846b0baf6204485ea672d": {
      "model_module": "@jupyter-widgets/controls",
      "model_module_version": "1.5.0",
      "model_name": "DescriptionStyleModel",
      "state": {
       "description_width": ""
      }
     },
     "182ddfca166843ae87b1cac941d1269b": {
      "model_module": "@jupyter-widgets/output",
      "model_module_version": "1.0.0",
      "model_name": "OutputModel",
      "state": {
       "layout": "IPY_MODEL_4cf7782dc39e49ba887c15105601b0f2",
       "outputs": [
        {
         "data": {
          "text/html": "<div>\n<style scoped>\n    .dataframe tbody tr th:only-of-type {\n        vertical-align: middle;\n    }\n\n    .dataframe tbody tr th {\n        vertical-align: top;\n    }\n\n    .dataframe thead th {\n        text-align: right;\n    }\n</style>\n<table border=\"1\" class=\"dataframe\">\n  <thead>\n    <tr style=\"text-align: right;\">\n      <th></th>\n      <th>description</th>\n      <th>type</th>\n      <th>Postal Code</th>\n      <th>ADDRESS</th>\n    </tr>\n  </thead>\n  <tbody>\n    <tr>\n      <th>2</th>\n      <td>ALBA W&amp;H Tuas depot</td>\n      <td>depot</td>\n      <td>639142</td>\n      <td>18 tuas avenue 10 singapore 639142</td>\n    </tr>\n  </tbody>\n</table>\n</div>",
          "text/plain": "           description   type Postal Code                             ADDRESS\n2  ALBA W&H Tuas depot  depot      639142  18 tuas avenue 10 singapore 639142"
         },
         "metadata": {},
         "output_type": "display_data"
        }
       ]
      }
     },
     "18e19de11b3546e5adab0286d75db98d": {
      "model_module": "@jupyter-widgets/output",
      "model_module_version": "1.0.0",
      "model_name": "OutputModel",
      "state": {
       "layout": "IPY_MODEL_2e8cb26f70334cc58df3f12109655625",
       "outputs": [
        {
         "data": {
          "text/plain": "'Producers in area: 16057'"
         },
         "metadata": {},
         "output_type": "display_data"
        }
       ]
      }
     },
     "1bb42f3182c04b58bc692d0f4742bc2d": {
      "model_module": "@jupyter-widgets/base",
      "model_module_version": "1.2.0",
      "model_name": "LayoutModel",
      "state": {}
     },
     "1cad8f7177fa4f5ea8556673f1ae64bb": {
      "model_module": "@jupyter-widgets/controls",
      "model_module_version": "1.5.0",
      "model_name": "SelectMultipleModel",
      "state": {
       "_options_labels": [
        "crc.csv",
        "BC.csv",
        "schools.csv",
        "bulk_hawker.csv",
        "trade_temple_other.csv",
        "gov.csv",
        "bc_blocks.csv",
        "condo_optin.csv",
        "landed.csv"
       ],
       "description": "Input file:",
       "index": [
        0,
        2,
        3,
        4,
        5,
        7,
        8
       ],
       "layout": "IPY_MODEL_8579420f34cd4bab9dc6ccb407c74f64",
       "rows": 9,
       "style": "IPY_MODEL_71cbeb9fa5264d32938c92313bab9fd1"
      }
     },
     "1d48adc2b5d24d679a6e20b970cdb56d": {
      "model_module": "@jupyter-widgets/base",
      "model_module_version": "1.2.0",
      "model_name": "LayoutModel",
      "state": {}
     },
     "21676f2219ee4ba5a144804ce0093439": {
      "model_module": "@jupyter-widgets/base",
      "model_module_version": "1.2.0",
      "model_name": "LayoutModel",
      "state": {}
     },
     "25a8b760a7f94eb5951d37e855d72727": {
      "model_module": "@jupyter-widgets/controls",
      "model_module_version": "1.5.0",
      "model_name": "VBoxModel",
      "state": {
       "_dom_classes": [
        "widget-interact"
       ],
       "children": [
        "IPY_MODEL_e6b6d946d1ed4fb682d736c5c3897f93",
        "IPY_MODEL_9539799220fe4775970a4fcbce1875ef"
       ],
       "layout": "IPY_MODEL_97944c3db4b945f48f6ae6a1cc134f3b"
      }
     },
     "265966bf297149b59ef3d92887186d8a": {
      "model_module": "@jupyter-widgets/controls",
      "model_module_version": "1.5.0",
      "model_name": "VBoxModel",
      "state": {
       "_dom_classes": [
        "widget-interact"
       ],
       "children": [
        "IPY_MODEL_504bdc0b9d15434ca959c87df398ea35",
        "IPY_MODEL_18e19de11b3546e5adab0286d75db98d"
       ],
       "layout": "IPY_MODEL_622b557735bb4486983f22987f257557"
      }
     },
     "288a0f87b3cb4e439f2df4c900700fb8": {
      "model_module": "@jupyter-widgets/controls",
      "model_module_version": "1.5.0",
      "model_name": "VBoxModel",
      "state": {
       "_dom_classes": [
        "widget-interact"
       ],
       "children": [
        "IPY_MODEL_b4e7121e00c84c409bf933d85c5be6a3",
        "IPY_MODEL_67dac95bcd4a49a79503b1cee672774d"
       ],
       "layout": "IPY_MODEL_21676f2219ee4ba5a144804ce0093439"
      }
     },
     "2b4e53df9b1445a98927a0b37c13d217": {
      "model_module": "@jupyter-widgets/output",
      "model_module_version": "1.0.0",
      "model_name": "OutputModel",
      "state": {
       "layout": "IPY_MODEL_0404c280bd7a492aa7508beb5a1fcfdc"
      }
     },
     "2ca17a19b9124d20805807fdf56c5991": {
      "model_module": "@jupyter-widgets/base",
      "model_module_version": "1.2.0",
      "model_name": "LayoutModel",
      "state": {}
     },
     "2dab04fec7604ba8a85279c0f047f6c9": {
      "model_module": "@jupyter-widgets/base",
      "model_module_version": "1.2.0",
      "model_name": "LayoutModel",
      "state": {}
     },
     "2e8cb26f70334cc58df3f12109655625": {
      "model_module": "@jupyter-widgets/base",
      "model_module_version": "1.2.0",
      "model_name": "LayoutModel",
      "state": {}
     },
     "341087fabb234a46a56558951c4405e0": {
      "model_module": "@jupyter-widgets/controls",
      "model_module_version": "1.5.0",
      "model_name": "VBoxModel",
      "state": {
       "_dom_classes": [
        "widget-interact"
       ],
       "children": [
        "IPY_MODEL_1cad8f7177fa4f5ea8556673f1ae64bb",
        "IPY_MODEL_cb24cb8da58849448fc9a1b3534c36ee"
       ],
       "layout": "IPY_MODEL_0fd27e83b944482c80c54aa77199667d"
      }
     },
     "391cbe513c284d1f9b58b5cc5911e59f": {
      "model_module": "@jupyter-widgets/controls",
      "model_module_version": "1.5.0",
      "model_name": "VBoxModel",
      "state": {
       "_dom_classes": [
        "widget-interact"
       ],
       "children": [
        "IPY_MODEL_7868f8346fed48deb80e9d2bdd2079c1",
        "IPY_MODEL_e2b9ab564343429ab8341dd254170f21"
       ],
       "layout": "IPY_MODEL_a394688f1a5e48e48cc67d6c1678b6d2"
      }
     },
     "3a9e99243c064694bcd39e4ba956f0b3": {
      "model_module": "@jupyter-widgets/base",
      "model_module_version": "1.2.0",
      "model_name": "LayoutModel",
      "state": {}
     },
     "409e0a0f840e46edaaad6d5dcf3c364f": {
      "model_module": "@jupyter-widgets/base",
      "model_module_version": "1.2.0",
      "model_name": "LayoutModel",
      "state": {}
     },
     "4576df5e7e4045379a97beef7b67d006": {
      "model_module": "@jupyter-widgets/base",
      "model_module_version": "1.2.0",
      "model_name": "LayoutModel",
      "state": {}
     },
     "461ffd4d4fed477eb203b7f6a5411cfa": {
      "model_module": "@jupyter-widgets/controls",
      "model_module_version": "1.5.0",
      "model_name": "DescriptionStyleModel",
      "state": {
       "description_width": ""
      }
     },
     "463b011330ef4d3db35038c8a857f4b7": {
      "model_module": "@jupyter-widgets/base",
      "model_module_version": "1.2.0",
      "model_name": "LayoutModel",
      "state": {}
     },
     "4cf7782dc39e49ba887c15105601b0f2": {
      "model_module": "@jupyter-widgets/base",
      "model_module_version": "1.2.0",
      "model_name": "LayoutModel",
      "state": {}
     },
     "504bdc0b9d15434ca959c87df398ea35": {
      "model_module": "@jupyter-widgets/controls",
      "model_module_version": "1.5.0",
      "model_name": "SelectMultipleModel",
      "state": {
       "_options_labels": [
        "crc.csv",
        "BC.csv",
        "schools.csv",
        "bulk_hawker.csv",
        "trade_temple_other.csv",
        "gov.csv",
        "bc_blocks.csv",
        "condo_optin.csv",
        "landed.csv"
       ],
       "description": "Input file:",
       "index": [
        0,
        2,
        3,
        4,
        5,
        7,
        8
       ],
       "layout": "IPY_MODEL_463b011330ef4d3db35038c8a857f4b7",
       "rows": 9,
       "style": "IPY_MODEL_461ffd4d4fed477eb203b7f6a5411cfa"
      }
     },
     "50cb8b8f05ac47be8d3f2907f6d218c8": {
      "model_module": "@jupyter-widgets/controls",
      "model_module_version": "1.5.0",
      "model_name": "ButtonStyleModel",
      "state": {}
     },
     "53a536581bdd4742bf03f1d3d16e90f7": {
      "model_module": "@jupyter-widgets/output",
      "model_module_version": "1.0.0",
      "model_name": "OutputModel",
      "state": {
       "layout": "IPY_MODEL_a8ac7c7b928c4e48b24704fa5f841cfd"
      }
     },
     "58b7238f301f4d129545701570bb8116": {
      "model_module": "@jupyter-widgets/controls",
      "model_module_version": "1.5.0",
      "model_name": "ButtonStyleModel",
      "state": {}
     },
     "622b557735bb4486983f22987f257557": {
      "model_module": "@jupyter-widgets/base",
      "model_module_version": "1.2.0",
      "model_name": "LayoutModel",
      "state": {}
     },
     "677d23deb7274b0ca279dffdd2c7b91b": {
      "model_module": "@jupyter-widgets/controls",
      "model_module_version": "1.5.0",
      "model_name": "ButtonModel",
      "state": {
       "description": "Show map",
       "layout": "IPY_MODEL_f5da9e1175f24814a9ba6195fdcf3885",
       "style": "IPY_MODEL_cefa579cf05f44a88720211847e8e885"
      }
     },
     "67dac95bcd4a49a79503b1cee672774d": {
      "model_module": "@jupyter-widgets/output",
      "model_module_version": "1.0.0",
      "model_name": "OutputModel",
      "state": {
       "layout": "IPY_MODEL_f9dca610179d43ce8d843f264b73f9ab",
       "outputs": [
        {
         "data": {
          "text/html": "<div>\n<style scoped>\n    .dataframe tbody tr th:only-of-type {\n        vertical-align: middle;\n    }\n\n    .dataframe tbody tr th {\n        vertical-align: top;\n    }\n\n    .dataframe thead th {\n        text-align: right;\n    }\n</style>\n<table border=\"1\" class=\"dataframe\">\n  <thead>\n    <tr style=\"text-align: right;\">\n      <th></th>\n      <th>description</th>\n      <th>type</th>\n      <th>Postal Code</th>\n      <th>ADDRESS</th>\n    </tr>\n  </thead>\n  <tbody>\n    <tr>\n      <th>5</th>\n      <td>Senoko Incineration Plant</td>\n      <td>waste_treatment</td>\n      <td>759907</td>\n      <td>30 attap valley road senoko incineration plant...</td>\n    </tr>\n    <tr>\n      <th>6</th>\n      <td>Tuas South Incineration Plant</td>\n      <td>waste_treatment</td>\n      <td>637821</td>\n      <td>98 tuas south avenue 3 singapore 637821</td>\n    </tr>\n    <tr>\n      <th>7</th>\n      <td>KSTP</td>\n      <td>waste_treatment</td>\n      <td>637366</td>\n      <td>96 tuas south avenue 3 singapore 637366</td>\n    </tr>\n  </tbody>\n</table>\n</div>",
          "text/plain": "                     description             type Postal Code  \\\n5      Senoko Incineration Plant  waste_treatment      759907   \n6  Tuas South Incineration Plant  waste_treatment      637821   \n7                           KSTP  waste_treatment      637366   \n\n                                             ADDRESS  \n5  30 attap valley road senoko incineration plant...  \n6            98 tuas south avenue 3 singapore 637821  \n7            96 tuas south avenue 3 singapore 637366  "
         },
         "metadata": {},
         "output_type": "display_data"
        }
       ]
      }
     },
     "6985cb8ed2434a029b3d1484bfb9ee9e": {
      "model_module": "@jupyter-widgets/controls",
      "model_module_version": "1.5.0",
      "model_name": "ButtonModel",
      "state": {
       "description": "Show map",
       "layout": "IPY_MODEL_d3bf98105dd4441eab236f1909868aaa",
       "style": "IPY_MODEL_58b7238f301f4d129545701570bb8116"
      }
     },
     "6fe19f45c10841008377a88b858e60ae": {
      "model_module": "@jupyter-widgets/base",
      "model_module_version": "1.2.0",
      "model_name": "LayoutModel",
      "state": {}
     },
     "71cbeb9fa5264d32938c92313bab9fd1": {
      "model_module": "@jupyter-widgets/controls",
      "model_module_version": "1.5.0",
      "model_name": "DescriptionStyleModel",
      "state": {
       "description_width": ""
      }
     },
     "76b8bd3d9a634a00ab87cd5e943920de": {
      "model_module": "@jupyter-widgets/base",
      "model_module_version": "1.2.0",
      "model_name": "LayoutModel",
      "state": {}
     },
     "7868f8346fed48deb80e9d2bdd2079c1": {
      "model_module": "@jupyter-widgets/controls",
      "model_module_version": "1.5.0",
      "model_name": "SelectMultipleModel",
      "state": {
       "_options_labels": [
        "rel_refuse_producers_high_demand.csv",
        "landed_service_residential.csv",
        "crc.csv",
        "BC.csv",
        "schools.csv",
        "bc_hl_refuse_producers.csv",
        "bulk_hawker.csv",
        "trade_temple_other.csv",
        "rel_refuse_producers_high_demand_all.csv",
        "rel_refuse_producers.csv",
        "rel_refuse_producers_jurong_high_demand.csv",
        "crc_mac.csv",
        "rel_recycling.csv",
        "rel_refuse_producers_jurong_high_demand_all.csv",
        "rel_refuse_producers_all.csv",
        "gov.csv",
        "bc_blocks.csv",
        "bc_refuse_producers.csv",
        "condo_optin.csv",
        "BC 1.csv"
       ],
       "description": "Input file:",
       "index": [
        0
       ],
       "layout": "IPY_MODEL_a306063464004c9f809d51daae63a170",
       "rows": 20,
       "style": "IPY_MODEL_d8bd0d0ab09c4dfd8f367b3a3547cd62"
      }
     },
     "82c1874751ba4d1bacd9de3ae0198736": {
      "model_module": "@jupyter-widgets/controls",
      "model_module_version": "1.5.0",
      "model_name": "ButtonModel",
      "state": {
       "description": "Show map",
       "layout": "IPY_MODEL_4576df5e7e4045379a97beef7b67d006",
       "style": "IPY_MODEL_c39027e57b3449caa04d9514b056a62f"
      }
     },
     "8579420f34cd4bab9dc6ccb407c74f64": {
      "model_module": "@jupyter-widgets/base",
      "model_module_version": "1.2.0",
      "model_name": "LayoutModel",
      "state": {}
     },
     "8595d8412c9444fcb6f4fa81ac7035c9": {
      "model_module": "@jupyter-widgets/controls",
      "model_module_version": "1.5.0",
      "model_name": "DescriptionStyleModel",
      "state": {
       "description_width": ""
      }
     },
     "8a2526bf64414ec18caecb7c1bd29049": {
      "model_module": "@jupyter-widgets/controls",
      "model_module_version": "1.5.0",
      "model_name": "DropdownModel",
      "state": {
       "_options_labels": [
        "ALBA W&H Kranji depot",
        "ALBA W&H Tuas depot"
       ],
       "description": "Depot:",
       "index": 1,
       "layout": "IPY_MODEL_1d48adc2b5d24d679a6e20b970cdb56d",
       "style": "IPY_MODEL_8595d8412c9444fcb6f4fa81ac7035c9"
      }
     },
     "92cadf01be534fe3939334b47fc59051": {
      "model_module": "@jupyter-widgets/controls",
      "model_module_version": "1.5.0",
      "model_name": "SelectMultipleModel",
      "state": {
       "_options_labels": [
        "crc.csv",
        "BC.csv",
        "schools.csv",
        "bulk_hawker.csv",
        "trade_temple_other.csv",
        "gov.csv",
        "bc_blocks.csv",
        "condo_optin.csv",
        "landed.csv"
       ],
       "description": "Input file:",
       "index": [
        0,
        2,
        3,
        4,
        5,
        7,
        8
       ],
       "layout": "IPY_MODEL_98b5ee657958439db3b87ec40196ba8b",
       "rows": 9,
       "style": "IPY_MODEL_9f7ea770ec784fcfbbd20b540c04e0af"
      }
     },
     "9539799220fe4775970a4fcbce1875ef": {
      "model_module": "@jupyter-widgets/output",
      "model_module_version": "1.0.0",
      "model_name": "OutputModel",
      "state": {
       "layout": "IPY_MODEL_c763016bb5d1470ba6b950b9a3bf10ab",
       "outputs": [
        {
         "name": "stdout",
         "output_type": "stream",
         "text": "Index(['planning_area', 'Postal Code', 'block_number', 'street_name',\n       'building description', 'property_type', 'land_use',\n       'total_dwelling_units', 'total_people', 'parcel_area_m2',\n       ...\n       '240', '360', '660', 'MAX SIZE FOR GOMIC  INSTALLATION',\n       'collection_scheme', 'n_bins', 'geom_id', 'geom_id_inv',\n       'geom_id_order', 'arc_index'],\n      dtype='object', length=114)\n"
        },
        {
         "data": {
          "text/plain": "'Number of producers: 15815'"
         },
         "metadata": {},
         "output_type": "display_data"
        },
        {
         "name": "stdout",
         "output_type": "stream",
         "text": "Number of producers after removing large commercial land parcels: 15815\n"
        }
       ]
      }
     },
     "97944c3db4b945f48f6ae6a1cc134f3b": {
      "model_module": "@jupyter-widgets/base",
      "model_module_version": "1.2.0",
      "model_name": "LayoutModel",
      "state": {}
     },
     "98b5ee657958439db3b87ec40196ba8b": {
      "model_module": "@jupyter-widgets/base",
      "model_module_version": "1.2.0",
      "model_name": "LayoutModel",
      "state": {}
     },
     "9b16d05cc9424b998847a046339ae14d": {
      "model_module": "@jupyter-widgets/base",
      "model_module_version": "1.2.0",
      "model_name": "LayoutModel",
      "state": {}
     },
     "9f7ea770ec784fcfbbd20b540c04e0af": {
      "model_module": "@jupyter-widgets/controls",
      "model_module_version": "1.5.0",
      "model_name": "DescriptionStyleModel",
      "state": {
       "description_width": ""
      }
     },
     "a306063464004c9f809d51daae63a170": {
      "model_module": "@jupyter-widgets/base",
      "model_module_version": "1.2.0",
      "model_name": "LayoutModel",
      "state": {}
     },
     "a394688f1a5e48e48cc67d6c1678b6d2": {
      "model_module": "@jupyter-widgets/base",
      "model_module_version": "1.2.0",
      "model_name": "LayoutModel",
      "state": {}
     },
     "a777a6a433044c249364fc8baa4fe738": {
      "model_module": "@jupyter-widgets/controls",
      "model_module_version": "1.5.0",
      "model_name": "ButtonStyleModel",
      "state": {}
     },
     "a8ac7c7b928c4e48b24704fa5f841cfd": {
      "model_module": "@jupyter-widgets/base",
      "model_module_version": "1.2.0",
      "model_name": "LayoutModel",
      "state": {}
     },
     "ab329332d7cb4be990504e78d233b7ee": {
      "model_module": "@jupyter-widgets/controls",
      "model_module_version": "1.5.0",
      "model_name": "VBoxModel",
      "state": {
       "_dom_classes": [
        "widget-interact"
       ],
       "children": [
        "IPY_MODEL_92cadf01be534fe3939334b47fc59051",
        "IPY_MODEL_f24f6fd65aeb4e1a8545cdf34d8cfb96"
       ],
       "layout": "IPY_MODEL_d3fe956ee40d4960b0e10a334f6c169b"
      }
     },
     "adffeb3254b24b6eb78beb9c95fdd5e2": {
      "model_module": "@jupyter-widgets/base",
      "model_module_version": "1.2.0",
      "model_name": "LayoutModel",
      "state": {}
     },
     "b4e7121e00c84c409bf933d85c5be6a3": {
      "model_module": "@jupyter-widgets/controls",
      "model_module_version": "1.5.0",
      "model_name": "SelectMultipleModel",
      "state": {
       "_options_labels": [
        "ALBA W&H Kranji depot",
        "CTM MRF",
        "KSTP",
        "Senoko Incineration Plant",
        "Tuas Incineration Plant",
        "Tuas South Incineration Plant"
       ],
       "description": "Treatment:",
       "index": [
        2,
        3,
        5
       ],
       "layout": "IPY_MODEL_adffeb3254b24b6eb78beb9c95fdd5e2",
       "rows": 6,
       "style": "IPY_MODEL_16e6989affb846b0baf6204485ea672d"
      }
     },
     "b527e26e48164bdc985ba88bffde004e": {
      "model_module": "@jupyter-widgets/output",
      "model_module_version": "1.0.0",
      "model_name": "OutputModel",
      "state": {
       "layout": "IPY_MODEL_409e0a0f840e46edaaad6d5dcf3c364f"
      }
     },
     "bb3a7e29f39d40819d14ad4b03a195f0": {
      "model_module": "@jupyter-widgets/controls",
      "model_module_version": "1.5.0",
      "model_name": "ButtonModel",
      "state": {
       "description": "Load network",
       "layout": "IPY_MODEL_9b16d05cc9424b998847a046339ae14d",
       "style": "IPY_MODEL_0a6eac1142654a048ac05ee24867a21b"
      }
     },
     "c04bbd4f00b14316a6583d0c35b4c8bc": {
      "model_module": "@jupyter-widgets/output",
      "model_module_version": "1.0.0",
      "model_name": "OutputModel",
      "state": {
       "layout": "IPY_MODEL_2ca17a19b9124d20805807fdf56c5991"
      }
     },
     "c39027e57b3449caa04d9514b056a62f": {
      "model_module": "@jupyter-widgets/controls",
      "model_module_version": "1.5.0",
      "model_name": "ButtonStyleModel",
      "state": {}
     },
     "c763016bb5d1470ba6b950b9a3bf10ab": {
      "model_module": "@jupyter-widgets/base",
      "model_module_version": "1.2.0",
      "model_name": "LayoutModel",
      "state": {}
     },
     "cb24cb8da58849448fc9a1b3534c36ee": {
      "model_module": "@jupyter-widgets/output",
      "model_module_version": "1.0.0",
      "model_name": "OutputModel",
      "state": {
       "layout": "IPY_MODEL_f2e3e7a43fa24f83ad27435fe4e996f4",
       "outputs": [
        {
         "data": {
          "text/plain": "'Producers in area: 16057'"
         },
         "metadata": {},
         "output_type": "display_data"
        }
       ]
      }
     },
     "cbfc44c6474645e2b7f934f011d88b00": {
      "model_module": "@jupyter-widgets/controls",
      "model_module_version": "1.5.0",
      "model_name": "ButtonModel",
      "state": {
       "description": "Show map",
       "layout": "IPY_MODEL_f69c2c02ef3f4e78897fd8d53c0cbc9e",
       "style": "IPY_MODEL_a777a6a433044c249364fc8baa4fe738"
      }
     },
     "cefa579cf05f44a88720211847e8e885": {
      "model_module": "@jupyter-widgets/controls",
      "model_module_version": "1.5.0",
      "model_name": "ButtonStyleModel",
      "state": {}
     },
     "d3bf98105dd4441eab236f1909868aaa": {
      "model_module": "@jupyter-widgets/base",
      "model_module_version": "1.2.0",
      "model_name": "LayoutModel",
      "state": {}
     },
     "d3fe956ee40d4960b0e10a334f6c169b": {
      "model_module": "@jupyter-widgets/base",
      "model_module_version": "1.2.0",
      "model_name": "LayoutModel",
      "state": {}
     },
     "d8bd0d0ab09c4dfd8f367b3a3547cd62": {
      "model_module": "@jupyter-widgets/controls",
      "model_module_version": "1.5.0",
      "model_name": "DescriptionStyleModel",
      "state": {
       "description_width": ""
      }
     },
     "e0103eff14ce4eb08422d3be9dfa040a": {
      "model_module": "@jupyter-widgets/base",
      "model_module_version": "1.2.0",
      "model_name": "LayoutModel",
      "state": {}
     },
     "e2b9ab564343429ab8341dd254170f21": {
      "model_module": "@jupyter-widgets/output",
      "model_module_version": "1.0.0",
      "model_name": "OutputModel",
      "state": {
       "layout": "IPY_MODEL_6fe19f45c10841008377a88b858e60ae",
       "outputs": [
        {
         "name": "stderr",
         "output_type": "stream",
         "text": "/Users/ejwillemse/opt/anaconda3/envs/waste_labs_examples/lib/python3.8/site-packages/ipywidgets/widgets/widget.py:186: DtypeWarning:\n\nColumns (49,50,53,54,55,56,57,58,59,61,65,68,69,71,72,73,74,75,76,78,79,81,82,91,96,98,101,108) have mixed types.Specify dtype option on import or set low_memory=False.\n\n"
        },
        {
         "data": {
          "text/plain": "'Producers in area: 15815'"
         },
         "metadata": {},
         "output_type": "display_data"
        }
       ]
      }
     },
     "e5ad76e6681a45559e122c3ec1947a3a": {
      "model_module": "@jupyter-widgets/output",
      "model_module_version": "1.0.0",
      "model_name": "OutputModel",
      "state": {
       "layout": "IPY_MODEL_3a9e99243c064694bcd39e4ba956f0b3"
      }
     },
     "e6b6d946d1ed4fb682d736c5c3897f93": {
      "model_module": "@jupyter-widgets/controls",
      "model_module_version": "1.5.0",
      "model_name": "SelectMultipleModel",
      "state": {
       "_options_labels": [
        "ALL",
        "CRC",
        "Condo opt-in",
        "Government",
        "Schools",
        "bulk_bins",
        "commercial",
        "commercial & residential",
        "hawker_markets",
        "landed_properties",
        "place of worship",
        "residential with commercial at 1st storey"
       ],
       "description": "Producer:",
       "index": [
        0
       ],
       "layout": "IPY_MODEL_1bb42f3182c04b58bc692d0f4742bc2d",
       "rows": 12,
       "style": "IPY_MODEL_05d2e6be818a4a2f9c76407f8e1eb5ec"
      }
     },
     "ed8a2664faf54e67bd051ee539c40994": {
      "model_module": "@jupyter-widgets/base",
      "model_module_version": "1.2.0",
      "model_name": "LayoutModel",
      "state": {}
     },
     "ee45ce3fa54e49e892ced31c4d656152": {
      "model_module": "@jupyter-widgets/controls",
      "model_module_version": "1.5.0",
      "model_name": "ButtonModel",
      "state": {
       "description": "Show map",
       "layout": "IPY_MODEL_2dab04fec7604ba8a85279c0f047f6c9",
       "style": "IPY_MODEL_50cb8b8f05ac47be8d3f2907f6d218c8"
      }
     },
     "f04ece8682a845b4a8d3d3cdda4a0ff9": {
      "model_module": "@jupyter-widgets/controls",
      "model_module_version": "1.5.0",
      "model_name": "VBoxModel",
      "state": {
       "_dom_classes": [
        "widget-interact"
       ],
       "children": [
        "IPY_MODEL_8a2526bf64414ec18caecb7c1bd29049",
        "IPY_MODEL_182ddfca166843ae87b1cac941d1269b"
       ],
       "layout": "IPY_MODEL_76b8bd3d9a634a00ab87cd5e943920de"
      }
     },
     "f24f6fd65aeb4e1a8545cdf34d8cfb96": {
      "model_module": "@jupyter-widgets/output",
      "model_module_version": "1.0.0",
      "model_name": "OutputModel",
      "state": {
       "layout": "IPY_MODEL_ed8a2664faf54e67bd051ee539c40994",
       "outputs": [
        {
         "data": {
          "text/plain": "'Producers in area: 16057'"
         },
         "metadata": {},
         "output_type": "display_data"
        }
       ]
      }
     },
     "f2e3e7a43fa24f83ad27435fe4e996f4": {
      "model_module": "@jupyter-widgets/base",
      "model_module_version": "1.2.0",
      "model_name": "LayoutModel",
      "state": {}
     },
     "f5da9e1175f24814a9ba6195fdcf3885": {
      "model_module": "@jupyter-widgets/base",
      "model_module_version": "1.2.0",
      "model_name": "LayoutModel",
      "state": {}
     },
     "f69c2c02ef3f4e78897fd8d53c0cbc9e": {
      "model_module": "@jupyter-widgets/base",
      "model_module_version": "1.2.0",
      "model_name": "LayoutModel",
      "state": {}
     },
     "f9dca610179d43ce8d843f264b73f9ab": {
      "model_module": "@jupyter-widgets/base",
      "model_module_version": "1.2.0",
      "model_name": "LayoutModel",
      "state": {}
     }
    },
    "version_major": 2,
    "version_minor": 0
   }
  }
 },
 "nbformat": 4,
 "nbformat_minor": 4
}
