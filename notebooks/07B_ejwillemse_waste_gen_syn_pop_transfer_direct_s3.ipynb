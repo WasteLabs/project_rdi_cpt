{
 "cells": [
  {
   "cell_type": "markdown",
   "metadata": {},
   "source": [
    "# Waste generation and scenario planning transfer\n",
    "\n",
    "Files are stored no S3 as csv files.\n",
    "\n",
    "This module loads the files and saves it as a csv local partitioned dataset."
   ]
  },
  {
   "cell_type": "code",
   "execution_count": 6,
   "metadata": {},
   "outputs": [
    {
     "data": {
      "text/html": [
       "<style>\n",
       "table {float:left}\n",
       "</style>\n"
      ],
      "text/plain": [
       "<IPython.core.display.HTML object>"
      ]
     },
     "metadata": {},
     "output_type": "display_data"
    }
   ],
   "source": [
    "%%html\n",
    "<style>\n",
    "table {float:left}\n",
    "</style>"
   ]
  },
  {
   "cell_type": "markdown",
   "metadata": {},
   "source": [
    "| Document info | |\n",
    "| --- | --- | \n",
    "| Area of interest: | Cape Town |\n",
    "| Planning type: | All REL type producers |\n",
    "| Prepared by: | Waste Labs (wastelabs.co) |\n",
    "| Prepared for: | Johan W. Joubert |\n",
    "| Contact: | elias@wastelabs.co |"
   ]
  },
  {
   "cell_type": "code",
   "execution_count": 7,
   "metadata": {},
   "outputs": [
    {
     "name": "stdout",
     "output_type": "stream",
     "text": [
      "2022-05-30 21:09:23,935 - kedro.framework.session.store - INFO - `read()` not implemented for `BaseSessionStore`. Assuming empty store.\n",
      "2022-05-30 21:09:24,007 - root - INFO - ** Kedro project Demand estimation and waste collection routing optimisation for the City of Cape Town\n",
      "2022-05-30 21:09:24,008 - root - INFO - Defined global variable `context`, `session` and `catalog`\n",
      "2022-05-30 21:09:24,017 - root - INFO - Registered line magic `run_viz`\n"
     ]
    }
   ],
   "source": [
    "%reload_kedro\n",
    "import pandas as pd\n",
    "import geopandas as gpd\n",
    "import numpy as np\n",
    "import boto3\n",
    "import yaml\n",
    "from GPSOdyssey import Kepler\n",
    "\n",
    "pd.options.display.max_rows = 1000\n",
    "pd.options.display.max_columns = 1000\n",
    "\n",
    "from IPython.core.interactiveshell import InteractiveShell\n",
    "\n",
    "InteractiveShell.ast_node_interactivity = \"all\""
   ]
  },
  {
   "cell_type": "markdown",
   "metadata": {
    "tags": []
   },
   "source": [
    "## Transfer pop files"
   ]
  },
  {
   "cell_type": "code",
   "execution_count": 3,
   "metadata": {},
   "outputs": [
    {
     "name": "stdout",
     "output_type": "stream",
     "text": [
      "2022-05-30 21:01:25,104 - kedro.io.data_catalog - INFO - Loading data from `syn_pop_scenarios` (PartitionedDataSet)...\n",
      "Transfering 1 of 100: households_001\n",
      "2022-05-30 21:01:37,755 - kedro.io.data_catalog - INFO - Saving data to `syn_pop_scenarios_local` (PartitionedDataSet)...\n",
      "Transfering 2 of 100: households_002\n",
      "2022-05-30 21:01:46,899 - kedro.io.data_catalog - INFO - Saving data to `syn_pop_scenarios_local` (PartitionedDataSet)...\n",
      "Transfering 3 of 100: households_003\n",
      "2022-05-30 21:01:52,602 - kedro.io.data_catalog - INFO - Saving data to `syn_pop_scenarios_local` (PartitionedDataSet)...\n",
      "Transfering 4 of 100: households_004\n",
      "2022-05-30 21:01:55,388 - kedro.io.data_catalog - INFO - Saving data to `syn_pop_scenarios_local` (PartitionedDataSet)...\n",
      "Transfering 5 of 100: households_005\n",
      "2022-05-30 21:01:57,555 - kedro.io.data_catalog - INFO - Saving data to `syn_pop_scenarios_local` (PartitionedDataSet)...\n",
      "Transfering 6 of 100: households_006\n",
      "2022-05-30 21:01:59,622 - kedro.io.data_catalog - INFO - Saving data to `syn_pop_scenarios_local` (PartitionedDataSet)...\n",
      "Transfering 7 of 100: households_007\n",
      "2022-05-30 21:02:01,557 - kedro.io.data_catalog - INFO - Saving data to `syn_pop_scenarios_local` (PartitionedDataSet)...\n",
      "Transfering 8 of 100: households_008\n",
      "2022-05-30 21:02:03,404 - kedro.io.data_catalog - INFO - Saving data to `syn_pop_scenarios_local` (PartitionedDataSet)...\n",
      "Transfering 9 of 100: households_009\n",
      "2022-05-30 21:02:05,242 - kedro.io.data_catalog - INFO - Saving data to `syn_pop_scenarios_local` (PartitionedDataSet)...\n",
      "Transfering 10 of 100: households_010\n",
      "2022-05-30 21:02:06,990 - kedro.io.data_catalog - INFO - Saving data to `syn_pop_scenarios_local` (PartitionedDataSet)...\n",
      "Transfering 11 of 100: households_011\n",
      "2022-05-30 21:02:08,636 - kedro.io.data_catalog - INFO - Saving data to `syn_pop_scenarios_local` (PartitionedDataSet)...\n",
      "Transfering 12 of 100: households_012\n",
      "2022-05-30 21:02:10,540 - kedro.io.data_catalog - INFO - Saving data to `syn_pop_scenarios_local` (PartitionedDataSet)...\n",
      "Transfering 13 of 100: households_013\n",
      "2022-05-30 21:02:12,437 - kedro.io.data_catalog - INFO - Saving data to `syn_pop_scenarios_local` (PartitionedDataSet)...\n",
      "Transfering 14 of 100: households_014\n",
      "2022-05-30 21:02:14,459 - kedro.io.data_catalog - INFO - Saving data to `syn_pop_scenarios_local` (PartitionedDataSet)...\n",
      "Transfering 15 of 100: households_015\n",
      "2022-05-30 21:02:16,527 - kedro.io.data_catalog - INFO - Saving data to `syn_pop_scenarios_local` (PartitionedDataSet)...\n",
      "Transfering 16 of 100: households_016\n",
      "2022-05-30 21:02:18,245 - kedro.io.data_catalog - INFO - Saving data to `syn_pop_scenarios_local` (PartitionedDataSet)...\n",
      "Transfering 17 of 100: households_017\n",
      "2022-05-30 21:02:20,062 - kedro.io.data_catalog - INFO - Saving data to `syn_pop_scenarios_local` (PartitionedDataSet)...\n",
      "Transfering 18 of 100: households_018\n",
      "2022-05-30 21:02:21,974 - kedro.io.data_catalog - INFO - Saving data to `syn_pop_scenarios_local` (PartitionedDataSet)...\n",
      "Transfering 19 of 100: households_019\n",
      "2022-05-30 21:02:24,084 - kedro.io.data_catalog - INFO - Saving data to `syn_pop_scenarios_local` (PartitionedDataSet)...\n",
      "Transfering 20 of 100: households_020\n",
      "2022-05-30 21:02:25,960 - kedro.io.data_catalog - INFO - Saving data to `syn_pop_scenarios_local` (PartitionedDataSet)...\n",
      "Transfering 21 of 100: households_021\n",
      "2022-05-30 21:02:28,149 - kedro.io.data_catalog - INFO - Saving data to `syn_pop_scenarios_local` (PartitionedDataSet)...\n",
      "Transfering 22 of 100: households_022\n",
      "2022-05-30 21:02:30,262 - kedro.io.data_catalog - INFO - Saving data to `syn_pop_scenarios_local` (PartitionedDataSet)...\n",
      "Transfering 23 of 100: households_023\n",
      "2022-05-30 21:02:32,775 - kedro.io.data_catalog - INFO - Saving data to `syn_pop_scenarios_local` (PartitionedDataSet)...\n",
      "Transfering 24 of 100: households_024\n",
      "2022-05-30 21:02:35,472 - kedro.io.data_catalog - INFO - Saving data to `syn_pop_scenarios_local` (PartitionedDataSet)...\n",
      "Transfering 25 of 100: households_025\n",
      "2022-05-30 21:02:37,793 - kedro.io.data_catalog - INFO - Saving data to `syn_pop_scenarios_local` (PartitionedDataSet)...\n",
      "Transfering 26 of 100: households_026\n",
      "2022-05-30 21:02:40,235 - kedro.io.data_catalog - INFO - Saving data to `syn_pop_scenarios_local` (PartitionedDataSet)...\n",
      "Transfering 27 of 100: households_027\n",
      "2022-05-30 21:02:42,901 - kedro.io.data_catalog - INFO - Saving data to `syn_pop_scenarios_local` (PartitionedDataSet)...\n",
      "Transfering 28 of 100: households_028\n",
      "2022-05-30 21:02:45,805 - kedro.io.data_catalog - INFO - Saving data to `syn_pop_scenarios_local` (PartitionedDataSet)...\n",
      "Transfering 29 of 100: households_029\n",
      "2022-05-30 21:02:48,932 - kedro.io.data_catalog - INFO - Saving data to `syn_pop_scenarios_local` (PartitionedDataSet)...\n",
      "Transfering 30 of 100: households_030\n",
      "2022-05-30 21:02:51,836 - kedro.io.data_catalog - INFO - Saving data to `syn_pop_scenarios_local` (PartitionedDataSet)...\n",
      "Transfering 31 of 100: households_031\n",
      "2022-05-30 21:02:54,544 - kedro.io.data_catalog - INFO - Saving data to `syn_pop_scenarios_local` (PartitionedDataSet)...\n",
      "Transfering 32 of 100: households_032\n",
      "2022-05-30 21:02:57,377 - kedro.io.data_catalog - INFO - Saving data to `syn_pop_scenarios_local` (PartitionedDataSet)...\n",
      "Transfering 33 of 100: households_033\n",
      "2022-05-30 21:03:01,495 - kedro.io.data_catalog - INFO - Saving data to `syn_pop_scenarios_local` (PartitionedDataSet)...\n",
      "Transfering 34 of 100: households_034\n",
      "2022-05-30 21:03:08,090 - kedro.io.data_catalog - INFO - Saving data to `syn_pop_scenarios_local` (PartitionedDataSet)...\n",
      "Transfering 35 of 100: households_035\n",
      "2022-05-30 21:03:13,689 - kedro.io.data_catalog - INFO - Saving data to `syn_pop_scenarios_local` (PartitionedDataSet)...\n",
      "Transfering 36 of 100: households_036\n",
      "2022-05-30 21:03:18,843 - kedro.io.data_catalog - INFO - Saving data to `syn_pop_scenarios_local` (PartitionedDataSet)...\n",
      "Transfering 37 of 100: households_037\n",
      "2022-05-30 21:03:23,187 - kedro.io.data_catalog - INFO - Saving data to `syn_pop_scenarios_local` (PartitionedDataSet)...\n",
      "Transfering 38 of 100: households_038\n",
      "2022-05-30 21:03:26,316 - kedro.io.data_catalog - INFO - Saving data to `syn_pop_scenarios_local` (PartitionedDataSet)...\n",
      "Transfering 39 of 100: households_039\n",
      "2022-05-30 21:03:28,732 - kedro.io.data_catalog - INFO - Saving data to `syn_pop_scenarios_local` (PartitionedDataSet)...\n",
      "Transfering 40 of 100: households_040\n",
      "2022-05-30 21:03:31,325 - kedro.io.data_catalog - INFO - Saving data to `syn_pop_scenarios_local` (PartitionedDataSet)...\n",
      "Transfering 41 of 100: households_041\n",
      "2022-05-30 21:03:34,174 - kedro.io.data_catalog - INFO - Saving data to `syn_pop_scenarios_local` (PartitionedDataSet)...\n",
      "Transfering 42 of 100: households_042\n",
      "2022-05-30 21:03:38,654 - kedro.io.data_catalog - INFO - Saving data to `syn_pop_scenarios_local` (PartitionedDataSet)...\n",
      "Transfering 43 of 100: households_043\n",
      "2022-05-30 21:03:43,234 - kedro.io.data_catalog - INFO - Saving data to `syn_pop_scenarios_local` (PartitionedDataSet)...\n",
      "Transfering 44 of 100: households_044\n",
      "2022-05-30 21:03:47,776 - kedro.io.data_catalog - INFO - Saving data to `syn_pop_scenarios_local` (PartitionedDataSet)...\n",
      "Transfering 45 of 100: households_045\n",
      "2022-05-30 21:03:51,979 - kedro.io.data_catalog - INFO - Saving data to `syn_pop_scenarios_local` (PartitionedDataSet)...\n",
      "Transfering 46 of 100: households_046\n",
      "2022-05-30 21:03:56,174 - kedro.io.data_catalog - INFO - Saving data to `syn_pop_scenarios_local` (PartitionedDataSet)...\n",
      "Transfering 47 of 100: households_047\n",
      "2022-05-30 21:04:00,363 - kedro.io.data_catalog - INFO - Saving data to `syn_pop_scenarios_local` (PartitionedDataSet)...\n",
      "Transfering 48 of 100: households_048\n",
      "2022-05-30 21:04:04,345 - kedro.io.data_catalog - INFO - Saving data to `syn_pop_scenarios_local` (PartitionedDataSet)...\n",
      "Transfering 49 of 100: households_049\n",
      "2022-05-30 21:04:09,697 - kedro.io.data_catalog - INFO - Saving data to `syn_pop_scenarios_local` (PartitionedDataSet)...\n",
      "Transfering 50 of 100: households_050\n",
      "2022-05-30 21:04:16,265 - kedro.io.data_catalog - INFO - Saving data to `syn_pop_scenarios_local` (PartitionedDataSet)...\n",
      "Transfering 51 of 100: households_051\n",
      "2022-05-30 21:04:21,918 - kedro.io.data_catalog - INFO - Saving data to `syn_pop_scenarios_local` (PartitionedDataSet)...\n",
      "Transfering 52 of 100: households_052\n",
      "2022-05-30 21:04:27,009 - kedro.io.data_catalog - INFO - Saving data to `syn_pop_scenarios_local` (PartitionedDataSet)...\n",
      "Transfering 53 of 100: households_053\n",
      "2022-05-30 21:04:31,831 - kedro.io.data_catalog - INFO - Saving data to `syn_pop_scenarios_local` (PartitionedDataSet)...\n",
      "Transfering 54 of 100: households_054\n",
      "2022-05-30 21:04:38,381 - kedro.io.data_catalog - INFO - Saving data to `syn_pop_scenarios_local` (PartitionedDataSet)...\n",
      "Transfering 55 of 100: households_055\n",
      "2022-05-30 21:04:46,741 - kedro.io.data_catalog - INFO - Saving data to `syn_pop_scenarios_local` (PartitionedDataSet)...\n",
      "Transfering 56 of 100: households_056\n",
      "2022-05-30 21:04:54,456 - kedro.io.data_catalog - INFO - Saving data to `syn_pop_scenarios_local` (PartitionedDataSet)...\n",
      "Transfering 57 of 100: households_057\n",
      "2022-05-30 21:05:02,504 - kedro.io.data_catalog - INFO - Saving data to `syn_pop_scenarios_local` (PartitionedDataSet)...\n",
      "Transfering 58 of 100: households_058\n",
      "2022-05-30 21:05:09,195 - kedro.io.data_catalog - INFO - Saving data to `syn_pop_scenarios_local` (PartitionedDataSet)...\n",
      "Transfering 59 of 100: households_059\n",
      "2022-05-30 21:05:12,412 - kedro.io.data_catalog - INFO - Saving data to `syn_pop_scenarios_local` (PartitionedDataSet)...\n",
      "Transfering 60 of 100: households_060\n",
      "2022-05-30 21:05:14,581 - kedro.io.data_catalog - INFO - Saving data to `syn_pop_scenarios_local` (PartitionedDataSet)...\n",
      "Transfering 61 of 100: households_061\n",
      "2022-05-30 21:05:16,403 - kedro.io.data_catalog - INFO - Saving data to `syn_pop_scenarios_local` (PartitionedDataSet)...\n",
      "Transfering 62 of 100: households_062\n",
      "2022-05-30 21:05:18,036 - kedro.io.data_catalog - INFO - Saving data to `syn_pop_scenarios_local` (PartitionedDataSet)...\n",
      "Transfering 63 of 100: households_063\n",
      "2022-05-30 21:05:21,259 - kedro.io.data_catalog - INFO - Saving data to `syn_pop_scenarios_local` (PartitionedDataSet)...\n",
      "Transfering 64 of 100: households_064\n",
      "2022-05-30 21:05:23,045 - kedro.io.data_catalog - INFO - Saving data to `syn_pop_scenarios_local` (PartitionedDataSet)...\n",
      "Transfering 65 of 100: households_065\n",
      "2022-05-30 21:05:24,835 - kedro.io.data_catalog - INFO - Saving data to `syn_pop_scenarios_local` (PartitionedDataSet)...\n",
      "Transfering 66 of 100: households_066\n",
      "2022-05-30 21:05:26,647 - kedro.io.data_catalog - INFO - Saving data to `syn_pop_scenarios_local` (PartitionedDataSet)...\n",
      "Transfering 67 of 100: households_067\n",
      "2022-05-30 21:05:28,699 - kedro.io.data_catalog - INFO - Saving data to `syn_pop_scenarios_local` (PartitionedDataSet)...\n",
      "Transfering 68 of 100: households_068\n",
      "2022-05-30 21:05:30,870 - kedro.io.data_catalog - INFO - Saving data to `syn_pop_scenarios_local` (PartitionedDataSet)...\n",
      "Transfering 69 of 100: households_069\n",
      "2022-05-30 21:05:32,842 - kedro.io.data_catalog - INFO - Saving data to `syn_pop_scenarios_local` (PartitionedDataSet)...\n",
      "Transfering 70 of 100: households_070\n",
      "2022-05-30 21:05:35,595 - kedro.io.data_catalog - INFO - Saving data to `syn_pop_scenarios_local` (PartitionedDataSet)...\n",
      "Transfering 71 of 100: households_071\n",
      "2022-05-30 21:05:38,772 - kedro.io.data_catalog - INFO - Saving data to `syn_pop_scenarios_local` (PartitionedDataSet)...\n",
      "Transfering 72 of 100: households_072\n",
      "2022-05-30 21:05:42,063 - kedro.io.data_catalog - INFO - Saving data to `syn_pop_scenarios_local` (PartitionedDataSet)...\n",
      "Transfering 73 of 100: households_073\n",
      "2022-05-30 21:05:45,098 - kedro.io.data_catalog - INFO - Saving data to `syn_pop_scenarios_local` (PartitionedDataSet)...\n",
      "Transfering 74 of 100: households_074\n",
      "2022-05-30 21:05:48,833 - kedro.io.data_catalog - INFO - Saving data to `syn_pop_scenarios_local` (PartitionedDataSet)...\n",
      "Transfering 75 of 100: households_075\n",
      "2022-05-30 21:05:51,962 - kedro.io.data_catalog - INFO - Saving data to `syn_pop_scenarios_local` (PartitionedDataSet)...\n",
      "Transfering 76 of 100: households_076\n",
      "2022-05-30 21:05:54,900 - kedro.io.data_catalog - INFO - Saving data to `syn_pop_scenarios_local` (PartitionedDataSet)...\n",
      "Transfering 77 of 100: households_077\n",
      "2022-05-30 21:05:57,789 - kedro.io.data_catalog - INFO - Saving data to `syn_pop_scenarios_local` (PartitionedDataSet)...\n",
      "Transfering 78 of 100: households_078\n",
      "2022-05-30 21:06:00,639 - kedro.io.data_catalog - INFO - Saving data to `syn_pop_scenarios_local` (PartitionedDataSet)...\n",
      "Transfering 79 of 100: households_079\n",
      "2022-05-30 21:06:03,423 - kedro.io.data_catalog - INFO - Saving data to `syn_pop_scenarios_local` (PartitionedDataSet)...\n",
      "Transfering 80 of 100: households_080\n",
      "2022-05-30 21:06:05,871 - kedro.io.data_catalog - INFO - Saving data to `syn_pop_scenarios_local` (PartitionedDataSet)...\n",
      "Transfering 81 of 100: households_081\n",
      "2022-05-30 21:06:08,067 - kedro.io.data_catalog - INFO - Saving data to `syn_pop_scenarios_local` (PartitionedDataSet)...\n",
      "Transfering 82 of 100: households_082\n",
      "2022-05-30 21:06:10,428 - kedro.io.data_catalog - INFO - Saving data to `syn_pop_scenarios_local` (PartitionedDataSet)...\n",
      "Transfering 83 of 100: households_083\n",
      "2022-05-30 21:06:12,607 - kedro.io.data_catalog - INFO - Saving data to `syn_pop_scenarios_local` (PartitionedDataSet)...\n",
      "Transfering 84 of 100: households_084\n",
      "2022-05-30 21:06:14,564 - kedro.io.data_catalog - INFO - Saving data to `syn_pop_scenarios_local` (PartitionedDataSet)...\n",
      "Transfering 85 of 100: households_085\n",
      "2022-05-30 21:06:16,518 - kedro.io.data_catalog - INFO - Saving data to `syn_pop_scenarios_local` (PartitionedDataSet)...\n",
      "Transfering 86 of 100: households_086\n",
      "2022-05-30 21:06:18,323 - kedro.io.data_catalog - INFO - Saving data to `syn_pop_scenarios_local` (PartitionedDataSet)...\n",
      "Transfering 87 of 100: households_087\n",
      "2022-05-30 21:06:20,355 - kedro.io.data_catalog - INFO - Saving data to `syn_pop_scenarios_local` (PartitionedDataSet)...\n",
      "Transfering 88 of 100: households_088\n",
      "2022-05-30 21:06:22,253 - kedro.io.data_catalog - INFO - Saving data to `syn_pop_scenarios_local` (PartitionedDataSet)...\n",
      "Transfering 89 of 100: households_089\n",
      "2022-05-30 21:06:24,488 - kedro.io.data_catalog - INFO - Saving data to `syn_pop_scenarios_local` (PartitionedDataSet)...\n",
      "Transfering 90 of 100: households_090\n",
      "2022-05-30 21:06:26,484 - kedro.io.data_catalog - INFO - Saving data to `syn_pop_scenarios_local` (PartitionedDataSet)...\n",
      "Transfering 91 of 100: households_091\n",
      "2022-05-30 21:06:28,816 - kedro.io.data_catalog - INFO - Saving data to `syn_pop_scenarios_local` (PartitionedDataSet)...\n",
      "Transfering 92 of 100: households_092\n",
      "2022-05-30 21:06:31,735 - kedro.io.data_catalog - INFO - Saving data to `syn_pop_scenarios_local` (PartitionedDataSet)...\n",
      "Transfering 93 of 100: households_093\n",
      "2022-05-30 21:06:34,760 - kedro.io.data_catalog - INFO - Saving data to `syn_pop_scenarios_local` (PartitionedDataSet)...\n",
      "Transfering 94 of 100: households_094\n",
      "2022-05-30 21:06:37,769 - kedro.io.data_catalog - INFO - Saving data to `syn_pop_scenarios_local` (PartitionedDataSet)...\n",
      "Transfering 95 of 100: households_095\n",
      "2022-05-30 21:06:41,093 - kedro.io.data_catalog - INFO - Saving data to `syn_pop_scenarios_local` (PartitionedDataSet)...\n",
      "Transfering 96 of 100: households_096\n",
      "2022-05-30 21:06:44,289 - kedro.io.data_catalog - INFO - Saving data to `syn_pop_scenarios_local` (PartitionedDataSet)...\n",
      "Transfering 97 of 100: households_097\n",
      "2022-05-30 21:06:47,406 - kedro.io.data_catalog - INFO - Saving data to `syn_pop_scenarios_local` (PartitionedDataSet)...\n",
      "Transfering 98 of 100: households_098\n",
      "2022-05-30 21:06:50,428 - kedro.io.data_catalog - INFO - Saving data to `syn_pop_scenarios_local` (PartitionedDataSet)...\n",
      "Transfering 99 of 100: households_099\n",
      "2022-05-30 21:06:53,296 - kedro.io.data_catalog - INFO - Saving data to `syn_pop_scenarios_local` (PartitionedDataSet)...\n",
      "Transfering 100 of 100: households_100\n",
      "2022-05-30 21:06:56,034 - kedro.io.data_catalog - INFO - Saving data to `syn_pop_scenarios_local` (PartitionedDataSet)...\n",
      "CPU times: user 32.7 s, sys: 15.3 s, total: 48 s\n",
      "Wall time: 5min 31s\n"
     ]
    }
   ],
   "source": [
    "%%time\n",
    "s3_pop_files = catalog.load(\"syn_pop_scenarios\")\n",
    "for i, data_key in enumerate(s3_pop_files):\n",
    "    print(f\"Transfering {i + 1} of {len(s3_pop_files)}: {data_key}\")\n",
    "    catalog.save(\"syn_pop_scenarios_local\", {data_key: s3_pop_files[data_key]()})"
   ]
  },
  {
   "cell_type": "markdown",
   "metadata": {},
   "source": [
    "## Transfer waste gen files"
   ]
  },
  {
   "cell_type": "code",
   "execution_count": 8,
   "metadata": {},
   "outputs": [
    {
     "name": "stdout",
     "output_type": "stream",
     "text": [
      "2022-05-30 21:09:29,544 - kedro.io.data_catalog - INFO - Loading data from `waste_gen_scenarios` (PartitionedDataSet)...\n",
      "Transfering 1 of 100: households_001\n",
      "2022-05-30 21:09:31,732 - kedro.io.data_catalog - INFO - Saving data to `waste_gen_scenarios_local` (PartitionedDataSet)...\n",
      "Transfering 2 of 100: households_002\n",
      "2022-05-30 21:09:32,329 - kedro.io.data_catalog - INFO - Saving data to `waste_gen_scenarios_local` (PartitionedDataSet)...\n",
      "Transfering 3 of 100: households_003\n",
      "2022-05-30 21:09:32,790 - kedro.io.data_catalog - INFO - Saving data to `waste_gen_scenarios_local` (PartitionedDataSet)...\n",
      "Transfering 4 of 100: households_004\n",
      "2022-05-30 21:09:33,213 - kedro.io.data_catalog - INFO - Saving data to `waste_gen_scenarios_local` (PartitionedDataSet)...\n",
      "Transfering 5 of 100: households_005\n",
      "2022-05-30 21:09:33,656 - kedro.io.data_catalog - INFO - Saving data to `waste_gen_scenarios_local` (PartitionedDataSet)...\n",
      "Transfering 6 of 100: households_006\n",
      "2022-05-30 21:09:34,105 - kedro.io.data_catalog - INFO - Saving data to `waste_gen_scenarios_local` (PartitionedDataSet)...\n",
      "Transfering 7 of 100: households_007\n",
      "2022-05-30 21:09:34,533 - kedro.io.data_catalog - INFO - Saving data to `waste_gen_scenarios_local` (PartitionedDataSet)...\n",
      "Transfering 8 of 100: households_008\n",
      "2022-05-30 21:09:35,037 - kedro.io.data_catalog - INFO - Saving data to `waste_gen_scenarios_local` (PartitionedDataSet)...\n",
      "Transfering 9 of 100: households_009\n",
      "2022-05-30 21:09:35,612 - kedro.io.data_catalog - INFO - Saving data to `waste_gen_scenarios_local` (PartitionedDataSet)...\n",
      "Transfering 10 of 100: households_010\n",
      "2022-05-30 21:09:36,053 - kedro.io.data_catalog - INFO - Saving data to `waste_gen_scenarios_local` (PartitionedDataSet)...\n",
      "Transfering 11 of 100: households_011\n",
      "2022-05-30 21:09:36,594 - kedro.io.data_catalog - INFO - Saving data to `waste_gen_scenarios_local` (PartitionedDataSet)...\n",
      "Transfering 12 of 100: households_012\n",
      "2022-05-30 21:09:37,035 - kedro.io.data_catalog - INFO - Saving data to `waste_gen_scenarios_local` (PartitionedDataSet)...\n",
      "Transfering 13 of 100: households_013\n",
      "2022-05-30 21:09:37,471 - kedro.io.data_catalog - INFO - Saving data to `waste_gen_scenarios_local` (PartitionedDataSet)...\n",
      "Transfering 14 of 100: households_014\n",
      "2022-05-30 21:09:37,888 - kedro.io.data_catalog - INFO - Saving data to `waste_gen_scenarios_local` (PartitionedDataSet)...\n",
      "Transfering 15 of 100: households_015\n",
      "2022-05-30 21:09:38,303 - kedro.io.data_catalog - INFO - Saving data to `waste_gen_scenarios_local` (PartitionedDataSet)...\n",
      "Transfering 16 of 100: households_016\n",
      "2022-05-30 21:09:38,754 - kedro.io.data_catalog - INFO - Saving data to `waste_gen_scenarios_local` (PartitionedDataSet)...\n",
      "Transfering 17 of 100: households_017\n",
      "2022-05-30 21:09:39,377 - kedro.io.data_catalog - INFO - Saving data to `waste_gen_scenarios_local` (PartitionedDataSet)...\n",
      "Transfering 18 of 100: households_018\n",
      "2022-05-30 21:09:39,931 - kedro.io.data_catalog - INFO - Saving data to `waste_gen_scenarios_local` (PartitionedDataSet)...\n",
      "Transfering 19 of 100: households_019\n",
      "2022-05-30 21:09:40,524 - kedro.io.data_catalog - INFO - Saving data to `waste_gen_scenarios_local` (PartitionedDataSet)...\n",
      "Transfering 20 of 100: households_020\n",
      "2022-05-30 21:09:41,101 - kedro.io.data_catalog - INFO - Saving data to `waste_gen_scenarios_local` (PartitionedDataSet)...\n",
      "Transfering 21 of 100: households_021\n",
      "2022-05-30 21:09:41,596 - kedro.io.data_catalog - INFO - Saving data to `waste_gen_scenarios_local` (PartitionedDataSet)...\n",
      "Transfering 22 of 100: households_022\n",
      "2022-05-30 21:09:42,030 - kedro.io.data_catalog - INFO - Saving data to `waste_gen_scenarios_local` (PartitionedDataSet)...\n",
      "Transfering 23 of 100: households_023\n",
      "2022-05-30 21:09:42,450 - kedro.io.data_catalog - INFO - Saving data to `waste_gen_scenarios_local` (PartitionedDataSet)...\n",
      "Transfering 24 of 100: households_024\n",
      "2022-05-30 21:09:42,883 - kedro.io.data_catalog - INFO - Saving data to `waste_gen_scenarios_local` (PartitionedDataSet)...\n",
      "Transfering 25 of 100: households_025\n",
      "2022-05-30 21:09:43,334 - kedro.io.data_catalog - INFO - Saving data to `waste_gen_scenarios_local` (PartitionedDataSet)...\n",
      "Transfering 26 of 100: households_026\n",
      "2022-05-30 21:09:43,752 - kedro.io.data_catalog - INFO - Saving data to `waste_gen_scenarios_local` (PartitionedDataSet)...\n",
      "Transfering 27 of 100: households_027\n",
      "2022-05-30 21:09:44,227 - kedro.io.data_catalog - INFO - Saving data to `waste_gen_scenarios_local` (PartitionedDataSet)...\n",
      "Transfering 28 of 100: households_028\n",
      "2022-05-30 21:09:44,653 - kedro.io.data_catalog - INFO - Saving data to `waste_gen_scenarios_local` (PartitionedDataSet)...\n",
      "Transfering 29 of 100: households_029\n",
      "2022-05-30 21:09:45,124 - kedro.io.data_catalog - INFO - Saving data to `waste_gen_scenarios_local` (PartitionedDataSet)...\n",
      "Transfering 30 of 100: households_030\n",
      "2022-05-30 21:09:45,566 - kedro.io.data_catalog - INFO - Saving data to `waste_gen_scenarios_local` (PartitionedDataSet)...\n",
      "Transfering 31 of 100: households_031\n",
      "2022-05-30 21:09:46,003 - kedro.io.data_catalog - INFO - Saving data to `waste_gen_scenarios_local` (PartitionedDataSet)...\n",
      "Transfering 32 of 100: households_032\n",
      "2022-05-30 21:09:46,417 - kedro.io.data_catalog - INFO - Saving data to `waste_gen_scenarios_local` (PartitionedDataSet)...\n",
      "Transfering 33 of 100: households_033\n",
      "2022-05-30 21:09:46,908 - kedro.io.data_catalog - INFO - Saving data to `waste_gen_scenarios_local` (PartitionedDataSet)...\n",
      "Transfering 34 of 100: households_034\n",
      "2022-05-30 21:09:47,392 - kedro.io.data_catalog - INFO - Saving data to `waste_gen_scenarios_local` (PartitionedDataSet)...\n",
      "Transfering 35 of 100: households_035\n",
      "2022-05-30 21:09:47,875 - kedro.io.data_catalog - INFO - Saving data to `waste_gen_scenarios_local` (PartitionedDataSet)...\n",
      "Transfering 36 of 100: households_036\n",
      "2022-05-30 21:09:48,278 - kedro.io.data_catalog - INFO - Saving data to `waste_gen_scenarios_local` (PartitionedDataSet)...\n",
      "Transfering 37 of 100: households_037\n",
      "2022-05-30 21:09:48,727 - kedro.io.data_catalog - INFO - Saving data to `waste_gen_scenarios_local` (PartitionedDataSet)...\n",
      "Transfering 38 of 100: households_038\n",
      "2022-05-30 21:09:49,167 - kedro.io.data_catalog - INFO - Saving data to `waste_gen_scenarios_local` (PartitionedDataSet)...\n",
      "Transfering 39 of 100: households_039\n",
      "2022-05-30 21:09:49,826 - kedro.io.data_catalog - INFO - Saving data to `waste_gen_scenarios_local` (PartitionedDataSet)...\n",
      "Transfering 40 of 100: households_040\n",
      "2022-05-30 21:09:50,304 - kedro.io.data_catalog - INFO - Saving data to `waste_gen_scenarios_local` (PartitionedDataSet)...\n",
      "Transfering 41 of 100: households_041\n",
      "2022-05-30 21:09:50,783 - kedro.io.data_catalog - INFO - Saving data to `waste_gen_scenarios_local` (PartitionedDataSet)...\n",
      "Transfering 42 of 100: households_042\n",
      "2022-05-30 21:09:51,228 - kedro.io.data_catalog - INFO - Saving data to `waste_gen_scenarios_local` (PartitionedDataSet)...\n",
      "Transfering 43 of 100: households_043\n",
      "2022-05-30 21:09:51,713 - kedro.io.data_catalog - INFO - Saving data to `waste_gen_scenarios_local` (PartitionedDataSet)...\n",
      "Transfering 44 of 100: households_044\n",
      "2022-05-30 21:09:52,193 - kedro.io.data_catalog - INFO - Saving data to `waste_gen_scenarios_local` (PartitionedDataSet)...\n",
      "Transfering 45 of 100: households_045\n",
      "2022-05-30 21:09:52,674 - kedro.io.data_catalog - INFO - Saving data to `waste_gen_scenarios_local` (PartitionedDataSet)...\n",
      "Transfering 46 of 100: households_046\n",
      "2022-05-30 21:09:53,139 - kedro.io.data_catalog - INFO - Saving data to `waste_gen_scenarios_local` (PartitionedDataSet)...\n",
      "Transfering 47 of 100: households_047\n",
      "2022-05-30 21:09:53,617 - kedro.io.data_catalog - INFO - Saving data to `waste_gen_scenarios_local` (PartitionedDataSet)...\n",
      "Transfering 48 of 100: households_048\n",
      "2022-05-30 21:09:54,106 - kedro.io.data_catalog - INFO - Saving data to `waste_gen_scenarios_local` (PartitionedDataSet)...\n",
      "Transfering 49 of 100: households_049\n",
      "2022-05-30 21:09:54,560 - kedro.io.data_catalog - INFO - Saving data to `waste_gen_scenarios_local` (PartitionedDataSet)...\n",
      "Transfering 50 of 100: households_050\n",
      "2022-05-30 21:09:55,030 - kedro.io.data_catalog - INFO - Saving data to `waste_gen_scenarios_local` (PartitionedDataSet)...\n",
      "Transfering 51 of 100: households_051\n",
      "2022-05-30 21:09:55,498 - kedro.io.data_catalog - INFO - Saving data to `waste_gen_scenarios_local` (PartitionedDataSet)...\n",
      "Transfering 52 of 100: households_052\n",
      "2022-05-30 21:09:55,955 - kedro.io.data_catalog - INFO - Saving data to `waste_gen_scenarios_local` (PartitionedDataSet)...\n",
      "Transfering 53 of 100: households_053\n",
      "2022-05-30 21:09:56,428 - kedro.io.data_catalog - INFO - Saving data to `waste_gen_scenarios_local` (PartitionedDataSet)...\n",
      "Transfering 54 of 100: households_054\n",
      "2022-05-30 21:09:56,887 - kedro.io.data_catalog - INFO - Saving data to `waste_gen_scenarios_local` (PartitionedDataSet)...\n",
      "Transfering 55 of 100: households_055\n",
      "2022-05-30 21:09:57,328 - kedro.io.data_catalog - INFO - Saving data to `waste_gen_scenarios_local` (PartitionedDataSet)...\n",
      "Transfering 56 of 100: households_056\n",
      "2022-05-30 21:09:57,776 - kedro.io.data_catalog - INFO - Saving data to `waste_gen_scenarios_local` (PartitionedDataSet)...\n",
      "Transfering 57 of 100: households_057\n",
      "2022-05-30 21:09:58,303 - kedro.io.data_catalog - INFO - Saving data to `waste_gen_scenarios_local` (PartitionedDataSet)...\n",
      "Transfering 58 of 100: households_058\n",
      "2022-05-30 21:09:58,840 - kedro.io.data_catalog - INFO - Saving data to `waste_gen_scenarios_local` (PartitionedDataSet)...\n",
      "Transfering 59 of 100: households_059\n",
      "2022-05-30 21:09:59,300 - kedro.io.data_catalog - INFO - Saving data to `waste_gen_scenarios_local` (PartitionedDataSet)...\n",
      "Transfering 60 of 100: households_060\n",
      "2022-05-30 21:09:59,747 - kedro.io.data_catalog - INFO - Saving data to `waste_gen_scenarios_local` (PartitionedDataSet)...\n",
      "Transfering 61 of 100: households_061\n",
      "2022-05-30 21:10:00,403 - kedro.io.data_catalog - INFO - Saving data to `waste_gen_scenarios_local` (PartitionedDataSet)...\n",
      "Transfering 62 of 100: households_062\n",
      "2022-05-30 21:10:00,902 - kedro.io.data_catalog - INFO - Saving data to `waste_gen_scenarios_local` (PartitionedDataSet)...\n",
      "Transfering 63 of 100: households_063\n",
      "2022-05-30 21:10:01,487 - kedro.io.data_catalog - INFO - Saving data to `waste_gen_scenarios_local` (PartitionedDataSet)...\n",
      "Transfering 64 of 100: households_064\n",
      "2022-05-30 21:10:01,998 - kedro.io.data_catalog - INFO - Saving data to `waste_gen_scenarios_local` (PartitionedDataSet)...\n",
      "Transfering 65 of 100: households_065\n",
      "2022-05-30 21:10:02,458 - kedro.io.data_catalog - INFO - Saving data to `waste_gen_scenarios_local` (PartitionedDataSet)...\n",
      "Transfering 66 of 100: households_066\n",
      "2022-05-30 21:10:03,087 - kedro.io.data_catalog - INFO - Saving data to `waste_gen_scenarios_local` (PartitionedDataSet)...\n",
      "Transfering 67 of 100: households_067\n",
      "2022-05-30 21:10:03,606 - kedro.io.data_catalog - INFO - Saving data to `waste_gen_scenarios_local` (PartitionedDataSet)...\n",
      "Transfering 68 of 100: households_068\n",
      "2022-05-30 21:10:04,171 - kedro.io.data_catalog - INFO - Saving data to `waste_gen_scenarios_local` (PartitionedDataSet)...\n",
      "Transfering 69 of 100: households_069\n",
      "2022-05-30 21:10:04,788 - kedro.io.data_catalog - INFO - Saving data to `waste_gen_scenarios_local` (PartitionedDataSet)...\n",
      "Transfering 70 of 100: households_070\n",
      "2022-05-30 21:10:05,304 - kedro.io.data_catalog - INFO - Saving data to `waste_gen_scenarios_local` (PartitionedDataSet)...\n",
      "Transfering 71 of 100: households_071\n",
      "2022-05-30 21:10:05,816 - kedro.io.data_catalog - INFO - Saving data to `waste_gen_scenarios_local` (PartitionedDataSet)...\n",
      "Transfering 72 of 100: households_072\n",
      "2022-05-30 21:10:06,264 - kedro.io.data_catalog - INFO - Saving data to `waste_gen_scenarios_local` (PartitionedDataSet)...\n",
      "Transfering 73 of 100: households_073\n",
      "2022-05-30 21:10:06,754 - kedro.io.data_catalog - INFO - Saving data to `waste_gen_scenarios_local` (PartitionedDataSet)...\n",
      "Transfering 74 of 100: households_074\n",
      "2022-05-30 21:10:07,213 - kedro.io.data_catalog - INFO - Saving data to `waste_gen_scenarios_local` (PartitionedDataSet)...\n",
      "Transfering 75 of 100: households_075\n",
      "2022-05-30 21:10:07,687 - kedro.io.data_catalog - INFO - Saving data to `waste_gen_scenarios_local` (PartitionedDataSet)...\n",
      "Transfering 76 of 100: households_076\n",
      "2022-05-30 21:10:08,146 - kedro.io.data_catalog - INFO - Saving data to `waste_gen_scenarios_local` (PartitionedDataSet)...\n",
      "Transfering 77 of 100: households_077\n",
      "2022-05-30 21:10:08,589 - kedro.io.data_catalog - INFO - Saving data to `waste_gen_scenarios_local` (PartitionedDataSet)...\n",
      "Transfering 78 of 100: households_078\n",
      "2022-05-30 21:10:09,018 - kedro.io.data_catalog - INFO - Saving data to `waste_gen_scenarios_local` (PartitionedDataSet)...\n",
      "Transfering 79 of 100: households_079\n",
      "2022-05-30 21:10:09,468 - kedro.io.data_catalog - INFO - Saving data to `waste_gen_scenarios_local` (PartitionedDataSet)...\n",
      "Transfering 80 of 100: households_080\n",
      "2022-05-30 21:10:09,946 - kedro.io.data_catalog - INFO - Saving data to `waste_gen_scenarios_local` (PartitionedDataSet)...\n",
      "Transfering 81 of 100: households_081\n",
      "2022-05-30 21:10:10,426 - kedro.io.data_catalog - INFO - Saving data to `waste_gen_scenarios_local` (PartitionedDataSet)...\n",
      "Transfering 82 of 100: households_082\n",
      "2022-05-30 21:10:10,879 - kedro.io.data_catalog - INFO - Saving data to `waste_gen_scenarios_local` (PartitionedDataSet)...\n",
      "Transfering 83 of 100: households_083\n",
      "2022-05-30 21:10:11,326 - kedro.io.data_catalog - INFO - Saving data to `waste_gen_scenarios_local` (PartitionedDataSet)...\n",
      "Transfering 84 of 100: households_084\n",
      "2022-05-30 21:10:11,841 - kedro.io.data_catalog - INFO - Saving data to `waste_gen_scenarios_local` (PartitionedDataSet)...\n",
      "Transfering 85 of 100: households_085\n",
      "2022-05-30 21:10:12,283 - kedro.io.data_catalog - INFO - Saving data to `waste_gen_scenarios_local` (PartitionedDataSet)...\n",
      "Transfering 86 of 100: households_086\n",
      "2022-05-30 21:10:12,801 - kedro.io.data_catalog - INFO - Saving data to `waste_gen_scenarios_local` (PartitionedDataSet)...\n",
      "Transfering 87 of 100: households_087\n",
      "2022-05-30 21:10:13,267 - kedro.io.data_catalog - INFO - Saving data to `waste_gen_scenarios_local` (PartitionedDataSet)...\n",
      "Transfering 88 of 100: households_088\n",
      "2022-05-30 21:10:13,723 - kedro.io.data_catalog - INFO - Saving data to `waste_gen_scenarios_local` (PartitionedDataSet)...\n",
      "Transfering 89 of 100: households_089\n",
      "2022-05-30 21:10:14,205 - kedro.io.data_catalog - INFO - Saving data to `waste_gen_scenarios_local` (PartitionedDataSet)...\n",
      "Transfering 90 of 100: households_090\n",
      "2022-05-30 21:10:14,671 - kedro.io.data_catalog - INFO - Saving data to `waste_gen_scenarios_local` (PartitionedDataSet)...\n",
      "Transfering 91 of 100: households_091\n",
      "2022-05-30 21:10:15,109 - kedro.io.data_catalog - INFO - Saving data to `waste_gen_scenarios_local` (PartitionedDataSet)...\n",
      "Transfering 92 of 100: households_092\n",
      "2022-05-30 21:10:15,573 - kedro.io.data_catalog - INFO - Saving data to `waste_gen_scenarios_local` (PartitionedDataSet)...\n",
      "Transfering 93 of 100: households_093\n",
      "2022-05-30 21:10:16,048 - kedro.io.data_catalog - INFO - Saving data to `waste_gen_scenarios_local` (PartitionedDataSet)...\n",
      "Transfering 94 of 100: households_094\n",
      "2022-05-30 21:10:16,710 - kedro.io.data_catalog - INFO - Saving data to `waste_gen_scenarios_local` (PartitionedDataSet)...\n",
      "Transfering 95 of 100: households_095\n",
      "2022-05-30 21:10:17,184 - kedro.io.data_catalog - INFO - Saving data to `waste_gen_scenarios_local` (PartitionedDataSet)...\n",
      "Transfering 96 of 100: households_096\n",
      "2022-05-30 21:10:17,979 - kedro.io.data_catalog - INFO - Saving data to `waste_gen_scenarios_local` (PartitionedDataSet)...\n",
      "Transfering 97 of 100: households_097\n",
      "2022-05-30 21:10:18,623 - kedro.io.data_catalog - INFO - Saving data to `waste_gen_scenarios_local` (PartitionedDataSet)...\n",
      "Transfering 98 of 100: households_098\n",
      "2022-05-30 21:10:19,331 - kedro.io.data_catalog - INFO - Saving data to `waste_gen_scenarios_local` (PartitionedDataSet)...\n",
      "Transfering 99 of 100: households_099\n",
      "2022-05-30 21:10:21,132 - kedro.io.data_catalog - INFO - Saving data to `waste_gen_scenarios_local` (PartitionedDataSet)...\n",
      "Transfering 100 of 100: households_100\n",
      "2022-05-30 21:10:21,784 - kedro.io.data_catalog - INFO - Saving data to `waste_gen_scenarios_local` (PartitionedDataSet)...\n",
      "CPU times: user 8.85 s, sys: 2.22 s, total: 11.1 s\n",
      "Wall time: 52.3 s\n"
     ]
    }
   ],
   "source": [
    "%%time\n",
    "s3_pop_files = catalog.load(\"waste_gen_scenarios\")\n",
    "for i, data_key in enumerate(s3_pop_files):\n",
    "    print(f\"Transfering {i + 1} of {len(s3_pop_files)}: {data_key}\")\n",
    "    catalog.save(\"waste_gen_scenarios_local\", {data_key: s3_pop_files[data_key]()})"
   ]
  },
  {
   "cell_type": "code",
   "execution_count": null,
   "metadata": {},
   "outputs": [],
   "source": []
  }
 ],
 "metadata": {
  "kernelspec": {
   "display_name": "DemandestimationandwastecollectionroutingoptimisationfortheCityofCapeTown",
   "language": "python",
   "name": "python3"
  },
  "language_info": {
   "codemirror_mode": {
    "name": "ipython",
    "version": 3
   },
   "file_extension": ".py",
   "mimetype": "text/x-python",
   "name": "python",
   "nbconvert_exporter": "python",
   "pygments_lexer": "ipython3",
   "version": "3.8.12"
  },
  "widgets": {
   "application/vnd.jupyter.widget-state+json": {
    "state": {
     "0404c280bd7a492aa7508beb5a1fcfdc": {
      "model_module": "@jupyter-widgets/base",
      "model_module_version": "1.2.0",
      "model_name": "LayoutModel",
      "state": {}
     },
     "05d2e6be818a4a2f9c76407f8e1eb5ec": {
      "model_module": "@jupyter-widgets/controls",
      "model_module_version": "1.5.0",
      "model_name": "DescriptionStyleModel",
      "state": {
       "description_width": ""
      }
     },
     "0a6eac1142654a048ac05ee24867a21b": {
      "model_module": "@jupyter-widgets/controls",
      "model_module_version": "1.5.0",
      "model_name": "ButtonStyleModel",
      "state": {}
     },
     "0fd27e83b944482c80c54aa77199667d": {
      "model_module": "@jupyter-widgets/base",
      "model_module_version": "1.2.0",
      "model_name": "LayoutModel",
      "state": {}
     },
     "13dd97b986d149f29e513251304cea19": {
      "model_module": "@jupyter-widgets/output",
      "model_module_version": "1.0.0",
      "model_name": "OutputModel",
      "state": {
       "layout": "IPY_MODEL_e0103eff14ce4eb08422d3be9dfa040a"
      }
     },
     "16e6989affb846b0baf6204485ea672d": {
      "model_module": "@jupyter-widgets/controls",
      "model_module_version": "1.5.0",
      "model_name": "DescriptionStyleModel",
      "state": {
       "description_width": ""
      }
     },
     "182ddfca166843ae87b1cac941d1269b": {
      "model_module": "@jupyter-widgets/output",
      "model_module_version": "1.0.0",
      "model_name": "OutputModel",
      "state": {
       "layout": "IPY_MODEL_4cf7782dc39e49ba887c15105601b0f2",
       "outputs": [
        {
         "data": {
          "text/html": "<div>\n<style scoped>\n    .dataframe tbody tr th:only-of-type {\n        vertical-align: middle;\n    }\n\n    .dataframe tbody tr th {\n        vertical-align: top;\n    }\n\n    .dataframe thead th {\n        text-align: right;\n    }\n</style>\n<table border=\"1\" class=\"dataframe\">\n  <thead>\n    <tr style=\"text-align: right;\">\n      <th></th>\n      <th>description</th>\n      <th>type</th>\n      <th>Postal Code</th>\n      <th>ADDRESS</th>\n    </tr>\n  </thead>\n  <tbody>\n    <tr>\n      <th>2</th>\n      <td>ALBA W&amp;H Tuas depot</td>\n      <td>depot</td>\n      <td>639142</td>\n      <td>18 tuas avenue 10 singapore 639142</td>\n    </tr>\n  </tbody>\n</table>\n</div>",
          "text/plain": "           description   type Postal Code                             ADDRESS\n2  ALBA W&H Tuas depot  depot      639142  18 tuas avenue 10 singapore 639142"
         },
         "metadata": {},
         "output_type": "display_data"
        }
       ]
      }
     },
     "18e19de11b3546e5adab0286d75db98d": {
      "model_module": "@jupyter-widgets/output",
      "model_module_version": "1.0.0",
      "model_name": "OutputModel",
      "state": {
       "layout": "IPY_MODEL_2e8cb26f70334cc58df3f12109655625",
       "outputs": [
        {
         "data": {
          "text/plain": "'Producers in area: 16057'"
         },
         "metadata": {},
         "output_type": "display_data"
        }
       ]
      }
     },
     "1bb42f3182c04b58bc692d0f4742bc2d": {
      "model_module": "@jupyter-widgets/base",
      "model_module_version": "1.2.0",
      "model_name": "LayoutModel",
      "state": {}
     },
     "1cad8f7177fa4f5ea8556673f1ae64bb": {
      "model_module": "@jupyter-widgets/controls",
      "model_module_version": "1.5.0",
      "model_name": "SelectMultipleModel",
      "state": {
       "_options_labels": [
        "crc.csv",
        "BC.csv",
        "schools.csv",
        "bulk_hawker.csv",
        "trade_temple_other.csv",
        "gov.csv",
        "bc_blocks.csv",
        "condo_optin.csv",
        "landed.csv"
       ],
       "description": "Input file:",
       "index": [
        0,
        2,
        3,
        4,
        5,
        7,
        8
       ],
       "layout": "IPY_MODEL_8579420f34cd4bab9dc6ccb407c74f64",
       "rows": 9,
       "style": "IPY_MODEL_71cbeb9fa5264d32938c92313bab9fd1"
      }
     },
     "1d48adc2b5d24d679a6e20b970cdb56d": {
      "model_module": "@jupyter-widgets/base",
      "model_module_version": "1.2.0",
      "model_name": "LayoutModel",
      "state": {}
     },
     "21676f2219ee4ba5a144804ce0093439": {
      "model_module": "@jupyter-widgets/base",
      "model_module_version": "1.2.0",
      "model_name": "LayoutModel",
      "state": {}
     },
     "25a8b760a7f94eb5951d37e855d72727": {
      "model_module": "@jupyter-widgets/controls",
      "model_module_version": "1.5.0",
      "model_name": "VBoxModel",
      "state": {
       "_dom_classes": [
        "widget-interact"
       ],
       "children": [
        "IPY_MODEL_e6b6d946d1ed4fb682d736c5c3897f93",
        "IPY_MODEL_9539799220fe4775970a4fcbce1875ef"
       ],
       "layout": "IPY_MODEL_97944c3db4b945f48f6ae6a1cc134f3b"
      }
     },
     "265966bf297149b59ef3d92887186d8a": {
      "model_module": "@jupyter-widgets/controls",
      "model_module_version": "1.5.0",
      "model_name": "VBoxModel",
      "state": {
       "_dom_classes": [
        "widget-interact"
       ],
       "children": [
        "IPY_MODEL_504bdc0b9d15434ca959c87df398ea35",
        "IPY_MODEL_18e19de11b3546e5adab0286d75db98d"
       ],
       "layout": "IPY_MODEL_622b557735bb4486983f22987f257557"
      }
     },
     "288a0f87b3cb4e439f2df4c900700fb8": {
      "model_module": "@jupyter-widgets/controls",
      "model_module_version": "1.5.0",
      "model_name": "VBoxModel",
      "state": {
       "_dom_classes": [
        "widget-interact"
       ],
       "children": [
        "IPY_MODEL_b4e7121e00c84c409bf933d85c5be6a3",
        "IPY_MODEL_67dac95bcd4a49a79503b1cee672774d"
       ],
       "layout": "IPY_MODEL_21676f2219ee4ba5a144804ce0093439"
      }
     },
     "2b4e53df9b1445a98927a0b37c13d217": {
      "model_module": "@jupyter-widgets/output",
      "model_module_version": "1.0.0",
      "model_name": "OutputModel",
      "state": {
       "layout": "IPY_MODEL_0404c280bd7a492aa7508beb5a1fcfdc"
      }
     },
     "2ca17a19b9124d20805807fdf56c5991": {
      "model_module": "@jupyter-widgets/base",
      "model_module_version": "1.2.0",
      "model_name": "LayoutModel",
      "state": {}
     },
     "2dab04fec7604ba8a85279c0f047f6c9": {
      "model_module": "@jupyter-widgets/base",
      "model_module_version": "1.2.0",
      "model_name": "LayoutModel",
      "state": {}
     },
     "2e8cb26f70334cc58df3f12109655625": {
      "model_module": "@jupyter-widgets/base",
      "model_module_version": "1.2.0",
      "model_name": "LayoutModel",
      "state": {}
     },
     "341087fabb234a46a56558951c4405e0": {
      "model_module": "@jupyter-widgets/controls",
      "model_module_version": "1.5.0",
      "model_name": "VBoxModel",
      "state": {
       "_dom_classes": [
        "widget-interact"
       ],
       "children": [
        "IPY_MODEL_1cad8f7177fa4f5ea8556673f1ae64bb",
        "IPY_MODEL_cb24cb8da58849448fc9a1b3534c36ee"
       ],
       "layout": "IPY_MODEL_0fd27e83b944482c80c54aa77199667d"
      }
     },
     "391cbe513c284d1f9b58b5cc5911e59f": {
      "model_module": "@jupyter-widgets/controls",
      "model_module_version": "1.5.0",
      "model_name": "VBoxModel",
      "state": {
       "_dom_classes": [
        "widget-interact"
       ],
       "children": [
        "IPY_MODEL_7868f8346fed48deb80e9d2bdd2079c1",
        "IPY_MODEL_e2b9ab564343429ab8341dd254170f21"
       ],
       "layout": "IPY_MODEL_a394688f1a5e48e48cc67d6c1678b6d2"
      }
     },
     "3a9e99243c064694bcd39e4ba956f0b3": {
      "model_module": "@jupyter-widgets/base",
      "model_module_version": "1.2.0",
      "model_name": "LayoutModel",
      "state": {}
     },
     "409e0a0f840e46edaaad6d5dcf3c364f": {
      "model_module": "@jupyter-widgets/base",
      "model_module_version": "1.2.0",
      "model_name": "LayoutModel",
      "state": {}
     },
     "4576df5e7e4045379a97beef7b67d006": {
      "model_module": "@jupyter-widgets/base",
      "model_module_version": "1.2.0",
      "model_name": "LayoutModel",
      "state": {}
     },
     "461ffd4d4fed477eb203b7f6a5411cfa": {
      "model_module": "@jupyter-widgets/controls",
      "model_module_version": "1.5.0",
      "model_name": "DescriptionStyleModel",
      "state": {
       "description_width": ""
      }
     },
     "463b011330ef4d3db35038c8a857f4b7": {
      "model_module": "@jupyter-widgets/base",
      "model_module_version": "1.2.0",
      "model_name": "LayoutModel",
      "state": {}
     },
     "4cf7782dc39e49ba887c15105601b0f2": {
      "model_module": "@jupyter-widgets/base",
      "model_module_version": "1.2.0",
      "model_name": "LayoutModel",
      "state": {}
     },
     "504bdc0b9d15434ca959c87df398ea35": {
      "model_module": "@jupyter-widgets/controls",
      "model_module_version": "1.5.0",
      "model_name": "SelectMultipleModel",
      "state": {
       "_options_labels": [
        "crc.csv",
        "BC.csv",
        "schools.csv",
        "bulk_hawker.csv",
        "trade_temple_other.csv",
        "gov.csv",
        "bc_blocks.csv",
        "condo_optin.csv",
        "landed.csv"
       ],
       "description": "Input file:",
       "index": [
        0,
        2,
        3,
        4,
        5,
        7,
        8
       ],
       "layout": "IPY_MODEL_463b011330ef4d3db35038c8a857f4b7",
       "rows": 9,
       "style": "IPY_MODEL_461ffd4d4fed477eb203b7f6a5411cfa"
      }
     },
     "50cb8b8f05ac47be8d3f2907f6d218c8": {
      "model_module": "@jupyter-widgets/controls",
      "model_module_version": "1.5.0",
      "model_name": "ButtonStyleModel",
      "state": {}
     },
     "53a536581bdd4742bf03f1d3d16e90f7": {
      "model_module": "@jupyter-widgets/output",
      "model_module_version": "1.0.0",
      "model_name": "OutputModel",
      "state": {
       "layout": "IPY_MODEL_a8ac7c7b928c4e48b24704fa5f841cfd"
      }
     },
     "58b7238f301f4d129545701570bb8116": {
      "model_module": "@jupyter-widgets/controls",
      "model_module_version": "1.5.0",
      "model_name": "ButtonStyleModel",
      "state": {}
     },
     "622b557735bb4486983f22987f257557": {
      "model_module": "@jupyter-widgets/base",
      "model_module_version": "1.2.0",
      "model_name": "LayoutModel",
      "state": {}
     },
     "677d23deb7274b0ca279dffdd2c7b91b": {
      "model_module": "@jupyter-widgets/controls",
      "model_module_version": "1.5.0",
      "model_name": "ButtonModel",
      "state": {
       "description": "Show map",
       "layout": "IPY_MODEL_f5da9e1175f24814a9ba6195fdcf3885",
       "style": "IPY_MODEL_cefa579cf05f44a88720211847e8e885"
      }
     },
     "67dac95bcd4a49a79503b1cee672774d": {
      "model_module": "@jupyter-widgets/output",
      "model_module_version": "1.0.0",
      "model_name": "OutputModel",
      "state": {
       "layout": "IPY_MODEL_f9dca610179d43ce8d843f264b73f9ab",
       "outputs": [
        {
         "data": {
          "text/html": "<div>\n<style scoped>\n    .dataframe tbody tr th:only-of-type {\n        vertical-align: middle;\n    }\n\n    .dataframe tbody tr th {\n        vertical-align: top;\n    }\n\n    .dataframe thead th {\n        text-align: right;\n    }\n</style>\n<table border=\"1\" class=\"dataframe\">\n  <thead>\n    <tr style=\"text-align: right;\">\n      <th></th>\n      <th>description</th>\n      <th>type</th>\n      <th>Postal Code</th>\n      <th>ADDRESS</th>\n    </tr>\n  </thead>\n  <tbody>\n    <tr>\n      <th>5</th>\n      <td>Senoko Incineration Plant</td>\n      <td>waste_treatment</td>\n      <td>759907</td>\n      <td>30 attap valley road senoko incineration plant...</td>\n    </tr>\n    <tr>\n      <th>6</th>\n      <td>Tuas South Incineration Plant</td>\n      <td>waste_treatment</td>\n      <td>637821</td>\n      <td>98 tuas south avenue 3 singapore 637821</td>\n    </tr>\n    <tr>\n      <th>7</th>\n      <td>KSTP</td>\n      <td>waste_treatment</td>\n      <td>637366</td>\n      <td>96 tuas south avenue 3 singapore 637366</td>\n    </tr>\n  </tbody>\n</table>\n</div>",
          "text/plain": "                     description             type Postal Code  \\\n5      Senoko Incineration Plant  waste_treatment      759907   \n6  Tuas South Incineration Plant  waste_treatment      637821   \n7                           KSTP  waste_treatment      637366   \n\n                                             ADDRESS  \n5  30 attap valley road senoko incineration plant...  \n6            98 tuas south avenue 3 singapore 637821  \n7            96 tuas south avenue 3 singapore 637366  "
         },
         "metadata": {},
         "output_type": "display_data"
        }
       ]
      }
     },
     "6985cb8ed2434a029b3d1484bfb9ee9e": {
      "model_module": "@jupyter-widgets/controls",
      "model_module_version": "1.5.0",
      "model_name": "ButtonModel",
      "state": {
       "description": "Show map",
       "layout": "IPY_MODEL_d3bf98105dd4441eab236f1909868aaa",
       "style": "IPY_MODEL_58b7238f301f4d129545701570bb8116"
      }
     },
     "6fe19f45c10841008377a88b858e60ae": {
      "model_module": "@jupyter-widgets/base",
      "model_module_version": "1.2.0",
      "model_name": "LayoutModel",
      "state": {}
     },
     "71cbeb9fa5264d32938c92313bab9fd1": {
      "model_module": "@jupyter-widgets/controls",
      "model_module_version": "1.5.0",
      "model_name": "DescriptionStyleModel",
      "state": {
       "description_width": ""
      }
     },
     "76b8bd3d9a634a00ab87cd5e943920de": {
      "model_module": "@jupyter-widgets/base",
      "model_module_version": "1.2.0",
      "model_name": "LayoutModel",
      "state": {}
     },
     "7868f8346fed48deb80e9d2bdd2079c1": {
      "model_module": "@jupyter-widgets/controls",
      "model_module_version": "1.5.0",
      "model_name": "SelectMultipleModel",
      "state": {
       "_options_labels": [
        "rel_refuse_producers_high_demand.csv",
        "landed_service_residential.csv",
        "crc.csv",
        "BC.csv",
        "schools.csv",
        "bc_hl_refuse_producers.csv",
        "bulk_hawker.csv",
        "trade_temple_other.csv",
        "rel_refuse_producers_high_demand_all.csv",
        "rel_refuse_producers.csv",
        "rel_refuse_producers_jurong_high_demand.csv",
        "crc_mac.csv",
        "rel_recycling.csv",
        "rel_refuse_producers_jurong_high_demand_all.csv",
        "rel_refuse_producers_all.csv",
        "gov.csv",
        "bc_blocks.csv",
        "bc_refuse_producers.csv",
        "condo_optin.csv",
        "BC 1.csv"
       ],
       "description": "Input file:",
       "index": [
        0
       ],
       "layout": "IPY_MODEL_a306063464004c9f809d51daae63a170",
       "rows": 20,
       "style": "IPY_MODEL_d8bd0d0ab09c4dfd8f367b3a3547cd62"
      }
     },
     "82c1874751ba4d1bacd9de3ae0198736": {
      "model_module": "@jupyter-widgets/controls",
      "model_module_version": "1.5.0",
      "model_name": "ButtonModel",
      "state": {
       "description": "Show map",
       "layout": "IPY_MODEL_4576df5e7e4045379a97beef7b67d006",
       "style": "IPY_MODEL_c39027e57b3449caa04d9514b056a62f"
      }
     },
     "8579420f34cd4bab9dc6ccb407c74f64": {
      "model_module": "@jupyter-widgets/base",
      "model_module_version": "1.2.0",
      "model_name": "LayoutModel",
      "state": {}
     },
     "8595d8412c9444fcb6f4fa81ac7035c9": {
      "model_module": "@jupyter-widgets/controls",
      "model_module_version": "1.5.0",
      "model_name": "DescriptionStyleModel",
      "state": {
       "description_width": ""
      }
     },
     "8a2526bf64414ec18caecb7c1bd29049": {
      "model_module": "@jupyter-widgets/controls",
      "model_module_version": "1.5.0",
      "model_name": "DropdownModel",
      "state": {
       "_options_labels": [
        "ALBA W&H Kranji depot",
        "ALBA W&H Tuas depot"
       ],
       "description": "Depot:",
       "index": 1,
       "layout": "IPY_MODEL_1d48adc2b5d24d679a6e20b970cdb56d",
       "style": "IPY_MODEL_8595d8412c9444fcb6f4fa81ac7035c9"
      }
     },
     "92cadf01be534fe3939334b47fc59051": {
      "model_module": "@jupyter-widgets/controls",
      "model_module_version": "1.5.0",
      "model_name": "SelectMultipleModel",
      "state": {
       "_options_labels": [
        "crc.csv",
        "BC.csv",
        "schools.csv",
        "bulk_hawker.csv",
        "trade_temple_other.csv",
        "gov.csv",
        "bc_blocks.csv",
        "condo_optin.csv",
        "landed.csv"
       ],
       "description": "Input file:",
       "index": [
        0,
        2,
        3,
        4,
        5,
        7,
        8
       ],
       "layout": "IPY_MODEL_98b5ee657958439db3b87ec40196ba8b",
       "rows": 9,
       "style": "IPY_MODEL_9f7ea770ec784fcfbbd20b540c04e0af"
      }
     },
     "9539799220fe4775970a4fcbce1875ef": {
      "model_module": "@jupyter-widgets/output",
      "model_module_version": "1.0.0",
      "model_name": "OutputModel",
      "state": {
       "layout": "IPY_MODEL_c763016bb5d1470ba6b950b9a3bf10ab",
       "outputs": [
        {
         "name": "stdout",
         "output_type": "stream",
         "text": "Index(['planning_area', 'Postal Code', 'block_number', 'street_name',\n       'building description', 'property_type', 'land_use',\n       'total_dwelling_units', 'total_people', 'parcel_area_m2',\n       ...\n       '240', '360', '660', 'MAX SIZE FOR GOMIC  INSTALLATION',\n       'collection_scheme', 'n_bins', 'geom_id', 'geom_id_inv',\n       'geom_id_order', 'arc_index'],\n      dtype='object', length=114)\n"
        },
        {
         "data": {
          "text/plain": "'Number of producers: 15815'"
         },
         "metadata": {},
         "output_type": "display_data"
        },
        {
         "name": "stdout",
         "output_type": "stream",
         "text": "Number of producers after removing large commercial land parcels: 15815\n"
        }
       ]
      }
     },
     "97944c3db4b945f48f6ae6a1cc134f3b": {
      "model_module": "@jupyter-widgets/base",
      "model_module_version": "1.2.0",
      "model_name": "LayoutModel",
      "state": {}
     },
     "98b5ee657958439db3b87ec40196ba8b": {
      "model_module": "@jupyter-widgets/base",
      "model_module_version": "1.2.0",
      "model_name": "LayoutModel",
      "state": {}
     },
     "9b16d05cc9424b998847a046339ae14d": {
      "model_module": "@jupyter-widgets/base",
      "model_module_version": "1.2.0",
      "model_name": "LayoutModel",
      "state": {}
     },
     "9f7ea770ec784fcfbbd20b540c04e0af": {
      "model_module": "@jupyter-widgets/controls",
      "model_module_version": "1.5.0",
      "model_name": "DescriptionStyleModel",
      "state": {
       "description_width": ""
      }
     },
     "a306063464004c9f809d51daae63a170": {
      "model_module": "@jupyter-widgets/base",
      "model_module_version": "1.2.0",
      "model_name": "LayoutModel",
      "state": {}
     },
     "a394688f1a5e48e48cc67d6c1678b6d2": {
      "model_module": "@jupyter-widgets/base",
      "model_module_version": "1.2.0",
      "model_name": "LayoutModel",
      "state": {}
     },
     "a777a6a433044c249364fc8baa4fe738": {
      "model_module": "@jupyter-widgets/controls",
      "model_module_version": "1.5.0",
      "model_name": "ButtonStyleModel",
      "state": {}
     },
     "a8ac7c7b928c4e48b24704fa5f841cfd": {
      "model_module": "@jupyter-widgets/base",
      "model_module_version": "1.2.0",
      "model_name": "LayoutModel",
      "state": {}
     },
     "ab329332d7cb4be990504e78d233b7ee": {
      "model_module": "@jupyter-widgets/controls",
      "model_module_version": "1.5.0",
      "model_name": "VBoxModel",
      "state": {
       "_dom_classes": [
        "widget-interact"
       ],
       "children": [
        "IPY_MODEL_92cadf01be534fe3939334b47fc59051",
        "IPY_MODEL_f24f6fd65aeb4e1a8545cdf34d8cfb96"
       ],
       "layout": "IPY_MODEL_d3fe956ee40d4960b0e10a334f6c169b"
      }
     },
     "adffeb3254b24b6eb78beb9c95fdd5e2": {
      "model_module": "@jupyter-widgets/base",
      "model_module_version": "1.2.0",
      "model_name": "LayoutModel",
      "state": {}
     },
     "b4e7121e00c84c409bf933d85c5be6a3": {
      "model_module": "@jupyter-widgets/controls",
      "model_module_version": "1.5.0",
      "model_name": "SelectMultipleModel",
      "state": {
       "_options_labels": [
        "ALBA W&H Kranji depot",
        "CTM MRF",
        "KSTP",
        "Senoko Incineration Plant",
        "Tuas Incineration Plant",
        "Tuas South Incineration Plant"
       ],
       "description": "Treatment:",
       "index": [
        2,
        3,
        5
       ],
       "layout": "IPY_MODEL_adffeb3254b24b6eb78beb9c95fdd5e2",
       "rows": 6,
       "style": "IPY_MODEL_16e6989affb846b0baf6204485ea672d"
      }
     },
     "b527e26e48164bdc985ba88bffde004e": {
      "model_module": "@jupyter-widgets/output",
      "model_module_version": "1.0.0",
      "model_name": "OutputModel",
      "state": {
       "layout": "IPY_MODEL_409e0a0f840e46edaaad6d5dcf3c364f"
      }
     },
     "bb3a7e29f39d40819d14ad4b03a195f0": {
      "model_module": "@jupyter-widgets/controls",
      "model_module_version": "1.5.0",
      "model_name": "ButtonModel",
      "state": {
       "description": "Load network",
       "layout": "IPY_MODEL_9b16d05cc9424b998847a046339ae14d",
       "style": "IPY_MODEL_0a6eac1142654a048ac05ee24867a21b"
      }
     },
     "c04bbd4f00b14316a6583d0c35b4c8bc": {
      "model_module": "@jupyter-widgets/output",
      "model_module_version": "1.0.0",
      "model_name": "OutputModel",
      "state": {
       "layout": "IPY_MODEL_2ca17a19b9124d20805807fdf56c5991"
      }
     },
     "c39027e57b3449caa04d9514b056a62f": {
      "model_module": "@jupyter-widgets/controls",
      "model_module_version": "1.5.0",
      "model_name": "ButtonStyleModel",
      "state": {}
     },
     "c763016bb5d1470ba6b950b9a3bf10ab": {
      "model_module": "@jupyter-widgets/base",
      "model_module_version": "1.2.0",
      "model_name": "LayoutModel",
      "state": {}
     },
     "cb24cb8da58849448fc9a1b3534c36ee": {
      "model_module": "@jupyter-widgets/output",
      "model_module_version": "1.0.0",
      "model_name": "OutputModel",
      "state": {
       "layout": "IPY_MODEL_f2e3e7a43fa24f83ad27435fe4e996f4",
       "outputs": [
        {
         "data": {
          "text/plain": "'Producers in area: 16057'"
         },
         "metadata": {},
         "output_type": "display_data"
        }
       ]
      }
     },
     "cbfc44c6474645e2b7f934f011d88b00": {
      "model_module": "@jupyter-widgets/controls",
      "model_module_version": "1.5.0",
      "model_name": "ButtonModel",
      "state": {
       "description": "Show map",
       "layout": "IPY_MODEL_f69c2c02ef3f4e78897fd8d53c0cbc9e",
       "style": "IPY_MODEL_a777a6a433044c249364fc8baa4fe738"
      }
     },
     "cefa579cf05f44a88720211847e8e885": {
      "model_module": "@jupyter-widgets/controls",
      "model_module_version": "1.5.0",
      "model_name": "ButtonStyleModel",
      "state": {}
     },
     "d3bf98105dd4441eab236f1909868aaa": {
      "model_module": "@jupyter-widgets/base",
      "model_module_version": "1.2.0",
      "model_name": "LayoutModel",
      "state": {}
     },
     "d3fe956ee40d4960b0e10a334f6c169b": {
      "model_module": "@jupyter-widgets/base",
      "model_module_version": "1.2.0",
      "model_name": "LayoutModel",
      "state": {}
     },
     "d8bd0d0ab09c4dfd8f367b3a3547cd62": {
      "model_module": "@jupyter-widgets/controls",
      "model_module_version": "1.5.0",
      "model_name": "DescriptionStyleModel",
      "state": {
       "description_width": ""
      }
     },
     "e0103eff14ce4eb08422d3be9dfa040a": {
      "model_module": "@jupyter-widgets/base",
      "model_module_version": "1.2.0",
      "model_name": "LayoutModel",
      "state": {}
     },
     "e2b9ab564343429ab8341dd254170f21": {
      "model_module": "@jupyter-widgets/output",
      "model_module_version": "1.0.0",
      "model_name": "OutputModel",
      "state": {
       "layout": "IPY_MODEL_6fe19f45c10841008377a88b858e60ae",
       "outputs": [
        {
         "name": "stderr",
         "output_type": "stream",
         "text": "/Users/ejwillemse/opt/anaconda3/envs/waste_labs_examples/lib/python3.8/site-packages/ipywidgets/widgets/widget.py:186: DtypeWarning:\n\nColumns (49,50,53,54,55,56,57,58,59,61,65,68,69,71,72,73,74,75,76,78,79,81,82,91,96,98,101,108) have mixed types.Specify dtype option on import or set low_memory=False.\n\n"
        },
        {
         "data": {
          "text/plain": "'Producers in area: 15815'"
         },
         "metadata": {},
         "output_type": "display_data"
        }
       ]
      }
     },
     "e5ad76e6681a45559e122c3ec1947a3a": {
      "model_module": "@jupyter-widgets/output",
      "model_module_version": "1.0.0",
      "model_name": "OutputModel",
      "state": {
       "layout": "IPY_MODEL_3a9e99243c064694bcd39e4ba956f0b3"
      }
     },
     "e6b6d946d1ed4fb682d736c5c3897f93": {
      "model_module": "@jupyter-widgets/controls",
      "model_module_version": "1.5.0",
      "model_name": "SelectMultipleModel",
      "state": {
       "_options_labels": [
        "ALL",
        "CRC",
        "Condo opt-in",
        "Government",
        "Schools",
        "bulk_bins",
        "commercial",
        "commercial & residential",
        "hawker_markets",
        "landed_properties",
        "place of worship",
        "residential with commercial at 1st storey"
       ],
       "description": "Producer:",
       "index": [
        0
       ],
       "layout": "IPY_MODEL_1bb42f3182c04b58bc692d0f4742bc2d",
       "rows": 12,
       "style": "IPY_MODEL_05d2e6be818a4a2f9c76407f8e1eb5ec"
      }
     },
     "ed8a2664faf54e67bd051ee539c40994": {
      "model_module": "@jupyter-widgets/base",
      "model_module_version": "1.2.0",
      "model_name": "LayoutModel",
      "state": {}
     },
     "ee45ce3fa54e49e892ced31c4d656152": {
      "model_module": "@jupyter-widgets/controls",
      "model_module_version": "1.5.0",
      "model_name": "ButtonModel",
      "state": {
       "description": "Show map",
       "layout": "IPY_MODEL_2dab04fec7604ba8a85279c0f047f6c9",
       "style": "IPY_MODEL_50cb8b8f05ac47be8d3f2907f6d218c8"
      }
     },
     "f04ece8682a845b4a8d3d3cdda4a0ff9": {
      "model_module": "@jupyter-widgets/controls",
      "model_module_version": "1.5.0",
      "model_name": "VBoxModel",
      "state": {
       "_dom_classes": [
        "widget-interact"
       ],
       "children": [
        "IPY_MODEL_8a2526bf64414ec18caecb7c1bd29049",
        "IPY_MODEL_182ddfca166843ae87b1cac941d1269b"
       ],
       "layout": "IPY_MODEL_76b8bd3d9a634a00ab87cd5e943920de"
      }
     },
     "f24f6fd65aeb4e1a8545cdf34d8cfb96": {
      "model_module": "@jupyter-widgets/output",
      "model_module_version": "1.0.0",
      "model_name": "OutputModel",
      "state": {
       "layout": "IPY_MODEL_ed8a2664faf54e67bd051ee539c40994",
       "outputs": [
        {
         "data": {
          "text/plain": "'Producers in area: 16057'"
         },
         "metadata": {},
         "output_type": "display_data"
        }
       ]
      }
     },
     "f2e3e7a43fa24f83ad27435fe4e996f4": {
      "model_module": "@jupyter-widgets/base",
      "model_module_version": "1.2.0",
      "model_name": "LayoutModel",
      "state": {}
     },
     "f5da9e1175f24814a9ba6195fdcf3885": {
      "model_module": "@jupyter-widgets/base",
      "model_module_version": "1.2.0",
      "model_name": "LayoutModel",
      "state": {}
     },
     "f69c2c02ef3f4e78897fd8d53c0cbc9e": {
      "model_module": "@jupyter-widgets/base",
      "model_module_version": "1.2.0",
      "model_name": "LayoutModel",
      "state": {}
     },
     "f9dca610179d43ce8d843f264b73f9ab": {
      "model_module": "@jupyter-widgets/base",
      "model_module_version": "1.2.0",
      "model_name": "LayoutModel",
      "state": {}
     }
    },
    "version_major": 2,
    "version_minor": 0
   }
  }
 },
 "nbformat": 4,
 "nbformat_minor": 4
}
