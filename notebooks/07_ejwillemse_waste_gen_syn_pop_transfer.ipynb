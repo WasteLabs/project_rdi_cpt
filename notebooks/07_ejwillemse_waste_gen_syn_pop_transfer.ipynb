{
 "cells": [
  {
   "cell_type": "markdown",
   "metadata": {},
   "source": [
    "# Waste generation and scenario planning transfer\n",
    "\n",
    "Files are stored no S3 as csv files.\n",
    "\n",
    "This module loads the files and saves it as a csv local partitioned dataset."
   ]
  },
  {
   "cell_type": "code",
   "execution_count": null,
   "metadata": {},
   "outputs": [
    {
     "data": {
      "text/html": [
       "<style>\n",
       "table {float:left}\n",
       "</style>\n"
      ],
      "text/plain": [
       "<IPython.core.display.HTML object>"
      ]
     },
     "metadata": {},
     "output_type": "display_data"
    }
   ],
   "source": [
    "%%html\n",
    "<style>\n",
    "table {float:left}\n",
    "</style>"
   ]
  },
  {
   "cell_type": "markdown",
   "metadata": {},
   "source": [
    "| Document info | |\n",
    "| --- | --- | \n",
    "| Area of interest: | Cape Town |\n",
    "| Planning type: | All REL type producers |\n",
    "| Prepared by: | Waste Labs (wastelabs.co) |\n",
    "| Prepared for: | Johan W. Joubert |\n",
    "| Contact: | elias@wastelabs.co |"
   ]
  },
  {
   "cell_type": "code",
   "execution_count": null,
   "metadata": {},
   "outputs": [
    {
     "name": "stdout",
     "output_type": "stream",
     "text": [
      "2022-05-30 20:55:24,748 - kedro.framework.session.store - INFO - `read()` not implemented for `BaseSessionStore`. Assuming empty store.\n",
      "2022-05-30 20:55:24,811 - root - INFO - ** Kedro project Demand estimation and waste collection routing optimisation for the City of Cape Town\n",
      "2022-05-30 20:55:24,812 - root - INFO - Defined global variable `context`, `session` and `catalog`\n",
      "2022-05-30 20:55:24,821 - root - INFO - Registered line magic `run_viz`\n"
     ]
    }
   ],
   "source": [
    "%reload_kedro\n",
    "import pandas as pd\n",
    "import geopandas as gpd\n",
    "import numpy as np\n",
    "import boto3\n",
    "import yaml\n",
    "from GPSOdyssey import Kepler\n",
    "\n",
    "pd.options.display.max_rows = 1000\n",
    "pd.options.display.max_columns = 1000\n",
    "\n",
    "from IPython.core.interactiveshell import InteractiveShell\n",
    "\n",
    "InteractiveShell.ast_node_interactivity = \"all\""
   ]
  },
  {
   "cell_type": "markdown",
   "metadata": {},
   "source": [
    "## Custom modules"
   ]
  },
  {
   "cell_type": "code",
   "execution_count": null,
   "metadata": {},
   "outputs": [],
   "source": [
    "def load_credentials():\n",
    "    global_credentials_path = \"../conf/local/credentials.yml\"\n",
    "    with open(global_credentials_path, \"r\") as read_file:\n",
    "        credentials = yaml.load(read_file, Loader=yaml.SafeLoader)\n",
    "    s3_cred = credentials[\"dev_s3\"][\"client_kwargs\"]\n",
    "    return s3_cred\n",
    "\n",
    "def get_s3_bucket_session(s3_cred, bucket=\"project-rdi-cpt-public\"):\n",
    "    aws_access_key_id = s3_cred[\"aws_access_key_id\"]\n",
    "    aws_secret_access_key = s3_cred[\"aws_secret_access_key\"]\n",
    "    session = boto3.Session(\n",
    "        aws_access_key_id=aws_access_key_id,\n",
    "        aws_secret_access_key=aws_secret_access_key,\n",
    "    )\n",
    "    s3 = session.resource(\"s3\")\n",
    "    my_bucket = s3.Bucket(bucket)\n",
    "    return my_bucket\n",
    "\n",
    "\n",
    "def get_latest_bucket_files(my_bucket, path):\n",
    "    prefix = path\n",
    "    existing_s3_files = my_bucket.objects.filter(Prefix=prefix)\n",
    "    pulled_results = []\n",
    "    for key in existing_s3_files:\n",
    "        pulled_results.append(\n",
    "            {\"filename\": key.key, \"size\": key.size, \"last_modified\": key.last_modified}\n",
    "        )\n",
    "    file_info = pd.DataFrame(pulled_results)\n",
    "    return file_info\n",
    "\n",
    "\n",
    "def get_file(bucket, file, s3_cred):\n",
    "    df = pd.read_csv(\n",
    "        f\"s3://{bucket}/{file}\",\n",
    "        storage_options={\n",
    "            \"key\": s3_cred[\"aws_access_key_id\"],\n",
    "            \"secret\": s3_cred[\"aws_secret_access_key\"]\n",
    "        },\n",
    "    )\n",
    "    return df"
   ]
  },
  {
   "cell_type": "code",
   "execution_count": null,
   "metadata": {},
   "outputs": [],
   "source": [
    "s3_cred = load_credentials()\n",
    "my_bucket = get_s3_bucket_session(s3_cred)"
   ]
  },
  {
   "cell_type": "code",
   "execution_count": null,
   "metadata": {},
   "outputs": [
    {
     "name": "stdout",
     "output_type": "stream",
     "text": [
      "2022-05-17 11:14:02,231 - kedro.framework.session.store - INFO - `read()` not implemented for `BaseSessionStore`. Assuming empty store.\n",
      "2022-05-17 11:14:02,303 - root - INFO - ** Kedro project Demand estimation and waste collection routing optimisation for the City of Cape Town\n",
      "2022-05-17 11:14:02,305 - root - INFO - Defined global variable `context`, `session` and `catalog`\n",
      "2022-05-17 11:14:02,314 - root - INFO - Registered line magic `run_viz`\n",
      "\n",
      "1 of 101:data/01_raw/synthetic_populations/cpt/households_001.csv.gz\n",
      "2022-05-17 11:14:05,097 - kedro.io.data_catalog - INFO - Saving data to `syn_pop_scenarios_local` (PartitionedDataSet)...\n",
      "\n",
      "2 of 101:data/01_raw/synthetic_populations/cpt/households_002.csv.gz\n",
      "2022-05-17 11:14:05,986 - kedro.io.data_catalog - INFO - Saving data to `syn_pop_scenarios_local` (PartitionedDataSet)...\n",
      "\n",
      "3 of 101:data/01_raw/synthetic_populations/cpt/households_003.csv.gz\n",
      "2022-05-17 11:14:06,591 - kedro.io.data_catalog - INFO - Saving data to `syn_pop_scenarios_local` (PartitionedDataSet)...\n",
      "\n",
      "4 of 101:data/01_raw/synthetic_populations/cpt/households_004.csv.gz\n",
      "2022-05-17 11:14:07,188 - kedro.io.data_catalog - INFO - Saving data to `syn_pop_scenarios_local` (PartitionedDataSet)...\n",
      "\n",
      "5 of 101:data/01_raw/synthetic_populations/cpt/households_005.csv.gz\n",
      "2022-05-17 11:14:07,784 - kedro.io.data_catalog - INFO - Saving data to `syn_pop_scenarios_local` (PartitionedDataSet)...\n",
      "\n",
      "6 of 101:data/01_raw/synthetic_populations/cpt/households_006.csv.gz\n",
      "2022-05-17 11:14:19,954 - kedro.io.data_catalog - INFO - Saving data to `syn_pop_scenarios_local` (PartitionedDataSet)...\n",
      "\n",
      "7 of 101:data/01_raw/synthetic_populations/cpt/households_007.csv.gz\n",
      "2022-05-17 11:14:25,050 - kedro.io.data_catalog - INFO - Saving data to `syn_pop_scenarios_local` (PartitionedDataSet)...\n",
      "\n",
      "8 of 101:data/01_raw/synthetic_populations/cpt/households_008.csv.gz\n",
      "2022-05-17 11:14:29,921 - kedro.io.data_catalog - INFO - Saving data to `syn_pop_scenarios_local` (PartitionedDataSet)...\n",
      "\n",
      "9 of 101:data/01_raw/synthetic_populations/cpt/households_009.csv.gz\n",
      "2022-05-17 11:14:44,771 - kedro.io.data_catalog - INFO - Saving data to `syn_pop_scenarios_local` (PartitionedDataSet)...\n",
      "\n",
      "10 of 101:data/01_raw/synthetic_populations/cpt/households_010.csv.gz\n",
      "2022-05-17 11:14:55,250 - kedro.io.data_catalog - INFO - Saving data to `syn_pop_scenarios_local` (PartitionedDataSet)...\n",
      "\n",
      "11 of 101:data/01_raw/synthetic_populations/cpt/households_011.csv.gz\n",
      "2022-05-17 11:14:59,428 - kedro.io.data_catalog - INFO - Saving data to `syn_pop_scenarios_local` (PartitionedDataSet)...\n",
      "\n",
      "12 of 101:data/01_raw/synthetic_populations/cpt/households_012.csv.gz\n",
      "2022-05-17 11:15:03,280 - kedro.io.data_catalog - INFO - Saving data to `syn_pop_scenarios_local` (PartitionedDataSet)...\n",
      "\n",
      "13 of 101:data/01_raw/synthetic_populations/cpt/households_013.csv.gz\n",
      "2022-05-17 11:15:06,940 - kedro.io.data_catalog - INFO - Saving data to `syn_pop_scenarios_local` (PartitionedDataSet)...\n",
      "\n",
      "14 of 101:data/01_raw/synthetic_populations/cpt/households_014.csv.gz\n",
      "2022-05-17 11:15:10,275 - kedro.io.data_catalog - INFO - Saving data to `syn_pop_scenarios_local` (PartitionedDataSet)...\n",
      "\n",
      "15 of 101:data/01_raw/synthetic_populations/cpt/households_015.csv.gz\n",
      "2022-05-17 11:15:20,788 - kedro.io.data_catalog - INFO - Saving data to `syn_pop_scenarios_local` (PartitionedDataSet)...\n",
      "\n",
      "16 of 101:data/01_raw/synthetic_populations/cpt/households_016.csv.gz\n",
      "2022-05-17 11:15:27,598 - kedro.io.data_catalog - INFO - Saving data to `syn_pop_scenarios_local` (PartitionedDataSet)...\n",
      "\n",
      "17 of 101:data/01_raw/synthetic_populations/cpt/households_017.csv.gz\n",
      "2022-05-17 11:15:37,364 - kedro.io.data_catalog - INFO - Saving data to `syn_pop_scenarios_local` (PartitionedDataSet)...\n",
      "\n",
      "18 of 101:data/01_raw/synthetic_populations/cpt/households_018.csv.gz\n",
      "2022-05-17 11:15:44,190 - kedro.io.data_catalog - INFO - Saving data to `syn_pop_scenarios_local` (PartitionedDataSet)...\n",
      "\n",
      "19 of 101:data/01_raw/synthetic_populations/cpt/households_019.csv.gz\n",
      "2022-05-17 11:15:55,384 - kedro.io.data_catalog - INFO - Saving data to `syn_pop_scenarios_local` (PartitionedDataSet)...\n",
      "\n",
      "20 of 101:data/01_raw/synthetic_populations/cpt/households_020.csv.gz\n",
      "2022-05-17 11:16:00,413 - kedro.io.data_catalog - INFO - Saving data to `syn_pop_scenarios_local` (PartitionedDataSet)...\n",
      "\n",
      "21 of 101:data/01_raw/synthetic_populations/cpt/households_021.csv.gz\n",
      "2022-05-17 11:16:06,199 - kedro.io.data_catalog - INFO - Saving data to `syn_pop_scenarios_local` (PartitionedDataSet)...\n",
      "\n",
      "22 of 101:data/01_raw/synthetic_populations/cpt/households_022.csv.gz\n",
      "2022-05-17 11:16:17,402 - kedro.io.data_catalog - INFO - Saving data to `syn_pop_scenarios_local` (PartitionedDataSet)...\n",
      "\n",
      "23 of 101:data/01_raw/synthetic_populations/cpt/households_023.csv.gz\n",
      "2022-05-17 11:16:22,289 - kedro.io.data_catalog - INFO - Saving data to `syn_pop_scenarios_local` (PartitionedDataSet)...\n",
      "\n",
      "24 of 101:data/01_raw/synthetic_populations/cpt/households_024.csv.gz\n",
      "2022-05-17 11:16:26,322 - kedro.io.data_catalog - INFO - Saving data to `syn_pop_scenarios_local` (PartitionedDataSet)...\n",
      "\n",
      "25 of 101:data/01_raw/synthetic_populations/cpt/households_025.csv.gz\n",
      "2022-05-17 11:16:37,125 - kedro.io.data_catalog - INFO - Saving data to `syn_pop_scenarios_local` (PartitionedDataSet)...\n",
      "\n",
      "26 of 101:data/01_raw/synthetic_populations/cpt/households_026.csv.gz\n",
      "2022-05-17 11:16:42,897 - kedro.io.data_catalog - INFO - Saving data to `syn_pop_scenarios_local` (PartitionedDataSet)...\n",
      "\n",
      "27 of 101:data/01_raw/synthetic_populations/cpt/households_027.csv.gz\n",
      "2022-05-17 11:16:50,960 - kedro.io.data_catalog - INFO - Saving data to `syn_pop_scenarios_local` (PartitionedDataSet)...\n",
      "\n",
      "28 of 101:data/01_raw/synthetic_populations/cpt/households_028.csv.gz\n",
      "2022-05-17 11:17:01,442 - kedro.io.data_catalog - INFO - Saving data to `syn_pop_scenarios_local` (PartitionedDataSet)...\n",
      "\n",
      "29 of 101:data/01_raw/synthetic_populations/cpt/households_029.csv.gz\n",
      "2022-05-17 11:17:11,408 - kedro.io.data_catalog - INFO - Saving data to `syn_pop_scenarios_local` (PartitionedDataSet)...\n",
      "\n",
      "30 of 101:data/01_raw/synthetic_populations/cpt/households_030.csv.gz\n",
      "2022-05-17 11:17:17,881 - kedro.io.data_catalog - INFO - Saving data to `syn_pop_scenarios_local` (PartitionedDataSet)...\n",
      "\n",
      "31 of 101:data/01_raw/synthetic_populations/cpt/households_031.csv.gz\n",
      "2022-05-17 11:17:21,531 - kedro.io.data_catalog - INFO - Saving data to `syn_pop_scenarios_local` (PartitionedDataSet)...\n",
      "\n",
      "32 of 101:data/01_raw/synthetic_populations/cpt/households_032.csv.gz\n",
      "2022-05-17 11:17:26,781 - kedro.io.data_catalog - INFO - Saving data to `syn_pop_scenarios_local` (PartitionedDataSet)...\n",
      "\n",
      "33 of 101:data/01_raw/synthetic_populations/cpt/households_033.csv.gz\n",
      "2022-05-17 11:17:38,672 - kedro.io.data_catalog - INFO - Saving data to `syn_pop_scenarios_local` (PartitionedDataSet)...\n",
      "\n",
      "34 of 101:data/01_raw/synthetic_populations/cpt/households_034.csv.gz\n",
      "2022-05-17 11:17:47,072 - kedro.io.data_catalog - INFO - Saving data to `syn_pop_scenarios_local` (PartitionedDataSet)...\n",
      "\n",
      "35 of 101:data/01_raw/synthetic_populations/cpt/households_035.csv.gz\n",
      "2022-05-17 11:17:56,834 - kedro.io.data_catalog - INFO - Saving data to `syn_pop_scenarios_local` (PartitionedDataSet)...\n",
      "\n",
      "36 of 101:data/01_raw/synthetic_populations/cpt/households_036.csv.gz\n",
      "2022-05-17 11:18:03,306 - kedro.io.data_catalog - INFO - Saving data to `syn_pop_scenarios_local` (PartitionedDataSet)...\n",
      "\n",
      "37 of 101:data/01_raw/synthetic_populations/cpt/households_037.csv.gz\n",
      "2022-05-17 11:18:12,236 - kedro.io.data_catalog - INFO - Saving data to `syn_pop_scenarios_local` (PartitionedDataSet)...\n",
      "\n",
      "38 of 101:data/01_raw/synthetic_populations/cpt/households_038.csv.gz\n",
      "2022-05-17 11:18:33,903 - kedro.io.data_catalog - INFO - Saving data to `syn_pop_scenarios_local` (PartitionedDataSet)...\n",
      "\n",
      "39 of 101:data/01_raw/synthetic_populations/cpt/households_039.csv.gz\n",
      "2022-05-17 11:18:37,201 - kedro.io.data_catalog - INFO - Saving data to `syn_pop_scenarios_local` (PartitionedDataSet)...\n",
      "\n",
      "40 of 101:data/01_raw/synthetic_populations/cpt/households_040.csv.gz\n",
      "2022-05-17 11:18:38,073 - kedro.io.data_catalog - INFO - Saving data to `syn_pop_scenarios_local` (PartitionedDataSet)...\n",
      "\n",
      "41 of 101:data/01_raw/synthetic_populations/cpt/households_041.csv.gz\n",
      "2022-05-17 11:18:38,839 - kedro.io.data_catalog - INFO - Saving data to `syn_pop_scenarios_local` (PartitionedDataSet)...\n",
      "\n",
      "42 of 101:data/01_raw/synthetic_populations/cpt/households_042.csv.gz\n",
      "2022-05-17 11:18:39,667 - kedro.io.data_catalog - INFO - Saving data to `syn_pop_scenarios_local` (PartitionedDataSet)...\n",
      "\n",
      "43 of 101:data/01_raw/synthetic_populations/cpt/households_043.csv.gz\n",
      "2022-05-17 11:18:40,460 - kedro.io.data_catalog - INFO - Saving data to `syn_pop_scenarios_local` (PartitionedDataSet)...\n",
      "\n",
      "44 of 101:data/01_raw/synthetic_populations/cpt/households_044.csv.gz\n",
      "2022-05-17 11:18:45,595 - kedro.io.data_catalog - INFO - Saving data to `syn_pop_scenarios_local` (PartitionedDataSet)...\n",
      "\n",
      "45 of 101:data/01_raw/synthetic_populations/cpt/households_045.csv.gz\n",
      "2022-05-17 11:18:47,905 - kedro.io.data_catalog - INFO - Saving data to `syn_pop_scenarios_local` (PartitionedDataSet)...\n",
      "\n",
      "46 of 101:data/01_raw/synthetic_populations/cpt/households_046.csv.gz\n",
      "2022-05-17 11:18:53,988 - kedro.io.data_catalog - INFO - Saving data to `syn_pop_scenarios_local` (PartitionedDataSet)...\n",
      "\n",
      "47 of 101:data/01_raw/synthetic_populations/cpt/households_047.csv.gz\n",
      "2022-05-17 11:19:00,119 - kedro.io.data_catalog - INFO - Saving data to `syn_pop_scenarios_local` (PartitionedDataSet)...\n",
      "\n",
      "48 of 101:data/01_raw/synthetic_populations/cpt/households_048.csv.gz\n",
      "2022-05-17 11:19:05,011 - kedro.io.data_catalog - INFO - Saving data to `syn_pop_scenarios_local` (PartitionedDataSet)...\n",
      "\n",
      "49 of 101:data/01_raw/synthetic_populations/cpt/households_049.csv.gz\n",
      "2022-05-17 11:19:13,756 - kedro.io.data_catalog - INFO - Saving data to `syn_pop_scenarios_local` (PartitionedDataSet)...\n",
      "\n",
      "50 of 101:data/01_raw/synthetic_populations/cpt/households_050.csv.gz\n",
      "2022-05-17 11:19:20,923 - kedro.io.data_catalog - INFO - Saving data to `syn_pop_scenarios_local` (PartitionedDataSet)...\n",
      "\n",
      "51 of 101:data/01_raw/synthetic_populations/cpt/households_051.csv.gz\n",
      "2022-05-17 11:19:28,256 - kedro.io.data_catalog - INFO - Saving data to `syn_pop_scenarios_local` (PartitionedDataSet)...\n",
      "\n",
      "52 of 101:data/01_raw/synthetic_populations/cpt/households_052.csv.gz\n",
      "2022-05-17 11:19:37,182 - kedro.io.data_catalog - INFO - Saving data to `syn_pop_scenarios_local` (PartitionedDataSet)...\n",
      "\n",
      "53 of 101:data/01_raw/synthetic_populations/cpt/households_053.csv.gz\n",
      "2022-05-17 11:19:45,031 - kedro.io.data_catalog - INFO - Saving data to `syn_pop_scenarios_local` (PartitionedDataSet)...\n",
      "\n",
      "54 of 101:data/01_raw/synthetic_populations/cpt/households_054.csv.gz\n",
      "2022-05-17 11:20:00,065 - kedro.io.data_catalog - INFO - Saving data to `syn_pop_scenarios_local` (PartitionedDataSet)...\n",
      "\n",
      "55 of 101:data/01_raw/synthetic_populations/cpt/households_055.csv.gz\n",
      "2022-05-17 11:20:09,682 - kedro.io.data_catalog - INFO - Saving data to `syn_pop_scenarios_local` (PartitionedDataSet)...\n",
      "\n",
      "56 of 101:data/01_raw/synthetic_populations/cpt/households_056.csv.gz\n",
      "2022-05-17 11:20:14,393 - kedro.io.data_catalog - INFO - Saving data to `syn_pop_scenarios_local` (PartitionedDataSet)...\n",
      "\n",
      "57 of 101:data/01_raw/synthetic_populations/cpt/households_057.csv.gz\n",
      "2022-05-17 11:20:18,419 - kedro.io.data_catalog - INFO - Saving data to `syn_pop_scenarios_local` (PartitionedDataSet)...\n",
      "\n",
      "58 of 101:data/01_raw/synthetic_populations/cpt/households_058.csv.gz\n",
      "2022-05-17 11:20:26,999 - kedro.io.data_catalog - INFO - Saving data to `syn_pop_scenarios_local` (PartitionedDataSet)...\n",
      "\n",
      "59 of 101:data/01_raw/synthetic_populations/cpt/households_059.csv.gz\n",
      "2022-05-17 11:20:33,621 - kedro.io.data_catalog - INFO - Saving data to `syn_pop_scenarios_local` (PartitionedDataSet)...\n",
      "\n",
      "60 of 101:data/01_raw/synthetic_populations/cpt/households_060.csv.gz\n",
      "2022-05-17 11:20:39,906 - kedro.io.data_catalog - INFO - Saving data to `syn_pop_scenarios_local` (PartitionedDataSet)...\n",
      "\n",
      "61 of 101:data/01_raw/synthetic_populations/cpt/households_061.csv.gz\n",
      "2022-05-17 11:20:48,521 - kedro.io.data_catalog - INFO - Saving data to `syn_pop_scenarios_local` (PartitionedDataSet)...\n",
      "\n",
      "62 of 101:data/01_raw/synthetic_populations/cpt/households_062.csv.gz\n",
      "2022-05-17 11:21:00,747 - kedro.io.data_catalog - INFO - Saving data to `syn_pop_scenarios_local` (PartitionedDataSet)...\n",
      "\n",
      "63 of 101:data/01_raw/synthetic_populations/cpt/households_063.csv.gz\n",
      "2022-05-17 11:21:12,770 - kedro.io.data_catalog - INFO - Saving data to `syn_pop_scenarios_local` (PartitionedDataSet)...\n",
      "\n",
      "64 of 101:data/01_raw/synthetic_populations/cpt/households_064.csv.gz\n",
      "2022-05-17 11:21:19,593 - kedro.io.data_catalog - INFO - Saving data to `syn_pop_scenarios_local` (PartitionedDataSet)...\n",
      "\n",
      "65 of 101:data/01_raw/synthetic_populations/cpt/households_065.csv.gz\n",
      "2022-05-17 11:21:30,489 - kedro.io.data_catalog - INFO - Saving data to `syn_pop_scenarios_local` (PartitionedDataSet)...\n",
      "\n",
      "66 of 101:data/01_raw/synthetic_populations/cpt/households_066.csv.gz\n",
      "2022-05-17 11:21:34,111 - kedro.io.data_catalog - INFO - Saving data to `syn_pop_scenarios_local` (PartitionedDataSet)...\n",
      "\n",
      "67 of 101:data/01_raw/synthetic_populations/cpt/households_067.csv.gz\n",
      "2022-05-17 11:21:38,486 - kedro.io.data_catalog - INFO - Saving data to `syn_pop_scenarios_local` (PartitionedDataSet)...\n",
      "\n",
      "68 of 101:data/01_raw/synthetic_populations/cpt/households_068.csv.gz\n",
      "2022-05-17 11:21:42,683 - kedro.io.data_catalog - INFO - Saving data to `syn_pop_scenarios_local` (PartitionedDataSet)...\n",
      "\n",
      "69 of 101:data/01_raw/synthetic_populations/cpt/households_069.csv.gz\n",
      "2022-05-17 11:21:48,792 - kedro.io.data_catalog - INFO - Saving data to `syn_pop_scenarios_local` (PartitionedDataSet)...\n",
      "\n",
      "70 of 101:data/01_raw/synthetic_populations/cpt/households_070.csv.gz\n",
      "2022-05-17 11:21:58,578 - kedro.io.data_catalog - INFO - Saving data to `syn_pop_scenarios_local` (PartitionedDataSet)...\n",
      "\n",
      "71 of 101:data/01_raw/synthetic_populations/cpt/households_071.csv.gz\n",
      "2022-05-17 11:22:08,378 - kedro.io.data_catalog - INFO - Saving data to `syn_pop_scenarios_local` (PartitionedDataSet)...\n",
      "\n",
      "72 of 101:data/01_raw/synthetic_populations/cpt/households_072.csv.gz\n",
      "2022-05-17 11:22:14,116 - kedro.io.data_catalog - INFO - Saving data to `syn_pop_scenarios_local` (PartitionedDataSet)...\n",
      "\n",
      "73 of 101:data/01_raw/synthetic_populations/cpt/households_073.csv.gz\n",
      "2022-05-17 11:22:17,442 - kedro.io.data_catalog - INFO - Saving data to `syn_pop_scenarios_local` (PartitionedDataSet)...\n",
      "\n",
      "74 of 101:data/01_raw/synthetic_populations/cpt/households_074.csv.gz\n",
      "2022-05-17 11:22:21,109 - kedro.io.data_catalog - INFO - Saving data to `syn_pop_scenarios_local` (PartitionedDataSet)...\n",
      "\n",
      "75 of 101:data/01_raw/synthetic_populations/cpt/households_075.csv.gz\n",
      "2022-05-17 11:22:31,079 - kedro.io.data_catalog - INFO - Saving data to `syn_pop_scenarios_local` (PartitionedDataSet)...\n",
      "\n",
      "76 of 101:data/01_raw/synthetic_populations/cpt/households_076.csv.gz\n",
      "2022-05-17 11:22:33,702 - kedro.io.data_catalog - INFO - Saving data to `syn_pop_scenarios_local` (PartitionedDataSet)...\n",
      "\n",
      "77 of 101:data/01_raw/synthetic_populations/cpt/households_077.csv.gz\n",
      "2022-05-17 11:22:35,789 - kedro.io.data_catalog - INFO - Saving data to `syn_pop_scenarios_local` (PartitionedDataSet)...\n",
      "\n",
      "78 of 101:data/01_raw/synthetic_populations/cpt/households_078.csv.gz\n",
      "2022-05-17 11:22:37,788 - kedro.io.data_catalog - INFO - Saving data to `syn_pop_scenarios_local` (PartitionedDataSet)...\n",
      "\n",
      "79 of 101:data/01_raw/synthetic_populations/cpt/households_079.csv.gz\n",
      "2022-05-17 11:22:39,850 - kedro.io.data_catalog - INFO - Saving data to `syn_pop_scenarios_local` (PartitionedDataSet)...\n",
      "\n",
      "80 of 101:data/01_raw/synthetic_populations/cpt/households_080.csv.gz\n",
      "2022-05-17 11:22:41,927 - kedro.io.data_catalog - INFO - Saving data to `syn_pop_scenarios_local` (PartitionedDataSet)...\n",
      "\n",
      "81 of 101:data/01_raw/synthetic_populations/cpt/households_081.csv.gz\n",
      "2022-05-17 11:22:44,014 - kedro.io.data_catalog - INFO - Saving data to `syn_pop_scenarios_local` (PartitionedDataSet)...\n",
      "\n",
      "82 of 101:data/01_raw/synthetic_populations/cpt/households_082.csv.gz\n",
      "2022-05-17 11:22:48,033 - kedro.io.data_catalog - INFO - Saving data to `syn_pop_scenarios_local` (PartitionedDataSet)...\n",
      "\n",
      "83 of 101:data/01_raw/synthetic_populations/cpt/households_083.csv.gz\n",
      "2022-05-17 11:22:54,857 - kedro.io.data_catalog - INFO - Saving data to `syn_pop_scenarios_local` (PartitionedDataSet)...\n",
      "\n",
      "84 of 101:data/01_raw/synthetic_populations/cpt/households_084.csv.gz\n",
      "2022-05-17 11:23:02,527 - kedro.io.data_catalog - INFO - Saving data to `syn_pop_scenarios_local` (PartitionedDataSet)...\n",
      "\n",
      "85 of 101:data/01_raw/synthetic_populations/cpt/households_085.csv.gz\n",
      "2022-05-17 11:23:13,736 - kedro.io.data_catalog - INFO - Saving data to `syn_pop_scenarios_local` (PartitionedDataSet)...\n",
      "\n",
      "86 of 101:data/01_raw/synthetic_populations/cpt/households_086.csv.gz\n",
      "2022-05-17 11:23:23,523 - kedro.io.data_catalog - INFO - Saving data to `syn_pop_scenarios_local` (PartitionedDataSet)...\n",
      "\n",
      "87 of 101:data/01_raw/synthetic_populations/cpt/households_087.csv.gz\n",
      "2022-05-17 11:23:35,758 - kedro.io.data_catalog - INFO - Saving data to `syn_pop_scenarios_local` (PartitionedDataSet)...\n",
      "\n",
      "88 of 101:data/01_raw/synthetic_populations/cpt/households_088.csv.gz\n",
      "2022-05-17 11:23:42,219 - kedro.io.data_catalog - INFO - Saving data to `syn_pop_scenarios_local` (PartitionedDataSet)...\n",
      "\n",
      "89 of 101:data/01_raw/synthetic_populations/cpt/households_089.csv.gz\n",
      "2022-05-17 11:23:47,463 - kedro.io.data_catalog - INFO - Saving data to `syn_pop_scenarios_local` (PartitionedDataSet)...\n",
      "\n",
      "90 of 101:data/01_raw/synthetic_populations/cpt/households_090.csv.gz\n",
      "2022-05-17 11:23:52,341 - kedro.io.data_catalog - INFO - Saving data to `syn_pop_scenarios_local` (PartitionedDataSet)...\n",
      "\n",
      "91 of 101:data/01_raw/synthetic_populations/cpt/households_091.csv.gz\n",
      "2022-05-17 11:23:58,468 - kedro.io.data_catalog - INFO - Saving data to `syn_pop_scenarios_local` (PartitionedDataSet)...\n",
      "\n",
      "92 of 101:data/01_raw/synthetic_populations/cpt/households_092.csv.gz\n",
      "2022-05-17 11:24:02,154 - kedro.io.data_catalog - INFO - Saving data to `syn_pop_scenarios_local` (PartitionedDataSet)...\n",
      "\n",
      "93 of 101:data/01_raw/synthetic_populations/cpt/households_093.csv.gz\n",
      "2022-05-17 11:24:08,964 - kedro.io.data_catalog - INFO - Saving data to `syn_pop_scenarios_local` (PartitionedDataSet)...\n",
      "\n",
      "94 of 101:data/01_raw/synthetic_populations/cpt/households_094.csv.gz\n",
      "2022-05-17 11:24:14,209 - kedro.io.data_catalog - INFO - Saving data to `syn_pop_scenarios_local` (PartitionedDataSet)...\n",
      "\n",
      "95 of 101:data/01_raw/synthetic_populations/cpt/households_095.csv.gz\n",
      "2022-05-17 11:24:21,911 - kedro.io.data_catalog - INFO - Saving data to `syn_pop_scenarios_local` (PartitionedDataSet)...\n",
      "\n",
      "96 of 101:data/01_raw/synthetic_populations/cpt/households_096.csv.gz\n",
      "2022-05-17 11:24:31,157 - kedro.io.data_catalog - INFO - Saving data to `syn_pop_scenarios_local` (PartitionedDataSet)...\n",
      "\n",
      "97 of 101:data/01_raw/synthetic_populations/cpt/households_097.csv.gz\n",
      "2022-05-17 11:24:36,054 - kedro.io.data_catalog - INFO - Saving data to `syn_pop_scenarios_local` (PartitionedDataSet)...\n",
      "\n",
      "98 of 101:data/01_raw/synthetic_populations/cpt/households_098.csv.gz\n",
      "2022-05-17 11:24:40,791 - kedro.io.data_catalog - INFO - Saving data to `syn_pop_scenarios_local` (PartitionedDataSet)...\n",
      "\n",
      "99 of 101:data/01_raw/synthetic_populations/cpt/households_099.csv.gz\n",
      "2022-05-17 11:24:54,697 - kedro.io.data_catalog - INFO - Saving data to `syn_pop_scenarios_local` (PartitionedDataSet)...\n",
      "\n",
      "100 of 101:data/01_raw/synthetic_populations/cpt/households_100.csv.gz\n",
      "2022-05-17 11:25:01,753 - kedro.io.data_catalog - INFO - Saving data to `syn_pop_scenarios_local` (PartitionedDataSet)...\n",
      "CPU times: user 32.3 s, sys: 5.15 s, total: 37.5 s\n",
      "Wall time: 11min\n"
     ]
    }
   ],
   "source": [
    "%%time\n",
    "%reload_kedro\n",
    "\n",
    "files = get_latest_bucket_files(my_bucket, path=\"data/01_raw/synthetic_populations/cpt/\")\n",
    "for i in range(files.shape[0]):\n",
    "    file = files.iloc[i][\"filename\"]\n",
    "    print(f\"\\n{i + 1} of {files.shape[0] + 1}: {file}\")\n",
    "    scenario_file = get_file(bucket=\"project-rdi-cpt-public\", file=file, s3_cred=s3_cred)\n",
    "    parition_key = file[file.rfind(\"/\") + 1:].replace(\".csv.gz\", \"\")\n",
    "    catalog.save(\"syn_pop_scenarios_local\", {parition_key:scenario_file})"
   ]
  },
  {
   "cell_type": "code",
   "execution_count": null,
   "metadata": {},
   "outputs": [
    {
     "name": "stdout",
     "output_type": "stream",
     "text": [
      "2022-05-17 11:25:02,595 - kedro.framework.session.store - INFO - `read()` not implemented for `BaseSessionStore`. Assuming empty store.\n",
      "2022-05-17 11:25:02,667 - root - INFO - ** Kedro project Demand estimation and waste collection routing optimisation for the City of Cape Town\n",
      "2022-05-17 11:25:02,668 - root - INFO - Defined global variable `context`, `session` and `catalog`\n",
      "2022-05-17 11:25:02,676 - root - INFO - Registered line magic `run_viz`\n",
      "\n",
      "1 of 101:data/01_raw/waste_generation_scenarios/cpt/households_001.csv.gz\n",
      "2022-05-17 11:25:06,047 - kedro.io.data_catalog - INFO - Saving data to `waste_gen_scenarios_local` (PartitionedDataSet)...\n",
      "\n",
      "2 of 101:data/01_raw/waste_generation_scenarios/cpt/households_002.csv.gz\n",
      "2022-05-17 11:25:07,096 - kedro.io.data_catalog - INFO - Saving data to `waste_gen_scenarios_local` (PartitionedDataSet)...\n",
      "\n",
      "3 of 101:data/01_raw/waste_generation_scenarios/cpt/households_003.csv.gz\n",
      "2022-05-17 11:25:08,138 - kedro.io.data_catalog - INFO - Saving data to `waste_gen_scenarios_local` (PartitionedDataSet)...\n",
      "\n",
      "4 of 101:data/01_raw/waste_generation_scenarios/cpt/households_004.csv.gz\n",
      "2022-05-17 11:25:09,019 - kedro.io.data_catalog - INFO - Saving data to `waste_gen_scenarios_local` (PartitionedDataSet)...\n",
      "\n",
      "5 of 101:data/01_raw/waste_generation_scenarios/cpt/households_005.csv.gz\n",
      "2022-05-17 11:25:09,891 - kedro.io.data_catalog - INFO - Saving data to `waste_gen_scenarios_local` (PartitionedDataSet)...\n",
      "\n",
      "6 of 101:data/01_raw/waste_generation_scenarios/cpt/households_006.csv.gz\n",
      "2022-05-17 11:25:10,800 - kedro.io.data_catalog - INFO - Saving data to `waste_gen_scenarios_local` (PartitionedDataSet)...\n",
      "\n",
      "7 of 101:data/01_raw/waste_generation_scenarios/cpt/households_007.csv.gz\n",
      "2022-05-17 11:25:11,639 - kedro.io.data_catalog - INFO - Saving data to `waste_gen_scenarios_local` (PartitionedDataSet)...\n",
      "\n",
      "8 of 101:data/01_raw/waste_generation_scenarios/cpt/households_008.csv.gz\n",
      "2022-05-17 11:25:12,677 - kedro.io.data_catalog - INFO - Saving data to `waste_gen_scenarios_local` (PartitionedDataSet)...\n",
      "\n",
      "9 of 101:data/01_raw/waste_generation_scenarios/cpt/households_009.csv.gz\n",
      "2022-05-17 11:25:13,549 - kedro.io.data_catalog - INFO - Saving data to `waste_gen_scenarios_local` (PartitionedDataSet)...\n",
      "\n",
      "10 of 101:data/01_raw/waste_generation_scenarios/cpt/households_010.csv.gz\n",
      "2022-05-17 11:25:14,558 - kedro.io.data_catalog - INFO - Saving data to `waste_gen_scenarios_local` (PartitionedDataSet)...\n",
      "\n",
      "11 of 101:data/01_raw/waste_generation_scenarios/cpt/households_011.csv.gz\n",
      "2022-05-17 11:25:15,311 - kedro.io.data_catalog - INFO - Saving data to `waste_gen_scenarios_local` (PartitionedDataSet)...\n",
      "\n",
      "12 of 101:data/01_raw/waste_generation_scenarios/cpt/households_012.csv.gz\n",
      "2022-05-17 11:25:16,032 - kedro.io.data_catalog - INFO - Saving data to `waste_gen_scenarios_local` (PartitionedDataSet)...\n",
      "\n",
      "13 of 101:data/01_raw/waste_generation_scenarios/cpt/households_013.csv.gz\n",
      "2022-05-17 11:25:16,707 - kedro.io.data_catalog - INFO - Saving data to `waste_gen_scenarios_local` (PartitionedDataSet)...\n",
      "\n",
      "14 of 101:data/01_raw/waste_generation_scenarios/cpt/households_014.csv.gz\n",
      "2022-05-17 11:25:17,543 - kedro.io.data_catalog - INFO - Saving data to `waste_gen_scenarios_local` (PartitionedDataSet)...\n",
      "\n",
      "15 of 101:data/01_raw/waste_generation_scenarios/cpt/households_015.csv.gz\n",
      "2022-05-17 11:25:18,280 - kedro.io.data_catalog - INFO - Saving data to `waste_gen_scenarios_local` (PartitionedDataSet)...\n",
      "\n",
      "16 of 101:data/01_raw/waste_generation_scenarios/cpt/households_016.csv.gz\n",
      "2022-05-17 11:25:20,807 - kedro.io.data_catalog - INFO - Saving data to `waste_gen_scenarios_local` (PartitionedDataSet)...\n",
      "\n",
      "17 of 101:data/01_raw/waste_generation_scenarios/cpt/households_017.csv.gz\n",
      "2022-05-17 11:25:21,654 - kedro.io.data_catalog - INFO - Saving data to `waste_gen_scenarios_local` (PartitionedDataSet)...\n",
      "\n",
      "18 of 101:data/01_raw/waste_generation_scenarios/cpt/households_018.csv.gz\n",
      "2022-05-17 11:25:24,035 - kedro.io.data_catalog - INFO - Saving data to `waste_gen_scenarios_local` (PartitionedDataSet)...\n",
      "\n",
      "19 of 101:data/01_raw/waste_generation_scenarios/cpt/households_019.csv.gz\n",
      "2022-05-17 11:25:25,078 - kedro.io.data_catalog - INFO - Saving data to `waste_gen_scenarios_local` (PartitionedDataSet)...\n",
      "\n",
      "20 of 101:data/01_raw/waste_generation_scenarios/cpt/households_020.csv.gz\n",
      "2022-05-17 11:25:26,128 - kedro.io.data_catalog - INFO - Saving data to `waste_gen_scenarios_local` (PartitionedDataSet)...\n",
      "\n",
      "21 of 101:data/01_raw/waste_generation_scenarios/cpt/households_021.csv.gz\n",
      "2022-05-17 11:25:28,045 - kedro.io.data_catalog - INFO - Saving data to `waste_gen_scenarios_local` (PartitionedDataSet)...\n",
      "\n",
      "22 of 101:data/01_raw/waste_generation_scenarios/cpt/households_022.csv.gz\n",
      "2022-05-17 11:25:28,946 - kedro.io.data_catalog - INFO - Saving data to `waste_gen_scenarios_local` (PartitionedDataSet)...\n",
      "\n",
      "23 of 101:data/01_raw/waste_generation_scenarios/cpt/households_023.csv.gz\n",
      "2022-05-17 11:25:29,648 - kedro.io.data_catalog - INFO - Saving data to `waste_gen_scenarios_local` (PartitionedDataSet)...\n",
      "\n",
      "24 of 101:data/01_raw/waste_generation_scenarios/cpt/households_024.csv.gz\n",
      "2022-05-17 11:25:30,361 - kedro.io.data_catalog - INFO - Saving data to `waste_gen_scenarios_local` (PartitionedDataSet)...\n",
      "\n",
      "25 of 101:data/01_raw/waste_generation_scenarios/cpt/households_025.csv.gz\n",
      "2022-05-17 11:25:31,733 - kedro.io.data_catalog - INFO - Saving data to `waste_gen_scenarios_local` (PartitionedDataSet)...\n",
      "\n",
      "26 of 101:data/01_raw/waste_generation_scenarios/cpt/households_026.csv.gz\n",
      "2022-05-17 11:25:32,599 - kedro.io.data_catalog - INFO - Saving data to `waste_gen_scenarios_local` (PartitionedDataSet)...\n",
      "\n",
      "27 of 101:data/01_raw/waste_generation_scenarios/cpt/households_027.csv.gz\n",
      "2022-05-17 11:25:33,334 - kedro.io.data_catalog - INFO - Saving data to `waste_gen_scenarios_local` (PartitionedDataSet)...\n",
      "\n",
      "28 of 101:data/01_raw/waste_generation_scenarios/cpt/households_028.csv.gz\n",
      "2022-05-17 11:25:34,057 - kedro.io.data_catalog - INFO - Saving data to `waste_gen_scenarios_local` (PartitionedDataSet)...\n",
      "\n",
      "29 of 101:data/01_raw/waste_generation_scenarios/cpt/households_029.csv.gz\n",
      "2022-05-17 11:25:34,770 - kedro.io.data_catalog - INFO - Saving data to `waste_gen_scenarios_local` (PartitionedDataSet)...\n",
      "\n",
      "30 of 101:data/01_raw/waste_generation_scenarios/cpt/households_030.csv.gz\n",
      "2022-05-17 11:25:35,522 - kedro.io.data_catalog - INFO - Saving data to `waste_gen_scenarios_local` (PartitionedDataSet)...\n",
      "\n",
      "31 of 101:data/01_raw/waste_generation_scenarios/cpt/households_031.csv.gz\n",
      "2022-05-17 11:25:36,872 - kedro.io.data_catalog - INFO - Saving data to `waste_gen_scenarios_local` (PartitionedDataSet)...\n",
      "\n",
      "32 of 101:data/01_raw/waste_generation_scenarios/cpt/households_032.csv.gz\n",
      "2022-05-17 11:25:37,854 - kedro.io.data_catalog - INFO - Saving data to `waste_gen_scenarios_local` (PartitionedDataSet)...\n",
      "\n",
      "33 of 101:data/01_raw/waste_generation_scenarios/cpt/households_033.csv.gz\n",
      "2022-05-17 11:25:38,728 - kedro.io.data_catalog - INFO - Saving data to `waste_gen_scenarios_local` (PartitionedDataSet)...\n",
      "\n",
      "34 of 101:data/01_raw/waste_generation_scenarios/cpt/households_034.csv.gz\n",
      "2022-05-17 11:25:39,544 - kedro.io.data_catalog - INFO - Saving data to `waste_gen_scenarios_local` (PartitionedDataSet)...\n",
      "\n",
      "35 of 101:data/01_raw/waste_generation_scenarios/cpt/households_035.csv.gz\n",
      "2022-05-17 11:25:40,287 - kedro.io.data_catalog - INFO - Saving data to `waste_gen_scenarios_local` (PartitionedDataSet)...\n",
      "\n",
      "36 of 101:data/01_raw/waste_generation_scenarios/cpt/households_036.csv.gz\n",
      "2022-05-17 11:25:41,046 - kedro.io.data_catalog - INFO - Saving data to `waste_gen_scenarios_local` (PartitionedDataSet)...\n",
      "\n",
      "37 of 101:data/01_raw/waste_generation_scenarios/cpt/households_037.csv.gz\n",
      "2022-05-17 11:25:41,818 - kedro.io.data_catalog - INFO - Saving data to `waste_gen_scenarios_local` (PartitionedDataSet)...\n",
      "\n",
      "38 of 101:data/01_raw/waste_generation_scenarios/cpt/households_038.csv.gz\n",
      "2022-05-17 11:25:44,474 - kedro.io.data_catalog - INFO - Saving data to `waste_gen_scenarios_local` (PartitionedDataSet)...\n",
      "\n",
      "39 of 101:data/01_raw/waste_generation_scenarios/cpt/households_039.csv.gz\n",
      "2022-05-17 11:25:45,397 - kedro.io.data_catalog - INFO - Saving data to `waste_gen_scenarios_local` (PartitionedDataSet)...\n",
      "\n",
      "40 of 101:data/01_raw/waste_generation_scenarios/cpt/households_040.csv.gz\n",
      "2022-05-17 11:25:46,074 - kedro.io.data_catalog - INFO - Saving data to `waste_gen_scenarios_local` (PartitionedDataSet)...\n",
      "\n",
      "41 of 101:data/01_raw/waste_generation_scenarios/cpt/households_041.csv.gz\n",
      "2022-05-17 11:25:46,878 - kedro.io.data_catalog - INFO - Saving data to `waste_gen_scenarios_local` (PartitionedDataSet)...\n",
      "\n",
      "42 of 101:data/01_raw/waste_generation_scenarios/cpt/households_042.csv.gz\n",
      "2022-05-17 11:25:47,633 - kedro.io.data_catalog - INFO - Saving data to `waste_gen_scenarios_local` (PartitionedDataSet)...\n",
      "\n",
      "43 of 101:data/01_raw/waste_generation_scenarios/cpt/households_043.csv.gz\n",
      "2022-05-17 11:25:48,191 - kedro.io.data_catalog - INFO - Saving data to `waste_gen_scenarios_local` (PartitionedDataSet)...\n",
      "\n",
      "44 of 101:data/01_raw/waste_generation_scenarios/cpt/households_044.csv.gz\n",
      "2022-05-17 11:25:48,727 - kedro.io.data_catalog - INFO - Saving data to `waste_gen_scenarios_local` (PartitionedDataSet)...\n",
      "\n",
      "45 of 101:data/01_raw/waste_generation_scenarios/cpt/households_045.csv.gz\n",
      "2022-05-17 11:25:49,235 - kedro.io.data_catalog - INFO - Saving data to `waste_gen_scenarios_local` (PartitionedDataSet)...\n",
      "\n",
      "46 of 101:data/01_raw/waste_generation_scenarios/cpt/households_046.csv.gz\n",
      "2022-05-17 11:25:49,799 - kedro.io.data_catalog - INFO - Saving data to `waste_gen_scenarios_local` (PartitionedDataSet)...\n",
      "\n",
      "47 of 101:data/01_raw/waste_generation_scenarios/cpt/households_047.csv.gz\n",
      "2022-05-17 11:25:50,329 - kedro.io.data_catalog - INFO - Saving data to `waste_gen_scenarios_local` (PartitionedDataSet)...\n",
      "\n",
      "48 of 101:data/01_raw/waste_generation_scenarios/cpt/households_048.csv.gz\n",
      "2022-05-17 11:25:50,842 - kedro.io.data_catalog - INFO - Saving data to `waste_gen_scenarios_local` (PartitionedDataSet)...\n",
      "\n",
      "49 of 101:data/01_raw/waste_generation_scenarios/cpt/households_049.csv.gz\n",
      "2022-05-17 11:25:51,331 - kedro.io.data_catalog - INFO - Saving data to `waste_gen_scenarios_local` (PartitionedDataSet)...\n",
      "\n",
      "50 of 101:data/01_raw/waste_generation_scenarios/cpt/households_050.csv.gz\n",
      "2022-05-17 11:25:51,886 - kedro.io.data_catalog - INFO - Saving data to `waste_gen_scenarios_local` (PartitionedDataSet)...\n",
      "\n",
      "51 of 101:data/01_raw/waste_generation_scenarios/cpt/households_051.csv.gz\n",
      "2022-05-17 11:25:52,392 - kedro.io.data_catalog - INFO - Saving data to `waste_gen_scenarios_local` (PartitionedDataSet)...\n",
      "\n",
      "52 of 101:data/01_raw/waste_generation_scenarios/cpt/households_052.csv.gz\n",
      "2022-05-17 11:25:52,927 - kedro.io.data_catalog - INFO - Saving data to `waste_gen_scenarios_local` (PartitionedDataSet)...\n",
      "\n",
      "53 of 101:data/01_raw/waste_generation_scenarios/cpt/households_053.csv.gz\n",
      "2022-05-17 11:25:53,447 - kedro.io.data_catalog - INFO - Saving data to `waste_gen_scenarios_local` (PartitionedDataSet)...\n",
      "\n",
      "54 of 101:data/01_raw/waste_generation_scenarios/cpt/households_054.csv.gz\n",
      "2022-05-17 11:25:53,792 - kedro.io.data_catalog - INFO - Saving data to `waste_gen_scenarios_local` (PartitionedDataSet)...\n",
      "\n",
      "55 of 101:data/01_raw/waste_generation_scenarios/cpt/households_055.csv.gz\n",
      "2022-05-17 11:25:56,005 - kedro.io.data_catalog - INFO - Saving data to `waste_gen_scenarios_local` (PartitionedDataSet)...\n",
      "\n",
      "56 of 101:data/01_raw/waste_generation_scenarios/cpt/households_056.csv.gz\n",
      "2022-05-17 11:25:56,586 - kedro.io.data_catalog - INFO - Saving data to `waste_gen_scenarios_local` (PartitionedDataSet)...\n",
      "\n",
      "57 of 101:data/01_raw/waste_generation_scenarios/cpt/households_057.csv.gz\n",
      "2022-05-17 11:25:57,116 - kedro.io.data_catalog - INFO - Saving data to `waste_gen_scenarios_local` (PartitionedDataSet)...\n",
      "\n",
      "58 of 101:data/01_raw/waste_generation_scenarios/cpt/households_058.csv.gz\n",
      "2022-05-17 11:25:57,756 - kedro.io.data_catalog - INFO - Saving data to `waste_gen_scenarios_local` (PartitionedDataSet)...\n",
      "\n",
      "59 of 101:data/01_raw/waste_generation_scenarios/cpt/households_059.csv.gz\n",
      "2022-05-17 11:25:58,280 - kedro.io.data_catalog - INFO - Saving data to `waste_gen_scenarios_local` (PartitionedDataSet)...\n",
      "\n",
      "60 of 101:data/01_raw/waste_generation_scenarios/cpt/households_060.csv.gz\n",
      "2022-05-17 11:25:58,812 - kedro.io.data_catalog - INFO - Saving data to `waste_gen_scenarios_local` (PartitionedDataSet)...\n",
      "\n",
      "61 of 101:data/01_raw/waste_generation_scenarios/cpt/households_061.csv.gz\n",
      "2022-05-17 11:25:59,321 - kedro.io.data_catalog - INFO - Saving data to `waste_gen_scenarios_local` (PartitionedDataSet)...\n",
      "\n",
      "62 of 101:data/01_raw/waste_generation_scenarios/cpt/households_062.csv.gz\n",
      "2022-05-17 11:25:59,851 - kedro.io.data_catalog - INFO - Saving data to `waste_gen_scenarios_local` (PartitionedDataSet)...\n",
      "\n",
      "63 of 101:data/01_raw/waste_generation_scenarios/cpt/households_063.csv.gz\n",
      "2022-05-17 11:26:00,386 - kedro.io.data_catalog - INFO - Saving data to `waste_gen_scenarios_local` (PartitionedDataSet)...\n",
      "\n",
      "64 of 101:data/01_raw/waste_generation_scenarios/cpt/households_064.csv.gz\n",
      "2022-05-17 11:26:00,916 - kedro.io.data_catalog - INFO - Saving data to `waste_gen_scenarios_local` (PartitionedDataSet)...\n",
      "\n",
      "65 of 101:data/01_raw/waste_generation_scenarios/cpt/households_065.csv.gz\n",
      "2022-05-17 11:26:01,441 - kedro.io.data_catalog - INFO - Saving data to `waste_gen_scenarios_local` (PartitionedDataSet)...\n",
      "\n",
      "66 of 101:data/01_raw/waste_generation_scenarios/cpt/households_066.csv.gz\n",
      "2022-05-17 11:26:02,748 - kedro.io.data_catalog - INFO - Saving data to `waste_gen_scenarios_local` (PartitionedDataSet)...\n",
      "\n",
      "67 of 101:data/01_raw/waste_generation_scenarios/cpt/households_067.csv.gz\n",
      "2022-05-17 11:26:04,043 - kedro.io.data_catalog - INFO - Saving data to `waste_gen_scenarios_local` (PartitionedDataSet)...\n",
      "\n",
      "68 of 101:data/01_raw/waste_generation_scenarios/cpt/households_068.csv.gz\n",
      "2022-05-17 11:26:04,570 - kedro.io.data_catalog - INFO - Saving data to `waste_gen_scenarios_local` (PartitionedDataSet)...\n",
      "\n",
      "69 of 101:data/01_raw/waste_generation_scenarios/cpt/households_069.csv.gz\n",
      "2022-05-17 11:26:05,113 - kedro.io.data_catalog - INFO - Saving data to `waste_gen_scenarios_local` (PartitionedDataSet)...\n",
      "\n",
      "70 of 101:data/01_raw/waste_generation_scenarios/cpt/households_070.csv.gz\n",
      "2022-05-17 11:26:05,628 - kedro.io.data_catalog - INFO - Saving data to `waste_gen_scenarios_local` (PartitionedDataSet)...\n",
      "\n",
      "71 of 101:data/01_raw/waste_generation_scenarios/cpt/households_071.csv.gz\n",
      "2022-05-17 11:26:06,188 - kedro.io.data_catalog - INFO - Saving data to `waste_gen_scenarios_local` (PartitionedDataSet)...\n",
      "\n",
      "72 of 101:data/01_raw/waste_generation_scenarios/cpt/households_072.csv.gz\n",
      "2022-05-17 11:26:06,792 - kedro.io.data_catalog - INFO - Saving data to `waste_gen_scenarios_local` (PartitionedDataSet)...\n",
      "\n",
      "73 of 101:data/01_raw/waste_generation_scenarios/cpt/households_073.csv.gz\n",
      "2022-05-17 11:26:07,714 - kedro.io.data_catalog - INFO - Saving data to `waste_gen_scenarios_local` (PartitionedDataSet)...\n",
      "\n",
      "74 of 101:data/01_raw/waste_generation_scenarios/cpt/households_074.csv.gz\n",
      "2022-05-17 11:26:08,269 - kedro.io.data_catalog - INFO - Saving data to `waste_gen_scenarios_local` (PartitionedDataSet)...\n",
      "\n",
      "75 of 101:data/01_raw/waste_generation_scenarios/cpt/households_075.csv.gz\n",
      "2022-05-17 11:26:09,283 - kedro.io.data_catalog - INFO - Saving data to `waste_gen_scenarios_local` (PartitionedDataSet)...\n",
      "\n",
      "76 of 101:data/01_raw/waste_generation_scenarios/cpt/households_076.csv.gz\n",
      "2022-05-17 11:26:09,826 - kedro.io.data_catalog - INFO - Saving data to `waste_gen_scenarios_local` (PartitionedDataSet)...\n",
      "\n",
      "77 of 101:data/01_raw/waste_generation_scenarios/cpt/households_077.csv.gz\n",
      "2022-05-17 11:26:10,387 - kedro.io.data_catalog - INFO - Saving data to `waste_gen_scenarios_local` (PartitionedDataSet)...\n",
      "\n",
      "78 of 101:data/01_raw/waste_generation_scenarios/cpt/households_078.csv.gz\n",
      "2022-05-17 11:26:10,897 - kedro.io.data_catalog - INFO - Saving data to `waste_gen_scenarios_local` (PartitionedDataSet)...\n",
      "\n",
      "79 of 101:data/01_raw/waste_generation_scenarios/cpt/households_079.csv.gz\n",
      "2022-05-17 11:26:11,434 - kedro.io.data_catalog - INFO - Saving data to `waste_gen_scenarios_local` (PartitionedDataSet)...\n",
      "\n",
      "80 of 101:data/01_raw/waste_generation_scenarios/cpt/households_080.csv.gz\n",
      "2022-05-17 11:26:11,929 - kedro.io.data_catalog - INFO - Saving data to `waste_gen_scenarios_local` (PartitionedDataSet)...\n",
      "\n",
      "81 of 101:data/01_raw/waste_generation_scenarios/cpt/households_081.csv.gz\n",
      "2022-05-17 11:26:12,442 - kedro.io.data_catalog - INFO - Saving data to `waste_gen_scenarios_local` (PartitionedDataSet)...\n",
      "\n",
      "82 of 101:data/01_raw/waste_generation_scenarios/cpt/households_082.csv.gz\n",
      "2022-05-17 11:26:13,102 - kedro.io.data_catalog - INFO - Saving data to `waste_gen_scenarios_local` (PartitionedDataSet)...\n",
      "\n",
      "83 of 101:data/01_raw/waste_generation_scenarios/cpt/households_083.csv.gz\n",
      "2022-05-17 11:26:13,838 - kedro.io.data_catalog - INFO - Saving data to `waste_gen_scenarios_local` (PartitionedDataSet)...\n",
      "\n",
      "84 of 101:data/01_raw/waste_generation_scenarios/cpt/households_084.csv.gz\n",
      "2022-05-17 11:26:14,575 - kedro.io.data_catalog - INFO - Saving data to `waste_gen_scenarios_local` (PartitionedDataSet)...\n",
      "\n",
      "85 of 101:data/01_raw/waste_generation_scenarios/cpt/households_085.csv.gz\n",
      "2022-05-17 11:26:15,071 - kedro.io.data_catalog - INFO - Saving data to `waste_gen_scenarios_local` (PartitionedDataSet)...\n",
      "\n",
      "86 of 101:data/01_raw/waste_generation_scenarios/cpt/households_086.csv.gz\n",
      "2022-05-17 11:26:16,639 - kedro.io.data_catalog - INFO - Saving data to `waste_gen_scenarios_local` (PartitionedDataSet)...\n",
      "\n",
      "87 of 101:data/01_raw/waste_generation_scenarios/cpt/households_087.csv.gz\n",
      "2022-05-17 11:26:17,327 - kedro.io.data_catalog - INFO - Saving data to `waste_gen_scenarios_local` (PartitionedDataSet)...\n",
      "\n",
      "88 of 101:data/01_raw/waste_generation_scenarios/cpt/households_088.csv.gz\n",
      "2022-05-17 11:26:18,021 - kedro.io.data_catalog - INFO - Saving data to `waste_gen_scenarios_local` (PartitionedDataSet)...\n",
      "\n",
      "89 of 101:data/01_raw/waste_generation_scenarios/cpt/households_089.csv.gz\n",
      "2022-05-17 11:26:18,759 - kedro.io.data_catalog - INFO - Saving data to `waste_gen_scenarios_local` (PartitionedDataSet)...\n",
      "\n",
      "90 of 101:data/01_raw/waste_generation_scenarios/cpt/households_090.csv.gz\n",
      "2022-05-17 11:26:19,452 - kedro.io.data_catalog - INFO - Saving data to `waste_gen_scenarios_local` (PartitionedDataSet)...\n",
      "\n",
      "91 of 101:data/01_raw/waste_generation_scenarios/cpt/households_091.csv.gz\n",
      "2022-05-17 11:26:23,786 - kedro.io.data_catalog - INFO - Saving data to `waste_gen_scenarios_local` (PartitionedDataSet)...\n",
      "\n",
      "92 of 101:data/01_raw/waste_generation_scenarios/cpt/households_092.csv.gz\n",
      "2022-05-17 11:26:24,623 - kedro.io.data_catalog - INFO - Saving data to `waste_gen_scenarios_local` (PartitionedDataSet)...\n",
      "\n",
      "93 of 101:data/01_raw/waste_generation_scenarios/cpt/households_093.csv.gz\n",
      "2022-05-17 11:26:25,546 - kedro.io.data_catalog - INFO - Saving data to `waste_gen_scenarios_local` (PartitionedDataSet)...\n",
      "\n",
      "94 of 101:data/01_raw/waste_generation_scenarios/cpt/households_094.csv.gz\n",
      "2022-05-17 11:26:26,081 - kedro.io.data_catalog - INFO - Saving data to `waste_gen_scenarios_local` (PartitionedDataSet)...\n",
      "\n",
      "95 of 101:data/01_raw/waste_generation_scenarios/cpt/households_095.csv.gz\n",
      "2022-05-17 11:26:26,608 - kedro.io.data_catalog - INFO - Saving data to `waste_gen_scenarios_local` (PartitionedDataSet)...\n",
      "\n",
      "96 of 101:data/01_raw/waste_generation_scenarios/cpt/households_096.csv.gz\n",
      "2022-05-17 11:26:27,141 - kedro.io.data_catalog - INFO - Saving data to `waste_gen_scenarios_local` (PartitionedDataSet)...\n",
      "\n",
      "97 of 101:data/01_raw/waste_generation_scenarios/cpt/households_097.csv.gz\n",
      "2022-05-17 11:26:27,644 - kedro.io.data_catalog - INFO - Saving data to `waste_gen_scenarios_local` (PartitionedDataSet)...\n",
      "\n",
      "98 of 101:data/01_raw/waste_generation_scenarios/cpt/households_098.csv.gz\n",
      "2022-05-17 11:26:28,181 - kedro.io.data_catalog - INFO - Saving data to `waste_gen_scenarios_local` (PartitionedDataSet)...\n",
      "\n",
      "99 of 101:data/01_raw/waste_generation_scenarios/cpt/households_099.csv.gz\n",
      "2022-05-17 11:26:28,699 - kedro.io.data_catalog - INFO - Saving data to `waste_gen_scenarios_local` (PartitionedDataSet)...\n",
      "\n",
      "100 of 101:data/01_raw/waste_generation_scenarios/cpt/households_100.csv.gz\n",
      "2022-05-17 11:26:29,239 - kedro.io.data_catalog - INFO - Saving data to `waste_gen_scenarios_local` (PartitionedDataSet)...\n",
      "CPU times: user 10.2 s, sys: 1.62 s, total: 11.8 s\n",
      "Wall time: 1min 27s\n"
     ]
    }
   ],
   "source": [
    "%%time\n",
    "%reload_kedro\n",
    "\n",
    "files = get_latest_bucket_files(my_bucket, path=\"data/01_raw/waste_generation_scenarios/cpt/\")\n",
    "for i in range(files.shape[0]):\n",
    "    file = files.iloc[i][\"filename\"]\n",
    "    print(f\"\\n{i + 1} of {files.shape[0] + 1}: {file}\")\n",
    "    scenario_file = get_file(bucket=\"project-rdi-cpt-public\", file=file, s3_cred=s3_cred)\n",
    "    parition_key = file[file.rfind(\"/\") + 1:].replace(\".csv.gz\", \"\")\n",
    "    catalog.save(\"waste_gen_scenarios_local\", {parition_key:scenario_file})"
   ]
  }
 ],
 "metadata": {
  "kernelspec": {
   "display_name": "DemandestimationandwastecollectionroutingoptimisationfortheCityofCapeTown",
   "language": "python",
   "name": "python3"
  },
  "language_info": {
   "codemirror_mode": {
    "name": "ipython",
    "version": 3
   },
   "file_extension": ".py",
   "mimetype": "text/x-python",
   "name": "python",
   "nbconvert_exporter": "python",
   "pygments_lexer": "ipython3",
   "version": "3.8.12"
  },
  "widgets": {
   "application/vnd.jupyter.widget-state+json": {
    "state": {
     "0404c280bd7a492aa7508beb5a1fcfdc": {
      "model_module": "@jupyter-widgets/base",
      "model_module_version": "1.2.0",
      "model_name": "LayoutModel",
      "state": {}
     },
     "05d2e6be818a4a2f9c76407f8e1eb5ec": {
      "model_module": "@jupyter-widgets/controls",
      "model_module_version": "1.5.0",
      "model_name": "DescriptionStyleModel",
      "state": {
       "description_width": ""
      }
     },
     "0a6eac1142654a048ac05ee24867a21b": {
      "model_module": "@jupyter-widgets/controls",
      "model_module_version": "1.5.0",
      "model_name": "ButtonStyleModel",
      "state": {}
     },
     "0fd27e83b944482c80c54aa77199667d": {
      "model_module": "@jupyter-widgets/base",
      "model_module_version": "1.2.0",
      "model_name": "LayoutModel",
      "state": {}
     },
     "13dd97b986d149f29e513251304cea19": {
      "model_module": "@jupyter-widgets/output",
      "model_module_version": "1.0.0",
      "model_name": "OutputModel",
      "state": {
       "layout": "IPY_MODEL_e0103eff14ce4eb08422d3be9dfa040a"
      }
     },
     "16e6989affb846b0baf6204485ea672d": {
      "model_module": "@jupyter-widgets/controls",
      "model_module_version": "1.5.0",
      "model_name": "DescriptionStyleModel",
      "state": {
       "description_width": ""
      }
     },
     "182ddfca166843ae87b1cac941d1269b": {
      "model_module": "@jupyter-widgets/output",
      "model_module_version": "1.0.0",
      "model_name": "OutputModel",
      "state": {
       "layout": "IPY_MODEL_4cf7782dc39e49ba887c15105601b0f2",
       "outputs": [
        {
         "data": {
          "text/html": "<div>\n<style scoped>\n    .dataframe tbody tr th:only-of-type {\n        vertical-align: middle;\n    }\n\n    .dataframe tbody tr th {\n        vertical-align: top;\n    }\n\n    .dataframe thead th {\n        text-align: right;\n    }\n</style>\n<table border=\"1\" class=\"dataframe\">\n  <thead>\n    <tr style=\"text-align: right;\">\n      <th></th>\n      <th>description</th>\n      <th>type</th>\n      <th>Postal Code</th>\n      <th>ADDRESS</th>\n    </tr>\n  </thead>\n  <tbody>\n    <tr>\n      <th>2</th>\n      <td>ALBA W&amp;H Tuas depot</td>\n      <td>depot</td>\n      <td>639142</td>\n      <td>18 tuas avenue 10 singapore 639142</td>\n    </tr>\n  </tbody>\n</table>\n</div>",
          "text/plain": "           description   type Postal Code                             ADDRESS\n2  ALBA W&H Tuas depot  depot      639142  18 tuas avenue 10 singapore 639142"
         },
         "metadata": {},
         "output_type": "display_data"
        }
       ]
      }
     },
     "18e19de11b3546e5adab0286d75db98d": {
      "model_module": "@jupyter-widgets/output",
      "model_module_version": "1.0.0",
      "model_name": "OutputModel",
      "state": {
       "layout": "IPY_MODEL_2e8cb26f70334cc58df3f12109655625",
       "outputs": [
        {
         "data": {
          "text/plain": "'Producers in area: 16057'"
         },
         "metadata": {},
         "output_type": "display_data"
        }
       ]
      }
     },
     "1bb42f3182c04b58bc692d0f4742bc2d": {
      "model_module": "@jupyter-widgets/base",
      "model_module_version": "1.2.0",
      "model_name": "LayoutModel",
      "state": {}
     },
     "1cad8f7177fa4f5ea8556673f1ae64bb": {
      "model_module": "@jupyter-widgets/controls",
      "model_module_version": "1.5.0",
      "model_name": "SelectMultipleModel",
      "state": {
       "_options_labels": [
        "crc.csv",
        "BC.csv",
        "schools.csv",
        "bulk_hawker.csv",
        "trade_temple_other.csv",
        "gov.csv",
        "bc_blocks.csv",
        "condo_optin.csv",
        "landed.csv"
       ],
       "description": "Input file:",
       "index": [
        0,
        2,
        3,
        4,
        5,
        7,
        8
       ],
       "layout": "IPY_MODEL_8579420f34cd4bab9dc6ccb407c74f64",
       "rows": 9,
       "style": "IPY_MODEL_71cbeb9fa5264d32938c92313bab9fd1"
      }
     },
     "1d48adc2b5d24d679a6e20b970cdb56d": {
      "model_module": "@jupyter-widgets/base",
      "model_module_version": "1.2.0",
      "model_name": "LayoutModel",
      "state": {}
     },
     "21676f2219ee4ba5a144804ce0093439": {
      "model_module": "@jupyter-widgets/base",
      "model_module_version": "1.2.0",
      "model_name": "LayoutModel",
      "state": {}
     },
     "25a8b760a7f94eb5951d37e855d72727": {
      "model_module": "@jupyter-widgets/controls",
      "model_module_version": "1.5.0",
      "model_name": "VBoxModel",
      "state": {
       "_dom_classes": [
        "widget-interact"
       ],
       "children": [
        "IPY_MODEL_e6b6d946d1ed4fb682d736c5c3897f93",
        "IPY_MODEL_9539799220fe4775970a4fcbce1875ef"
       ],
       "layout": "IPY_MODEL_97944c3db4b945f48f6ae6a1cc134f3b"
      }
     },
     "265966bf297149b59ef3d92887186d8a": {
      "model_module": "@jupyter-widgets/controls",
      "model_module_version": "1.5.0",
      "model_name": "VBoxModel",
      "state": {
       "_dom_classes": [
        "widget-interact"
       ],
       "children": [
        "IPY_MODEL_504bdc0b9d15434ca959c87df398ea35",
        "IPY_MODEL_18e19de11b3546e5adab0286d75db98d"
       ],
       "layout": "IPY_MODEL_622b557735bb4486983f22987f257557"
      }
     },
     "288a0f87b3cb4e439f2df4c900700fb8": {
      "model_module": "@jupyter-widgets/controls",
      "model_module_version": "1.5.0",
      "model_name": "VBoxModel",
      "state": {
       "_dom_classes": [
        "widget-interact"
       ],
       "children": [
        "IPY_MODEL_b4e7121e00c84c409bf933d85c5be6a3",
        "IPY_MODEL_67dac95bcd4a49a79503b1cee672774d"
       ],
       "layout": "IPY_MODEL_21676f2219ee4ba5a144804ce0093439"
      }
     },
     "2b4e53df9b1445a98927a0b37c13d217": {
      "model_module": "@jupyter-widgets/output",
      "model_module_version": "1.0.0",
      "model_name": "OutputModel",
      "state": {
       "layout": "IPY_MODEL_0404c280bd7a492aa7508beb5a1fcfdc"
      }
     },
     "2ca17a19b9124d20805807fdf56c5991": {
      "model_module": "@jupyter-widgets/base",
      "model_module_version": "1.2.0",
      "model_name": "LayoutModel",
      "state": {}
     },
     "2dab04fec7604ba8a85279c0f047f6c9": {
      "model_module": "@jupyter-widgets/base",
      "model_module_version": "1.2.0",
      "model_name": "LayoutModel",
      "state": {}
     },
     "2e8cb26f70334cc58df3f12109655625": {
      "model_module": "@jupyter-widgets/base",
      "model_module_version": "1.2.0",
      "model_name": "LayoutModel",
      "state": {}
     },
     "341087fabb234a46a56558951c4405e0": {
      "model_module": "@jupyter-widgets/controls",
      "model_module_version": "1.5.0",
      "model_name": "VBoxModel",
      "state": {
       "_dom_classes": [
        "widget-interact"
       ],
       "children": [
        "IPY_MODEL_1cad8f7177fa4f5ea8556673f1ae64bb",
        "IPY_MODEL_cb24cb8da58849448fc9a1b3534c36ee"
       ],
       "layout": "IPY_MODEL_0fd27e83b944482c80c54aa77199667d"
      }
     },
     "391cbe513c284d1f9b58b5cc5911e59f": {
      "model_module": "@jupyter-widgets/controls",
      "model_module_version": "1.5.0",
      "model_name": "VBoxModel",
      "state": {
       "_dom_classes": [
        "widget-interact"
       ],
       "children": [
        "IPY_MODEL_7868f8346fed48deb80e9d2bdd2079c1",
        "IPY_MODEL_e2b9ab564343429ab8341dd254170f21"
       ],
       "layout": "IPY_MODEL_a394688f1a5e48e48cc67d6c1678b6d2"
      }
     },
     "3a9e99243c064694bcd39e4ba956f0b3": {
      "model_module": "@jupyter-widgets/base",
      "model_module_version": "1.2.0",
      "model_name": "LayoutModel",
      "state": {}
     },
     "409e0a0f840e46edaaad6d5dcf3c364f": {
      "model_module": "@jupyter-widgets/base",
      "model_module_version": "1.2.0",
      "model_name": "LayoutModel",
      "state": {}
     },
     "4576df5e7e4045379a97beef7b67d006": {
      "model_module": "@jupyter-widgets/base",
      "model_module_version": "1.2.0",
      "model_name": "LayoutModel",
      "state": {}
     },
     "461ffd4d4fed477eb203b7f6a5411cfa": {
      "model_module": "@jupyter-widgets/controls",
      "model_module_version": "1.5.0",
      "model_name": "DescriptionStyleModel",
      "state": {
       "description_width": ""
      }
     },
     "463b011330ef4d3db35038c8a857f4b7": {
      "model_module": "@jupyter-widgets/base",
      "model_module_version": "1.2.0",
      "model_name": "LayoutModel",
      "state": {}
     },
     "4cf7782dc39e49ba887c15105601b0f2": {
      "model_module": "@jupyter-widgets/base",
      "model_module_version": "1.2.0",
      "model_name": "LayoutModel",
      "state": {}
     },
     "504bdc0b9d15434ca959c87df398ea35": {
      "model_module": "@jupyter-widgets/controls",
      "model_module_version": "1.5.0",
      "model_name": "SelectMultipleModel",
      "state": {
       "_options_labels": [
        "crc.csv",
        "BC.csv",
        "schools.csv",
        "bulk_hawker.csv",
        "trade_temple_other.csv",
        "gov.csv",
        "bc_blocks.csv",
        "condo_optin.csv",
        "landed.csv"
       ],
       "description": "Input file:",
       "index": [
        0,
        2,
        3,
        4,
        5,
        7,
        8
       ],
       "layout": "IPY_MODEL_463b011330ef4d3db35038c8a857f4b7",
       "rows": 9,
       "style": "IPY_MODEL_461ffd4d4fed477eb203b7f6a5411cfa"
      }
     },
     "50cb8b8f05ac47be8d3f2907f6d218c8": {
      "model_module": "@jupyter-widgets/controls",
      "model_module_version": "1.5.0",
      "model_name": "ButtonStyleModel",
      "state": {}
     },
     "53a536581bdd4742bf03f1d3d16e90f7": {
      "model_module": "@jupyter-widgets/output",
      "model_module_version": "1.0.0",
      "model_name": "OutputModel",
      "state": {
       "layout": "IPY_MODEL_a8ac7c7b928c4e48b24704fa5f841cfd"
      }
     },
     "58b7238f301f4d129545701570bb8116": {
      "model_module": "@jupyter-widgets/controls",
      "model_module_version": "1.5.0",
      "model_name": "ButtonStyleModel",
      "state": {}
     },
     "622b557735bb4486983f22987f257557": {
      "model_module": "@jupyter-widgets/base",
      "model_module_version": "1.2.0",
      "model_name": "LayoutModel",
      "state": {}
     },
     "677d23deb7274b0ca279dffdd2c7b91b": {
      "model_module": "@jupyter-widgets/controls",
      "model_module_version": "1.5.0",
      "model_name": "ButtonModel",
      "state": {
       "description": "Show map",
       "layout": "IPY_MODEL_f5da9e1175f24814a9ba6195fdcf3885",
       "style": "IPY_MODEL_cefa579cf05f44a88720211847e8e885"
      }
     },
     "67dac95bcd4a49a79503b1cee672774d": {
      "model_module": "@jupyter-widgets/output",
      "model_module_version": "1.0.0",
      "model_name": "OutputModel",
      "state": {
       "layout": "IPY_MODEL_f9dca610179d43ce8d843f264b73f9ab",
       "outputs": [
        {
         "data": {
          "text/html": "<div>\n<style scoped>\n    .dataframe tbody tr th:only-of-type {\n        vertical-align: middle;\n    }\n\n    .dataframe tbody tr th {\n        vertical-align: top;\n    }\n\n    .dataframe thead th {\n        text-align: right;\n    }\n</style>\n<table border=\"1\" class=\"dataframe\">\n  <thead>\n    <tr style=\"text-align: right;\">\n      <th></th>\n      <th>description</th>\n      <th>type</th>\n      <th>Postal Code</th>\n      <th>ADDRESS</th>\n    </tr>\n  </thead>\n  <tbody>\n    <tr>\n      <th>5</th>\n      <td>Senoko Incineration Plant</td>\n      <td>waste_treatment</td>\n      <td>759907</td>\n      <td>30 attap valley road senoko incineration plant...</td>\n    </tr>\n    <tr>\n      <th>6</th>\n      <td>Tuas South Incineration Plant</td>\n      <td>waste_treatment</td>\n      <td>637821</td>\n      <td>98 tuas south avenue 3 singapore 637821</td>\n    </tr>\n    <tr>\n      <th>7</th>\n      <td>KSTP</td>\n      <td>waste_treatment</td>\n      <td>637366</td>\n      <td>96 tuas south avenue 3 singapore 637366</td>\n    </tr>\n  </tbody>\n</table>\n</div>",
          "text/plain": "                     description             type Postal Code  \\\n5      Senoko Incineration Plant  waste_treatment      759907   \n6  Tuas South Incineration Plant  waste_treatment      637821   \n7                           KSTP  waste_treatment      637366   \n\n                                             ADDRESS  \n5  30 attap valley road senoko incineration plant...  \n6            98 tuas south avenue 3 singapore 637821  \n7            96 tuas south avenue 3 singapore 637366  "
         },
         "metadata": {},
         "output_type": "display_data"
        }
       ]
      }
     },
     "6985cb8ed2434a029b3d1484bfb9ee9e": {
      "model_module": "@jupyter-widgets/controls",
      "model_module_version": "1.5.0",
      "model_name": "ButtonModel",
      "state": {
       "description": "Show map",
       "layout": "IPY_MODEL_d3bf98105dd4441eab236f1909868aaa",
       "style": "IPY_MODEL_58b7238f301f4d129545701570bb8116"
      }
     },
     "6fe19f45c10841008377a88b858e60ae": {
      "model_module": "@jupyter-widgets/base",
      "model_module_version": "1.2.0",
      "model_name": "LayoutModel",
      "state": {}
     },
     "71cbeb9fa5264d32938c92313bab9fd1": {
      "model_module": "@jupyter-widgets/controls",
      "model_module_version": "1.5.0",
      "model_name": "DescriptionStyleModel",
      "state": {
       "description_width": ""
      }
     },
     "76b8bd3d9a634a00ab87cd5e943920de": {
      "model_module": "@jupyter-widgets/base",
      "model_module_version": "1.2.0",
      "model_name": "LayoutModel",
      "state": {}
     },
     "7868f8346fed48deb80e9d2bdd2079c1": {
      "model_module": "@jupyter-widgets/controls",
      "model_module_version": "1.5.0",
      "model_name": "SelectMultipleModel",
      "state": {
       "_options_labels": [
        "rel_refuse_producers_high_demand.csv",
        "landed_service_residential.csv",
        "crc.csv",
        "BC.csv",
        "schools.csv",
        "bc_hl_refuse_producers.csv",
        "bulk_hawker.csv",
        "trade_temple_other.csv",
        "rel_refuse_producers_high_demand_all.csv",
        "rel_refuse_producers.csv",
        "rel_refuse_producers_jurong_high_demand.csv",
        "crc_mac.csv",
        "rel_recycling.csv",
        "rel_refuse_producers_jurong_high_demand_all.csv",
        "rel_refuse_producers_all.csv",
        "gov.csv",
        "bc_blocks.csv",
        "bc_refuse_producers.csv",
        "condo_optin.csv",
        "BC 1.csv"
       ],
       "description": "Input file:",
       "index": [
        0
       ],
       "layout": "IPY_MODEL_a306063464004c9f809d51daae63a170",
       "rows": 20,
       "style": "IPY_MODEL_d8bd0d0ab09c4dfd8f367b3a3547cd62"
      }
     },
     "82c1874751ba4d1bacd9de3ae0198736": {
      "model_module": "@jupyter-widgets/controls",
      "model_module_version": "1.5.0",
      "model_name": "ButtonModel",
      "state": {
       "description": "Show map",
       "layout": "IPY_MODEL_4576df5e7e4045379a97beef7b67d006",
       "style": "IPY_MODEL_c39027e57b3449caa04d9514b056a62f"
      }
     },
     "8579420f34cd4bab9dc6ccb407c74f64": {
      "model_module": "@jupyter-widgets/base",
      "model_module_version": "1.2.0",
      "model_name": "LayoutModel",
      "state": {}
     },
     "8595d8412c9444fcb6f4fa81ac7035c9": {
      "model_module": "@jupyter-widgets/controls",
      "model_module_version": "1.5.0",
      "model_name": "DescriptionStyleModel",
      "state": {
       "description_width": ""
      }
     },
     "8a2526bf64414ec18caecb7c1bd29049": {
      "model_module": "@jupyter-widgets/controls",
      "model_module_version": "1.5.0",
      "model_name": "DropdownModel",
      "state": {
       "_options_labels": [
        "ALBA W&H Kranji depot",
        "ALBA W&H Tuas depot"
       ],
       "description": "Depot:",
       "index": 1,
       "layout": "IPY_MODEL_1d48adc2b5d24d679a6e20b970cdb56d",
       "style": "IPY_MODEL_8595d8412c9444fcb6f4fa81ac7035c9"
      }
     },
     "92cadf01be534fe3939334b47fc59051": {
      "model_module": "@jupyter-widgets/controls",
      "model_module_version": "1.5.0",
      "model_name": "SelectMultipleModel",
      "state": {
       "_options_labels": [
        "crc.csv",
        "BC.csv",
        "schools.csv",
        "bulk_hawker.csv",
        "trade_temple_other.csv",
        "gov.csv",
        "bc_blocks.csv",
        "condo_optin.csv",
        "landed.csv"
       ],
       "description": "Input file:",
       "index": [
        0,
        2,
        3,
        4,
        5,
        7,
        8
       ],
       "layout": "IPY_MODEL_98b5ee657958439db3b87ec40196ba8b",
       "rows": 9,
       "style": "IPY_MODEL_9f7ea770ec784fcfbbd20b540c04e0af"
      }
     },
     "9539799220fe4775970a4fcbce1875ef": {
      "model_module": "@jupyter-widgets/output",
      "model_module_version": "1.0.0",
      "model_name": "OutputModel",
      "state": {
       "layout": "IPY_MODEL_c763016bb5d1470ba6b950b9a3bf10ab",
       "outputs": [
        {
         "name": "stdout",
         "output_type": "stream",
         "text": "Index(['planning_area', 'Postal Code', 'block_number', 'street_name',\n       'building description', 'property_type', 'land_use',\n       'total_dwelling_units', 'total_people', 'parcel_area_m2',\n       ...\n       '240', '360', '660', 'MAX SIZE FOR GOMIC  INSTALLATION',\n       'collection_scheme', 'n_bins', 'geom_id', 'geom_id_inv',\n       'geom_id_order', 'arc_index'],\n      dtype='object', length=114)\n"
        },
        {
         "data": {
          "text/plain": "'Number of producers: 15815'"
         },
         "metadata": {},
         "output_type": "display_data"
        },
        {
         "name": "stdout",
         "output_type": "stream",
         "text": "Number of producers after removing large commercial land parcels: 15815\n"
        }
       ]
      }
     },
     "97944c3db4b945f48f6ae6a1cc134f3b": {
      "model_module": "@jupyter-widgets/base",
      "model_module_version": "1.2.0",
      "model_name": "LayoutModel",
      "state": {}
     },
     "98b5ee657958439db3b87ec40196ba8b": {
      "model_module": "@jupyter-widgets/base",
      "model_module_version": "1.2.0",
      "model_name": "LayoutModel",
      "state": {}
     },
     "9b16d05cc9424b998847a046339ae14d": {
      "model_module": "@jupyter-widgets/base",
      "model_module_version": "1.2.0",
      "model_name": "LayoutModel",
      "state": {}
     },
     "9f7ea770ec784fcfbbd20b540c04e0af": {
      "model_module": "@jupyter-widgets/controls",
      "model_module_version": "1.5.0",
      "model_name": "DescriptionStyleModel",
      "state": {
       "description_width": ""
      }
     },
     "a306063464004c9f809d51daae63a170": {
      "model_module": "@jupyter-widgets/base",
      "model_module_version": "1.2.0",
      "model_name": "LayoutModel",
      "state": {}
     },
     "a394688f1a5e48e48cc67d6c1678b6d2": {
      "model_module": "@jupyter-widgets/base",
      "model_module_version": "1.2.0",
      "model_name": "LayoutModel",
      "state": {}
     },
     "a777a6a433044c249364fc8baa4fe738": {
      "model_module": "@jupyter-widgets/controls",
      "model_module_version": "1.5.0",
      "model_name": "ButtonStyleModel",
      "state": {}
     },
     "a8ac7c7b928c4e48b24704fa5f841cfd": {
      "model_module": "@jupyter-widgets/base",
      "model_module_version": "1.2.0",
      "model_name": "LayoutModel",
      "state": {}
     },
     "ab329332d7cb4be990504e78d233b7ee": {
      "model_module": "@jupyter-widgets/controls",
      "model_module_version": "1.5.0",
      "model_name": "VBoxModel",
      "state": {
       "_dom_classes": [
        "widget-interact"
       ],
       "children": [
        "IPY_MODEL_92cadf01be534fe3939334b47fc59051",
        "IPY_MODEL_f24f6fd65aeb4e1a8545cdf34d8cfb96"
       ],
       "layout": "IPY_MODEL_d3fe956ee40d4960b0e10a334f6c169b"
      }
     },
     "adffeb3254b24b6eb78beb9c95fdd5e2": {
      "model_module": "@jupyter-widgets/base",
      "model_module_version": "1.2.0",
      "model_name": "LayoutModel",
      "state": {}
     },
     "b4e7121e00c84c409bf933d85c5be6a3": {
      "model_module": "@jupyter-widgets/controls",
      "model_module_version": "1.5.0",
      "model_name": "SelectMultipleModel",
      "state": {
       "_options_labels": [
        "ALBA W&H Kranji depot",
        "CTM MRF",
        "KSTP",
        "Senoko Incineration Plant",
        "Tuas Incineration Plant",
        "Tuas South Incineration Plant"
       ],
       "description": "Treatment:",
       "index": [
        2,
        3,
        5
       ],
       "layout": "IPY_MODEL_adffeb3254b24b6eb78beb9c95fdd5e2",
       "rows": 6,
       "style": "IPY_MODEL_16e6989affb846b0baf6204485ea672d"
      }
     },
     "b527e26e48164bdc985ba88bffde004e": {
      "model_module": "@jupyter-widgets/output",
      "model_module_version": "1.0.0",
      "model_name": "OutputModel",
      "state": {
       "layout": "IPY_MODEL_409e0a0f840e46edaaad6d5dcf3c364f"
      }
     },
     "bb3a7e29f39d40819d14ad4b03a195f0": {
      "model_module": "@jupyter-widgets/controls",
      "model_module_version": "1.5.0",
      "model_name": "ButtonModel",
      "state": {
       "description": "Load network",
       "layout": "IPY_MODEL_9b16d05cc9424b998847a046339ae14d",
       "style": "IPY_MODEL_0a6eac1142654a048ac05ee24867a21b"
      }
     },
     "c04bbd4f00b14316a6583d0c35b4c8bc": {
      "model_module": "@jupyter-widgets/output",
      "model_module_version": "1.0.0",
      "model_name": "OutputModel",
      "state": {
       "layout": "IPY_MODEL_2ca17a19b9124d20805807fdf56c5991"
      }
     },
     "c39027e57b3449caa04d9514b056a62f": {
      "model_module": "@jupyter-widgets/controls",
      "model_module_version": "1.5.0",
      "model_name": "ButtonStyleModel",
      "state": {}
     },
     "c763016bb5d1470ba6b950b9a3bf10ab": {
      "model_module": "@jupyter-widgets/base",
      "model_module_version": "1.2.0",
      "model_name": "LayoutModel",
      "state": {}
     },
     "cb24cb8da58849448fc9a1b3534c36ee": {
      "model_module": "@jupyter-widgets/output",
      "model_module_version": "1.0.0",
      "model_name": "OutputModel",
      "state": {
       "layout": "IPY_MODEL_f2e3e7a43fa24f83ad27435fe4e996f4",
       "outputs": [
        {
         "data": {
          "text/plain": "'Producers in area: 16057'"
         },
         "metadata": {},
         "output_type": "display_data"
        }
       ]
      }
     },
     "cbfc44c6474645e2b7f934f011d88b00": {
      "model_module": "@jupyter-widgets/controls",
      "model_module_version": "1.5.0",
      "model_name": "ButtonModel",
      "state": {
       "description": "Show map",
       "layout": "IPY_MODEL_f69c2c02ef3f4e78897fd8d53c0cbc9e",
       "style": "IPY_MODEL_a777a6a433044c249364fc8baa4fe738"
      }
     },
     "cefa579cf05f44a88720211847e8e885": {
      "model_module": "@jupyter-widgets/controls",
      "model_module_version": "1.5.0",
      "model_name": "ButtonStyleModel",
      "state": {}
     },
     "d3bf98105dd4441eab236f1909868aaa": {
      "model_module": "@jupyter-widgets/base",
      "model_module_version": "1.2.0",
      "model_name": "LayoutModel",
      "state": {}
     },
     "d3fe956ee40d4960b0e10a334f6c169b": {
      "model_module": "@jupyter-widgets/base",
      "model_module_version": "1.2.0",
      "model_name": "LayoutModel",
      "state": {}
     },
     "d8bd0d0ab09c4dfd8f367b3a3547cd62": {
      "model_module": "@jupyter-widgets/controls",
      "model_module_version": "1.5.0",
      "model_name": "DescriptionStyleModel",
      "state": {
       "description_width": ""
      }
     },
     "e0103eff14ce4eb08422d3be9dfa040a": {
      "model_module": "@jupyter-widgets/base",
      "model_module_version": "1.2.0",
      "model_name": "LayoutModel",
      "state": {}
     },
     "e2b9ab564343429ab8341dd254170f21": {
      "model_module": "@jupyter-widgets/output",
      "model_module_version": "1.0.0",
      "model_name": "OutputModel",
      "state": {
       "layout": "IPY_MODEL_6fe19f45c10841008377a88b858e60ae",
       "outputs": [
        {
         "name": "stderr",
         "output_type": "stream",
         "text": "/Users/ejwillemse/opt/anaconda3/envs/waste_labs_examples/lib/python3.8/site-packages/ipywidgets/widgets/widget.py:186: DtypeWarning:\n\nColumns (49,50,53,54,55,56,57,58,59,61,65,68,69,71,72,73,74,75,76,78,79,81,82,91,96,98,101,108) have mixed types.Specify dtype option on import or set low_memory=False.\n\n"
        },
        {
         "data": {
          "text/plain": "'Producers in area: 15815'"
         },
         "metadata": {},
         "output_type": "display_data"
        }
       ]
      }
     },
     "e5ad76e6681a45559e122c3ec1947a3a": {
      "model_module": "@jupyter-widgets/output",
      "model_module_version": "1.0.0",
      "model_name": "OutputModel",
      "state": {
       "layout": "IPY_MODEL_3a9e99243c064694bcd39e4ba956f0b3"
      }
     },
     "e6b6d946d1ed4fb682d736c5c3897f93": {
      "model_module": "@jupyter-widgets/controls",
      "model_module_version": "1.5.0",
      "model_name": "SelectMultipleModel",
      "state": {
       "_options_labels": [
        "ALL",
        "CRC",
        "Condo opt-in",
        "Government",
        "Schools",
        "bulk_bins",
        "commercial",
        "commercial & residential",
        "hawker_markets",
        "landed_properties",
        "place of worship",
        "residential with commercial at 1st storey"
       ],
       "description": "Producer:",
       "index": [
        0
       ],
       "layout": "IPY_MODEL_1bb42f3182c04b58bc692d0f4742bc2d",
       "rows": 12,
       "style": "IPY_MODEL_05d2e6be818a4a2f9c76407f8e1eb5ec"
      }
     },
     "ed8a2664faf54e67bd051ee539c40994": {
      "model_module": "@jupyter-widgets/base",
      "model_module_version": "1.2.0",
      "model_name": "LayoutModel",
      "state": {}
     },
     "ee45ce3fa54e49e892ced31c4d656152": {
      "model_module": "@jupyter-widgets/controls",
      "model_module_version": "1.5.0",
      "model_name": "ButtonModel",
      "state": {
       "description": "Show map",
       "layout": "IPY_MODEL_2dab04fec7604ba8a85279c0f047f6c9",
       "style": "IPY_MODEL_50cb8b8f05ac47be8d3f2907f6d218c8"
      }
     },
     "f04ece8682a845b4a8d3d3cdda4a0ff9": {
      "model_module": "@jupyter-widgets/controls",
      "model_module_version": "1.5.0",
      "model_name": "VBoxModel",
      "state": {
       "_dom_classes": [
        "widget-interact"
       ],
       "children": [
        "IPY_MODEL_8a2526bf64414ec18caecb7c1bd29049",
        "IPY_MODEL_182ddfca166843ae87b1cac941d1269b"
       ],
       "layout": "IPY_MODEL_76b8bd3d9a634a00ab87cd5e943920de"
      }
     },
     "f24f6fd65aeb4e1a8545cdf34d8cfb96": {
      "model_module": "@jupyter-widgets/output",
      "model_module_version": "1.0.0",
      "model_name": "OutputModel",
      "state": {
       "layout": "IPY_MODEL_ed8a2664faf54e67bd051ee539c40994",
       "outputs": [
        {
         "data": {
          "text/plain": "'Producers in area: 16057'"
         },
         "metadata": {},
         "output_type": "display_data"
        }
       ]
      }
     },
     "f2e3e7a43fa24f83ad27435fe4e996f4": {
      "model_module": "@jupyter-widgets/base",
      "model_module_version": "1.2.0",
      "model_name": "LayoutModel",
      "state": {}
     },
     "f5da9e1175f24814a9ba6195fdcf3885": {
      "model_module": "@jupyter-widgets/base",
      "model_module_version": "1.2.0",
      "model_name": "LayoutModel",
      "state": {}
     },
     "f69c2c02ef3f4e78897fd8d53c0cbc9e": {
      "model_module": "@jupyter-widgets/base",
      "model_module_version": "1.2.0",
      "model_name": "LayoutModel",
      "state": {}
     },
     "f9dca610179d43ce8d843f264b73f9ab": {
      "model_module": "@jupyter-widgets/base",
      "model_module_version": "1.2.0",
      "model_name": "LayoutModel",
      "state": {}
     }
    },
    "version_major": 2,
    "version_minor": 0
   }
  }
 },
 "nbformat": 4,
 "nbformat_minor": 4
}
