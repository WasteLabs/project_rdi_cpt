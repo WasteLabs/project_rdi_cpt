{
 "cells": [
  {
   "cell_type": "markdown",
   "metadata": {},
   "source": [
    "# Resource planning"
   ]
  },
  {
   "cell_type": "code",
   "execution_count": null,
   "metadata": {},
   "outputs": [],
   "source": [
    "%%html\n",
    "<style>\n",
    "table {float:left}\n",
    "</style>"
   ]
  },
  {
   "cell_type": "markdown",
   "metadata": {},
   "source": [
    "| Document info | |\n",
    "| --- | --- | \n",
    "| Area of interest: | Cape Town |\n",
    "| Planning type: | All REL type producers |\n",
    "| Prepared by: | Waste Labs (wastelabs.co) |\n",
    "| Prepared for: | Johan W. Joubert |\n",
    "| Contact: | elias@wastelabs.co |"
   ]
  },
  {
   "cell_type": "code",
   "execution_count": 1,
   "metadata": {},
   "outputs": [
    {
     "data": {
      "text/html": [
       "        <script type=\"text/javascript\">\n",
       "        window.PlotlyConfig = {MathJaxConfig: 'local'};\n",
       "        if (window.MathJax) {MathJax.Hub.Config({SVG: {font: \"STIX-Web\"}});}\n",
       "        if (typeof require !== 'undefined') {\n",
       "        require.undef(\"plotly\");\n",
       "        requirejs.config({\n",
       "            paths: {\n",
       "                'plotly': ['https://cdn.plot.ly/plotly-2.4.1.min']\n",
       "            }\n",
       "        });\n",
       "        require(['plotly'], function(Plotly) {\n",
       "            window._Plotly = Plotly;\n",
       "        });\n",
       "        }\n",
       "        </script>\n",
       "        "
      ]
     },
     "metadata": {},
     "output_type": "display_data"
    },
    {
     "data": {
      "text/html": [
       "        <script type=\"text/javascript\">\n",
       "        window.PlotlyConfig = {MathJaxConfig: 'local'};\n",
       "        if (window.MathJax) {MathJax.Hub.Config({SVG: {font: \"STIX-Web\"}});}\n",
       "        if (typeof require !== 'undefined') {\n",
       "        require.undef(\"plotly\");\n",
       "        requirejs.config({\n",
       "            paths: {\n",
       "                'plotly': ['https://cdn.plot.ly/plotly-2.4.1.min']\n",
       "            }\n",
       "        });\n",
       "        require(['plotly'], function(Plotly) {\n",
       "            window._Plotly = Plotly;\n",
       "        });\n",
       "        }\n",
       "        </script>\n",
       "        "
      ]
     },
     "metadata": {},
     "output_type": "display_data"
    },
    {
     "name": "stderr",
     "output_type": "stream",
     "text": [
      "/Users/ejwillemse/opt/anaconda3/envs/python_RD/lib/python3.8/site-packages/tables/__init__.py:99: DeprecationWarning:\n",
      "\n",
      "`np.typeDict` is a deprecated alias for `np.sctypeDict`.\n",
      "\n"
     ]
    },
    {
     "data": {
      "text/html": [
       "        <script type=\"text/javascript\">\n",
       "        window.PlotlyConfig = {MathJaxConfig: 'local'};\n",
       "        if (window.MathJax) {MathJax.Hub.Config({SVG: {font: \"STIX-Web\"}});}\n",
       "        if (typeof require !== 'undefined') {\n",
       "        require.undef(\"plotly\");\n",
       "        requirejs.config({\n",
       "            paths: {\n",
       "                'plotly': ['https://cdn.plot.ly/plotly-2.4.1.min']\n",
       "            }\n",
       "        });\n",
       "        require(['plotly'], function(Plotly) {\n",
       "            window._Plotly = Plotly;\n",
       "        });\n",
       "        }\n",
       "        </script>\n",
       "        "
      ]
     },
     "metadata": {},
     "output_type": "display_data"
    }
   ],
   "source": [
    "%load_ext autoreload\n",
    "%autoreload 2\n",
    "%config Completer.use_jedi = False\n",
    "\n",
    "# Show all code cells outputs\n",
    "from IPython.core.interactiveshell import InteractiveShell\n",
    "\n",
    "InteractiveShell.ast_node_interactivity = \"all\"\n",
    "\n",
    "import logging\n",
    "\n",
    "logging.basicConfig(level=logging.INFO)\n",
    "\n",
    "import pickle\n",
    "\n",
    "import chart_studio.plotly as py\n",
    "import plotly.express as px\n",
    "import plotly.graph_objs as go\n",
    "from plotly.offline import init_notebook_mode, iplot\n",
    "\n",
    "init_notebook_mode(connected=True)\n",
    "\n",
    "import cufflinks as cf\n",
    "\n",
    "cf.go_offline(connected=True)\n",
    "cf.set_config_file(colorscale=\"plotly\", world_readable=True)\n",
    "\n",
    "import os\n",
    "import sys\n",
    "\n",
    "import geopandas as gpd\n",
    "import ipywidgets as widgets\n",
    "import numpy as np\n",
    "import pandas as pd\n",
    "import plotly.graph_objects as go\n",
    "from GPSOdyssey import Kepler\n",
    "from IPython.display import clear_output\n",
    "from ipywidgets import fixed, interact, interact_manual, interactive\n",
    "from keplergl import KeplerGl\n",
    "from shapely import wkt\n",
    "\n",
    "# sys.path.insert(0, '../../../mcarptif/')\n",
    "# sys.path.insert(0, os.path.abspath('../../collection_diagnostics/'))\n",
    "# sys.path.insert(0, os.path.abspath('../../OSM_processing/'))\n",
    "import utils.process_gdf as process_gdf\n",
    "\n",
    "# Extra options\n",
    "pd.options.display.max_rows = 1000\n",
    "pd.options.display.max_columns = 1000\n",
    "\n",
    "from mcarptif.osmnx_network_extract.extract_grptif import NetworkExtract\n",
    "from mcarptif.osmnx_network_extract.network_code import create_gdf, required_arc_plot\n",
    "from mcarptif.solver.solve import solve_store_instance\n",
    "from mcarptif.visualise.route_tables import RouteSummary\n",
    "from utils.gdf_helpers import create_gdf\n",
    "\n",
    "\n",
    "def df_style(df):\n",
    "    if df[0] == \"Total\":\n",
    "        return [\"font-weight: bold\"] * len(df)\n",
    "    else:\n",
    "        return [\"\"] * len(df)"
   ]
  },
  {
   "cell_type": "code",
   "execution_count": 2,
   "metadata": {},
   "outputs": [
    {
     "name": "stdout",
     "output_type": "stream",
     "text": [
      "2022-04-12 11:59:48,136 - kedro.io.data_catalog - INFO - Loading data from `road_network_simplified_24645_edges` (GeoJSONDataSet)...\n",
      "2022-04-12 11:59:49,730 - kedro.io.data_catalog - INFO - Loading data from `road_network_simplified_24645_edges_directed` (GeoJSONDataSet)...\n",
      "2022-04-12 11:59:50,653 - kedro.io.data_catalog - INFO - Loading data from `road_network_simplified_24645_nodes` (GeoJSONDataSet)...\n"
     ]
    }
   ],
   "source": [
    "networkh5_file = \"../data/05_model_input/sp_files/road_network_simplified_24645.h\"\n",
    "test_network = catalog.load(\"road_network_simplified_24645_edges\")\n",
    "test_network = test_network.drop(columns=[\"Unnamed: 0\"], errors=\"ignore\")\n",
    "test_network_directed = catalog.load(\"road_network_simplified_24645_edges_directed\")\n",
    "nodes = catalog.load(\"road_network_simplified_24645_nodes\")"
   ]
  },
  {
   "cell_type": "code",
   "execution_count": 3,
   "metadata": {},
   "outputs": [
    {
     "data": {
      "text/plain": [
       "(22189, 19)"
      ]
     },
     "execution_count": 3,
     "metadata": {},
     "output_type": "execute_result"
    }
   ],
   "source": [
    "test_network.shape"
   ]
  },
  {
   "cell_type": "code",
   "execution_count": 4,
   "metadata": {},
   "outputs": [
    {
     "name": "stdout",
     "output_type": "stream",
     "text": [
      "CPU times: user 772 ms, sys: 14.8 ms, total: 786 ms\n",
      "Wall time: 793 ms\n"
     ]
    },
    {
     "name": "stderr",
     "output_type": "stream",
     "text": [
      "/Users/ejwillemse/opt/anaconda3/envs/python_RD/lib/python3.8/site-packages/geopandas/geodataframe.py:199: UserWarning:\n",
      "\n",
      "Pandas doesn't allow columns to be created via a new attribute name - see https://pandas.pydata.org/pandas-docs/stable/indexing.html#attribute-access\n",
      "\n"
     ]
    }
   ],
   "source": [
    "%%time\n",
    "test_network = process_gdf.process_edges(test_network)\n",
    "test_network.drop_duplicates([\"geom_id\"], inplace=True)\n",
    "nodes.sp_index = nodes.index\n",
    "test_network[\"arc_index\"] = test_network.index\n",
    "nodes[\"sp_index\"] = nodes.index"
   ]
  },
  {
   "cell_type": "markdown",
   "metadata": {},
   "source": [
    "## Service area"
   ]
  },
  {
   "cell_type": "code",
   "execution_count": 5,
   "metadata": {},
   "outputs": [
    {
     "name": "stdout",
     "output_type": "stream",
     "text": [
      "2022-04-12 11:59:52,346 - kedro.framework.session.store - INFO - `read()` not implemented for `BaseSessionStore`. Assuming empty store.\n",
      "2022-04-12 11:59:52,422 - root - INFO - ** Kedro project Demand estimation and waste collection routing optimisation for the City of Cape Town\n",
      "2022-04-12 11:59:52,423 - root - INFO - Defined global variable `context`, `session` and `catalog`\n",
      "2022-04-12 11:59:52,432 - root - INFO - Registered line magic `run_viz`\n",
      "2022-04-12 11:59:52,433 - kedro.io.data_catalog - INFO - Loading data from `population_sample_network_match` (CSVDataSet)...\n"
     ]
    }
   ],
   "source": [
    "%reload_kedro\n",
    "df_producer_geo = catalog.load(\"population_sample_network_match\")\n",
    "df_producer_geo = df_producer_geo.merge(\n",
    "    test_network[[\"arc_id\", \"geom_id\", \"geom_id_inv\", \"geom_id_order\", \"arc_index\"]],\n",
    "    validate=\"m:1\",\n",
    ")\n",
    "df_producer_geo[\"land_use\"] = df_producer_geo[\"mainDwellingType\"].fillna(\"nan\")"
   ]
  },
  {
   "cell_type": "markdown",
   "metadata": {},
   "source": [
    "## Add service time and demand"
   ]
  },
  {
   "cell_type": "code",
   "execution_count": 6,
   "metadata": {
    "tags": []
   },
   "outputs": [
    {
     "name": "stdout",
     "output_type": "stream",
     "text": [
      "2022-04-12 11:59:52,665 - kedro.io.data_catalog - INFO - Loading data from `waste_demand_estimate` (CSVDataSet)...\n"
     ]
    },
    {
     "data": {
      "text/html": [
       "<div>\n",
       "<style scoped>\n",
       "    .dataframe tbody tr th:only-of-type {\n",
       "        vertical-align: middle;\n",
       "    }\n",
       "\n",
       "    .dataframe tbody tr th {\n",
       "        vertical-align: top;\n",
       "    }\n",
       "\n",
       "    .dataframe thead th {\n",
       "        text-align: right;\n",
       "    }\n",
       "</style>\n",
       "<table border=\"1\" class=\"dataframe\">\n",
       "  <thead>\n",
       "    <tr style=\"text-align: right;\">\n",
       "      <th></th>\n",
       "      <th>id</th>\n",
       "      <th>waste</th>\n",
       "    </tr>\n",
       "  </thead>\n",
       "  <tbody>\n",
       "    <tr>\n",
       "      <th>0</th>\n",
       "      <td>94369.0</td>\n",
       "      <td>5.874585</td>\n",
       "    </tr>\n",
       "    <tr>\n",
       "      <th>1</th>\n",
       "      <td>95457.0</td>\n",
       "      <td>5.884442</td>\n",
       "    </tr>\n",
       "    <tr>\n",
       "      <th>2</th>\n",
       "      <td>99366.0</td>\n",
       "      <td>8.942040</td>\n",
       "    </tr>\n",
       "    <tr>\n",
       "      <th>3</th>\n",
       "      <td>129493.0</td>\n",
       "      <td>6.901659</td>\n",
       "    </tr>\n",
       "    <tr>\n",
       "      <th>4</th>\n",
       "      <td>129494.0</td>\n",
       "      <td>8.191077</td>\n",
       "    </tr>\n",
       "  </tbody>\n",
       "</table>\n",
       "</div>"
      ],
      "text/plain": [
       "         id     waste\n",
       "0   94369.0  5.874585\n",
       "1   95457.0  5.884442\n",
       "2   99366.0  8.942040\n",
       "3  129493.0  6.901659\n",
       "4  129494.0  8.191077"
      ]
     },
     "execution_count": 6,
     "metadata": {},
     "output_type": "execute_result"
    },
    {
     "name": "stdout",
     "output_type": "stream",
     "text": [
      "2022-04-12 11:59:52,923 - kedro.io.data_catalog - INFO - Loading data from `routing_parameters` (ExcelDataSet)...\n"
     ]
    }
   ],
   "source": [
    "df_producer_geo_waste = catalog.load(\"waste_demand_estimate\")\n",
    "df_producer_geo_waste = df_producer_geo_waste.loc[df_producer_geo_waste[\"id\"] != 0.01]\n",
    "df_producer_geo_waste.head()\n",
    "routing_parameters = catalog.load(\n",
    "    \"routing_parameters\"\n",
    ")  # pd.read_excel('../routing_parameters/refuse_parameters.xlsx', sheet_name = 'Refuse_P1')\n",
    "routing_parameters.fillna(0, inplace=True)"
   ]
  },
  {
   "cell_type": "code",
   "execution_count": 7,
   "metadata": {},
   "outputs": [
    {
     "name": "stdout",
     "output_type": "stream",
     "text": [
      "\n",
      "# offloads (12t)\n"
     ]
    },
    {
     "data": {
      "text/plain": [
       "land_use\n",
       "Landed    7.602915\n",
       "Name: demand, dtype: float64"
      ]
     },
     "execution_count": 7,
     "metadata": {},
     "output_type": "execute_result"
    },
    {
     "name": "stdout",
     "output_type": "stream",
     "text": [
      "\n",
      "# units\n"
     ]
    },
    {
     "data": {
      "text/plain": [
       "land_use\n",
       "Landed    13024\n",
       "Name: total units, dtype: int64"
      ]
     },
     "execution_count": 7,
     "metadata": {},
     "output_type": "execute_result"
    },
    {
     "name": "stdout",
     "output_type": "stream",
     "text": [
      "\n",
      "# shifts (bin service cost)\n"
     ]
    },
    {
     "data": {
      "text/plain": [
       "land_use\n",
       "Landed    2.713333\n",
       "Name: bin_service_cost, dtype: float64"
      ]
     },
     "execution_count": 7,
     "metadata": {},
     "output_type": "execute_result"
    },
    {
     "data": {
      "text/plain": [
       "(13024, 60)"
      ]
     },
     "execution_count": 7,
     "metadata": {},
     "output_type": "execute_result"
    }
   ],
   "source": [
    "calculate = [\"bin_service_cost\"]\n",
    "df_producer_geo.drop(columns=calculate, inplace=True, errors=\"ignore\")\n",
    "df_producer_geo[\"Domestic\"] = 1\n",
    "df_producer_geo[\"Non Domestic\"] = 0\n",
    "df_producer_geo[\"H/M\"] = 0\n",
    "df_producer_geo[\"category\"] = \"Landed\"\n",
    "df_producer_geo[\"land_use\"] = \"Landed\"\n",
    "df_producer_geo[\"total units\"] = 1\n",
    "df_producer_geo[\"total_people\"] = 1\n",
    "df_producer_geo[\"Postal Code\"] = df_producer_geo[\"id\"]\n",
    "\n",
    "df_producer_geo = df_producer_geo.merge(routing_parameters)\n",
    "df_producer_geo = df_producer_geo.merge(\n",
    "    df_producer_geo_waste, how=\"left\", validate=\"1:1\"\n",
    ")\n",
    "df_producer_geo[\"demand\"] = df_producer_geo[\"waste\"]\n",
    "print(\"\\n# offloads (12t)\")\n",
    "df_producer_geo.groupby(\"land_use\")[\"demand\"].sum() / 12000  # number of offloads\n",
    "print(\"\\n# units\")\n",
    "df_producer_geo.groupby(\"land_use\")[\"total units\"].sum()\n",
    "print(\"\\n# shifts (bin service cost)\")\n",
    "df_producer_geo.groupby(\"land_use\")[\"bin_service_cost\"].sum() / (\n",
    "    3600 * 8\n",
    ")  # number of shifts\n",
    "df_producer_geo.shape"
   ]
  },
  {
   "cell_type": "code",
   "execution_count": 8,
   "metadata": {},
   "outputs": [
    {
     "name": "stdout",
     "output_type": "stream",
     "text": [
      "2022-04-12 11:59:53,725 - root - INFO - Start preparation of render parameters...\n",
      "2022-04-12 11:59:53,727 - root - INFO - Loading map config from file: config/rel_producers.config\n",
      "2022-04-12 11:59:53,749 - root - INFO - Next columns are converted to string: ['pipedWater', 'geom_id_order', 'geom_id', 'geometry_arc_snap_point', 'housingType', 'notes', 'mainDwellingType', 'carAccess', 'toilet', 'geometry_arc', 'category', 'dwellingTenure', 'arc_id', 'geom_id_inv', 'highway', 'land_use', 'geometry_u']\n",
      "2022-04-12 11:59:53,750 - root - INFO - Start renderding KeplerGL map...\n",
      "User Guide: https://docs.kepler.gl/docs/keplergl-jupyter\n"
     ]
    }
   ],
   "source": [
    "m1 = Kepler(\n",
    "    data={\"Producers\": df_producer_geo.drop(columns=\"geometry\")},\n",
    "    height=800,\n",
    "    config_path=\"config/rel_producers.config\",\n",
    ")"
   ]
  },
  {
   "cell_type": "code",
   "execution_count": 9,
   "metadata": {},
   "outputs": [
    {
     "data": {
      "application/vnd.jupyter.widget-view+json": {
       "model_id": "a6696bc64fca45238dc4d84f195ab0d0",
       "version_major": 2,
       "version_minor": 0
      },
      "text/plain": [
       "KeplerGl(config={'version': 'v1', 'config': {'visState': {'filters': [], 'layers': [{'id': 'girbu4a', 'type': …"
      ]
     },
     "metadata": {},
     "output_type": "display_data"
    }
   ],
   "source": [
    "m1.get_render()"
   ]
  },
  {
   "cell_type": "code",
   "execution_count": 10,
   "metadata": {},
   "outputs": [
    {
     "name": "stdout",
     "output_type": "stream",
     "text": [
      "2022-04-12 11:59:55,452 - root - WARNING - File already exists and will be over-written.\n"
     ]
    }
   ],
   "source": [
    "m1.save_config(path=\"config/rel_producers.config\", overwrite_config=True)"
   ]
  },
  {
   "cell_type": "markdown",
   "metadata": {},
   "source": [
    "## Select infrastructure"
   ]
  },
  {
   "cell_type": "code",
   "execution_count": 11,
   "metadata": {},
   "outputs": [
    {
     "name": "stdout",
     "output_type": "stream",
     "text": [
      "2022-04-12 11:59:55,514 - kedro.io.data_catalog - INFO - Loading data from `infrastructure_sample_network_match` (CSVDataSet)...\n"
     ]
    }
   ],
   "source": [
    "infrastructure = catalog.load(\"infrastructure_sample_network_match\")\n",
    "key_pois = infrastructure\n",
    "key_pois[\"Postal Code\"] = key_pois[\"id\"]\n",
    "\n",
    "key_pois[\"u\"] = key_pois[\"arc_u\"]\n",
    "key_pois[\"v\"] = key_pois[\"arc_v\"]\n",
    "key_pois[\"key\"] = 0\n",
    "key_pois[\"geometry_point\"] = key_pois[\"geometry\"]\n",
    "key_pois[\"geometry\"] = key_pois[\"geometry_arc\"]\n",
    "key_pois = process_gdf.process_edges(key_pois)\n",
    "key_pois[\"geometry\"] = key_pois[\"geometry_point\"]\n",
    "key_pois = key_pois.merge(test_network[[\"arc_id\", \"arc_index\"]], validate=\"1:1\")"
   ]
  },
  {
   "cell_type": "markdown",
   "metadata": {},
   "source": [
    "Possible depot locations:"
   ]
  },
  {
   "cell_type": "code",
   "execution_count": 12,
   "metadata": {},
   "outputs": [
    {
     "data": {
      "text/html": [
       "<div>\n",
       "<style scoped>\n",
       "    .dataframe tbody tr th:only-of-type {\n",
       "        vertical-align: middle;\n",
       "    }\n",
       "\n",
       "    .dataframe tbody tr th {\n",
       "        vertical-align: top;\n",
       "    }\n",
       "\n",
       "    .dataframe thead th {\n",
       "        text-align: right;\n",
       "    }\n",
       "</style>\n",
       "<table border=\"1\" class=\"dataframe\">\n",
       "  <thead>\n",
       "    <tr style=\"text-align: right;\">\n",
       "      <th></th>\n",
       "      <th>description</th>\n",
       "      <th>type</th>\n",
       "      <th>arc_index</th>\n",
       "    </tr>\n",
       "  </thead>\n",
       "  <tbody>\n",
       "    <tr>\n",
       "      <th>2</th>\n",
       "      <td>Offload 1</td>\n",
       "      <td>waste_treatment</td>\n",
       "      <td>16002</td>\n",
       "    </tr>\n",
       "    <tr>\n",
       "      <th>3</th>\n",
       "      <td>Offload 2</td>\n",
       "      <td>waste_treatment</td>\n",
       "      <td>18170</td>\n",
       "    </tr>\n",
       "    <tr>\n",
       "      <th>4</th>\n",
       "      <td>Offload 3</td>\n",
       "      <td>waste_treatment</td>\n",
       "      <td>17421</td>\n",
       "    </tr>\n",
       "  </tbody>\n",
       "</table>\n",
       "</div>"
      ],
      "text/plain": [
       "  description             type  arc_index\n",
       "2   Offload 1  waste_treatment      16002\n",
       "3   Offload 2  waste_treatment      18170\n",
       "4   Offload 3  waste_treatment      17421"
      ]
     },
     "execution_count": 12,
     "metadata": {},
     "output_type": "execute_result"
    }
   ],
   "source": [
    "offload = key_pois.loc[(key_pois[\"type\"] != \"depot\")]\n",
    "offload[[\"description\", \"type\", \"arc_index\"]]"
   ]
  },
  {
   "cell_type": "markdown",
   "metadata": {},
   "source": [
    "Select depot:"
   ]
  },
  {
   "cell_type": "code",
   "execution_count": 102,
   "metadata": {},
   "outputs": [
    {
     "data": {
      "text/html": [
       "<div>\n",
       "<style scoped>\n",
       "    .dataframe tbody tr th:only-of-type {\n",
       "        vertical-align: middle;\n",
       "    }\n",
       "\n",
       "    .dataframe tbody tr th {\n",
       "        vertical-align: top;\n",
       "    }\n",
       "\n",
       "    .dataframe thead th {\n",
       "        text-align: right;\n",
       "    }\n",
       "</style>\n",
       "<table border=\"1\" class=\"dataframe\">\n",
       "  <thead>\n",
       "    <tr style=\"text-align: right;\">\n",
       "      <th></th>\n",
       "      <th>description</th>\n",
       "      <th>type</th>\n",
       "      <th>arc_index</th>\n",
       "    </tr>\n",
       "  </thead>\n",
       "  <tbody>\n",
       "    <tr>\n",
       "      <th>0</th>\n",
       "      <td>Depot 1</td>\n",
       "      <td>depot</td>\n",
       "      <td>3259</td>\n",
       "    </tr>\n",
       "    <tr>\n",
       "      <th>1</th>\n",
       "      <td>Depot 2</td>\n",
       "      <td>depot</td>\n",
       "      <td>10907</td>\n",
       "    </tr>\n",
       "  </tbody>\n",
       "</table>\n",
       "</div>"
      ],
      "text/plain": [
       "  description   type  arc_index\n",
       "0     Depot 1  depot       3259\n",
       "1     Depot 2  depot      10907"
      ]
     },
     "execution_count": 102,
     "metadata": {},
     "output_type": "execute_result"
    },
    {
     "data": {
      "text/plain": [
       "['Depot 1', 'Depot 2']"
      ]
     },
     "execution_count": 102,
     "metadata": {},
     "output_type": "execute_result"
    },
    {
     "data": {
      "text/html": [
       "<div>\n",
       "<style scoped>\n",
       "    .dataframe tbody tr th:only-of-type {\n",
       "        vertical-align: middle;\n",
       "    }\n",
       "\n",
       "    .dataframe tbody tr th {\n",
       "        vertical-align: top;\n",
       "    }\n",
       "\n",
       "    .dataframe thead th {\n",
       "        text-align: right;\n",
       "    }\n",
       "</style>\n",
       "<table border=\"1\" class=\"dataframe\">\n",
       "  <thead>\n",
       "    <tr style=\"text-align: right;\">\n",
       "      <th></th>\n",
       "      <th>description</th>\n",
       "      <th>type</th>\n",
       "    </tr>\n",
       "  </thead>\n",
       "  <tbody>\n",
       "    <tr>\n",
       "      <th>1</th>\n",
       "      <td>Depot 2</td>\n",
       "      <td>depot</td>\n",
       "    </tr>\n",
       "  </tbody>\n",
       "</table>\n",
       "</div>"
      ],
      "text/plain": [
       "  description   type\n",
       "1     Depot 2  depot"
      ]
     },
     "metadata": {},
     "output_type": "display_data"
    }
   ],
   "source": [
    "key_depos = key_pois.loc[key_pois[\"type\"] == \"depot\"]\n",
    "key_depos[[\"description\", \"type\", \"arc_index\"]]\n",
    "key_pois_list = list(key_depos[\"description\"].unique())\n",
    "key_pois_list\n",
    "\n",
    "\n",
    "description = \"Depot 2\"\n",
    "\n",
    "key_depot_select = key_depos.copy()\n",
    "key_depot_select = key_depot_select.loc[key_depot_select[\"description\"] == description]\n",
    "depot_arc_index = key_depot_select.iloc[0][\"arc_index\"]\n",
    "display(key_depot_select[[\"description\", \"type\"]])"
   ]
  },
  {
   "cell_type": "markdown",
   "metadata": {},
   "source": [
    "Select treatment infrastructure:"
   ]
  },
  {
   "cell_type": "code",
   "execution_count": 113,
   "metadata": {},
   "outputs": [
    {
     "data": {
      "text/html": [
       "<div>\n",
       "<style scoped>\n",
       "    .dataframe tbody tr th:only-of-type {\n",
       "        vertical-align: middle;\n",
       "    }\n",
       "\n",
       "    .dataframe tbody tr th {\n",
       "        vertical-align: top;\n",
       "    }\n",
       "\n",
       "    .dataframe thead th {\n",
       "        text-align: right;\n",
       "    }\n",
       "</style>\n",
       "<table border=\"1\" class=\"dataframe\">\n",
       "  <thead>\n",
       "    <tr style=\"text-align: right;\">\n",
       "      <th></th>\n",
       "      <th>description</th>\n",
       "      <th>type</th>\n",
       "    </tr>\n",
       "  </thead>\n",
       "  <tbody>\n",
       "    <tr>\n",
       "      <th>3</th>\n",
       "      <td>Offload 2</td>\n",
       "      <td>waste_treatment</td>\n",
       "    </tr>\n",
       "    <tr>\n",
       "      <th>4</th>\n",
       "      <td>Offload 3</td>\n",
       "      <td>waste_treatment</td>\n",
       "    </tr>\n",
       "  </tbody>\n",
       "</table>\n",
       "</div>"
      ],
      "text/plain": [
       "  description             type\n",
       "3   Offload 2  waste_treatment\n",
       "4   Offload 3  waste_treatment"
      ]
     },
     "metadata": {},
     "output_type": "display_data"
    }
   ],
   "source": [
    "offload = key_pois.loc[key_pois[\"type\"] != \"depot\"]\n",
    "\n",
    "descriptions = [\"Offload 2\", \"Offload 3\"]\n",
    "\n",
    "key_if_select = offload.copy()\n",
    "key_if_select = key_if_select.loc[key_if_select[\"description\"].isin(descriptions)]\n",
    "if_arc_index = key_if_select[\"arc_index\"].values\n",
    "display(key_if_select[[\"description\", \"type\"]])"
   ]
  },
  {
   "cell_type": "markdown",
   "metadata": {},
   "source": [
    "## Select producers"
   ]
  },
  {
   "cell_type": "code",
   "execution_count": 114,
   "metadata": {},
   "outputs": [
    {
     "data": {
      "text/plain": [
       "'Number of producers: 13024'"
      ]
     },
     "metadata": {},
     "output_type": "display_data"
    }
   ],
   "source": [
    "key_list = list(df_producer_geo[\"category\"].unique())\n",
    "\n",
    "descriptions = [\"Landed\"]\n",
    "\n",
    "bad_arcs = ['[(18.4571747, -33.9584372), (18.457166, -33.9585368), (18.457156, -33.9585885), (18.4571405, -33.9586324), (18.4571204, -33.9586875), (18.4570842, -33.9587648), (18.4568647, -33.9591331), (18.4568633, -33.9591415), (18.4568634, -33.9591465), (18.4568651, -33.9591518), (18.4568693, -33.9591571), (18.4568826, -33.9591636), (18.4570165, -33.9592207), (18.4570237, -33.9592212), (18.4570302, -33.9592194), (18.4570376, -33.9592149), (18.4570447, -33.9592066), (18.4570542, -33.9591921), (18.457325, -33.958752), (18.4573407, -33.9587173), (18.4573555, -33.9586744), (18.4573665, -33.9586219), (18.4573672, -33.9585957), (18.4573652, -33.958564), (18.4573568, -33.9585404), (18.4573451, -33.9585162), (18.457334, -33.9585017), (18.4573196, -33.9584906), (18.4573008, -33.9584812), (18.457278, -33.9584717), (18.4571747, -33.9584372)]']\n",
    "\n",
    "prod_select = df_producer_geo.copy()\n",
    "prod_select = prod_select.loc[~prod_select[\"geom_id_order\"].isin(bad_arcs)]\n",
    "prod_select = prod_select.loc[prod_select[\"category\"].isin(descriptions)]\n",
    "display(\"Number of producers: {}\".format(prod_select.shape[0]))"
   ]
  },
  {
   "cell_type": "markdown",
   "metadata": {},
   "source": [
    "## Generate service network"
   ]
  },
  {
   "cell_type": "code",
   "execution_count": 115,
   "metadata": {},
   "outputs": [
    {
     "name": "stdout",
     "output_type": "stream",
     "text": [
      "2022-04-12 13:32:13,500 - root - INFO - Preparing road network.......\n",
      "\n"
     ]
    },
    {
     "name": "stderr",
     "output_type": "stream",
     "text": [
      "/Users/ejwillemse/opt/anaconda3/envs/python_RD/lib/python3.8/site-packages/tables/array.py:241: DeprecationWarning:\n",
      "\n",
      "`np.object` is a deprecated alias for the builtin `object`. To silence this warning, use `object` by itself. Doing this will not modify any behavior and is safe. \n",
      "Deprecated in NumPy 1.20; for more details and guidance: https://numpy.org/devdocs/release/1.20.0-notes.html#deprecations\n",
      "\n"
     ]
    }
   ],
   "source": [
    "logging.info(\"Preparing road network.......\\n\")\n",
    "nodes[\"u\"] = nodes[\"osmid\"]\n",
    "network_info = NetworkExtract(\n",
    "    test_network,\n",
    "    test_network_directed,\n",
    "    nodes,\n",
    "    networkh5_file,\n",
    "    round_cost=True,\n",
    "    key_pois=key_pois,\n",
    ")"
   ]
  },
  {
   "cell_type": "code",
   "execution_count": 116,
   "metadata": {},
   "outputs": [
    {
     "name": "stdout",
     "output_type": "stream",
     "text": [
      "2022-04-12 13:32:14,151 - root - INFO - Load required arcs\n",
      "2022-04-12 13:32:14,152 - root - INFO - Merging with the network\n",
      "2022-04-12 13:32:14,188 - root - INFO - Set depot\n",
      "2022-04-12 13:32:14,205 - root - INFO - Set offload facilities\n",
      "2022-04-12 13:32:14,217 - root - INFO - Extend required arcs with inverse edge arcs\n",
      "2022-04-12 13:32:14,309 - root - INFO - Checking master list\n",
      "2022-04-12 13:32:14,316 - root - INFO - Load distance matrix: 6562 x 6562\n"
     ]
    },
    {
     "name": "stderr",
     "output_type": "stream",
     "text": [
      "/Users/ejwillemse/opt/anaconda3/envs/python_RD/lib/python3.8/site-packages/tables/array.py:241: DeprecationWarning:\n",
      "\n",
      "`np.object` is a deprecated alias for the builtin `object`. To silence this warning, use `object` by itself. Doing this will not modify any behavior and is safe. \n",
      "Deprecated in NumPy 1.20; for more details and guidance: https://numpy.org/devdocs/release/1.20.0-notes.html#deprecations\n",
      "\n",
      "/Users/ejwillemse/opt/anaconda3/envs/python_RD/lib/python3.8/site-packages/tables/leaf.py:544: VisibleDeprecationWarning:\n",
      "\n",
      "Creating an ndarray from ragged nested sequences (which is a list-or-tuple of lists-or-tuples-or ndarrays with different lengths or shapes) is deprecated. If you meant to do this, you must specify 'dtype=object' when creating the ndarray.\n",
      "\n"
     ]
    },
    {
     "name": "stdout",
     "output_type": "stream",
     "text": [
      "2022-04-12 13:32:19,984 - root - INFO - Creating nearest neighbour lists\n",
      "2022-04-12 13:32:22,126 - root - INFO - Calculate offloads: 6562 x 6562 x 2\n",
      "2022-04-12 13:32:26,940 - root - INFO - Done!\n"
     ]
    }
   ],
   "source": [
    "depot = depot_arc_index\n",
    "ifs = if_arc_index\n",
    "req_arcs = network_info.arc_consolidation_standard(prod_select)\n",
    "network_info.load_required_arcs(req_arcs, merge_network=True)\n",
    "network_info.set_depot_arc(depot)\n",
    "network_info.set_if_arcs(ifs)\n",
    "network_info.loc_in_required_arcs()\n",
    "\n",
    "network_info.extend_required_inverse_arcs()\n",
    "\n",
    "network_info.check_main_list()\n",
    "network_info.load_distance_matrix()\n",
    "network_info.offload_calculations3D()\n",
    "\n",
    "network_info.network_gdf(prod_select)\n",
    "\n",
    "logging.info(\"Done!\")"
   ]
  },
  {
   "cell_type": "markdown",
   "metadata": {},
   "source": [
    "## Check network connectivity"
   ]
  },
  {
   "cell_type": "code",
   "execution_count": 117,
   "metadata": {},
   "outputs": [
    {
     "data": {
      "text/plain": [
       "0"
      ]
     },
     "execution_count": 117,
     "metadata": {},
     "output_type": "execute_result"
    },
    {
     "data": {
      "text/plain": [
       "[]"
      ]
     },
     "execution_count": 117,
     "metadata": {},
     "output_type": "execute_result"
    }
   ],
   "source": [
    "cut_off = 100000\n",
    "bad_arcs = []\n",
    "for i in range(len(network_info.d)):\n",
    "    if network_info.d[i, 0] > cut_off:\n",
    "        bad_arc = network_info.reqArcList[i]\n",
    "        bad_links = test_network.loc[test_network[\"arc_index\"] == bad_arc]\n",
    "        bad_arcs += bad_links[\"geom_id_order\"].tolist()\n",
    "len(bad_arcs)\n",
    "bad_arcs"
   ]
  },
  {
   "cell_type": "code",
   "execution_count": 118,
   "metadata": {},
   "outputs": [
    {
     "data": {
      "text/plain": [
       "0"
      ]
     },
     "execution_count": 118,
     "metadata": {},
     "output_type": "execute_result"
    },
    {
     "data": {
      "text/plain": [
       "[]"
      ]
     },
     "execution_count": 118,
     "metadata": {},
     "output_type": "execute_result"
    }
   ],
   "source": [
    "cut_off = 100000\n",
    "bad_arcs = []\n",
    "for i in range(len(network_info.d)):\n",
    "    if network_info.d[0, i] > cut_off:\n",
    "        bad_arc = network_info.reqArcList[i]\n",
    "        bad_links = test_network.loc[test_network[\"arc_index\"] == bad_arc]\n",
    "        bad_arcs += bad_links[\"geom_id_order\"].tolist()\n",
    "len(bad_arcs)\n",
    "bad_arcs"
   ]
  },
  {
   "cell_type": "code",
   "execution_count": 119,
   "metadata": {},
   "outputs": [],
   "source": [
    "d_max = network_info.d.max()\n",
    "if d_max == np.inf:\n",
    "    d_i = network_info.d.argmax(axis=0)[0]\n",
    "    bad_arc = network_info.reqArcList[d_i]\n",
    "    print(network_info.d[d_i, :])\n",
    "    print(network_info.d[:, d_i])\n",
    "    d_i2 = network_info.d[d_i, :].argmax()\n",
    "    bad_arc2 = network_info.reqArcList[d_i2]\n",
    "    print(network_info.d[d_i2, :])\n",
    "    print(network_info.d[:, d_i2])\n",
    "    test_network.loc[test_network[\"arc_index\"] == bad_arc]\n",
    "    test_network.loc[test_network[\"arc_index\"] == bad_arc2]"
   ]
  },
  {
   "cell_type": "markdown",
   "metadata": {},
   "source": [
    "## Set scenario input parameters"
   ]
  },
  {
   "cell_type": "code",
   "execution_count": 121,
   "metadata": {},
   "outputs": [
    {
     "name": "stdout",
     "output_type": "stream",
     "text": [
      "2022-04-12 13:53:15,738 - root - INFO - Uploading scenario inputs...\n",
      "2022-04-12 13:53:15,760 - root - INFO - Setting service cost for network\n",
      "2022-04-12 13:53:15,776 - root - INFO - Setting demand for network\n",
      "2022-04-12 13:53:15,792 - root - INFO - Update travel durations.\n",
      "2022-04-12 13:53:15,971 - root - INFO - Update offload durations.\n",
      "2022-04-12 13:53:16,213 - root - INFO - Done\n"
     ]
    }
   ],
   "source": [
    "scenario_name = \"Landed refuse\"\n",
    "schedule_select = \"weekly\"\n",
    "offload_time = 15 * 60\n",
    "max_duration = 10.5 * 3600\n",
    "capacity = 10.5 * 1000\n",
    "travel_speed = 45 / 3.6\n",
    "service_speed = 30 / 3.6\n",
    "\n",
    "demand_increase_factor = {\"daily\": 1, \"weekly\": 1, \"two_one\": 1}\n",
    "increase_factor = demand_increase_factor[schedule_select]\n",
    "\n",
    "logging.info(\"Uploading scenario inputs...\")\n",
    "prod_select_update = prod_select.copy()\n",
    "prod_arc_update = prod_select_update.copy()\n",
    "\n",
    "network_info.producer_demand = prod_arc_update\n",
    "prod_arc_update = network_info.add_demand_service_cost_to_ars(\n",
    "    prod_select_update, service_speed\n",
    ")\n",
    "_ = pd.DataFrame(\n",
    "    prod_arc_update.drop(columns=[\"arc_index\"]).sum(numeric_only=True)\n",
    ").astype(int)\n",
    "\n",
    "network_info.set_travel_speed(travel_speed)\n",
    "network_info.set_service_cost_and_demand(prod_arc_update)\n",
    "network_info.set_offload_time(offload_time)\n",
    "network_info.check_shapes()\n",
    "\n",
    "network_info.update_cost_matrix()\n",
    "network_info.update_offload_cost()\n",
    "\n",
    "network_info.set_vechile_capacity_constraint(capacity)\n",
    "network_info.set_vehicle_duration_constraint(max_duration)\n",
    "logging.info(\"Done\")"
   ]
  },
  {
   "cell_type": "markdown",
   "metadata": {},
   "source": [
    "## Solve problem"
   ]
  },
  {
   "cell_type": "code",
   "execution_count": 123,
   "metadata": {},
   "outputs": [
    {
     "name": "stdout",
     "output_type": "stream",
     "text": [
      "2022-04-12 13:53:22,285 - root - INFO - Problem info supplied. Directly proceeding to solve problem.\n",
      "Test route 0\n",
      "Test trip 0\n",
      "Test trip 1\n",
      "Test trip 2\n",
      "Test route 1\n",
      "Test trip 0\n",
      "Test trip 1\n",
      "Test trip 2\n",
      "Test route 2\n",
      "Test trip 0\n",
      "Test trip 1\n",
      "Test route 3\n",
      "Test trip 0\n",
      "Test trip 1\n",
      "Test route 4\n",
      "Test trip 0\n",
      "2022-04-12 13:53:47,354 - root - INFO - Done generating routes\n",
      "Number of routes: 5\n"
     ]
    }
   ],
   "source": [
    "solution_df = solve_store_instance(\n",
    "    \"\",\n",
    "    improve=None,\n",
    "    write_results=False,\n",
    "    info=network_info,\n",
    "    overwrite=True,\n",
    "    test_solution=True,\n",
    "    full_output=False,\n",
    "    tollerance=60,\n",
    "    nnFracLS=1,\n",
    "    nnFracTS=0.25,\n",
    ")\n",
    "logging.info(\"Done generating routes\")\n",
    "n_route = solution_df[\"route\"].max() + 1\n",
    "print(f\"Number of routes: {n_route}\")"
   ]
  },
  {
   "cell_type": "markdown",
   "metadata": {},
   "source": [
    "## Display KPIs"
   ]
  },
  {
   "cell_type": "code",
   "execution_count": 124,
   "metadata": {},
   "outputs": [
    {
     "name": "stdout",
     "output_type": "stream",
     "text": [
      "2022-04-12 13:53:47,406 - root - INFO - Preparing scenario outputs...\n"
     ]
    },
    {
     "name": "stderr",
     "output_type": "stream",
     "text": [
      "/Users/ejwillemse/opt/anaconda3/envs/python_RD/lib/python3.8/site-packages/tables/array.py:241: DeprecationWarning:\n",
      "\n",
      "`np.object` is a deprecated alias for the builtin `object`. To silence this warning, use `object` by itself. Doing this will not modify any behavior and is safe. \n",
      "Deprecated in NumPy 1.20; for more details and guidance: https://numpy.org/devdocs/release/1.20.0-notes.html#deprecations\n",
      "\n"
     ]
    }
   ],
   "source": [
    "logging.info(\"Preparing scenario outputs...\")\n",
    "\n",
    "network_info.extend_prop_info()\n",
    "network_info.add_solution(solution_df, order=False)\n",
    "network_info.deconstruct_solution()\n",
    "\n",
    "network_info.vehicle_collection_schedule(schedule=schedule_select)\n",
    "network_info.extract_wide_offload_totals()\n",
    "\n",
    "network_info.add_traversal_time()\n",
    "network_info.add_time_formatted()\n",
    "network_info.add_constant_duration_time()"
   ]
  },
  {
   "cell_type": "code",
   "execution_count": 125,
   "metadata": {},
   "outputs": [
    {
     "name": "stdout",
     "output_type": "stream",
     "text": [
      "2022-04-12 13:53:55,733 - root - INFO - Done preparing output\n"
     ]
    },
    {
     "data": {
      "text/html": [
       "<div>\n",
       "<style scoped>\n",
       "    .dataframe tbody tr th:only-of-type {\n",
       "        vertical-align: middle;\n",
       "    }\n",
       "\n",
       "    .dataframe tbody tr th {\n",
       "        vertical-align: top;\n",
       "    }\n",
       "\n",
       "    .dataframe thead th {\n",
       "        text-align: right;\n",
       "    }\n",
       "</style>\n",
       "<table border=\"1\" class=\"dataframe\">\n",
       "  <thead>\n",
       "    <tr style=\"text-align: right;\">\n",
       "      <th></th>\n",
       "      <th></th>\n",
       "      <th>Vehicle</th>\n",
       "      <th>Route</th>\n",
       "      <th>Collection day</th>\n",
       "      <th>Offloads</th>\n",
       "      <th>Bins collected</th>\n",
       "      <th>Units served</th>\n",
       "      <th>Demand collected (ton)</th>\n",
       "      <th>Time collecting (h)</th>\n",
       "      <th>Time travelling (h)</th>\n",
       "      <th>Time at treatment facility (h)</th>\n",
       "      <th>Route duration (h)</th>\n",
       "      <th>Traveling distance (km)</th>\n",
       "      <th>Collecting distance (km)</th>\n",
       "      <th>Total route distance (km)</th>\n",
       "      <th>Electrical consumption (kWh)</th>\n",
       "      <th>Tons disposed at @ Offload 2</th>\n",
       "      <th>Tons disposed at @ Offload 3</th>\n",
       "    </tr>\n",
       "  </thead>\n",
       "  <tbody>\n",
       "    <tr>\n",
       "      <th>0</th>\n",
       "      <td></td>\n",
       "      <td>1</td>\n",
       "      <td>1</td>\n",
       "      <td>Mon</td>\n",
       "      <td>3</td>\n",
       "      <td>3426</td>\n",
       "      <td>3426</td>\n",
       "      <td>24.02</td>\n",
       "      <td>8.69</td>\n",
       "      <td>1.06</td>\n",
       "      <td>0.75</td>\n",
       "      <td>10.54</td>\n",
       "      <td>49.77</td>\n",
       "      <td>89.25</td>\n",
       "      <td>139.02</td>\n",
       "      <td>274.26</td>\n",
       "      <td>0.00</td>\n",
       "      <td>24.02</td>\n",
       "    </tr>\n",
       "    <tr>\n",
       "      <th>1</th>\n",
       "      <td></td>\n",
       "      <td>1</td>\n",
       "      <td>2</td>\n",
       "      <td>Tue</td>\n",
       "      <td>3</td>\n",
       "      <td>3334</td>\n",
       "      <td>3334</td>\n",
       "      <td>23.24</td>\n",
       "      <td>8.21</td>\n",
       "      <td>1.54</td>\n",
       "      <td>0.75</td>\n",
       "      <td>10.52</td>\n",
       "      <td>70.14</td>\n",
       "      <td>79.69</td>\n",
       "      <td>149.83</td>\n",
       "      <td>278.41</td>\n",
       "      <td>21.00</td>\n",
       "      <td>2.24</td>\n",
       "    </tr>\n",
       "    <tr>\n",
       "      <th>2</th>\n",
       "      <td></td>\n",
       "      <td>1</td>\n",
       "      <td>3</td>\n",
       "      <td>Wed</td>\n",
       "      <td>2</td>\n",
       "      <td>2878</td>\n",
       "      <td>2878</td>\n",
       "      <td>20.19</td>\n",
       "      <td>8.07</td>\n",
       "      <td>1.93</td>\n",
       "      <td>0.50</td>\n",
       "      <td>10.48</td>\n",
       "      <td>86.23</td>\n",
       "      <td>98.16</td>\n",
       "      <td>184.39</td>\n",
       "      <td>330.07</td>\n",
       "      <td>0.00</td>\n",
       "      <td>20.19</td>\n",
       "    </tr>\n",
       "    <tr>\n",
       "      <th>3</th>\n",
       "      <td></td>\n",
       "      <td>1</td>\n",
       "      <td>4</td>\n",
       "      <td>Thu</td>\n",
       "      <td>2</td>\n",
       "      <td>2957</td>\n",
       "      <td>2957</td>\n",
       "      <td>20.75</td>\n",
       "      <td>7.56</td>\n",
       "      <td>2.43</td>\n",
       "      <td>0.50</td>\n",
       "      <td>10.41</td>\n",
       "      <td>105.69</td>\n",
       "      <td>79.07</td>\n",
       "      <td>184.75</td>\n",
       "      <td>316.08</td>\n",
       "      <td>10.50</td>\n",
       "      <td>10.25</td>\n",
       "    </tr>\n",
       "    <tr>\n",
       "      <th>4</th>\n",
       "      <td></td>\n",
       "      <td>1</td>\n",
       "      <td>5</td>\n",
       "      <td>Fri</td>\n",
       "      <td>1</td>\n",
       "      <td>429</td>\n",
       "      <td>429</td>\n",
       "      <td>3.03</td>\n",
       "      <td>1.13</td>\n",
       "      <td>0.79</td>\n",
       "      <td>0.25</td>\n",
       "      <td>2.17</td>\n",
       "      <td>35.12</td>\n",
       "      <td>12.59</td>\n",
       "      <td>47.71</td>\n",
       "      <td>71.86</td>\n",
       "      <td>3.03</td>\n",
       "      <td>0.00</td>\n",
       "    </tr>\n",
       "    <tr>\n",
       "      <th>5</th>\n",
       "      <td>Total</td>\n",
       "      <td>1</td>\n",
       "      <td>5</td>\n",
       "      <td></td>\n",
       "      <td>11</td>\n",
       "      <td>13024</td>\n",
       "      <td>13024</td>\n",
       "      <td>91.23</td>\n",
       "      <td>33.67</td>\n",
       "      <td>7.75</td>\n",
       "      <td>2.75</td>\n",
       "      <td>44.13</td>\n",
       "      <td>346.94</td>\n",
       "      <td>358.76</td>\n",
       "      <td>705.70</td>\n",
       "      <td>1270.70</td>\n",
       "      <td>34.53</td>\n",
       "      <td>56.70</td>\n",
       "    </tr>\n",
       "  </tbody>\n",
       "</table>\n",
       "</div>"
      ],
      "text/plain": [
       "          Vehicle  Route Collection day  Offloads  Bins collected  \\\n",
       "0               1      1            Mon         3            3426   \n",
       "1               1      2            Tue         3            3334   \n",
       "2               1      3            Wed         2            2878   \n",
       "3               1      4            Thu         2            2957   \n",
       "4               1      5            Fri         1             429   \n",
       "5  Total        1      5                       11           13024   \n",
       "\n",
       "   Units served  Demand collected (ton)  Time collecting (h)  \\\n",
       "0          3426                   24.02                 8.69   \n",
       "1          3334                   23.24                 8.21   \n",
       "2          2878                   20.19                 8.07   \n",
       "3          2957                   20.75                 7.56   \n",
       "4           429                    3.03                 1.13   \n",
       "5         13024                   91.23                33.67   \n",
       "\n",
       "   Time travelling (h)  Time at treatment facility (h)  Route duration (h)  \\\n",
       "0                 1.06                            0.75               10.54   \n",
       "1                 1.54                            0.75               10.52   \n",
       "2                 1.93                            0.50               10.48   \n",
       "3                 2.43                            0.50               10.41   \n",
       "4                 0.79                            0.25                2.17   \n",
       "5                 7.75                            2.75               44.13   \n",
       "\n",
       "   Traveling distance (km)  Collecting distance (km)  \\\n",
       "0                    49.77                     89.25   \n",
       "1                    70.14                     79.69   \n",
       "2                    86.23                     98.16   \n",
       "3                   105.69                     79.07   \n",
       "4                    35.12                     12.59   \n",
       "5                   346.94                    358.76   \n",
       "\n",
       "   Total route distance (km)  Electrical consumption (kWh)  \\\n",
       "0                     139.02                        274.26   \n",
       "1                     149.83                        278.41   \n",
       "2                     184.39                        330.07   \n",
       "3                     184.75                        316.08   \n",
       "4                      47.71                         71.86   \n",
       "5                     705.70                       1270.70   \n",
       "\n",
       "   Tons disposed at @ Offload 2  Tons disposed at @ Offload 3  \n",
       "0                          0.00                         24.02  \n",
       "1                         21.00                          2.24  \n",
       "2                          0.00                         20.19  \n",
       "3                         10.50                         10.25  \n",
       "4                          3.03                          0.00  \n",
       "5                         34.53                         56.70  "
      ]
     },
     "metadata": {},
     "output_type": "display_data"
    }
   ],
   "source": [
    "_ = network_info.full_producer_report()\n",
    "\n",
    "route_summary = RouteSummary(network_info)\n",
    "route_sum_table = route_summary.route_summary()\n",
    "logging.info(\"Done preparing output\")\n",
    "display(route_sum_table)"
   ]
  },
  {
   "cell_type": "markdown",
   "metadata": {},
   "source": [
    "## Show routes"
   ]
  },
  {
   "cell_type": "code",
   "execution_count": 143,
   "metadata": {},
   "outputs": [],
   "source": [
    "route_plot = network_info.df_solution_full.copy()\n",
    "route_plot[\"route\"] = route_plot[\"route\"] + 1\n",
    "smaller_10 = route_plot[\"route\"] < 10\n",
    "route_plot.loc[smaller_10, \"route\"] = \"Route 0\" + route_plot.loc[smaller_10][\n",
    "    \"route\"\n",
    "].astype(int).astype(str)\n",
    "route_plot.loc[~smaller_10, \"route\"] = \"Route \" + route_plot.loc[~smaller_10][\n",
    "    \"route\"\n",
    "].astype(int).astype(str)\n",
    "\n",
    "route_plot[\"width\"] = 0\n",
    "route_plot.loc[route_plot[\"activity_type\"] == \"collect\", \"width\"] = 1\n",
    "\n",
    "route_plot[\"collection\"] = 0\n",
    "route_plot.loc[route_plot[\"activity_type\"] == \"collect\", \"width\"] = 1\n",
    "\n",
    "route_plot = gpd.GeoDataFrame(route_plot, geometry=\"geometry\", crs=\"EPSG:4326\")"
   ]
  },
  {
   "cell_type": "code",
   "execution_count": 147,
   "metadata": {},
   "outputs": [
    {
     "name": "stdout",
     "output_type": "stream",
     "text": [
      "2022-04-12 14:33:46,438 - root - INFO - Start preparation of render parameters...\n",
      "2022-04-12 14:33:46,439 - root - INFO - Loading map config from file: config/route_complete_rel.cf\n",
      "2022-04-12 14:33:46,505 - root - INFO - Next columns are converted to string: ['geom_id_order', 'arc_category', 'maxspeed', 'u_index-v_index', 'time', 'route', 'activity_type', 'time_const_dur', 'speed']\n",
      "2022-04-12 14:33:46,517 - root - INFO - Next columns are converted to string: ['geom_id_order', 'geom_id', 'geometry_arc', 'Postal Code', 'type', 'id', 'category', 'arc_id', 'geometry_point', 'highway', 'geometry_arc_snap_point', 'geom_id_inv', 'description', 'geometry_u']\n",
      "2022-04-12 14:33:46,523 - root - INFO - Next columns are converted to string: ['geom_id_order', 'geom_id', 'geometry_arc', 'Postal Code', 'type', 'id', 'category', 'arc_id', 'geometry_point', 'highway', 'geometry_arc_snap_point', 'geom_id_inv', 'description', 'geometry_u']\n",
      "2022-04-12 14:33:46,550 - root - INFO - Next columns are converted to string: ['pipedWater', 'geom_id_order', 'geom_id', 'geometry_arc_snap_point', 'housingType', 'notes', 'mainDwellingType', 'carAccess', 'toilet', 'geometry_arc', 'category', 'dwellingTenure', 'arc_id', 'geom_id_inv', 'highway', 'land_use', 'geometry_u']\n",
      "2022-04-12 14:33:46,552 - root - INFO - Start renderding KeplerGL map...\n",
      "User Guide: https://docs.kepler.gl/docs/keplergl-jupyter\n"
     ]
    },
    {
     "data": {
      "application/vnd.jupyter.widget-view+json": {
       "model_id": "8e5b9f1b87bb44bbb92ff2faa4435ad7",
       "version_major": 2,
       "version_minor": 0
      },
      "text/plain": [
       "KeplerGl(config={'version': 'v1', 'config': {'visState': {'filters': [{'dataId': ['routes'], 'id': 'buyx8p8d',…"
      ]
     },
     "metadata": {},
     "output_type": "display_data"
    }
   ],
   "source": [
    "route_map = Kepler(\n",
    "    height=800,\n",
    "    data={\n",
    "        \"routes\": route_plot,\n",
    "        \"depot\": key_depot_select,\n",
    "        \"disposal\": key_if_select,\n",
    "        \"producers\": prod_select,\n",
    "    },\n",
    "    config_path=\"config/route_complete_rel.cf\",\n",
    ")\n",
    "\n",
    "display(route_map.get_render())"
   ]
  },
  {
   "cell_type": "code",
   "execution_count": 148,
   "metadata": {},
   "outputs": [
    {
     "name": "stdout",
     "output_type": "stream",
     "text": [
      "2022-04-12 14:33:56,190 - root - WARNING - File already exists and will be over-written.\n"
     ]
    }
   ],
   "source": [
    "route_map.save_config(\"config/route_complete_rel.cf\", overwrite_config=True)"
   ]
  },
  {
   "cell_type": "code",
   "execution_count": 149,
   "metadata": {},
   "outputs": [
    {
     "name": "stdout",
     "output_type": "stream",
     "text": [
      "2022-04-12 14:33:57,313 - root - WARNING - Such file exists and will be over-written.\n",
      "2022-04-12 14:33:57,351 - root - INFO - Next columns are converted to string: ['geom_id_order', 'arc_category', 'maxspeed', 'u_index-v_index', 'time', 'route', 'activity_type', 'time_const_dur', 'speed']\n",
      "2022-04-12 14:33:57,354 - root - INFO - Next columns are converted to string: ['geom_id_order', 'geom_id', 'geometry_arc', 'Postal Code', 'type', 'id', 'category', 'arc_id', 'geometry_point', 'highway', 'geometry_arc_snap_point', 'geom_id_inv', 'description', 'geometry_u']\n",
      "2022-04-12 14:33:57,358 - root - INFO - Next columns are converted to string: ['geom_id_order', 'geom_id', 'geometry_arc', 'Postal Code', 'type', 'id', 'category', 'arc_id', 'geometry_point', 'highway', 'geometry_arc_snap_point', 'geom_id_inv', 'description', 'geometry_u']\n",
      "2022-04-12 14:33:57,377 - root - INFO - Next columns are converted to string: ['pipedWater', 'geom_id_order', 'geom_id', 'geometry_arc_snap_point', 'housingType', 'notes', 'mainDwellingType', 'carAccess', 'toilet', 'geometry_arc', 'category', 'dwellingTenure', 'arc_id', 'geom_id_inv', 'highway', 'land_use', 'geometry_u']\n",
      "Map saved to maps/route_complete_rel.html!\n"
     ]
    }
   ],
   "source": [
    "route_map.save_render(\"maps/route_complete_rel.html\", overwrite_html=True)"
   ]
  },
  {
   "cell_type": "code",
   "execution_count": null,
   "metadata": {},
   "outputs": [],
   "source": [
    "# df_visual.save_config(route_map, 'kepler_configs/route_complete_rel.cf', overwrite=True)\n",
    "map_data = {\n",
    "    \"routes\": route_plot.copy(),\n",
    "    \"depot\": key_depot_select.copy(),\n",
    "    \"disposal\": key_if_select.copy(),\n",
    "    \"producers\": prod_select.copy(),\n",
    "}\n",
    "df_visual.save_html(\n",
    "    route_map,\n",
    "    data=map_data,\n",
    "    path=f\"maps/{scenario_name}.html\",\n",
    "    overwrite=True,\n",
    "    aws_host_save=True,\n",
    ")"
   ]
  },
  {
   "cell_type": "markdown",
   "metadata": {},
   "source": [
    "## Save output"
   ]
  },
  {
   "cell_type": "code",
   "execution_count": null,
   "metadata": {},
   "outputs": [],
   "source": [
    "logging.info(\"Writing outup files...\")\n",
    "r = plot_routes(\n",
    "    network_info,\n",
    "    key_pois,\n",
    "    mapbox_key,\n",
    "    customers=prod_select,\n",
    "    cust_size={\n",
    "        \"radiusMinPixels\": 0.75,\n",
    "        \"radiusMaxPixels\": 10,\n",
    "        \"get_radius\": 2,\n",
    "        \"color\": \"lightgrey\",\n",
    "    },\n",
    ")  # , prod_select\n",
    "network_info.add_traversal_time()\n",
    "network_info.add_time_formatted()\n",
    "network_info.add_constant_duration_time()\n",
    "_ = network_info.full_producer_report()\n",
    "network_info.store_results(scenario_name, prod_select, route_sum_table, r)"
   ]
  },
  {
   "cell_type": "code",
   "execution_count": null,
   "metadata": {},
   "outputs": [],
   "source": []
  }
 ],
 "metadata": {
  "kernelspec": {
   "display_name": "DemandestimationandwastecollectionroutingoptimisationfortheCityofCapeTown",
   "language": "python",
   "name": "python3"
  },
  "language_info": {
   "codemirror_mode": {
    "name": "ipython",
    "version": 3
   },
   "file_extension": ".py",
   "mimetype": "text/x-python",
   "name": "python",
   "nbconvert_exporter": "python",
   "pygments_lexer": "ipython3",
   "version": "3.8.12"
  },
  "widgets": {
   "application/vnd.jupyter.widget-state+json": {
    "state": {
     "0404c280bd7a492aa7508beb5a1fcfdc": {
      "model_module": "@jupyter-widgets/base",
      "model_module_version": "1.2.0",
      "model_name": "LayoutModel",
      "state": {}
     },
     "05d2e6be818a4a2f9c76407f8e1eb5ec": {
      "model_module": "@jupyter-widgets/controls",
      "model_module_version": "1.5.0",
      "model_name": "DescriptionStyleModel",
      "state": {
       "description_width": ""
      }
     },
     "0a6eac1142654a048ac05ee24867a21b": {
      "model_module": "@jupyter-widgets/controls",
      "model_module_version": "1.5.0",
      "model_name": "ButtonStyleModel",
      "state": {}
     },
     "0fd27e83b944482c80c54aa77199667d": {
      "model_module": "@jupyter-widgets/base",
      "model_module_version": "1.2.0",
      "model_name": "LayoutModel",
      "state": {}
     },
     "13dd97b986d149f29e513251304cea19": {
      "model_module": "@jupyter-widgets/output",
      "model_module_version": "1.0.0",
      "model_name": "OutputModel",
      "state": {
       "layout": "IPY_MODEL_e0103eff14ce4eb08422d3be9dfa040a"
      }
     },
     "16e6989affb846b0baf6204485ea672d": {
      "model_module": "@jupyter-widgets/controls",
      "model_module_version": "1.5.0",
      "model_name": "DescriptionStyleModel",
      "state": {
       "description_width": ""
      }
     },
     "182ddfca166843ae87b1cac941d1269b": {
      "model_module": "@jupyter-widgets/output",
      "model_module_version": "1.0.0",
      "model_name": "OutputModel",
      "state": {
       "layout": "IPY_MODEL_4cf7782dc39e49ba887c15105601b0f2",
       "outputs": [
        {
         "data": {
          "text/html": "<div>\n<style scoped>\n    .dataframe tbody tr th:only-of-type {\n        vertical-align: middle;\n    }\n\n    .dataframe tbody tr th {\n        vertical-align: top;\n    }\n\n    .dataframe thead th {\n        text-align: right;\n    }\n</style>\n<table border=\"1\" class=\"dataframe\">\n  <thead>\n    <tr style=\"text-align: right;\">\n      <th></th>\n      <th>description</th>\n      <th>type</th>\n      <th>Postal Code</th>\n      <th>ADDRESS</th>\n    </tr>\n  </thead>\n  <tbody>\n    <tr>\n      <th>2</th>\n      <td>ALBA W&amp;H Tuas depot</td>\n      <td>depot</td>\n      <td>639142</td>\n      <td>18 tuas avenue 10 singapore 639142</td>\n    </tr>\n  </tbody>\n</table>\n</div>",
          "text/plain": "           description   type Postal Code                             ADDRESS\n2  ALBA W&H Tuas depot  depot      639142  18 tuas avenue 10 singapore 639142"
         },
         "metadata": {},
         "output_type": "display_data"
        }
       ]
      }
     },
     "18e19de11b3546e5adab0286d75db98d": {
      "model_module": "@jupyter-widgets/output",
      "model_module_version": "1.0.0",
      "model_name": "OutputModel",
      "state": {
       "layout": "IPY_MODEL_2e8cb26f70334cc58df3f12109655625",
       "outputs": [
        {
         "data": {
          "text/plain": "'Producers in area: 16057'"
         },
         "metadata": {},
         "output_type": "display_data"
        }
       ]
      }
     },
     "1bb42f3182c04b58bc692d0f4742bc2d": {
      "model_module": "@jupyter-widgets/base",
      "model_module_version": "1.2.0",
      "model_name": "LayoutModel",
      "state": {}
     },
     "1cad8f7177fa4f5ea8556673f1ae64bb": {
      "model_module": "@jupyter-widgets/controls",
      "model_module_version": "1.5.0",
      "model_name": "SelectMultipleModel",
      "state": {
       "_options_labels": [
        "crc.csv",
        "BC.csv",
        "schools.csv",
        "bulk_hawker.csv",
        "trade_temple_other.csv",
        "gov.csv",
        "bc_blocks.csv",
        "condo_optin.csv",
        "landed.csv"
       ],
       "description": "Input file:",
       "index": [
        0,
        2,
        3,
        4,
        5,
        7,
        8
       ],
       "layout": "IPY_MODEL_8579420f34cd4bab9dc6ccb407c74f64",
       "rows": 9,
       "style": "IPY_MODEL_71cbeb9fa5264d32938c92313bab9fd1"
      }
     },
     "1d48adc2b5d24d679a6e20b970cdb56d": {
      "model_module": "@jupyter-widgets/base",
      "model_module_version": "1.2.0",
      "model_name": "LayoutModel",
      "state": {}
     },
     "21676f2219ee4ba5a144804ce0093439": {
      "model_module": "@jupyter-widgets/base",
      "model_module_version": "1.2.0",
      "model_name": "LayoutModel",
      "state": {}
     },
     "25a8b760a7f94eb5951d37e855d72727": {
      "model_module": "@jupyter-widgets/controls",
      "model_module_version": "1.5.0",
      "model_name": "VBoxModel",
      "state": {
       "_dom_classes": [
        "widget-interact"
       ],
       "children": [
        "IPY_MODEL_e6b6d946d1ed4fb682d736c5c3897f93",
        "IPY_MODEL_9539799220fe4775970a4fcbce1875ef"
       ],
       "layout": "IPY_MODEL_97944c3db4b945f48f6ae6a1cc134f3b"
      }
     },
     "265966bf297149b59ef3d92887186d8a": {
      "model_module": "@jupyter-widgets/controls",
      "model_module_version": "1.5.0",
      "model_name": "VBoxModel",
      "state": {
       "_dom_classes": [
        "widget-interact"
       ],
       "children": [
        "IPY_MODEL_504bdc0b9d15434ca959c87df398ea35",
        "IPY_MODEL_18e19de11b3546e5adab0286d75db98d"
       ],
       "layout": "IPY_MODEL_622b557735bb4486983f22987f257557"
      }
     },
     "288a0f87b3cb4e439f2df4c900700fb8": {
      "model_module": "@jupyter-widgets/controls",
      "model_module_version": "1.5.0",
      "model_name": "VBoxModel",
      "state": {
       "_dom_classes": [
        "widget-interact"
       ],
       "children": [
        "IPY_MODEL_b4e7121e00c84c409bf933d85c5be6a3",
        "IPY_MODEL_67dac95bcd4a49a79503b1cee672774d"
       ],
       "layout": "IPY_MODEL_21676f2219ee4ba5a144804ce0093439"
      }
     },
     "2b4e53df9b1445a98927a0b37c13d217": {
      "model_module": "@jupyter-widgets/output",
      "model_module_version": "1.0.0",
      "model_name": "OutputModel",
      "state": {
       "layout": "IPY_MODEL_0404c280bd7a492aa7508beb5a1fcfdc"
      }
     },
     "2ca17a19b9124d20805807fdf56c5991": {
      "model_module": "@jupyter-widgets/base",
      "model_module_version": "1.2.0",
      "model_name": "LayoutModel",
      "state": {}
     },
     "2dab04fec7604ba8a85279c0f047f6c9": {
      "model_module": "@jupyter-widgets/base",
      "model_module_version": "1.2.0",
      "model_name": "LayoutModel",
      "state": {}
     },
     "2e8cb26f70334cc58df3f12109655625": {
      "model_module": "@jupyter-widgets/base",
      "model_module_version": "1.2.0",
      "model_name": "LayoutModel",
      "state": {}
     },
     "341087fabb234a46a56558951c4405e0": {
      "model_module": "@jupyter-widgets/controls",
      "model_module_version": "1.5.0",
      "model_name": "VBoxModel",
      "state": {
       "_dom_classes": [
        "widget-interact"
       ],
       "children": [
        "IPY_MODEL_1cad8f7177fa4f5ea8556673f1ae64bb",
        "IPY_MODEL_cb24cb8da58849448fc9a1b3534c36ee"
       ],
       "layout": "IPY_MODEL_0fd27e83b944482c80c54aa77199667d"
      }
     },
     "391cbe513c284d1f9b58b5cc5911e59f": {
      "model_module": "@jupyter-widgets/controls",
      "model_module_version": "1.5.0",
      "model_name": "VBoxModel",
      "state": {
       "_dom_classes": [
        "widget-interact"
       ],
       "children": [
        "IPY_MODEL_7868f8346fed48deb80e9d2bdd2079c1",
        "IPY_MODEL_e2b9ab564343429ab8341dd254170f21"
       ],
       "layout": "IPY_MODEL_a394688f1a5e48e48cc67d6c1678b6d2"
      }
     },
     "3a9e99243c064694bcd39e4ba956f0b3": {
      "model_module": "@jupyter-widgets/base",
      "model_module_version": "1.2.0",
      "model_name": "LayoutModel",
      "state": {}
     },
     "409e0a0f840e46edaaad6d5dcf3c364f": {
      "model_module": "@jupyter-widgets/base",
      "model_module_version": "1.2.0",
      "model_name": "LayoutModel",
      "state": {}
     },
     "4576df5e7e4045379a97beef7b67d006": {
      "model_module": "@jupyter-widgets/base",
      "model_module_version": "1.2.0",
      "model_name": "LayoutModel",
      "state": {}
     },
     "461ffd4d4fed477eb203b7f6a5411cfa": {
      "model_module": "@jupyter-widgets/controls",
      "model_module_version": "1.5.0",
      "model_name": "DescriptionStyleModel",
      "state": {
       "description_width": ""
      }
     },
     "463b011330ef4d3db35038c8a857f4b7": {
      "model_module": "@jupyter-widgets/base",
      "model_module_version": "1.2.0",
      "model_name": "LayoutModel",
      "state": {}
     },
     "4cf7782dc39e49ba887c15105601b0f2": {
      "model_module": "@jupyter-widgets/base",
      "model_module_version": "1.2.0",
      "model_name": "LayoutModel",
      "state": {}
     },
     "504bdc0b9d15434ca959c87df398ea35": {
      "model_module": "@jupyter-widgets/controls",
      "model_module_version": "1.5.0",
      "model_name": "SelectMultipleModel",
      "state": {
       "_options_labels": [
        "crc.csv",
        "BC.csv",
        "schools.csv",
        "bulk_hawker.csv",
        "trade_temple_other.csv",
        "gov.csv",
        "bc_blocks.csv",
        "condo_optin.csv",
        "landed.csv"
       ],
       "description": "Input file:",
       "index": [
        0,
        2,
        3,
        4,
        5,
        7,
        8
       ],
       "layout": "IPY_MODEL_463b011330ef4d3db35038c8a857f4b7",
       "rows": 9,
       "style": "IPY_MODEL_461ffd4d4fed477eb203b7f6a5411cfa"
      }
     },
     "50cb8b8f05ac47be8d3f2907f6d218c8": {
      "model_module": "@jupyter-widgets/controls",
      "model_module_version": "1.5.0",
      "model_name": "ButtonStyleModel",
      "state": {}
     },
     "53a536581bdd4742bf03f1d3d16e90f7": {
      "model_module": "@jupyter-widgets/output",
      "model_module_version": "1.0.0",
      "model_name": "OutputModel",
      "state": {
       "layout": "IPY_MODEL_a8ac7c7b928c4e48b24704fa5f841cfd"
      }
     },
     "58b7238f301f4d129545701570bb8116": {
      "model_module": "@jupyter-widgets/controls",
      "model_module_version": "1.5.0",
      "model_name": "ButtonStyleModel",
      "state": {}
     },
     "622b557735bb4486983f22987f257557": {
      "model_module": "@jupyter-widgets/base",
      "model_module_version": "1.2.0",
      "model_name": "LayoutModel",
      "state": {}
     },
     "677d23deb7274b0ca279dffdd2c7b91b": {
      "model_module": "@jupyter-widgets/controls",
      "model_module_version": "1.5.0",
      "model_name": "ButtonModel",
      "state": {
       "description": "Show map",
       "layout": "IPY_MODEL_f5da9e1175f24814a9ba6195fdcf3885",
       "style": "IPY_MODEL_cefa579cf05f44a88720211847e8e885"
      }
     },
     "67dac95bcd4a49a79503b1cee672774d": {
      "model_module": "@jupyter-widgets/output",
      "model_module_version": "1.0.0",
      "model_name": "OutputModel",
      "state": {
       "layout": "IPY_MODEL_f9dca610179d43ce8d843f264b73f9ab",
       "outputs": [
        {
         "data": {
          "text/html": "<div>\n<style scoped>\n    .dataframe tbody tr th:only-of-type {\n        vertical-align: middle;\n    }\n\n    .dataframe tbody tr th {\n        vertical-align: top;\n    }\n\n    .dataframe thead th {\n        text-align: right;\n    }\n</style>\n<table border=\"1\" class=\"dataframe\">\n  <thead>\n    <tr style=\"text-align: right;\">\n      <th></th>\n      <th>description</th>\n      <th>type</th>\n      <th>Postal Code</th>\n      <th>ADDRESS</th>\n    </tr>\n  </thead>\n  <tbody>\n    <tr>\n      <th>5</th>\n      <td>Senoko Incineration Plant</td>\n      <td>waste_treatment</td>\n      <td>759907</td>\n      <td>30 attap valley road senoko incineration plant...</td>\n    </tr>\n    <tr>\n      <th>6</th>\n      <td>Tuas South Incineration Plant</td>\n      <td>waste_treatment</td>\n      <td>637821</td>\n      <td>98 tuas south avenue 3 singapore 637821</td>\n    </tr>\n    <tr>\n      <th>7</th>\n      <td>KSTP</td>\n      <td>waste_treatment</td>\n      <td>637366</td>\n      <td>96 tuas south avenue 3 singapore 637366</td>\n    </tr>\n  </tbody>\n</table>\n</div>",
          "text/plain": "                     description             type Postal Code  \\\n5      Senoko Incineration Plant  waste_treatment      759907   \n6  Tuas South Incineration Plant  waste_treatment      637821   \n7                           KSTP  waste_treatment      637366   \n\n                                             ADDRESS  \n5  30 attap valley road senoko incineration plant...  \n6            98 tuas south avenue 3 singapore 637821  \n7            96 tuas south avenue 3 singapore 637366  "
         },
         "metadata": {},
         "output_type": "display_data"
        }
       ]
      }
     },
     "6985cb8ed2434a029b3d1484bfb9ee9e": {
      "model_module": "@jupyter-widgets/controls",
      "model_module_version": "1.5.0",
      "model_name": "ButtonModel",
      "state": {
       "description": "Show map",
       "layout": "IPY_MODEL_d3bf98105dd4441eab236f1909868aaa",
       "style": "IPY_MODEL_58b7238f301f4d129545701570bb8116"
      }
     },
     "6fe19f45c10841008377a88b858e60ae": {
      "model_module": "@jupyter-widgets/base",
      "model_module_version": "1.2.0",
      "model_name": "LayoutModel",
      "state": {}
     },
     "71cbeb9fa5264d32938c92313bab9fd1": {
      "model_module": "@jupyter-widgets/controls",
      "model_module_version": "1.5.0",
      "model_name": "DescriptionStyleModel",
      "state": {
       "description_width": ""
      }
     },
     "76b8bd3d9a634a00ab87cd5e943920de": {
      "model_module": "@jupyter-widgets/base",
      "model_module_version": "1.2.0",
      "model_name": "LayoutModel",
      "state": {}
     },
     "7868f8346fed48deb80e9d2bdd2079c1": {
      "model_module": "@jupyter-widgets/controls",
      "model_module_version": "1.5.0",
      "model_name": "SelectMultipleModel",
      "state": {
       "_options_labels": [
        "rel_refuse_producers_high_demand.csv",
        "landed_service_residential.csv",
        "crc.csv",
        "BC.csv",
        "schools.csv",
        "bc_hl_refuse_producers.csv",
        "bulk_hawker.csv",
        "trade_temple_other.csv",
        "rel_refuse_producers_high_demand_all.csv",
        "rel_refuse_producers.csv",
        "rel_refuse_producers_jurong_high_demand.csv",
        "crc_mac.csv",
        "rel_recycling.csv",
        "rel_refuse_producers_jurong_high_demand_all.csv",
        "rel_refuse_producers_all.csv",
        "gov.csv",
        "bc_blocks.csv",
        "bc_refuse_producers.csv",
        "condo_optin.csv",
        "BC 1.csv"
       ],
       "description": "Input file:",
       "index": [
        0
       ],
       "layout": "IPY_MODEL_a306063464004c9f809d51daae63a170",
       "rows": 20,
       "style": "IPY_MODEL_d8bd0d0ab09c4dfd8f367b3a3547cd62"
      }
     },
     "82c1874751ba4d1bacd9de3ae0198736": {
      "model_module": "@jupyter-widgets/controls",
      "model_module_version": "1.5.0",
      "model_name": "ButtonModel",
      "state": {
       "description": "Show map",
       "layout": "IPY_MODEL_4576df5e7e4045379a97beef7b67d006",
       "style": "IPY_MODEL_c39027e57b3449caa04d9514b056a62f"
      }
     },
     "8579420f34cd4bab9dc6ccb407c74f64": {
      "model_module": "@jupyter-widgets/base",
      "model_module_version": "1.2.0",
      "model_name": "LayoutModel",
      "state": {}
     },
     "8595d8412c9444fcb6f4fa81ac7035c9": {
      "model_module": "@jupyter-widgets/controls",
      "model_module_version": "1.5.0",
      "model_name": "DescriptionStyleModel",
      "state": {
       "description_width": ""
      }
     },
     "8a2526bf64414ec18caecb7c1bd29049": {
      "model_module": "@jupyter-widgets/controls",
      "model_module_version": "1.5.0",
      "model_name": "DropdownModel",
      "state": {
       "_options_labels": [
        "ALBA W&H Kranji depot",
        "ALBA W&H Tuas depot"
       ],
       "description": "Depot:",
       "index": 1,
       "layout": "IPY_MODEL_1d48adc2b5d24d679a6e20b970cdb56d",
       "style": "IPY_MODEL_8595d8412c9444fcb6f4fa81ac7035c9"
      }
     },
     "92cadf01be534fe3939334b47fc59051": {
      "model_module": "@jupyter-widgets/controls",
      "model_module_version": "1.5.0",
      "model_name": "SelectMultipleModel",
      "state": {
       "_options_labels": [
        "crc.csv",
        "BC.csv",
        "schools.csv",
        "bulk_hawker.csv",
        "trade_temple_other.csv",
        "gov.csv",
        "bc_blocks.csv",
        "condo_optin.csv",
        "landed.csv"
       ],
       "description": "Input file:",
       "index": [
        0,
        2,
        3,
        4,
        5,
        7,
        8
       ],
       "layout": "IPY_MODEL_98b5ee657958439db3b87ec40196ba8b",
       "rows": 9,
       "style": "IPY_MODEL_9f7ea770ec784fcfbbd20b540c04e0af"
      }
     },
     "9539799220fe4775970a4fcbce1875ef": {
      "model_module": "@jupyter-widgets/output",
      "model_module_version": "1.0.0",
      "model_name": "OutputModel",
      "state": {
       "layout": "IPY_MODEL_c763016bb5d1470ba6b950b9a3bf10ab",
       "outputs": [
        {
         "name": "stdout",
         "output_type": "stream",
         "text": "Index(['planning_area', 'Postal Code', 'block_number', 'street_name',\n       'building description', 'property_type', 'land_use',\n       'total_dwelling_units', 'total_people', 'parcel_area_m2',\n       ...\n       '240', '360', '660', 'MAX SIZE FOR GOMIC  INSTALLATION',\n       'collection_scheme', 'n_bins', 'geom_id', 'geom_id_inv',\n       'geom_id_order', 'arc_index'],\n      dtype='object', length=114)\n"
        },
        {
         "data": {
          "text/plain": "'Number of producers: 15815'"
         },
         "metadata": {},
         "output_type": "display_data"
        },
        {
         "name": "stdout",
         "output_type": "stream",
         "text": "Number of producers after removing large commercial land parcels: 15815\n"
        }
       ]
      }
     },
     "97944c3db4b945f48f6ae6a1cc134f3b": {
      "model_module": "@jupyter-widgets/base",
      "model_module_version": "1.2.0",
      "model_name": "LayoutModel",
      "state": {}
     },
     "98b5ee657958439db3b87ec40196ba8b": {
      "model_module": "@jupyter-widgets/base",
      "model_module_version": "1.2.0",
      "model_name": "LayoutModel",
      "state": {}
     },
     "9b16d05cc9424b998847a046339ae14d": {
      "model_module": "@jupyter-widgets/base",
      "model_module_version": "1.2.0",
      "model_name": "LayoutModel",
      "state": {}
     },
     "9f7ea770ec784fcfbbd20b540c04e0af": {
      "model_module": "@jupyter-widgets/controls",
      "model_module_version": "1.5.0",
      "model_name": "DescriptionStyleModel",
      "state": {
       "description_width": ""
      }
     },
     "a306063464004c9f809d51daae63a170": {
      "model_module": "@jupyter-widgets/base",
      "model_module_version": "1.2.0",
      "model_name": "LayoutModel",
      "state": {}
     },
     "a394688f1a5e48e48cc67d6c1678b6d2": {
      "model_module": "@jupyter-widgets/base",
      "model_module_version": "1.2.0",
      "model_name": "LayoutModel",
      "state": {}
     },
     "a777a6a433044c249364fc8baa4fe738": {
      "model_module": "@jupyter-widgets/controls",
      "model_module_version": "1.5.0",
      "model_name": "ButtonStyleModel",
      "state": {}
     },
     "a8ac7c7b928c4e48b24704fa5f841cfd": {
      "model_module": "@jupyter-widgets/base",
      "model_module_version": "1.2.0",
      "model_name": "LayoutModel",
      "state": {}
     },
     "ab329332d7cb4be990504e78d233b7ee": {
      "model_module": "@jupyter-widgets/controls",
      "model_module_version": "1.5.0",
      "model_name": "VBoxModel",
      "state": {
       "_dom_classes": [
        "widget-interact"
       ],
       "children": [
        "IPY_MODEL_92cadf01be534fe3939334b47fc59051",
        "IPY_MODEL_f24f6fd65aeb4e1a8545cdf34d8cfb96"
       ],
       "layout": "IPY_MODEL_d3fe956ee40d4960b0e10a334f6c169b"
      }
     },
     "adffeb3254b24b6eb78beb9c95fdd5e2": {
      "model_module": "@jupyter-widgets/base",
      "model_module_version": "1.2.0",
      "model_name": "LayoutModel",
      "state": {}
     },
     "b4e7121e00c84c409bf933d85c5be6a3": {
      "model_module": "@jupyter-widgets/controls",
      "model_module_version": "1.5.0",
      "model_name": "SelectMultipleModel",
      "state": {
       "_options_labels": [
        "ALBA W&H Kranji depot",
        "CTM MRF",
        "KSTP",
        "Senoko Incineration Plant",
        "Tuas Incineration Plant",
        "Tuas South Incineration Plant"
       ],
       "description": "Treatment:",
       "index": [
        2,
        3,
        5
       ],
       "layout": "IPY_MODEL_adffeb3254b24b6eb78beb9c95fdd5e2",
       "rows": 6,
       "style": "IPY_MODEL_16e6989affb846b0baf6204485ea672d"
      }
     },
     "b527e26e48164bdc985ba88bffde004e": {
      "model_module": "@jupyter-widgets/output",
      "model_module_version": "1.0.0",
      "model_name": "OutputModel",
      "state": {
       "layout": "IPY_MODEL_409e0a0f840e46edaaad6d5dcf3c364f"
      }
     },
     "bb3a7e29f39d40819d14ad4b03a195f0": {
      "model_module": "@jupyter-widgets/controls",
      "model_module_version": "1.5.0",
      "model_name": "ButtonModel",
      "state": {
       "description": "Load network",
       "layout": "IPY_MODEL_9b16d05cc9424b998847a046339ae14d",
       "style": "IPY_MODEL_0a6eac1142654a048ac05ee24867a21b"
      }
     },
     "c04bbd4f00b14316a6583d0c35b4c8bc": {
      "model_module": "@jupyter-widgets/output",
      "model_module_version": "1.0.0",
      "model_name": "OutputModel",
      "state": {
       "layout": "IPY_MODEL_2ca17a19b9124d20805807fdf56c5991"
      }
     },
     "c39027e57b3449caa04d9514b056a62f": {
      "model_module": "@jupyter-widgets/controls",
      "model_module_version": "1.5.0",
      "model_name": "ButtonStyleModel",
      "state": {}
     },
     "c763016bb5d1470ba6b950b9a3bf10ab": {
      "model_module": "@jupyter-widgets/base",
      "model_module_version": "1.2.0",
      "model_name": "LayoutModel",
      "state": {}
     },
     "cb24cb8da58849448fc9a1b3534c36ee": {
      "model_module": "@jupyter-widgets/output",
      "model_module_version": "1.0.0",
      "model_name": "OutputModel",
      "state": {
       "layout": "IPY_MODEL_f2e3e7a43fa24f83ad27435fe4e996f4",
       "outputs": [
        {
         "data": {
          "text/plain": "'Producers in area: 16057'"
         },
         "metadata": {},
         "output_type": "display_data"
        }
       ]
      }
     },
     "cbfc44c6474645e2b7f934f011d88b00": {
      "model_module": "@jupyter-widgets/controls",
      "model_module_version": "1.5.0",
      "model_name": "ButtonModel",
      "state": {
       "description": "Show map",
       "layout": "IPY_MODEL_f69c2c02ef3f4e78897fd8d53c0cbc9e",
       "style": "IPY_MODEL_a777a6a433044c249364fc8baa4fe738"
      }
     },
     "cefa579cf05f44a88720211847e8e885": {
      "model_module": "@jupyter-widgets/controls",
      "model_module_version": "1.5.0",
      "model_name": "ButtonStyleModel",
      "state": {}
     },
     "d3bf98105dd4441eab236f1909868aaa": {
      "model_module": "@jupyter-widgets/base",
      "model_module_version": "1.2.0",
      "model_name": "LayoutModel",
      "state": {}
     },
     "d3fe956ee40d4960b0e10a334f6c169b": {
      "model_module": "@jupyter-widgets/base",
      "model_module_version": "1.2.0",
      "model_name": "LayoutModel",
      "state": {}
     },
     "d8bd0d0ab09c4dfd8f367b3a3547cd62": {
      "model_module": "@jupyter-widgets/controls",
      "model_module_version": "1.5.0",
      "model_name": "DescriptionStyleModel",
      "state": {
       "description_width": ""
      }
     },
     "e0103eff14ce4eb08422d3be9dfa040a": {
      "model_module": "@jupyter-widgets/base",
      "model_module_version": "1.2.0",
      "model_name": "LayoutModel",
      "state": {}
     },
     "e2b9ab564343429ab8341dd254170f21": {
      "model_module": "@jupyter-widgets/output",
      "model_module_version": "1.0.0",
      "model_name": "OutputModel",
      "state": {
       "layout": "IPY_MODEL_6fe19f45c10841008377a88b858e60ae",
       "outputs": [
        {
         "name": "stderr",
         "output_type": "stream",
         "text": "/Users/ejwillemse/opt/anaconda3/envs/waste_labs_examples/lib/python3.8/site-packages/ipywidgets/widgets/widget.py:186: DtypeWarning:\n\nColumns (49,50,53,54,55,56,57,58,59,61,65,68,69,71,72,73,74,75,76,78,79,81,82,91,96,98,101,108) have mixed types.Specify dtype option on import or set low_memory=False.\n\n"
        },
        {
         "data": {
          "text/plain": "'Producers in area: 15815'"
         },
         "metadata": {},
         "output_type": "display_data"
        }
       ]
      }
     },
     "e5ad76e6681a45559e122c3ec1947a3a": {
      "model_module": "@jupyter-widgets/output",
      "model_module_version": "1.0.0",
      "model_name": "OutputModel",
      "state": {
       "layout": "IPY_MODEL_3a9e99243c064694bcd39e4ba956f0b3"
      }
     },
     "e6b6d946d1ed4fb682d736c5c3897f93": {
      "model_module": "@jupyter-widgets/controls",
      "model_module_version": "1.5.0",
      "model_name": "SelectMultipleModel",
      "state": {
       "_options_labels": [
        "ALL",
        "CRC",
        "Condo opt-in",
        "Government",
        "Schools",
        "bulk_bins",
        "commercial",
        "commercial & residential",
        "hawker_markets",
        "landed_properties",
        "place of worship",
        "residential with commercial at 1st storey"
       ],
       "description": "Producer:",
       "index": [
        0
       ],
       "layout": "IPY_MODEL_1bb42f3182c04b58bc692d0f4742bc2d",
       "rows": 12,
       "style": "IPY_MODEL_05d2e6be818a4a2f9c76407f8e1eb5ec"
      }
     },
     "ed8a2664faf54e67bd051ee539c40994": {
      "model_module": "@jupyter-widgets/base",
      "model_module_version": "1.2.0",
      "model_name": "LayoutModel",
      "state": {}
     },
     "ee45ce3fa54e49e892ced31c4d656152": {
      "model_module": "@jupyter-widgets/controls",
      "model_module_version": "1.5.0",
      "model_name": "ButtonModel",
      "state": {
       "description": "Show map",
       "layout": "IPY_MODEL_2dab04fec7604ba8a85279c0f047f6c9",
       "style": "IPY_MODEL_50cb8b8f05ac47be8d3f2907f6d218c8"
      }
     },
     "f04ece8682a845b4a8d3d3cdda4a0ff9": {
      "model_module": "@jupyter-widgets/controls",
      "model_module_version": "1.5.0",
      "model_name": "VBoxModel",
      "state": {
       "_dom_classes": [
        "widget-interact"
       ],
       "children": [
        "IPY_MODEL_8a2526bf64414ec18caecb7c1bd29049",
        "IPY_MODEL_182ddfca166843ae87b1cac941d1269b"
       ],
       "layout": "IPY_MODEL_76b8bd3d9a634a00ab87cd5e943920de"
      }
     },
     "f24f6fd65aeb4e1a8545cdf34d8cfb96": {
      "model_module": "@jupyter-widgets/output",
      "model_module_version": "1.0.0",
      "model_name": "OutputModel",
      "state": {
       "layout": "IPY_MODEL_ed8a2664faf54e67bd051ee539c40994",
       "outputs": [
        {
         "data": {
          "text/plain": "'Producers in area: 16057'"
         },
         "metadata": {},
         "output_type": "display_data"
        }
       ]
      }
     },
     "f2e3e7a43fa24f83ad27435fe4e996f4": {
      "model_module": "@jupyter-widgets/base",
      "model_module_version": "1.2.0",
      "model_name": "LayoutModel",
      "state": {}
     },
     "f5da9e1175f24814a9ba6195fdcf3885": {
      "model_module": "@jupyter-widgets/base",
      "model_module_version": "1.2.0",
      "model_name": "LayoutModel",
      "state": {}
     },
     "f69c2c02ef3f4e78897fd8d53c0cbc9e": {
      "model_module": "@jupyter-widgets/base",
      "model_module_version": "1.2.0",
      "model_name": "LayoutModel",
      "state": {}
     },
     "f9dca610179d43ce8d843f264b73f9ab": {
      "model_module": "@jupyter-widgets/base",
      "model_module_version": "1.2.0",
      "model_name": "LayoutModel",
      "state": {}
     }
    },
    "version_major": 2,
    "version_minor": 0
   }
  }
 },
 "nbformat": 4,
 "nbformat_minor": 4
}
