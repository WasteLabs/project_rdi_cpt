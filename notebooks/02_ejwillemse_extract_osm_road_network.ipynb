{
 "cells": [
  {
   "cell_type": "markdown",
   "metadata": {},
   "source": [
    "# Extract OSM road-network detailed\n",
    "\n",
    "Code for extracting and storing the simplified and detailed OSM road-network.\n",
    "\n",
    "Process is load from OSMN, convert to data-frames, remove non-highway entities, store results as geojson.\n",
    "\n",
    "Results can then be combined back into Networkx graph."
   ]
  },
  {
   "cell_type": "code",
   "execution_count": 41,
   "metadata": {},
   "outputs": [
    {
     "name": "stdout",
     "output_type": "stream",
     "text": [
      "2022-04-05 13:46:30,531 - kedro.framework.session.store - INFO - `read()` not implemented for `BaseSessionStore`. Assuming empty store.\n",
      "2022-04-05 13:46:30,619 - root - INFO - ** Kedro project Demand estimation and waste collection routing optimisation for the City of Cape Town\n",
      "2022-04-05 13:46:30,620 - root - INFO - Defined global variable `context`, `session` and `catalog`\n",
      "2022-04-05 13:46:30,629 - root - INFO - Registered line magic `run_viz`\n",
      "The autoreload extension is already loaded. To reload it, use:\n",
      "  %reload_ext autoreload\n"
     ]
    }
   ],
   "source": [
    "%reload_kedro\n",
    "%load_ext autoreload\n",
    "%autoreload 2\n",
    "%config IPCompleter.use_jedi = False\n",
    "import geopandas as gpd\n",
    "import networkx as nx\n",
    "import osmnx as ox\n",
    "import pandas as pd\n",
    "\n",
    "from utils.process_gdf import process_edges"
   ]
  },
  {
   "cell_type": "markdown",
   "metadata": {},
   "source": [
    "## Load Cape Town sample road-network"
   ]
  },
  {
   "cell_type": "markdown",
   "metadata": {},
   "source": [
    "The following custom filter works for Singapore, given that its road network is quite porous. \n",
    "\n",
    "It seems to return non-highway boundaries and entities, which is a problem.\n",
    "\n",
    "A subsample of the full network is loaded for test purposes:"
   ]
  },
  {
   "cell_type": "code",
   "execution_count": 42,
   "metadata": {},
   "outputs": [],
   "source": [
    "city = \"City of Cape Town\""
   ]
  },
  {
   "cell_type": "code",
   "execution_count": 43,
   "metadata": {},
   "outputs": [],
   "source": [
    "drive_service_all = '[\"area\"!~\"yes\"][\"highway\"!~\"cycleway|footway|path|pedestrian|steps|track|corridor|elevator|escalator|proposed|construction|bridleway|abandoned|platform|raceway\"][\"motor_vehicle\"!~\"no\"][\"motorcar\"!~\"no\"]'\n",
    "exclude_emergency_services = '[\"service\"!~\"emergency_access\"]'\n",
    "exclude_custom_services = (\n",
    "    '[\"access\"!~\"private\"][\"service\"!~\"parking|parking_aisle|private|emergency_access\"]'\n",
    ")\n",
    "exclude_parking_private_emergency = (\n",
    "    '[\"access\"!~\"private\"][\"service\"!~\"parking|private|emergency_access\"]'\n",
    ")\n",
    "exclude_private = '[\"access\"!~\"private\"][\"service\"!~\"private\"]'\n",
    "custom_filter = drive_service_all + exclude_emergency_services"
   ]
  },
  {
   "cell_type": "markdown",
   "metadata": {},
   "source": [
    "It relies too much on `[\"motor_vehicle\"!~\"no\"][\"motorcar\"!~\"no\"]`. Easiest way to filter roads seem to be to use high-way."
   ]
  },
  {
   "cell_type": "code",
   "execution_count": 44,
   "metadata": {},
   "outputs": [
    {
     "data": {
      "text/plain": [
       "'[\"area\"!~\"yes\"][\"highway\"!~\"cycleway|footway|path|pedestrian|steps|track|corridor|elevator|escalator|proposed|construction|bridleway|abandoned|platform|raceway\"][\"motor_vehicle\"!~\"no\"][\"motorcar\"!~\"no\"][\"service\"!~\"emergency_access\"]'"
      ]
     },
     "execution_count": 44,
     "metadata": {},
     "output_type": "execute_result"
    }
   ],
   "source": [
    "custom_filter"
   ]
  },
  {
   "cell_type": "code",
   "execution_count": 45,
   "metadata": {},
   "outputs": [
    {
     "name": "stdout",
     "output_type": "stream",
     "text": [
      "2022-04-05 13:46:31,862 - kedro.io.data_catalog - INFO - Loading data from `gap_zones` (GeoJSONDataSet)...\n"
     ]
    }
   ],
   "source": [
    "gap_zones = catalog.load(\"gap_zones\")\n",
    "gap_zones_sample = gap_zones.loc[gap_zones[\"OBJECTID\"].isin([24645])]\n",
    "geometry = gap_zones_sample.geometry.values[0]"
   ]
  },
  {
   "cell_type": "code",
   "execution_count": 46,
   "metadata": {},
   "outputs": [
    {
     "name": "stdout",
     "output_type": "stream",
     "text": [
      "CPU times: user 17.4 s, sys: 319 ms, total: 17.8 s\n",
      "Wall time: 18.1 s\n"
     ]
    }
   ],
   "source": [
    "%%time\n",
    "G_full = ox.graph_from_polygon(geometry, custom_filter=custom_filter, simplify=False)"
   ]
  },
  {
   "cell_type": "markdown",
   "metadata": {
    "tags": []
   },
   "source": [
    "### Write files"
   ]
  },
  {
   "cell_type": "code",
   "execution_count": 47,
   "metadata": {},
   "outputs": [
    {
     "name": "stdout",
     "output_type": "stream",
     "text": [
      "2022-04-05 13:46:50,125 - kedro.io.data_catalog - INFO - Saving data to `road_network_full_24645` (NetworkXDataSet)...\n"
     ]
    }
   ],
   "source": [
    "catalog.save(\"road_network_full_24645\", G_full)"
   ]
  },
  {
   "cell_type": "markdown",
   "metadata": {},
   "source": [
    "## Unpack road elements"
   ]
  },
  {
   "cell_type": "code",
   "execution_count": 48,
   "metadata": {},
   "outputs": [
    {
     "name": "stdout",
     "output_type": "stream",
     "text": [
      "2022-04-05 13:46:52,465 - kedro.io.data_catalog - INFO - Loading data from `road_network_full_24645` (NetworkXDataSet)...\n"
     ]
    }
   ],
   "source": [
    "G_full = catalog.load(\"road_network_full_24645\")\n",
    "node_list_full, edge_list_full = ox.graph_to_gdfs(G_full)\n",
    "node_list_full = node_list_full.reset_index()\n",
    "edge_list_full = edge_list_full.reset_index()\n",
    "node_list_full_xy = node_list_full.to_crs(\"EPSG:3414\").reset_index()\n",
    "edge_list_full_xy = edge_list_full.to_crs(\"EPSG:3414\").reset_index()"
   ]
  },
  {
   "cell_type": "code",
   "execution_count": 49,
   "metadata": {},
   "outputs": [],
   "source": [
    "node_list_full[\"index\"] = node_list_full[\"osmid\"]\n",
    "node_list_full_xy[\"index\"] = node_list_full_xy[\"osmid\"]"
   ]
  },
  {
   "cell_type": "markdown",
   "metadata": {},
   "source": [
    "Remove non-highway tags:"
   ]
  },
  {
   "cell_type": "code",
   "execution_count": 50,
   "metadata": {},
   "outputs": [
    {
     "name": "stdout",
     "output_type": "stream",
     "text": [
      "BEFORE: (33698, 8) (67687, 19)\n",
      "AFTER: (26012, 9) (48947, 19)\n",
      "BEFORE: (33698, 8) (67687, 20)\n",
      "AFTER: (26012, 9) (48947, 20)\n"
     ]
    }
   ],
   "source": [
    "def filter_highway(nodes, edges):\n",
    "    print(\"BEFORE:\", nodes.shape, edges.shape)\n",
    "    edges = edges.copy()\n",
    "    nodes = nodes.copy()\n",
    "    nodes[\"u\"] = nodes[\"index\"]\n",
    "    edges = edges.loc[~edges[\"highway\"].isna()]\n",
    "    nodes = nodes.loc[(nodes[\"u\"].isin(edges[\"u\"])) | (nodes[\"u\"].isin(edges[\"v\"]))]\n",
    "    print(\"AFTER:\", nodes.shape, edges.shape)\n",
    "    return nodes, edges\n",
    "\n",
    "\n",
    "nodes_list_full, edges_list_full = filter_highway(node_list_full, edge_list_full)\n",
    "node_list_full_xy, edge_list_full_xy = filter_highway(\n",
    "    node_list_full_xy, edge_list_full_xy\n",
    ")"
   ]
  },
  {
   "cell_type": "markdown",
   "metadata": {},
   "source": [
    "### Write files"
   ]
  },
  {
   "cell_type": "code",
   "execution_count": 51,
   "metadata": {},
   "outputs": [
    {
     "name": "stdout",
     "output_type": "stream",
     "text": [
      "2022-04-05 13:47:03,326 - kedro.framework.session.store - INFO - `read()` not implemented for `BaseSessionStore`. Assuming empty store.\n",
      "2022-04-05 13:47:03,423 - root - INFO - ** Kedro project Demand estimation and waste collection routing optimisation for the City of Cape Town\n",
      "2022-04-05 13:47:03,425 - root - INFO - Defined global variable `context`, `session` and `catalog`\n",
      "2022-04-05 13:47:03,434 - root - INFO - Registered line magic `run_viz`\n",
      "2022-04-05 13:47:03,436 - kedro.io.data_catalog - INFO - Saving data to `road_network_full_24645_nodes` (GeoJSONDataSet)...\n",
      "2022-04-05 13:47:06,364 - kedro.io.data_catalog - INFO - Saving data to `road_network_full_24645_edges` (GeoJSONDataSet)...\n",
      "2022-04-05 13:47:18,175 - kedro.io.data_catalog - INFO - Saving data to `road_network_full_24645_nodes_xy` (GeoJSONDataSet)...\n",
      "2022-04-05 13:47:20,488 - kedro.io.data_catalog - INFO - Saving data to `road_network_full_24645_edges_xy` (GeoJSONDataSet)...\n"
     ]
    }
   ],
   "source": [
    "%reload_kedro\n",
    "catalog.save(\"road_network_full_24645_nodes\", node_list_full)\n",
    "catalog.save(\"road_network_full_24645_edges\", edge_list_full)\n",
    "catalog.save(\"road_network_full_24645_nodes_xy\", node_list_full_xy)\n",
    "catalog.save(\"road_network_full_24645_edges_xy\", edge_list_full_xy)"
   ]
  },
  {
   "cell_type": "markdown",
   "metadata": {},
   "source": [
    "## Load and save simplified road network"
   ]
  },
  {
   "cell_type": "code",
   "execution_count": 52,
   "metadata": {},
   "outputs": [
    {
     "name": "stdout",
     "output_type": "stream",
     "text": [
      "CPU times: user 14.8 s, sys: 208 ms, total: 15 s\n",
      "Wall time: 15.2 s\n"
     ]
    }
   ],
   "source": [
    "%%time\n",
    "G_simplified = ox.graph_from_polygon(\n",
    "    geometry, custom_filter=custom_filter, simplify=True\n",
    ")"
   ]
  },
  {
   "cell_type": "markdown",
   "metadata": {},
   "source": [
    "### Write file"
   ]
  },
  {
   "cell_type": "code",
   "execution_count": 53,
   "metadata": {},
   "outputs": [
    {
     "name": "stdout",
     "output_type": "stream",
     "text": [
      "2022-04-05 13:47:44,684 - kedro.framework.session.store - INFO - `read()` not implemented for `BaseSessionStore`. Assuming empty store.\n",
      "2022-04-05 13:47:44,794 - root - INFO - ** Kedro project Demand estimation and waste collection routing optimisation for the City of Cape Town\n",
      "2022-04-05 13:47:44,796 - root - INFO - Defined global variable `context`, `session` and `catalog`\n",
      "2022-04-05 13:47:44,805 - root - INFO - Registered line magic `run_viz`\n"
     ]
    }
   ],
   "source": [
    "%reload_kedro\n",
    "# catalog.save(\"road_network_simplified_24645\", G_simplified)\n",
    "# DataSetError: Failed while saving data to data set NetworkXDataSet(filepath=/Users/ejwillemse/dev/waste_labs_dev/project_rdi_cpt/data/02_intermediate/road_network/road_network_simplified_24645.json, load_args={}, protocol=file, save_args={}).\n",
    "# Object of type LineString is not JSON serializable"
   ]
  },
  {
   "cell_type": "code",
   "execution_count": 54,
   "metadata": {},
   "outputs": [],
   "source": [
    "node_list, edge_list = ox.graph_to_gdfs(G_simplified)\n",
    "node_list = node_list.reset_index()\n",
    "edge_list = edge_list.reset_index()\n",
    "node_list_xy = node_list.to_crs(\"EPSG:3414\")\n",
    "edge_list_xy = edge_list.to_crs(\"EPSG:3414\")"
   ]
  },
  {
   "cell_type": "code",
   "execution_count": 55,
   "metadata": {},
   "outputs": [],
   "source": [
    "node_list[\"index\"] = node_list[\"osmid\"]\n",
    "node_list_xy[\"index\"] = node_list_xy[\"osmid\"]"
   ]
  },
  {
   "cell_type": "code",
   "execution_count": 56,
   "metadata": {},
   "outputs": [
    {
     "name": "stdout",
     "output_type": "stream",
     "text": [
      "BEFORE: (8145, 8) (22189, 19)\n",
      "AFTER: (7093, 9) (16777, 19)\n",
      "BEFORE: (8145, 8) (22189, 19)\n",
      "AFTER: (7093, 9) (16777, 19)\n"
     ]
    }
   ],
   "source": [
    "nodes_list_full, edges_list_full = filter_highway(node_list, edge_list)\n",
    "node_list_full_xy, edge_list_full_xy = filter_highway(node_list_xy, edge_list_xy)"
   ]
  },
  {
   "cell_type": "code",
   "execution_count": 57,
   "metadata": {},
   "outputs": [
    {
     "data": {
      "text/plain": [
       "<AxesSubplot:>"
      ]
     },
     "execution_count": 57,
     "metadata": {},
     "output_type": "execute_result"
    },
    {
     "data": {
      "image/png": "[encoded data removed]",
      "text/plain": [
       "<Figure size 432x288 with 1 Axes>"
      ]
     },
     "metadata": {
      "needs_background": "light"
     },
     "output_type": "display_data"
    }
   ],
   "source": [
    "node_list.plot()"
   ]
  },
  {
   "cell_type": "code",
   "execution_count": 58,
   "metadata": {},
   "outputs": [
    {
     "data": {
      "text/plain": [
       "<AxesSubplot:>"
      ]
     },
     "execution_count": 58,
     "metadata": {},
     "output_type": "execute_result"
    },
    {
     "data": {
      "image/png": "[encoded data removed]",
      "text/plain": [
       "<Figure size 432x288 with 1 Axes>"
      ]
     },
     "metadata": {
      "needs_background": "light"
     },
     "output_type": "display_data"
    }
   ],
   "source": [
    "edge_list.plot()"
   ]
  },
  {
   "cell_type": "code",
   "execution_count": 59,
   "metadata": {},
   "outputs": [],
   "source": [
    "for c in edge_list.columns:\n",
    "    edge_list[c] =  edge_list[c].apply(lambda x: \",\".join([str(y) for y in x]) if type(x) == list else x)"
   ]
  },
  {
   "cell_type": "code",
   "execution_count": 60,
   "metadata": {},
   "outputs": [],
   "source": [
    "for c in edge_list_xy.columns:\n",
    "    edge_list_xy[c] =  edge_list_xy[c].apply(lambda x: \",\".join([str(y) for y in x]) if type(x) == list else x)"
   ]
  },
  {
   "cell_type": "markdown",
   "metadata": {},
   "source": [
    "## Write files"
   ]
  },
  {
   "cell_type": "code",
   "execution_count": 61,
   "metadata": {},
   "outputs": [
    {
     "name": "stdout",
     "output_type": "stream",
     "text": [
      "2022-04-05 13:47:52,577 - kedro.framework.session.store - INFO - `read()` not implemented for `BaseSessionStore`. Assuming empty store.\n",
      "2022-04-05 13:47:52,675 - root - INFO - ** Kedro project Demand estimation and waste collection routing optimisation for the City of Cape Town\n",
      "2022-04-05 13:47:52,676 - root - INFO - Defined global variable `context`, `session` and `catalog`\n",
      "2022-04-05 13:47:52,685 - root - INFO - Registered line magic `run_viz`\n",
      "2022-04-05 13:47:52,687 - kedro.io.data_catalog - INFO - Saving data to `road_network_simplified_24645_nodes` (GeoJSONDataSet)...\n",
      "2022-04-05 13:47:53,345 - kedro.io.data_catalog - INFO - Saving data to `road_network_simplified_24645_edges` (GeoJSONDataSet)...\n",
      "2022-04-05 13:47:57,009 - kedro.io.data_catalog - INFO - Saving data to `road_network_simplified_24645_nodes_xy` (GeoJSONDataSet)...\n",
      "2022-04-05 13:47:57,672 - kedro.io.data_catalog - INFO - Saving data to `road_network_simplified_24645_edges_xy` (GeoJSONDataSet)...\n"
     ]
    }
   ],
   "source": [
    "%reload_kedro\n",
    "catalog.save(\"road_network_simplified_24645_nodes\", node_list)\n",
    "catalog.save(\"road_network_simplified_24645_edges\", edge_list)\n",
    "catalog.save(\"road_network_simplified_24645_nodes_xy\", node_list_xy)\n",
    "catalog.save(\"road_network_simplified_24645_edges_xy\", edge_list_xy)"
   ]
  },
  {
   "cell_type": "markdown",
   "metadata": {},
   "source": [
    "## Save simplified directed edge list\n",
    "\n",
    "\n",
    "Requires external libraries:"
   ]
  },
  {
   "cell_type": "code",
   "execution_count": 62,
   "metadata": {},
   "outputs": [
    {
     "data": {
      "text/plain": [
       "(11173, 23)"
      ]
     },
     "execution_count": 62,
     "metadata": {},
     "output_type": "execute_result"
    }
   ],
   "source": [
    "edge_list_xy_direct = process_edges(edge_list_xy)\n",
    "edge_list_xy_direct = edge_list_xy_direct.drop_duplicates([\"geom_id_order\"])\n",
    "edge_list_xy_direct.shape"
   ]
  },
  {
   "cell_type": "code",
   "execution_count": 63,
   "metadata": {},
   "outputs": [
    {
     "data": {
      "text/plain": [
       "(22189, 19)"
      ]
     },
     "execution_count": 63,
     "metadata": {},
     "output_type": "execute_result"
    }
   ],
   "source": [
    "edge_list.shape"
   ]
  },
  {
   "cell_type": "code",
   "execution_count": 64,
   "metadata": {},
   "outputs": [
    {
     "data": {
      "text/plain": [
       "(11173, 23)"
      ]
     },
     "execution_count": 64,
     "metadata": {},
     "output_type": "execute_result"
    }
   ],
   "source": [
    "edge_list_direct = process_edges(edge_list)\n",
    "edge_list_direct = edge_list_direct.drop_duplicates([\"geom_id_order\"])\n",
    "edge_list_direct.shape"
   ]
  },
  {
   "cell_type": "markdown",
   "metadata": {},
   "source": [
    "### Write file"
   ]
  },
  {
   "cell_type": "code",
   "execution_count": 65,
   "metadata": {},
   "outputs": [
    {
     "name": "stdout",
     "output_type": "stream",
     "text": [
      "2022-04-05 13:48:03,601 - kedro.framework.session.store - INFO - `read()` not implemented for `BaseSessionStore`. Assuming empty store.\n",
      "2022-04-05 13:48:03,704 - root - INFO - ** Kedro project Demand estimation and waste collection routing optimisation for the City of Cape Town\n",
      "2022-04-05 13:48:03,706 - root - INFO - Defined global variable `context`, `session` and `catalog`\n",
      "2022-04-05 13:48:03,717 - root - INFO - Registered line magic `run_viz`\n",
      "2022-04-05 13:48:03,718 - kedro.io.data_catalog - INFO - Saving data to `road_network_simplified_24645_edges_directed` (CSVDataSet)...\n",
      "2022-04-05 13:48:04,054 - kedro.io.data_catalog - INFO - Saving data to `road_network_simplified_24645_edges_xy_directed` (CSVDataSet)...\n"
     ]
    }
   ],
   "source": [
    "%reload_kedro\n",
    "catalog.save(\"road_network_simplified_24645_edges_directed\", edge_list_direct)\n",
    "catalog.save(\"road_network_simplified_24645_edges_xy_directed\", edge_list_xy_direct)"
   ]
  },
  {
   "cell_type": "markdown",
   "metadata": {},
   "source": [
    "## ANNEX: Future code for converting back into Graph"
   ]
  },
  {
   "cell_type": "code",
   "execution_count": null,
   "metadata": {},
   "outputs": [],
   "source": [
    "node_list_full = gpd.GeoDataFrame(node_list_full, geometry=\"geometry\", crs=\"EPSG:4326\")\n",
    "node_list_full = node_list_full.set_index(\"index\")\n",
    "edge_list_full = gpd.GeoDataFrame(edge_list_full, geometry=\"geometry\", crs=\"EPSG:4326\")\n",
    "\n",
    "edge_list_full = edge_list_full.set_index([\"u\", \"v\", \"key\"])\n",
    "\n",
    "G_full_red = ox.graph_from_gdfs(\n",
    "    node_list_full,\n",
    "    edge_list_full,\n",
    ")"
   ]
  },
  {
   "cell_type": "code",
   "execution_count": null,
   "metadata": {},
   "outputs": [],
   "source": [
    "len([node for node in G_full_red.nodes if type(node) is not dict])"
   ]
  }
 ],
 "metadata": {
  "kernelspec": {
   "display_name": "DemandestimationandwastecollectionroutingoptimisationfortheCityofCapeTown",
   "language": "python",
   "name": "python3"
  },
  "language_info": {
   "codemirror_mode": {
    "name": "ipython",
    "version": 3
   },
   "file_extension": ".py",
   "mimetype": "text/x-python",
   "name": "python",
   "nbconvert_exporter": "python",
   "pygments_lexer": "ipython3",
   "version": "3.8.12"
  }
 },
 "nbformat": 4,
 "nbformat_minor": 4
}
