{
 "cells": [
  {
   "cell_type": "markdown",
   "metadata": {},
   "source": [
    "# Extract OSM road-network detailed\n",
    "\n",
    "Code for extracting and storing the simplified and detailed OSM road-network.\n",
    "\n",
    "Process is load from OSMN, convert to data-frames, remove non-highway entities, store results as geojson.\n",
    "\n",
    "Results can then be combined back into Networkx graph."
   ]
  },
  {
   "cell_type": "code",
   "execution_count": 145,
   "metadata": {},
   "outputs": [
    {
     "name": "stdout",
     "output_type": "stream",
     "text": [
      "2022-04-05 00:10:45,334 - kedro.framework.session.store - INFO - `read()` not implemented for `BaseSessionStore`. Assuming empty store.\n",
      "2022-04-05 00:10:45,444 - root - INFO - ** Kedro project Demand estimation and waste collection routing optimisation for the City of Cape Town\n",
      "2022-04-05 00:10:45,445 - root - INFO - Defined global variable `context`, `session` and `catalog`\n",
      "2022-04-05 00:10:45,454 - root - INFO - Registered line magic `run_viz`\n"
     ]
    }
   ],
   "source": [
    "%reload_kedro\n",
    "%config IPCompleter.use_jedi = False\n",
    "import geopandas as gpd\n",
    "import networkx as nx\n",
    "import osmnx as ox\n",
    "import pandas as pd\n",
    "\n",
    "from utils.process_gdf import process_edges"
   ]
  },
  {
   "cell_type": "markdown",
   "metadata": {},
   "source": [
    "## Load Cape Town sample road-network"
   ]
  },
  {
   "cell_type": "markdown",
   "metadata": {},
   "source": [
    "The following custom filter works for Singapore, given that its road network is quite porous. \n",
    "\n",
    "It seems to return non-highway boundaries and entities, which is a problem.\n",
    "\n",
    "A subsample of the full network is loaded for test purposes:"
   ]
  },
  {
   "cell_type": "code",
   "execution_count": 128,
   "metadata": {},
   "outputs": [],
   "source": [
    "city = \"City of Cape Town\""
   ]
  },
  {
   "cell_type": "code",
   "execution_count": 129,
   "metadata": {},
   "outputs": [],
   "source": [
    "drive_service_all = '[\"area\"!~\"yes\"][\"highway\"!~\"cycleway|footway|path|pedestrian|steps|track|corridor|elevator|escalator|proposed|construction|bridleway|abandoned|platform|raceway\"][\"motor_vehicle\"!~\"no\"][\"motorcar\"!~\"no\"]'\n",
    "exclude_emergency_services = '[\"service\"!~\"emergency_access\"]'\n",
    "exclude_custom_services = (\n",
    "    '[\"access\"!~\"private\"][\"service\"!~\"parking|parking_aisle|private|emergency_access\"]'\n",
    ")\n",
    "exclude_parking_private_emergency = (\n",
    "    '[\"access\"!~\"private\"][\"service\"!~\"parking|private|emergency_access\"]'\n",
    ")\n",
    "exclude_private = '[\"access\"!~\"private\"][\"service\"!~\"private\"]'\n",
    "custom_filter = drive_service_all + exclude_emergency_services"
   ]
  },
  {
   "cell_type": "markdown",
   "metadata": {},
   "source": [
    "It relies too much on `[\"motor_vehicle\"!~\"no\"][\"motorcar\"!~\"no\"]`. Easiest way to filter roads seem to be to use high-way."
   ]
  },
  {
   "cell_type": "code",
   "execution_count": 130,
   "metadata": {},
   "outputs": [
    {
     "data": {
      "text/plain": [
       "'[\"area\"!~\"yes\"][\"highway\"!~\"cycleway|footway|path|pedestrian|steps|track|corridor|elevator|escalator|proposed|construction|bridleway|abandoned|platform|raceway\"][\"motor_vehicle\"!~\"no\"][\"motorcar\"!~\"no\"][\"service\"!~\"emergency_access\"]'"
      ]
     },
     "execution_count": 130,
     "metadata": {},
     "output_type": "execute_result"
    }
   ],
   "source": [
    "custom_filter"
   ]
  },
  {
   "cell_type": "code",
   "execution_count": 131,
   "metadata": {},
   "outputs": [
    {
     "name": "stdout",
     "output_type": "stream",
     "text": [
      "2022-04-04 23:49:14,257 - kedro.io.data_catalog - INFO - Loading data from `gap_zones` (GeoJSONDataSet)...\n"
     ]
    }
   ],
   "source": [
    "gap_zones = catalog.load(\"gap_zones\")\n",
    "gap_zones_sample = gap_zones.loc[gap_zones[\"OBJECTID\"].isin([24645])]\n",
    "geometry = gap_zones_sample.geometry.values[0]"
   ]
  },
  {
   "cell_type": "code",
   "execution_count": 132,
   "metadata": {},
   "outputs": [
    {
     "name": "stdout",
     "output_type": "stream",
     "text": [
      "CPU times: user 16.2 s, sys: 258 ms, total: 16.4 s\n",
      "Wall time: 16.6 s\n"
     ]
    }
   ],
   "source": [
    "%%time\n",
    "G_full = ox.graph_from_polygon(geometry, custom_filter=custom_filter, simplify=False)"
   ]
  },
  {
   "cell_type": "markdown",
   "metadata": {
    "tags": []
   },
   "source": [
    "### Write files"
   ]
  },
  {
   "cell_type": "code",
   "execution_count": 133,
   "metadata": {},
   "outputs": [
    {
     "name": "stdout",
     "output_type": "stream",
     "text": [
      "2022-04-04 23:49:31,438 - kedro.io.data_catalog - INFO - Saving data to `road_network_full_24645` (NetworkXDataSet)...\n"
     ]
    }
   ],
   "source": [
    "catalog.save(\"road_network_full_24645\", G_full)"
   ]
  },
  {
   "cell_type": "markdown",
   "metadata": {},
   "source": [
    "## Unpack road elements"
   ]
  },
  {
   "cell_type": "code",
   "execution_count": 134,
   "metadata": {},
   "outputs": [
    {
     "name": "stdout",
     "output_type": "stream",
     "text": [
      "2022-04-04 23:49:33,762 - kedro.io.data_catalog - INFO - Loading data from `road_network_full_24645` (NetworkXDataSet)...\n"
     ]
    }
   ],
   "source": [
    "G_full = catalog.load(\"road_network_full_24645\")\n",
    "node_list_full, edge_list_full = ox.graph_to_gdfs(G_full)\n",
    "node_list_full = node_list_full.reset_index()\n",
    "edge_list_full = edge_list_full.reset_index()\n",
    "node_list_full_xy = node_list_full.to_crs(\"EPSG:3414\").reset_index()\n",
    "edge_list_full_xy = edge_list_full.to_crs(\"EPSG:3414\").reset_index()"
   ]
  },
  {
   "cell_type": "code",
   "execution_count": 135,
   "metadata": {},
   "outputs": [],
   "source": [
    "node_list_full[\"index\"] = node_list_full[\"osmid\"]\n",
    "node_list_full_xy[\"index\"] = node_list_full_xy[\"osmid\"]"
   ]
  },
  {
   "cell_type": "markdown",
   "metadata": {},
   "source": [
    "Remove non-highway tags:"
   ]
  },
  {
   "cell_type": "code",
   "execution_count": 136,
   "metadata": {},
   "outputs": [
    {
     "name": "stdout",
     "output_type": "stream",
     "text": [
      "BEFORE: (33665, 8) (67613, 19)\n",
      "AFTER: (26008, 9) (48941, 19)\n",
      "BEFORE: (33665, 8) (67613, 20)\n",
      "AFTER: (26008, 9) (48941, 20)\n"
     ]
    }
   ],
   "source": [
    "def filter_highway(nodes, edges):\n",
    "    print(\"BEFORE:\", nodes.shape, edges.shape)\n",
    "    edges = edges.copy()\n",
    "    nodes = nodes.copy()\n",
    "    nodes[\"u\"] = nodes[\"index\"]\n",
    "    edges = edges.loc[~edges[\"highway\"].isna()]\n",
    "    nodes = nodes.loc[(nodes[\"u\"].isin(edges[\"u\"])) | (nodes[\"u\"].isin(edges[\"v\"]))]\n",
    "    print(\"AFTER:\", nodes.shape, edges.shape)\n",
    "    return nodes, edges\n",
    "\n",
    "\n",
    "nodes_list_full, edges_list_full = filter_highway(node_list_full, edge_list_full)\n",
    "node_list_full_xy, edge_list_full_xy = filter_highway(\n",
    "    node_list_full_xy, edge_list_full_xy\n",
    ")"
   ]
  },
  {
   "cell_type": "markdown",
   "metadata": {},
   "source": [
    "### Write files"
   ]
  },
  {
   "cell_type": "code",
   "execution_count": 110,
   "metadata": {},
   "outputs": [
    {
     "name": "stdout",
     "output_type": "stream",
     "text": [
      "2022-04-04 23:33:57,748 - kedro.framework.session.store - INFO - `read()` not implemented for `BaseSessionStore`. Assuming empty store.\n",
      "2022-04-04 23:33:57,908 - root - INFO - ** Kedro project Demand estimation and waste collection routing optimisation for the City of Cape Town\n",
      "2022-04-04 23:33:57,928 - root - INFO - Defined global variable `context`, `session` and `catalog`\n",
      "2022-04-04 23:33:57,938 - root - INFO - Registered line magic `run_viz`\n",
      "2022-04-04 23:33:57,955 - kedro.io.data_catalog - INFO - Saving data to `road_network_full_24645_nodes` (CSVDataSet)...\n",
      "2022-04-04 23:33:58,804 - kedro.io.data_catalog - INFO - Saving data to `road_network_full_24645_edges` (CSVDataSet)...\n",
      "2022-04-04 23:34:00,116 - kedro.io.data_catalog - INFO - Saving data to `road_network_full_24645_nodes_xy` (CSVDataSet)...\n",
      "2022-04-04 23:34:00,640 - kedro.io.data_catalog - INFO - Saving data to `road_network_full_24645_edges_xy` (CSVDataSet)...\n"
     ]
    }
   ],
   "source": [
    "%reload_kedro\n",
    "catalog.save(\"road_network_full_24645_nodes\", node_list_full)\n",
    "catalog.save(\"road_network_full_24645_edges\", edge_list_full)\n",
    "catalog.save(\"road_network_full_24645_nodes_xy\", node_list_full_xy)\n",
    "catalog.save(\"road_network_full_24645_edges_xy\", edge_list_full_xy)"
   ]
  },
  {
   "cell_type": "markdown",
   "metadata": {},
   "source": [
    "## Load and save simplified road network"
   ]
  },
  {
   "cell_type": "code",
   "execution_count": 111,
   "metadata": {},
   "outputs": [
    {
     "name": "stdout",
     "output_type": "stream",
     "text": [
      "CPU times: user 14.5 s, sys: 259 ms, total: 14.7 s\n",
      "Wall time: 14.9 s\n"
     ]
    }
   ],
   "source": [
    "%%time\n",
    "G_simplified = ox.graph_from_polygon(\n",
    "    geometry, custom_filter=custom_filter_SG, simplify=True\n",
    ")"
   ]
  },
  {
   "cell_type": "markdown",
   "metadata": {},
   "source": [
    "### Write file"
   ]
  },
  {
   "cell_type": "code",
   "execution_count": 112,
   "metadata": {},
   "outputs": [
    {
     "name": "stdout",
     "output_type": "stream",
     "text": [
      "2022-04-04 23:34:16,763 - kedro.framework.session.store - INFO - `read()` not implemented for `BaseSessionStore`. Assuming empty store.\n",
      "2022-04-04 23:34:16,875 - root - INFO - ** Kedro project Demand estimation and waste collection routing optimisation for the City of Cape Town\n",
      "2022-04-04 23:34:16,876 - root - INFO - Defined global variable `context`, `session` and `catalog`\n",
      "2022-04-04 23:34:16,885 - root - INFO - Registered line magic `run_viz`\n"
     ]
    }
   ],
   "source": [
    "%reload_kedro\n",
    "# catalog.save(\"road_network_simplified_24645\", G_simplified)\n",
    "# DataSetError: Failed while saving data to data set NetworkXDataSet(filepath=/Users/ejwillemse/dev/waste_labs_dev/project_rdi_cpt/data/02_intermediate/road_network/road_network_simplified_24645.json, load_args={}, protocol=file, save_args={}).\n",
    "# Object of type LineString is not JSON serializable"
   ]
  },
  {
   "cell_type": "code",
   "execution_count": 113,
   "metadata": {},
   "outputs": [],
   "source": [
    "node_list, edge_list = ox.graph_to_gdfs(G_simplified)\n",
    "node_list = node_list.reset_index()\n",
    "edge_list = edge_list.reset_index()\n",
    "node_list_xy = node_list.to_crs(\"EPSG:3414\")\n",
    "edge_list_xy = edge_list.to_crs(\"EPSG:3414\")"
   ]
  },
  {
   "cell_type": "code",
   "execution_count": 114,
   "metadata": {},
   "outputs": [],
   "source": [
    "node_list[\"index\"] = node_list[\"osmid\"]\n",
    "node_list_xy[\"index\"] = node_list_xy[\"osmid\"]"
   ]
  },
  {
   "cell_type": "code",
   "execution_count": 115,
   "metadata": {},
   "outputs": [
    {
     "name": "stdout",
     "output_type": "stream",
     "text": [
      "BEFORE: (8138, 8) (22165, 19)\n",
      "AFTER: (7088, 9) (16769, 19)\n",
      "BEFORE: (8138, 8) (22165, 19)\n",
      "AFTER: (7088, 9) (16769, 19)\n"
     ]
    }
   ],
   "source": [
    "nodes_list_full, edges_list_full = filter_highway(node_list, edge_list)\n",
    "node_list_full_xy, edge_list_full_xy = filter_highway(node_list_xy, edge_list_xy)"
   ]
  },
  {
   "cell_type": "markdown",
   "metadata": {},
   "source": [
    "## Write files"
   ]
  },
  {
   "cell_type": "code",
   "execution_count": 116,
   "metadata": {},
   "outputs": [
    {
     "name": "stdout",
     "output_type": "stream",
     "text": [
      "2022-04-04 23:34:20,496 - kedro.framework.session.store - INFO - `read()` not implemented for `BaseSessionStore`. Assuming empty store.\n",
      "2022-04-04 23:34:20,602 - root - INFO - ** Kedro project Demand estimation and waste collection routing optimisation for the City of Cape Town\n",
      "2022-04-04 23:34:20,604 - root - INFO - Defined global variable `context`, `session` and `catalog`\n",
      "2022-04-04 23:34:20,612 - root - INFO - Registered line magic `run_viz`\n",
      "2022-04-04 23:34:20,614 - kedro.io.data_catalog - INFO - Saving data to `road_network_simplified_24645_nodes` (CSVDataSet)...\n",
      "2022-04-04 23:34:20,755 - kedro.io.data_catalog - INFO - Saving data to `road_network_simplified_24645_edges` (CSVDataSet)...\n",
      "2022-04-04 23:34:21,182 - kedro.io.data_catalog - INFO - Saving data to `road_network_simplified_24645_nodes_xy` (CSVDataSet)...\n",
      "2022-04-04 23:34:21,314 - kedro.io.data_catalog - INFO - Saving data to `road_network_simplified_24645_edges_xy` (CSVDataSet)...\n"
     ]
    }
   ],
   "source": [
    "%reload_kedro\n",
    "catalog.save(\"road_network_simplified_24645_nodes\", node_list)\n",
    "catalog.save(\"road_network_simplified_24645_edges\", edge_list)\n",
    "catalog.save(\"road_network_simplified_24645_nodes_xy\", node_list_xy)\n",
    "catalog.save(\"road_network_simplified_24645_edges_xy\", edge_list_xy)"
   ]
  },
  {
   "cell_type": "markdown",
   "metadata": {},
   "source": [
    "## Save simplified directed edge list\n",
    "\n",
    "\n",
    "Requires external libraries:"
   ]
  },
  {
   "cell_type": "code",
   "execution_count": 147,
   "metadata": {},
   "outputs": [
    {
     "data": {
      "text/plain": [
       "(11163, 23)"
      ]
     },
     "execution_count": 147,
     "metadata": {},
     "output_type": "execute_result"
    }
   ],
   "source": [
    "edge_list_xy_direct = process_edges(edge_list_xy)\n",
    "edge_list_xy_direct = edge_list_xy_direct.drop_duplicates([\"geom_id_order\"])\n",
    "edge_list_xy_direct.shape"
   ]
  },
  {
   "cell_type": "code",
   "execution_count": 148,
   "metadata": {},
   "outputs": [
    {
     "data": {
      "text/plain": [
       "(22165, 19)"
      ]
     },
     "execution_count": 148,
     "metadata": {},
     "output_type": "execute_result"
    }
   ],
   "source": [
    "edge_list.shape"
   ]
  },
  {
   "cell_type": "code",
   "execution_count": 149,
   "metadata": {},
   "outputs": [
    {
     "data": {
      "text/plain": [
       "(11163, 23)"
      ]
     },
     "execution_count": 149,
     "metadata": {},
     "output_type": "execute_result"
    }
   ],
   "source": [
    "edge_list_direct = process_edges(edge_list)\n",
    "edge_list_direct = edge_list_direct.drop_duplicates([\"geom_id_order\"])\n",
    "edge_list_direct.shape"
   ]
  },
  {
   "cell_type": "markdown",
   "metadata": {},
   "source": [
    "### Write file"
   ]
  },
  {
   "cell_type": "code",
   "execution_count": 151,
   "metadata": {},
   "outputs": [
    {
     "name": "stdout",
     "output_type": "stream",
     "text": [
      "2022-04-05 00:13:35,243 - kedro.framework.session.store - INFO - `read()` not implemented for `BaseSessionStore`. Assuming empty store.\n",
      "2022-04-05 00:13:35,358 - root - INFO - ** Kedro project Demand estimation and waste collection routing optimisation for the City of Cape Town\n",
      "2022-04-05 00:13:35,359 - root - INFO - Defined global variable `context`, `session` and `catalog`\n",
      "2022-04-05 00:13:35,370 - root - INFO - Registered line magic `run_viz`\n",
      "2022-04-05 00:13:35,372 - kedro.io.data_catalog - INFO - Saving data to `road_network_simplified_24645_edges_directed` (GeoJSONDataSet)...\n"
     ]
    },
    {
     "ename": "DataSetError",
     "evalue": "Failed while saving data to data set GeoJSONDataSet(filepath=/Users/ejwillemse/dev/waste_labs_dev/project_rdi_cpt/data/02_intermediate/road_network_edges_directed/road_network_simplified_24645.geojson, load_args={}, protocol=file, save_args={'driver': GeoJSON}).\nInvalid field type <class 'list'>",
     "output_type": "error",
     "traceback": [
      "\u001b[0;31m---------------------------------------------------------------------------\u001b[0m",
      "\u001b[0;31mValueError\u001b[0m                                Traceback (most recent call last)",
      "\u001b[0;32m~/opt/anaconda3/envs/python_RD/lib/python3.8/site-packages/kedro/io/core.py\u001b[0m in \u001b[0;36msave\u001b[0;34m(self, data)\u001b[0m\n\u001b[1;32m    237\u001b[0m             \u001b[0mself\u001b[0m\u001b[0;34m.\u001b[0m\u001b[0m_logger\u001b[0m\u001b[0;34m.\u001b[0m\u001b[0mdebug\u001b[0m\u001b[0;34m(\u001b[0m\u001b[0;34m\"Saving %s\"\u001b[0m\u001b[0;34m,\u001b[0m \u001b[0mstr\u001b[0m\u001b[0;34m(\u001b[0m\u001b[0mself\u001b[0m\u001b[0;34m)\u001b[0m\u001b[0;34m)\u001b[0m\u001b[0;34m\u001b[0m\u001b[0;34m\u001b[0m\u001b[0m\n\u001b[0;32m--> 238\u001b[0;31m             \u001b[0mself\u001b[0m\u001b[0;34m.\u001b[0m\u001b[0m_save\u001b[0m\u001b[0;34m(\u001b[0m\u001b[0mdata\u001b[0m\u001b[0;34m)\u001b[0m\u001b[0;34m\u001b[0m\u001b[0;34m\u001b[0m\u001b[0m\n\u001b[0m\u001b[1;32m    239\u001b[0m         \u001b[0;32mexcept\u001b[0m \u001b[0mDataSetError\u001b[0m\u001b[0;34m:\u001b[0m\u001b[0;34m\u001b[0m\u001b[0;34m\u001b[0m\u001b[0m\n",
      "\u001b[0;32m~/opt/anaconda3/envs/python_RD/lib/python3.8/site-packages/kedro/extras/datasets/geopandas/geojson_dataset.py\u001b[0m in \u001b[0;36m_save\u001b[0;34m(self, data)\u001b[0m\n\u001b[1;32m    154\u001b[0m         \u001b[0;32mwith\u001b[0m \u001b[0mself\u001b[0m\u001b[0;34m.\u001b[0m\u001b[0m_fs\u001b[0m\u001b[0;34m.\u001b[0m\u001b[0mopen\u001b[0m\u001b[0;34m(\u001b[0m\u001b[0msave_path\u001b[0m\u001b[0;34m,\u001b[0m \u001b[0;34m**\u001b[0m\u001b[0mself\u001b[0m\u001b[0;34m.\u001b[0m\u001b[0m_fs_open_args_save\u001b[0m\u001b[0;34m)\u001b[0m \u001b[0;32mas\u001b[0m \u001b[0mfs_file\u001b[0m\u001b[0;34m:\u001b[0m\u001b[0;34m\u001b[0m\u001b[0;34m\u001b[0m\u001b[0m\n\u001b[0;32m--> 155\u001b[0;31m             \u001b[0mdata\u001b[0m\u001b[0;34m.\u001b[0m\u001b[0mto_file\u001b[0m\u001b[0;34m(\u001b[0m\u001b[0mfs_file\u001b[0m\u001b[0;34m,\u001b[0m \u001b[0;34m**\u001b[0m\u001b[0mself\u001b[0m\u001b[0;34m.\u001b[0m\u001b[0m_save_args\u001b[0m\u001b[0;34m)\u001b[0m\u001b[0;34m\u001b[0m\u001b[0;34m\u001b[0m\u001b[0m\n\u001b[0m\u001b[1;32m    156\u001b[0m         \u001b[0mself\u001b[0m\u001b[0;34m.\u001b[0m\u001b[0minvalidate_cache\u001b[0m\u001b[0;34m(\u001b[0m\u001b[0;34m)\u001b[0m\u001b[0;34m\u001b[0m\u001b[0;34m\u001b[0m\u001b[0m\n",
      "\u001b[0;32m~/opt/anaconda3/envs/python_RD/lib/python3.8/site-packages/geopandas/geodataframe.py\u001b[0m in \u001b[0;36mto_file\u001b[0;34m(self, filename, driver, schema, index, **kwargs)\u001b[0m\n\u001b[1;32m   1113\u001b[0m \u001b[0;34m\u001b[0m\u001b[0m\n\u001b[0;32m-> 1114\u001b[0;31m         \u001b[0m_to_file\u001b[0m\u001b[0;34m(\u001b[0m\u001b[0mself\u001b[0m\u001b[0;34m,\u001b[0m \u001b[0mfilename\u001b[0m\u001b[0;34m,\u001b[0m \u001b[0mdriver\u001b[0m\u001b[0;34m,\u001b[0m \u001b[0mschema\u001b[0m\u001b[0;34m,\u001b[0m \u001b[0mindex\u001b[0m\u001b[0;34m,\u001b[0m \u001b[0;34m**\u001b[0m\u001b[0mkwargs\u001b[0m\u001b[0;34m)\u001b[0m\u001b[0;34m\u001b[0m\u001b[0;34m\u001b[0m\u001b[0m\n\u001b[0m\u001b[1;32m   1115\u001b[0m \u001b[0;34m\u001b[0m\u001b[0m\n",
      "\u001b[0;32m~/opt/anaconda3/envs/python_RD/lib/python3.8/site-packages/geopandas/io/file.py\u001b[0m in \u001b[0;36m_to_file\u001b[0;34m(df, filename, driver, schema, index, mode, crs, **kwargs)\u001b[0m\n\u001b[1;32m    395\u001b[0m         ) as colxn:\n\u001b[0;32m--> 396\u001b[0;31m             \u001b[0mcolxn\u001b[0m\u001b[0;34m.\u001b[0m\u001b[0mwriterecords\u001b[0m\u001b[0;34m(\u001b[0m\u001b[0mdf\u001b[0m\u001b[0;34m.\u001b[0m\u001b[0miterfeatures\u001b[0m\u001b[0;34m(\u001b[0m\u001b[0;34m)\u001b[0m\u001b[0;34m)\u001b[0m\u001b[0;34m\u001b[0m\u001b[0;34m\u001b[0m\u001b[0m\n\u001b[0m\u001b[1;32m    397\u001b[0m \u001b[0;34m\u001b[0m\u001b[0m\n",
      "\u001b[0;32m~/opt/anaconda3/envs/python_RD/lib/python3.8/site-packages/fiona/collection.py\u001b[0m in \u001b[0;36mwriterecords\u001b[0;34m(self, records)\u001b[0m\n\u001b[1;32m    360\u001b[0m             \u001b[0;32mraise\u001b[0m \u001b[0mIOError\u001b[0m\u001b[0;34m(\u001b[0m\u001b[0;34m\"collection not open for writing\"\u001b[0m\u001b[0;34m)\u001b[0m\u001b[0;34m\u001b[0m\u001b[0;34m\u001b[0m\u001b[0m\n\u001b[0;32m--> 361\u001b[0;31m         \u001b[0mself\u001b[0m\u001b[0;34m.\u001b[0m\u001b[0msession\u001b[0m\u001b[0;34m.\u001b[0m\u001b[0mwriterecs\u001b[0m\u001b[0;34m(\u001b[0m\u001b[0mrecords\u001b[0m\u001b[0;34m,\u001b[0m \u001b[0mself\u001b[0m\u001b[0;34m)\u001b[0m\u001b[0;34m\u001b[0m\u001b[0;34m\u001b[0m\u001b[0m\n\u001b[0m\u001b[1;32m    362\u001b[0m         \u001b[0mself\u001b[0m\u001b[0;34m.\u001b[0m\u001b[0m_len\u001b[0m \u001b[0;34m=\u001b[0m \u001b[0mself\u001b[0m\u001b[0;34m.\u001b[0m\u001b[0msession\u001b[0m\u001b[0;34m.\u001b[0m\u001b[0mget_length\u001b[0m\u001b[0;34m(\u001b[0m\u001b[0;34m)\u001b[0m\u001b[0;34m\u001b[0m\u001b[0;34m\u001b[0m\u001b[0m\n",
      "\u001b[0;32mfiona/ogrext.pyx\u001b[0m in \u001b[0;36mfiona.ogrext.WritingSession.writerecs\u001b[0;34m()\u001b[0m\n",
      "\u001b[0;32mfiona/ogrext.pyx\u001b[0m in \u001b[0;36mfiona.ogrext.OGRFeatureBuilder.build\u001b[0;34m()\u001b[0m\n",
      "\u001b[0;31mValueError\u001b[0m: Invalid field type <class 'list'>",
      "\nThe above exception was the direct cause of the following exception:\n",
      "\u001b[0;31mDataSetError\u001b[0m                              Traceback (most recent call last)",
      "\u001b[0;32m/var/folders/dy/_xqj_wpj3jl0lgk31f6ytns00000gp/T/ipykernel_94974/1905290472.py\u001b[0m in \u001b[0;36m<module>\u001b[0;34m\u001b[0m\n\u001b[1;32m      1\u001b[0m \u001b[0mget_ipython\u001b[0m\u001b[0;34m(\u001b[0m\u001b[0;34m)\u001b[0m\u001b[0;34m.\u001b[0m\u001b[0mrun_line_magic\u001b[0m\u001b[0;34m(\u001b[0m\u001b[0;34m'reload_kedro'\u001b[0m\u001b[0;34m,\u001b[0m \u001b[0;34m''\u001b[0m\u001b[0;34m)\u001b[0m\u001b[0;34m\u001b[0m\u001b[0;34m\u001b[0m\u001b[0m\n\u001b[0;32m----> 2\u001b[0;31m \u001b[0mcatalog\u001b[0m\u001b[0;34m.\u001b[0m\u001b[0msave\u001b[0m\u001b[0;34m(\u001b[0m\u001b[0;34m\"road_network_simplified_24645_edges_directed\"\u001b[0m\u001b[0;34m,\u001b[0m \u001b[0medge_list_direct\u001b[0m\u001b[0;34m)\u001b[0m\u001b[0;34m\u001b[0m\u001b[0;34m\u001b[0m\u001b[0m\n\u001b[0m\u001b[1;32m      3\u001b[0m \u001b[0mcatalog\u001b[0m\u001b[0;34m.\u001b[0m\u001b[0msave\u001b[0m\u001b[0;34m(\u001b[0m\u001b[0;34m\"road_network_simplified_24645_edges_xy_directed\"\u001b[0m\u001b[0;34m,\u001b[0m \u001b[0medge_list_xy_direct\u001b[0m\u001b[0;34m)\u001b[0m\u001b[0;34m\u001b[0m\u001b[0;34m\u001b[0m\u001b[0m\n",
      "\u001b[0;32m~/opt/anaconda3/envs/python_RD/lib/python3.8/site-packages/kedro/io/data_catalog.py\u001b[0m in \u001b[0;36msave\u001b[0;34m(self, name, data)\u001b[0m\n\u001b[1;32m    447\u001b[0m \u001b[0;34m\u001b[0m\u001b[0m\n\u001b[1;32m    448\u001b[0m         \u001b[0mfunc\u001b[0m \u001b[0;34m=\u001b[0m \u001b[0mself\u001b[0m\u001b[0;34m.\u001b[0m\u001b[0m_get_transformed_dataset_function\u001b[0m\u001b[0;34m(\u001b[0m\u001b[0mname\u001b[0m\u001b[0;34m,\u001b[0m \u001b[0;34m\"save\"\u001b[0m\u001b[0;34m,\u001b[0m \u001b[0mdataset\u001b[0m\u001b[0;34m)\u001b[0m\u001b[0;34m\u001b[0m\u001b[0;34m\u001b[0m\u001b[0m\n\u001b[0;32m--> 449\u001b[0;31m         \u001b[0mfunc\u001b[0m\u001b[0;34m(\u001b[0m\u001b[0mdata\u001b[0m\u001b[0;34m)\u001b[0m\u001b[0;34m\u001b[0m\u001b[0;34m\u001b[0m\u001b[0m\n\u001b[0m\u001b[1;32m    450\u001b[0m \u001b[0;34m\u001b[0m\u001b[0m\n\u001b[1;32m    451\u001b[0m         version = (\n",
      "\u001b[0;32m~/opt/anaconda3/envs/python_RD/lib/python3.8/site-packages/kedro/io/core.py\u001b[0m in \u001b[0;36msave\u001b[0;34m(self, data)\u001b[0m\n\u001b[1;32m    623\u001b[0m         \u001b[0msave_version\u001b[0m \u001b[0;34m=\u001b[0m \u001b[0mself\u001b[0m\u001b[0;34m.\u001b[0m\u001b[0mresolve_save_version\u001b[0m\u001b[0;34m(\u001b[0m\u001b[0;34m)\u001b[0m  \u001b[0;31m# Make sure last save version is set\u001b[0m\u001b[0;34m\u001b[0m\u001b[0;34m\u001b[0m\u001b[0m\n\u001b[1;32m    624\u001b[0m         \u001b[0;32mtry\u001b[0m\u001b[0;34m:\u001b[0m\u001b[0;34m\u001b[0m\u001b[0;34m\u001b[0m\u001b[0m\n\u001b[0;32m--> 625\u001b[0;31m             \u001b[0msuper\u001b[0m\u001b[0;34m(\u001b[0m\u001b[0;34m)\u001b[0m\u001b[0;34m.\u001b[0m\u001b[0msave\u001b[0m\u001b[0;34m(\u001b[0m\u001b[0mdata\u001b[0m\u001b[0;34m)\u001b[0m\u001b[0;34m\u001b[0m\u001b[0;34m\u001b[0m\u001b[0m\n\u001b[0m\u001b[1;32m    626\u001b[0m         \u001b[0;32mexcept\u001b[0m \u001b[0;34m(\u001b[0m\u001b[0mFileNotFoundError\u001b[0m\u001b[0;34m,\u001b[0m \u001b[0mNotADirectoryError\u001b[0m\u001b[0;34m)\u001b[0m \u001b[0;32mas\u001b[0m \u001b[0merr\u001b[0m\u001b[0;34m:\u001b[0m\u001b[0;34m\u001b[0m\u001b[0;34m\u001b[0m\u001b[0m\n\u001b[1;32m    627\u001b[0m             \u001b[0;31m# FileNotFoundError raised in Win, NotADirectoryError raised in Unix\u001b[0m\u001b[0;34m\u001b[0m\u001b[0;34m\u001b[0m\u001b[0;34m\u001b[0m\u001b[0m\n",
      "\u001b[0;32m~/opt/anaconda3/envs/python_RD/lib/python3.8/site-packages/kedro/io/core.py\u001b[0m in \u001b[0;36msave\u001b[0;34m(self, data)\u001b[0m\n\u001b[1;32m    243\u001b[0m         \u001b[0;32mexcept\u001b[0m \u001b[0mException\u001b[0m \u001b[0;32mas\u001b[0m \u001b[0mexc\u001b[0m\u001b[0;34m:\u001b[0m\u001b[0;34m\u001b[0m\u001b[0;34m\u001b[0m\u001b[0m\n\u001b[1;32m    244\u001b[0m             \u001b[0mmessage\u001b[0m \u001b[0;34m=\u001b[0m \u001b[0;34mf\"Failed while saving data to data set {str(self)}.\\n{str(exc)}\"\u001b[0m\u001b[0;34m\u001b[0m\u001b[0;34m\u001b[0m\u001b[0m\n\u001b[0;32m--> 245\u001b[0;31m             \u001b[0;32mraise\u001b[0m \u001b[0mDataSetError\u001b[0m\u001b[0;34m(\u001b[0m\u001b[0mmessage\u001b[0m\u001b[0;34m)\u001b[0m \u001b[0;32mfrom\u001b[0m \u001b[0mexc\u001b[0m\u001b[0;34m\u001b[0m\u001b[0;34m\u001b[0m\u001b[0m\n\u001b[0m\u001b[1;32m    246\u001b[0m \u001b[0;34m\u001b[0m\u001b[0m\n\u001b[1;32m    247\u001b[0m     \u001b[0;32mdef\u001b[0m \u001b[0m__str__\u001b[0m\u001b[0;34m(\u001b[0m\u001b[0mself\u001b[0m\u001b[0;34m)\u001b[0m\u001b[0;34m:\u001b[0m\u001b[0;34m\u001b[0m\u001b[0;34m\u001b[0m\u001b[0m\n",
      "\u001b[0;31mDataSetError\u001b[0m: Failed while saving data to data set GeoJSONDataSet(filepath=/Users/ejwillemse/dev/waste_labs_dev/project_rdi_cpt/data/02_intermediate/road_network_edges_directed/road_network_simplified_24645.geojson, load_args={}, protocol=file, save_args={'driver': GeoJSON}).\nInvalid field type <class 'list'>"
     ]
    }
   ],
   "source": [
    "%reload_kedro\n",
    "catalog.save(\"road_network_simplified_24645_edges_directed\", edge_list_direct)\n",
    "catalog.save(\"road_network_simplified_24645_edges_xy_directed\", edge_list_xy_direct)"
   ]
  },
  {
   "cell_type": "markdown",
   "metadata": {},
   "source": [
    "## ANNEX: Future code for converting back into Graph"
   ]
  },
  {
   "cell_type": "code",
   "execution_count": 117,
   "metadata": {},
   "outputs": [],
   "source": [
    "node_list_full = gpd.GeoDataFrame(node_list_full, geometry=\"geometry\", crs=\"EPSG:4326\")\n",
    "node_list_full = node_list_full.set_index(\"index\")\n",
    "edge_list_full = gpd.GeoDataFrame(edge_list_full, geometry=\"geometry\", crs=\"EPSG:4326\")"
   ]
  },
  {
   "cell_type": "code",
   "execution_count": 121,
   "metadata": {},
   "outputs": [],
   "source": [
    "edge_list_full = edge_list_full.set_index([\"u\", \"v\", \"key\"])"
   ]
  },
  {
   "cell_type": "code",
   "execution_count": 123,
   "metadata": {},
   "outputs": [],
   "source": [
    "G_full_red = ox.graph_from_gdfs(\n",
    "    node_list_full,\n",
    "    edge_list_full,\n",
    ")"
   ]
  },
  {
   "cell_type": "code",
   "execution_count": 124,
   "metadata": {},
   "outputs": [
    {
     "data": {
      "text/plain": [
       "33665"
      ]
     },
     "execution_count": 124,
     "metadata": {},
     "output_type": "execute_result"
    }
   ],
   "source": [
    "len([node for node in G_full_red.nodes if type(node) is not dict])"
   ]
  }
 ],
 "metadata": {
  "kernelspec": {
   "display_name": "DemandestimationandwastecollectionroutingoptimisationfortheCityofCapeTown",
   "language": "python",
   "name": "python3"
  },
  "language_info": {
   "codemirror_mode": {
    "name": "ipython",
    "version": 3
   },
   "file_extension": ".py",
   "mimetype": "text/x-python",
   "name": "python",
   "nbconvert_exporter": "python",
   "pygments_lexer": "ipython3",
   "version": "3.8.12"
  }
 },
 "nbformat": 4,
 "nbformat_minor": 4
}
